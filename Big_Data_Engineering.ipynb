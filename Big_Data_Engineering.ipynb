{
  "nbformat": 4,
  "nbformat_minor": 0,
  "metadata": {
    "colab": {
      "provenance": [],
      "authorship_tag": "ABX9TyPqy3u/eZhbim/XvmGvWnAt",
      "include_colab_link": true
    },
    "kernelspec": {
      "name": "python3",
      "display_name": "Python 3"
    },
    "language_info": {
      "name": "python"
    }
  },
  "cells": [
    {
      "cell_type": "markdown",
      "metadata": {
        "id": "view-in-github",
        "colab_type": "text"
      },
      "source": [
        "<a href=\"https://colab.research.google.com/github/AdvaySharma147/College_Experiments/blob/main/Big_Data_Engineering.ipynb\" target=\"_parent\"><img src=\"https://colab.research.google.com/assets/colab-badge.svg\" alt=\"Open In Colab\"/></a>"
      ]
    },
    {
      "cell_type": "markdown",
      "source": [
        "# Experiment 5"
      ],
      "metadata": {
        "id": "0VTcF_nAeKPl"
      }
    },
    {
      "cell_type": "markdown",
      "source": [
        "**Installation**"
      ],
      "metadata": {
        "id": "_gOzf74qkZq7"
      }
    },
    {
      "cell_type": "code",
      "execution_count": null,
      "metadata": {
        "colab": {
          "base_uri": "https://localhost:8080/"
        },
        "id": "2bLr2ayxeABU",
        "outputId": "9f56c4ca-3ac4-45f3-9b78-abc2027d0b21"
      },
      "outputs": [
        {
          "output_type": "stream",
          "name": "stdout",
          "text": [
            "Requirement already satisfied: pyspark in /usr/local/lib/python3.10/dist-packages (3.5.2)\n",
            "Requirement already satisfied: py4j==0.10.9.7 in /usr/local/lib/python3.10/dist-packages (from pyspark) (0.10.9.7)\n"
          ]
        }
      ],
      "source": [
        "!pip install pyspark"
      ]
    },
    {
      "cell_type": "code",
      "source": [
        "# Spark SQL\n",
        "!pip install pyspark[sql]\n",
        "# pandas API on Spark\n",
        "!pip install pyspark[pandas_on_spark] plotly  # to plot your data, you can install plotly together.\n",
        "# Spark Connect\n",
        "!pip install pyspark[connect]"
      ],
      "metadata": {
        "colab": {
          "base_uri": "https://localhost:8080/"
        },
        "id": "A-AnWpHSecYN",
        "outputId": "be987baa-109b-49b5-ba8b-5a061741fd19"
      },
      "execution_count": null,
      "outputs": [
        {
          "output_type": "stream",
          "name": "stdout",
          "text": [
            "Requirement already satisfied: pyspark[sql] in /usr/local/lib/python3.10/dist-packages (3.5.2)\n",
            "Requirement already satisfied: py4j==0.10.9.7 in /usr/local/lib/python3.10/dist-packages (from pyspark[sql]) (0.10.9.7)\n",
            "Requirement already satisfied: pandas>=1.0.5 in /usr/local/lib/python3.10/dist-packages (from pyspark[sql]) (2.1.4)\n",
            "Requirement already satisfied: pyarrow>=4.0.0 in /usr/local/lib/python3.10/dist-packages (from pyspark[sql]) (14.0.2)\n",
            "Requirement already satisfied: numpy<2,>=1.15 in /usr/local/lib/python3.10/dist-packages (from pyspark[sql]) (1.26.4)\n",
            "Requirement already satisfied: python-dateutil>=2.8.2 in /usr/local/lib/python3.10/dist-packages (from pandas>=1.0.5->pyspark[sql]) (2.8.2)\n",
            "Requirement already satisfied: pytz>=2020.1 in /usr/local/lib/python3.10/dist-packages (from pandas>=1.0.5->pyspark[sql]) (2024.1)\n",
            "Requirement already satisfied: tzdata>=2022.1 in /usr/local/lib/python3.10/dist-packages (from pandas>=1.0.5->pyspark[sql]) (2024.1)\n",
            "Requirement already satisfied: six>=1.5 in /usr/local/lib/python3.10/dist-packages (from python-dateutil>=2.8.2->pandas>=1.0.5->pyspark[sql]) (1.16.0)\n",
            "Requirement already satisfied: plotly in /usr/local/lib/python3.10/dist-packages (5.15.0)\n",
            "Requirement already satisfied: pyspark[pandas_on_spark] in /usr/local/lib/python3.10/dist-packages (3.5.2)\n",
            "Requirement already satisfied: py4j==0.10.9.7 in /usr/local/lib/python3.10/dist-packages (from pyspark[pandas_on_spark]) (0.10.9.7)\n",
            "Requirement already satisfied: pandas>=1.0.5 in /usr/local/lib/python3.10/dist-packages (from pyspark[pandas_on_spark]) (2.1.4)\n",
            "Requirement already satisfied: pyarrow>=4.0.0 in /usr/local/lib/python3.10/dist-packages (from pyspark[pandas_on_spark]) (14.0.2)\n",
            "Requirement already satisfied: numpy<2,>=1.15 in /usr/local/lib/python3.10/dist-packages (from pyspark[pandas_on_spark]) (1.26.4)\n",
            "Requirement already satisfied: tenacity>=6.2.0 in /usr/local/lib/python3.10/dist-packages (from plotly) (9.0.0)\n",
            "Requirement already satisfied: packaging in /usr/local/lib/python3.10/dist-packages (from plotly) (24.1)\n",
            "Requirement already satisfied: python-dateutil>=2.8.2 in /usr/local/lib/python3.10/dist-packages (from pandas>=1.0.5->pyspark[pandas_on_spark]) (2.8.2)\n",
            "Requirement already satisfied: pytz>=2020.1 in /usr/local/lib/python3.10/dist-packages (from pandas>=1.0.5->pyspark[pandas_on_spark]) (2024.1)\n",
            "Requirement already satisfied: tzdata>=2022.1 in /usr/local/lib/python3.10/dist-packages (from pandas>=1.0.5->pyspark[pandas_on_spark]) (2024.1)\n",
            "Requirement already satisfied: six>=1.5 in /usr/local/lib/python3.10/dist-packages (from python-dateutil>=2.8.2->pandas>=1.0.5->pyspark[pandas_on_spark]) (1.16.0)\n",
            "Requirement already satisfied: pyspark[connect] in /usr/local/lib/python3.10/dist-packages (3.5.2)\n",
            "Requirement already satisfied: py4j==0.10.9.7 in /usr/local/lib/python3.10/dist-packages (from pyspark[connect]) (0.10.9.7)\n",
            "Requirement already satisfied: pandas>=1.0.5 in /usr/local/lib/python3.10/dist-packages (from pyspark[connect]) (2.1.4)\n",
            "Requirement already satisfied: pyarrow>=4.0.0 in /usr/local/lib/python3.10/dist-packages (from pyspark[connect]) (14.0.2)\n",
            "Requirement already satisfied: grpcio>=1.56.0 in /usr/local/lib/python3.10/dist-packages (from pyspark[connect]) (1.66.1)\n",
            "Requirement already satisfied: grpcio-status>=1.56.0 in /usr/local/lib/python3.10/dist-packages (from pyspark[connect]) (1.66.1)\n",
            "Requirement already satisfied: googleapis-common-protos>=1.56.4 in /usr/local/lib/python3.10/dist-packages (from pyspark[connect]) (1.65.0)\n",
            "Requirement already satisfied: numpy<2,>=1.15 in /usr/local/lib/python3.10/dist-packages (from pyspark[connect]) (1.26.4)\n",
            "Requirement already satisfied: protobuf!=3.20.0,!=3.20.1,!=4.21.1,!=4.21.2,!=4.21.3,!=4.21.4,!=4.21.5,<6.0.0.dev0,>=3.20.2 in /usr/local/lib/python3.10/dist-packages (from googleapis-common-protos>=1.56.4->pyspark[connect]) (5.28.1)\n",
            "Requirement already satisfied: python-dateutil>=2.8.2 in /usr/local/lib/python3.10/dist-packages (from pandas>=1.0.5->pyspark[connect]) (2.8.2)\n",
            "Requirement already satisfied: pytz>=2020.1 in /usr/local/lib/python3.10/dist-packages (from pandas>=1.0.5->pyspark[connect]) (2024.1)\n",
            "Requirement already satisfied: tzdata>=2022.1 in /usr/local/lib/python3.10/dist-packages (from pandas>=1.0.5->pyspark[connect]) (2024.1)\n",
            "Requirement already satisfied: six>=1.5 in /usr/local/lib/python3.10/dist-packages (from python-dateutil>=2.8.2->pandas>=1.0.5->pyspark[connect]) (1.16.0)\n"
          ]
        }
      ]
    },
    {
      "cell_type": "code",
      "source": [
        "PYSPARK_RELEASE_MIRROR= 'http://mirror.apache-kr.org'\n",
        "PYSPARK_HADOOP_VERSION=3\n",
        "!pip install pyspark -v"
      ],
      "metadata": {
        "colab": {
          "base_uri": "https://localhost:8080/"
        },
        "id": "5tjpK3BffKct",
        "outputId": "55c0436d-a60e-47d4-fab8-36d855a5efa9"
      },
      "execution_count": null,
      "outputs": [
        {
          "output_type": "stream",
          "name": "stdout",
          "text": [
            "Using pip 24.1.2 from /usr/local/lib/python3.10/dist-packages/pip (python 3.10)\n",
            "Requirement already satisfied: pyspark in /usr/local/lib/python3.10/dist-packages (3.5.2)\n",
            "Requirement already satisfied: py4j==0.10.9.7 in /usr/local/lib/python3.10/dist-packages (from pyspark) (0.10.9.7)\n"
          ]
        }
      ]
    },
    {
      "cell_type": "code",
      "source": [
        "!pip install 'pyarrow>=4.0.0' --prefer-binary"
      ],
      "metadata": {
        "colab": {
          "base_uri": "https://localhost:8080/"
        },
        "id": "9gAfTPExfuo-",
        "outputId": "b4565187-4d3f-430f-cd57-e587c4066195"
      },
      "execution_count": null,
      "outputs": [
        {
          "output_type": "stream",
          "name": "stdout",
          "text": [
            "Requirement already satisfied: pyarrow>=4.0.0 in /usr/local/lib/python3.10/dist-packages (14.0.2)\n",
            "Requirement already satisfied: numpy>=1.16.6 in /usr/local/lib/python3.10/dist-packages (from pyarrow>=4.0.0) (1.26.4)\n"
          ]
        }
      ]
    },
    {
      "cell_type": "markdown",
      "source": [
        "**Dataframe Creation**"
      ],
      "metadata": {
        "id": "tF6xLQBLkiO6"
      }
    },
    {
      "cell_type": "code",
      "source": [
        "from pyspark.sql import SparkSession\n",
        "\n",
        "# Build Spark session with local master\n",
        "spark = SparkSession.builder.master(\"local[*]\").appName(\"SparkSessionExample\").getOrCreate()\n"
      ],
      "metadata": {
        "id": "SYBdV4ejg0zT"
      },
      "execution_count": null,
      "outputs": []
    },
    {
      "cell_type": "code",
      "source": [
        "from datetime import datetime, date\n",
        "import pandas as pd\n",
        "from pyspark.sql import Row"
      ],
      "metadata": {
        "id": "GJ2F8zExhuLr"
      },
      "execution_count": null,
      "outputs": []
    },
    {
      "cell_type": "code",
      "source": [
        "df = spark.createDataFrame([\n",
        "    Row(a=1, b=2., c='string1', d=date(2000, 1, 1), e=datetime(2000, 1, 1, 12, 0)),\n",
        "    Row(a=2, b=3., c='string2', d=date(2000, 2, 1), e=datetime(2000, 1, 2, 12, 0)),\n",
        "    Row(a=4, b=5., c='string3', d=date(2000, 3, 1), e=datetime(2000, 1, 3, 12, 0))\n",
        "])"
      ],
      "metadata": {
        "id": "OJuYDnVAh16i"
      },
      "execution_count": null,
      "outputs": []
    },
    {
      "cell_type": "code",
      "source": [
        "df"
      ],
      "metadata": {
        "id": "itQpc_HOh5AG",
        "colab": {
          "base_uri": "https://localhost:8080/"
        },
        "outputId": "d7d3bbbc-d714-4f77-c76c-0f58450f28b2"
      },
      "execution_count": null,
      "outputs": [
        {
          "output_type": "execute_result",
          "data": {
            "text/plain": [
              "DataFrame[a: bigint, b: double, c: string, d: date, e: timestamp]"
            ]
          },
          "metadata": {},
          "execution_count": 8
        }
      ]
    },
    {
      "cell_type": "code",
      "source": [
        "df = spark.createDataFrame([\n",
        "    (1, 2., 'string1', date(2000, 1, 1), datetime(2000, 1, 1, 12, 0)),\n",
        "    (2, 3., 'string2', date(2000, 2, 1), datetime(2000, 1, 2, 12, 0)),\n",
        "    (3, 4., 'string3', date(2000, 3, 1), datetime(2000, 1, 3, 12, 0))\n",
        "], schema='a long, b double, c string, d date, e timestamp')"
      ],
      "metadata": {
        "id": "UEyP7Hd5h7cp"
      },
      "execution_count": null,
      "outputs": []
    },
    {
      "cell_type": "code",
      "source": [
        "df"
      ],
      "metadata": {
        "id": "rljtPAXFigCf",
        "colab": {
          "base_uri": "https://localhost:8080/"
        },
        "outputId": "521bdf70-4ec4-4ea6-b40a-41fb80144334"
      },
      "execution_count": null,
      "outputs": [
        {
          "output_type": "execute_result",
          "data": {
            "text/plain": [
              "DataFrame[a: bigint, b: double, c: string, d: date, e: timestamp]"
            ]
          },
          "metadata": {},
          "execution_count": 10
        }
      ]
    },
    {
      "cell_type": "code",
      "source": [
        "pandas_df = pd.DataFrame({\n",
        "    'a': [1, 2, 3],\n",
        "    'b': [2., 3., 4.],\n",
        "    'c': ['string1', 'string2', 'string3'],\n",
        "    'd': [date(2000, 1, 1), date(2000, 2, 1), date(2000, 3, 1)],\n",
        "    'e': [datetime(2000, 1, 1, 12, 0), datetime(2000, 1, 2, 12, 0), datetime(2000, 1, 3, 12, 0)]\n",
        "})"
      ],
      "metadata": {
        "id": "gjFi_GeIigy2"
      },
      "execution_count": null,
      "outputs": []
    },
    {
      "cell_type": "code",
      "source": [
        "df = spark.createDataFrame(pandas_df)\n",
        "df"
      ],
      "metadata": {
        "id": "dJfivT26i42r",
        "colab": {
          "base_uri": "https://localhost:8080/"
        },
        "outputId": "a18262fa-f23b-4012-a5fb-ba2b8e388471"
      },
      "execution_count": null,
      "outputs": [
        {
          "output_type": "execute_result",
          "data": {
            "text/plain": [
              "DataFrame[a: bigint, b: double, c: string, d: date, e: timestamp]"
            ]
          },
          "metadata": {},
          "execution_count": 12
        }
      ]
    },
    {
      "cell_type": "code",
      "source": [
        "# All DataFrames above result same.\n",
        "df.show()\n",
        "df.printSchema()"
      ],
      "metadata": {
        "id": "hTLJswnQi6hY",
        "colab": {
          "base_uri": "https://localhost:8080/"
        },
        "outputId": "b32c2f8b-3e07-46b2-b947-dbac3a9b7538"
      },
      "execution_count": null,
      "outputs": [
        {
          "output_type": "stream",
          "name": "stdout",
          "text": [
            "+---+---+-------+----------+-------------------+\n",
            "|  a|  b|      c|         d|                  e|\n",
            "+---+---+-------+----------+-------------------+\n",
            "|  1|2.0|string1|2000-01-01|2000-01-01 12:00:00|\n",
            "|  2|3.0|string2|2000-02-01|2000-01-02 12:00:00|\n",
            "|  3|4.0|string3|2000-03-01|2000-01-03 12:00:00|\n",
            "+---+---+-------+----------+-------------------+\n",
            "\n",
            "root\n",
            " |-- a: long (nullable = true)\n",
            " |-- b: double (nullable = true)\n",
            " |-- c: string (nullable = true)\n",
            " |-- d: date (nullable = true)\n",
            " |-- e: timestamp (nullable = true)\n",
            "\n"
          ]
        }
      ]
    },
    {
      "cell_type": "markdown",
      "source": [
        "**Viewing Data**"
      ],
      "metadata": {
        "id": "g8hWHYJ0k2fU"
      }
    },
    {
      "cell_type": "code",
      "source": [
        "df.show(1)"
      ],
      "metadata": {
        "id": "f09eLybVkCbI",
        "colab": {
          "base_uri": "https://localhost:8080/"
        },
        "outputId": "b5314a4e-0171-4c85-e03f-6277f79901f8"
      },
      "execution_count": null,
      "outputs": [
        {
          "output_type": "stream",
          "name": "stdout",
          "text": [
            "+---+---+-------+----------+-------------------+\n",
            "|  a|  b|      c|         d|                  e|\n",
            "+---+---+-------+----------+-------------------+\n",
            "|  1|2.0|string1|2000-01-01|2000-01-01 12:00:00|\n",
            "+---+---+-------+----------+-------------------+\n",
            "only showing top 1 row\n",
            "\n"
          ]
        }
      ]
    },
    {
      "cell_type": "code",
      "source": [
        "spark.conf.set('spark.sql.repl.eagerEval.enabled', True)\n",
        "df"
      ],
      "metadata": {
        "id": "sKktPT1_k8Ic",
        "colab": {
          "base_uri": "https://localhost:8080/",
          "height": 110
        },
        "outputId": "9ea57f9e-e9bb-4b59-8fe6-fbc6c5cddf85"
      },
      "execution_count": null,
      "outputs": [
        {
          "output_type": "execute_result",
          "data": {
            "text/plain": [
              "DataFrame[a: bigint, b: double, c: string, d: date, e: timestamp]"
            ],
            "text/html": [
              "<table border='1'>\n",
              "<tr><th>a</th><th>b</th><th>c</th><th>d</th><th>e</th></tr>\n",
              "<tr><td>1</td><td>2.0</td><td>string1</td><td>2000-01-01</td><td>2000-01-01 12:00:00</td></tr>\n",
              "<tr><td>2</td><td>3.0</td><td>string2</td><td>2000-02-01</td><td>2000-01-02 12:00:00</td></tr>\n",
              "<tr><td>3</td><td>4.0</td><td>string3</td><td>2000-03-01</td><td>2000-01-03 12:00:00</td></tr>\n",
              "</table>\n"
            ]
          },
          "metadata": {},
          "execution_count": 15
        }
      ]
    },
    {
      "cell_type": "code",
      "source": [
        "df.show(1, vertical=True)"
      ],
      "metadata": {
        "id": "3NmsFQDplAFf",
        "colab": {
          "base_uri": "https://localhost:8080/"
        },
        "outputId": "c1238fd2-624b-4f3e-90fd-ee0ff00a3e41"
      },
      "execution_count": null,
      "outputs": [
        {
          "output_type": "stream",
          "name": "stdout",
          "text": [
            "-RECORD 0------------------\n",
            " a   | 1                   \n",
            " b   | 2.0                 \n",
            " c   | string1             \n",
            " d   | 2000-01-01          \n",
            " e   | 2000-01-01 12:00:00 \n",
            "only showing top 1 row\n",
            "\n"
          ]
        }
      ]
    },
    {
      "cell_type": "code",
      "source": [
        "df.columns"
      ],
      "metadata": {
        "id": "xSCHMwQQlDMr",
        "colab": {
          "base_uri": "https://localhost:8080/"
        },
        "outputId": "62ef9591-83a0-4ba0-a7a6-850edd5d3e53"
      },
      "execution_count": null,
      "outputs": [
        {
          "output_type": "execute_result",
          "data": {
            "text/plain": [
              "['a', 'b', 'c', 'd', 'e']"
            ]
          },
          "metadata": {},
          "execution_count": 17
        }
      ]
    },
    {
      "cell_type": "code",
      "source": [
        "df.printSchema()"
      ],
      "metadata": {
        "id": "GpKiAsR4lRyx",
        "colab": {
          "base_uri": "https://localhost:8080/"
        },
        "outputId": "06225c22-6eb9-4499-df2a-ce0571dcc806"
      },
      "execution_count": null,
      "outputs": [
        {
          "output_type": "stream",
          "name": "stdout",
          "text": [
            "root\n",
            " |-- a: long (nullable = true)\n",
            " |-- b: double (nullable = true)\n",
            " |-- c: string (nullable = true)\n",
            " |-- d: date (nullable = true)\n",
            " |-- e: timestamp (nullable = true)\n",
            "\n"
          ]
        }
      ]
    },
    {
      "cell_type": "code",
      "source": [
        "df.select(\"a\", \"b\", \"c\").describe().show()"
      ],
      "metadata": {
        "id": "64QTcBp3lVFo",
        "colab": {
          "base_uri": "https://localhost:8080/"
        },
        "outputId": "96de8fc3-762f-49ec-abbc-3a70e14f0432"
      },
      "execution_count": null,
      "outputs": [
        {
          "output_type": "stream",
          "name": "stdout",
          "text": [
            "+-------+---+---+-------+\n",
            "|summary|  a|  b|      c|\n",
            "+-------+---+---+-------+\n",
            "|  count|  3|  3|      3|\n",
            "|   mean|2.0|3.0|   NULL|\n",
            "| stddev|1.0|1.0|   NULL|\n",
            "|    min|  1|2.0|string1|\n",
            "|    max|  3|4.0|string3|\n",
            "+-------+---+---+-------+\n",
            "\n"
          ]
        }
      ]
    },
    {
      "cell_type": "code",
      "source": [
        "df.collect()"
      ],
      "metadata": {
        "id": "LNQHtqkElXut",
        "colab": {
          "base_uri": "https://localhost:8080/"
        },
        "outputId": "8b124be8-598d-4853-abb4-4727be06c7df"
      },
      "execution_count": null,
      "outputs": [
        {
          "output_type": "execute_result",
          "data": {
            "text/plain": [
              "[Row(a=1, b=2.0, c='string1', d=datetime.date(2000, 1, 1), e=datetime.datetime(2000, 1, 1, 12, 0)),\n",
              " Row(a=2, b=3.0, c='string2', d=datetime.date(2000, 2, 1), e=datetime.datetime(2000, 1, 2, 12, 0)),\n",
              " Row(a=3, b=4.0, c='string3', d=datetime.date(2000, 3, 1), e=datetime.datetime(2000, 1, 3, 12, 0))]"
            ]
          },
          "metadata": {},
          "execution_count": 20
        }
      ]
    },
    {
      "cell_type": "code",
      "source": [
        "df.take(1)"
      ],
      "metadata": {
        "id": "maGZCVw0lf3A",
        "colab": {
          "base_uri": "https://localhost:8080/"
        },
        "outputId": "5fefa289-69aa-4ce5-c492-f41e34db94f1"
      },
      "execution_count": null,
      "outputs": [
        {
          "output_type": "execute_result",
          "data": {
            "text/plain": [
              "[Row(a=1, b=2.0, c='string1', d=datetime.date(2000, 1, 1), e=datetime.datetime(2000, 1, 1, 12, 0))]"
            ]
          },
          "metadata": {},
          "execution_count": 21
        }
      ]
    },
    {
      "cell_type": "code",
      "source": [
        "df.toPandas()"
      ],
      "metadata": {
        "id": "3332YxQRljT1",
        "colab": {
          "base_uri": "https://localhost:8080/",
          "height": 143
        },
        "outputId": "7f652a09-3278-4297-d867-9ebadfe977db"
      },
      "execution_count": null,
      "outputs": [
        {
          "output_type": "execute_result",
          "data": {
            "text/plain": [
              "   a    b        c           d                   e\n",
              "0  1  2.0  string1  2000-01-01 2000-01-01 12:00:00\n",
              "1  2  3.0  string2  2000-02-01 2000-01-02 12:00:00\n",
              "2  3  4.0  string3  2000-03-01 2000-01-03 12:00:00"
            ],
            "text/html": [
              "\n",
              "  <div id=\"df-25e95cf4-2002-4190-8a92-d07ad1a82bac\" class=\"colab-df-container\">\n",
              "    <div>\n",
              "<style scoped>\n",
              "    .dataframe tbody tr th:only-of-type {\n",
              "        vertical-align: middle;\n",
              "    }\n",
              "\n",
              "    .dataframe tbody tr th {\n",
              "        vertical-align: top;\n",
              "    }\n",
              "\n",
              "    .dataframe thead th {\n",
              "        text-align: right;\n",
              "    }\n",
              "</style>\n",
              "<table border=\"1\" class=\"dataframe\">\n",
              "  <thead>\n",
              "    <tr style=\"text-align: right;\">\n",
              "      <th></th>\n",
              "      <th>a</th>\n",
              "      <th>b</th>\n",
              "      <th>c</th>\n",
              "      <th>d</th>\n",
              "      <th>e</th>\n",
              "    </tr>\n",
              "  </thead>\n",
              "  <tbody>\n",
              "    <tr>\n",
              "      <th>0</th>\n",
              "      <td>1</td>\n",
              "      <td>2.0</td>\n",
              "      <td>string1</td>\n",
              "      <td>2000-01-01</td>\n",
              "      <td>2000-01-01 12:00:00</td>\n",
              "    </tr>\n",
              "    <tr>\n",
              "      <th>1</th>\n",
              "      <td>2</td>\n",
              "      <td>3.0</td>\n",
              "      <td>string2</td>\n",
              "      <td>2000-02-01</td>\n",
              "      <td>2000-01-02 12:00:00</td>\n",
              "    </tr>\n",
              "    <tr>\n",
              "      <th>2</th>\n",
              "      <td>3</td>\n",
              "      <td>4.0</td>\n",
              "      <td>string3</td>\n",
              "      <td>2000-03-01</td>\n",
              "      <td>2000-01-03 12:00:00</td>\n",
              "    </tr>\n",
              "  </tbody>\n",
              "</table>\n",
              "</div>\n",
              "    <div class=\"colab-df-buttons\">\n",
              "\n",
              "  <div class=\"colab-df-container\">\n",
              "    <button class=\"colab-df-convert\" onclick=\"convertToInteractive('df-25e95cf4-2002-4190-8a92-d07ad1a82bac')\"\n",
              "            title=\"Convert this dataframe to an interactive table.\"\n",
              "            style=\"display:none;\">\n",
              "\n",
              "  <svg xmlns=\"http://www.w3.org/2000/svg\" height=\"24px\" viewBox=\"0 -960 960 960\">\n",
              "    <path d=\"M120-120v-720h720v720H120Zm60-500h600v-160H180v160Zm220 220h160v-160H400v160Zm0 220h160v-160H400v160ZM180-400h160v-160H180v160Zm440 0h160v-160H620v160ZM180-180h160v-160H180v160Zm440 0h160v-160H620v160Z\"/>\n",
              "  </svg>\n",
              "    </button>\n",
              "\n",
              "  <style>\n",
              "    .colab-df-container {\n",
              "      display:flex;\n",
              "      gap: 12px;\n",
              "    }\n",
              "\n",
              "    .colab-df-convert {\n",
              "      background-color: #E8F0FE;\n",
              "      border: none;\n",
              "      border-radius: 50%;\n",
              "      cursor: pointer;\n",
              "      display: none;\n",
              "      fill: #1967D2;\n",
              "      height: 32px;\n",
              "      padding: 0 0 0 0;\n",
              "      width: 32px;\n",
              "    }\n",
              "\n",
              "    .colab-df-convert:hover {\n",
              "      background-color: #E2EBFA;\n",
              "      box-shadow: 0px 1px 2px rgba(60, 64, 67, 0.3), 0px 1px 3px 1px rgba(60, 64, 67, 0.15);\n",
              "      fill: #174EA6;\n",
              "    }\n",
              "\n",
              "    .colab-df-buttons div {\n",
              "      margin-bottom: 4px;\n",
              "    }\n",
              "\n",
              "    [theme=dark] .colab-df-convert {\n",
              "      background-color: #3B4455;\n",
              "      fill: #D2E3FC;\n",
              "    }\n",
              "\n",
              "    [theme=dark] .colab-df-convert:hover {\n",
              "      background-color: #434B5C;\n",
              "      box-shadow: 0px 1px 3px 1px rgba(0, 0, 0, 0.15);\n",
              "      filter: drop-shadow(0px 1px 2px rgba(0, 0, 0, 0.3));\n",
              "      fill: #FFFFFF;\n",
              "    }\n",
              "  </style>\n",
              "\n",
              "    <script>\n",
              "      const buttonEl =\n",
              "        document.querySelector('#df-25e95cf4-2002-4190-8a92-d07ad1a82bac button.colab-df-convert');\n",
              "      buttonEl.style.display =\n",
              "        google.colab.kernel.accessAllowed ? 'block' : 'none';\n",
              "\n",
              "      async function convertToInteractive(key) {\n",
              "        const element = document.querySelector('#df-25e95cf4-2002-4190-8a92-d07ad1a82bac');\n",
              "        const dataTable =\n",
              "          await google.colab.kernel.invokeFunction('convertToInteractive',\n",
              "                                                    [key], {});\n",
              "        if (!dataTable) return;\n",
              "\n",
              "        const docLinkHtml = 'Like what you see? Visit the ' +\n",
              "          '<a target=\"_blank\" href=https://colab.research.google.com/notebooks/data_table.ipynb>data table notebook</a>'\n",
              "          + ' to learn more about interactive tables.';\n",
              "        element.innerHTML = '';\n",
              "        dataTable['output_type'] = 'display_data';\n",
              "        await google.colab.output.renderOutput(dataTable, element);\n",
              "        const docLink = document.createElement('div');\n",
              "        docLink.innerHTML = docLinkHtml;\n",
              "        element.appendChild(docLink);\n",
              "      }\n",
              "    </script>\n",
              "  </div>\n",
              "\n",
              "\n",
              "<div id=\"df-df701432-53a3-4b65-8cf2-8d95b9bd5ccf\">\n",
              "  <button class=\"colab-df-quickchart\" onclick=\"quickchart('df-df701432-53a3-4b65-8cf2-8d95b9bd5ccf')\"\n",
              "            title=\"Suggest charts\"\n",
              "            style=\"display:none;\">\n",
              "\n",
              "<svg xmlns=\"http://www.w3.org/2000/svg\" height=\"24px\"viewBox=\"0 0 24 24\"\n",
              "     width=\"24px\">\n",
              "    <g>\n",
              "        <path d=\"M19 3H5c-1.1 0-2 .9-2 2v14c0 1.1.9 2 2 2h14c1.1 0 2-.9 2-2V5c0-1.1-.9-2-2-2zM9 17H7v-7h2v7zm4 0h-2V7h2v10zm4 0h-2v-4h2v4z\"/>\n",
              "    </g>\n",
              "</svg>\n",
              "  </button>\n",
              "\n",
              "<style>\n",
              "  .colab-df-quickchart {\n",
              "      --bg-color: #E8F0FE;\n",
              "      --fill-color: #1967D2;\n",
              "      --hover-bg-color: #E2EBFA;\n",
              "      --hover-fill-color: #174EA6;\n",
              "      --disabled-fill-color: #AAA;\n",
              "      --disabled-bg-color: #DDD;\n",
              "  }\n",
              "\n",
              "  [theme=dark] .colab-df-quickchart {\n",
              "      --bg-color: #3B4455;\n",
              "      --fill-color: #D2E3FC;\n",
              "      --hover-bg-color: #434B5C;\n",
              "      --hover-fill-color: #FFFFFF;\n",
              "      --disabled-bg-color: #3B4455;\n",
              "      --disabled-fill-color: #666;\n",
              "  }\n",
              "\n",
              "  .colab-df-quickchart {\n",
              "    background-color: var(--bg-color);\n",
              "    border: none;\n",
              "    border-radius: 50%;\n",
              "    cursor: pointer;\n",
              "    display: none;\n",
              "    fill: var(--fill-color);\n",
              "    height: 32px;\n",
              "    padding: 0;\n",
              "    width: 32px;\n",
              "  }\n",
              "\n",
              "  .colab-df-quickchart:hover {\n",
              "    background-color: var(--hover-bg-color);\n",
              "    box-shadow: 0 1px 2px rgba(60, 64, 67, 0.3), 0 1px 3px 1px rgba(60, 64, 67, 0.15);\n",
              "    fill: var(--button-hover-fill-color);\n",
              "  }\n",
              "\n",
              "  .colab-df-quickchart-complete:disabled,\n",
              "  .colab-df-quickchart-complete:disabled:hover {\n",
              "    background-color: var(--disabled-bg-color);\n",
              "    fill: var(--disabled-fill-color);\n",
              "    box-shadow: none;\n",
              "  }\n",
              "\n",
              "  .colab-df-spinner {\n",
              "    border: 2px solid var(--fill-color);\n",
              "    border-color: transparent;\n",
              "    border-bottom-color: var(--fill-color);\n",
              "    animation:\n",
              "      spin 1s steps(1) infinite;\n",
              "  }\n",
              "\n",
              "  @keyframes spin {\n",
              "    0% {\n",
              "      border-color: transparent;\n",
              "      border-bottom-color: var(--fill-color);\n",
              "      border-left-color: var(--fill-color);\n",
              "    }\n",
              "    20% {\n",
              "      border-color: transparent;\n",
              "      border-left-color: var(--fill-color);\n",
              "      border-top-color: var(--fill-color);\n",
              "    }\n",
              "    30% {\n",
              "      border-color: transparent;\n",
              "      border-left-color: var(--fill-color);\n",
              "      border-top-color: var(--fill-color);\n",
              "      border-right-color: var(--fill-color);\n",
              "    }\n",
              "    40% {\n",
              "      border-color: transparent;\n",
              "      border-right-color: var(--fill-color);\n",
              "      border-top-color: var(--fill-color);\n",
              "    }\n",
              "    60% {\n",
              "      border-color: transparent;\n",
              "      border-right-color: var(--fill-color);\n",
              "    }\n",
              "    80% {\n",
              "      border-color: transparent;\n",
              "      border-right-color: var(--fill-color);\n",
              "      border-bottom-color: var(--fill-color);\n",
              "    }\n",
              "    90% {\n",
              "      border-color: transparent;\n",
              "      border-bottom-color: var(--fill-color);\n",
              "    }\n",
              "  }\n",
              "</style>\n",
              "\n",
              "  <script>\n",
              "    async function quickchart(key) {\n",
              "      const quickchartButtonEl =\n",
              "        document.querySelector('#' + key + ' button');\n",
              "      quickchartButtonEl.disabled = true;  // To prevent multiple clicks.\n",
              "      quickchartButtonEl.classList.add('colab-df-spinner');\n",
              "      try {\n",
              "        const charts = await google.colab.kernel.invokeFunction(\n",
              "            'suggestCharts', [key], {});\n",
              "      } catch (error) {\n",
              "        console.error('Error during call to suggestCharts:', error);\n",
              "      }\n",
              "      quickchartButtonEl.classList.remove('colab-df-spinner');\n",
              "      quickchartButtonEl.classList.add('colab-df-quickchart-complete');\n",
              "    }\n",
              "    (() => {\n",
              "      let quickchartButtonEl =\n",
              "        document.querySelector('#df-df701432-53a3-4b65-8cf2-8d95b9bd5ccf button');\n",
              "      quickchartButtonEl.style.display =\n",
              "        google.colab.kernel.accessAllowed ? 'block' : 'none';\n",
              "    })();\n",
              "  </script>\n",
              "</div>\n",
              "\n",
              "    </div>\n",
              "  </div>\n"
            ],
            "application/vnd.google.colaboratory.intrinsic+json": {
              "type": "dataframe",
              "summary": "{\n  \"name\": \"df\",\n  \"rows\": 3,\n  \"fields\": [\n    {\n      \"column\": \"a\",\n      \"properties\": {\n        \"dtype\": \"number\",\n        \"std\": 1,\n        \"min\": 1,\n        \"max\": 3,\n        \"num_unique_values\": 3,\n        \"samples\": [\n          1,\n          2,\n          3\n        ],\n        \"semantic_type\": \"\",\n        \"description\": \"\"\n      }\n    },\n    {\n      \"column\": \"b\",\n      \"properties\": {\n        \"dtype\": \"number\",\n        \"std\": 1.0,\n        \"min\": 2.0,\n        \"max\": 4.0,\n        \"num_unique_values\": 3,\n        \"samples\": [\n          2.0,\n          3.0,\n          4.0\n        ],\n        \"semantic_type\": \"\",\n        \"description\": \"\"\n      }\n    },\n    {\n      \"column\": \"c\",\n      \"properties\": {\n        \"dtype\": \"string\",\n        \"num_unique_values\": 3,\n        \"samples\": [\n          \"string1\",\n          \"string2\",\n          \"string3\"\n        ],\n        \"semantic_type\": \"\",\n        \"description\": \"\"\n      }\n    },\n    {\n      \"column\": \"d\",\n      \"properties\": {\n        \"dtype\": \"date\",\n        \"min\": \"2000-01-01\",\n        \"max\": \"2000-03-01\",\n        \"num_unique_values\": 3,\n        \"samples\": [\n          \"2000-01-01\",\n          \"2000-02-01\",\n          \"2000-03-01\"\n        ],\n        \"semantic_type\": \"\",\n        \"description\": \"\"\n      }\n    },\n    {\n      \"column\": \"e\",\n      \"properties\": {\n        \"dtype\": \"date\",\n        \"min\": \"2000-01-01 12:00:00\",\n        \"max\": \"2000-01-03 12:00:00\",\n        \"num_unique_values\": 3,\n        \"samples\": [\n          \"2000-01-01 12:00:00\",\n          \"2000-01-02 12:00:00\",\n          \"2000-01-03 12:00:00\"\n        ],\n        \"semantic_type\": \"\",\n        \"description\": \"\"\n      }\n    }\n  ]\n}"
            }
          },
          "metadata": {},
          "execution_count": 22
        }
      ]
    },
    {
      "cell_type": "markdown",
      "source": [
        "**Selecting and Accessing Data**"
      ],
      "metadata": {
        "id": "r42cLaRklqal"
      }
    },
    {
      "cell_type": "code",
      "source": [
        "df.a"
      ],
      "metadata": {
        "id": "YCBQ5IFcllkF",
        "colab": {
          "base_uri": "https://localhost:8080/"
        },
        "outputId": "d4722b20-1604-4f51-cf16-62a96cb9868e"
      },
      "execution_count": null,
      "outputs": [
        {
          "output_type": "execute_result",
          "data": {
            "text/plain": [
              "Column<'a'>"
            ]
          },
          "metadata": {},
          "execution_count": 23
        }
      ]
    },
    {
      "cell_type": "code",
      "source": [
        "from pyspark.sql import Column\n",
        "from pyspark.sql.functions import upper\n",
        "type(df.c) == type(upper(df.c)) == type(df.c.isNull())"
      ],
      "metadata": {
        "id": "rZJ97QFtlt45",
        "colab": {
          "base_uri": "https://localhost:8080/"
        },
        "outputId": "d3f2cb10-101e-40fb-a844-19de7d30a7eb"
      },
      "execution_count": null,
      "outputs": [
        {
          "output_type": "execute_result",
          "data": {
            "text/plain": [
              "True"
            ]
          },
          "metadata": {},
          "execution_count": 24
        }
      ]
    },
    {
      "cell_type": "code",
      "source": [
        "df.select(df.c).show()"
      ],
      "metadata": {
        "id": "CuoYJF4Tl1Up",
        "colab": {
          "base_uri": "https://localhost:8080/"
        },
        "outputId": "eb74f22d-c833-4465-e9c0-3d724d6f4815"
      },
      "execution_count": null,
      "outputs": [
        {
          "output_type": "stream",
          "name": "stdout",
          "text": [
            "+-------+\n",
            "|      c|\n",
            "+-------+\n",
            "|string1|\n",
            "|string2|\n",
            "|string3|\n",
            "+-------+\n",
            "\n"
          ]
        }
      ]
    },
    {
      "cell_type": "code",
      "source": [
        "df.withColumn('upper_c', upper(df.c)).show()"
      ],
      "metadata": {
        "id": "nrMUgmLol3Tq",
        "colab": {
          "base_uri": "https://localhost:8080/"
        },
        "outputId": "236a2b64-3ac5-402f-8bb3-222ceb1333f0"
      },
      "execution_count": null,
      "outputs": [
        {
          "output_type": "stream",
          "name": "stdout",
          "text": [
            "+---+---+-------+----------+-------------------+-------+\n",
            "|  a|  b|      c|         d|                  e|upper_c|\n",
            "+---+---+-------+----------+-------------------+-------+\n",
            "|  1|2.0|string1|2000-01-01|2000-01-01 12:00:00|STRING1|\n",
            "|  2|3.0|string2|2000-02-01|2000-01-02 12:00:00|STRING2|\n",
            "|  3|4.0|string3|2000-03-01|2000-01-03 12:00:00|STRING3|\n",
            "+---+---+-------+----------+-------------------+-------+\n",
            "\n"
          ]
        }
      ]
    },
    {
      "cell_type": "code",
      "source": [
        "df.filter(df.a == 1).show()"
      ],
      "metadata": {
        "id": "gCSdrm-6mg9a",
        "colab": {
          "base_uri": "https://localhost:8080/"
        },
        "outputId": "2b51e148-dc69-4e22-f75e-b6961bff7d2b"
      },
      "execution_count": null,
      "outputs": [
        {
          "output_type": "stream",
          "name": "stdout",
          "text": [
            "+---+---+-------+----------+-------------------+\n",
            "|  a|  b|      c|         d|                  e|\n",
            "+---+---+-------+----------+-------------------+\n",
            "|  1|2.0|string1|2000-01-01|2000-01-01 12:00:00|\n",
            "+---+---+-------+----------+-------------------+\n",
            "\n"
          ]
        }
      ]
    },
    {
      "cell_type": "markdown",
      "source": [
        "**Applying a Function**"
      ],
      "metadata": {
        "id": "r5fVMXBSmqQ6"
      }
    },
    {
      "cell_type": "code",
      "source": [
        "import pandas as pd\n",
        "from pyspark.sql.functions import pandas_udf\n",
        "@pandas_udf('long')\n",
        "def pandas_plus_one(series: pd.Series) -> pd.Series:\n",
        "    # Simply plus one by using pandas Series.\n",
        "    return series + 1\n",
        "df.select(pandas_plus_one(df.a)).show()"
      ],
      "metadata": {
        "id": "2XGYE64Dmjzw",
        "colab": {
          "base_uri": "https://localhost:8080/"
        },
        "outputId": "b7575d81-9147-40e2-bdf7-b5d0dc4d896c"
      },
      "execution_count": null,
      "outputs": [
        {
          "output_type": "stream",
          "name": "stdout",
          "text": [
            "+------------------+\n",
            "|pandas_plus_one(a)|\n",
            "+------------------+\n",
            "|                 2|\n",
            "|                 3|\n",
            "|                 4|\n",
            "+------------------+\n",
            "\n"
          ]
        }
      ]
    },
    {
      "cell_type": "code",
      "source": [
        "def pandas_filter_func(iterator):\n",
        "    for pandas_df in iterator:\n",
        "        yield pandas_df[pandas_df.a == 1]\n",
        "df.mapInPandas(pandas_filter_func, schema=df.schema).show()"
      ],
      "metadata": {
        "id": "ggMrM1cWm6Mi",
        "colab": {
          "base_uri": "https://localhost:8080/"
        },
        "outputId": "94d11b79-f649-4fab-9349-4144b6aca3f0"
      },
      "execution_count": null,
      "outputs": [
        {
          "output_type": "stream",
          "name": "stdout",
          "text": [
            "+---+---+-------+----------+-------------------+\n",
            "|  a|  b|      c|         d|                  e|\n",
            "+---+---+-------+----------+-------------------+\n",
            "|  1|2.0|string1|2000-01-01|2000-01-01 12:00:00|\n",
            "+---+---+-------+----------+-------------------+\n",
            "\n"
          ]
        }
      ]
    },
    {
      "cell_type": "markdown",
      "source": [
        "**Grouping Data**"
      ],
      "metadata": {
        "id": "oYZKnCpXnMdx"
      }
    },
    {
      "cell_type": "code",
      "source": [
        "df = spark.createDataFrame([\n",
        "    ['red', 'banana', 1, 10], ['blue', 'banana', 2, 20], ['red', 'carrot', 3, 30],\n",
        "    ['blue', 'grape', 4, 40], ['red', 'carrot', 5, 50], ['black', 'carrot', 6, 60],\n",
        "    ['red', 'banana', 7, 70], ['red', 'grape', 8, 80]], schema=['color', 'fruit', 'v1', 'v2'])\n",
        "df.show()"
      ],
      "metadata": {
        "id": "0ukm7jFem-IZ",
        "colab": {
          "base_uri": "https://localhost:8080/"
        },
        "outputId": "12a32239-de58-42e3-c1ab-821f703be1c4"
      },
      "execution_count": null,
      "outputs": [
        {
          "output_type": "stream",
          "name": "stdout",
          "text": [
            "+-----+------+---+---+\n",
            "|color| fruit| v1| v2|\n",
            "+-----+------+---+---+\n",
            "|  red|banana|  1| 10|\n",
            "| blue|banana|  2| 20|\n",
            "|  red|carrot|  3| 30|\n",
            "| blue| grape|  4| 40|\n",
            "|  red|carrot|  5| 50|\n",
            "|black|carrot|  6| 60|\n",
            "|  red|banana|  7| 70|\n",
            "|  red| grape|  8| 80|\n",
            "+-----+------+---+---+\n",
            "\n"
          ]
        }
      ]
    },
    {
      "cell_type": "code",
      "source": [
        "df.groupby('color').avg().show()"
      ],
      "metadata": {
        "id": "TZHsA5p4nTau",
        "colab": {
          "base_uri": "https://localhost:8080/"
        },
        "outputId": "ced5ab55-25ce-44f0-8c0b-14bd809a6f8b"
      },
      "execution_count": null,
      "outputs": [
        {
          "output_type": "stream",
          "name": "stdout",
          "text": [
            "+-----+-------+-------+\n",
            "|color|avg(v1)|avg(v2)|\n",
            "+-----+-------+-------+\n",
            "|  red|    4.8|   48.0|\n",
            "| blue|    3.0|   30.0|\n",
            "|black|    6.0|   60.0|\n",
            "+-----+-------+-------+\n",
            "\n"
          ]
        }
      ]
    },
    {
      "cell_type": "code",
      "source": [
        "def plus_mean(pandas_df):\n",
        "    return pandas_df.assign(v1=pandas_df.v1 - pandas_df.v1.mean())\n",
        "df.groupby('color').applyInPandas(plus_mean, schema=df.schema).show()"
      ],
      "metadata": {
        "id": "HQ57krcTnWC7",
        "colab": {
          "base_uri": "https://localhost:8080/"
        },
        "outputId": "ab71190b-c485-4381-d389-5d9ded78fba7"
      },
      "execution_count": null,
      "outputs": [
        {
          "output_type": "stream",
          "name": "stdout",
          "text": [
            "+-----+------+---+---+\n",
            "|color| fruit| v1| v2|\n",
            "+-----+------+---+---+\n",
            "|black|carrot|  0| 60|\n",
            "| blue|banana| -1| 20|\n",
            "| blue| grape|  1| 40|\n",
            "|  red|banana| -3| 10|\n",
            "|  red|carrot| -1| 30|\n",
            "|  red|carrot|  0| 50|\n",
            "|  red|banana|  2| 70|\n",
            "|  red| grape|  3| 80|\n",
            "+-----+------+---+---+\n",
            "\n"
          ]
        }
      ]
    },
    {
      "cell_type": "code",
      "source": [
        "df1 = spark.createDataFrame(\n",
        "    [(20000101, 1, 1.0), (20000101, 2, 2.0), (20000102, 1, 3.0), (20000102, 2, 4.0)],\n",
        "    ('time', 'id', 'v1'))"
      ],
      "metadata": {
        "id": "Y9LHcVJ6nksx"
      },
      "execution_count": null,
      "outputs": []
    },
    {
      "cell_type": "code",
      "source": [
        "df2 = spark.createDataFrame(\n",
        "    [(20000101, 1, 'x'), (20000101, 2, 'y')],\n",
        "    ('time', 'id', 'v2'))"
      ],
      "metadata": {
        "id": "-il8xlAQnrno"
      },
      "execution_count": null,
      "outputs": []
    },
    {
      "cell_type": "code",
      "source": [
        "def merge_ordered(l, r):\n",
        "    return pd.merge_ordered(l, r)\n",
        "df1.groupby('id').cogroup(df2.groupby('id')).applyInPandas(\n",
        "    merge_ordered, schema='time int, id int, v1 double, v2 string').show()"
      ],
      "metadata": {
        "id": "0kEX-Qm8ntgS",
        "colab": {
          "base_uri": "https://localhost:8080/"
        },
        "outputId": "3f6acb17-2fc9-4cdf-cdc1-72962d6b4edc"
      },
      "execution_count": null,
      "outputs": [
        {
          "output_type": "stream",
          "name": "stdout",
          "text": [
            "+--------+---+---+----+\n",
            "|    time| id| v1|  v2|\n",
            "+--------+---+---+----+\n",
            "|20000101|  1|1.0|   x|\n",
            "|20000102|  1|3.0|NULL|\n",
            "|20000101|  2|2.0|   y|\n",
            "|20000102|  2|4.0|NULL|\n",
            "+--------+---+---+----+\n",
            "\n"
          ]
        }
      ]
    },
    {
      "cell_type": "markdown",
      "source": [
        "**Extracting Data in Various Formats**"
      ],
      "metadata": {
        "id": "FCbAVGObn84Q"
      }
    },
    {
      "cell_type": "code",
      "source": [
        "df.write.csv('foo.csv', header=True, mode='overwrite') # add mode='overwrite' to overwrite the existing file.\n",
        "spark.read.csv('foo.csv', header=True).show()"
      ],
      "metadata": {
        "id": "mJj7JlClnvy4",
        "colab": {
          "base_uri": "https://localhost:8080/"
        },
        "outputId": "5254fec3-46ab-402a-ba32-e8b355c40f49"
      },
      "execution_count": null,
      "outputs": [
        {
          "output_type": "stream",
          "name": "stdout",
          "text": [
            "+-----+------+---+---+\n",
            "|color| fruit| v1| v2|\n",
            "+-----+------+---+---+\n",
            "|  red|carrot|  5| 50|\n",
            "|black|carrot|  6| 60|\n",
            "|  red|banana|  7| 70|\n",
            "|  red| grape|  8| 80|\n",
            "|  red|banana|  1| 10|\n",
            "| blue|banana|  2| 20|\n",
            "|  red|carrot|  3| 30|\n",
            "| blue| grape|  4| 40|\n",
            "+-----+------+---+---+\n",
            "\n"
          ]
        }
      ]
    },
    {
      "cell_type": "code",
      "source": [
        "df.write.parquet('bar.parquet', mode='overwrite') # add mode='overwrite' to overwrite the existing file.\n",
        "spark.read.parquet('bar.parquet').show()"
      ],
      "metadata": {
        "id": "UhV06N8doDIC",
        "colab": {
          "base_uri": "https://localhost:8080/"
        },
        "outputId": "975730cb-b3e5-44b4-f033-0b5414034a20"
      },
      "execution_count": null,
      "outputs": [
        {
          "output_type": "stream",
          "name": "stdout",
          "text": [
            "+-----+------+---+---+\n",
            "|color| fruit| v1| v2|\n",
            "+-----+------+---+---+\n",
            "|  red|carrot|  5| 50|\n",
            "|black|carrot|  6| 60|\n",
            "|  red|banana|  7| 70|\n",
            "|  red| grape|  8| 80|\n",
            "|  red|banana|  1| 10|\n",
            "| blue|banana|  2| 20|\n",
            "|  red|carrot|  3| 30|\n",
            "| blue| grape|  4| 40|\n",
            "+-----+------+---+---+\n",
            "\n"
          ]
        }
      ]
    },
    {
      "cell_type": "code",
      "source": [
        "df.write.orc('zoo.orc', mode='overwrite') # add mode='overwrite' to overwrite the existing file.\n",
        "spark.read.orc('zoo.orc').show()"
      ],
      "metadata": {
        "id": "UtDDusu-oNNO",
        "colab": {
          "base_uri": "https://localhost:8080/"
        },
        "outputId": "c74de42c-4f63-4739-8c25-3d52e99da6a3"
      },
      "execution_count": null,
      "outputs": [
        {
          "output_type": "stream",
          "name": "stdout",
          "text": [
            "+-----+------+---+---+\n",
            "|color| fruit| v1| v2|\n",
            "+-----+------+---+---+\n",
            "|  red|carrot|  5| 50|\n",
            "|black|carrot|  6| 60|\n",
            "|  red|banana|  7| 70|\n",
            "|  red| grape|  8| 80|\n",
            "|  red|banana|  1| 10|\n",
            "| blue|banana|  2| 20|\n",
            "|  red|carrot|  3| 30|\n",
            "| blue| grape|  4| 40|\n",
            "+-----+------+---+---+\n",
            "\n"
          ]
        }
      ]
    },
    {
      "cell_type": "markdown",
      "source": [
        "**Working with SQL**"
      ],
      "metadata": {
        "id": "DiM_b_Q3oWfd"
      }
    },
    {
      "cell_type": "code",
      "source": [
        "df.createOrReplaceTempView(\"tableA\")\n",
        "spark.sql(\"SELECT count(*) from tableA\").show()"
      ],
      "metadata": {
        "id": "IBchSCV_oSVL",
        "colab": {
          "base_uri": "https://localhost:8080/"
        },
        "outputId": "e10162b2-897d-4c0b-a200-06220c452c2c"
      },
      "execution_count": null,
      "outputs": [
        {
          "output_type": "stream",
          "name": "stdout",
          "text": [
            "+--------+\n",
            "|count(1)|\n",
            "+--------+\n",
            "|       8|\n",
            "+--------+\n",
            "\n"
          ]
        }
      ]
    },
    {
      "cell_type": "code",
      "source": [
        "@pandas_udf(\"integer\")\n",
        "def add_one(s: pd.Series) -> pd.Series:\n",
        "    return s + 1\n",
        "spark.udf.register(\"add_one\", add_one)\n",
        "spark.sql(\"SELECT add_one(v1) FROM tableA\").show()"
      ],
      "metadata": {
        "id": "NllHT182oZbv",
        "colab": {
          "base_uri": "https://localhost:8080/"
        },
        "outputId": "87cb5230-ff1e-403d-b6c9-1957d5b5e013"
      },
      "execution_count": null,
      "outputs": [
        {
          "output_type": "stream",
          "name": "stdout",
          "text": [
            "+-----------+\n",
            "|add_one(v1)|\n",
            "+-----------+\n",
            "|          2|\n",
            "|          3|\n",
            "|          4|\n",
            "|          5|\n",
            "|          6|\n",
            "|          7|\n",
            "|          8|\n",
            "|          9|\n",
            "+-----------+\n",
            "\n"
          ]
        }
      ]
    },
    {
      "cell_type": "code",
      "source": [
        "from pyspark.sql.functions import expr\n",
        "df.selectExpr('add_one(v1)').show()\n",
        "df.select(expr('count(*)') > 0).show()"
      ],
      "metadata": {
        "id": "YG0iwDWQocRt",
        "colab": {
          "base_uri": "https://localhost:8080/"
        },
        "outputId": "80fcb777-80a6-4040-ba09-ed4b554fa89b"
      },
      "execution_count": null,
      "outputs": [
        {
          "output_type": "stream",
          "name": "stdout",
          "text": [
            "+-----------+\n",
            "|add_one(v1)|\n",
            "+-----------+\n",
            "|          2|\n",
            "|          3|\n",
            "|          4|\n",
            "|          5|\n",
            "|          6|\n",
            "|          7|\n",
            "|          8|\n",
            "|          9|\n",
            "+-----------+\n",
            "\n",
            "+--------------+\n",
            "|(count(1) > 0)|\n",
            "+--------------+\n",
            "|          true|\n",
            "+--------------+\n",
            "\n"
          ]
        }
      ]
    },
    {
      "cell_type": "markdown",
      "source": [
        "**Pandas API on Spark**"
      ],
      "metadata": {
        "id": "uIblUgPaqfKm"
      }
    },
    {
      "cell_type": "code",
      "source": [
        "import pandas as pd\n",
        "import numpy as np\n",
        "import pyspark.pandas as ps\n",
        "from pyspark.sql import SparkSession"
      ],
      "metadata": {
        "colab": {
          "base_uri": "https://localhost:8080/"
        },
        "id": "TfoJqzfOtV5F",
        "outputId": "e618e5fe-1c55-4bff-829b-62630b704df1"
      },
      "execution_count": null,
      "outputs": [
        {
          "output_type": "stream",
          "name": "stderr",
          "text": [
            "/usr/local/lib/python3.10/dist-packages/pyspark/pandas/__init__.py:50: UserWarning: 'PYARROW_IGNORE_TIMEZONE' environment variable was not set. It is required to set this environment variable to '1' in both driver and executor sides if you use pyarrow>=2.0.0. pandas-on-Spark will set it for you but it does not work if there is a Spark context already launched.\n",
            "  warnings.warn(\n"
          ]
        }
      ]
    },
    {
      "cell_type": "code",
      "source": [
        "s = ps.Series([1, 3, 5, np.nan, 6, 8])"
      ],
      "metadata": {
        "id": "e3fEhSSBtWcZ"
      },
      "execution_count": null,
      "outputs": []
    },
    {
      "cell_type": "code",
      "source": [
        "s"
      ],
      "metadata": {
        "colab": {
          "base_uri": "https://localhost:8080/"
        },
        "id": "96EdYlwItjnY",
        "outputId": "56f3bc93-960a-4c35-924b-ea34e480ac80"
      },
      "execution_count": null,
      "outputs": [
        {
          "output_type": "execute_result",
          "data": {
            "text/plain": [
              "0    1.0\n",
              "1    3.0\n",
              "2    5.0\n",
              "3    NaN\n",
              "4    6.0\n",
              "5    8.0\n",
              "dtype: float64"
            ]
          },
          "metadata": {},
          "execution_count": 47
        }
      ]
    },
    {
      "cell_type": "code",
      "source": [
        "psdf = ps.DataFrame(\n",
        "    {'a': [1, 2, 3, 4, 5, 6],\n",
        "     'b': [100, 200, 300, 400, 500, 600],\n",
        "     'c': [\"one\", \"two\", \"three\", \"four\", \"five\", \"six\"]},\n",
        "    index=[10, 20, 30, 40, 50, 60])"
      ],
      "metadata": {
        "id": "at1-KNVntlWN"
      },
      "execution_count": null,
      "outputs": []
    },
    {
      "cell_type": "code",
      "source": [
        "psdf"
      ],
      "metadata": {
        "colab": {
          "base_uri": "https://localhost:8080/",
          "height": 237
        },
        "id": "9tcNnMkntoEZ",
        "outputId": "7522f2a8-e8db-425d-86e4-b6309b9bed98"
      },
      "execution_count": null,
      "outputs": [
        {
          "output_type": "execute_result",
          "data": {
            "text/plain": [
              "    a    b      c\n",
              "10  1  100    one\n",
              "20  2  200    two\n",
              "30  3  300  three\n",
              "40  4  400   four\n",
              "50  5  500   five\n",
              "60  6  600    six"
            ],
            "text/html": [
              "<div>\n",
              "<style scoped>\n",
              "    .dataframe tbody tr th:only-of-type {\n",
              "        vertical-align: middle;\n",
              "    }\n",
              "\n",
              "    .dataframe tbody tr th {\n",
              "        vertical-align: top;\n",
              "    }\n",
              "\n",
              "    .dataframe thead th {\n",
              "        text-align: right;\n",
              "    }\n",
              "</style>\n",
              "<table border=\"1\" class=\"dataframe\">\n",
              "  <thead>\n",
              "    <tr style=\"text-align: right;\">\n",
              "      <th></th>\n",
              "      <th>a</th>\n",
              "      <th>b</th>\n",
              "      <th>c</th>\n",
              "    </tr>\n",
              "  </thead>\n",
              "  <tbody>\n",
              "    <tr>\n",
              "      <th>10</th>\n",
              "      <td>1</td>\n",
              "      <td>100</td>\n",
              "      <td>one</td>\n",
              "    </tr>\n",
              "    <tr>\n",
              "      <th>20</th>\n",
              "      <td>2</td>\n",
              "      <td>200</td>\n",
              "      <td>two</td>\n",
              "    </tr>\n",
              "    <tr>\n",
              "      <th>30</th>\n",
              "      <td>3</td>\n",
              "      <td>300</td>\n",
              "      <td>three</td>\n",
              "    </tr>\n",
              "    <tr>\n",
              "      <th>40</th>\n",
              "      <td>4</td>\n",
              "      <td>400</td>\n",
              "      <td>four</td>\n",
              "    </tr>\n",
              "    <tr>\n",
              "      <th>50</th>\n",
              "      <td>5</td>\n",
              "      <td>500</td>\n",
              "      <td>five</td>\n",
              "    </tr>\n",
              "    <tr>\n",
              "      <th>60</th>\n",
              "      <td>6</td>\n",
              "      <td>600</td>\n",
              "      <td>six</td>\n",
              "    </tr>\n",
              "  </tbody>\n",
              "</table>\n",
              "</div>"
            ]
          },
          "metadata": {},
          "execution_count": 49
        }
      ]
    },
    {
      "cell_type": "code",
      "source": [
        "dates = pd.date_range('20130101', periods=6)"
      ],
      "metadata": {
        "id": "S2dKJhietp8M"
      },
      "execution_count": null,
      "outputs": []
    },
    {
      "cell_type": "code",
      "source": [
        "dates"
      ],
      "metadata": {
        "colab": {
          "base_uri": "https://localhost:8080/"
        },
        "id": "DbImL-LjttBN",
        "outputId": "4e215dcb-1f79-4919-c406-9f725a021e96"
      },
      "execution_count": null,
      "outputs": [
        {
          "output_type": "execute_result",
          "data": {
            "text/plain": [
              "DatetimeIndex(['2013-01-01', '2013-01-02', '2013-01-03', '2013-01-04',\n",
              "               '2013-01-05', '2013-01-06'],\n",
              "              dtype='datetime64[ns]', freq='D')"
            ]
          },
          "metadata": {},
          "execution_count": 51
        }
      ]
    },
    {
      "cell_type": "code",
      "source": [
        "pdf = pd.DataFrame(np.random.randn(6, 4), index=dates, columns=list('ABCD'))"
      ],
      "metadata": {
        "id": "iP_uMQELtvoz"
      },
      "execution_count": null,
      "outputs": []
    },
    {
      "cell_type": "code",
      "source": [
        "pdf"
      ],
      "metadata": {
        "colab": {
          "base_uri": "https://localhost:8080/",
          "height": 237
        },
        "id": "gGBZEQAYtyeU",
        "outputId": "d836fe76-005d-4e7f-a90e-8bd5d2bd4162"
      },
      "execution_count": null,
      "outputs": [
        {
          "output_type": "execute_result",
          "data": {
            "text/plain": [
              "                   A         B         C         D\n",
              "2013-01-01 -0.017361 -1.164056  1.145029  0.721500\n",
              "2013-01-02 -1.250208  0.878592  0.514172  0.269518\n",
              "2013-01-03 -0.291204  1.434118  1.073136  0.652087\n",
              "2013-01-04 -1.722127 -0.238816 -1.305321 -1.476502\n",
              "2013-01-05 -1.245518 -0.080849 -0.505886  0.578456\n",
              "2013-01-06  0.462403  1.635805  0.069052  0.993671"
            ],
            "text/html": [
              "\n",
              "  <div id=\"df-240830ef-515f-4455-a649-f95cc3a52965\" class=\"colab-df-container\">\n",
              "    <div>\n",
              "<style scoped>\n",
              "    .dataframe tbody tr th:only-of-type {\n",
              "        vertical-align: middle;\n",
              "    }\n",
              "\n",
              "    .dataframe tbody tr th {\n",
              "        vertical-align: top;\n",
              "    }\n",
              "\n",
              "    .dataframe thead th {\n",
              "        text-align: right;\n",
              "    }\n",
              "</style>\n",
              "<table border=\"1\" class=\"dataframe\">\n",
              "  <thead>\n",
              "    <tr style=\"text-align: right;\">\n",
              "      <th></th>\n",
              "      <th>A</th>\n",
              "      <th>B</th>\n",
              "      <th>C</th>\n",
              "      <th>D</th>\n",
              "    </tr>\n",
              "  </thead>\n",
              "  <tbody>\n",
              "    <tr>\n",
              "      <th>2013-01-01</th>\n",
              "      <td>-0.017361</td>\n",
              "      <td>-1.164056</td>\n",
              "      <td>1.145029</td>\n",
              "      <td>0.721500</td>\n",
              "    </tr>\n",
              "    <tr>\n",
              "      <th>2013-01-02</th>\n",
              "      <td>-1.250208</td>\n",
              "      <td>0.878592</td>\n",
              "      <td>0.514172</td>\n",
              "      <td>0.269518</td>\n",
              "    </tr>\n",
              "    <tr>\n",
              "      <th>2013-01-03</th>\n",
              "      <td>-0.291204</td>\n",
              "      <td>1.434118</td>\n",
              "      <td>1.073136</td>\n",
              "      <td>0.652087</td>\n",
              "    </tr>\n",
              "    <tr>\n",
              "      <th>2013-01-04</th>\n",
              "      <td>-1.722127</td>\n",
              "      <td>-0.238816</td>\n",
              "      <td>-1.305321</td>\n",
              "      <td>-1.476502</td>\n",
              "    </tr>\n",
              "    <tr>\n",
              "      <th>2013-01-05</th>\n",
              "      <td>-1.245518</td>\n",
              "      <td>-0.080849</td>\n",
              "      <td>-0.505886</td>\n",
              "      <td>0.578456</td>\n",
              "    </tr>\n",
              "    <tr>\n",
              "      <th>2013-01-06</th>\n",
              "      <td>0.462403</td>\n",
              "      <td>1.635805</td>\n",
              "      <td>0.069052</td>\n",
              "      <td>0.993671</td>\n",
              "    </tr>\n",
              "  </tbody>\n",
              "</table>\n",
              "</div>\n",
              "    <div class=\"colab-df-buttons\">\n",
              "\n",
              "  <div class=\"colab-df-container\">\n",
              "    <button class=\"colab-df-convert\" onclick=\"convertToInteractive('df-240830ef-515f-4455-a649-f95cc3a52965')\"\n",
              "            title=\"Convert this dataframe to an interactive table.\"\n",
              "            style=\"display:none;\">\n",
              "\n",
              "  <svg xmlns=\"http://www.w3.org/2000/svg\" height=\"24px\" viewBox=\"0 -960 960 960\">\n",
              "    <path d=\"M120-120v-720h720v720H120Zm60-500h600v-160H180v160Zm220 220h160v-160H400v160Zm0 220h160v-160H400v160ZM180-400h160v-160H180v160Zm440 0h160v-160H620v160ZM180-180h160v-160H180v160Zm440 0h160v-160H620v160Z\"/>\n",
              "  </svg>\n",
              "    </button>\n",
              "\n",
              "  <style>\n",
              "    .colab-df-container {\n",
              "      display:flex;\n",
              "      gap: 12px;\n",
              "    }\n",
              "\n",
              "    .colab-df-convert {\n",
              "      background-color: #E8F0FE;\n",
              "      border: none;\n",
              "      border-radius: 50%;\n",
              "      cursor: pointer;\n",
              "      display: none;\n",
              "      fill: #1967D2;\n",
              "      height: 32px;\n",
              "      padding: 0 0 0 0;\n",
              "      width: 32px;\n",
              "    }\n",
              "\n",
              "    .colab-df-convert:hover {\n",
              "      background-color: #E2EBFA;\n",
              "      box-shadow: 0px 1px 2px rgba(60, 64, 67, 0.3), 0px 1px 3px 1px rgba(60, 64, 67, 0.15);\n",
              "      fill: #174EA6;\n",
              "    }\n",
              "\n",
              "    .colab-df-buttons div {\n",
              "      margin-bottom: 4px;\n",
              "    }\n",
              "\n",
              "    [theme=dark] .colab-df-convert {\n",
              "      background-color: #3B4455;\n",
              "      fill: #D2E3FC;\n",
              "    }\n",
              "\n",
              "    [theme=dark] .colab-df-convert:hover {\n",
              "      background-color: #434B5C;\n",
              "      box-shadow: 0px 1px 3px 1px rgba(0, 0, 0, 0.15);\n",
              "      filter: drop-shadow(0px 1px 2px rgba(0, 0, 0, 0.3));\n",
              "      fill: #FFFFFF;\n",
              "    }\n",
              "  </style>\n",
              "\n",
              "    <script>\n",
              "      const buttonEl =\n",
              "        document.querySelector('#df-240830ef-515f-4455-a649-f95cc3a52965 button.colab-df-convert');\n",
              "      buttonEl.style.display =\n",
              "        google.colab.kernel.accessAllowed ? 'block' : 'none';\n",
              "\n",
              "      async function convertToInteractive(key) {\n",
              "        const element = document.querySelector('#df-240830ef-515f-4455-a649-f95cc3a52965');\n",
              "        const dataTable =\n",
              "          await google.colab.kernel.invokeFunction('convertToInteractive',\n",
              "                                                    [key], {});\n",
              "        if (!dataTable) return;\n",
              "\n",
              "        const docLinkHtml = 'Like what you see? Visit the ' +\n",
              "          '<a target=\"_blank\" href=https://colab.research.google.com/notebooks/data_table.ipynb>data table notebook</a>'\n",
              "          + ' to learn more about interactive tables.';\n",
              "        element.innerHTML = '';\n",
              "        dataTable['output_type'] = 'display_data';\n",
              "        await google.colab.output.renderOutput(dataTable, element);\n",
              "        const docLink = document.createElement('div');\n",
              "        docLink.innerHTML = docLinkHtml;\n",
              "        element.appendChild(docLink);\n",
              "      }\n",
              "    </script>\n",
              "  </div>\n",
              "\n",
              "\n",
              "<div id=\"df-b6293526-9868-4545-a9c4-b05de969ff42\">\n",
              "  <button class=\"colab-df-quickchart\" onclick=\"quickchart('df-b6293526-9868-4545-a9c4-b05de969ff42')\"\n",
              "            title=\"Suggest charts\"\n",
              "            style=\"display:none;\">\n",
              "\n",
              "<svg xmlns=\"http://www.w3.org/2000/svg\" height=\"24px\"viewBox=\"0 0 24 24\"\n",
              "     width=\"24px\">\n",
              "    <g>\n",
              "        <path d=\"M19 3H5c-1.1 0-2 .9-2 2v14c0 1.1.9 2 2 2h14c1.1 0 2-.9 2-2V5c0-1.1-.9-2-2-2zM9 17H7v-7h2v7zm4 0h-2V7h2v10zm4 0h-2v-4h2v4z\"/>\n",
              "    </g>\n",
              "</svg>\n",
              "  </button>\n",
              "\n",
              "<style>\n",
              "  .colab-df-quickchart {\n",
              "      --bg-color: #E8F0FE;\n",
              "      --fill-color: #1967D2;\n",
              "      --hover-bg-color: #E2EBFA;\n",
              "      --hover-fill-color: #174EA6;\n",
              "      --disabled-fill-color: #AAA;\n",
              "      --disabled-bg-color: #DDD;\n",
              "  }\n",
              "\n",
              "  [theme=dark] .colab-df-quickchart {\n",
              "      --bg-color: #3B4455;\n",
              "      --fill-color: #D2E3FC;\n",
              "      --hover-bg-color: #434B5C;\n",
              "      --hover-fill-color: #FFFFFF;\n",
              "      --disabled-bg-color: #3B4455;\n",
              "      --disabled-fill-color: #666;\n",
              "  }\n",
              "\n",
              "  .colab-df-quickchart {\n",
              "    background-color: var(--bg-color);\n",
              "    border: none;\n",
              "    border-radius: 50%;\n",
              "    cursor: pointer;\n",
              "    display: none;\n",
              "    fill: var(--fill-color);\n",
              "    height: 32px;\n",
              "    padding: 0;\n",
              "    width: 32px;\n",
              "  }\n",
              "\n",
              "  .colab-df-quickchart:hover {\n",
              "    background-color: var(--hover-bg-color);\n",
              "    box-shadow: 0 1px 2px rgba(60, 64, 67, 0.3), 0 1px 3px 1px rgba(60, 64, 67, 0.15);\n",
              "    fill: var(--button-hover-fill-color);\n",
              "  }\n",
              "\n",
              "  .colab-df-quickchart-complete:disabled,\n",
              "  .colab-df-quickchart-complete:disabled:hover {\n",
              "    background-color: var(--disabled-bg-color);\n",
              "    fill: var(--disabled-fill-color);\n",
              "    box-shadow: none;\n",
              "  }\n",
              "\n",
              "  .colab-df-spinner {\n",
              "    border: 2px solid var(--fill-color);\n",
              "    border-color: transparent;\n",
              "    border-bottom-color: var(--fill-color);\n",
              "    animation:\n",
              "      spin 1s steps(1) infinite;\n",
              "  }\n",
              "\n",
              "  @keyframes spin {\n",
              "    0% {\n",
              "      border-color: transparent;\n",
              "      border-bottom-color: var(--fill-color);\n",
              "      border-left-color: var(--fill-color);\n",
              "    }\n",
              "    20% {\n",
              "      border-color: transparent;\n",
              "      border-left-color: var(--fill-color);\n",
              "      border-top-color: var(--fill-color);\n",
              "    }\n",
              "    30% {\n",
              "      border-color: transparent;\n",
              "      border-left-color: var(--fill-color);\n",
              "      border-top-color: var(--fill-color);\n",
              "      border-right-color: var(--fill-color);\n",
              "    }\n",
              "    40% {\n",
              "      border-color: transparent;\n",
              "      border-right-color: var(--fill-color);\n",
              "      border-top-color: var(--fill-color);\n",
              "    }\n",
              "    60% {\n",
              "      border-color: transparent;\n",
              "      border-right-color: var(--fill-color);\n",
              "    }\n",
              "    80% {\n",
              "      border-color: transparent;\n",
              "      border-right-color: var(--fill-color);\n",
              "      border-bottom-color: var(--fill-color);\n",
              "    }\n",
              "    90% {\n",
              "      border-color: transparent;\n",
              "      border-bottom-color: var(--fill-color);\n",
              "    }\n",
              "  }\n",
              "</style>\n",
              "\n",
              "  <script>\n",
              "    async function quickchart(key) {\n",
              "      const quickchartButtonEl =\n",
              "        document.querySelector('#' + key + ' button');\n",
              "      quickchartButtonEl.disabled = true;  // To prevent multiple clicks.\n",
              "      quickchartButtonEl.classList.add('colab-df-spinner');\n",
              "      try {\n",
              "        const charts = await google.colab.kernel.invokeFunction(\n",
              "            'suggestCharts', [key], {});\n",
              "      } catch (error) {\n",
              "        console.error('Error during call to suggestCharts:', error);\n",
              "      }\n",
              "      quickchartButtonEl.classList.remove('colab-df-spinner');\n",
              "      quickchartButtonEl.classList.add('colab-df-quickchart-complete');\n",
              "    }\n",
              "    (() => {\n",
              "      let quickchartButtonEl =\n",
              "        document.querySelector('#df-b6293526-9868-4545-a9c4-b05de969ff42 button');\n",
              "      quickchartButtonEl.style.display =\n",
              "        google.colab.kernel.accessAllowed ? 'block' : 'none';\n",
              "    })();\n",
              "  </script>\n",
              "</div>\n",
              "\n",
              "  <div id=\"id_8cc95030-21ea-4ff0-afbc-0d093ca217e2\">\n",
              "    <style>\n",
              "      .colab-df-generate {\n",
              "        background-color: #E8F0FE;\n",
              "        border: none;\n",
              "        border-radius: 50%;\n",
              "        cursor: pointer;\n",
              "        display: none;\n",
              "        fill: #1967D2;\n",
              "        height: 32px;\n",
              "        padding: 0 0 0 0;\n",
              "        width: 32px;\n",
              "      }\n",
              "\n",
              "      .colab-df-generate:hover {\n",
              "        background-color: #E2EBFA;\n",
              "        box-shadow: 0px 1px 2px rgba(60, 64, 67, 0.3), 0px 1px 3px 1px rgba(60, 64, 67, 0.15);\n",
              "        fill: #174EA6;\n",
              "      }\n",
              "\n",
              "      [theme=dark] .colab-df-generate {\n",
              "        background-color: #3B4455;\n",
              "        fill: #D2E3FC;\n",
              "      }\n",
              "\n",
              "      [theme=dark] .colab-df-generate:hover {\n",
              "        background-color: #434B5C;\n",
              "        box-shadow: 0px 1px 3px 1px rgba(0, 0, 0, 0.15);\n",
              "        filter: drop-shadow(0px 1px 2px rgba(0, 0, 0, 0.3));\n",
              "        fill: #FFFFFF;\n",
              "      }\n",
              "    </style>\n",
              "    <button class=\"colab-df-generate\" onclick=\"generateWithVariable('pdf')\"\n",
              "            title=\"Generate code using this dataframe.\"\n",
              "            style=\"display:none;\">\n",
              "\n",
              "  <svg xmlns=\"http://www.w3.org/2000/svg\" height=\"24px\"viewBox=\"0 0 24 24\"\n",
              "       width=\"24px\">\n",
              "    <path d=\"M7,19H8.4L18.45,9,17,7.55,7,17.6ZM5,21V16.75L18.45,3.32a2,2,0,0,1,2.83,0l1.4,1.43a1.91,1.91,0,0,1,.58,1.4,1.91,1.91,0,0,1-.58,1.4L9.25,21ZM18.45,9,17,7.55Zm-12,3A5.31,5.31,0,0,0,4.9,8.1,5.31,5.31,0,0,0,1,6.5,5.31,5.31,0,0,0,4.9,4.9,5.31,5.31,0,0,0,6.5,1,5.31,5.31,0,0,0,8.1,4.9,5.31,5.31,0,0,0,12,6.5,5.46,5.46,0,0,0,6.5,12Z\"/>\n",
              "  </svg>\n",
              "    </button>\n",
              "    <script>\n",
              "      (() => {\n",
              "      const buttonEl =\n",
              "        document.querySelector('#id_8cc95030-21ea-4ff0-afbc-0d093ca217e2 button.colab-df-generate');\n",
              "      buttonEl.style.display =\n",
              "        google.colab.kernel.accessAllowed ? 'block' : 'none';\n",
              "\n",
              "      buttonEl.onclick = () => {\n",
              "        google.colab.notebook.generateWithVariable('pdf');\n",
              "      }\n",
              "      })();\n",
              "    </script>\n",
              "  </div>\n",
              "\n",
              "    </div>\n",
              "  </div>\n"
            ],
            "application/vnd.google.colaboratory.intrinsic+json": {
              "type": "dataframe",
              "variable_name": "pdf",
              "summary": "{\n  \"name\": \"pdf\",\n  \"rows\": 6,\n  \"fields\": [\n    {\n      \"column\": \"A\",\n      \"properties\": {\n        \"dtype\": \"number\",\n        \"std\": 0.8516183305121335,\n        \"min\": -1.7221268937472927,\n        \"max\": 0.46240265289987276,\n        \"num_unique_values\": 6,\n        \"samples\": [\n          -0.017361318337208345,\n          -1.2502078519238178,\n          0.46240265289987276\n        ],\n        \"semantic_type\": \"\",\n        \"description\": \"\"\n      }\n    },\n    {\n      \"column\": \"B\",\n      \"properties\": {\n        \"dtype\": \"number\",\n        \"std\": 1.087247696096966,\n        \"min\": -1.1640558347311447,\n        \"max\": 1.6358049341440046,\n        \"num_unique_values\": 6,\n        \"samples\": [\n          -1.1640558347311447,\n          0.8785923262029184,\n          1.6358049341440046\n        ],\n        \"semantic_type\": \"\",\n        \"description\": \"\"\n      }\n    },\n    {\n      \"column\": \"C\",\n      \"properties\": {\n        \"dtype\": \"number\",\n        \"std\": 0.951653842099372,\n        \"min\": -1.305320727533831,\n        \"max\": 1.145029382979696,\n        \"num_unique_values\": 6,\n        \"samples\": [\n          1.145029382979696,\n          0.5141716858010741,\n          0.06905171810162285\n        ],\n        \"semantic_type\": \"\",\n        \"description\": \"\"\n      }\n    },\n    {\n      \"column\": \"D\",\n      \"properties\": {\n        \"dtype\": \"number\",\n        \"std\": 0.8962821692103458,\n        \"min\": -1.476502372368093,\n        \"max\": 0.993671038562591,\n        \"num_unique_values\": 6,\n        \"samples\": [\n          0.7214999173263702,\n          0.26951802457773427,\n          0.993671038562591\n        ],\n        \"semantic_type\": \"\",\n        \"description\": \"\"\n      }\n    }\n  ]\n}"
            }
          },
          "metadata": {},
          "execution_count": 53
        }
      ]
    },
    {
      "cell_type": "code",
      "source": [
        "psdf = ps.from_pandas(pdf)"
      ],
      "metadata": {
        "id": "sEGN9_0ot0bQ"
      },
      "execution_count": null,
      "outputs": []
    },
    {
      "cell_type": "code",
      "source": [
        "type(psdf)"
      ],
      "metadata": {
        "colab": {
          "base_uri": "https://localhost:8080/",
          "height": 586
        },
        "id": "BcG6832Rt2iW",
        "outputId": "7a759d47-a9be-4536-9292-4c65d203b9b2"
      },
      "execution_count": null,
      "outputs": [
        {
          "output_type": "execute_result",
          "data": {
            "text/plain": [
              "pyspark.pandas.frame.DataFrame"
            ],
            "text/html": [
              "<div style=\"max-width:800px; border: 1px solid var(--colab-border-color);\"><style>\n",
              "      pre.function-repr-contents {\n",
              "        overflow-x: auto;\n",
              "        padding: 8px 12px;\n",
              "        max-height: 500px;\n",
              "      }\n",
              "\n",
              "      pre.function-repr-contents.function-repr-contents-collapsed {\n",
              "        cursor: pointer;\n",
              "        max-height: 100px;\n",
              "      }\n",
              "    </style>\n",
              "    <pre style=\"white-space: initial; background:\n",
              "         var(--colab-secondary-surface-color); padding: 8px 12px;\n",
              "         border-bottom: 1px solid var(--colab-border-color);\"><b>pyspark.pandas.frame.DataFrame</b><br/>def __init__(data=None, index=None, columns=None, dtype=None, copy=False)</pre><pre class=\"function-repr-contents function-repr-contents-collapsed\" style=\"\"><a class=\"filepath\" style=\"display:none\" href=\"#\">/usr/local/lib/python3.10/dist-packages/pyspark/pandas/frame.py</a>pandas-on-Spark DataFrame that corresponds to pandas DataFrame logically. This holds Spark\n",
              "DataFrame internally.\n",
              "\n",
              ":ivar _internal: an internal immutable Frame to manage metadata.\n",
              ":type _internal: InternalFrame\n",
              "\n",
              "Parameters\n",
              "----------\n",
              "data : numpy ndarray (structured or homogeneous), dict, pandas DataFrame,\n",
              "    Spark DataFrame, pandas-on-Spark DataFrame or pandas-on-Spark Series.\n",
              "    Dict can contain Series, arrays, constants, or list-like objects\n",
              "index : Index or array-like\n",
              "    Index to use for the resulting frame. Will default to RangeIndex if\n",
              "    no indexing information part of input data and no index provided\n",
              "columns : Index or array-like\n",
              "    Column labels to use for the resulting frame. Will default to\n",
              "    RangeIndex (0, 1, 2, ..., n) if no column labels are provided\n",
              "dtype : dtype, default None\n",
              "    Data type to force. Only a single dtype is allowed. If None, infer\n",
              "copy : boolean, default False\n",
              "    Copy data from inputs. Only affects DataFrame / 2d ndarray input\n",
              "\n",
              ".. versionchanged:: 3.4.0\n",
              "    Since 3.4.0, it deals with `data` and `index` in this approach:\n",
              "    1, when `data` is a distributed dataset (Internal DataFrame/Spark DataFrame/\n",
              "    pandas-on-Spark DataFrame/pandas-on-Spark Series), it will first parallelize\n",
              "    the `index` if necessary, and then try to combine the `data` and `index`;\n",
              "    Note that if `data` and `index` doesn&#x27;t have the same anchor, then\n",
              "    `compute.ops_on_diff_frames` should be turned on;\n",
              "    2, when `data` is a local dataset (Pandas DataFrame/numpy ndarray/list/etc),\n",
              "    it will first collect the `index` to driver if necessary, and then apply\n",
              "    the `pandas.DataFrame(...)` creation internally;\n",
              "\n",
              "Examples\n",
              "--------\n",
              "Constructing DataFrame from a dictionary.\n",
              "\n",
              "&gt;&gt;&gt; d = {&#x27;col1&#x27;: [1, 2], &#x27;col2&#x27;: [3, 4]}\n",
              "&gt;&gt;&gt; df = ps.DataFrame(data=d, columns=[&#x27;col1&#x27;, &#x27;col2&#x27;])\n",
              "&gt;&gt;&gt; df\n",
              "   col1  col2\n",
              "0     1     3\n",
              "1     2     4\n",
              "\n",
              "Constructing DataFrame from pandas DataFrame\n",
              "\n",
              "&gt;&gt;&gt; df = ps.DataFrame(pd.DataFrame(data=d, columns=[&#x27;col1&#x27;, &#x27;col2&#x27;]))\n",
              "&gt;&gt;&gt; df\n",
              "   col1  col2\n",
              "0     1     3\n",
              "1     2     4\n",
              "\n",
              "Notice that the inferred dtype is int64.\n",
              "\n",
              "&gt;&gt;&gt; df.dtypes\n",
              "col1    int64\n",
              "col2    int64\n",
              "dtype: object\n",
              "\n",
              "To enforce a single dtype:\n",
              "\n",
              "&gt;&gt;&gt; df = ps.DataFrame(data=d, dtype=np.int8)\n",
              "&gt;&gt;&gt; df.dtypes\n",
              "col1    int8\n",
              "col2    int8\n",
              "dtype: object\n",
              "\n",
              "Constructing DataFrame from numpy ndarray:\n",
              "\n",
              "&gt;&gt;&gt; import numpy as np\n",
              "&gt;&gt;&gt; ps.DataFrame(data=np.array([[1, 2, 3, 4, 5], [6, 7, 8, 9, 0]]),\n",
              "...     columns=[&#x27;a&#x27;, &#x27;b&#x27;, &#x27;c&#x27;, &#x27;d&#x27;, &#x27;e&#x27;])\n",
              "   a  b  c  d  e\n",
              "0  1  2  3  4  5\n",
              "1  6  7  8  9  0\n",
              "\n",
              "Constructing DataFrame from numpy ndarray with Pandas index:\n",
              "\n",
              "&gt;&gt;&gt; import numpy as np\n",
              "&gt;&gt;&gt; import pandas as pd\n",
              "\n",
              "&gt;&gt;&gt; ps.DataFrame(data=np.array([[1, 2, 3, 4, 5], [6, 7, 8, 9, 0]]),\n",
              "...     index=pd.Index([1, 4]), columns=[&#x27;a&#x27;, &#x27;b&#x27;, &#x27;c&#x27;, &#x27;d&#x27;, &#x27;e&#x27;])\n",
              "   a  b  c  d  e\n",
              "1  1  2  3  4  5\n",
              "4  6  7  8  9  0\n",
              "\n",
              "Constructing DataFrame from numpy ndarray with pandas-on-Spark index:\n",
              "\n",
              "&gt;&gt;&gt; import numpy as np\n",
              "&gt;&gt;&gt; import pandas as pd\n",
              "&gt;&gt;&gt; ps.DataFrame(data=np.array([[1, 2, 3, 4, 5], [6, 7, 8, 9, 0]]),\n",
              "...     index=ps.Index([1, 4]), columns=[&#x27;a&#x27;, &#x27;b&#x27;, &#x27;c&#x27;, &#x27;d&#x27;, &#x27;e&#x27;])\n",
              "   a  b  c  d  e\n",
              "1  1  2  3  4  5\n",
              "4  6  7  8  9  0\n",
              "\n",
              "Constructing DataFrame from Pandas DataFrame with Pandas index:\n",
              "\n",
              "&gt;&gt;&gt; import numpy as np\n",
              "&gt;&gt;&gt; import pandas as pd\n",
              "&gt;&gt;&gt; pdf = pd.DataFrame(data=np.array([[1, 2, 3, 4, 5], [6, 7, 8, 9, 0]]),\n",
              "...     columns=[&#x27;a&#x27;, &#x27;b&#x27;, &#x27;c&#x27;, &#x27;d&#x27;, &#x27;e&#x27;])\n",
              "&gt;&gt;&gt; ps.DataFrame(data=pdf, index=pd.Index([1, 4]))\n",
              "     a    b    c    d    e\n",
              "1  6.0  7.0  8.0  9.0  0.0\n",
              "4  NaN  NaN  NaN  NaN  NaN\n",
              "\n",
              "Constructing DataFrame from Pandas DataFrame with pandas-on-Spark index:\n",
              "\n",
              "&gt;&gt;&gt; import numpy as np\n",
              "&gt;&gt;&gt; import pandas as pd\n",
              "&gt;&gt;&gt; pdf = pd.DataFrame(data=np.array([[1, 2, 3, 4, 5], [6, 7, 8, 9, 0]]),\n",
              "...     columns=[&#x27;a&#x27;, &#x27;b&#x27;, &#x27;c&#x27;, &#x27;d&#x27;, &#x27;e&#x27;])\n",
              "&gt;&gt;&gt; ps.DataFrame(data=pdf, index=ps.Index([1, 4]))\n",
              "     a    b    c    d    e\n",
              "1  6.0  7.0  8.0  9.0  0.0\n",
              "4  NaN  NaN  NaN  NaN  NaN\n",
              "\n",
              "Constructing DataFrame from Spark DataFrame with Pandas index:\n",
              "\n",
              "&gt;&gt;&gt; import pandas as pd\n",
              "&gt;&gt;&gt; sdf = spark.createDataFrame([(&quot;Data&quot;, 1), (&quot;Bricks&quot;, 2)], [&quot;x&quot;, &quot;y&quot;])\n",
              "&gt;&gt;&gt; ps.DataFrame(data=sdf, index=pd.Index([0, 1, 2]))\n",
              "Traceback (most recent call last):\n",
              "  ...\n",
              "ValueError: Cannot combine the series or dataframe...&#x27;compute.ops_on_diff_frames&#x27; option.\n",
              "\n",
              "Enable &#x27;compute.ops_on_diff_frames&#x27; to combine SparkDataFrame and Pandas index\n",
              "\n",
              "&gt;&gt;&gt; with ps.option_context(&quot;compute.ops_on_diff_frames&quot;, True):\n",
              "...     ps.DataFrame(data=sdf, index=pd.Index([0, 1, 2]))\n",
              "        x    y\n",
              "0    Data  1.0\n",
              "1  Bricks  2.0\n",
              "2    None  NaN\n",
              "\n",
              "Constructing DataFrame from Spark DataFrame with pandas-on-Spark index:\n",
              "\n",
              "&gt;&gt;&gt; import pandas as pd\n",
              "&gt;&gt;&gt; sdf = spark.createDataFrame([(&quot;Data&quot;, 1), (&quot;Bricks&quot;, 2)], [&quot;x&quot;, &quot;y&quot;])\n",
              "&gt;&gt;&gt; ps.DataFrame(data=sdf, index=ps.Index([0, 1, 2]))\n",
              "Traceback (most recent call last):\n",
              "  ...\n",
              "ValueError: Cannot combine the series or dataframe...&#x27;compute.ops_on_diff_frames&#x27; option.\n",
              "\n",
              "Enable &#x27;compute.ops_on_diff_frames&#x27; to combine Spark DataFrame and pandas-on-Spark index\n",
              "\n",
              "&gt;&gt;&gt; with ps.option_context(&quot;compute.ops_on_diff_frames&quot;, True):\n",
              "...     ps.DataFrame(data=sdf, index=ps.Index([0, 1, 2]))\n",
              "        x    y\n",
              "0    Data  1.0\n",
              "1  Bricks  2.0\n",
              "2    None  NaN</pre>\n",
              "      <script>\n",
              "      if (google.colab.kernel.accessAllowed && google.colab.files && google.colab.files.view) {\n",
              "        for (const element of document.querySelectorAll('.filepath')) {\n",
              "          element.style.display = 'block'\n",
              "          element.onclick = (event) => {\n",
              "            event.preventDefault();\n",
              "            event.stopPropagation();\n",
              "            google.colab.files.view(element.textContent, 369);\n",
              "          };\n",
              "        }\n",
              "      }\n",
              "      for (const element of document.querySelectorAll('.function-repr-contents')) {\n",
              "        element.onclick = (event) => {\n",
              "          event.preventDefault();\n",
              "          event.stopPropagation();\n",
              "          element.classList.toggle('function-repr-contents-collapsed');\n",
              "        };\n",
              "      }\n",
              "      </script>\n",
              "      </div>"
            ]
          },
          "metadata": {},
          "execution_count": 55
        }
      ]
    },
    {
      "cell_type": "code",
      "source": [
        "psdf"
      ],
      "metadata": {
        "colab": {
          "base_uri": "https://localhost:8080/",
          "height": 237
        },
        "id": "he1fOtvQt37j",
        "outputId": "2577794b-b0fd-4408-9d38-a8bf6066bf74"
      },
      "execution_count": null,
      "outputs": [
        {
          "output_type": "execute_result",
          "data": {
            "text/plain": [
              "                   A         B         C         D\n",
              "2013-01-01 -0.017361 -1.164056  1.145029  0.721500\n",
              "2013-01-02 -1.250208  0.878592  0.514172  0.269518\n",
              "2013-01-03 -0.291204  1.434118  1.073136  0.652087\n",
              "2013-01-04 -1.722127 -0.238816 -1.305321 -1.476502\n",
              "2013-01-05 -1.245518 -0.080849 -0.505886  0.578456\n",
              "2013-01-06  0.462403  1.635805  0.069052  0.993671"
            ],
            "text/html": [
              "<div>\n",
              "<style scoped>\n",
              "    .dataframe tbody tr th:only-of-type {\n",
              "        vertical-align: middle;\n",
              "    }\n",
              "\n",
              "    .dataframe tbody tr th {\n",
              "        vertical-align: top;\n",
              "    }\n",
              "\n",
              "    .dataframe thead th {\n",
              "        text-align: right;\n",
              "    }\n",
              "</style>\n",
              "<table border=\"1\" class=\"dataframe\">\n",
              "  <thead>\n",
              "    <tr style=\"text-align: right;\">\n",
              "      <th></th>\n",
              "      <th>A</th>\n",
              "      <th>B</th>\n",
              "      <th>C</th>\n",
              "      <th>D</th>\n",
              "    </tr>\n",
              "  </thead>\n",
              "  <tbody>\n",
              "    <tr>\n",
              "      <th>2013-01-01</th>\n",
              "      <td>-0.017361</td>\n",
              "      <td>-1.164056</td>\n",
              "      <td>1.145029</td>\n",
              "      <td>0.721500</td>\n",
              "    </tr>\n",
              "    <tr>\n",
              "      <th>2013-01-02</th>\n",
              "      <td>-1.250208</td>\n",
              "      <td>0.878592</td>\n",
              "      <td>0.514172</td>\n",
              "      <td>0.269518</td>\n",
              "    </tr>\n",
              "    <tr>\n",
              "      <th>2013-01-03</th>\n",
              "      <td>-0.291204</td>\n",
              "      <td>1.434118</td>\n",
              "      <td>1.073136</td>\n",
              "      <td>0.652087</td>\n",
              "    </tr>\n",
              "    <tr>\n",
              "      <th>2013-01-04</th>\n",
              "      <td>-1.722127</td>\n",
              "      <td>-0.238816</td>\n",
              "      <td>-1.305321</td>\n",
              "      <td>-1.476502</td>\n",
              "    </tr>\n",
              "    <tr>\n",
              "      <th>2013-01-05</th>\n",
              "      <td>-1.245518</td>\n",
              "      <td>-0.080849</td>\n",
              "      <td>-0.505886</td>\n",
              "      <td>0.578456</td>\n",
              "    </tr>\n",
              "    <tr>\n",
              "      <th>2013-01-06</th>\n",
              "      <td>0.462403</td>\n",
              "      <td>1.635805</td>\n",
              "      <td>0.069052</td>\n",
              "      <td>0.993671</td>\n",
              "    </tr>\n",
              "  </tbody>\n",
              "</table>\n",
              "</div>"
            ]
          },
          "metadata": {},
          "execution_count": 56
        }
      ]
    },
    {
      "cell_type": "code",
      "source": [
        "spark = SparkSession.builder.getOrCreate()"
      ],
      "metadata": {
        "id": "zlsgKOIit7GJ"
      },
      "execution_count": null,
      "outputs": []
    },
    {
      "cell_type": "code",
      "source": [
        "sdf = spark.createDataFrame(pdf)"
      ],
      "metadata": {
        "id": "L1NxZqg3t922"
      },
      "execution_count": null,
      "outputs": []
    },
    {
      "cell_type": "code",
      "source": [
        "sdf.show()"
      ],
      "metadata": {
        "colab": {
          "base_uri": "https://localhost:8080/"
        },
        "id": "oO9vAlaxt_jm",
        "outputId": "a40c5752-260a-46b0-f2ce-5356b9fa05fb"
      },
      "execution_count": null,
      "outputs": [
        {
          "output_type": "stream",
          "name": "stdout",
          "text": [
            "+--------------------+--------------------+-------------------+-------------------+\n",
            "|                   A|                   B|                  C|                  D|\n",
            "+--------------------+--------------------+-------------------+-------------------+\n",
            "|-0.01736131833720...| -1.1640558347311447|  1.145029382979696| 0.7214999173263702|\n",
            "| -1.2502078519238178|  0.8785923262029184| 0.5141716858010741|0.26951802457773427|\n",
            "|-0.29120447528183324|   1.434118183251572| 1.0731355370894498| 0.6520869351252626|\n",
            "| -1.7221268937472927|   -0.23881649576441| -1.305320727533831| -1.476502372368093|\n",
            "| -1.2455176630325326|-0.08084867363311464|  -0.50588557550903|   0.57845572051587|\n",
            "| 0.46240265289987276|  1.6358049341440046|0.06905171810162285|  0.993671038562591|\n",
            "+--------------------+--------------------+-------------------+-------------------+\n",
            "\n"
          ]
        }
      ]
    },
    {
      "cell_type": "code",
      "source": [
        "psdf = sdf.pandas_api()"
      ],
      "metadata": {
        "id": "ML77rlpauBOU"
      },
      "execution_count": null,
      "outputs": []
    },
    {
      "cell_type": "code",
      "source": [
        "psdf"
      ],
      "metadata": {
        "colab": {
          "base_uri": "https://localhost:8080/",
          "height": 237
        },
        "id": "DJZO6Y3YuK5_",
        "outputId": "b078181e-c3d3-4cc4-bc55-519fbdd50db5"
      },
      "execution_count": null,
      "outputs": [
        {
          "output_type": "execute_result",
          "data": {
            "text/plain": [
              "          A         B         C         D\n",
              "0 -0.017361 -1.164056  1.145029  0.721500\n",
              "1 -1.250208  0.878592  0.514172  0.269518\n",
              "2 -0.291204  1.434118  1.073136  0.652087\n",
              "3 -1.722127 -0.238816 -1.305321 -1.476502\n",
              "4 -1.245518 -0.080849 -0.505886  0.578456\n",
              "5  0.462403  1.635805  0.069052  0.993671"
            ],
            "text/html": [
              "<div>\n",
              "<style scoped>\n",
              "    .dataframe tbody tr th:only-of-type {\n",
              "        vertical-align: middle;\n",
              "    }\n",
              "\n",
              "    .dataframe tbody tr th {\n",
              "        vertical-align: top;\n",
              "    }\n",
              "\n",
              "    .dataframe thead th {\n",
              "        text-align: right;\n",
              "    }\n",
              "</style>\n",
              "<table border=\"1\" class=\"dataframe\">\n",
              "  <thead>\n",
              "    <tr style=\"text-align: right;\">\n",
              "      <th></th>\n",
              "      <th>A</th>\n",
              "      <th>B</th>\n",
              "      <th>C</th>\n",
              "      <th>D</th>\n",
              "    </tr>\n",
              "  </thead>\n",
              "  <tbody>\n",
              "    <tr>\n",
              "      <th>0</th>\n",
              "      <td>-0.017361</td>\n",
              "      <td>-1.164056</td>\n",
              "      <td>1.145029</td>\n",
              "      <td>0.721500</td>\n",
              "    </tr>\n",
              "    <tr>\n",
              "      <th>1</th>\n",
              "      <td>-1.250208</td>\n",
              "      <td>0.878592</td>\n",
              "      <td>0.514172</td>\n",
              "      <td>0.269518</td>\n",
              "    </tr>\n",
              "    <tr>\n",
              "      <th>2</th>\n",
              "      <td>-0.291204</td>\n",
              "      <td>1.434118</td>\n",
              "      <td>1.073136</td>\n",
              "      <td>0.652087</td>\n",
              "    </tr>\n",
              "    <tr>\n",
              "      <th>3</th>\n",
              "      <td>-1.722127</td>\n",
              "      <td>-0.238816</td>\n",
              "      <td>-1.305321</td>\n",
              "      <td>-1.476502</td>\n",
              "    </tr>\n",
              "    <tr>\n",
              "      <th>4</th>\n",
              "      <td>-1.245518</td>\n",
              "      <td>-0.080849</td>\n",
              "      <td>-0.505886</td>\n",
              "      <td>0.578456</td>\n",
              "    </tr>\n",
              "    <tr>\n",
              "      <th>5</th>\n",
              "      <td>0.462403</td>\n",
              "      <td>1.635805</td>\n",
              "      <td>0.069052</td>\n",
              "      <td>0.993671</td>\n",
              "    </tr>\n",
              "  </tbody>\n",
              "</table>\n",
              "</div>"
            ]
          },
          "metadata": {},
          "execution_count": 61
        }
      ]
    },
    {
      "cell_type": "code",
      "source": [
        "psdf.dtypes"
      ],
      "metadata": {
        "colab": {
          "base_uri": "https://localhost:8080/",
          "height": 209
        },
        "id": "Nwa-iCFYuMbD",
        "outputId": "d312a378-c0c9-4cc7-9181-6dc827d6b5e6"
      },
      "execution_count": null,
      "outputs": [
        {
          "output_type": "execute_result",
          "data": {
            "text/plain": [
              "A    float64\n",
              "B    float64\n",
              "C    float64\n",
              "D    float64\n",
              "dtype: object"
            ],
            "text/html": [
              "<div>\n",
              "<style scoped>\n",
              "    .dataframe tbody tr th:only-of-type {\n",
              "        vertical-align: middle;\n",
              "    }\n",
              "\n",
              "    .dataframe tbody tr th {\n",
              "        vertical-align: top;\n",
              "    }\n",
              "\n",
              "    .dataframe thead th {\n",
              "        text-align: right;\n",
              "    }\n",
              "</style>\n",
              "<table border=\"1\" class=\"dataframe\">\n",
              "  <thead>\n",
              "    <tr style=\"text-align: right;\">\n",
              "      <th></th>\n",
              "      <th>0</th>\n",
              "    </tr>\n",
              "  </thead>\n",
              "  <tbody>\n",
              "    <tr>\n",
              "      <th>A</th>\n",
              "      <td>float64</td>\n",
              "    </tr>\n",
              "    <tr>\n",
              "      <th>B</th>\n",
              "      <td>float64</td>\n",
              "    </tr>\n",
              "    <tr>\n",
              "      <th>C</th>\n",
              "      <td>float64</td>\n",
              "    </tr>\n",
              "    <tr>\n",
              "      <th>D</th>\n",
              "      <td>float64</td>\n",
              "    </tr>\n",
              "  </tbody>\n",
              "</table>\n",
              "</div><br><label><b>dtype:</b> object</label>"
            ]
          },
          "metadata": {},
          "execution_count": 62
        }
      ]
    },
    {
      "cell_type": "code",
      "source": [
        "psdf.head()"
      ],
      "metadata": {
        "colab": {
          "base_uri": "https://localhost:8080/",
          "height": 206
        },
        "id": "E1Q_qC6JuOXO",
        "outputId": "8e3f6e91-6020-4fad-b710-705668de6f33"
      },
      "execution_count": null,
      "outputs": [
        {
          "output_type": "execute_result",
          "data": {
            "text/plain": [
              "          A         B         C         D\n",
              "0 -0.017361 -1.164056  1.145029  0.721500\n",
              "1 -1.250208  0.878592  0.514172  0.269518\n",
              "2 -0.291204  1.434118  1.073136  0.652087\n",
              "3 -1.722127 -0.238816 -1.305321 -1.476502\n",
              "4 -1.245518 -0.080849 -0.505886  0.578456"
            ],
            "text/html": [
              "<div>\n",
              "<style scoped>\n",
              "    .dataframe tbody tr th:only-of-type {\n",
              "        vertical-align: middle;\n",
              "    }\n",
              "\n",
              "    .dataframe tbody tr th {\n",
              "        vertical-align: top;\n",
              "    }\n",
              "\n",
              "    .dataframe thead th {\n",
              "        text-align: right;\n",
              "    }\n",
              "</style>\n",
              "<table border=\"1\" class=\"dataframe\">\n",
              "  <thead>\n",
              "    <tr style=\"text-align: right;\">\n",
              "      <th></th>\n",
              "      <th>A</th>\n",
              "      <th>B</th>\n",
              "      <th>C</th>\n",
              "      <th>D</th>\n",
              "    </tr>\n",
              "  </thead>\n",
              "  <tbody>\n",
              "    <tr>\n",
              "      <th>0</th>\n",
              "      <td>-0.017361</td>\n",
              "      <td>-1.164056</td>\n",
              "      <td>1.145029</td>\n",
              "      <td>0.721500</td>\n",
              "    </tr>\n",
              "    <tr>\n",
              "      <th>1</th>\n",
              "      <td>-1.250208</td>\n",
              "      <td>0.878592</td>\n",
              "      <td>0.514172</td>\n",
              "      <td>0.269518</td>\n",
              "    </tr>\n",
              "    <tr>\n",
              "      <th>2</th>\n",
              "      <td>-0.291204</td>\n",
              "      <td>1.434118</td>\n",
              "      <td>1.073136</td>\n",
              "      <td>0.652087</td>\n",
              "    </tr>\n",
              "    <tr>\n",
              "      <th>3</th>\n",
              "      <td>-1.722127</td>\n",
              "      <td>-0.238816</td>\n",
              "      <td>-1.305321</td>\n",
              "      <td>-1.476502</td>\n",
              "    </tr>\n",
              "    <tr>\n",
              "      <th>4</th>\n",
              "      <td>-1.245518</td>\n",
              "      <td>-0.080849</td>\n",
              "      <td>-0.505886</td>\n",
              "      <td>0.578456</td>\n",
              "    </tr>\n",
              "  </tbody>\n",
              "</table>\n",
              "</div>"
            ]
          },
          "metadata": {},
          "execution_count": 63
        }
      ]
    },
    {
      "cell_type": "code",
      "source": [
        "psdf.index"
      ],
      "metadata": {
        "colab": {
          "base_uri": "https://localhost:8080/"
        },
        "id": "0poBjuhxuQUC",
        "outputId": "427bcc1c-3b01-4733-fdfc-e248b23f27ce"
      },
      "execution_count": null,
      "outputs": [
        {
          "output_type": "execute_result",
          "data": {
            "text/plain": [
              "Index([0, 1, 2, 3, 4, 5], dtype='int64')"
            ]
          },
          "metadata": {},
          "execution_count": 64
        }
      ]
    },
    {
      "cell_type": "code",
      "source": [
        "psdf.columns"
      ],
      "metadata": {
        "colab": {
          "base_uri": "https://localhost:8080/"
        },
        "id": "fyNoTihXuU3S",
        "outputId": "864e65df-0b2a-49bd-9172-41f2ce06af54"
      },
      "execution_count": null,
      "outputs": [
        {
          "output_type": "execute_result",
          "data": {
            "text/plain": [
              "Index(['A', 'B', 'C', 'D'], dtype='object')"
            ]
          },
          "metadata": {},
          "execution_count": 65
        }
      ]
    },
    {
      "cell_type": "code",
      "source": [
        "psdf.to_numpy()"
      ],
      "metadata": {
        "colab": {
          "base_uri": "https://localhost:8080/"
        },
        "id": "vPh8SiAguWoQ",
        "outputId": "1df1828d-0e7f-494b-9b21-f20a76406bcc"
      },
      "execution_count": null,
      "outputs": [
        {
          "output_type": "stream",
          "name": "stderr",
          "text": [
            "/usr/local/lib/python3.10/dist-packages/pyspark/pandas/utils.py:1016: PandasAPIOnSparkAdviceWarning: `to_numpy` loads all data into the driver's memory. It should only be used if the resulting NumPy ndarray is expected to be small.\n",
            "  warnings.warn(message, PandasAPIOnSparkAdviceWarning)\n"
          ]
        },
        {
          "output_type": "execute_result",
          "data": {
            "text/plain": [
              "array([[-0.01736132, -1.16405583,  1.14502938,  0.72149992],\n",
              "       [-1.25020785,  0.87859233,  0.51417169,  0.26951802],\n",
              "       [-0.29120448,  1.43411818,  1.07313554,  0.65208694],\n",
              "       [-1.72212689, -0.2388165 , -1.30532073, -1.47650237],\n",
              "       [-1.24551766, -0.08084867, -0.50588558,  0.57845572],\n",
              "       [ 0.46240265,  1.63580493,  0.06905172,  0.99367104]])"
            ]
          },
          "metadata": {},
          "execution_count": 66
        }
      ]
    },
    {
      "cell_type": "code",
      "source": [
        "psdf.describe()"
      ],
      "metadata": {
        "colab": {
          "base_uri": "https://localhost:8080/",
          "height": 300
        },
        "id": "d8sifi7SuZRH",
        "outputId": "be21fc6a-9f70-48fb-d2ef-9c204fc5cdf5"
      },
      "execution_count": null,
      "outputs": [
        {
          "output_type": "execute_result",
          "data": {
            "text/plain": [
              "              A         B         C         D\n",
              "count  6.000000  6.000000  6.000000  6.000000\n",
              "mean  -0.677336  0.410799  0.165030  0.289788\n",
              "std    0.851618  1.087248  0.951654  0.896282\n",
              "min   -1.722127 -1.164056 -1.305321 -1.476502\n",
              "25%   -1.250208 -0.238816 -0.505886  0.269518\n",
              "50%   -1.245518 -0.080849  0.069052  0.578456\n",
              "75%   -0.017361  1.434118  1.073136  0.721500\n",
              "max    0.462403  1.635805  1.145029  0.993671"
            ],
            "text/html": [
              "<div>\n",
              "<style scoped>\n",
              "    .dataframe tbody tr th:only-of-type {\n",
              "        vertical-align: middle;\n",
              "    }\n",
              "\n",
              "    .dataframe tbody tr th {\n",
              "        vertical-align: top;\n",
              "    }\n",
              "\n",
              "    .dataframe thead th {\n",
              "        text-align: right;\n",
              "    }\n",
              "</style>\n",
              "<table border=\"1\" class=\"dataframe\">\n",
              "  <thead>\n",
              "    <tr style=\"text-align: right;\">\n",
              "      <th></th>\n",
              "      <th>A</th>\n",
              "      <th>B</th>\n",
              "      <th>C</th>\n",
              "      <th>D</th>\n",
              "    </tr>\n",
              "  </thead>\n",
              "  <tbody>\n",
              "    <tr>\n",
              "      <th>count</th>\n",
              "      <td>6.000000</td>\n",
              "      <td>6.000000</td>\n",
              "      <td>6.000000</td>\n",
              "      <td>6.000000</td>\n",
              "    </tr>\n",
              "    <tr>\n",
              "      <th>mean</th>\n",
              "      <td>-0.677336</td>\n",
              "      <td>0.410799</td>\n",
              "      <td>0.165030</td>\n",
              "      <td>0.289788</td>\n",
              "    </tr>\n",
              "    <tr>\n",
              "      <th>std</th>\n",
              "      <td>0.851618</td>\n",
              "      <td>1.087248</td>\n",
              "      <td>0.951654</td>\n",
              "      <td>0.896282</td>\n",
              "    </tr>\n",
              "    <tr>\n",
              "      <th>min</th>\n",
              "      <td>-1.722127</td>\n",
              "      <td>-1.164056</td>\n",
              "      <td>-1.305321</td>\n",
              "      <td>-1.476502</td>\n",
              "    </tr>\n",
              "    <tr>\n",
              "      <th>25%</th>\n",
              "      <td>-1.250208</td>\n",
              "      <td>-0.238816</td>\n",
              "      <td>-0.505886</td>\n",
              "      <td>0.269518</td>\n",
              "    </tr>\n",
              "    <tr>\n",
              "      <th>50%</th>\n",
              "      <td>-1.245518</td>\n",
              "      <td>-0.080849</td>\n",
              "      <td>0.069052</td>\n",
              "      <td>0.578456</td>\n",
              "    </tr>\n",
              "    <tr>\n",
              "      <th>75%</th>\n",
              "      <td>-0.017361</td>\n",
              "      <td>1.434118</td>\n",
              "      <td>1.073136</td>\n",
              "      <td>0.721500</td>\n",
              "    </tr>\n",
              "    <tr>\n",
              "      <th>max</th>\n",
              "      <td>0.462403</td>\n",
              "      <td>1.635805</td>\n",
              "      <td>1.145029</td>\n",
              "      <td>0.993671</td>\n",
              "    </tr>\n",
              "  </tbody>\n",
              "</table>\n",
              "</div>"
            ]
          },
          "metadata": {},
          "execution_count": 67
        }
      ]
    },
    {
      "cell_type": "code",
      "source": [
        "psdf.T"
      ],
      "metadata": {
        "colab": {
          "base_uri": "https://localhost:8080/",
          "height": 175
        },
        "id": "G5_JjfJ9ubfH",
        "outputId": "7c589b5a-7a47-4072-da75-8590bf9861ef"
      },
      "execution_count": null,
      "outputs": [
        {
          "output_type": "execute_result",
          "data": {
            "text/plain": [
              "          0         1         2         3         4         5\n",
              "A -0.017361 -1.250208 -0.291204 -1.722127 -1.245518  0.462403\n",
              "B -1.164056  0.878592  1.434118 -0.238816 -0.080849  1.635805\n",
              "C  1.145029  0.514172  1.073136 -1.305321 -0.505886  0.069052\n",
              "D  0.721500  0.269518  0.652087 -1.476502  0.578456  0.993671"
            ],
            "text/html": [
              "<div>\n",
              "<style scoped>\n",
              "    .dataframe tbody tr th:only-of-type {\n",
              "        vertical-align: middle;\n",
              "    }\n",
              "\n",
              "    .dataframe tbody tr th {\n",
              "        vertical-align: top;\n",
              "    }\n",
              "\n",
              "    .dataframe thead th {\n",
              "        text-align: right;\n",
              "    }\n",
              "</style>\n",
              "<table border=\"1\" class=\"dataframe\">\n",
              "  <thead>\n",
              "    <tr style=\"text-align: right;\">\n",
              "      <th></th>\n",
              "      <th>0</th>\n",
              "      <th>1</th>\n",
              "      <th>2</th>\n",
              "      <th>3</th>\n",
              "      <th>4</th>\n",
              "      <th>5</th>\n",
              "    </tr>\n",
              "  </thead>\n",
              "  <tbody>\n",
              "    <tr>\n",
              "      <th>A</th>\n",
              "      <td>-0.017361</td>\n",
              "      <td>-1.250208</td>\n",
              "      <td>-0.291204</td>\n",
              "      <td>-1.722127</td>\n",
              "      <td>-1.245518</td>\n",
              "      <td>0.462403</td>\n",
              "    </tr>\n",
              "    <tr>\n",
              "      <th>B</th>\n",
              "      <td>-1.164056</td>\n",
              "      <td>0.878592</td>\n",
              "      <td>1.434118</td>\n",
              "      <td>-0.238816</td>\n",
              "      <td>-0.080849</td>\n",
              "      <td>1.635805</td>\n",
              "    </tr>\n",
              "    <tr>\n",
              "      <th>C</th>\n",
              "      <td>1.145029</td>\n",
              "      <td>0.514172</td>\n",
              "      <td>1.073136</td>\n",
              "      <td>-1.305321</td>\n",
              "      <td>-0.505886</td>\n",
              "      <td>0.069052</td>\n",
              "    </tr>\n",
              "    <tr>\n",
              "      <th>D</th>\n",
              "      <td>0.721500</td>\n",
              "      <td>0.269518</td>\n",
              "      <td>0.652087</td>\n",
              "      <td>-1.476502</td>\n",
              "      <td>0.578456</td>\n",
              "      <td>0.993671</td>\n",
              "    </tr>\n",
              "  </tbody>\n",
              "</table>\n",
              "</div>"
            ]
          },
          "metadata": {},
          "execution_count": 68
        }
      ]
    },
    {
      "cell_type": "code",
      "source": [
        "psdf.sort_index(ascending=False)"
      ],
      "metadata": {
        "colab": {
          "base_uri": "https://localhost:8080/",
          "height": 237
        },
        "id": "qmlSBD1zueAg",
        "outputId": "bf6ddec9-4c2e-47c5-ce0c-ca1d587b2134"
      },
      "execution_count": null,
      "outputs": [
        {
          "output_type": "execute_result",
          "data": {
            "text/plain": [
              "          A         B         C         D\n",
              "5  0.462403  1.635805  0.069052  0.993671\n",
              "4 -1.245518 -0.080849 -0.505886  0.578456\n",
              "3 -1.722127 -0.238816 -1.305321 -1.476502\n",
              "2 -0.291204  1.434118  1.073136  0.652087\n",
              "1 -1.250208  0.878592  0.514172  0.269518\n",
              "0 -0.017361 -1.164056  1.145029  0.721500"
            ],
            "text/html": [
              "<div>\n",
              "<style scoped>\n",
              "    .dataframe tbody tr th:only-of-type {\n",
              "        vertical-align: middle;\n",
              "    }\n",
              "\n",
              "    .dataframe tbody tr th {\n",
              "        vertical-align: top;\n",
              "    }\n",
              "\n",
              "    .dataframe thead th {\n",
              "        text-align: right;\n",
              "    }\n",
              "</style>\n",
              "<table border=\"1\" class=\"dataframe\">\n",
              "  <thead>\n",
              "    <tr style=\"text-align: right;\">\n",
              "      <th></th>\n",
              "      <th>A</th>\n",
              "      <th>B</th>\n",
              "      <th>C</th>\n",
              "      <th>D</th>\n",
              "    </tr>\n",
              "  </thead>\n",
              "  <tbody>\n",
              "    <tr>\n",
              "      <th>5</th>\n",
              "      <td>0.462403</td>\n",
              "      <td>1.635805</td>\n",
              "      <td>0.069052</td>\n",
              "      <td>0.993671</td>\n",
              "    </tr>\n",
              "    <tr>\n",
              "      <th>4</th>\n",
              "      <td>-1.245518</td>\n",
              "      <td>-0.080849</td>\n",
              "      <td>-0.505886</td>\n",
              "      <td>0.578456</td>\n",
              "    </tr>\n",
              "    <tr>\n",
              "      <th>3</th>\n",
              "      <td>-1.722127</td>\n",
              "      <td>-0.238816</td>\n",
              "      <td>-1.305321</td>\n",
              "      <td>-1.476502</td>\n",
              "    </tr>\n",
              "    <tr>\n",
              "      <th>2</th>\n",
              "      <td>-0.291204</td>\n",
              "      <td>1.434118</td>\n",
              "      <td>1.073136</td>\n",
              "      <td>0.652087</td>\n",
              "    </tr>\n",
              "    <tr>\n",
              "      <th>1</th>\n",
              "      <td>-1.250208</td>\n",
              "      <td>0.878592</td>\n",
              "      <td>0.514172</td>\n",
              "      <td>0.269518</td>\n",
              "    </tr>\n",
              "    <tr>\n",
              "      <th>0</th>\n",
              "      <td>-0.017361</td>\n",
              "      <td>-1.164056</td>\n",
              "      <td>1.145029</td>\n",
              "      <td>0.721500</td>\n",
              "    </tr>\n",
              "  </tbody>\n",
              "</table>\n",
              "</div>"
            ]
          },
          "metadata": {},
          "execution_count": 69
        }
      ]
    },
    {
      "cell_type": "code",
      "source": [
        "psdf.sort_values(by='B')"
      ],
      "metadata": {
        "colab": {
          "base_uri": "https://localhost:8080/",
          "height": 237
        },
        "id": "mZmROaGDugHA",
        "outputId": "63896232-1bfa-4a2e-d9cf-816167ed15a4"
      },
      "execution_count": null,
      "outputs": [
        {
          "output_type": "execute_result",
          "data": {
            "text/plain": [
              "          A         B         C         D\n",
              "0 -0.017361 -1.164056  1.145029  0.721500\n",
              "3 -1.722127 -0.238816 -1.305321 -1.476502\n",
              "4 -1.245518 -0.080849 -0.505886  0.578456\n",
              "1 -1.250208  0.878592  0.514172  0.269518\n",
              "2 -0.291204  1.434118  1.073136  0.652087\n",
              "5  0.462403  1.635805  0.069052  0.993671"
            ],
            "text/html": [
              "<div>\n",
              "<style scoped>\n",
              "    .dataframe tbody tr th:only-of-type {\n",
              "        vertical-align: middle;\n",
              "    }\n",
              "\n",
              "    .dataframe tbody tr th {\n",
              "        vertical-align: top;\n",
              "    }\n",
              "\n",
              "    .dataframe thead th {\n",
              "        text-align: right;\n",
              "    }\n",
              "</style>\n",
              "<table border=\"1\" class=\"dataframe\">\n",
              "  <thead>\n",
              "    <tr style=\"text-align: right;\">\n",
              "      <th></th>\n",
              "      <th>A</th>\n",
              "      <th>B</th>\n",
              "      <th>C</th>\n",
              "      <th>D</th>\n",
              "    </tr>\n",
              "  </thead>\n",
              "  <tbody>\n",
              "    <tr>\n",
              "      <th>0</th>\n",
              "      <td>-0.017361</td>\n",
              "      <td>-1.164056</td>\n",
              "      <td>1.145029</td>\n",
              "      <td>0.721500</td>\n",
              "    </tr>\n",
              "    <tr>\n",
              "      <th>3</th>\n",
              "      <td>-1.722127</td>\n",
              "      <td>-0.238816</td>\n",
              "      <td>-1.305321</td>\n",
              "      <td>-1.476502</td>\n",
              "    </tr>\n",
              "    <tr>\n",
              "      <th>4</th>\n",
              "      <td>-1.245518</td>\n",
              "      <td>-0.080849</td>\n",
              "      <td>-0.505886</td>\n",
              "      <td>0.578456</td>\n",
              "    </tr>\n",
              "    <tr>\n",
              "      <th>1</th>\n",
              "      <td>-1.250208</td>\n",
              "      <td>0.878592</td>\n",
              "      <td>0.514172</td>\n",
              "      <td>0.269518</td>\n",
              "    </tr>\n",
              "    <tr>\n",
              "      <th>2</th>\n",
              "      <td>-0.291204</td>\n",
              "      <td>1.434118</td>\n",
              "      <td>1.073136</td>\n",
              "      <td>0.652087</td>\n",
              "    </tr>\n",
              "    <tr>\n",
              "      <th>5</th>\n",
              "      <td>0.462403</td>\n",
              "      <td>1.635805</td>\n",
              "      <td>0.069052</td>\n",
              "      <td>0.993671</td>\n",
              "    </tr>\n",
              "  </tbody>\n",
              "</table>\n",
              "</div>"
            ]
          },
          "metadata": {},
          "execution_count": 70
        }
      ]
    },
    {
      "cell_type": "code",
      "source": [
        "pdf1 = pdf.reindex(index=dates[0:4], columns=list(pdf.columns) + ['E'])"
      ],
      "metadata": {
        "id": "nkls-bn2ujCA"
      },
      "execution_count": null,
      "outputs": []
    },
    {
      "cell_type": "code",
      "source": [
        "pdf1.loc[dates[0]:dates[1], 'E'] = 1"
      ],
      "metadata": {
        "id": "kt6JNFbgu5wd"
      },
      "execution_count": null,
      "outputs": []
    },
    {
      "cell_type": "code",
      "source": [
        "psdf1 = ps.from_pandas(pdf1)"
      ],
      "metadata": {
        "id": "cmlOuXE7u7aN"
      },
      "execution_count": null,
      "outputs": []
    },
    {
      "cell_type": "code",
      "source": [
        "psdf1"
      ],
      "metadata": {
        "colab": {
          "base_uri": "https://localhost:8080/",
          "height": 175
        },
        "id": "F0mJIIs4u9BL",
        "outputId": "7732c0fc-cc3a-4a98-8062-501c79484c4e"
      },
      "execution_count": null,
      "outputs": [
        {
          "output_type": "execute_result",
          "data": {
            "text/plain": [
              "                   A         B         C         D    E\n",
              "2013-01-01 -0.017361 -1.164056  1.145029  0.721500  1.0\n",
              "2013-01-02 -1.250208  0.878592  0.514172  0.269518  1.0\n",
              "2013-01-03 -0.291204  1.434118  1.073136  0.652087  NaN\n",
              "2013-01-04 -1.722127 -0.238816 -1.305321 -1.476502  NaN"
            ],
            "text/html": [
              "<div>\n",
              "<style scoped>\n",
              "    .dataframe tbody tr th:only-of-type {\n",
              "        vertical-align: middle;\n",
              "    }\n",
              "\n",
              "    .dataframe tbody tr th {\n",
              "        vertical-align: top;\n",
              "    }\n",
              "\n",
              "    .dataframe thead th {\n",
              "        text-align: right;\n",
              "    }\n",
              "</style>\n",
              "<table border=\"1\" class=\"dataframe\">\n",
              "  <thead>\n",
              "    <tr style=\"text-align: right;\">\n",
              "      <th></th>\n",
              "      <th>A</th>\n",
              "      <th>B</th>\n",
              "      <th>C</th>\n",
              "      <th>D</th>\n",
              "      <th>E</th>\n",
              "    </tr>\n",
              "  </thead>\n",
              "  <tbody>\n",
              "    <tr>\n",
              "      <th>2013-01-01</th>\n",
              "      <td>-0.017361</td>\n",
              "      <td>-1.164056</td>\n",
              "      <td>1.145029</td>\n",
              "      <td>0.721500</td>\n",
              "      <td>1.0</td>\n",
              "    </tr>\n",
              "    <tr>\n",
              "      <th>2013-01-02</th>\n",
              "      <td>-1.250208</td>\n",
              "      <td>0.878592</td>\n",
              "      <td>0.514172</td>\n",
              "      <td>0.269518</td>\n",
              "      <td>1.0</td>\n",
              "    </tr>\n",
              "    <tr>\n",
              "      <th>2013-01-03</th>\n",
              "      <td>-0.291204</td>\n",
              "      <td>1.434118</td>\n",
              "      <td>1.073136</td>\n",
              "      <td>0.652087</td>\n",
              "      <td>NaN</td>\n",
              "    </tr>\n",
              "    <tr>\n",
              "      <th>2013-01-04</th>\n",
              "      <td>-1.722127</td>\n",
              "      <td>-0.238816</td>\n",
              "      <td>-1.305321</td>\n",
              "      <td>-1.476502</td>\n",
              "      <td>NaN</td>\n",
              "    </tr>\n",
              "  </tbody>\n",
              "</table>\n",
              "</div>"
            ]
          },
          "metadata": {},
          "execution_count": 74
        }
      ]
    },
    {
      "cell_type": "code",
      "source": [
        "psdf1.dropna(how='any')"
      ],
      "metadata": {
        "colab": {
          "base_uri": "https://localhost:8080/",
          "height": 112
        },
        "id": "y0xgECehu-7P",
        "outputId": "8a1b7490-305a-43dc-ea54-20bde82b226b"
      },
      "execution_count": null,
      "outputs": [
        {
          "output_type": "execute_result",
          "data": {
            "text/plain": [
              "                   A         B         C         D    E\n",
              "2013-01-01 -0.017361 -1.164056  1.145029  0.721500  1.0\n",
              "2013-01-02 -1.250208  0.878592  0.514172  0.269518  1.0"
            ],
            "text/html": [
              "<div>\n",
              "<style scoped>\n",
              "    .dataframe tbody tr th:only-of-type {\n",
              "        vertical-align: middle;\n",
              "    }\n",
              "\n",
              "    .dataframe tbody tr th {\n",
              "        vertical-align: top;\n",
              "    }\n",
              "\n",
              "    .dataframe thead th {\n",
              "        text-align: right;\n",
              "    }\n",
              "</style>\n",
              "<table border=\"1\" class=\"dataframe\">\n",
              "  <thead>\n",
              "    <tr style=\"text-align: right;\">\n",
              "      <th></th>\n",
              "      <th>A</th>\n",
              "      <th>B</th>\n",
              "      <th>C</th>\n",
              "      <th>D</th>\n",
              "      <th>E</th>\n",
              "    </tr>\n",
              "  </thead>\n",
              "  <tbody>\n",
              "    <tr>\n",
              "      <th>2013-01-01</th>\n",
              "      <td>-0.017361</td>\n",
              "      <td>-1.164056</td>\n",
              "      <td>1.145029</td>\n",
              "      <td>0.721500</td>\n",
              "      <td>1.0</td>\n",
              "    </tr>\n",
              "    <tr>\n",
              "      <th>2013-01-02</th>\n",
              "      <td>-1.250208</td>\n",
              "      <td>0.878592</td>\n",
              "      <td>0.514172</td>\n",
              "      <td>0.269518</td>\n",
              "      <td>1.0</td>\n",
              "    </tr>\n",
              "  </tbody>\n",
              "</table>\n",
              "</div>"
            ]
          },
          "metadata": {},
          "execution_count": 75
        }
      ]
    },
    {
      "cell_type": "code",
      "source": [
        "psdf1.fillna(value=5)"
      ],
      "metadata": {
        "colab": {
          "base_uri": "https://localhost:8080/",
          "height": 175
        },
        "id": "RByHUCvOvCG7",
        "outputId": "972c6fd8-0925-4bd1-f43b-aa4631131c1b"
      },
      "execution_count": null,
      "outputs": [
        {
          "output_type": "execute_result",
          "data": {
            "text/plain": [
              "                   A         B         C         D    E\n",
              "2013-01-01 -0.017361 -1.164056  1.145029  0.721500  1.0\n",
              "2013-01-02 -1.250208  0.878592  0.514172  0.269518  1.0\n",
              "2013-01-03 -0.291204  1.434118  1.073136  0.652087  5.0\n",
              "2013-01-04 -1.722127 -0.238816 -1.305321 -1.476502  5.0"
            ],
            "text/html": [
              "<div>\n",
              "<style scoped>\n",
              "    .dataframe tbody tr th:only-of-type {\n",
              "        vertical-align: middle;\n",
              "    }\n",
              "\n",
              "    .dataframe tbody tr th {\n",
              "        vertical-align: top;\n",
              "    }\n",
              "\n",
              "    .dataframe thead th {\n",
              "        text-align: right;\n",
              "    }\n",
              "</style>\n",
              "<table border=\"1\" class=\"dataframe\">\n",
              "  <thead>\n",
              "    <tr style=\"text-align: right;\">\n",
              "      <th></th>\n",
              "      <th>A</th>\n",
              "      <th>B</th>\n",
              "      <th>C</th>\n",
              "      <th>D</th>\n",
              "      <th>E</th>\n",
              "    </tr>\n",
              "  </thead>\n",
              "  <tbody>\n",
              "    <tr>\n",
              "      <th>2013-01-01</th>\n",
              "      <td>-0.017361</td>\n",
              "      <td>-1.164056</td>\n",
              "      <td>1.145029</td>\n",
              "      <td>0.721500</td>\n",
              "      <td>1.0</td>\n",
              "    </tr>\n",
              "    <tr>\n",
              "      <th>2013-01-02</th>\n",
              "      <td>-1.250208</td>\n",
              "      <td>0.878592</td>\n",
              "      <td>0.514172</td>\n",
              "      <td>0.269518</td>\n",
              "      <td>1.0</td>\n",
              "    </tr>\n",
              "    <tr>\n",
              "      <th>2013-01-03</th>\n",
              "      <td>-0.291204</td>\n",
              "      <td>1.434118</td>\n",
              "      <td>1.073136</td>\n",
              "      <td>0.652087</td>\n",
              "      <td>5.0</td>\n",
              "    </tr>\n",
              "    <tr>\n",
              "      <th>2013-01-04</th>\n",
              "      <td>-1.722127</td>\n",
              "      <td>-0.238816</td>\n",
              "      <td>-1.305321</td>\n",
              "      <td>-1.476502</td>\n",
              "      <td>5.0</td>\n",
              "    </tr>\n",
              "  </tbody>\n",
              "</table>\n",
              "</div>"
            ]
          },
          "metadata": {},
          "execution_count": 76
        }
      ]
    },
    {
      "cell_type": "code",
      "source": [
        "psdf.mean()"
      ],
      "metadata": {
        "colab": {
          "base_uri": "https://localhost:8080/"
        },
        "id": "zdD2rXs1vUK2",
        "outputId": "22dca16b-face-47e3-b5ba-5e4a24cbcc57"
      },
      "execution_count": null,
      "outputs": [
        {
          "output_type": "execute_result",
          "data": {
            "text/plain": [
              "A   -0.677336\n",
              "B    0.410799\n",
              "C    0.165030\n",
              "D    0.289788\n",
              "dtype: float64"
            ]
          },
          "metadata": {},
          "execution_count": 77
        }
      ]
    },
    {
      "cell_type": "code",
      "source": [
        "prev = spark.conf.get(\"spark.sql.execution.arrow.pyspark.enabled\")  # Keep its default value.\n",
        "ps.set_option(\"compute.default_index_type\", \"distributed\")  # Use default index prevent overhead.\n",
        "import warnings\n",
        "warnings.filterwarnings(\"ignore\")  # Ignore warnings coming from Arrow optimizations."
      ],
      "metadata": {
        "id": "hzfjvu75vWfQ"
      },
      "execution_count": null,
      "outputs": []
    },
    {
      "cell_type": "code",
      "source": [
        "spark.conf.set(\"spark.sql.execution.arrow.pyspark.enabled\", True)\n",
        "%timeit ps.range(300000).to_pandas()"
      ],
      "metadata": {
        "colab": {
          "base_uri": "https://localhost:8080/"
        },
        "id": "K-J-4BGsvgwF",
        "outputId": "891fc296-701e-48ff-8386-f6f923010cc9"
      },
      "execution_count": null,
      "outputs": [
        {
          "output_type": "stream",
          "name": "stdout",
          "text": [
            "1.18 s ± 276 ms per loop (mean ± std. dev. of 7 runs, 1 loop each)\n"
          ]
        }
      ]
    },
    {
      "cell_type": "code",
      "source": [
        "spark.conf.set(\"spark.sql.execution.arrow.pyspark.enabled\", False)\n",
        "%timeit ps.range(300000).to_pandas()"
      ],
      "metadata": {
        "colab": {
          "base_uri": "https://localhost:8080/"
        },
        "id": "AqqwWSNjvisV",
        "outputId": "d7d46268-2370-444e-ce79-43d7c1cb9ea6"
      },
      "execution_count": null,
      "outputs": [
        {
          "output_type": "stream",
          "name": "stdout",
          "text": [
            "2.54 s ± 433 ms per loop (mean ± std. dev. of 7 runs, 1 loop each)\n"
          ]
        }
      ]
    },
    {
      "cell_type": "code",
      "source": [
        "ps.reset_option(\"compute.default_index_type\")\n",
        "spark.conf.set(\"spark.sql.execution.arrow.pyspark.enabled\", prev)  # Set its default value back."
      ],
      "metadata": {
        "id": "Gb5DNAmCvnHs"
      },
      "execution_count": null,
      "outputs": []
    },
    {
      "cell_type": "code",
      "source": [
        "psdf = ps.DataFrame({'A': ['foo', 'bar', 'foo', 'bar',\n",
        "                          'foo', 'bar', 'foo', 'foo'],\n",
        "                    'B': ['one', 'one', 'two', 'three',\n",
        "                          'two', 'two', 'one', 'three'],\n",
        "                    'C': np.random.randn(8),\n",
        "                    'D': np.random.randn(8)})"
      ],
      "metadata": {
        "id": "Jbb2ljM7wFAS"
      },
      "execution_count": null,
      "outputs": []
    },
    {
      "cell_type": "code",
      "source": [
        "psdf"
      ],
      "metadata": {
        "colab": {
          "base_uri": "https://localhost:8080/",
          "height": 300
        },
        "id": "nQzJle06wIp2",
        "outputId": "61cbe01c-8df3-4a10-df22-dae8132440a5"
      },
      "execution_count": null,
      "outputs": [
        {
          "output_type": "execute_result",
          "data": {
            "text/plain": [
              "     A      B         C         D\n",
              "0  foo    one  0.684383  0.212783\n",
              "1  bar    one  0.272596 -1.000022\n",
              "2  foo    two -1.842401  0.788304\n",
              "3  bar  three -0.486648  0.018531\n",
              "4  foo    two  0.671318 -0.561513\n",
              "5  bar    two  0.865087  1.263595\n",
              "6  foo    one  0.628753 -0.096941\n",
              "7  foo  three -0.612697  0.349741"
            ],
            "text/html": [
              "<div>\n",
              "<style scoped>\n",
              "    .dataframe tbody tr th:only-of-type {\n",
              "        vertical-align: middle;\n",
              "    }\n",
              "\n",
              "    .dataframe tbody tr th {\n",
              "        vertical-align: top;\n",
              "    }\n",
              "\n",
              "    .dataframe thead th {\n",
              "        text-align: right;\n",
              "    }\n",
              "</style>\n",
              "<table border=\"1\" class=\"dataframe\">\n",
              "  <thead>\n",
              "    <tr style=\"text-align: right;\">\n",
              "      <th></th>\n",
              "      <th>A</th>\n",
              "      <th>B</th>\n",
              "      <th>C</th>\n",
              "      <th>D</th>\n",
              "    </tr>\n",
              "  </thead>\n",
              "  <tbody>\n",
              "    <tr>\n",
              "      <th>0</th>\n",
              "      <td>foo</td>\n",
              "      <td>one</td>\n",
              "      <td>0.684383</td>\n",
              "      <td>0.212783</td>\n",
              "    </tr>\n",
              "    <tr>\n",
              "      <th>1</th>\n",
              "      <td>bar</td>\n",
              "      <td>one</td>\n",
              "      <td>0.272596</td>\n",
              "      <td>-1.000022</td>\n",
              "    </tr>\n",
              "    <tr>\n",
              "      <th>2</th>\n",
              "      <td>foo</td>\n",
              "      <td>two</td>\n",
              "      <td>-1.842401</td>\n",
              "      <td>0.788304</td>\n",
              "    </tr>\n",
              "    <tr>\n",
              "      <th>3</th>\n",
              "      <td>bar</td>\n",
              "      <td>three</td>\n",
              "      <td>-0.486648</td>\n",
              "      <td>0.018531</td>\n",
              "    </tr>\n",
              "    <tr>\n",
              "      <th>4</th>\n",
              "      <td>foo</td>\n",
              "      <td>two</td>\n",
              "      <td>0.671318</td>\n",
              "      <td>-0.561513</td>\n",
              "    </tr>\n",
              "    <tr>\n",
              "      <th>5</th>\n",
              "      <td>bar</td>\n",
              "      <td>two</td>\n",
              "      <td>0.865087</td>\n",
              "      <td>1.263595</td>\n",
              "    </tr>\n",
              "    <tr>\n",
              "      <th>6</th>\n",
              "      <td>foo</td>\n",
              "      <td>one</td>\n",
              "      <td>0.628753</td>\n",
              "      <td>-0.096941</td>\n",
              "    </tr>\n",
              "    <tr>\n",
              "      <th>7</th>\n",
              "      <td>foo</td>\n",
              "      <td>three</td>\n",
              "      <td>-0.612697</td>\n",
              "      <td>0.349741</td>\n",
              "    </tr>\n",
              "  </tbody>\n",
              "</table>\n",
              "</div>"
            ]
          },
          "metadata": {},
          "execution_count": 83
        }
      ]
    },
    {
      "cell_type": "code",
      "source": [
        "psdf.groupby('A').sum()"
      ],
      "metadata": {
        "colab": {
          "base_uri": "https://localhost:8080/",
          "height": 143
        },
        "id": "K2uIqxwpwLyo",
        "outputId": "19ee8d59-dd7c-4cdd-954e-217c97d50093"
      },
      "execution_count": null,
      "outputs": [
        {
          "output_type": "execute_result",
          "data": {
            "text/plain": [
              "            C         D\n",
              "A                      \n",
              "bar  0.651035  0.282104\n",
              "foo -0.470645  0.692374"
            ],
            "text/html": [
              "<div>\n",
              "<style scoped>\n",
              "    .dataframe tbody tr th:only-of-type {\n",
              "        vertical-align: middle;\n",
              "    }\n",
              "\n",
              "    .dataframe tbody tr th {\n",
              "        vertical-align: top;\n",
              "    }\n",
              "\n",
              "    .dataframe thead th {\n",
              "        text-align: right;\n",
              "    }\n",
              "</style>\n",
              "<table border=\"1\" class=\"dataframe\">\n",
              "  <thead>\n",
              "    <tr style=\"text-align: right;\">\n",
              "      <th></th>\n",
              "      <th>C</th>\n",
              "      <th>D</th>\n",
              "    </tr>\n",
              "    <tr>\n",
              "      <th>A</th>\n",
              "      <th></th>\n",
              "      <th></th>\n",
              "    </tr>\n",
              "  </thead>\n",
              "  <tbody>\n",
              "    <tr>\n",
              "      <th>bar</th>\n",
              "      <td>0.651035</td>\n",
              "      <td>0.282104</td>\n",
              "    </tr>\n",
              "    <tr>\n",
              "      <th>foo</th>\n",
              "      <td>-0.470645</td>\n",
              "      <td>0.692374</td>\n",
              "    </tr>\n",
              "  </tbody>\n",
              "</table>\n",
              "</div>"
            ]
          },
          "metadata": {},
          "execution_count": 84
        }
      ]
    },
    {
      "cell_type": "code",
      "source": [
        "psdf.groupby(['A', 'B']).sum()"
      ],
      "metadata": {
        "colab": {
          "base_uri": "https://localhost:8080/",
          "height": 269
        },
        "id": "J2IwXQoxwWgD",
        "outputId": "fe779004-4dcd-4a13-c3b9-dd478744619b"
      },
      "execution_count": null,
      "outputs": [
        {
          "output_type": "execute_result",
          "data": {
            "text/plain": [
              "                  C         D\n",
              "A   B                        \n",
              "foo one    1.313136  0.115841\n",
              "    two   -1.171083  0.226792\n",
              "bar three -0.486648  0.018531\n",
              "    one    0.272596 -1.000022\n",
              "foo three -0.612697  0.349741\n",
              "bar two    0.865087  1.263595"
            ],
            "text/html": [
              "<div>\n",
              "<style scoped>\n",
              "    .dataframe tbody tr th:only-of-type {\n",
              "        vertical-align: middle;\n",
              "    }\n",
              "\n",
              "    .dataframe tbody tr th {\n",
              "        vertical-align: top;\n",
              "    }\n",
              "\n",
              "    .dataframe thead th {\n",
              "        text-align: right;\n",
              "    }\n",
              "</style>\n",
              "<table border=\"1\" class=\"dataframe\">\n",
              "  <thead>\n",
              "    <tr style=\"text-align: right;\">\n",
              "      <th></th>\n",
              "      <th></th>\n",
              "      <th>C</th>\n",
              "      <th>D</th>\n",
              "    </tr>\n",
              "    <tr>\n",
              "      <th>A</th>\n",
              "      <th>B</th>\n",
              "      <th></th>\n",
              "      <th></th>\n",
              "    </tr>\n",
              "  </thead>\n",
              "  <tbody>\n",
              "    <tr>\n",
              "      <th rowspan=\"2\" valign=\"top\">foo</th>\n",
              "      <th>one</th>\n",
              "      <td>1.313136</td>\n",
              "      <td>0.115841</td>\n",
              "    </tr>\n",
              "    <tr>\n",
              "      <th>two</th>\n",
              "      <td>-1.171083</td>\n",
              "      <td>0.226792</td>\n",
              "    </tr>\n",
              "    <tr>\n",
              "      <th rowspan=\"2\" valign=\"top\">bar</th>\n",
              "      <th>three</th>\n",
              "      <td>-0.486648</td>\n",
              "      <td>0.018531</td>\n",
              "    </tr>\n",
              "    <tr>\n",
              "      <th>one</th>\n",
              "      <td>0.272596</td>\n",
              "      <td>-1.000022</td>\n",
              "    </tr>\n",
              "    <tr>\n",
              "      <th>foo</th>\n",
              "      <th>three</th>\n",
              "      <td>-0.612697</td>\n",
              "      <td>0.349741</td>\n",
              "    </tr>\n",
              "    <tr>\n",
              "      <th>bar</th>\n",
              "      <th>two</th>\n",
              "      <td>0.865087</td>\n",
              "      <td>1.263595</td>\n",
              "    </tr>\n",
              "  </tbody>\n",
              "</table>\n",
              "</div>"
            ]
          },
          "metadata": {},
          "execution_count": 85
        }
      ]
    },
    {
      "cell_type": "code",
      "source": [
        "pser = pd.Series(np.random.randn(1000),\n",
        "                 index=pd.date_range('1/1/2000', periods=1000))"
      ],
      "metadata": {
        "id": "N7DKON5ZwZ82"
      },
      "execution_count": null,
      "outputs": []
    },
    {
      "cell_type": "code",
      "source": [
        "psser = ps.Series(pser)"
      ],
      "metadata": {
        "id": "sASR00tmwc6K"
      },
      "execution_count": null,
      "outputs": []
    },
    {
      "cell_type": "code",
      "source": [
        "psser = psser.cummax()"
      ],
      "metadata": {
        "id": "IOCvqZjTwe1r"
      },
      "execution_count": null,
      "outputs": []
    },
    {
      "cell_type": "code",
      "source": [
        "psser.plot()"
      ],
      "metadata": {
        "colab": {
          "base_uri": "https://localhost:8080/",
          "height": 542
        },
        "id": "xPRQXy0mwpCj",
        "outputId": "9b4a6066-4df1-465c-ed3c-aa8b5dd08bc8"
      },
      "execution_count": null,
      "outputs": [
        {
          "output_type": "display_data",
          "data": {
            "text/html": [
              "<html>\n",
              "<head><meta charset=\"utf-8\" /></head>\n",
              "<body>\n",
              "    <div>            <script src=\"https://cdnjs.cloudflare.com/ajax/libs/mathjax/2.7.5/MathJax.js?config=TeX-AMS-MML_SVG\"></script><script type=\"text/javascript\">if (window.MathJax && window.MathJax.Hub && window.MathJax.Hub.Config) {window.MathJax.Hub.Config({SVG: {font: \"STIX-Web\"}});}</script>                <script type=\"text/javascript\">window.PlotlyConfig = {MathJaxConfig: 'local'};</script>\n",
              "        <script charset=\"utf-8\" src=\"https://cdn.plot.ly/plotly-2.24.1.min.js\"></script>                <div id=\"5df7c311-4b46-4f63-ac36-f3ff21c57799\" class=\"plotly-graph-div\" style=\"height:525px; width:100%;\"></div>            <script type=\"text/javascript\">                                    window.PLOTLYENV=window.PLOTLYENV || {};                                    if (document.getElementById(\"5df7c311-4b46-4f63-ac36-f3ff21c57799\")) {                    Plotly.newPlot(                        \"5df7c311-4b46-4f63-ac36-f3ff21c57799\",                        [{\"hovertemplate\":\"variable=0\\u003cbr\\u003eindex=%{x}\\u003cbr\\u003evalue=%{y}\\u003cextra\\u003e\\u003c\\u002fextra\\u003e\",\"legendgroup\":\"0\",\"line\":{\"color\":\"#636efa\",\"dash\":\"solid\"},\"marker\":{\"symbol\":\"circle\"},\"mode\":\"lines\",\"name\":\"0\",\"orientation\":\"v\",\"showlegend\":true,\"x\":[\"2000-01-01T00:00:00\",\"2000-01-02T00:00:00\",\"2000-01-03T00:00:00\",\"2000-01-04T00:00:00\",\"2000-01-05T00:00:00\",\"2000-01-06T00:00:00\",\"2000-01-07T00:00:00\",\"2000-01-08T00:00:00\",\"2000-01-09T00:00:00\",\"2000-01-10T00:00:00\",\"2000-01-11T00:00:00\",\"2000-01-12T00:00:00\",\"2000-01-13T00:00:00\",\"2000-01-14T00:00:00\",\"2000-01-15T00:00:00\",\"2000-01-16T00:00:00\",\"2000-01-17T00:00:00\",\"2000-01-18T00:00:00\",\"2000-01-19T00:00:00\",\"2000-01-20T00:00:00\",\"2000-01-21T00:00:00\",\"2000-01-22T00:00:00\",\"2000-01-23T00:00:00\",\"2000-01-24T00:00:00\",\"2000-01-25T00:00:00\",\"2000-01-26T00:00:00\",\"2000-01-27T00:00:00\",\"2000-01-28T00:00:00\",\"2000-01-29T00:00:00\",\"2000-01-30T00:00:00\",\"2000-01-31T00:00:00\",\"2000-02-01T00:00:00\",\"2000-02-02T00:00:00\",\"2000-02-03T00:00:00\",\"2000-02-04T00:00:00\",\"2000-02-05T00:00:00\",\"2000-02-06T00:00:00\",\"2000-02-07T00:00:00\",\"2000-02-08T00:00:00\",\"2000-02-09T00:00:00\",\"2000-02-10T00:00:00\",\"2000-02-11T00:00:00\",\"2000-02-12T00:00:00\",\"2000-02-13T00:00:00\",\"2000-02-14T00:00:00\",\"2000-02-15T00:00:00\",\"2000-02-16T00:00:00\",\"2000-02-17T00:00:00\",\"2000-02-18T00:00:00\",\"2000-02-19T00:00:00\",\"2000-02-20T00:00:00\",\"2000-02-21T00:00:00\",\"2000-02-22T00:00:00\",\"2000-02-23T00:00:00\",\"2000-02-24T00:00:00\",\"2000-02-25T00:00:00\",\"2000-02-26T00:00:00\",\"2000-02-27T00:00:00\",\"2000-02-28T00:00:00\",\"2000-02-29T00:00:00\",\"2000-03-01T00:00:00\",\"2000-03-02T00:00:00\",\"2000-03-03T00:00:00\",\"2000-03-04T00:00:00\",\"2000-03-05T00:00:00\",\"2000-03-06T00:00:00\",\"2000-03-07T00:00:00\",\"2000-03-08T00:00:00\",\"2000-03-09T00:00:00\",\"2000-03-10T00:00:00\",\"2000-03-11T00:00:00\",\"2000-03-12T00:00:00\",\"2000-03-13T00:00:00\",\"2000-03-14T00:00:00\",\"2000-03-15T00:00:00\",\"2000-03-16T00:00:00\",\"2000-03-17T00:00:00\",\"2000-03-18T00:00:00\",\"2000-03-19T00:00:00\",\"2000-03-20T00:00:00\",\"2000-03-21T00:00:00\",\"2000-03-22T00:00:00\",\"2000-03-23T00:00:00\",\"2000-03-24T00:00:00\",\"2000-03-25T00:00:00\",\"2000-03-26T00:00:00\",\"2000-03-27T00:00:00\",\"2000-03-28T00:00:00\",\"2000-03-29T00:00:00\",\"2000-03-30T00:00:00\",\"2000-03-31T00:00:00\",\"2000-04-01T00:00:00\",\"2000-04-02T00:00:00\",\"2000-04-03T00:00:00\",\"2000-04-04T00:00:00\",\"2000-04-05T00:00:00\",\"2000-04-06T00:00:00\",\"2000-04-07T00:00:00\",\"2000-04-08T00:00:00\",\"2000-04-09T00:00:00\",\"2000-04-10T00:00:00\",\"2000-04-11T00:00:00\",\"2000-04-12T00:00:00\",\"2000-04-13T00:00:00\",\"2000-04-14T00:00:00\",\"2000-04-15T00:00:00\",\"2000-04-16T00:00:00\",\"2000-04-17T00:00:00\",\"2000-04-18T00:00:00\",\"2000-04-19T00:00:00\",\"2000-04-20T00:00:00\",\"2000-04-21T00:00:00\",\"2000-04-22T00:00:00\",\"2000-04-23T00:00:00\",\"2000-04-24T00:00:00\",\"2000-04-25T00:00:00\",\"2000-04-26T00:00:00\",\"2000-04-27T00:00:00\",\"2000-04-28T00:00:00\",\"2000-04-29T00:00:00\",\"2000-04-30T00:00:00\",\"2000-05-01T00:00:00\",\"2000-05-02T00:00:00\",\"2000-05-03T00:00:00\",\"2000-05-04T00:00:00\",\"2000-05-05T00:00:00\",\"2000-05-06T00:00:00\",\"2000-05-07T00:00:00\",\"2000-05-08T00:00:00\",\"2000-05-09T00:00:00\",\"2000-05-10T00:00:00\",\"2000-05-11T00:00:00\",\"2000-05-12T00:00:00\",\"2000-05-13T00:00:00\",\"2000-05-14T00:00:00\",\"2000-05-15T00:00:00\",\"2000-05-16T00:00:00\",\"2000-05-17T00:00:00\",\"2000-05-18T00:00:00\",\"2000-05-19T00:00:00\",\"2000-05-20T00:00:00\",\"2000-05-21T00:00:00\",\"2000-05-22T00:00:00\",\"2000-05-23T00:00:00\",\"2000-05-24T00:00:00\",\"2000-05-25T00:00:00\",\"2000-05-26T00:00:00\",\"2000-05-27T00:00:00\",\"2000-05-28T00:00:00\",\"2000-05-29T00:00:00\",\"2000-05-30T00:00:00\",\"2000-05-31T00:00:00\",\"2000-06-01T00:00:00\",\"2000-06-02T00:00:00\",\"2000-06-03T00:00:00\",\"2000-06-04T00:00:00\",\"2000-06-05T00:00:00\",\"2000-06-06T00:00:00\",\"2000-06-07T00:00:00\",\"2000-06-08T00:00:00\",\"2000-06-09T00:00:00\",\"2000-06-10T00:00:00\",\"2000-06-11T00:00:00\",\"2000-06-12T00:00:00\",\"2000-06-13T00:00:00\",\"2000-06-14T00:00:00\",\"2000-06-15T00:00:00\",\"2000-06-16T00:00:00\",\"2000-06-17T00:00:00\",\"2000-06-18T00:00:00\",\"2000-06-19T00:00:00\",\"2000-06-20T00:00:00\",\"2000-06-21T00:00:00\",\"2000-06-22T00:00:00\",\"2000-06-23T00:00:00\",\"2000-06-24T00:00:00\",\"2000-06-25T00:00:00\",\"2000-06-26T00:00:00\",\"2000-06-27T00:00:00\",\"2000-06-28T00:00:00\",\"2000-06-29T00:00:00\",\"2000-06-30T00:00:00\",\"2000-07-01T00:00:00\",\"2000-07-02T00:00:00\",\"2000-07-03T00:00:00\",\"2000-07-04T00:00:00\",\"2000-07-05T00:00:00\",\"2000-07-06T00:00:00\",\"2000-07-07T00:00:00\",\"2000-07-08T00:00:00\",\"2000-07-09T00:00:00\",\"2000-07-10T00:00:00\",\"2000-07-11T00:00:00\",\"2000-07-12T00:00:00\",\"2000-07-13T00:00:00\",\"2000-07-14T00:00:00\",\"2000-07-15T00:00:00\",\"2000-07-16T00:00:00\",\"2000-07-17T00:00:00\",\"2000-07-18T00:00:00\",\"2000-07-19T00:00:00\",\"2000-07-20T00:00:00\",\"2000-07-21T00:00:00\",\"2000-07-22T00:00:00\",\"2000-07-23T00:00:00\",\"2000-07-24T00:00:00\",\"2000-07-25T00:00:00\",\"2000-07-26T00:00:00\",\"2000-07-27T00:00:00\",\"2000-07-28T00:00:00\",\"2000-07-29T00:00:00\",\"2000-07-30T00:00:00\",\"2000-07-31T00:00:00\",\"2000-08-01T00:00:00\",\"2000-08-02T00:00:00\",\"2000-08-03T00:00:00\",\"2000-08-04T00:00:00\",\"2000-08-05T00:00:00\",\"2000-08-06T00:00:00\",\"2000-08-07T00:00:00\",\"2000-08-08T00:00:00\",\"2000-08-09T00:00:00\",\"2000-08-10T00:00:00\",\"2000-08-11T00:00:00\",\"2000-08-12T00:00:00\",\"2000-08-13T00:00:00\",\"2000-08-14T00:00:00\",\"2000-08-15T00:00:00\",\"2000-08-16T00:00:00\",\"2000-08-17T00:00:00\",\"2000-08-18T00:00:00\",\"2000-08-19T00:00:00\",\"2000-08-20T00:00:00\",\"2000-08-21T00:00:00\",\"2000-08-22T00:00:00\",\"2000-08-23T00:00:00\",\"2000-08-24T00:00:00\",\"2000-08-25T00:00:00\",\"2000-08-26T00:00:00\",\"2000-08-27T00:00:00\",\"2000-08-28T00:00:00\",\"2000-08-29T00:00:00\",\"2000-08-30T00:00:00\",\"2000-08-31T00:00:00\",\"2000-09-01T00:00:00\",\"2000-09-02T00:00:00\",\"2000-09-03T00:00:00\",\"2000-09-04T00:00:00\",\"2000-09-05T00:00:00\",\"2000-09-06T00:00:00\",\"2000-09-07T00:00:00\",\"2000-09-08T00:00:00\",\"2000-09-09T00:00:00\",\"2000-09-10T00:00:00\",\"2000-09-11T00:00:00\",\"2000-09-12T00:00:00\",\"2000-09-13T00:00:00\",\"2000-09-14T00:00:00\",\"2000-09-15T00:00:00\",\"2000-09-16T00:00:00\",\"2000-09-17T00:00:00\",\"2000-09-18T00:00:00\",\"2000-09-19T00:00:00\",\"2000-09-20T00:00:00\",\"2000-09-21T00:00:00\",\"2000-09-22T00:00:00\",\"2000-09-23T00:00:00\",\"2000-09-24T00:00:00\",\"2000-09-25T00:00:00\",\"2000-09-26T00:00:00\",\"2000-09-27T00:00:00\",\"2000-09-28T00:00:00\",\"2000-09-29T00:00:00\",\"2000-09-30T00:00:00\",\"2000-10-01T00:00:00\",\"2000-10-02T00:00:00\",\"2000-10-03T00:00:00\",\"2000-10-04T00:00:00\",\"2000-10-05T00:00:00\",\"2000-10-06T00:00:00\",\"2000-10-07T00:00:00\",\"2000-10-08T00:00:00\",\"2000-10-09T00:00:00\",\"2000-10-10T00:00:00\",\"2000-10-11T00:00:00\",\"2000-10-12T00:00:00\",\"2000-10-13T00:00:00\",\"2000-10-14T00:00:00\",\"2000-10-15T00:00:00\",\"2000-10-16T00:00:00\",\"2000-10-17T00:00:00\",\"2000-10-18T00:00:00\",\"2000-10-19T00:00:00\",\"2000-10-20T00:00:00\",\"2000-10-21T00:00:00\",\"2000-10-22T00:00:00\",\"2000-10-23T00:00:00\",\"2000-10-24T00:00:00\",\"2000-10-25T00:00:00\",\"2000-10-26T00:00:00\",\"2000-10-27T00:00:00\",\"2000-10-28T00:00:00\",\"2000-10-29T00:00:00\",\"2000-10-30T00:00:00\",\"2000-10-31T00:00:00\",\"2000-11-01T00:00:00\",\"2000-11-02T00:00:00\",\"2000-11-03T00:00:00\",\"2000-11-04T00:00:00\",\"2000-11-05T00:00:00\",\"2000-11-06T00:00:00\",\"2000-11-07T00:00:00\",\"2000-11-08T00:00:00\",\"2000-11-09T00:00:00\",\"2000-11-10T00:00:00\",\"2000-11-11T00:00:00\",\"2000-11-12T00:00:00\",\"2000-11-13T00:00:00\",\"2000-11-14T00:00:00\",\"2000-11-15T00:00:00\",\"2000-11-16T00:00:00\",\"2000-11-17T00:00:00\",\"2000-11-18T00:00:00\",\"2000-11-19T00:00:00\",\"2000-11-20T00:00:00\",\"2000-11-21T00:00:00\",\"2000-11-22T00:00:00\",\"2000-11-23T00:00:00\",\"2000-11-24T00:00:00\",\"2000-11-25T00:00:00\",\"2000-11-26T00:00:00\",\"2000-11-27T00:00:00\",\"2000-11-28T00:00:00\",\"2000-11-29T00:00:00\",\"2000-11-30T00:00:00\",\"2000-12-01T00:00:00\",\"2000-12-02T00:00:00\",\"2000-12-03T00:00:00\",\"2000-12-04T00:00:00\",\"2000-12-05T00:00:00\",\"2000-12-06T00:00:00\",\"2000-12-07T00:00:00\",\"2000-12-08T00:00:00\",\"2000-12-09T00:00:00\",\"2000-12-10T00:00:00\",\"2000-12-11T00:00:00\",\"2000-12-12T00:00:00\",\"2000-12-13T00:00:00\",\"2000-12-14T00:00:00\",\"2000-12-15T00:00:00\",\"2000-12-16T00:00:00\",\"2000-12-17T00:00:00\",\"2000-12-18T00:00:00\",\"2000-12-19T00:00:00\",\"2000-12-20T00:00:00\",\"2000-12-21T00:00:00\",\"2000-12-22T00:00:00\",\"2000-12-23T00:00:00\",\"2000-12-24T00:00:00\",\"2000-12-25T00:00:00\",\"2000-12-26T00:00:00\",\"2000-12-27T00:00:00\",\"2000-12-28T00:00:00\",\"2000-12-29T00:00:00\",\"2000-12-30T00:00:00\",\"2000-12-31T00:00:00\",\"2001-01-01T00:00:00\",\"2001-01-02T00:00:00\",\"2001-01-03T00:00:00\",\"2001-01-04T00:00:00\",\"2001-01-05T00:00:00\",\"2001-01-06T00:00:00\",\"2001-01-07T00:00:00\",\"2001-01-08T00:00:00\",\"2001-01-09T00:00:00\",\"2001-01-10T00:00:00\",\"2001-01-11T00:00:00\",\"2001-01-12T00:00:00\",\"2001-01-13T00:00:00\",\"2001-01-14T00:00:00\",\"2001-01-15T00:00:00\",\"2001-01-16T00:00:00\",\"2001-01-17T00:00:00\",\"2001-01-18T00:00:00\",\"2001-01-19T00:00:00\",\"2001-01-20T00:00:00\",\"2001-01-21T00:00:00\",\"2001-01-22T00:00:00\",\"2001-01-23T00:00:00\",\"2001-01-24T00:00:00\",\"2001-01-25T00:00:00\",\"2001-01-26T00:00:00\",\"2001-01-27T00:00:00\",\"2001-01-28T00:00:00\",\"2001-01-29T00:00:00\",\"2001-01-30T00:00:00\",\"2001-01-31T00:00:00\",\"2001-02-01T00:00:00\",\"2001-02-02T00:00:00\",\"2001-02-03T00:00:00\",\"2001-02-04T00:00:00\",\"2001-02-05T00:00:00\",\"2001-02-06T00:00:00\",\"2001-02-07T00:00:00\",\"2001-02-08T00:00:00\",\"2001-02-09T00:00:00\",\"2001-02-10T00:00:00\",\"2001-02-11T00:00:00\",\"2001-02-12T00:00:00\",\"2001-02-13T00:00:00\",\"2001-02-14T00:00:00\",\"2001-02-15T00:00:00\",\"2001-02-16T00:00:00\",\"2001-02-17T00:00:00\",\"2001-02-18T00:00:00\",\"2001-02-19T00:00:00\",\"2001-02-20T00:00:00\",\"2001-02-21T00:00:00\",\"2001-02-22T00:00:00\",\"2001-02-23T00:00:00\",\"2001-02-24T00:00:00\",\"2001-02-25T00:00:00\",\"2001-02-26T00:00:00\",\"2001-02-27T00:00:00\",\"2001-02-28T00:00:00\",\"2001-03-01T00:00:00\",\"2001-03-02T00:00:00\",\"2001-03-03T00:00:00\",\"2001-03-04T00:00:00\",\"2001-03-05T00:00:00\",\"2001-03-06T00:00:00\",\"2001-03-07T00:00:00\",\"2001-03-08T00:00:00\",\"2001-03-09T00:00:00\",\"2001-03-10T00:00:00\",\"2001-03-11T00:00:00\",\"2001-03-12T00:00:00\",\"2001-03-13T00:00:00\",\"2001-03-14T00:00:00\",\"2001-03-15T00:00:00\",\"2001-03-16T00:00:00\",\"2001-03-17T00:00:00\",\"2001-03-18T00:00:00\",\"2001-03-19T00:00:00\",\"2001-03-20T00:00:00\",\"2001-03-21T00:00:00\",\"2001-03-22T00:00:00\",\"2001-03-23T00:00:00\",\"2001-03-24T00:00:00\",\"2001-03-25T00:00:00\",\"2001-03-26T00:00:00\",\"2001-03-27T00:00:00\",\"2001-03-28T00:00:00\",\"2001-03-29T00:00:00\",\"2001-03-30T00:00:00\",\"2001-03-31T00:00:00\",\"2001-04-01T00:00:00\",\"2001-04-02T00:00:00\",\"2001-04-03T00:00:00\",\"2001-04-04T00:00:00\",\"2001-04-05T00:00:00\",\"2001-04-06T00:00:00\",\"2001-04-07T00:00:00\",\"2001-04-08T00:00:00\",\"2001-04-09T00:00:00\",\"2001-04-10T00:00:00\",\"2001-04-11T00:00:00\",\"2001-04-12T00:00:00\",\"2001-04-13T00:00:00\",\"2001-04-14T00:00:00\",\"2001-04-15T00:00:00\",\"2001-04-16T00:00:00\",\"2001-04-17T00:00:00\",\"2001-04-18T00:00:00\",\"2001-04-19T00:00:00\",\"2001-04-20T00:00:00\",\"2001-04-21T00:00:00\",\"2001-04-22T00:00:00\",\"2001-04-23T00:00:00\",\"2001-04-24T00:00:00\",\"2001-04-25T00:00:00\",\"2001-04-26T00:00:00\",\"2001-04-27T00:00:00\",\"2001-04-28T00:00:00\",\"2001-04-29T00:00:00\",\"2001-04-30T00:00:00\",\"2001-05-01T00:00:00\",\"2001-05-02T00:00:00\",\"2001-05-03T00:00:00\",\"2001-05-04T00:00:00\",\"2001-05-05T00:00:00\",\"2001-05-06T00:00:00\",\"2001-05-07T00:00:00\",\"2001-05-08T00:00:00\",\"2001-05-09T00:00:00\",\"2001-05-10T00:00:00\",\"2001-05-11T00:00:00\",\"2001-05-12T00:00:00\",\"2001-05-13T00:00:00\",\"2001-05-14T00:00:00\",\"2001-05-15T00:00:00\",\"2001-05-16T00:00:00\",\"2001-05-17T00:00:00\",\"2001-05-18T00:00:00\",\"2001-05-19T00:00:00\",\"2001-05-20T00:00:00\",\"2001-05-21T00:00:00\",\"2001-05-22T00:00:00\",\"2001-05-23T00:00:00\",\"2001-05-24T00:00:00\",\"2001-05-25T00:00:00\",\"2001-05-26T00:00:00\",\"2001-05-27T00:00:00\",\"2001-05-28T00:00:00\",\"2001-05-29T00:00:00\",\"2001-05-30T00:00:00\",\"2001-05-31T00:00:00\",\"2001-06-01T00:00:00\",\"2001-06-02T00:00:00\",\"2001-06-03T00:00:00\",\"2001-06-04T00:00:00\",\"2001-06-05T00:00:00\",\"2001-06-06T00:00:00\",\"2001-06-07T00:00:00\",\"2001-06-08T00:00:00\",\"2001-06-09T00:00:00\",\"2001-06-10T00:00:00\",\"2001-06-11T00:00:00\",\"2001-06-12T00:00:00\",\"2001-06-13T00:00:00\",\"2001-06-14T00:00:00\",\"2001-06-15T00:00:00\",\"2001-06-16T00:00:00\",\"2001-06-17T00:00:00\",\"2001-06-18T00:00:00\",\"2001-06-19T00:00:00\",\"2001-06-20T00:00:00\",\"2001-06-21T00:00:00\",\"2001-06-22T00:00:00\",\"2001-06-23T00:00:00\",\"2001-06-24T00:00:00\",\"2001-06-25T00:00:00\",\"2001-06-26T00:00:00\",\"2001-06-27T00:00:00\",\"2001-06-28T00:00:00\",\"2001-06-29T00:00:00\",\"2001-06-30T00:00:00\",\"2001-07-01T00:00:00\",\"2001-07-02T00:00:00\",\"2001-07-03T00:00:00\",\"2001-07-04T00:00:00\",\"2001-07-05T00:00:00\",\"2001-07-06T00:00:00\",\"2001-07-07T00:00:00\",\"2001-07-08T00:00:00\",\"2001-07-09T00:00:00\",\"2001-07-10T00:00:00\",\"2001-07-11T00:00:00\",\"2001-07-12T00:00:00\",\"2001-07-13T00:00:00\",\"2001-07-14T00:00:00\",\"2001-07-15T00:00:00\",\"2001-07-16T00:00:00\",\"2001-07-17T00:00:00\",\"2001-07-18T00:00:00\",\"2001-07-19T00:00:00\",\"2001-07-20T00:00:00\",\"2001-07-21T00:00:00\",\"2001-07-22T00:00:00\",\"2001-07-23T00:00:00\",\"2001-07-24T00:00:00\",\"2001-07-25T00:00:00\",\"2001-07-26T00:00:00\",\"2001-07-27T00:00:00\",\"2001-07-28T00:00:00\",\"2001-07-29T00:00:00\",\"2001-07-30T00:00:00\",\"2001-07-31T00:00:00\",\"2001-08-01T00:00:00\",\"2001-08-02T00:00:00\",\"2001-08-03T00:00:00\",\"2001-08-04T00:00:00\",\"2001-08-05T00:00:00\",\"2001-08-06T00:00:00\",\"2001-08-07T00:00:00\",\"2001-08-08T00:00:00\",\"2001-08-09T00:00:00\",\"2001-08-10T00:00:00\",\"2001-08-11T00:00:00\",\"2001-08-12T00:00:00\",\"2001-08-13T00:00:00\",\"2001-08-14T00:00:00\",\"2001-08-15T00:00:00\",\"2001-08-16T00:00:00\",\"2001-08-17T00:00:00\",\"2001-08-18T00:00:00\",\"2001-08-19T00:00:00\",\"2001-08-20T00:00:00\",\"2001-08-21T00:00:00\",\"2001-08-22T00:00:00\",\"2001-08-23T00:00:00\",\"2001-08-24T00:00:00\",\"2001-08-25T00:00:00\",\"2001-08-26T00:00:00\",\"2001-08-27T00:00:00\",\"2001-08-28T00:00:00\",\"2001-08-29T00:00:00\",\"2001-08-30T00:00:00\",\"2001-08-31T00:00:00\",\"2001-09-01T00:00:00\",\"2001-09-02T00:00:00\",\"2001-09-03T00:00:00\",\"2001-09-04T00:00:00\",\"2001-09-05T00:00:00\",\"2001-09-06T00:00:00\",\"2001-09-07T00:00:00\",\"2001-09-08T00:00:00\",\"2001-09-09T00:00:00\",\"2001-09-10T00:00:00\",\"2001-09-11T00:00:00\",\"2001-09-12T00:00:00\",\"2001-09-13T00:00:00\",\"2001-09-14T00:00:00\",\"2001-09-15T00:00:00\",\"2001-09-16T00:00:00\",\"2001-09-17T00:00:00\",\"2001-09-18T00:00:00\",\"2001-09-19T00:00:00\",\"2001-09-20T00:00:00\",\"2001-09-21T00:00:00\",\"2001-09-22T00:00:00\",\"2001-09-23T00:00:00\",\"2001-09-24T00:00:00\",\"2001-09-25T00:00:00\",\"2001-09-26T00:00:00\",\"2001-09-27T00:00:00\",\"2001-09-28T00:00:00\",\"2001-09-29T00:00:00\",\"2001-09-30T00:00:00\",\"2001-10-01T00:00:00\",\"2001-10-02T00:00:00\",\"2001-10-03T00:00:00\",\"2001-10-04T00:00:00\",\"2001-10-05T00:00:00\",\"2001-10-06T00:00:00\",\"2001-10-07T00:00:00\",\"2001-10-08T00:00:00\",\"2001-10-09T00:00:00\",\"2001-10-10T00:00:00\",\"2001-10-11T00:00:00\",\"2001-10-12T00:00:00\",\"2001-10-13T00:00:00\",\"2001-10-14T00:00:00\",\"2001-10-15T00:00:00\",\"2001-10-16T00:00:00\",\"2001-10-17T00:00:00\",\"2001-10-18T00:00:00\",\"2001-10-19T00:00:00\",\"2001-10-20T00:00:00\",\"2001-10-21T00:00:00\",\"2001-10-22T00:00:00\",\"2001-10-23T00:00:00\",\"2001-10-24T00:00:00\",\"2001-10-25T00:00:00\",\"2001-10-26T00:00:00\",\"2001-10-27T00:00:00\",\"2001-10-28T00:00:00\",\"2001-10-29T00:00:00\",\"2001-10-30T00:00:00\",\"2001-10-31T00:00:00\",\"2001-11-01T00:00:00\",\"2001-11-02T00:00:00\",\"2001-11-03T00:00:00\",\"2001-11-04T00:00:00\",\"2001-11-05T00:00:00\",\"2001-11-06T00:00:00\",\"2001-11-07T00:00:00\",\"2001-11-08T00:00:00\",\"2001-11-09T00:00:00\",\"2001-11-10T00:00:00\",\"2001-11-11T00:00:00\",\"2001-11-12T00:00:00\",\"2001-11-13T00:00:00\",\"2001-11-14T00:00:00\",\"2001-11-15T00:00:00\",\"2001-11-16T00:00:00\",\"2001-11-17T00:00:00\",\"2001-11-18T00:00:00\",\"2001-11-19T00:00:00\",\"2001-11-20T00:00:00\",\"2001-11-21T00:00:00\",\"2001-11-22T00:00:00\",\"2001-11-23T00:00:00\",\"2001-11-24T00:00:00\",\"2001-11-25T00:00:00\",\"2001-11-26T00:00:00\",\"2001-11-27T00:00:00\",\"2001-11-28T00:00:00\",\"2001-11-29T00:00:00\",\"2001-11-30T00:00:00\",\"2001-12-01T00:00:00\",\"2001-12-02T00:00:00\",\"2001-12-03T00:00:00\",\"2001-12-04T00:00:00\",\"2001-12-05T00:00:00\",\"2001-12-06T00:00:00\",\"2001-12-07T00:00:00\",\"2001-12-08T00:00:00\",\"2001-12-09T00:00:00\",\"2001-12-10T00:00:00\",\"2001-12-11T00:00:00\",\"2001-12-12T00:00:00\",\"2001-12-13T00:00:00\",\"2001-12-14T00:00:00\",\"2001-12-15T00:00:00\",\"2001-12-16T00:00:00\",\"2001-12-17T00:00:00\",\"2001-12-18T00:00:00\",\"2001-12-19T00:00:00\",\"2001-12-20T00:00:00\",\"2001-12-21T00:00:00\",\"2001-12-22T00:00:00\",\"2001-12-23T00:00:00\",\"2001-12-24T00:00:00\",\"2001-12-25T00:00:00\",\"2001-12-26T00:00:00\",\"2001-12-27T00:00:00\",\"2001-12-28T00:00:00\",\"2001-12-29T00:00:00\",\"2001-12-30T00:00:00\",\"2001-12-31T00:00:00\",\"2002-01-01T00:00:00\",\"2002-01-02T00:00:00\",\"2002-01-03T00:00:00\",\"2002-01-04T00:00:00\",\"2002-01-05T00:00:00\",\"2002-01-06T00:00:00\",\"2002-01-07T00:00:00\",\"2002-01-08T00:00:00\",\"2002-01-09T00:00:00\",\"2002-01-10T00:00:00\",\"2002-01-11T00:00:00\",\"2002-01-12T00:00:00\",\"2002-01-13T00:00:00\",\"2002-01-14T00:00:00\",\"2002-01-15T00:00:00\",\"2002-01-16T00:00:00\",\"2002-01-17T00:00:00\",\"2002-01-18T00:00:00\",\"2002-01-19T00:00:00\",\"2002-01-20T00:00:00\",\"2002-01-21T00:00:00\",\"2002-01-22T00:00:00\",\"2002-01-23T00:00:00\",\"2002-01-24T00:00:00\",\"2002-01-25T00:00:00\",\"2002-01-26T00:00:00\",\"2002-01-27T00:00:00\",\"2002-01-28T00:00:00\",\"2002-01-29T00:00:00\",\"2002-01-30T00:00:00\",\"2002-01-31T00:00:00\",\"2002-02-01T00:00:00\",\"2002-02-02T00:00:00\",\"2002-02-03T00:00:00\",\"2002-02-04T00:00:00\",\"2002-02-05T00:00:00\",\"2002-02-06T00:00:00\",\"2002-02-07T00:00:00\",\"2002-02-08T00:00:00\",\"2002-02-09T00:00:00\",\"2002-02-10T00:00:00\",\"2002-02-11T00:00:00\",\"2002-02-12T00:00:00\",\"2002-02-13T00:00:00\",\"2002-02-14T00:00:00\",\"2002-02-15T00:00:00\",\"2002-02-16T00:00:00\",\"2002-02-17T00:00:00\",\"2002-02-18T00:00:00\",\"2002-02-19T00:00:00\",\"2002-02-20T00:00:00\",\"2002-02-21T00:00:00\",\"2002-02-22T00:00:00\",\"2002-02-23T00:00:00\",\"2002-02-24T00:00:00\",\"2002-02-25T00:00:00\",\"2002-02-26T00:00:00\",\"2002-02-27T00:00:00\",\"2002-02-28T00:00:00\",\"2002-03-01T00:00:00\",\"2002-03-02T00:00:00\",\"2002-03-03T00:00:00\",\"2002-03-04T00:00:00\",\"2002-03-05T00:00:00\",\"2002-03-06T00:00:00\",\"2002-03-07T00:00:00\",\"2002-03-08T00:00:00\",\"2002-03-09T00:00:00\",\"2002-03-10T00:00:00\",\"2002-03-11T00:00:00\",\"2002-03-12T00:00:00\",\"2002-03-13T00:00:00\",\"2002-03-14T00:00:00\",\"2002-03-15T00:00:00\",\"2002-03-16T00:00:00\",\"2002-03-17T00:00:00\",\"2002-03-18T00:00:00\",\"2002-03-19T00:00:00\",\"2002-03-20T00:00:00\",\"2002-03-21T00:00:00\",\"2002-03-22T00:00:00\",\"2002-03-23T00:00:00\",\"2002-03-24T00:00:00\",\"2002-03-25T00:00:00\",\"2002-03-26T00:00:00\",\"2002-03-27T00:00:00\",\"2002-03-28T00:00:00\",\"2002-03-29T00:00:00\",\"2002-03-30T00:00:00\",\"2002-03-31T00:00:00\",\"2002-04-01T00:00:00\",\"2002-04-02T00:00:00\",\"2002-04-03T00:00:00\",\"2002-04-04T00:00:00\",\"2002-04-05T00:00:00\",\"2002-04-06T00:00:00\",\"2002-04-07T00:00:00\",\"2002-04-08T00:00:00\",\"2002-04-09T00:00:00\",\"2002-04-10T00:00:00\",\"2002-04-11T00:00:00\",\"2002-04-12T00:00:00\",\"2002-04-13T00:00:00\",\"2002-04-14T00:00:00\",\"2002-04-15T00:00:00\",\"2002-04-16T00:00:00\",\"2002-04-17T00:00:00\",\"2002-04-18T00:00:00\",\"2002-04-19T00:00:00\",\"2002-04-20T00:00:00\",\"2002-04-21T00:00:00\",\"2002-04-22T00:00:00\",\"2002-04-23T00:00:00\",\"2002-04-24T00:00:00\",\"2002-04-25T00:00:00\",\"2002-04-26T00:00:00\",\"2002-04-27T00:00:00\",\"2002-04-28T00:00:00\",\"2002-04-29T00:00:00\",\"2002-04-30T00:00:00\",\"2002-05-01T00:00:00\",\"2002-05-02T00:00:00\",\"2002-05-03T00:00:00\",\"2002-05-04T00:00:00\",\"2002-05-05T00:00:00\",\"2002-05-06T00:00:00\",\"2002-05-07T00:00:00\",\"2002-05-08T00:00:00\",\"2002-05-09T00:00:00\",\"2002-05-10T00:00:00\",\"2002-05-11T00:00:00\",\"2002-05-12T00:00:00\",\"2002-05-13T00:00:00\",\"2002-05-14T00:00:00\",\"2002-05-15T00:00:00\",\"2002-05-16T00:00:00\",\"2002-05-17T00:00:00\",\"2002-05-18T00:00:00\",\"2002-05-19T00:00:00\",\"2002-05-20T00:00:00\",\"2002-05-21T00:00:00\",\"2002-05-22T00:00:00\",\"2002-05-23T00:00:00\",\"2002-05-24T00:00:00\",\"2002-05-25T00:00:00\",\"2002-05-26T00:00:00\",\"2002-05-27T00:00:00\",\"2002-05-28T00:00:00\",\"2002-05-29T00:00:00\",\"2002-05-30T00:00:00\",\"2002-05-31T00:00:00\",\"2002-06-01T00:00:00\",\"2002-06-02T00:00:00\",\"2002-06-03T00:00:00\",\"2002-06-04T00:00:00\",\"2002-06-05T00:00:00\",\"2002-06-06T00:00:00\",\"2002-06-07T00:00:00\",\"2002-06-08T00:00:00\",\"2002-06-09T00:00:00\",\"2002-06-10T00:00:00\",\"2002-06-11T00:00:00\",\"2002-06-12T00:00:00\",\"2002-06-13T00:00:00\",\"2002-06-14T00:00:00\",\"2002-06-15T00:00:00\",\"2002-06-16T00:00:00\",\"2002-06-17T00:00:00\",\"2002-06-18T00:00:00\",\"2002-06-19T00:00:00\",\"2002-06-20T00:00:00\",\"2002-06-21T00:00:00\",\"2002-06-22T00:00:00\",\"2002-06-23T00:00:00\",\"2002-06-24T00:00:00\",\"2002-06-25T00:00:00\",\"2002-06-26T00:00:00\",\"2002-06-27T00:00:00\",\"2002-06-28T00:00:00\",\"2002-06-29T00:00:00\",\"2002-06-30T00:00:00\",\"2002-07-01T00:00:00\",\"2002-07-02T00:00:00\",\"2002-07-03T00:00:00\",\"2002-07-04T00:00:00\",\"2002-07-05T00:00:00\",\"2002-07-06T00:00:00\",\"2002-07-07T00:00:00\",\"2002-07-08T00:00:00\",\"2002-07-09T00:00:00\",\"2002-07-10T00:00:00\",\"2002-07-11T00:00:00\",\"2002-07-12T00:00:00\",\"2002-07-13T00:00:00\",\"2002-07-14T00:00:00\",\"2002-07-15T00:00:00\",\"2002-07-16T00:00:00\",\"2002-07-17T00:00:00\",\"2002-07-18T00:00:00\",\"2002-07-19T00:00:00\",\"2002-07-20T00:00:00\",\"2002-07-21T00:00:00\",\"2002-07-22T00:00:00\",\"2002-07-23T00:00:00\",\"2002-07-24T00:00:00\",\"2002-07-25T00:00:00\",\"2002-07-26T00:00:00\",\"2002-07-27T00:00:00\",\"2002-07-28T00:00:00\",\"2002-07-29T00:00:00\",\"2002-07-30T00:00:00\",\"2002-07-31T00:00:00\",\"2002-08-01T00:00:00\",\"2002-08-02T00:00:00\",\"2002-08-03T00:00:00\",\"2002-08-04T00:00:00\",\"2002-08-05T00:00:00\",\"2002-08-06T00:00:00\",\"2002-08-07T00:00:00\",\"2002-08-08T00:00:00\",\"2002-08-09T00:00:00\",\"2002-08-10T00:00:00\",\"2002-08-11T00:00:00\",\"2002-08-12T00:00:00\",\"2002-08-13T00:00:00\",\"2002-08-14T00:00:00\",\"2002-08-15T00:00:00\",\"2002-08-16T00:00:00\",\"2002-08-17T00:00:00\",\"2002-08-18T00:00:00\",\"2002-08-19T00:00:00\",\"2002-08-20T00:00:00\",\"2002-08-21T00:00:00\",\"2002-08-22T00:00:00\",\"2002-08-23T00:00:00\",\"2002-08-24T00:00:00\",\"2002-08-25T00:00:00\",\"2002-08-26T00:00:00\",\"2002-08-27T00:00:00\",\"2002-08-28T00:00:00\",\"2002-08-29T00:00:00\",\"2002-08-30T00:00:00\",\"2002-08-31T00:00:00\",\"2002-09-01T00:00:00\",\"2002-09-02T00:00:00\",\"2002-09-03T00:00:00\",\"2002-09-04T00:00:00\",\"2002-09-05T00:00:00\",\"2002-09-06T00:00:00\",\"2002-09-07T00:00:00\",\"2002-09-08T00:00:00\",\"2002-09-09T00:00:00\",\"2002-09-10T00:00:00\",\"2002-09-11T00:00:00\",\"2002-09-12T00:00:00\",\"2002-09-13T00:00:00\",\"2002-09-14T00:00:00\",\"2002-09-15T00:00:00\",\"2002-09-16T00:00:00\",\"2002-09-17T00:00:00\",\"2002-09-18T00:00:00\",\"2002-09-19T00:00:00\",\"2002-09-20T00:00:00\",\"2002-09-21T00:00:00\",\"2002-09-22T00:00:00\",\"2002-09-23T00:00:00\",\"2002-09-24T00:00:00\",\"2002-09-25T00:00:00\",\"2002-09-26T00:00:00\"],\"xaxis\":\"x\",\"y\":[-0.9523530693424714,0.33837206638191175,0.34148968727359663,0.34148968727359663,0.4475157342897489,0.4475157342897489,0.4475157342897489,0.4475157342897489,0.7622330204518963,2.1039698984348307,2.1039698984348307,2.1039698984348307,2.1039698984348307,2.1039698984348307,2.1039698984348307,2.1039698984348307,2.1039698984348307,2.1039698984348307,2.1039698984348307,2.1039698984348307,2.1039698984348307,2.1039698984348307,2.1039698984348307,2.1039698984348307,2.1039698984348307,2.1039698984348307,2.1039698984348307,2.1039698984348307,2.1039698984348307,2.1039698984348307,2.1039698984348307,2.1039698984348307,2.1039698984348307,2.1039698984348307,2.1039698984348307,2.1039698984348307,2.1039698984348307,2.1039698984348307,2.1039698984348307,2.1039698984348307,2.189451367812236,2.189451367812236,2.189451367812236,2.189451367812236,2.189451367812236,2.189451367812236,2.189451367812236,2.189451367812236,2.189451367812236,2.189451367812236,2.189451367812236,2.189451367812236,2.189451367812236,2.189451367812236,2.845578704942143,2.845578704942143,2.845578704942143,2.845578704942143,2.845578704942143,2.845578704942143,2.845578704942143,2.845578704942143,2.845578704942143,2.845578704942143,2.845578704942143,2.845578704942143,2.845578704942143,2.845578704942143,2.845578704942143,2.845578704942143,2.845578704942143,2.845578704942143,2.845578704942143,2.845578704942143,2.845578704942143,2.845578704942143,2.845578704942143,2.845578704942143,2.845578704942143,2.845578704942143,2.845578704942143,2.845578704942143,2.845578704942143,2.845578704942143,2.845578704942143,2.845578704942143,2.845578704942143,2.845578704942143,2.845578704942143,2.845578704942143,2.845578704942143,2.845578704942143,2.845578704942143,2.845578704942143,2.845578704942143,2.845578704942143,2.845578704942143,2.845578704942143,2.845578704942143,2.845578704942143,2.845578704942143,2.845578704942143,2.845578704942143,2.845578704942143,2.845578704942143,2.845578704942143,2.845578704942143,2.845578704942143,2.845578704942143,2.845578704942143,2.845578704942143,2.845578704942143,2.845578704942143,2.845578704942143,2.845578704942143,2.845578704942143,2.845578704942143,2.845578704942143,2.845578704942143,2.845578704942143,2.845578704942143,2.845578704942143,2.845578704942143,2.845578704942143,2.845578704942143,2.845578704942143,2.845578704942143,2.845578704942143,2.845578704942143,2.845578704942143,2.845578704942143,2.845578704942143,2.845578704942143,2.845578704942143,2.845578704942143,2.845578704942143,2.845578704942143,2.845578704942143,2.845578704942143,2.845578704942143,2.845578704942143,2.845578704942143,2.845578704942143,2.845578704942143,2.845578704942143,2.845578704942143,2.845578704942143,2.845578704942143,2.845578704942143,2.845578704942143,2.845578704942143,2.845578704942143,2.845578704942143,2.845578704942143,2.845578704942143,2.845578704942143,2.845578704942143,2.845578704942143,2.845578704942143,2.845578704942143,2.845578704942143,2.845578704942143,2.845578704942143,2.845578704942143,2.845578704942143,2.845578704942143,2.845578704942143,2.845578704942143,2.845578704942143,2.845578704942143,2.845578704942143,2.845578704942143,2.845578704942143,2.845578704942143,2.845578704942143,2.845578704942143,2.845578704942143,2.845578704942143,2.845578704942143,2.845578704942143,2.845578704942143,2.845578704942143,2.845578704942143,2.845578704942143,2.845578704942143,2.845578704942143,2.845578704942143,2.845578704942143,2.845578704942143,2.845578704942143,2.845578704942143,2.845578704942143,2.845578704942143,2.845578704942143,2.845578704942143,2.845578704942143,2.845578704942143,2.845578704942143,2.845578704942143,2.845578704942143,2.845578704942143,2.845578704942143,2.845578704942143,2.845578704942143,2.845578704942143,2.845578704942143,2.845578704942143,2.845578704942143,2.845578704942143,2.845578704942143,2.845578704942143,2.845578704942143,2.845578704942143,2.845578704942143,2.845578704942143,2.845578704942143,2.845578704942143,2.845578704942143,2.845578704942143,2.845578704942143,2.845578704942143,2.845578704942143,2.845578704942143,2.845578704942143,2.845578704942143,2.845578704942143,2.845578704942143,2.845578704942143,2.845578704942143,2.845578704942143,2.845578704942143,2.845578704942143,2.845578704942143,2.845578704942143,2.845578704942143,2.845578704942143,2.845578704942143,2.845578704942143,2.845578704942143,2.845578704942143,2.845578704942143,2.845578704942143,2.845578704942143,2.845578704942143,2.845578704942143,2.845578704942143,2.845578704942143,2.845578704942143,3.0269272082790657,3.0269272082790657,3.0269272082790657,3.0269272082790657,3.0269272082790657,3.0269272082790657,3.0269272082790657,3.0269272082790657,3.0269272082790657,3.0269272082790657,3.0269272082790657,3.0269272082790657,3.0269272082790657,3.0269272082790657,3.0269272082790657,3.0269272082790657,3.0269272082790657,3.0269272082790657,3.0269272082790657,3.0269272082790657,3.0269272082790657,3.0269272082790657,3.0269272082790657,3.0269272082790657,3.0269272082790657,3.0269272082790657,3.0269272082790657,3.0269272082790657,3.0269272082790657,3.0269272082790657,3.0269272082790657,3.0269272082790657,3.0269272082790657,3.0269272082790657,3.0269272082790657,3.0269272082790657,3.0269272082790657,3.0269272082790657,3.0269272082790657,3.0269272082790657,3.0269272082790657,3.0269272082790657,3.0269272082790657,3.0269272082790657,3.0269272082790657,3.0269272082790657,3.0269272082790657,3.0269272082790657,3.0269272082790657,3.0269272082790657,3.0269272082790657,3.0269272082790657,3.0269272082790657,3.0269272082790657,3.0269272082790657,3.0269272082790657,3.0269272082790657,3.0269272082790657,3.0269272082790657,3.0269272082790657,3.0269272082790657,3.0269272082790657,3.0269272082790657,3.0269272082790657,3.0269272082790657,3.0269272082790657,3.0269272082790657,3.0269272082790657,3.0269272082790657,3.0269272082790657,3.0269272082790657,3.0269272082790657,3.0269272082790657,3.0269272082790657,3.0269272082790657,3.0269272082790657,3.0269272082790657,3.0269272082790657,3.0269272082790657,3.0269272082790657,3.0269272082790657,3.0269272082790657,3.0269272082790657,3.0269272082790657,3.0269272082790657,3.0269272082790657,3.0269272082790657,3.0269272082790657,3.0269272082790657,3.0269272082790657,3.0269272082790657,3.0269272082790657,3.0269272082790657,3.0269272082790657,3.0269272082790657,3.0269272082790657,3.0269272082790657,3.0269272082790657,3.0269272082790657,3.0269272082790657,3.0269272082790657,3.0269272082790657,3.0269272082790657,3.0269272082790657,3.0269272082790657,3.0269272082790657,3.0269272082790657,3.0269272082790657,3.0269272082790657,3.0269272082790657,3.0269272082790657,3.0269272082790657,3.0269272082790657,3.0269272082790657,3.0269272082790657,3.0269272082790657,3.0269272082790657,3.0269272082790657,3.0269272082790657,3.0269272082790657,3.0269272082790657,3.0269272082790657,3.0269272082790657,3.0269272082790657,3.0269272082790657,3.0269272082790657,3.0269272082790657,3.0269272082790657,3.0269272082790657,3.0269272082790657,3.0269272082790657,3.0269272082790657,3.0269272082790657,3.0269272082790657,3.0269272082790657,3.0269272082790657,3.0269272082790657,3.0269272082790657,3.0269272082790657,3.0269272082790657,3.0269272082790657,3.0269272082790657,3.0269272082790657,3.0269272082790657,3.0269272082790657,3.0269272082790657,3.0269272082790657,3.0269272082790657,3.0269272082790657,3.0269272082790657,3.0269272082790657,3.0269272082790657,3.0269272082790657,3.0269272082790657,3.0269272082790657,3.0269272082790657,3.0269272082790657,3.0269272082790657,3.0269272082790657,3.0269272082790657,3.0269272082790657,3.0269272082790657,3.0269272082790657,3.0269272082790657,3.0269272082790657,3.0269272082790657,3.0269272082790657,3.0269272082790657,3.0269272082790657,3.0269272082790657,3.0269272082790657,3.0269272082790657,3.0269272082790657,3.0269272082790657,3.0269272082790657,3.0269272082790657,3.0269272082790657,3.0269272082790657,3.0269272082790657,3.0269272082790657,3.0269272082790657,3.0269272082790657,3.0269272082790657,3.0269272082790657,3.0269272082790657,3.0269272082790657,3.0269272082790657,3.0269272082790657,3.0269272082790657,3.0269272082790657,3.0269272082790657,3.0269272082790657,3.0269272082790657,3.0269272082790657,3.0269272082790657,3.0269272082790657,3.0269272082790657,3.0269272082790657,3.0269272082790657,3.0269272082790657,3.0269272082790657,3.0269272082790657,3.0269272082790657,3.0269272082790657,3.0269272082790657,3.0269272082790657,3.0269272082790657,3.0269272082790657,3.0269272082790657,3.0269272082790657,3.0269272082790657,3.0269272082790657,3.0269272082790657,3.0269272082790657,3.0269272082790657,3.0269272082790657,3.0269272082790657,3.0269272082790657,3.0269272082790657,3.0269272082790657,3.0269272082790657,3.0269272082790657,3.0269272082790657,3.0269272082790657,3.0269272082790657,3.0269272082790657,3.0269272082790657,3.0269272082790657,3.0269272082790657,3.0269272082790657,3.0269272082790657,3.0269272082790657,3.0269272082790657,3.0269272082790657,3.0269272082790657,3.0269272082790657,3.0269272082790657,3.0269272082790657,3.0269272082790657,3.0269272082790657,3.0269272082790657,3.0269272082790657,3.0269272082790657,3.0269272082790657,3.0269272082790657,3.0269272082790657,3.0269272082790657,3.0269272082790657,3.0269272082790657,3.0269272082790657,3.0269272082790657,3.0269272082790657,3.0269272082790657,3.0269272082790657,3.0269272082790657,3.0269272082790657,3.0269272082790657,3.0269272082790657,3.0269272082790657,3.0269272082790657,3.0269272082790657,3.0269272082790657,3.0269272082790657,3.0269272082790657,3.0269272082790657,3.0269272082790657,3.0269272082790657,3.0269272082790657,3.0269272082790657,3.0269272082790657,3.0269272082790657,3.0269272082790657,3.0269272082790657,3.0269272082790657,3.0269272082790657,3.0269272082790657,3.0269272082790657,3.0269272082790657,3.0269272082790657,3.0269272082790657,3.0269272082790657,3.0269272082790657,3.0269272082790657,3.0269272082790657,3.0269272082790657,3.0269272082790657,3.0269272082790657,3.0269272082790657,3.0269272082790657,3.0269272082790657,3.0269272082790657,3.0269272082790657,3.0269272082790657,3.0269272082790657,3.0269272082790657,3.0269272082790657,3.0269272082790657,3.0269272082790657,3.0269272082790657,3.0269272082790657,3.0269272082790657,3.0269272082790657,3.0269272082790657,3.0269272082790657,3.0269272082790657,3.0269272082790657,3.0269272082790657,3.0269272082790657,3.0269272082790657,3.0269272082790657,3.0269272082790657,3.0269272082790657,3.0269272082790657,3.0269272082790657,3.0269272082790657,3.0269272082790657,3.0269272082790657,3.0269272082790657,3.0269272082790657,3.0269272082790657,3.0269272082790657,3.0269272082790657,3.0269272082790657,3.0269272082790657,3.0269272082790657,3.0269272082790657,3.0269272082790657,3.0269272082790657,3.0269272082790657,3.0269272082790657,3.0269272082790657,3.0269272082790657,3.0269272082790657,3.0269272082790657,3.0269272082790657,3.0269272082790657,3.0269272082790657,3.0269272082790657,3.0269272082790657,3.0269272082790657,3.0269272082790657,3.0269272082790657,3.0269272082790657,3.0269272082790657,3.0269272082790657,3.0269272082790657,3.0269272082790657,3.0269272082790657,3.0269272082790657,3.0269272082790657,3.0269272082790657,3.0269272082790657,3.0269272082790657,3.0269272082790657,3.0269272082790657,3.0269272082790657,3.0269272082790657,3.0269272082790657,3.0269272082790657,3.0269272082790657,3.0269272082790657,3.0269272082790657,3.0269272082790657,3.0269272082790657,3.0269272082790657,3.0269272082790657,3.0269272082790657,3.0269272082790657,3.0269272082790657,3.0269272082790657,3.0269272082790657,3.0269272082790657,3.0269272082790657,3.0269272082790657,3.0269272082790657,3.0269272082790657,3.0269272082790657,3.0269272082790657,3.0269272082790657,3.0269272082790657,3.0269272082790657,3.0269272082790657,3.0269272082790657,3.0269272082790657,3.0269272082790657,3.0269272082790657,3.0269272082790657,3.0269272082790657,3.0269272082790657,3.0269272082790657,3.0269272082790657,3.0269272082790657,3.0269272082790657,3.0269272082790657,3.0269272082790657,3.0269272082790657,3.0269272082790657,3.0269272082790657,3.0269272082790657,3.0269272082790657,3.0269272082790657,3.0269272082790657,3.0269272082790657,3.0269272082790657,3.0269272082790657,3.0269272082790657,3.0269272082790657,3.0269272082790657,3.0269272082790657,3.0269272082790657,3.0269272082790657,3.0269272082790657,3.0269272082790657,3.0269272082790657,3.0269272082790657,3.0269272082790657,3.0269272082790657,3.0269272082790657,3.0269272082790657,3.0269272082790657,3.0269272082790657,3.0269272082790657,3.0269272082790657,3.0269272082790657,3.0269272082790657,3.0269272082790657,3.0269272082790657,3.0269272082790657,3.0269272082790657,3.0269272082790657,3.0269272082790657,3.0269272082790657,3.0269272082790657,3.0269272082790657,3.0269272082790657,3.0269272082790657,3.0269272082790657,3.0269272082790657,3.0269272082790657,3.0269272082790657,3.0269272082790657,3.0269272082790657,3.0269272082790657,3.0269272082790657,3.0269272082790657,3.0269272082790657,3.0269272082790657,3.0269272082790657,3.0269272082790657,3.0269272082790657,3.0269272082790657,3.0269272082790657,3.0269272082790657,3.0269272082790657,3.0269272082790657,3.0269272082790657,3.0269272082790657,3.0269272082790657,3.0269272082790657,3.0269272082790657,3.0269272082790657,3.0269272082790657,3.0269272082790657,3.0269272082790657,3.0269272082790657,3.0269272082790657,3.0269272082790657,3.0269272082790657,3.0269272082790657,3.0269272082790657,3.0269272082790657,3.0269272082790657,3.0269272082790657,3.0269272082790657,3.0269272082790657,3.0269272082790657,3.0269272082790657,3.0269272082790657,3.0269272082790657,3.0269272082790657,3.0269272082790657,3.0269272082790657,3.0269272082790657,3.0269272082790657,3.0269272082790657,3.0269272082790657,3.0269272082790657,3.0269272082790657,3.0269272082790657,3.0269272082790657,3.0269272082790657,3.0269272082790657,3.0269272082790657,3.0269272082790657,3.0269272082790657,3.0269272082790657,3.0269272082790657,3.0269272082790657,3.0269272082790657,3.0269272082790657,3.0269272082790657,3.0269272082790657,3.0269272082790657,3.0269272082790657,3.0269272082790657,3.0269272082790657,3.0269272082790657,3.0269272082790657,3.0269272082790657,3.0269272082790657,3.0269272082790657,3.0269272082790657,3.0269272082790657,3.0269272082790657,3.0269272082790657,3.0269272082790657,3.0269272082790657,3.0269272082790657,3.0269272082790657,3.0269272082790657,3.0269272082790657,3.0269272082790657,3.0269272082790657,3.0269272082790657,3.0269272082790657,3.0269272082790657,3.0269272082790657,3.0269272082790657,3.0269272082790657,3.0269272082790657,3.0269272082790657,3.0269272082790657,3.0269272082790657,3.0269272082790657,3.0269272082790657,3.0269272082790657,3.0269272082790657,3.0269272082790657,3.0269272082790657,3.0269272082790657,3.0269272082790657,3.0269272082790657,3.0269272082790657,3.0269272082790657,3.0269272082790657,3.0269272082790657,3.0269272082790657,3.0269272082790657,3.0269272082790657,3.0269272082790657,3.0269272082790657,3.0269272082790657,3.0269272082790657,3.0269272082790657,3.0269272082790657,3.0269272082790657,3.0269272082790657,3.0269272082790657,3.0269272082790657,3.0269272082790657,3.0269272082790657,3.0269272082790657,3.0269272082790657,3.0269272082790657,3.0269272082790657,3.0269272082790657,3.0269272082790657,3.0269272082790657,3.0269272082790657,3.0269272082790657,3.0269272082790657,3.0269272082790657,3.0269272082790657,3.0269272082790657,3.0269272082790657,3.0269272082790657,3.0269272082790657,3.0269272082790657,3.0269272082790657,3.0269272082790657,3.0269272082790657,3.0269272082790657,3.0269272082790657,3.0269272082790657,3.0269272082790657,3.0269272082790657,3.0269272082790657,3.0269272082790657,3.0269272082790657,3.0269272082790657,3.0269272082790657,3.0269272082790657,3.0269272082790657,3.0269272082790657,3.0269272082790657,3.0269272082790657,3.0269272082790657,3.0269272082790657,3.0269272082790657,3.0269272082790657,3.0269272082790657,3.0269272082790657,3.0269272082790657,3.0269272082790657,3.0269272082790657,3.0269272082790657,3.0269272082790657,3.0269272082790657,3.0269272082790657,3.0269272082790657,3.0269272082790657,3.0269272082790657,3.0269272082790657,3.0269272082790657,3.0269272082790657,3.0269272082790657,3.0269272082790657,3.0269272082790657,3.0269272082790657,3.0269272082790657,3.0269272082790657,3.0269272082790657,3.0269272082790657,3.0269272082790657,3.0269272082790657,3.0269272082790657,3.0269272082790657,3.0269272082790657,3.0269272082790657,3.0269272082790657,3.0269272082790657,3.0269272082790657,3.0269272082790657,3.0269272082790657,3.0269272082790657,3.0269272082790657,3.0269272082790657,3.0269272082790657,3.0269272082790657,3.0269272082790657,3.0269272082790657,3.0269272082790657,3.0269272082790657,3.0269272082790657,3.0269272082790657,3.0269272082790657,3.0269272082790657,3.0269272082790657,3.0269272082790657,3.0269272082790657,3.0269272082790657,3.0269272082790657,3.0269272082790657,3.0269272082790657,3.0269272082790657,3.0269272082790657,3.0269272082790657,3.0269272082790657,3.0269272082790657,3.0269272082790657,3.0269272082790657,3.0269272082790657,3.0269272082790657,3.0269272082790657,3.0269272082790657,3.0269272082790657,3.0269272082790657,3.0269272082790657,3.0269272082790657,3.0269272082790657,3.0269272082790657,3.0269272082790657,3.0269272082790657,3.0269272082790657,3.0269272082790657,3.0269272082790657,3.0269272082790657,3.0269272082790657,3.0269272082790657,3.0269272082790657,3.0269272082790657,3.0269272082790657,3.0269272082790657,3.0269272082790657,3.0269272082790657,3.0269272082790657,3.0269272082790657,3.0269272082790657,3.0269272082790657,3.0269272082790657,3.0269272082790657,3.0269272082790657,3.0269272082790657,3.0269272082790657,3.0269272082790657,3.0269272082790657,3.0269272082790657,3.0269272082790657,3.0269272082790657,3.0269272082790657,3.0269272082790657,3.0269272082790657,3.0269272082790657,3.0269272082790657,3.0269272082790657,3.0269272082790657,3.0269272082790657,3.0269272082790657,3.0269272082790657,3.0269272082790657,3.0269272082790657,3.0269272082790657,3.0269272082790657,3.0269272082790657,3.0269272082790657,3.0269272082790657,3.0269272082790657,3.0269272082790657,3.0269272082790657,3.0269272082790657,3.0269272082790657,3.0269272082790657,3.0269272082790657,3.0269272082790657,3.0269272082790657,3.0269272082790657,3.0269272082790657,3.0269272082790657,3.0269272082790657,3.0269272082790657,3.0269272082790657,3.0269272082790657,3.0269272082790657,3.0269272082790657,3.0269272082790657,3.0269272082790657,3.0269272082790657,3.0269272082790657,3.0269272082790657,3.0269272082790657,3.0269272082790657,3.0269272082790657,3.0269272082790657,3.0269272082790657,3.0269272082790657,3.0269272082790657,3.0269272082790657,3.0269272082790657,3.0269272082790657,3.0269272082790657,3.0269272082790657,3.0269272082790657],\"yaxis\":\"y\",\"type\":\"scatter\"}],                        {\"template\":{\"data\":{\"histogram2dcontour\":[{\"type\":\"histogram2dcontour\",\"colorbar\":{\"outlinewidth\":0,\"ticks\":\"\"},\"colorscale\":[[0.0,\"#0d0887\"],[0.1111111111111111,\"#46039f\"],[0.2222222222222222,\"#7201a8\"],[0.3333333333333333,\"#9c179e\"],[0.4444444444444444,\"#bd3786\"],[0.5555555555555556,\"#d8576b\"],[0.6666666666666666,\"#ed7953\"],[0.7777777777777778,\"#fb9f3a\"],[0.8888888888888888,\"#fdca26\"],[1.0,\"#f0f921\"]]}],\"choropleth\":[{\"type\":\"choropleth\",\"colorbar\":{\"outlinewidth\":0,\"ticks\":\"\"}}],\"histogram2d\":[{\"type\":\"histogram2d\",\"colorbar\":{\"outlinewidth\":0,\"ticks\":\"\"},\"colorscale\":[[0.0,\"#0d0887\"],[0.1111111111111111,\"#46039f\"],[0.2222222222222222,\"#7201a8\"],[0.3333333333333333,\"#9c179e\"],[0.4444444444444444,\"#bd3786\"],[0.5555555555555556,\"#d8576b\"],[0.6666666666666666,\"#ed7953\"],[0.7777777777777778,\"#fb9f3a\"],[0.8888888888888888,\"#fdca26\"],[1.0,\"#f0f921\"]]}],\"heatmap\":[{\"type\":\"heatmap\",\"colorbar\":{\"outlinewidth\":0,\"ticks\":\"\"},\"colorscale\":[[0.0,\"#0d0887\"],[0.1111111111111111,\"#46039f\"],[0.2222222222222222,\"#7201a8\"],[0.3333333333333333,\"#9c179e\"],[0.4444444444444444,\"#bd3786\"],[0.5555555555555556,\"#d8576b\"],[0.6666666666666666,\"#ed7953\"],[0.7777777777777778,\"#fb9f3a\"],[0.8888888888888888,\"#fdca26\"],[1.0,\"#f0f921\"]]}],\"heatmapgl\":[{\"type\":\"heatmapgl\",\"colorbar\":{\"outlinewidth\":0,\"ticks\":\"\"},\"colorscale\":[[0.0,\"#0d0887\"],[0.1111111111111111,\"#46039f\"],[0.2222222222222222,\"#7201a8\"],[0.3333333333333333,\"#9c179e\"],[0.4444444444444444,\"#bd3786\"],[0.5555555555555556,\"#d8576b\"],[0.6666666666666666,\"#ed7953\"],[0.7777777777777778,\"#fb9f3a\"],[0.8888888888888888,\"#fdca26\"],[1.0,\"#f0f921\"]]}],\"contourcarpet\":[{\"type\":\"contourcarpet\",\"colorbar\":{\"outlinewidth\":0,\"ticks\":\"\"}}],\"contour\":[{\"type\":\"contour\",\"colorbar\":{\"outlinewidth\":0,\"ticks\":\"\"},\"colorscale\":[[0.0,\"#0d0887\"],[0.1111111111111111,\"#46039f\"],[0.2222222222222222,\"#7201a8\"],[0.3333333333333333,\"#9c179e\"],[0.4444444444444444,\"#bd3786\"],[0.5555555555555556,\"#d8576b\"],[0.6666666666666666,\"#ed7953\"],[0.7777777777777778,\"#fb9f3a\"],[0.8888888888888888,\"#fdca26\"],[1.0,\"#f0f921\"]]}],\"surface\":[{\"type\":\"surface\",\"colorbar\":{\"outlinewidth\":0,\"ticks\":\"\"},\"colorscale\":[[0.0,\"#0d0887\"],[0.1111111111111111,\"#46039f\"],[0.2222222222222222,\"#7201a8\"],[0.3333333333333333,\"#9c179e\"],[0.4444444444444444,\"#bd3786\"],[0.5555555555555556,\"#d8576b\"],[0.6666666666666666,\"#ed7953\"],[0.7777777777777778,\"#fb9f3a\"],[0.8888888888888888,\"#fdca26\"],[1.0,\"#f0f921\"]]}],\"mesh3d\":[{\"type\":\"mesh3d\",\"colorbar\":{\"outlinewidth\":0,\"ticks\":\"\"}}],\"scatter\":[{\"fillpattern\":{\"fillmode\":\"overlay\",\"size\":10,\"solidity\":0.2},\"type\":\"scatter\"}],\"parcoords\":[{\"type\":\"parcoords\",\"line\":{\"colorbar\":{\"outlinewidth\":0,\"ticks\":\"\"}}}],\"scatterpolargl\":[{\"type\":\"scatterpolargl\",\"marker\":{\"colorbar\":{\"outlinewidth\":0,\"ticks\":\"\"}}}],\"bar\":[{\"error_x\":{\"color\":\"#2a3f5f\"},\"error_y\":{\"color\":\"#2a3f5f\"},\"marker\":{\"line\":{\"color\":\"#E5ECF6\",\"width\":0.5},\"pattern\":{\"fillmode\":\"overlay\",\"size\":10,\"solidity\":0.2}},\"type\":\"bar\"}],\"scattergeo\":[{\"type\":\"scattergeo\",\"marker\":{\"colorbar\":{\"outlinewidth\":0,\"ticks\":\"\"}}}],\"scatterpolar\":[{\"type\":\"scatterpolar\",\"marker\":{\"colorbar\":{\"outlinewidth\":0,\"ticks\":\"\"}}}],\"histogram\":[{\"marker\":{\"pattern\":{\"fillmode\":\"overlay\",\"size\":10,\"solidity\":0.2}},\"type\":\"histogram\"}],\"scattergl\":[{\"type\":\"scattergl\",\"marker\":{\"colorbar\":{\"outlinewidth\":0,\"ticks\":\"\"}}}],\"scatter3d\":[{\"type\":\"scatter3d\",\"line\":{\"colorbar\":{\"outlinewidth\":0,\"ticks\":\"\"}},\"marker\":{\"colorbar\":{\"outlinewidth\":0,\"ticks\":\"\"}}}],\"scattermapbox\":[{\"type\":\"scattermapbox\",\"marker\":{\"colorbar\":{\"outlinewidth\":0,\"ticks\":\"\"}}}],\"scatterternary\":[{\"type\":\"scatterternary\",\"marker\":{\"colorbar\":{\"outlinewidth\":0,\"ticks\":\"\"}}}],\"scattercarpet\":[{\"type\":\"scattercarpet\",\"marker\":{\"colorbar\":{\"outlinewidth\":0,\"ticks\":\"\"}}}],\"carpet\":[{\"aaxis\":{\"endlinecolor\":\"#2a3f5f\",\"gridcolor\":\"white\",\"linecolor\":\"white\",\"minorgridcolor\":\"white\",\"startlinecolor\":\"#2a3f5f\"},\"baxis\":{\"endlinecolor\":\"#2a3f5f\",\"gridcolor\":\"white\",\"linecolor\":\"white\",\"minorgridcolor\":\"white\",\"startlinecolor\":\"#2a3f5f\"},\"type\":\"carpet\"}],\"table\":[{\"cells\":{\"fill\":{\"color\":\"#EBF0F8\"},\"line\":{\"color\":\"white\"}},\"header\":{\"fill\":{\"color\":\"#C8D4E3\"},\"line\":{\"color\":\"white\"}},\"type\":\"table\"}],\"barpolar\":[{\"marker\":{\"line\":{\"color\":\"#E5ECF6\",\"width\":0.5},\"pattern\":{\"fillmode\":\"overlay\",\"size\":10,\"solidity\":0.2}},\"type\":\"barpolar\"}],\"pie\":[{\"automargin\":true,\"type\":\"pie\"}]},\"layout\":{\"autotypenumbers\":\"strict\",\"colorway\":[\"#636efa\",\"#EF553B\",\"#00cc96\",\"#ab63fa\",\"#FFA15A\",\"#19d3f3\",\"#FF6692\",\"#B6E880\",\"#FF97FF\",\"#FECB52\"],\"font\":{\"color\":\"#2a3f5f\"},\"hovermode\":\"closest\",\"hoverlabel\":{\"align\":\"left\"},\"paper_bgcolor\":\"white\",\"plot_bgcolor\":\"#E5ECF6\",\"polar\":{\"bgcolor\":\"#E5ECF6\",\"angularaxis\":{\"gridcolor\":\"white\",\"linecolor\":\"white\",\"ticks\":\"\"},\"radialaxis\":{\"gridcolor\":\"white\",\"linecolor\":\"white\",\"ticks\":\"\"}},\"ternary\":{\"bgcolor\":\"#E5ECF6\",\"aaxis\":{\"gridcolor\":\"white\",\"linecolor\":\"white\",\"ticks\":\"\"},\"baxis\":{\"gridcolor\":\"white\",\"linecolor\":\"white\",\"ticks\":\"\"},\"caxis\":{\"gridcolor\":\"white\",\"linecolor\":\"white\",\"ticks\":\"\"}},\"coloraxis\":{\"colorbar\":{\"outlinewidth\":0,\"ticks\":\"\"}},\"colorscale\":{\"sequential\":[[0.0,\"#0d0887\"],[0.1111111111111111,\"#46039f\"],[0.2222222222222222,\"#7201a8\"],[0.3333333333333333,\"#9c179e\"],[0.4444444444444444,\"#bd3786\"],[0.5555555555555556,\"#d8576b\"],[0.6666666666666666,\"#ed7953\"],[0.7777777777777778,\"#fb9f3a\"],[0.8888888888888888,\"#fdca26\"],[1.0,\"#f0f921\"]],\"sequentialminus\":[[0.0,\"#0d0887\"],[0.1111111111111111,\"#46039f\"],[0.2222222222222222,\"#7201a8\"],[0.3333333333333333,\"#9c179e\"],[0.4444444444444444,\"#bd3786\"],[0.5555555555555556,\"#d8576b\"],[0.6666666666666666,\"#ed7953\"],[0.7777777777777778,\"#fb9f3a\"],[0.8888888888888888,\"#fdca26\"],[1.0,\"#f0f921\"]],\"diverging\":[[0,\"#8e0152\"],[0.1,\"#c51b7d\"],[0.2,\"#de77ae\"],[0.3,\"#f1b6da\"],[0.4,\"#fde0ef\"],[0.5,\"#f7f7f7\"],[0.6,\"#e6f5d0\"],[0.7,\"#b8e186\"],[0.8,\"#7fbc41\"],[0.9,\"#4d9221\"],[1,\"#276419\"]]},\"xaxis\":{\"gridcolor\":\"white\",\"linecolor\":\"white\",\"ticks\":\"\",\"title\":{\"standoff\":15},\"zerolinecolor\":\"white\",\"automargin\":true,\"zerolinewidth\":2},\"yaxis\":{\"gridcolor\":\"white\",\"linecolor\":\"white\",\"ticks\":\"\",\"title\":{\"standoff\":15},\"zerolinecolor\":\"white\",\"automargin\":true,\"zerolinewidth\":2},\"scene\":{\"xaxis\":{\"backgroundcolor\":\"#E5ECF6\",\"gridcolor\":\"white\",\"linecolor\":\"white\",\"showbackground\":true,\"ticks\":\"\",\"zerolinecolor\":\"white\",\"gridwidth\":2},\"yaxis\":{\"backgroundcolor\":\"#E5ECF6\",\"gridcolor\":\"white\",\"linecolor\":\"white\",\"showbackground\":true,\"ticks\":\"\",\"zerolinecolor\":\"white\",\"gridwidth\":2},\"zaxis\":{\"backgroundcolor\":\"#E5ECF6\",\"gridcolor\":\"white\",\"linecolor\":\"white\",\"showbackground\":true,\"ticks\":\"\",\"zerolinecolor\":\"white\",\"gridwidth\":2}},\"shapedefaults\":{\"line\":{\"color\":\"#2a3f5f\"}},\"annotationdefaults\":{\"arrowcolor\":\"#2a3f5f\",\"arrowhead\":0,\"arrowwidth\":1},\"geo\":{\"bgcolor\":\"white\",\"landcolor\":\"#E5ECF6\",\"subunitcolor\":\"white\",\"showland\":true,\"showlakes\":true,\"lakecolor\":\"white\"},\"title\":{\"x\":0.05},\"mapbox\":{\"style\":\"light\"}}},\"xaxis\":{\"anchor\":\"y\",\"domain\":[0.0,1.0],\"title\":{\"text\":\"index\"}},\"yaxis\":{\"anchor\":\"x\",\"domain\":[0.0,1.0],\"title\":{\"text\":\"value\"}},\"legend\":{\"title\":{\"text\":\"variable\"},\"tracegroupgap\":0},\"margin\":{\"t\":60}},                        {\"responsive\": true}                    ).then(function(){\n",
              "                            \n",
              "var gd = document.getElementById('5df7c311-4b46-4f63-ac36-f3ff21c57799');\n",
              "var x = new MutationObserver(function (mutations, observer) {{\n",
              "        var display = window.getComputedStyle(gd).display;\n",
              "        if (!display || display === 'none') {{\n",
              "            console.log([gd, 'removed!']);\n",
              "            Plotly.purge(gd);\n",
              "            observer.disconnect();\n",
              "        }}\n",
              "}});\n",
              "\n",
              "// Listen for the removal of the full notebook cells\n",
              "var notebookContainer = gd.closest('#notebook-container');\n",
              "if (notebookContainer) {{\n",
              "    x.observe(notebookContainer, {childList: true});\n",
              "}}\n",
              "\n",
              "// Listen for the clearing of the current output cell\n",
              "var outputEl = gd.closest('.output');\n",
              "if (outputEl) {{\n",
              "    x.observe(outputEl, {childList: true});\n",
              "}}\n",
              "\n",
              "                        })                };                            </script>        </div>\n",
              "</body>\n",
              "</html>"
            ]
          },
          "metadata": {}
        }
      ]
    },
    {
      "cell_type": "code",
      "source": [
        "pdf = pd.DataFrame(np.random.randn(1000, 4), index=pser.index,\n",
        "                   columns=['A', 'B', 'C', 'D'])"
      ],
      "metadata": {
        "id": "7A05CMnnwrDi"
      },
      "execution_count": null,
      "outputs": []
    },
    {
      "cell_type": "code",
      "source": [
        "psdf = ps.from_pandas(pdf)"
      ],
      "metadata": {
        "id": "fJAlqG3HwuuW"
      },
      "execution_count": null,
      "outputs": []
    },
    {
      "cell_type": "code",
      "source": [
        "psdf = psdf.cummax()"
      ],
      "metadata": {
        "id": "xNtWw9jLwwea"
      },
      "execution_count": null,
      "outputs": []
    },
    {
      "cell_type": "code",
      "source": [
        "psdf.plot()"
      ],
      "metadata": {
        "colab": {
          "base_uri": "https://localhost:8080/",
          "height": 542
        },
        "id": "4XiKTFeLwx_D",
        "outputId": "408e6c09-11f6-4d58-8026-09bef824082b"
      },
      "execution_count": null,
      "outputs": [
        {
          "output_type": "display_data",
          "data": {
            "text/html": [
              "<html>\n",
              "<head><meta charset=\"utf-8\" /></head>\n",
              "<body>\n",
              "    <div>            <script src=\"https://cdnjs.cloudflare.com/ajax/libs/mathjax/2.7.5/MathJax.js?config=TeX-AMS-MML_SVG\"></script><script type=\"text/javascript\">if (window.MathJax && window.MathJax.Hub && window.MathJax.Hub.Config) {window.MathJax.Hub.Config({SVG: {font: \"STIX-Web\"}});}</script>                <script type=\"text/javascript\">window.PlotlyConfig = {MathJaxConfig: 'local'};</script>\n",
              "        <script charset=\"utf-8\" src=\"https://cdn.plot.ly/plotly-2.24.1.min.js\"></script>                <div id=\"84020add-a636-4a79-b7a5-0c040560606f\" class=\"plotly-graph-div\" style=\"height:525px; width:100%;\"></div>            <script type=\"text/javascript\">                                    window.PLOTLYENV=window.PLOTLYENV || {};                                    if (document.getElementById(\"84020add-a636-4a79-b7a5-0c040560606f\")) {                    Plotly.newPlot(                        \"84020add-a636-4a79-b7a5-0c040560606f\",                        [{\"hovertemplate\":\"variable=A\\u003cbr\\u003eindex=%{x}\\u003cbr\\u003evalue=%{y}\\u003cextra\\u003e\\u003c\\u002fextra\\u003e\",\"legendgroup\":\"A\",\"line\":{\"color\":\"#636efa\",\"dash\":\"solid\"},\"marker\":{\"symbol\":\"circle\"},\"mode\":\"lines\",\"name\":\"A\",\"showlegend\":true,\"x\":[\"2000-01-01T00:00:00\",\"2000-01-02T00:00:00\",\"2000-01-03T00:00:00\",\"2000-01-04T00:00:00\",\"2000-01-05T00:00:00\",\"2000-01-06T00:00:00\",\"2000-01-07T00:00:00\",\"2000-01-08T00:00:00\",\"2000-01-09T00:00:00\",\"2000-01-10T00:00:00\",\"2000-01-11T00:00:00\",\"2000-01-12T00:00:00\",\"2000-01-13T00:00:00\",\"2000-01-14T00:00:00\",\"2000-01-15T00:00:00\",\"2000-01-16T00:00:00\",\"2000-01-17T00:00:00\",\"2000-01-18T00:00:00\",\"2000-01-19T00:00:00\",\"2000-01-20T00:00:00\",\"2000-01-21T00:00:00\",\"2000-01-22T00:00:00\",\"2000-01-23T00:00:00\",\"2000-01-24T00:00:00\",\"2000-01-25T00:00:00\",\"2000-01-26T00:00:00\",\"2000-01-27T00:00:00\",\"2000-01-28T00:00:00\",\"2000-01-29T00:00:00\",\"2000-01-30T00:00:00\",\"2000-01-31T00:00:00\",\"2000-02-01T00:00:00\",\"2000-02-02T00:00:00\",\"2000-02-03T00:00:00\",\"2000-02-04T00:00:00\",\"2000-02-05T00:00:00\",\"2000-02-06T00:00:00\",\"2000-02-07T00:00:00\",\"2000-02-08T00:00:00\",\"2000-02-09T00:00:00\",\"2000-02-10T00:00:00\",\"2000-02-11T00:00:00\",\"2000-02-12T00:00:00\",\"2000-02-13T00:00:00\",\"2000-02-14T00:00:00\",\"2000-02-15T00:00:00\",\"2000-02-16T00:00:00\",\"2000-02-17T00:00:00\",\"2000-02-18T00:00:00\",\"2000-02-19T00:00:00\",\"2000-02-20T00:00:00\",\"2000-02-21T00:00:00\",\"2000-02-22T00:00:00\",\"2000-02-23T00:00:00\",\"2000-02-24T00:00:00\",\"2000-02-25T00:00:00\",\"2000-02-26T00:00:00\",\"2000-02-27T00:00:00\",\"2000-02-28T00:00:00\",\"2000-02-29T00:00:00\",\"2000-03-01T00:00:00\",\"2000-03-02T00:00:00\",\"2000-03-03T00:00:00\",\"2000-03-04T00:00:00\",\"2000-03-05T00:00:00\",\"2000-03-06T00:00:00\",\"2000-03-07T00:00:00\",\"2000-03-08T00:00:00\",\"2000-03-09T00:00:00\",\"2000-03-10T00:00:00\",\"2000-03-11T00:00:00\",\"2000-03-12T00:00:00\",\"2000-03-13T00:00:00\",\"2000-03-14T00:00:00\",\"2000-03-15T00:00:00\",\"2000-03-16T00:00:00\",\"2000-03-17T00:00:00\",\"2000-03-18T00:00:00\",\"2000-03-19T00:00:00\",\"2000-03-20T00:00:00\",\"2000-03-21T00:00:00\",\"2000-03-22T00:00:00\",\"2000-03-23T00:00:00\",\"2000-03-24T00:00:00\",\"2000-03-25T00:00:00\",\"2000-03-26T00:00:00\",\"2000-03-27T00:00:00\",\"2000-03-28T00:00:00\",\"2000-03-29T00:00:00\",\"2000-03-30T00:00:00\",\"2000-03-31T00:00:00\",\"2000-04-01T00:00:00\",\"2000-04-02T00:00:00\",\"2000-04-03T00:00:00\",\"2000-04-04T00:00:00\",\"2000-04-05T00:00:00\",\"2000-04-06T00:00:00\",\"2000-04-07T00:00:00\",\"2000-04-08T00:00:00\",\"2000-04-09T00:00:00\",\"2000-04-10T00:00:00\",\"2000-04-11T00:00:00\",\"2000-04-12T00:00:00\",\"2000-04-13T00:00:00\",\"2000-04-14T00:00:00\",\"2000-04-15T00:00:00\",\"2000-04-16T00:00:00\",\"2000-04-17T00:00:00\",\"2000-04-18T00:00:00\",\"2000-04-19T00:00:00\",\"2000-04-20T00:00:00\",\"2000-04-21T00:00:00\",\"2000-04-22T00:00:00\",\"2000-04-23T00:00:00\",\"2000-04-24T00:00:00\",\"2000-04-25T00:00:00\",\"2000-04-26T00:00:00\",\"2000-04-27T00:00:00\",\"2000-04-28T00:00:00\",\"2000-04-29T00:00:00\",\"2000-04-30T00:00:00\",\"2000-05-01T00:00:00\",\"2000-05-02T00:00:00\",\"2000-05-03T00:00:00\",\"2000-05-04T00:00:00\",\"2000-05-05T00:00:00\",\"2000-05-06T00:00:00\",\"2000-05-07T00:00:00\",\"2000-05-08T00:00:00\",\"2000-05-09T00:00:00\",\"2000-05-10T00:00:00\",\"2000-05-11T00:00:00\",\"2000-05-12T00:00:00\",\"2000-05-13T00:00:00\",\"2000-05-14T00:00:00\",\"2000-05-15T00:00:00\",\"2000-05-16T00:00:00\",\"2000-05-17T00:00:00\",\"2000-05-18T00:00:00\",\"2000-05-19T00:00:00\",\"2000-05-20T00:00:00\",\"2000-05-21T00:00:00\",\"2000-05-22T00:00:00\",\"2000-05-23T00:00:00\",\"2000-05-24T00:00:00\",\"2000-05-25T00:00:00\",\"2000-05-26T00:00:00\",\"2000-05-27T00:00:00\",\"2000-05-28T00:00:00\",\"2000-05-29T00:00:00\",\"2000-05-30T00:00:00\",\"2000-05-31T00:00:00\",\"2000-06-01T00:00:00\",\"2000-06-02T00:00:00\",\"2000-06-03T00:00:00\",\"2000-06-04T00:00:00\",\"2000-06-05T00:00:00\",\"2000-06-06T00:00:00\",\"2000-06-07T00:00:00\",\"2000-06-08T00:00:00\",\"2000-06-09T00:00:00\",\"2000-06-10T00:00:00\",\"2000-06-11T00:00:00\",\"2000-06-12T00:00:00\",\"2000-06-13T00:00:00\",\"2000-06-14T00:00:00\",\"2000-06-15T00:00:00\",\"2000-06-16T00:00:00\",\"2000-06-17T00:00:00\",\"2000-06-18T00:00:00\",\"2000-06-19T00:00:00\",\"2000-06-20T00:00:00\",\"2000-06-21T00:00:00\",\"2000-06-22T00:00:00\",\"2000-06-23T00:00:00\",\"2000-06-24T00:00:00\",\"2000-06-25T00:00:00\",\"2000-06-26T00:00:00\",\"2000-06-27T00:00:00\",\"2000-06-28T00:00:00\",\"2000-06-29T00:00:00\",\"2000-06-30T00:00:00\",\"2000-07-01T00:00:00\",\"2000-07-02T00:00:00\",\"2000-07-03T00:00:00\",\"2000-07-04T00:00:00\",\"2000-07-05T00:00:00\",\"2000-07-06T00:00:00\",\"2000-07-07T00:00:00\",\"2000-07-08T00:00:00\",\"2000-07-09T00:00:00\",\"2000-07-10T00:00:00\",\"2000-07-11T00:00:00\",\"2000-07-12T00:00:00\",\"2000-07-13T00:00:00\",\"2000-07-14T00:00:00\",\"2000-07-15T00:00:00\",\"2000-07-16T00:00:00\",\"2000-07-17T00:00:00\",\"2000-07-18T00:00:00\",\"2000-07-19T00:00:00\",\"2000-07-20T00:00:00\",\"2000-07-21T00:00:00\",\"2000-07-22T00:00:00\",\"2000-07-23T00:00:00\",\"2000-07-24T00:00:00\",\"2000-07-25T00:00:00\",\"2000-07-26T00:00:00\",\"2000-07-27T00:00:00\",\"2000-07-28T00:00:00\",\"2000-07-29T00:00:00\",\"2000-07-30T00:00:00\",\"2000-07-31T00:00:00\",\"2000-08-01T00:00:00\",\"2000-08-02T00:00:00\",\"2000-08-03T00:00:00\",\"2000-08-04T00:00:00\",\"2000-08-05T00:00:00\",\"2000-08-06T00:00:00\",\"2000-08-07T00:00:00\",\"2000-08-08T00:00:00\",\"2000-08-09T00:00:00\",\"2000-08-10T00:00:00\",\"2000-08-11T00:00:00\",\"2000-08-12T00:00:00\",\"2000-08-13T00:00:00\",\"2000-08-14T00:00:00\",\"2000-08-15T00:00:00\",\"2000-08-16T00:00:00\",\"2000-08-17T00:00:00\",\"2000-08-18T00:00:00\",\"2000-08-19T00:00:00\",\"2000-08-20T00:00:00\",\"2000-08-21T00:00:00\",\"2000-08-22T00:00:00\",\"2000-08-23T00:00:00\",\"2000-08-24T00:00:00\",\"2000-08-25T00:00:00\",\"2000-08-26T00:00:00\",\"2000-08-27T00:00:00\",\"2000-08-28T00:00:00\",\"2000-08-29T00:00:00\",\"2000-08-30T00:00:00\",\"2000-08-31T00:00:00\",\"2000-09-01T00:00:00\",\"2000-09-02T00:00:00\",\"2000-09-03T00:00:00\",\"2000-09-04T00:00:00\",\"2000-09-05T00:00:00\",\"2000-09-06T00:00:00\",\"2000-09-07T00:00:00\",\"2000-09-08T00:00:00\",\"2000-09-09T00:00:00\",\"2000-09-10T00:00:00\",\"2000-09-11T00:00:00\",\"2000-09-12T00:00:00\",\"2000-09-13T00:00:00\",\"2000-09-14T00:00:00\",\"2000-09-15T00:00:00\",\"2000-09-16T00:00:00\",\"2000-09-17T00:00:00\",\"2000-09-18T00:00:00\",\"2000-09-19T00:00:00\",\"2000-09-20T00:00:00\",\"2000-09-21T00:00:00\",\"2000-09-22T00:00:00\",\"2000-09-23T00:00:00\",\"2000-09-24T00:00:00\",\"2000-09-25T00:00:00\",\"2000-09-26T00:00:00\",\"2000-09-27T00:00:00\",\"2000-09-28T00:00:00\",\"2000-09-29T00:00:00\",\"2000-09-30T00:00:00\",\"2000-10-01T00:00:00\",\"2000-10-02T00:00:00\",\"2000-10-03T00:00:00\",\"2000-10-04T00:00:00\",\"2000-10-05T00:00:00\",\"2000-10-06T00:00:00\",\"2000-10-07T00:00:00\",\"2000-10-08T00:00:00\",\"2000-10-09T00:00:00\",\"2000-10-10T00:00:00\",\"2000-10-11T00:00:00\",\"2000-10-12T00:00:00\",\"2000-10-13T00:00:00\",\"2000-10-14T00:00:00\",\"2000-10-15T00:00:00\",\"2000-10-16T00:00:00\",\"2000-10-17T00:00:00\",\"2000-10-18T00:00:00\",\"2000-10-19T00:00:00\",\"2000-10-20T00:00:00\",\"2000-10-21T00:00:00\",\"2000-10-22T00:00:00\",\"2000-10-23T00:00:00\",\"2000-10-24T00:00:00\",\"2000-10-25T00:00:00\",\"2000-10-26T00:00:00\",\"2000-10-27T00:00:00\",\"2000-10-28T00:00:00\",\"2000-10-29T00:00:00\",\"2000-10-30T00:00:00\",\"2000-10-31T00:00:00\",\"2000-11-01T00:00:00\",\"2000-11-02T00:00:00\",\"2000-11-03T00:00:00\",\"2000-11-04T00:00:00\",\"2000-11-05T00:00:00\",\"2000-11-06T00:00:00\",\"2000-11-07T00:00:00\",\"2000-11-08T00:00:00\",\"2000-11-09T00:00:00\",\"2000-11-10T00:00:00\",\"2000-11-11T00:00:00\",\"2000-11-12T00:00:00\",\"2000-11-13T00:00:00\",\"2000-11-14T00:00:00\",\"2000-11-15T00:00:00\",\"2000-11-16T00:00:00\",\"2000-11-17T00:00:00\",\"2000-11-18T00:00:00\",\"2000-11-19T00:00:00\",\"2000-11-20T00:00:00\",\"2000-11-21T00:00:00\",\"2000-11-22T00:00:00\",\"2000-11-23T00:00:00\",\"2000-11-24T00:00:00\",\"2000-11-25T00:00:00\",\"2000-11-26T00:00:00\",\"2000-11-27T00:00:00\",\"2000-11-28T00:00:00\",\"2000-11-29T00:00:00\",\"2000-11-30T00:00:00\",\"2000-12-01T00:00:00\",\"2000-12-02T00:00:00\",\"2000-12-03T00:00:00\",\"2000-12-04T00:00:00\",\"2000-12-05T00:00:00\",\"2000-12-06T00:00:00\",\"2000-12-07T00:00:00\",\"2000-12-08T00:00:00\",\"2000-12-09T00:00:00\",\"2000-12-10T00:00:00\",\"2000-12-11T00:00:00\",\"2000-12-12T00:00:00\",\"2000-12-13T00:00:00\",\"2000-12-14T00:00:00\",\"2000-12-15T00:00:00\",\"2000-12-16T00:00:00\",\"2000-12-17T00:00:00\",\"2000-12-18T00:00:00\",\"2000-12-19T00:00:00\",\"2000-12-20T00:00:00\",\"2000-12-21T00:00:00\",\"2000-12-22T00:00:00\",\"2000-12-23T00:00:00\",\"2000-12-24T00:00:00\",\"2000-12-25T00:00:00\",\"2000-12-26T00:00:00\",\"2000-12-27T00:00:00\",\"2000-12-28T00:00:00\",\"2000-12-29T00:00:00\",\"2000-12-30T00:00:00\",\"2000-12-31T00:00:00\",\"2001-01-01T00:00:00\",\"2001-01-02T00:00:00\",\"2001-01-03T00:00:00\",\"2001-01-04T00:00:00\",\"2001-01-05T00:00:00\",\"2001-01-06T00:00:00\",\"2001-01-07T00:00:00\",\"2001-01-08T00:00:00\",\"2001-01-09T00:00:00\",\"2001-01-10T00:00:00\",\"2001-01-11T00:00:00\",\"2001-01-12T00:00:00\",\"2001-01-13T00:00:00\",\"2001-01-14T00:00:00\",\"2001-01-15T00:00:00\",\"2001-01-16T00:00:00\",\"2001-01-17T00:00:00\",\"2001-01-18T00:00:00\",\"2001-01-19T00:00:00\",\"2001-01-20T00:00:00\",\"2001-01-21T00:00:00\",\"2001-01-22T00:00:00\",\"2001-01-23T00:00:00\",\"2001-01-24T00:00:00\",\"2001-01-25T00:00:00\",\"2001-01-26T00:00:00\",\"2001-01-27T00:00:00\",\"2001-01-28T00:00:00\",\"2001-01-29T00:00:00\",\"2001-01-30T00:00:00\",\"2001-01-31T00:00:00\",\"2001-02-01T00:00:00\",\"2001-02-02T00:00:00\",\"2001-02-03T00:00:00\",\"2001-02-04T00:00:00\",\"2001-02-05T00:00:00\",\"2001-02-06T00:00:00\",\"2001-02-07T00:00:00\",\"2001-02-08T00:00:00\",\"2001-02-09T00:00:00\",\"2001-02-10T00:00:00\",\"2001-02-11T00:00:00\",\"2001-02-12T00:00:00\",\"2001-02-13T00:00:00\",\"2001-02-14T00:00:00\",\"2001-02-15T00:00:00\",\"2001-02-16T00:00:00\",\"2001-02-17T00:00:00\",\"2001-02-18T00:00:00\",\"2001-02-19T00:00:00\",\"2001-02-20T00:00:00\",\"2001-02-21T00:00:00\",\"2001-02-22T00:00:00\",\"2001-02-23T00:00:00\",\"2001-02-24T00:00:00\",\"2001-02-25T00:00:00\",\"2001-02-26T00:00:00\",\"2001-02-27T00:00:00\",\"2001-02-28T00:00:00\",\"2001-03-01T00:00:00\",\"2001-03-02T00:00:00\",\"2001-03-03T00:00:00\",\"2001-03-04T00:00:00\",\"2001-03-05T00:00:00\",\"2001-03-06T00:00:00\",\"2001-03-07T00:00:00\",\"2001-03-08T00:00:00\",\"2001-03-09T00:00:00\",\"2001-03-10T00:00:00\",\"2001-03-11T00:00:00\",\"2001-03-12T00:00:00\",\"2001-03-13T00:00:00\",\"2001-03-14T00:00:00\",\"2001-03-15T00:00:00\",\"2001-03-16T00:00:00\",\"2001-03-17T00:00:00\",\"2001-03-18T00:00:00\",\"2001-03-19T00:00:00\",\"2001-03-20T00:00:00\",\"2001-03-21T00:00:00\",\"2001-03-22T00:00:00\",\"2001-03-23T00:00:00\",\"2001-03-24T00:00:00\",\"2001-03-25T00:00:00\",\"2001-03-26T00:00:00\",\"2001-03-27T00:00:00\",\"2001-03-28T00:00:00\",\"2001-03-29T00:00:00\",\"2001-03-30T00:00:00\",\"2001-03-31T00:00:00\",\"2001-04-01T00:00:00\",\"2001-04-02T00:00:00\",\"2001-04-03T00:00:00\",\"2001-04-04T00:00:00\",\"2001-04-05T00:00:00\",\"2001-04-06T00:00:00\",\"2001-04-07T00:00:00\",\"2001-04-08T00:00:00\",\"2001-04-09T00:00:00\",\"2001-04-10T00:00:00\",\"2001-04-11T00:00:00\",\"2001-04-12T00:00:00\",\"2001-04-13T00:00:00\",\"2001-04-14T00:00:00\",\"2001-04-15T00:00:00\",\"2001-04-16T00:00:00\",\"2001-04-17T00:00:00\",\"2001-04-18T00:00:00\",\"2001-04-19T00:00:00\",\"2001-04-20T00:00:00\",\"2001-04-21T00:00:00\",\"2001-04-22T00:00:00\",\"2001-04-23T00:00:00\",\"2001-04-24T00:00:00\",\"2001-04-25T00:00:00\",\"2001-04-26T00:00:00\",\"2001-04-27T00:00:00\",\"2001-04-28T00:00:00\",\"2001-04-29T00:00:00\",\"2001-04-30T00:00:00\",\"2001-05-01T00:00:00\",\"2001-05-02T00:00:00\",\"2001-05-03T00:00:00\",\"2001-05-04T00:00:00\",\"2001-05-05T00:00:00\",\"2001-05-06T00:00:00\",\"2001-05-07T00:00:00\",\"2001-05-08T00:00:00\",\"2001-05-09T00:00:00\",\"2001-05-10T00:00:00\",\"2001-05-11T00:00:00\",\"2001-05-12T00:00:00\",\"2001-05-13T00:00:00\",\"2001-05-14T00:00:00\",\"2001-05-15T00:00:00\",\"2001-05-16T00:00:00\",\"2001-05-17T00:00:00\",\"2001-05-18T00:00:00\",\"2001-05-19T00:00:00\",\"2001-05-20T00:00:00\",\"2001-05-21T00:00:00\",\"2001-05-22T00:00:00\",\"2001-05-23T00:00:00\",\"2001-05-24T00:00:00\",\"2001-05-25T00:00:00\",\"2001-05-26T00:00:00\",\"2001-05-27T00:00:00\",\"2001-05-28T00:00:00\",\"2001-05-29T00:00:00\",\"2001-05-30T00:00:00\",\"2001-05-31T00:00:00\",\"2001-06-01T00:00:00\",\"2001-06-02T00:00:00\",\"2001-06-03T00:00:00\",\"2001-06-04T00:00:00\",\"2001-06-05T00:00:00\",\"2001-06-06T00:00:00\",\"2001-06-07T00:00:00\",\"2001-06-08T00:00:00\",\"2001-06-09T00:00:00\",\"2001-06-10T00:00:00\",\"2001-06-11T00:00:00\",\"2001-06-12T00:00:00\",\"2001-06-13T00:00:00\",\"2001-06-14T00:00:00\",\"2001-06-15T00:00:00\",\"2001-06-16T00:00:00\",\"2001-06-17T00:00:00\",\"2001-06-18T00:00:00\",\"2001-06-19T00:00:00\",\"2001-06-20T00:00:00\",\"2001-06-21T00:00:00\",\"2001-06-22T00:00:00\",\"2001-06-23T00:00:00\",\"2001-06-24T00:00:00\",\"2001-06-25T00:00:00\",\"2001-06-26T00:00:00\",\"2001-06-27T00:00:00\",\"2001-06-28T00:00:00\",\"2001-06-29T00:00:00\",\"2001-06-30T00:00:00\",\"2001-07-01T00:00:00\",\"2001-07-02T00:00:00\",\"2001-07-03T00:00:00\",\"2001-07-04T00:00:00\",\"2001-07-05T00:00:00\",\"2001-07-06T00:00:00\",\"2001-07-07T00:00:00\",\"2001-07-08T00:00:00\",\"2001-07-09T00:00:00\",\"2001-07-10T00:00:00\",\"2001-07-11T00:00:00\",\"2001-07-12T00:00:00\",\"2001-07-13T00:00:00\",\"2001-07-14T00:00:00\",\"2001-07-15T00:00:00\",\"2001-07-16T00:00:00\",\"2001-07-17T00:00:00\",\"2001-07-18T00:00:00\",\"2001-07-19T00:00:00\",\"2001-07-20T00:00:00\",\"2001-07-21T00:00:00\",\"2001-07-22T00:00:00\",\"2001-07-23T00:00:00\",\"2001-07-24T00:00:00\",\"2001-07-25T00:00:00\",\"2001-07-26T00:00:00\",\"2001-07-27T00:00:00\",\"2001-07-28T00:00:00\",\"2001-07-29T00:00:00\",\"2001-07-30T00:00:00\",\"2001-07-31T00:00:00\",\"2001-08-01T00:00:00\",\"2001-08-02T00:00:00\",\"2001-08-03T00:00:00\",\"2001-08-04T00:00:00\",\"2001-08-05T00:00:00\",\"2001-08-06T00:00:00\",\"2001-08-07T00:00:00\",\"2001-08-08T00:00:00\",\"2001-08-09T00:00:00\",\"2001-08-10T00:00:00\",\"2001-08-11T00:00:00\",\"2001-08-12T00:00:00\",\"2001-08-13T00:00:00\",\"2001-08-14T00:00:00\",\"2001-08-15T00:00:00\",\"2001-08-16T00:00:00\",\"2001-08-17T00:00:00\",\"2001-08-18T00:00:00\",\"2001-08-19T00:00:00\",\"2001-08-20T00:00:00\",\"2001-08-21T00:00:00\",\"2001-08-22T00:00:00\",\"2001-08-23T00:00:00\",\"2001-08-24T00:00:00\",\"2001-08-25T00:00:00\",\"2001-08-26T00:00:00\",\"2001-08-27T00:00:00\",\"2001-08-28T00:00:00\",\"2001-08-29T00:00:00\",\"2001-08-30T00:00:00\",\"2001-08-31T00:00:00\",\"2001-09-01T00:00:00\",\"2001-09-02T00:00:00\",\"2001-09-03T00:00:00\",\"2001-09-04T00:00:00\",\"2001-09-05T00:00:00\",\"2001-09-06T00:00:00\",\"2001-09-07T00:00:00\",\"2001-09-08T00:00:00\",\"2001-09-09T00:00:00\",\"2001-09-10T00:00:00\",\"2001-09-11T00:00:00\",\"2001-09-12T00:00:00\",\"2001-09-13T00:00:00\",\"2001-09-14T00:00:00\",\"2001-09-15T00:00:00\",\"2001-09-16T00:00:00\",\"2001-09-17T00:00:00\",\"2001-09-18T00:00:00\",\"2001-09-19T00:00:00\",\"2001-09-20T00:00:00\",\"2001-09-21T00:00:00\",\"2001-09-22T00:00:00\",\"2001-09-23T00:00:00\",\"2001-09-24T00:00:00\",\"2001-09-25T00:00:00\",\"2001-09-26T00:00:00\",\"2001-09-27T00:00:00\",\"2001-09-28T00:00:00\",\"2001-09-29T00:00:00\",\"2001-09-30T00:00:00\",\"2001-10-01T00:00:00\",\"2001-10-02T00:00:00\",\"2001-10-03T00:00:00\",\"2001-10-04T00:00:00\",\"2001-10-05T00:00:00\",\"2001-10-06T00:00:00\",\"2001-10-07T00:00:00\",\"2001-10-08T00:00:00\",\"2001-10-09T00:00:00\",\"2001-10-10T00:00:00\",\"2001-10-11T00:00:00\",\"2001-10-12T00:00:00\",\"2001-10-13T00:00:00\",\"2001-10-14T00:00:00\",\"2001-10-15T00:00:00\",\"2001-10-16T00:00:00\",\"2001-10-17T00:00:00\",\"2001-10-18T00:00:00\",\"2001-10-19T00:00:00\",\"2001-10-20T00:00:00\",\"2001-10-21T00:00:00\",\"2001-10-22T00:00:00\",\"2001-10-23T00:00:00\",\"2001-10-24T00:00:00\",\"2001-10-25T00:00:00\",\"2001-10-26T00:00:00\",\"2001-10-27T00:00:00\",\"2001-10-28T00:00:00\",\"2001-10-29T00:00:00\",\"2001-10-30T00:00:00\",\"2001-10-31T00:00:00\",\"2001-11-01T00:00:00\",\"2001-11-02T00:00:00\",\"2001-11-03T00:00:00\",\"2001-11-04T00:00:00\",\"2001-11-05T00:00:00\",\"2001-11-06T00:00:00\",\"2001-11-07T00:00:00\",\"2001-11-08T00:00:00\",\"2001-11-09T00:00:00\",\"2001-11-10T00:00:00\",\"2001-11-11T00:00:00\",\"2001-11-12T00:00:00\",\"2001-11-13T00:00:00\",\"2001-11-14T00:00:00\",\"2001-11-15T00:00:00\",\"2001-11-16T00:00:00\",\"2001-11-17T00:00:00\",\"2001-11-18T00:00:00\",\"2001-11-19T00:00:00\",\"2001-11-20T00:00:00\",\"2001-11-21T00:00:00\",\"2001-11-22T00:00:00\",\"2001-11-23T00:00:00\",\"2001-11-24T00:00:00\",\"2001-11-25T00:00:00\",\"2001-11-26T00:00:00\",\"2001-11-27T00:00:00\",\"2001-11-28T00:00:00\",\"2001-11-29T00:00:00\",\"2001-11-30T00:00:00\",\"2001-12-01T00:00:00\",\"2001-12-02T00:00:00\",\"2001-12-03T00:00:00\",\"2001-12-04T00:00:00\",\"2001-12-05T00:00:00\",\"2001-12-06T00:00:00\",\"2001-12-07T00:00:00\",\"2001-12-08T00:00:00\",\"2001-12-09T00:00:00\",\"2001-12-10T00:00:00\",\"2001-12-11T00:00:00\",\"2001-12-12T00:00:00\",\"2001-12-13T00:00:00\",\"2001-12-14T00:00:00\",\"2001-12-15T00:00:00\",\"2001-12-16T00:00:00\",\"2001-12-17T00:00:00\",\"2001-12-18T00:00:00\",\"2001-12-19T00:00:00\",\"2001-12-20T00:00:00\",\"2001-12-21T00:00:00\",\"2001-12-22T00:00:00\",\"2001-12-23T00:00:00\",\"2001-12-24T00:00:00\",\"2001-12-25T00:00:00\",\"2001-12-26T00:00:00\",\"2001-12-27T00:00:00\",\"2001-12-28T00:00:00\",\"2001-12-29T00:00:00\",\"2001-12-30T00:00:00\",\"2001-12-31T00:00:00\",\"2002-01-01T00:00:00\",\"2002-01-02T00:00:00\",\"2002-01-03T00:00:00\",\"2002-01-04T00:00:00\",\"2002-01-05T00:00:00\",\"2002-01-06T00:00:00\",\"2002-01-07T00:00:00\",\"2002-01-08T00:00:00\",\"2002-01-09T00:00:00\",\"2002-01-10T00:00:00\",\"2002-01-11T00:00:00\",\"2002-01-12T00:00:00\",\"2002-01-13T00:00:00\",\"2002-01-14T00:00:00\",\"2002-01-15T00:00:00\",\"2002-01-16T00:00:00\",\"2002-01-17T00:00:00\",\"2002-01-18T00:00:00\",\"2002-01-19T00:00:00\",\"2002-01-20T00:00:00\",\"2002-01-21T00:00:00\",\"2002-01-22T00:00:00\",\"2002-01-23T00:00:00\",\"2002-01-24T00:00:00\",\"2002-01-25T00:00:00\",\"2002-01-26T00:00:00\",\"2002-01-27T00:00:00\",\"2002-01-28T00:00:00\",\"2002-01-29T00:00:00\",\"2002-01-30T00:00:00\",\"2002-01-31T00:00:00\",\"2002-02-01T00:00:00\",\"2002-02-02T00:00:00\",\"2002-02-03T00:00:00\",\"2002-02-04T00:00:00\",\"2002-02-05T00:00:00\",\"2002-02-06T00:00:00\",\"2002-02-07T00:00:00\",\"2002-02-08T00:00:00\",\"2002-02-09T00:00:00\",\"2002-02-10T00:00:00\",\"2002-02-11T00:00:00\",\"2002-02-12T00:00:00\",\"2002-02-13T00:00:00\",\"2002-02-14T00:00:00\",\"2002-02-15T00:00:00\",\"2002-02-16T00:00:00\",\"2002-02-17T00:00:00\",\"2002-02-18T00:00:00\",\"2002-02-19T00:00:00\",\"2002-02-20T00:00:00\",\"2002-02-21T00:00:00\",\"2002-02-22T00:00:00\",\"2002-02-23T00:00:00\",\"2002-02-24T00:00:00\",\"2002-02-25T00:00:00\",\"2002-02-26T00:00:00\",\"2002-02-27T00:00:00\",\"2002-02-28T00:00:00\",\"2002-03-01T00:00:00\",\"2002-03-02T00:00:00\",\"2002-03-03T00:00:00\",\"2002-03-04T00:00:00\",\"2002-03-05T00:00:00\",\"2002-03-06T00:00:00\",\"2002-03-07T00:00:00\",\"2002-03-08T00:00:00\",\"2002-03-09T00:00:00\",\"2002-03-10T00:00:00\",\"2002-03-11T00:00:00\",\"2002-03-12T00:00:00\",\"2002-03-13T00:00:00\",\"2002-03-14T00:00:00\",\"2002-03-15T00:00:00\",\"2002-03-16T00:00:00\",\"2002-03-17T00:00:00\",\"2002-03-18T00:00:00\",\"2002-03-19T00:00:00\",\"2002-03-20T00:00:00\",\"2002-03-21T00:00:00\",\"2002-03-22T00:00:00\",\"2002-03-23T00:00:00\",\"2002-03-24T00:00:00\",\"2002-03-25T00:00:00\",\"2002-03-26T00:00:00\",\"2002-03-27T00:00:00\",\"2002-03-28T00:00:00\",\"2002-03-29T00:00:00\",\"2002-03-30T00:00:00\",\"2002-03-31T00:00:00\",\"2002-04-01T00:00:00\",\"2002-04-02T00:00:00\",\"2002-04-03T00:00:00\",\"2002-04-04T00:00:00\",\"2002-04-05T00:00:00\",\"2002-04-06T00:00:00\",\"2002-04-07T00:00:00\",\"2002-04-08T00:00:00\",\"2002-04-09T00:00:00\",\"2002-04-10T00:00:00\",\"2002-04-11T00:00:00\",\"2002-04-12T00:00:00\",\"2002-04-13T00:00:00\",\"2002-04-14T00:00:00\",\"2002-04-15T00:00:00\",\"2002-04-16T00:00:00\",\"2002-04-17T00:00:00\",\"2002-04-18T00:00:00\",\"2002-04-19T00:00:00\",\"2002-04-20T00:00:00\",\"2002-04-21T00:00:00\",\"2002-04-22T00:00:00\",\"2002-04-23T00:00:00\",\"2002-04-24T00:00:00\",\"2002-04-25T00:00:00\",\"2002-04-26T00:00:00\",\"2002-04-27T00:00:00\",\"2002-04-28T00:00:00\",\"2002-04-29T00:00:00\",\"2002-04-30T00:00:00\",\"2002-05-01T00:00:00\",\"2002-05-02T00:00:00\",\"2002-05-03T00:00:00\",\"2002-05-04T00:00:00\",\"2002-05-05T00:00:00\",\"2002-05-06T00:00:00\",\"2002-05-07T00:00:00\",\"2002-05-08T00:00:00\",\"2002-05-09T00:00:00\",\"2002-05-10T00:00:00\",\"2002-05-11T00:00:00\",\"2002-05-12T00:00:00\",\"2002-05-13T00:00:00\",\"2002-05-14T00:00:00\",\"2002-05-15T00:00:00\",\"2002-05-16T00:00:00\",\"2002-05-17T00:00:00\",\"2002-05-18T00:00:00\",\"2002-05-19T00:00:00\",\"2002-05-20T00:00:00\",\"2002-05-21T00:00:00\",\"2002-05-22T00:00:00\",\"2002-05-23T00:00:00\",\"2002-05-24T00:00:00\",\"2002-05-25T00:00:00\",\"2002-05-26T00:00:00\",\"2002-05-27T00:00:00\",\"2002-05-28T00:00:00\",\"2002-05-29T00:00:00\",\"2002-05-30T00:00:00\",\"2002-05-31T00:00:00\",\"2002-06-01T00:00:00\",\"2002-06-02T00:00:00\",\"2002-06-03T00:00:00\",\"2002-06-04T00:00:00\",\"2002-06-05T00:00:00\",\"2002-06-06T00:00:00\",\"2002-06-07T00:00:00\",\"2002-06-08T00:00:00\",\"2002-06-09T00:00:00\",\"2002-06-10T00:00:00\",\"2002-06-11T00:00:00\",\"2002-06-12T00:00:00\",\"2002-06-13T00:00:00\",\"2002-06-14T00:00:00\",\"2002-06-15T00:00:00\",\"2002-06-16T00:00:00\",\"2002-06-17T00:00:00\",\"2002-06-18T00:00:00\",\"2002-06-19T00:00:00\",\"2002-06-20T00:00:00\",\"2002-06-21T00:00:00\",\"2002-06-22T00:00:00\",\"2002-06-23T00:00:00\",\"2002-06-24T00:00:00\",\"2002-06-25T00:00:00\",\"2002-06-26T00:00:00\",\"2002-06-27T00:00:00\",\"2002-06-28T00:00:00\",\"2002-06-29T00:00:00\",\"2002-06-30T00:00:00\",\"2002-07-01T00:00:00\",\"2002-07-02T00:00:00\",\"2002-07-03T00:00:00\",\"2002-07-04T00:00:00\",\"2002-07-05T00:00:00\",\"2002-07-06T00:00:00\",\"2002-07-07T00:00:00\",\"2002-07-08T00:00:00\",\"2002-07-09T00:00:00\",\"2002-07-10T00:00:00\",\"2002-07-11T00:00:00\",\"2002-07-12T00:00:00\",\"2002-07-13T00:00:00\",\"2002-07-14T00:00:00\",\"2002-07-15T00:00:00\",\"2002-07-16T00:00:00\",\"2002-07-17T00:00:00\",\"2002-07-18T00:00:00\",\"2002-07-19T00:00:00\",\"2002-07-20T00:00:00\",\"2002-07-21T00:00:00\",\"2002-07-22T00:00:00\",\"2002-07-23T00:00:00\",\"2002-07-24T00:00:00\",\"2002-07-25T00:00:00\",\"2002-07-26T00:00:00\",\"2002-07-27T00:00:00\",\"2002-07-28T00:00:00\",\"2002-07-29T00:00:00\",\"2002-07-30T00:00:00\",\"2002-07-31T00:00:00\",\"2002-08-01T00:00:00\",\"2002-08-02T00:00:00\",\"2002-08-03T00:00:00\",\"2002-08-04T00:00:00\",\"2002-08-05T00:00:00\",\"2002-08-06T00:00:00\",\"2002-08-07T00:00:00\",\"2002-08-08T00:00:00\",\"2002-08-09T00:00:00\",\"2002-08-10T00:00:00\",\"2002-08-11T00:00:00\",\"2002-08-12T00:00:00\",\"2002-08-13T00:00:00\",\"2002-08-14T00:00:00\",\"2002-08-15T00:00:00\",\"2002-08-16T00:00:00\",\"2002-08-17T00:00:00\",\"2002-08-18T00:00:00\",\"2002-08-19T00:00:00\",\"2002-08-20T00:00:00\",\"2002-08-21T00:00:00\",\"2002-08-22T00:00:00\",\"2002-08-23T00:00:00\",\"2002-08-24T00:00:00\",\"2002-08-25T00:00:00\",\"2002-08-26T00:00:00\",\"2002-08-27T00:00:00\",\"2002-08-28T00:00:00\",\"2002-08-29T00:00:00\",\"2002-08-30T00:00:00\",\"2002-08-31T00:00:00\",\"2002-09-01T00:00:00\",\"2002-09-02T00:00:00\",\"2002-09-03T00:00:00\",\"2002-09-04T00:00:00\",\"2002-09-05T00:00:00\",\"2002-09-06T00:00:00\",\"2002-09-07T00:00:00\",\"2002-09-08T00:00:00\",\"2002-09-09T00:00:00\",\"2002-09-10T00:00:00\",\"2002-09-11T00:00:00\",\"2002-09-12T00:00:00\",\"2002-09-13T00:00:00\",\"2002-09-14T00:00:00\",\"2002-09-15T00:00:00\",\"2002-09-16T00:00:00\",\"2002-09-17T00:00:00\",\"2002-09-18T00:00:00\",\"2002-09-19T00:00:00\",\"2002-09-20T00:00:00\",\"2002-09-21T00:00:00\",\"2002-09-22T00:00:00\",\"2002-09-23T00:00:00\",\"2002-09-24T00:00:00\",\"2002-09-25T00:00:00\",\"2002-09-26T00:00:00\"],\"xaxis\":\"x\",\"y\":[0.6008713194280229,0.6008713194280229,0.6008713194280229,0.6008713194280229,0.6008713194280229,0.8216107655191076,0.8216107655191076,0.8216107655191076,0.8216107655191076,0.8885683443178731,0.8885683443178731,1.5336596022194746,1.5336596022194746,1.5336596022194746,1.5336596022194746,1.5336596022194746,1.6666948451916226,1.6666948451916226,1.6666948451916226,1.6666948451916226,1.6666948451916226,1.6666948451916226,1.6666948451916226,1.6666948451916226,1.6666948451916226,1.6666948451916226,1.6666948451916226,1.6666948451916226,1.6666948451916226,1.6666948451916226,1.6666948451916226,1.6666948451916226,1.6666948451916226,1.6666948451916226,1.6666948451916226,1.6666948451916226,1.6666948451916226,1.6666948451916226,1.6666948451916226,1.6666948451916226,1.6666948451916226,1.6666948451916226,1.6666948451916226,1.6666948451916226,1.6666948451916226,1.6666948451916226,1.6666948451916226,1.6666948451916226,1.6666948451916226,1.6666948451916226,1.6666948451916226,1.6666948451916226,1.6666948451916226,1.6666948451916226,1.6666948451916226,1.6666948451916226,1.6666948451916226,1.6666948451916226,1.6666948451916226,1.6666948451916226,1.6666948451916226,1.6666948451916226,1.6666948451916226,1.6666948451916226,1.6666948451916226,1.6666948451916226,1.6666948451916226,1.6666948451916226,1.6666948451916226,1.6666948451916226,1.6666948451916226,1.6666948451916226,1.6666948451916226,1.6666948451916226,1.6666948451916226,1.6666948451916226,1.6666948451916226,1.6666948451916226,1.6666948451916226,1.6666948451916226,1.6666948451916226,1.6666948451916226,1.6666948451916226,1.6666948451916226,1.6666948451916226,1.6666948451916226,1.6666948451916226,1.6666948451916226,1.6666948451916226,1.6666948451916226,1.6666948451916226,1.6666948451916226,1.6666948451916226,1.6666948451916226,1.6666948451916226,1.6666948451916226,1.6666948451916226,1.6666948451916226,1.6666948451916226,2.721172270139962,2.721172270139962,2.721172270139962,2.721172270139962,2.721172270139962,2.721172270139962,2.721172270139962,2.721172270139962,2.721172270139962,2.721172270139962,2.721172270139962,2.721172270139962,2.721172270139962,2.721172270139962,2.721172270139962,2.721172270139962,2.721172270139962,2.721172270139962,2.721172270139962,2.721172270139962,2.721172270139962,2.721172270139962,2.721172270139962,2.721172270139962,2.721172270139962,2.721172270139962,2.721172270139962,2.721172270139962,2.721172270139962,2.721172270139962,2.721172270139962,2.721172270139962,2.721172270139962,2.721172270139962,2.721172270139962,2.721172270139962,2.721172270139962,2.721172270139962,2.721172270139962,2.721172270139962,2.721172270139962,2.721172270139962,2.721172270139962,2.721172270139962,2.721172270139962,2.721172270139962,2.721172270139962,2.721172270139962,2.721172270139962,2.721172270139962,2.721172270139962,2.721172270139962,2.721172270139962,2.721172270139962,2.721172270139962,2.721172270139962,2.721172270139962,2.721172270139962,2.721172270139962,2.721172270139962,2.721172270139962,2.721172270139962,2.721172270139962,2.721172270139962,2.721172270139962,2.721172270139962,2.721172270139962,2.721172270139962,2.721172270139962,2.721172270139962,2.721172270139962,2.721172270139962,2.721172270139962,2.721172270139962,2.721172270139962,2.721172270139962,2.721172270139962,2.721172270139962,2.721172270139962,2.721172270139962,2.721172270139962,2.721172270139962,2.721172270139962,2.721172270139962,2.721172270139962,2.721172270139962,2.721172270139962,2.721172270139962,2.721172270139962,2.721172270139962,2.721172270139962,2.721172270139962,2.721172270139962,2.721172270139962,2.721172270139962,2.721172270139962,2.721172270139962,2.721172270139962,2.721172270139962,2.721172270139962,2.721172270139962,2.721172270139962,2.721172270139962,2.721172270139962,2.721172270139962,2.721172270139962,2.721172270139962,2.721172270139962,2.721172270139962,2.721172270139962,2.721172270139962,2.721172270139962,2.721172270139962,2.721172270139962,2.721172270139962,2.721172270139962,2.721172270139962,2.721172270139962,2.721172270139962,2.721172270139962,2.721172270139962,2.721172270139962,2.721172270139962,2.721172270139962,2.721172270139962,2.721172270139962,2.721172270139962,2.721172270139962,2.721172270139962,2.721172270139962,2.721172270139962,2.721172270139962,2.721172270139962,2.721172270139962,2.721172270139962,2.721172270139962,2.721172270139962,2.721172270139962,2.721172270139962,2.721172270139962,2.721172270139962,2.721172270139962,2.721172270139962,2.721172270139962,2.721172270139962,2.721172270139962,2.721172270139962,2.721172270139962,2.721172270139962,2.721172270139962,2.721172270139962,2.721172270139962,2.721172270139962,2.721172270139962,2.721172270139962,2.721172270139962,2.721172270139962,2.721172270139962,2.721172270139962,2.721172270139962,2.721172270139962,2.721172270139962,2.721172270139962,2.721172270139962,2.721172270139962,2.721172270139962,2.721172270139962,2.721172270139962,2.721172270139962,2.721172270139962,2.721172270139962,2.721172270139962,2.721172270139962,2.721172270139962,2.721172270139962,2.721172270139962,2.721172270139962,2.721172270139962,2.721172270139962,2.721172270139962,2.721172270139962,2.721172270139962,2.721172270139962,2.721172270139962,2.721172270139962,2.721172270139962,2.721172270139962,2.721172270139962,2.721172270139962,2.721172270139962,2.721172270139962,2.721172270139962,2.721172270139962,2.721172270139962,2.721172270139962,2.721172270139962,2.721172270139962,2.721172270139962,2.721172270139962,2.721172270139962,2.721172270139962,2.721172270139962,2.721172270139962,2.721172270139962,2.721172270139962,2.721172270139962,2.721172270139962,2.721172270139962,2.721172270139962,2.721172270139962,2.721172270139962,2.721172270139962,2.721172270139962,2.721172270139962,2.721172270139962,2.721172270139962,2.721172270139962,2.721172270139962,2.721172270139962,2.721172270139962,2.721172270139962,2.721172270139962,2.721172270139962,2.721172270139962,2.721172270139962,2.721172270139962,2.721172270139962,2.721172270139962,2.721172270139962,2.721172270139962,2.721172270139962,2.721172270139962,2.721172270139962,2.721172270139962,2.721172270139962,2.721172270139962,2.721172270139962,2.721172270139962,2.721172270139962,2.721172270139962,2.721172270139962,2.721172270139962,2.721172270139962,2.721172270139962,2.721172270139962,2.721172270139962,2.721172270139962,2.721172270139962,2.721172270139962,2.721172270139962,2.721172270139962,2.721172270139962,2.721172270139962,2.721172270139962,2.721172270139962,2.721172270139962,2.721172270139962,2.721172270139962,2.721172270139962,2.721172270139962,2.721172270139962,2.721172270139962,2.721172270139962,2.721172270139962,2.721172270139962,2.721172270139962,2.721172270139962,2.721172270139962,2.721172270139962,2.721172270139962,2.721172270139962,2.721172270139962,2.721172270139962,2.721172270139962,2.721172270139962,2.721172270139962,2.721172270139962,2.721172270139962,2.721172270139962,2.721172270139962,2.721172270139962,2.721172270139962,2.721172270139962,2.721172270139962,2.721172270139962,2.721172270139962,2.721172270139962,2.721172270139962,2.721172270139962,2.721172270139962,2.721172270139962,2.721172270139962,2.721172270139962,2.721172270139962,2.721172270139962,2.721172270139962,2.721172270139962,2.721172270139962,2.721172270139962,2.721172270139962,2.721172270139962,2.721172270139962,2.721172270139962,2.721172270139962,2.721172270139962,2.721172270139962,2.721172270139962,2.721172270139962,2.721172270139962,2.721172270139962,2.721172270139962,2.721172270139962,2.721172270139962,2.721172270139962,2.721172270139962,2.721172270139962,2.721172270139962,2.721172270139962,2.721172270139962,2.721172270139962,2.721172270139962,2.721172270139962,2.721172270139962,2.721172270139962,2.721172270139962,2.721172270139962,2.721172270139962,2.721172270139962,2.721172270139962,2.721172270139962,2.721172270139962,2.721172270139962,2.721172270139962,2.721172270139962,2.721172270139962,2.721172270139962,2.721172270139962,2.721172270139962,2.721172270139962,2.721172270139962,2.721172270139962,2.721172270139962,2.721172270139962,2.721172270139962,2.721172270139962,2.721172270139962,2.721172270139962,2.721172270139962,2.721172270139962,2.721172270139962,2.721172270139962,2.721172270139962,2.721172270139962,2.721172270139962,2.721172270139962,2.721172270139962,2.721172270139962,2.721172270139962,2.721172270139962,2.721172270139962,2.721172270139962,2.721172270139962,2.721172270139962,2.721172270139962,2.721172270139962,2.721172270139962,2.721172270139962,2.721172270139962,2.721172270139962,2.721172270139962,2.721172270139962,2.721172270139962,2.721172270139962,2.721172270139962,2.721172270139962,2.721172270139962,2.721172270139962,2.721172270139962,2.721172270139962,2.721172270139962,2.721172270139962,2.721172270139962,2.721172270139962,2.721172270139962,2.721172270139962,2.721172270139962,2.721172270139962,2.721172270139962,2.721172270139962,2.721172270139962,2.721172270139962,2.721172270139962,2.721172270139962,2.721172270139962,2.721172270139962,2.721172270139962,2.721172270139962,2.721172270139962,2.721172270139962,2.721172270139962,2.721172270139962,2.721172270139962,2.721172270139962,2.721172270139962,2.721172270139962,2.721172270139962,2.721172270139962,2.721172270139962,2.721172270139962,2.721172270139962,2.721172270139962,2.721172270139962,2.721172270139962,2.721172270139962,2.721172270139962,2.721172270139962,2.721172270139962,2.721172270139962,2.721172270139962,2.721172270139962,2.721172270139962,2.721172270139962,2.721172270139962,2.721172270139962,2.721172270139962,2.721172270139962,2.721172270139962,2.721172270139962,2.721172270139962,2.721172270139962,2.721172270139962,2.721172270139962,2.721172270139962,2.721172270139962,2.721172270139962,2.721172270139962,2.721172270139962,2.721172270139962,2.721172270139962,2.721172270139962,2.721172270139962,2.721172270139962,2.721172270139962,2.721172270139962,2.721172270139962,2.721172270139962,2.721172270139962,2.721172270139962,2.721172270139962,2.721172270139962,2.721172270139962,2.721172270139962,2.721172270139962,2.721172270139962,2.721172270139962,2.721172270139962,2.721172270139962,2.721172270139962,2.721172270139962,2.721172270139962,2.721172270139962,2.721172270139962,2.721172270139962,2.721172270139962,2.721172270139962,2.721172270139962,2.721172270139962,2.721172270139962,2.721172270139962,2.721172270139962,2.721172270139962,2.721172270139962,2.721172270139962,2.721172270139962,2.721172270139962,2.721172270139962,2.721172270139962,2.721172270139962,2.721172270139962,2.721172270139962,2.721172270139962,2.721172270139962,2.721172270139962,2.721172270139962,2.721172270139962,2.721172270139962,2.721172270139962,2.721172270139962,2.721172270139962,2.721172270139962,2.721172270139962,2.721172270139962,2.721172270139962,2.721172270139962,2.721172270139962,2.721172270139962,2.721172270139962,2.721172270139962,2.721172270139962,2.721172270139962,2.721172270139962,2.721172270139962,2.721172270139962,2.721172270139962,2.721172270139962,2.721172270139962,2.721172270139962,2.721172270139962,2.721172270139962,2.721172270139962,2.721172270139962,2.721172270139962,2.721172270139962,2.721172270139962,2.721172270139962,2.721172270139962,2.721172270139962,2.721172270139962,2.721172270139962,2.721172270139962,2.721172270139962,2.721172270139962,2.721172270139962,2.721172270139962,2.721172270139962,2.721172270139962,2.721172270139962,2.721172270139962,2.721172270139962,2.721172270139962,2.721172270139962,2.721172270139962,2.721172270139962,2.721172270139962,2.721172270139962,2.721172270139962,2.721172270139962,2.721172270139962,2.721172270139962,2.721172270139962,2.721172270139962,2.721172270139962,2.721172270139962,2.721172270139962,2.721172270139962,2.721172270139962,2.721172270139962,2.721172270139962,2.721172270139962,2.721172270139962,2.721172270139962,2.721172270139962,2.721172270139962,2.721172270139962,2.721172270139962,2.721172270139962,2.721172270139962,2.721172270139962,2.721172270139962,2.721172270139962,2.721172270139962,2.721172270139962,2.721172270139962,2.721172270139962,2.721172270139962,2.721172270139962,2.721172270139962,2.721172270139962,2.721172270139962,2.721172270139962,2.721172270139962,2.721172270139962,2.721172270139962,2.721172270139962,2.721172270139962,2.721172270139962,2.721172270139962,2.721172270139962,2.721172270139962,2.721172270139962,2.721172270139962,2.721172270139962,2.721172270139962,2.721172270139962,2.721172270139962,2.721172270139962,2.721172270139962,2.721172270139962,2.721172270139962,2.721172270139962,2.721172270139962,2.721172270139962,2.721172270139962,2.721172270139962,2.721172270139962,2.721172270139962,2.721172270139962,2.721172270139962,2.721172270139962,2.721172270139962,2.721172270139962,2.721172270139962,2.721172270139962,2.721172270139962,2.721172270139962,2.721172270139962,2.721172270139962,2.721172270139962,2.721172270139962,2.721172270139962,2.721172270139962,2.721172270139962,2.721172270139962,2.721172270139962,2.721172270139962,2.721172270139962,2.721172270139962,2.721172270139962,2.721172270139962,2.721172270139962,2.721172270139962,2.721172270139962,2.721172270139962,2.721172270139962,2.721172270139962,2.721172270139962,2.721172270139962,2.721172270139962,2.721172270139962,2.721172270139962,2.721172270139962,2.721172270139962,2.721172270139962,2.721172270139962,2.721172270139962,2.721172270139962,2.721172270139962,2.721172270139962,2.721172270139962,2.721172270139962,2.721172270139962,2.721172270139962,2.721172270139962,2.721172270139962,2.721172270139962,2.721172270139962,2.721172270139962,2.721172270139962,2.721172270139962,2.721172270139962,2.721172270139962,2.721172270139962,2.721172270139962,2.721172270139962,2.721172270139962,2.721172270139962,2.721172270139962,2.721172270139962,2.721172270139962,2.721172270139962,2.721172270139962,2.721172270139962,2.721172270139962,2.721172270139962,2.721172270139962,2.721172270139962,2.721172270139962,2.721172270139962,2.721172270139962,2.721172270139962,2.721172270139962,2.721172270139962,2.721172270139962,2.721172270139962,2.721172270139962,2.721172270139962,2.721172270139962,2.721172270139962,2.721172270139962,2.721172270139962,2.721172270139962,2.721172270139962,2.721172270139962,2.721172270139962,2.721172270139962,2.721172270139962,2.721172270139962,2.721172270139962,2.721172270139962,2.721172270139962,2.721172270139962,2.721172270139962,2.721172270139962,2.721172270139962,2.721172270139962,2.721172270139962,2.721172270139962,2.721172270139962,2.721172270139962,2.721172270139962,2.721172270139962,2.721172270139962,2.721172270139962,2.721172270139962,2.721172270139962,2.721172270139962,2.721172270139962,2.721172270139962,2.721172270139962,2.721172270139962,2.721172270139962,2.721172270139962,2.721172270139962,2.721172270139962,2.721172270139962,2.721172270139962,2.721172270139962,2.721172270139962,2.721172270139962,2.721172270139962,2.721172270139962,2.721172270139962,2.721172270139962,2.721172270139962,2.721172270139962,2.721172270139962,2.721172270139962,2.721172270139962,2.721172270139962,2.721172270139962,2.721172270139962,2.721172270139962,2.721172270139962,2.721172270139962,2.721172270139962,2.721172270139962,2.721172270139962,2.721172270139962,2.721172270139962,2.721172270139962,2.721172270139962,2.721172270139962,2.721172270139962,2.721172270139962,2.721172270139962,2.721172270139962,2.721172270139962,2.721172270139962,2.721172270139962,2.721172270139962,2.721172270139962,2.721172270139962,2.721172270139962,2.721172270139962,2.721172270139962,2.721172270139962,2.721172270139962,2.721172270139962,2.721172270139962,2.721172270139962,2.721172270139962,2.721172270139962,2.721172270139962,2.721172270139962,2.721172270139962,2.721172270139962,2.721172270139962,2.721172270139962,2.721172270139962,2.721172270139962,2.721172270139962,2.721172270139962,2.721172270139962,2.721172270139962,2.721172270139962,2.721172270139962,2.721172270139962,2.721172270139962,2.721172270139962,2.721172270139962,2.721172270139962,2.721172270139962,2.721172270139962,2.721172270139962,2.721172270139962,2.721172270139962,2.721172270139962,2.721172270139962,2.721172270139962,2.721172270139962,2.721172270139962,2.721172270139962,2.721172270139962,2.721172270139962,2.721172270139962,2.721172270139962,2.721172270139962,2.721172270139962,2.721172270139962,2.721172270139962,2.721172270139962,2.721172270139962,2.721172270139962,2.721172270139962,2.721172270139962,2.721172270139962,2.721172270139962,2.721172270139962,2.721172270139962,2.721172270139962,2.721172270139962,2.721172270139962,2.721172270139962,2.721172270139962,2.721172270139962,2.721172270139962,2.721172270139962,2.721172270139962,2.721172270139962,2.721172270139962,2.721172270139962,2.721172270139962,2.721172270139962,2.721172270139962,2.721172270139962,2.721172270139962,2.721172270139962,2.721172270139962,2.721172270139962,2.721172270139962,2.721172270139962,2.721172270139962,2.721172270139962,2.721172270139962,2.721172270139962,2.721172270139962,2.721172270139962,2.721172270139962,2.721172270139962,2.721172270139962,2.721172270139962,2.721172270139962,2.721172270139962,2.721172270139962,2.721172270139962,2.721172270139962,2.721172270139962,2.721172270139962,2.721172270139962,2.721172270139962,2.721172270139962,2.721172270139962,2.721172270139962,2.721172270139962,2.721172270139962,2.721172270139962,2.721172270139962,2.721172270139962,2.721172270139962,2.721172270139962,2.721172270139962,2.721172270139962,2.721172270139962,2.721172270139962,2.721172270139962,2.721172270139962,2.721172270139962,2.721172270139962,2.721172270139962,2.721172270139962,2.721172270139962,2.721172270139962,2.721172270139962,2.721172270139962,2.721172270139962,2.721172270139962,2.721172270139962,2.721172270139962,2.721172270139962,2.721172270139962,2.721172270139962,2.721172270139962,2.721172270139962,2.721172270139962,2.721172270139962,2.721172270139962,2.721172270139962,2.721172270139962,2.721172270139962,2.721172270139962,2.721172270139962,2.721172270139962,2.721172270139962,2.721172270139962,2.721172270139962,2.721172270139962,2.721172270139962,2.721172270139962,2.721172270139962,2.721172270139962,2.721172270139962],\"yaxis\":\"y\",\"type\":\"scattergl\"},{\"hovertemplate\":\"variable=B\\u003cbr\\u003eindex=%{x}\\u003cbr\\u003evalue=%{y}\\u003cextra\\u003e\\u003c\\u002fextra\\u003e\",\"legendgroup\":\"B\",\"line\":{\"color\":\"#EF553B\",\"dash\":\"solid\"},\"marker\":{\"symbol\":\"circle\"},\"mode\":\"lines\",\"name\":\"B\",\"showlegend\":true,\"x\":[\"2000-01-01T00:00:00\",\"2000-01-02T00:00:00\",\"2000-01-03T00:00:00\",\"2000-01-04T00:00:00\",\"2000-01-05T00:00:00\",\"2000-01-06T00:00:00\",\"2000-01-07T00:00:00\",\"2000-01-08T00:00:00\",\"2000-01-09T00:00:00\",\"2000-01-10T00:00:00\",\"2000-01-11T00:00:00\",\"2000-01-12T00:00:00\",\"2000-01-13T00:00:00\",\"2000-01-14T00:00:00\",\"2000-01-15T00:00:00\",\"2000-01-16T00:00:00\",\"2000-01-17T00:00:00\",\"2000-01-18T00:00:00\",\"2000-01-19T00:00:00\",\"2000-01-20T00:00:00\",\"2000-01-21T00:00:00\",\"2000-01-22T00:00:00\",\"2000-01-23T00:00:00\",\"2000-01-24T00:00:00\",\"2000-01-25T00:00:00\",\"2000-01-26T00:00:00\",\"2000-01-27T00:00:00\",\"2000-01-28T00:00:00\",\"2000-01-29T00:00:00\",\"2000-01-30T00:00:00\",\"2000-01-31T00:00:00\",\"2000-02-01T00:00:00\",\"2000-02-02T00:00:00\",\"2000-02-03T00:00:00\",\"2000-02-04T00:00:00\",\"2000-02-05T00:00:00\",\"2000-02-06T00:00:00\",\"2000-02-07T00:00:00\",\"2000-02-08T00:00:00\",\"2000-02-09T00:00:00\",\"2000-02-10T00:00:00\",\"2000-02-11T00:00:00\",\"2000-02-12T00:00:00\",\"2000-02-13T00:00:00\",\"2000-02-14T00:00:00\",\"2000-02-15T00:00:00\",\"2000-02-16T00:00:00\",\"2000-02-17T00:00:00\",\"2000-02-18T00:00:00\",\"2000-02-19T00:00:00\",\"2000-02-20T00:00:00\",\"2000-02-21T00:00:00\",\"2000-02-22T00:00:00\",\"2000-02-23T00:00:00\",\"2000-02-24T00:00:00\",\"2000-02-25T00:00:00\",\"2000-02-26T00:00:00\",\"2000-02-27T00:00:00\",\"2000-02-28T00:00:00\",\"2000-02-29T00:00:00\",\"2000-03-01T00:00:00\",\"2000-03-02T00:00:00\",\"2000-03-03T00:00:00\",\"2000-03-04T00:00:00\",\"2000-03-05T00:00:00\",\"2000-03-06T00:00:00\",\"2000-03-07T00:00:00\",\"2000-03-08T00:00:00\",\"2000-03-09T00:00:00\",\"2000-03-10T00:00:00\",\"2000-03-11T00:00:00\",\"2000-03-12T00:00:00\",\"2000-03-13T00:00:00\",\"2000-03-14T00:00:00\",\"2000-03-15T00:00:00\",\"2000-03-16T00:00:00\",\"2000-03-17T00:00:00\",\"2000-03-18T00:00:00\",\"2000-03-19T00:00:00\",\"2000-03-20T00:00:00\",\"2000-03-21T00:00:00\",\"2000-03-22T00:00:00\",\"2000-03-23T00:00:00\",\"2000-03-24T00:00:00\",\"2000-03-25T00:00:00\",\"2000-03-26T00:00:00\",\"2000-03-27T00:00:00\",\"2000-03-28T00:00:00\",\"2000-03-29T00:00:00\",\"2000-03-30T00:00:00\",\"2000-03-31T00:00:00\",\"2000-04-01T00:00:00\",\"2000-04-02T00:00:00\",\"2000-04-03T00:00:00\",\"2000-04-04T00:00:00\",\"2000-04-05T00:00:00\",\"2000-04-06T00:00:00\",\"2000-04-07T00:00:00\",\"2000-04-08T00:00:00\",\"2000-04-09T00:00:00\",\"2000-04-10T00:00:00\",\"2000-04-11T00:00:00\",\"2000-04-12T00:00:00\",\"2000-04-13T00:00:00\",\"2000-04-14T00:00:00\",\"2000-04-15T00:00:00\",\"2000-04-16T00:00:00\",\"2000-04-17T00:00:00\",\"2000-04-18T00:00:00\",\"2000-04-19T00:00:00\",\"2000-04-20T00:00:00\",\"2000-04-21T00:00:00\",\"2000-04-22T00:00:00\",\"2000-04-23T00:00:00\",\"2000-04-24T00:00:00\",\"2000-04-25T00:00:00\",\"2000-04-26T00:00:00\",\"2000-04-27T00:00:00\",\"2000-04-28T00:00:00\",\"2000-04-29T00:00:00\",\"2000-04-30T00:00:00\",\"2000-05-01T00:00:00\",\"2000-05-02T00:00:00\",\"2000-05-03T00:00:00\",\"2000-05-04T00:00:00\",\"2000-05-05T00:00:00\",\"2000-05-06T00:00:00\",\"2000-05-07T00:00:00\",\"2000-05-08T00:00:00\",\"2000-05-09T00:00:00\",\"2000-05-10T00:00:00\",\"2000-05-11T00:00:00\",\"2000-05-12T00:00:00\",\"2000-05-13T00:00:00\",\"2000-05-14T00:00:00\",\"2000-05-15T00:00:00\",\"2000-05-16T00:00:00\",\"2000-05-17T00:00:00\",\"2000-05-18T00:00:00\",\"2000-05-19T00:00:00\",\"2000-05-20T00:00:00\",\"2000-05-21T00:00:00\",\"2000-05-22T00:00:00\",\"2000-05-23T00:00:00\",\"2000-05-24T00:00:00\",\"2000-05-25T00:00:00\",\"2000-05-26T00:00:00\",\"2000-05-27T00:00:00\",\"2000-05-28T00:00:00\",\"2000-05-29T00:00:00\",\"2000-05-30T00:00:00\",\"2000-05-31T00:00:00\",\"2000-06-01T00:00:00\",\"2000-06-02T00:00:00\",\"2000-06-03T00:00:00\",\"2000-06-04T00:00:00\",\"2000-06-05T00:00:00\",\"2000-06-06T00:00:00\",\"2000-06-07T00:00:00\",\"2000-06-08T00:00:00\",\"2000-06-09T00:00:00\",\"2000-06-10T00:00:00\",\"2000-06-11T00:00:00\",\"2000-06-12T00:00:00\",\"2000-06-13T00:00:00\",\"2000-06-14T00:00:00\",\"2000-06-15T00:00:00\",\"2000-06-16T00:00:00\",\"2000-06-17T00:00:00\",\"2000-06-18T00:00:00\",\"2000-06-19T00:00:00\",\"2000-06-20T00:00:00\",\"2000-06-21T00:00:00\",\"2000-06-22T00:00:00\",\"2000-06-23T00:00:00\",\"2000-06-24T00:00:00\",\"2000-06-25T00:00:00\",\"2000-06-26T00:00:00\",\"2000-06-27T00:00:00\",\"2000-06-28T00:00:00\",\"2000-06-29T00:00:00\",\"2000-06-30T00:00:00\",\"2000-07-01T00:00:00\",\"2000-07-02T00:00:00\",\"2000-07-03T00:00:00\",\"2000-07-04T00:00:00\",\"2000-07-05T00:00:00\",\"2000-07-06T00:00:00\",\"2000-07-07T00:00:00\",\"2000-07-08T00:00:00\",\"2000-07-09T00:00:00\",\"2000-07-10T00:00:00\",\"2000-07-11T00:00:00\",\"2000-07-12T00:00:00\",\"2000-07-13T00:00:00\",\"2000-07-14T00:00:00\",\"2000-07-15T00:00:00\",\"2000-07-16T00:00:00\",\"2000-07-17T00:00:00\",\"2000-07-18T00:00:00\",\"2000-07-19T00:00:00\",\"2000-07-20T00:00:00\",\"2000-07-21T00:00:00\",\"2000-07-22T00:00:00\",\"2000-07-23T00:00:00\",\"2000-07-24T00:00:00\",\"2000-07-25T00:00:00\",\"2000-07-26T00:00:00\",\"2000-07-27T00:00:00\",\"2000-07-28T00:00:00\",\"2000-07-29T00:00:00\",\"2000-07-30T00:00:00\",\"2000-07-31T00:00:00\",\"2000-08-01T00:00:00\",\"2000-08-02T00:00:00\",\"2000-08-03T00:00:00\",\"2000-08-04T00:00:00\",\"2000-08-05T00:00:00\",\"2000-08-06T00:00:00\",\"2000-08-07T00:00:00\",\"2000-08-08T00:00:00\",\"2000-08-09T00:00:00\",\"2000-08-10T00:00:00\",\"2000-08-11T00:00:00\",\"2000-08-12T00:00:00\",\"2000-08-13T00:00:00\",\"2000-08-14T00:00:00\",\"2000-08-15T00:00:00\",\"2000-08-16T00:00:00\",\"2000-08-17T00:00:00\",\"2000-08-18T00:00:00\",\"2000-08-19T00:00:00\",\"2000-08-20T00:00:00\",\"2000-08-21T00:00:00\",\"2000-08-22T00:00:00\",\"2000-08-23T00:00:00\",\"2000-08-24T00:00:00\",\"2000-08-25T00:00:00\",\"2000-08-26T00:00:00\",\"2000-08-27T00:00:00\",\"2000-08-28T00:00:00\",\"2000-08-29T00:00:00\",\"2000-08-30T00:00:00\",\"2000-08-31T00:00:00\",\"2000-09-01T00:00:00\",\"2000-09-02T00:00:00\",\"2000-09-03T00:00:00\",\"2000-09-04T00:00:00\",\"2000-09-05T00:00:00\",\"2000-09-06T00:00:00\",\"2000-09-07T00:00:00\",\"2000-09-08T00:00:00\",\"2000-09-09T00:00:00\",\"2000-09-10T00:00:00\",\"2000-09-11T00:00:00\",\"2000-09-12T00:00:00\",\"2000-09-13T00:00:00\",\"2000-09-14T00:00:00\",\"2000-09-15T00:00:00\",\"2000-09-16T00:00:00\",\"2000-09-17T00:00:00\",\"2000-09-18T00:00:00\",\"2000-09-19T00:00:00\",\"2000-09-20T00:00:00\",\"2000-09-21T00:00:00\",\"2000-09-22T00:00:00\",\"2000-09-23T00:00:00\",\"2000-09-24T00:00:00\",\"2000-09-25T00:00:00\",\"2000-09-26T00:00:00\",\"2000-09-27T00:00:00\",\"2000-09-28T00:00:00\",\"2000-09-29T00:00:00\",\"2000-09-30T00:00:00\",\"2000-10-01T00:00:00\",\"2000-10-02T00:00:00\",\"2000-10-03T00:00:00\",\"2000-10-04T00:00:00\",\"2000-10-05T00:00:00\",\"2000-10-06T00:00:00\",\"2000-10-07T00:00:00\",\"2000-10-08T00:00:00\",\"2000-10-09T00:00:00\",\"2000-10-10T00:00:00\",\"2000-10-11T00:00:00\",\"2000-10-12T00:00:00\",\"2000-10-13T00:00:00\",\"2000-10-14T00:00:00\",\"2000-10-15T00:00:00\",\"2000-10-16T00:00:00\",\"2000-10-17T00:00:00\",\"2000-10-18T00:00:00\",\"2000-10-19T00:00:00\",\"2000-10-20T00:00:00\",\"2000-10-21T00:00:00\",\"2000-10-22T00:00:00\",\"2000-10-23T00:00:00\",\"2000-10-24T00:00:00\",\"2000-10-25T00:00:00\",\"2000-10-26T00:00:00\",\"2000-10-27T00:00:00\",\"2000-10-28T00:00:00\",\"2000-10-29T00:00:00\",\"2000-10-30T00:00:00\",\"2000-10-31T00:00:00\",\"2000-11-01T00:00:00\",\"2000-11-02T00:00:00\",\"2000-11-03T00:00:00\",\"2000-11-04T00:00:00\",\"2000-11-05T00:00:00\",\"2000-11-06T00:00:00\",\"2000-11-07T00:00:00\",\"2000-11-08T00:00:00\",\"2000-11-09T00:00:00\",\"2000-11-10T00:00:00\",\"2000-11-11T00:00:00\",\"2000-11-12T00:00:00\",\"2000-11-13T00:00:00\",\"2000-11-14T00:00:00\",\"2000-11-15T00:00:00\",\"2000-11-16T00:00:00\",\"2000-11-17T00:00:00\",\"2000-11-18T00:00:00\",\"2000-11-19T00:00:00\",\"2000-11-20T00:00:00\",\"2000-11-21T00:00:00\",\"2000-11-22T00:00:00\",\"2000-11-23T00:00:00\",\"2000-11-24T00:00:00\",\"2000-11-25T00:00:00\",\"2000-11-26T00:00:00\",\"2000-11-27T00:00:00\",\"2000-11-28T00:00:00\",\"2000-11-29T00:00:00\",\"2000-11-30T00:00:00\",\"2000-12-01T00:00:00\",\"2000-12-02T00:00:00\",\"2000-12-03T00:00:00\",\"2000-12-04T00:00:00\",\"2000-12-05T00:00:00\",\"2000-12-06T00:00:00\",\"2000-12-07T00:00:00\",\"2000-12-08T00:00:00\",\"2000-12-09T00:00:00\",\"2000-12-10T00:00:00\",\"2000-12-11T00:00:00\",\"2000-12-12T00:00:00\",\"2000-12-13T00:00:00\",\"2000-12-14T00:00:00\",\"2000-12-15T00:00:00\",\"2000-12-16T00:00:00\",\"2000-12-17T00:00:00\",\"2000-12-18T00:00:00\",\"2000-12-19T00:00:00\",\"2000-12-20T00:00:00\",\"2000-12-21T00:00:00\",\"2000-12-22T00:00:00\",\"2000-12-23T00:00:00\",\"2000-12-24T00:00:00\",\"2000-12-25T00:00:00\",\"2000-12-26T00:00:00\",\"2000-12-27T00:00:00\",\"2000-12-28T00:00:00\",\"2000-12-29T00:00:00\",\"2000-12-30T00:00:00\",\"2000-12-31T00:00:00\",\"2001-01-01T00:00:00\",\"2001-01-02T00:00:00\",\"2001-01-03T00:00:00\",\"2001-01-04T00:00:00\",\"2001-01-05T00:00:00\",\"2001-01-06T00:00:00\",\"2001-01-07T00:00:00\",\"2001-01-08T00:00:00\",\"2001-01-09T00:00:00\",\"2001-01-10T00:00:00\",\"2001-01-11T00:00:00\",\"2001-01-12T00:00:00\",\"2001-01-13T00:00:00\",\"2001-01-14T00:00:00\",\"2001-01-15T00:00:00\",\"2001-01-16T00:00:00\",\"2001-01-17T00:00:00\",\"2001-01-18T00:00:00\",\"2001-01-19T00:00:00\",\"2001-01-20T00:00:00\",\"2001-01-21T00:00:00\",\"2001-01-22T00:00:00\",\"2001-01-23T00:00:00\",\"2001-01-24T00:00:00\",\"2001-01-25T00:00:00\",\"2001-01-26T00:00:00\",\"2001-01-27T00:00:00\",\"2001-01-28T00:00:00\",\"2001-01-29T00:00:00\",\"2001-01-30T00:00:00\",\"2001-01-31T00:00:00\",\"2001-02-01T00:00:00\",\"2001-02-02T00:00:00\",\"2001-02-03T00:00:00\",\"2001-02-04T00:00:00\",\"2001-02-05T00:00:00\",\"2001-02-06T00:00:00\",\"2001-02-07T00:00:00\",\"2001-02-08T00:00:00\",\"2001-02-09T00:00:00\",\"2001-02-10T00:00:00\",\"2001-02-11T00:00:00\",\"2001-02-12T00:00:00\",\"2001-02-13T00:00:00\",\"2001-02-14T00:00:00\",\"2001-02-15T00:00:00\",\"2001-02-16T00:00:00\",\"2001-02-17T00:00:00\",\"2001-02-18T00:00:00\",\"2001-02-19T00:00:00\",\"2001-02-20T00:00:00\",\"2001-02-21T00:00:00\",\"2001-02-22T00:00:00\",\"2001-02-23T00:00:00\",\"2001-02-24T00:00:00\",\"2001-02-25T00:00:00\",\"2001-02-26T00:00:00\",\"2001-02-27T00:00:00\",\"2001-02-28T00:00:00\",\"2001-03-01T00:00:00\",\"2001-03-02T00:00:00\",\"2001-03-03T00:00:00\",\"2001-03-04T00:00:00\",\"2001-03-05T00:00:00\",\"2001-03-06T00:00:00\",\"2001-03-07T00:00:00\",\"2001-03-08T00:00:00\",\"2001-03-09T00:00:00\",\"2001-03-10T00:00:00\",\"2001-03-11T00:00:00\",\"2001-03-12T00:00:00\",\"2001-03-13T00:00:00\",\"2001-03-14T00:00:00\",\"2001-03-15T00:00:00\",\"2001-03-16T00:00:00\",\"2001-03-17T00:00:00\",\"2001-03-18T00:00:00\",\"2001-03-19T00:00:00\",\"2001-03-20T00:00:00\",\"2001-03-21T00:00:00\",\"2001-03-22T00:00:00\",\"2001-03-23T00:00:00\",\"2001-03-24T00:00:00\",\"2001-03-25T00:00:00\",\"2001-03-26T00:00:00\",\"2001-03-27T00:00:00\",\"2001-03-28T00:00:00\",\"2001-03-29T00:00:00\",\"2001-03-30T00:00:00\",\"2001-03-31T00:00:00\",\"2001-04-01T00:00:00\",\"2001-04-02T00:00:00\",\"2001-04-03T00:00:00\",\"2001-04-04T00:00:00\",\"2001-04-05T00:00:00\",\"2001-04-06T00:00:00\",\"2001-04-07T00:00:00\",\"2001-04-08T00:00:00\",\"2001-04-09T00:00:00\",\"2001-04-10T00:00:00\",\"2001-04-11T00:00:00\",\"2001-04-12T00:00:00\",\"2001-04-13T00:00:00\",\"2001-04-14T00:00:00\",\"2001-04-15T00:00:00\",\"2001-04-16T00:00:00\",\"2001-04-17T00:00:00\",\"2001-04-18T00:00:00\",\"2001-04-19T00:00:00\",\"2001-04-20T00:00:00\",\"2001-04-21T00:00:00\",\"2001-04-22T00:00:00\",\"2001-04-23T00:00:00\",\"2001-04-24T00:00:00\",\"2001-04-25T00:00:00\",\"2001-04-26T00:00:00\",\"2001-04-27T00:00:00\",\"2001-04-28T00:00:00\",\"2001-04-29T00:00:00\",\"2001-04-30T00:00:00\",\"2001-05-01T00:00:00\",\"2001-05-02T00:00:00\",\"2001-05-03T00:00:00\",\"2001-05-04T00:00:00\",\"2001-05-05T00:00:00\",\"2001-05-06T00:00:00\",\"2001-05-07T00:00:00\",\"2001-05-08T00:00:00\",\"2001-05-09T00:00:00\",\"2001-05-10T00:00:00\",\"2001-05-11T00:00:00\",\"2001-05-12T00:00:00\",\"2001-05-13T00:00:00\",\"2001-05-14T00:00:00\",\"2001-05-15T00:00:00\",\"2001-05-16T00:00:00\",\"2001-05-17T00:00:00\",\"2001-05-18T00:00:00\",\"2001-05-19T00:00:00\",\"2001-05-20T00:00:00\",\"2001-05-21T00:00:00\",\"2001-05-22T00:00:00\",\"2001-05-23T00:00:00\",\"2001-05-24T00:00:00\",\"2001-05-25T00:00:00\",\"2001-05-26T00:00:00\",\"2001-05-27T00:00:00\",\"2001-05-28T00:00:00\",\"2001-05-29T00:00:00\",\"2001-05-30T00:00:00\",\"2001-05-31T00:00:00\",\"2001-06-01T00:00:00\",\"2001-06-02T00:00:00\",\"2001-06-03T00:00:00\",\"2001-06-04T00:00:00\",\"2001-06-05T00:00:00\",\"2001-06-06T00:00:00\",\"2001-06-07T00:00:00\",\"2001-06-08T00:00:00\",\"2001-06-09T00:00:00\",\"2001-06-10T00:00:00\",\"2001-06-11T00:00:00\",\"2001-06-12T00:00:00\",\"2001-06-13T00:00:00\",\"2001-06-14T00:00:00\",\"2001-06-15T00:00:00\",\"2001-06-16T00:00:00\",\"2001-06-17T00:00:00\",\"2001-06-18T00:00:00\",\"2001-06-19T00:00:00\",\"2001-06-20T00:00:00\",\"2001-06-21T00:00:00\",\"2001-06-22T00:00:00\",\"2001-06-23T00:00:00\",\"2001-06-24T00:00:00\",\"2001-06-25T00:00:00\",\"2001-06-26T00:00:00\",\"2001-06-27T00:00:00\",\"2001-06-28T00:00:00\",\"2001-06-29T00:00:00\",\"2001-06-30T00:00:00\",\"2001-07-01T00:00:00\",\"2001-07-02T00:00:00\",\"2001-07-03T00:00:00\",\"2001-07-04T00:00:00\",\"2001-07-05T00:00:00\",\"2001-07-06T00:00:00\",\"2001-07-07T00:00:00\",\"2001-07-08T00:00:00\",\"2001-07-09T00:00:00\",\"2001-07-10T00:00:00\",\"2001-07-11T00:00:00\",\"2001-07-12T00:00:00\",\"2001-07-13T00:00:00\",\"2001-07-14T00:00:00\",\"2001-07-15T00:00:00\",\"2001-07-16T00:00:00\",\"2001-07-17T00:00:00\",\"2001-07-18T00:00:00\",\"2001-07-19T00:00:00\",\"2001-07-20T00:00:00\",\"2001-07-21T00:00:00\",\"2001-07-22T00:00:00\",\"2001-07-23T00:00:00\",\"2001-07-24T00:00:00\",\"2001-07-25T00:00:00\",\"2001-07-26T00:00:00\",\"2001-07-27T00:00:00\",\"2001-07-28T00:00:00\",\"2001-07-29T00:00:00\",\"2001-07-30T00:00:00\",\"2001-07-31T00:00:00\",\"2001-08-01T00:00:00\",\"2001-08-02T00:00:00\",\"2001-08-03T00:00:00\",\"2001-08-04T00:00:00\",\"2001-08-05T00:00:00\",\"2001-08-06T00:00:00\",\"2001-08-07T00:00:00\",\"2001-08-08T00:00:00\",\"2001-08-09T00:00:00\",\"2001-08-10T00:00:00\",\"2001-08-11T00:00:00\",\"2001-08-12T00:00:00\",\"2001-08-13T00:00:00\",\"2001-08-14T00:00:00\",\"2001-08-15T00:00:00\",\"2001-08-16T00:00:00\",\"2001-08-17T00:00:00\",\"2001-08-18T00:00:00\",\"2001-08-19T00:00:00\",\"2001-08-20T00:00:00\",\"2001-08-21T00:00:00\",\"2001-08-22T00:00:00\",\"2001-08-23T00:00:00\",\"2001-08-24T00:00:00\",\"2001-08-25T00:00:00\",\"2001-08-26T00:00:00\",\"2001-08-27T00:00:00\",\"2001-08-28T00:00:00\",\"2001-08-29T00:00:00\",\"2001-08-30T00:00:00\",\"2001-08-31T00:00:00\",\"2001-09-01T00:00:00\",\"2001-09-02T00:00:00\",\"2001-09-03T00:00:00\",\"2001-09-04T00:00:00\",\"2001-09-05T00:00:00\",\"2001-09-06T00:00:00\",\"2001-09-07T00:00:00\",\"2001-09-08T00:00:00\",\"2001-09-09T00:00:00\",\"2001-09-10T00:00:00\",\"2001-09-11T00:00:00\",\"2001-09-12T00:00:00\",\"2001-09-13T00:00:00\",\"2001-09-14T00:00:00\",\"2001-09-15T00:00:00\",\"2001-09-16T00:00:00\",\"2001-09-17T00:00:00\",\"2001-09-18T00:00:00\",\"2001-09-19T00:00:00\",\"2001-09-20T00:00:00\",\"2001-09-21T00:00:00\",\"2001-09-22T00:00:00\",\"2001-09-23T00:00:00\",\"2001-09-24T00:00:00\",\"2001-09-25T00:00:00\",\"2001-09-26T00:00:00\",\"2001-09-27T00:00:00\",\"2001-09-28T00:00:00\",\"2001-09-29T00:00:00\",\"2001-09-30T00:00:00\",\"2001-10-01T00:00:00\",\"2001-10-02T00:00:00\",\"2001-10-03T00:00:00\",\"2001-10-04T00:00:00\",\"2001-10-05T00:00:00\",\"2001-10-06T00:00:00\",\"2001-10-07T00:00:00\",\"2001-10-08T00:00:00\",\"2001-10-09T00:00:00\",\"2001-10-10T00:00:00\",\"2001-10-11T00:00:00\",\"2001-10-12T00:00:00\",\"2001-10-13T00:00:00\",\"2001-10-14T00:00:00\",\"2001-10-15T00:00:00\",\"2001-10-16T00:00:00\",\"2001-10-17T00:00:00\",\"2001-10-18T00:00:00\",\"2001-10-19T00:00:00\",\"2001-10-20T00:00:00\",\"2001-10-21T00:00:00\",\"2001-10-22T00:00:00\",\"2001-10-23T00:00:00\",\"2001-10-24T00:00:00\",\"2001-10-25T00:00:00\",\"2001-10-26T00:00:00\",\"2001-10-27T00:00:00\",\"2001-10-28T00:00:00\",\"2001-10-29T00:00:00\",\"2001-10-30T00:00:00\",\"2001-10-31T00:00:00\",\"2001-11-01T00:00:00\",\"2001-11-02T00:00:00\",\"2001-11-03T00:00:00\",\"2001-11-04T00:00:00\",\"2001-11-05T00:00:00\",\"2001-11-06T00:00:00\",\"2001-11-07T00:00:00\",\"2001-11-08T00:00:00\",\"2001-11-09T00:00:00\",\"2001-11-10T00:00:00\",\"2001-11-11T00:00:00\",\"2001-11-12T00:00:00\",\"2001-11-13T00:00:00\",\"2001-11-14T00:00:00\",\"2001-11-15T00:00:00\",\"2001-11-16T00:00:00\",\"2001-11-17T00:00:00\",\"2001-11-18T00:00:00\",\"2001-11-19T00:00:00\",\"2001-11-20T00:00:00\",\"2001-11-21T00:00:00\",\"2001-11-22T00:00:00\",\"2001-11-23T00:00:00\",\"2001-11-24T00:00:00\",\"2001-11-25T00:00:00\",\"2001-11-26T00:00:00\",\"2001-11-27T00:00:00\",\"2001-11-28T00:00:00\",\"2001-11-29T00:00:00\",\"2001-11-30T00:00:00\",\"2001-12-01T00:00:00\",\"2001-12-02T00:00:00\",\"2001-12-03T00:00:00\",\"2001-12-04T00:00:00\",\"2001-12-05T00:00:00\",\"2001-12-06T00:00:00\",\"2001-12-07T00:00:00\",\"2001-12-08T00:00:00\",\"2001-12-09T00:00:00\",\"2001-12-10T00:00:00\",\"2001-12-11T00:00:00\",\"2001-12-12T00:00:00\",\"2001-12-13T00:00:00\",\"2001-12-14T00:00:00\",\"2001-12-15T00:00:00\",\"2001-12-16T00:00:00\",\"2001-12-17T00:00:00\",\"2001-12-18T00:00:00\",\"2001-12-19T00:00:00\",\"2001-12-20T00:00:00\",\"2001-12-21T00:00:00\",\"2001-12-22T00:00:00\",\"2001-12-23T00:00:00\",\"2001-12-24T00:00:00\",\"2001-12-25T00:00:00\",\"2001-12-26T00:00:00\",\"2001-12-27T00:00:00\",\"2001-12-28T00:00:00\",\"2001-12-29T00:00:00\",\"2001-12-30T00:00:00\",\"2001-12-31T00:00:00\",\"2002-01-01T00:00:00\",\"2002-01-02T00:00:00\",\"2002-01-03T00:00:00\",\"2002-01-04T00:00:00\",\"2002-01-05T00:00:00\",\"2002-01-06T00:00:00\",\"2002-01-07T00:00:00\",\"2002-01-08T00:00:00\",\"2002-01-09T00:00:00\",\"2002-01-10T00:00:00\",\"2002-01-11T00:00:00\",\"2002-01-12T00:00:00\",\"2002-01-13T00:00:00\",\"2002-01-14T00:00:00\",\"2002-01-15T00:00:00\",\"2002-01-16T00:00:00\",\"2002-01-17T00:00:00\",\"2002-01-18T00:00:00\",\"2002-01-19T00:00:00\",\"2002-01-20T00:00:00\",\"2002-01-21T00:00:00\",\"2002-01-22T00:00:00\",\"2002-01-23T00:00:00\",\"2002-01-24T00:00:00\",\"2002-01-25T00:00:00\",\"2002-01-26T00:00:00\",\"2002-01-27T00:00:00\",\"2002-01-28T00:00:00\",\"2002-01-29T00:00:00\",\"2002-01-30T00:00:00\",\"2002-01-31T00:00:00\",\"2002-02-01T00:00:00\",\"2002-02-02T00:00:00\",\"2002-02-03T00:00:00\",\"2002-02-04T00:00:00\",\"2002-02-05T00:00:00\",\"2002-02-06T00:00:00\",\"2002-02-07T00:00:00\",\"2002-02-08T00:00:00\",\"2002-02-09T00:00:00\",\"2002-02-10T00:00:00\",\"2002-02-11T00:00:00\",\"2002-02-12T00:00:00\",\"2002-02-13T00:00:00\",\"2002-02-14T00:00:00\",\"2002-02-15T00:00:00\",\"2002-02-16T00:00:00\",\"2002-02-17T00:00:00\",\"2002-02-18T00:00:00\",\"2002-02-19T00:00:00\",\"2002-02-20T00:00:00\",\"2002-02-21T00:00:00\",\"2002-02-22T00:00:00\",\"2002-02-23T00:00:00\",\"2002-02-24T00:00:00\",\"2002-02-25T00:00:00\",\"2002-02-26T00:00:00\",\"2002-02-27T00:00:00\",\"2002-02-28T00:00:00\",\"2002-03-01T00:00:00\",\"2002-03-02T00:00:00\",\"2002-03-03T00:00:00\",\"2002-03-04T00:00:00\",\"2002-03-05T00:00:00\",\"2002-03-06T00:00:00\",\"2002-03-07T00:00:00\",\"2002-03-08T00:00:00\",\"2002-03-09T00:00:00\",\"2002-03-10T00:00:00\",\"2002-03-11T00:00:00\",\"2002-03-12T00:00:00\",\"2002-03-13T00:00:00\",\"2002-03-14T00:00:00\",\"2002-03-15T00:00:00\",\"2002-03-16T00:00:00\",\"2002-03-17T00:00:00\",\"2002-03-18T00:00:00\",\"2002-03-19T00:00:00\",\"2002-03-20T00:00:00\",\"2002-03-21T00:00:00\",\"2002-03-22T00:00:00\",\"2002-03-23T00:00:00\",\"2002-03-24T00:00:00\",\"2002-03-25T00:00:00\",\"2002-03-26T00:00:00\",\"2002-03-27T00:00:00\",\"2002-03-28T00:00:00\",\"2002-03-29T00:00:00\",\"2002-03-30T00:00:00\",\"2002-03-31T00:00:00\",\"2002-04-01T00:00:00\",\"2002-04-02T00:00:00\",\"2002-04-03T00:00:00\",\"2002-04-04T00:00:00\",\"2002-04-05T00:00:00\",\"2002-04-06T00:00:00\",\"2002-04-07T00:00:00\",\"2002-04-08T00:00:00\",\"2002-04-09T00:00:00\",\"2002-04-10T00:00:00\",\"2002-04-11T00:00:00\",\"2002-04-12T00:00:00\",\"2002-04-13T00:00:00\",\"2002-04-14T00:00:00\",\"2002-04-15T00:00:00\",\"2002-04-16T00:00:00\",\"2002-04-17T00:00:00\",\"2002-04-18T00:00:00\",\"2002-04-19T00:00:00\",\"2002-04-20T00:00:00\",\"2002-04-21T00:00:00\",\"2002-04-22T00:00:00\",\"2002-04-23T00:00:00\",\"2002-04-24T00:00:00\",\"2002-04-25T00:00:00\",\"2002-04-26T00:00:00\",\"2002-04-27T00:00:00\",\"2002-04-28T00:00:00\",\"2002-04-29T00:00:00\",\"2002-04-30T00:00:00\",\"2002-05-01T00:00:00\",\"2002-05-02T00:00:00\",\"2002-05-03T00:00:00\",\"2002-05-04T00:00:00\",\"2002-05-05T00:00:00\",\"2002-05-06T00:00:00\",\"2002-05-07T00:00:00\",\"2002-05-08T00:00:00\",\"2002-05-09T00:00:00\",\"2002-05-10T00:00:00\",\"2002-05-11T00:00:00\",\"2002-05-12T00:00:00\",\"2002-05-13T00:00:00\",\"2002-05-14T00:00:00\",\"2002-05-15T00:00:00\",\"2002-05-16T00:00:00\",\"2002-05-17T00:00:00\",\"2002-05-18T00:00:00\",\"2002-05-19T00:00:00\",\"2002-05-20T00:00:00\",\"2002-05-21T00:00:00\",\"2002-05-22T00:00:00\",\"2002-05-23T00:00:00\",\"2002-05-24T00:00:00\",\"2002-05-25T00:00:00\",\"2002-05-26T00:00:00\",\"2002-05-27T00:00:00\",\"2002-05-28T00:00:00\",\"2002-05-29T00:00:00\",\"2002-05-30T00:00:00\",\"2002-05-31T00:00:00\",\"2002-06-01T00:00:00\",\"2002-06-02T00:00:00\",\"2002-06-03T00:00:00\",\"2002-06-04T00:00:00\",\"2002-06-05T00:00:00\",\"2002-06-06T00:00:00\",\"2002-06-07T00:00:00\",\"2002-06-08T00:00:00\",\"2002-06-09T00:00:00\",\"2002-06-10T00:00:00\",\"2002-06-11T00:00:00\",\"2002-06-12T00:00:00\",\"2002-06-13T00:00:00\",\"2002-06-14T00:00:00\",\"2002-06-15T00:00:00\",\"2002-06-16T00:00:00\",\"2002-06-17T00:00:00\",\"2002-06-18T00:00:00\",\"2002-06-19T00:00:00\",\"2002-06-20T00:00:00\",\"2002-06-21T00:00:00\",\"2002-06-22T00:00:00\",\"2002-06-23T00:00:00\",\"2002-06-24T00:00:00\",\"2002-06-25T00:00:00\",\"2002-06-26T00:00:00\",\"2002-06-27T00:00:00\",\"2002-06-28T00:00:00\",\"2002-06-29T00:00:00\",\"2002-06-30T00:00:00\",\"2002-07-01T00:00:00\",\"2002-07-02T00:00:00\",\"2002-07-03T00:00:00\",\"2002-07-04T00:00:00\",\"2002-07-05T00:00:00\",\"2002-07-06T00:00:00\",\"2002-07-07T00:00:00\",\"2002-07-08T00:00:00\",\"2002-07-09T00:00:00\",\"2002-07-10T00:00:00\",\"2002-07-11T00:00:00\",\"2002-07-12T00:00:00\",\"2002-07-13T00:00:00\",\"2002-07-14T00:00:00\",\"2002-07-15T00:00:00\",\"2002-07-16T00:00:00\",\"2002-07-17T00:00:00\",\"2002-07-18T00:00:00\",\"2002-07-19T00:00:00\",\"2002-07-20T00:00:00\",\"2002-07-21T00:00:00\",\"2002-07-22T00:00:00\",\"2002-07-23T00:00:00\",\"2002-07-24T00:00:00\",\"2002-07-25T00:00:00\",\"2002-07-26T00:00:00\",\"2002-07-27T00:00:00\",\"2002-07-28T00:00:00\",\"2002-07-29T00:00:00\",\"2002-07-30T00:00:00\",\"2002-07-31T00:00:00\",\"2002-08-01T00:00:00\",\"2002-08-02T00:00:00\",\"2002-08-03T00:00:00\",\"2002-08-04T00:00:00\",\"2002-08-05T00:00:00\",\"2002-08-06T00:00:00\",\"2002-08-07T00:00:00\",\"2002-08-08T00:00:00\",\"2002-08-09T00:00:00\",\"2002-08-10T00:00:00\",\"2002-08-11T00:00:00\",\"2002-08-12T00:00:00\",\"2002-08-13T00:00:00\",\"2002-08-14T00:00:00\",\"2002-08-15T00:00:00\",\"2002-08-16T00:00:00\",\"2002-08-17T00:00:00\",\"2002-08-18T00:00:00\",\"2002-08-19T00:00:00\",\"2002-08-20T00:00:00\",\"2002-08-21T00:00:00\",\"2002-08-22T00:00:00\",\"2002-08-23T00:00:00\",\"2002-08-24T00:00:00\",\"2002-08-25T00:00:00\",\"2002-08-26T00:00:00\",\"2002-08-27T00:00:00\",\"2002-08-28T00:00:00\",\"2002-08-29T00:00:00\",\"2002-08-30T00:00:00\",\"2002-08-31T00:00:00\",\"2002-09-01T00:00:00\",\"2002-09-02T00:00:00\",\"2002-09-03T00:00:00\",\"2002-09-04T00:00:00\",\"2002-09-05T00:00:00\",\"2002-09-06T00:00:00\",\"2002-09-07T00:00:00\",\"2002-09-08T00:00:00\",\"2002-09-09T00:00:00\",\"2002-09-10T00:00:00\",\"2002-09-11T00:00:00\",\"2002-09-12T00:00:00\",\"2002-09-13T00:00:00\",\"2002-09-14T00:00:00\",\"2002-09-15T00:00:00\",\"2002-09-16T00:00:00\",\"2002-09-17T00:00:00\",\"2002-09-18T00:00:00\",\"2002-09-19T00:00:00\",\"2002-09-20T00:00:00\",\"2002-09-21T00:00:00\",\"2002-09-22T00:00:00\",\"2002-09-23T00:00:00\",\"2002-09-24T00:00:00\",\"2002-09-25T00:00:00\",\"2002-09-26T00:00:00\"],\"xaxis\":\"x\",\"y\":[-0.22452605118561428,0.5217704429066413,0.5217704429066413,1.4025515499721655,1.4025515499721655,1.4025515499721655,1.4025515499721655,1.4025515499721655,1.4025515499721655,1.4025515499721655,1.4025515499721655,1.4025515499721655,1.4025515499721655,1.4025515499721655,1.4025515499721655,1.4025515499721655,1.7255030895307701,1.7255030895307701,1.7255030895307701,1.7255030895307701,1.7255030895307701,1.7255030895307701,1.7255030895307701,1.7255030895307701,1.7255030895307701,1.7255030895307701,1.7255030895307701,1.7255030895307701,1.7255030895307701,1.7255030895307701,1.7255030895307701,1.7255030895307701,1.7255030895307701,1.7255030895307701,1.7255030895307701,1.7255030895307701,1.7255030895307701,1.7255030895307701,1.7255030895307701,1.7255030895307701,1.7255030895307701,2.52163262148004,2.52163262148004,2.52163262148004,2.52163262148004,2.52163262148004,2.52163262148004,2.52163262148004,2.52163262148004,2.52163262148004,2.52163262148004,2.52163262148004,2.52163262148004,2.52163262148004,2.52163262148004,2.52163262148004,2.52163262148004,2.52163262148004,2.52163262148004,2.52163262148004,2.52163262148004,2.52163262148004,2.52163262148004,2.52163262148004,2.52163262148004,2.52163262148004,2.52163262148004,2.52163262148004,2.52163262148004,2.52163262148004,2.52163262148004,2.52163262148004,2.52163262148004,2.52163262148004,2.52163262148004,2.52163262148004,2.52163262148004,2.52163262148004,2.52163262148004,2.52163262148004,2.52163262148004,2.52163262148004,2.52163262148004,2.52163262148004,2.52163262148004,2.52163262148004,2.52163262148004,2.52163262148004,2.52163262148004,2.52163262148004,2.52163262148004,2.52163262148004,2.52163262148004,2.52163262148004,2.52163262148004,2.52163262148004,2.52163262148004,2.52163262148004,2.52163262148004,2.52163262148004,2.52163262148004,2.52163262148004,2.52163262148004,2.52163262148004,2.52163262148004,2.52163262148004,2.52163262148004,2.52163262148004,2.52163262148004,2.52163262148004,2.52163262148004,2.52163262148004,2.52163262148004,2.52163262148004,2.52163262148004,2.52163262148004,2.52163262148004,2.52163262148004,2.52163262148004,2.52163262148004,2.52163262148004,2.52163262148004,2.52163262148004,2.52163262148004,2.52163262148004,2.52163262148004,2.52163262148004,2.52163262148004,2.52163262148004,2.52163262148004,2.52163262148004,2.52163262148004,2.52163262148004,2.52163262148004,2.52163262148004,2.52163262148004,2.52163262148004,2.52163262148004,2.52163262148004,2.52163262148004,2.52163262148004,2.52163262148004,2.52163262148004,2.52163262148004,2.52163262148004,2.52163262148004,2.52163262148004,2.52163262148004,2.52163262148004,2.52163262148004,2.52163262148004,2.52163262148004,2.52163262148004,2.52163262148004,2.52163262148004,2.52163262148004,2.52163262148004,2.52163262148004,2.52163262148004,2.52163262148004,2.52163262148004,2.52163262148004,2.52163262148004,2.52163262148004,2.52163262148004,2.52163262148004,2.52163262148004,2.52163262148004,2.52163262148004,2.52163262148004,2.52163262148004,2.52163262148004,2.52163262148004,2.52163262148004,2.52163262148004,2.52163262148004,2.52163262148004,2.52163262148004,2.52163262148004,2.52163262148004,2.52163262148004,2.52163262148004,2.52163262148004,2.52163262148004,2.52163262148004,2.52163262148004,2.52163262148004,2.52163262148004,2.52163262148004,2.52163262148004,2.52163262148004,2.52163262148004,2.52163262148004,2.52163262148004,2.52163262148004,2.52163262148004,2.52163262148004,2.52163262148004,2.52163262148004,2.52163262148004,2.52163262148004,2.52163262148004,2.52163262148004,2.52163262148004,2.52163262148004,2.52163262148004,2.52163262148004,2.52163262148004,2.52163262148004,2.52163262148004,2.52163262148004,2.52163262148004,2.52163262148004,2.52163262148004,2.52163262148004,2.52163262148004,2.52163262148004,2.52163262148004,2.52163262148004,2.52163262148004,2.52163262148004,2.52163262148004,2.52163262148004,2.52163262148004,2.52163262148004,2.52163262148004,2.52163262148004,2.52163262148004,2.52163262148004,2.52163262148004,2.52163262148004,2.52163262148004,2.52163262148004,2.52163262148004,2.52163262148004,2.52163262148004,2.52163262148004,2.52163262148004,2.52163262148004,2.52163262148004,2.52163262148004,2.52163262148004,2.52163262148004,2.52163262148004,2.52163262148004,2.52163262148004,2.52163262148004,2.52163262148004,2.52163262148004,2.52163262148004,2.52163262148004,2.52163262148004,2.52163262148004,2.52163262148004,2.52163262148004,2.52163262148004,2.52163262148004,2.52163262148004,2.52163262148004,2.52163262148004,2.52163262148004,2.52163262148004,2.52163262148004,2.52163262148004,2.52163262148004,2.52163262148004,2.52163262148004,2.52163262148004,2.52163262148004,2.52163262148004,2.52163262148004,2.52163262148004,2.52163262148004,2.52163262148004,2.52163262148004,2.52163262148004,2.52163262148004,2.52163262148004,2.52163262148004,2.52163262148004,2.52163262148004,2.52163262148004,2.52163262148004,2.52163262148004,2.52163262148004,2.52163262148004,2.52163262148004,2.52163262148004,2.52163262148004,2.52163262148004,2.52163262148004,2.52163262148004,2.52163262148004,2.52163262148004,2.52163262148004,2.52163262148004,2.52163262148004,2.52163262148004,2.52163262148004,2.52163262148004,2.52163262148004,2.52163262148004,2.52163262148004,2.52163262148004,2.52163262148004,2.52163262148004,2.52163262148004,2.52163262148004,2.52163262148004,2.52163262148004,2.52163262148004,2.52163262148004,2.52163262148004,2.52163262148004,2.52163262148004,2.52163262148004,2.52163262148004,2.52163262148004,2.52163262148004,2.52163262148004,2.52163262148004,2.52163262148004,2.52163262148004,2.52163262148004,2.52163262148004,2.52163262148004,2.52163262148004,2.52163262148004,2.52163262148004,2.52163262148004,2.52163262148004,2.52163262148004,2.52163262148004,2.52163262148004,2.52163262148004,2.52163262148004,2.52163262148004,2.52163262148004,2.52163262148004,2.52163262148004,2.52163262148004,2.52163262148004,2.52163262148004,2.52163262148004,2.52163262148004,2.52163262148004,2.52163262148004,2.52163262148004,2.52163262148004,2.52163262148004,2.52163262148004,2.52163262148004,2.52163262148004,2.52163262148004,2.52163262148004,2.52163262148004,2.52163262148004,2.52163262148004,2.52163262148004,2.52163262148004,2.52163262148004,2.52163262148004,2.52163262148004,2.52163262148004,2.52163262148004,2.52163262148004,2.52163262148004,2.52163262148004,2.52163262148004,2.52163262148004,2.52163262148004,2.52163262148004,2.52163262148004,2.52163262148004,2.52163262148004,2.52163262148004,2.52163262148004,2.52163262148004,2.52163262148004,2.52163262148004,2.52163262148004,2.52163262148004,2.52163262148004,2.52163262148004,2.52163262148004,2.52163262148004,2.52163262148004,2.52163262148004,2.52163262148004,2.52163262148004,2.52163262148004,2.52163262148004,2.52163262148004,2.52163262148004,2.52163262148004,2.52163262148004,2.52163262148004,2.52163262148004,2.52163262148004,2.52163262148004,2.52163262148004,2.52163262148004,2.52163262148004,2.52163262148004,2.52163262148004,2.52163262148004,2.52163262148004,2.52163262148004,2.52163262148004,2.52163262148004,2.52163262148004,2.52163262148004,2.52163262148004,2.52163262148004,2.52163262148004,2.52163262148004,2.52163262148004,2.52163262148004,2.52163262148004,2.52163262148004,2.52163262148004,2.52163262148004,2.52163262148004,2.52163262148004,2.52163262148004,2.52163262148004,2.52163262148004,2.52163262148004,2.52163262148004,2.52163262148004,2.52163262148004,2.52163262148004,2.52163262148004,2.52163262148004,2.52163262148004,2.52163262148004,2.52163262148004,2.52163262148004,2.52163262148004,2.52163262148004,2.52163262148004,2.52163262148004,2.52163262148004,2.52163262148004,2.52163262148004,2.52163262148004,2.52163262148004,2.52163262148004,2.52163262148004,2.52163262148004,2.52163262148004,2.52163262148004,2.52163262148004,2.52163262148004,2.52163262148004,2.52163262148004,2.52163262148004,2.52163262148004,2.52163262148004,2.52163262148004,2.52163262148004,2.52163262148004,2.52163262148004,2.52163262148004,2.52163262148004,2.52163262148004,2.52163262148004,2.52163262148004,2.52163262148004,2.52163262148004,2.52163262148004,2.52163262148004,2.52163262148004,2.52163262148004,2.52163262148004,2.52163262148004,2.52163262148004,2.52163262148004,2.52163262148004,2.52163262148004,2.52163262148004,2.52163262148004,2.52163262148004,2.52163262148004,2.52163262148004,2.52163262148004,2.52163262148004,2.52163262148004,2.52163262148004,2.52163262148004,2.52163262148004,2.52163262148004,2.52163262148004,2.52163262148004,2.52163262148004,2.52163262148004,2.52163262148004,2.52163262148004,2.52163262148004,2.52163262148004,2.52163262148004,2.52163262148004,2.52163262148004,2.52163262148004,2.52163262148004,2.52163262148004,2.52163262148004,2.52163262148004,2.52163262148004,2.52163262148004,2.52163262148004,2.52163262148004,2.52163262148004,2.52163262148004,2.52163262148004,2.52163262148004,2.52163262148004,2.52163262148004,2.52163262148004,2.52163262148004,2.52163262148004,2.52163262148004,2.52163262148004,2.52163262148004,2.52163262148004,2.52163262148004,2.52163262148004,2.52163262148004,2.52163262148004,2.643068040413596,2.643068040413596,2.643068040413596,2.643068040413596,2.643068040413596,2.643068040413596,2.643068040413596,2.643068040413596,2.643068040413596,2.643068040413596,2.643068040413596,2.643068040413596,2.7545100625823946,2.7545100625823946,2.7545100625823946,2.7545100625823946,2.7545100625823946,2.7545100625823946,2.7545100625823946,2.7545100625823946,2.7545100625823946,2.7545100625823946,2.7545100625823946,2.7545100625823946,2.7545100625823946,2.7545100625823946,2.7545100625823946,2.7545100625823946,2.7545100625823946,2.7545100625823946,2.7545100625823946,2.7545100625823946,2.7545100625823946,2.7545100625823946,2.7545100625823946,2.7545100625823946,2.7545100625823946,2.7545100625823946,2.7545100625823946,2.7545100625823946,2.7545100625823946,2.7545100625823946,2.7545100625823946,2.7545100625823946,2.7545100625823946,2.7545100625823946,2.7545100625823946,2.7545100625823946,2.7545100625823946,2.7545100625823946,2.7545100625823946,2.7545100625823946,2.7545100625823946,2.7545100625823946,2.7545100625823946,2.7545100625823946,2.7545100625823946,2.7545100625823946,2.7545100625823946,2.7545100625823946,2.7545100625823946,2.7545100625823946,2.7545100625823946,2.7545100625823946,2.7545100625823946,2.7545100625823946,2.7545100625823946,2.7545100625823946,2.7545100625823946,2.7545100625823946,2.7545100625823946,2.7545100625823946,2.7545100625823946,2.7545100625823946,2.7835620259978353,2.7835620259978353,2.7835620259978353,2.7835620259978353,2.7835620259978353,2.7835620259978353,2.7835620259978353,2.7835620259978353,2.7835620259978353,2.7835620259978353,2.7835620259978353,2.7835620259978353,2.7835620259978353,2.7835620259978353,2.7835620259978353,2.7835620259978353,2.7835620259978353,2.7835620259978353,2.7835620259978353,2.7835620259978353,2.7835620259978353,2.7835620259978353,2.7835620259978353,2.7835620259978353,2.7835620259978353,2.7835620259978353,2.7835620259978353,2.7835620259978353,2.7835620259978353,2.7835620259978353,2.7835620259978353,2.7835620259978353,2.7835620259978353,2.7835620259978353,2.7835620259978353,3.1596532942582347,3.1596532942582347,3.1596532942582347,3.1596532942582347,3.1596532942582347,3.1596532942582347,3.1596532942582347,3.1596532942582347,3.1596532942582347,3.1596532942582347,3.1596532942582347,3.1596532942582347,3.1596532942582347,3.1596532942582347,3.1596532942582347,3.1596532942582347,3.1596532942582347,3.1596532942582347,3.1596532942582347,3.1596532942582347,3.1596532942582347,3.1596532942582347,3.1596532942582347,3.1596532942582347,3.1596532942582347,3.1596532942582347,3.1596532942582347,3.1596532942582347,3.1596532942582347,3.1596532942582347,3.1596532942582347,3.1596532942582347,3.1596532942582347,3.1596532942582347,3.1596532942582347,3.1596532942582347,3.1596532942582347,3.1596532942582347,3.1596532942582347,3.1596532942582347,3.1596532942582347,3.1596532942582347,3.1596532942582347,3.1596532942582347,3.1596532942582347,3.1596532942582347,3.1596532942582347,3.1596532942582347,3.1596532942582347,3.1596532942582347,3.1596532942582347,3.1596532942582347,3.1596532942582347,3.1596532942582347,3.1596532942582347,3.1596532942582347,3.1596532942582347,3.1596532942582347,3.1596532942582347,3.1596532942582347,3.1596532942582347,3.1596532942582347,3.1596532942582347,3.1596532942582347,3.1596532942582347,3.1596532942582347,3.1596532942582347,3.1596532942582347,3.1596532942582347,3.1596532942582347,3.1596532942582347,3.1596532942582347,3.1596532942582347,3.1596532942582347,3.1596532942582347,3.1596532942582347,3.1596532942582347,3.1596532942582347,3.1596532942582347,3.1596532942582347,3.1596532942582347,3.1596532942582347,3.1596532942582347,3.1596532942582347,3.1596532942582347,3.1596532942582347,3.1596532942582347,3.1596532942582347,3.1596532942582347,3.1596532942582347,3.1596532942582347,3.1596532942582347,3.1596532942582347,3.1596532942582347,3.1596532942582347,3.1596532942582347,3.1596532942582347,3.1596532942582347,3.1596532942582347,3.1596532942582347,3.1596532942582347,3.1596532942582347,3.1596532942582347,3.1596532942582347,3.1596532942582347,3.1596532942582347,3.1596532942582347,3.1596532942582347,3.1596532942582347,3.1596532942582347,3.1596532942582347,3.1596532942582347,3.1596532942582347,3.1596532942582347,3.1596532942582347,3.1596532942582347,3.1596532942582347,3.1596532942582347,3.1596532942582347,3.1596532942582347,3.1596532942582347,3.1596532942582347,3.1596532942582347,3.1596532942582347,3.1596532942582347,3.1596532942582347,3.1596532942582347,3.1596532942582347,3.1596532942582347,3.1596532942582347,3.1596532942582347,3.1596532942582347,3.1596532942582347,3.1596532942582347,3.1596532942582347,3.1596532942582347,3.1596532942582347,3.1596532942582347,3.1596532942582347,3.1596532942582347,3.1596532942582347,3.1596532942582347,3.1596532942582347,3.1596532942582347,3.1596532942582347,3.1596532942582347,3.1596532942582347,3.1596532942582347,3.1596532942582347,3.1596532942582347,3.1596532942582347,3.1596532942582347,3.1596532942582347,3.1596532942582347,3.1596532942582347,3.1596532942582347,3.1596532942582347,3.1596532942582347,3.1596532942582347,3.1596532942582347,3.1596532942582347,3.1596532942582347,3.1596532942582347,3.1596532942582347,3.1596532942582347,3.1596532942582347,3.1596532942582347,3.1596532942582347,3.1596532942582347,3.1596532942582347,3.1596532942582347,3.1596532942582347,3.1596532942582347,3.1596532942582347,3.1596532942582347,3.1596532942582347,3.1596532942582347,3.1596532942582347,3.1596532942582347,3.1596532942582347,3.1596532942582347,3.1596532942582347,3.1596532942582347,3.1596532942582347,3.1596532942582347,3.1596532942582347,3.1596532942582347,3.1596532942582347,3.1596532942582347,3.1596532942582347,3.1596532942582347,3.1596532942582347,3.1596532942582347,3.1596532942582347,3.1596532942582347,3.1596532942582347,3.1596532942582347,3.1596532942582347,3.1596532942582347,3.1596532942582347,3.1596532942582347,3.1596532942582347,3.1596532942582347,3.1596532942582347,3.1596532942582347,3.1596532942582347,3.1596532942582347,3.1596532942582347,3.1596532942582347,3.1596532942582347,3.1596532942582347,3.1596532942582347,3.1596532942582347,3.1596532942582347,3.1596532942582347,3.1596532942582347,3.1596532942582347,3.1596532942582347,3.1596532942582347,3.1596532942582347,3.1596532942582347,3.1596532942582347,3.1596532942582347,3.1596532942582347,3.1596532942582347,3.1596532942582347,3.1596532942582347,3.1596532942582347,3.1596532942582347,3.1596532942582347,3.1596532942582347,3.1596532942582347,3.1596532942582347,3.1596532942582347,3.1596532942582347,3.1596532942582347,3.1596532942582347,3.1596532942582347,3.1596532942582347,3.1596532942582347,3.1596532942582347,3.1596532942582347,3.1596532942582347,3.1596532942582347,3.1596532942582347,3.1596532942582347,3.1596532942582347,3.1596532942582347,3.1596532942582347,3.1596532942582347,3.1596532942582347,3.1596532942582347,3.1596532942582347,3.1596532942582347,3.1596532942582347,3.1596532942582347,3.1596532942582347,3.1596532942582347,3.1596532942582347,3.1596532942582347,3.1596532942582347,3.1596532942582347,3.1596532942582347,3.1596532942582347,3.1596532942582347,3.1596532942582347,3.1596532942582347,3.1596532942582347,3.1596532942582347,3.1596532942582347,3.1596532942582347,3.1596532942582347,3.1596532942582347,3.1596532942582347,3.1596532942582347,3.1596532942582347,3.1596532942582347,3.1596532942582347,3.1596532942582347,3.1596532942582347,3.1596532942582347,3.1596532942582347,3.1596532942582347,3.1596532942582347,3.1596532942582347,3.1596532942582347,3.1596532942582347,3.1596532942582347,3.1596532942582347,3.1596532942582347,3.1596532942582347,3.1596532942582347,3.1596532942582347,3.1596532942582347,3.1596532942582347,3.1596532942582347,3.1596532942582347,3.1596532942582347,3.1596532942582347,3.1596532942582347,3.1596532942582347,3.1596532942582347,3.1596532942582347,3.1596532942582347,3.1596532942582347,3.1596532942582347,3.1596532942582347,3.1596532942582347,3.1596532942582347,3.1596532942582347,3.1596532942582347,3.1596532942582347,3.1596532942582347,3.1596532942582347,3.1596532942582347,3.1596532942582347,3.1596532942582347,3.1596532942582347,3.1596532942582347,3.1596532942582347,3.1596532942582347,3.1596532942582347,3.1596532942582347,3.1596532942582347,3.1596532942582347,3.1596532942582347,3.1596532942582347,3.1596532942582347,3.1596532942582347,3.1596532942582347,3.1596532942582347,3.1596532942582347,3.1596532942582347,3.1596532942582347,3.1596532942582347,3.1596532942582347,3.1596532942582347,3.1596532942582347,3.1596532942582347,3.1596532942582347,3.1596532942582347,3.1596532942582347,3.1596532942582347,3.1596532942582347,3.1596532942582347,3.1596532942582347,3.1596532942582347,3.1596532942582347,3.1596532942582347,3.1596532942582347,3.1596532942582347,3.1596532942582347,3.1596532942582347,3.1596532942582347,3.1596532942582347,3.1596532942582347,3.1596532942582347,3.1596532942582347,3.1596532942582347,3.1596532942582347,3.1596532942582347,3.1596532942582347],\"yaxis\":\"y\",\"type\":\"scattergl\"},{\"hovertemplate\":\"variable=C\\u003cbr\\u003eindex=%{x}\\u003cbr\\u003evalue=%{y}\\u003cextra\\u003e\\u003c\\u002fextra\\u003e\",\"legendgroup\":\"C\",\"line\":{\"color\":\"#00cc96\",\"dash\":\"solid\"},\"marker\":{\"symbol\":\"circle\"},\"mode\":\"lines\",\"name\":\"C\",\"showlegend\":true,\"x\":[\"2000-01-01T00:00:00\",\"2000-01-02T00:00:00\",\"2000-01-03T00:00:00\",\"2000-01-04T00:00:00\",\"2000-01-05T00:00:00\",\"2000-01-06T00:00:00\",\"2000-01-07T00:00:00\",\"2000-01-08T00:00:00\",\"2000-01-09T00:00:00\",\"2000-01-10T00:00:00\",\"2000-01-11T00:00:00\",\"2000-01-12T00:00:00\",\"2000-01-13T00:00:00\",\"2000-01-14T00:00:00\",\"2000-01-15T00:00:00\",\"2000-01-16T00:00:00\",\"2000-01-17T00:00:00\",\"2000-01-18T00:00:00\",\"2000-01-19T00:00:00\",\"2000-01-20T00:00:00\",\"2000-01-21T00:00:00\",\"2000-01-22T00:00:00\",\"2000-01-23T00:00:00\",\"2000-01-24T00:00:00\",\"2000-01-25T00:00:00\",\"2000-01-26T00:00:00\",\"2000-01-27T00:00:00\",\"2000-01-28T00:00:00\",\"2000-01-29T00:00:00\",\"2000-01-30T00:00:00\",\"2000-01-31T00:00:00\",\"2000-02-01T00:00:00\",\"2000-02-02T00:00:00\",\"2000-02-03T00:00:00\",\"2000-02-04T00:00:00\",\"2000-02-05T00:00:00\",\"2000-02-06T00:00:00\",\"2000-02-07T00:00:00\",\"2000-02-08T00:00:00\",\"2000-02-09T00:00:00\",\"2000-02-10T00:00:00\",\"2000-02-11T00:00:00\",\"2000-02-12T00:00:00\",\"2000-02-13T00:00:00\",\"2000-02-14T00:00:00\",\"2000-02-15T00:00:00\",\"2000-02-16T00:00:00\",\"2000-02-17T00:00:00\",\"2000-02-18T00:00:00\",\"2000-02-19T00:00:00\",\"2000-02-20T00:00:00\",\"2000-02-21T00:00:00\",\"2000-02-22T00:00:00\",\"2000-02-23T00:00:00\",\"2000-02-24T00:00:00\",\"2000-02-25T00:00:00\",\"2000-02-26T00:00:00\",\"2000-02-27T00:00:00\",\"2000-02-28T00:00:00\",\"2000-02-29T00:00:00\",\"2000-03-01T00:00:00\",\"2000-03-02T00:00:00\",\"2000-03-03T00:00:00\",\"2000-03-04T00:00:00\",\"2000-03-05T00:00:00\",\"2000-03-06T00:00:00\",\"2000-03-07T00:00:00\",\"2000-03-08T00:00:00\",\"2000-03-09T00:00:00\",\"2000-03-10T00:00:00\",\"2000-03-11T00:00:00\",\"2000-03-12T00:00:00\",\"2000-03-13T00:00:00\",\"2000-03-14T00:00:00\",\"2000-03-15T00:00:00\",\"2000-03-16T00:00:00\",\"2000-03-17T00:00:00\",\"2000-03-18T00:00:00\",\"2000-03-19T00:00:00\",\"2000-03-20T00:00:00\",\"2000-03-21T00:00:00\",\"2000-03-22T00:00:00\",\"2000-03-23T00:00:00\",\"2000-03-24T00:00:00\",\"2000-03-25T00:00:00\",\"2000-03-26T00:00:00\",\"2000-03-27T00:00:00\",\"2000-03-28T00:00:00\",\"2000-03-29T00:00:00\",\"2000-03-30T00:00:00\",\"2000-03-31T00:00:00\",\"2000-04-01T00:00:00\",\"2000-04-02T00:00:00\",\"2000-04-03T00:00:00\",\"2000-04-04T00:00:00\",\"2000-04-05T00:00:00\",\"2000-04-06T00:00:00\",\"2000-04-07T00:00:00\",\"2000-04-08T00:00:00\",\"2000-04-09T00:00:00\",\"2000-04-10T00:00:00\",\"2000-04-11T00:00:00\",\"2000-04-12T00:00:00\",\"2000-04-13T00:00:00\",\"2000-04-14T00:00:00\",\"2000-04-15T00:00:00\",\"2000-04-16T00:00:00\",\"2000-04-17T00:00:00\",\"2000-04-18T00:00:00\",\"2000-04-19T00:00:00\",\"2000-04-20T00:00:00\",\"2000-04-21T00:00:00\",\"2000-04-22T00:00:00\",\"2000-04-23T00:00:00\",\"2000-04-24T00:00:00\",\"2000-04-25T00:00:00\",\"2000-04-26T00:00:00\",\"2000-04-27T00:00:00\",\"2000-04-28T00:00:00\",\"2000-04-29T00:00:00\",\"2000-04-30T00:00:00\",\"2000-05-01T00:00:00\",\"2000-05-02T00:00:00\",\"2000-05-03T00:00:00\",\"2000-05-04T00:00:00\",\"2000-05-05T00:00:00\",\"2000-05-06T00:00:00\",\"2000-05-07T00:00:00\",\"2000-05-08T00:00:00\",\"2000-05-09T00:00:00\",\"2000-05-10T00:00:00\",\"2000-05-11T00:00:00\",\"2000-05-12T00:00:00\",\"2000-05-13T00:00:00\",\"2000-05-14T00:00:00\",\"2000-05-15T00:00:00\",\"2000-05-16T00:00:00\",\"2000-05-17T00:00:00\",\"2000-05-18T00:00:00\",\"2000-05-19T00:00:00\",\"2000-05-20T00:00:00\",\"2000-05-21T00:00:00\",\"2000-05-22T00:00:00\",\"2000-05-23T00:00:00\",\"2000-05-24T00:00:00\",\"2000-05-25T00:00:00\",\"2000-05-26T00:00:00\",\"2000-05-27T00:00:00\",\"2000-05-28T00:00:00\",\"2000-05-29T00:00:00\",\"2000-05-30T00:00:00\",\"2000-05-31T00:00:00\",\"2000-06-01T00:00:00\",\"2000-06-02T00:00:00\",\"2000-06-03T00:00:00\",\"2000-06-04T00:00:00\",\"2000-06-05T00:00:00\",\"2000-06-06T00:00:00\",\"2000-06-07T00:00:00\",\"2000-06-08T00:00:00\",\"2000-06-09T00:00:00\",\"2000-06-10T00:00:00\",\"2000-06-11T00:00:00\",\"2000-06-12T00:00:00\",\"2000-06-13T00:00:00\",\"2000-06-14T00:00:00\",\"2000-06-15T00:00:00\",\"2000-06-16T00:00:00\",\"2000-06-17T00:00:00\",\"2000-06-18T00:00:00\",\"2000-06-19T00:00:00\",\"2000-06-20T00:00:00\",\"2000-06-21T00:00:00\",\"2000-06-22T00:00:00\",\"2000-06-23T00:00:00\",\"2000-06-24T00:00:00\",\"2000-06-25T00:00:00\",\"2000-06-26T00:00:00\",\"2000-06-27T00:00:00\",\"2000-06-28T00:00:00\",\"2000-06-29T00:00:00\",\"2000-06-30T00:00:00\",\"2000-07-01T00:00:00\",\"2000-07-02T00:00:00\",\"2000-07-03T00:00:00\",\"2000-07-04T00:00:00\",\"2000-07-05T00:00:00\",\"2000-07-06T00:00:00\",\"2000-07-07T00:00:00\",\"2000-07-08T00:00:00\",\"2000-07-09T00:00:00\",\"2000-07-10T00:00:00\",\"2000-07-11T00:00:00\",\"2000-07-12T00:00:00\",\"2000-07-13T00:00:00\",\"2000-07-14T00:00:00\",\"2000-07-15T00:00:00\",\"2000-07-16T00:00:00\",\"2000-07-17T00:00:00\",\"2000-07-18T00:00:00\",\"2000-07-19T00:00:00\",\"2000-07-20T00:00:00\",\"2000-07-21T00:00:00\",\"2000-07-22T00:00:00\",\"2000-07-23T00:00:00\",\"2000-07-24T00:00:00\",\"2000-07-25T00:00:00\",\"2000-07-26T00:00:00\",\"2000-07-27T00:00:00\",\"2000-07-28T00:00:00\",\"2000-07-29T00:00:00\",\"2000-07-30T00:00:00\",\"2000-07-31T00:00:00\",\"2000-08-01T00:00:00\",\"2000-08-02T00:00:00\",\"2000-08-03T00:00:00\",\"2000-08-04T00:00:00\",\"2000-08-05T00:00:00\",\"2000-08-06T00:00:00\",\"2000-08-07T00:00:00\",\"2000-08-08T00:00:00\",\"2000-08-09T00:00:00\",\"2000-08-10T00:00:00\",\"2000-08-11T00:00:00\",\"2000-08-12T00:00:00\",\"2000-08-13T00:00:00\",\"2000-08-14T00:00:00\",\"2000-08-15T00:00:00\",\"2000-08-16T00:00:00\",\"2000-08-17T00:00:00\",\"2000-08-18T00:00:00\",\"2000-08-19T00:00:00\",\"2000-08-20T00:00:00\",\"2000-08-21T00:00:00\",\"2000-08-22T00:00:00\",\"2000-08-23T00:00:00\",\"2000-08-24T00:00:00\",\"2000-08-25T00:00:00\",\"2000-08-26T00:00:00\",\"2000-08-27T00:00:00\",\"2000-08-28T00:00:00\",\"2000-08-29T00:00:00\",\"2000-08-30T00:00:00\",\"2000-08-31T00:00:00\",\"2000-09-01T00:00:00\",\"2000-09-02T00:00:00\",\"2000-09-03T00:00:00\",\"2000-09-04T00:00:00\",\"2000-09-05T00:00:00\",\"2000-09-06T00:00:00\",\"2000-09-07T00:00:00\",\"2000-09-08T00:00:00\",\"2000-09-09T00:00:00\",\"2000-09-10T00:00:00\",\"2000-09-11T00:00:00\",\"2000-09-12T00:00:00\",\"2000-09-13T00:00:00\",\"2000-09-14T00:00:00\",\"2000-09-15T00:00:00\",\"2000-09-16T00:00:00\",\"2000-09-17T00:00:00\",\"2000-09-18T00:00:00\",\"2000-09-19T00:00:00\",\"2000-09-20T00:00:00\",\"2000-09-21T00:00:00\",\"2000-09-22T00:00:00\",\"2000-09-23T00:00:00\",\"2000-09-24T00:00:00\",\"2000-09-25T00:00:00\",\"2000-09-26T00:00:00\",\"2000-09-27T00:00:00\",\"2000-09-28T00:00:00\",\"2000-09-29T00:00:00\",\"2000-09-30T00:00:00\",\"2000-10-01T00:00:00\",\"2000-10-02T00:00:00\",\"2000-10-03T00:00:00\",\"2000-10-04T00:00:00\",\"2000-10-05T00:00:00\",\"2000-10-06T00:00:00\",\"2000-10-07T00:00:00\",\"2000-10-08T00:00:00\",\"2000-10-09T00:00:00\",\"2000-10-10T00:00:00\",\"2000-10-11T00:00:00\",\"2000-10-12T00:00:00\",\"2000-10-13T00:00:00\",\"2000-10-14T00:00:00\",\"2000-10-15T00:00:00\",\"2000-10-16T00:00:00\",\"2000-10-17T00:00:00\",\"2000-10-18T00:00:00\",\"2000-10-19T00:00:00\",\"2000-10-20T00:00:00\",\"2000-10-21T00:00:00\",\"2000-10-22T00:00:00\",\"2000-10-23T00:00:00\",\"2000-10-24T00:00:00\",\"2000-10-25T00:00:00\",\"2000-10-26T00:00:00\",\"2000-10-27T00:00:00\",\"2000-10-28T00:00:00\",\"2000-10-29T00:00:00\",\"2000-10-30T00:00:00\",\"2000-10-31T00:00:00\",\"2000-11-01T00:00:00\",\"2000-11-02T00:00:00\",\"2000-11-03T00:00:00\",\"2000-11-04T00:00:00\",\"2000-11-05T00:00:00\",\"2000-11-06T00:00:00\",\"2000-11-07T00:00:00\",\"2000-11-08T00:00:00\",\"2000-11-09T00:00:00\",\"2000-11-10T00:00:00\",\"2000-11-11T00:00:00\",\"2000-11-12T00:00:00\",\"2000-11-13T00:00:00\",\"2000-11-14T00:00:00\",\"2000-11-15T00:00:00\",\"2000-11-16T00:00:00\",\"2000-11-17T00:00:00\",\"2000-11-18T00:00:00\",\"2000-11-19T00:00:00\",\"2000-11-20T00:00:00\",\"2000-11-21T00:00:00\",\"2000-11-22T00:00:00\",\"2000-11-23T00:00:00\",\"2000-11-24T00:00:00\",\"2000-11-25T00:00:00\",\"2000-11-26T00:00:00\",\"2000-11-27T00:00:00\",\"2000-11-28T00:00:00\",\"2000-11-29T00:00:00\",\"2000-11-30T00:00:00\",\"2000-12-01T00:00:00\",\"2000-12-02T00:00:00\",\"2000-12-03T00:00:00\",\"2000-12-04T00:00:00\",\"2000-12-05T00:00:00\",\"2000-12-06T00:00:00\",\"2000-12-07T00:00:00\",\"2000-12-08T00:00:00\",\"2000-12-09T00:00:00\",\"2000-12-10T00:00:00\",\"2000-12-11T00:00:00\",\"2000-12-12T00:00:00\",\"2000-12-13T00:00:00\",\"2000-12-14T00:00:00\",\"2000-12-15T00:00:00\",\"2000-12-16T00:00:00\",\"2000-12-17T00:00:00\",\"2000-12-18T00:00:00\",\"2000-12-19T00:00:00\",\"2000-12-20T00:00:00\",\"2000-12-21T00:00:00\",\"2000-12-22T00:00:00\",\"2000-12-23T00:00:00\",\"2000-12-24T00:00:00\",\"2000-12-25T00:00:00\",\"2000-12-26T00:00:00\",\"2000-12-27T00:00:00\",\"2000-12-28T00:00:00\",\"2000-12-29T00:00:00\",\"2000-12-30T00:00:00\",\"2000-12-31T00:00:00\",\"2001-01-01T00:00:00\",\"2001-01-02T00:00:00\",\"2001-01-03T00:00:00\",\"2001-01-04T00:00:00\",\"2001-01-05T00:00:00\",\"2001-01-06T00:00:00\",\"2001-01-07T00:00:00\",\"2001-01-08T00:00:00\",\"2001-01-09T00:00:00\",\"2001-01-10T00:00:00\",\"2001-01-11T00:00:00\",\"2001-01-12T00:00:00\",\"2001-01-13T00:00:00\",\"2001-01-14T00:00:00\",\"2001-01-15T00:00:00\",\"2001-01-16T00:00:00\",\"2001-01-17T00:00:00\",\"2001-01-18T00:00:00\",\"2001-01-19T00:00:00\",\"2001-01-20T00:00:00\",\"2001-01-21T00:00:00\",\"2001-01-22T00:00:00\",\"2001-01-23T00:00:00\",\"2001-01-24T00:00:00\",\"2001-01-25T00:00:00\",\"2001-01-26T00:00:00\",\"2001-01-27T00:00:00\",\"2001-01-28T00:00:00\",\"2001-01-29T00:00:00\",\"2001-01-30T00:00:00\",\"2001-01-31T00:00:00\",\"2001-02-01T00:00:00\",\"2001-02-02T00:00:00\",\"2001-02-03T00:00:00\",\"2001-02-04T00:00:00\",\"2001-02-05T00:00:00\",\"2001-02-06T00:00:00\",\"2001-02-07T00:00:00\",\"2001-02-08T00:00:00\",\"2001-02-09T00:00:00\",\"2001-02-10T00:00:00\",\"2001-02-11T00:00:00\",\"2001-02-12T00:00:00\",\"2001-02-13T00:00:00\",\"2001-02-14T00:00:00\",\"2001-02-15T00:00:00\",\"2001-02-16T00:00:00\",\"2001-02-17T00:00:00\",\"2001-02-18T00:00:00\",\"2001-02-19T00:00:00\",\"2001-02-20T00:00:00\",\"2001-02-21T00:00:00\",\"2001-02-22T00:00:00\",\"2001-02-23T00:00:00\",\"2001-02-24T00:00:00\",\"2001-02-25T00:00:00\",\"2001-02-26T00:00:00\",\"2001-02-27T00:00:00\",\"2001-02-28T00:00:00\",\"2001-03-01T00:00:00\",\"2001-03-02T00:00:00\",\"2001-03-03T00:00:00\",\"2001-03-04T00:00:00\",\"2001-03-05T00:00:00\",\"2001-03-06T00:00:00\",\"2001-03-07T00:00:00\",\"2001-03-08T00:00:00\",\"2001-03-09T00:00:00\",\"2001-03-10T00:00:00\",\"2001-03-11T00:00:00\",\"2001-03-12T00:00:00\",\"2001-03-13T00:00:00\",\"2001-03-14T00:00:00\",\"2001-03-15T00:00:00\",\"2001-03-16T00:00:00\",\"2001-03-17T00:00:00\",\"2001-03-18T00:00:00\",\"2001-03-19T00:00:00\",\"2001-03-20T00:00:00\",\"2001-03-21T00:00:00\",\"2001-03-22T00:00:00\",\"2001-03-23T00:00:00\",\"2001-03-24T00:00:00\",\"2001-03-25T00:00:00\",\"2001-03-26T00:00:00\",\"2001-03-27T00:00:00\",\"2001-03-28T00:00:00\",\"2001-03-29T00:00:00\",\"2001-03-30T00:00:00\",\"2001-03-31T00:00:00\",\"2001-04-01T00:00:00\",\"2001-04-02T00:00:00\",\"2001-04-03T00:00:00\",\"2001-04-04T00:00:00\",\"2001-04-05T00:00:00\",\"2001-04-06T00:00:00\",\"2001-04-07T00:00:00\",\"2001-04-08T00:00:00\",\"2001-04-09T00:00:00\",\"2001-04-10T00:00:00\",\"2001-04-11T00:00:00\",\"2001-04-12T00:00:00\",\"2001-04-13T00:00:00\",\"2001-04-14T00:00:00\",\"2001-04-15T00:00:00\",\"2001-04-16T00:00:00\",\"2001-04-17T00:00:00\",\"2001-04-18T00:00:00\",\"2001-04-19T00:00:00\",\"2001-04-20T00:00:00\",\"2001-04-21T00:00:00\",\"2001-04-22T00:00:00\",\"2001-04-23T00:00:00\",\"2001-04-24T00:00:00\",\"2001-04-25T00:00:00\",\"2001-04-26T00:00:00\",\"2001-04-27T00:00:00\",\"2001-04-28T00:00:00\",\"2001-04-29T00:00:00\",\"2001-04-30T00:00:00\",\"2001-05-01T00:00:00\",\"2001-05-02T00:00:00\",\"2001-05-03T00:00:00\",\"2001-05-04T00:00:00\",\"2001-05-05T00:00:00\",\"2001-05-06T00:00:00\",\"2001-05-07T00:00:00\",\"2001-05-08T00:00:00\",\"2001-05-09T00:00:00\",\"2001-05-10T00:00:00\",\"2001-05-11T00:00:00\",\"2001-05-12T00:00:00\",\"2001-05-13T00:00:00\",\"2001-05-14T00:00:00\",\"2001-05-15T00:00:00\",\"2001-05-16T00:00:00\",\"2001-05-17T00:00:00\",\"2001-05-18T00:00:00\",\"2001-05-19T00:00:00\",\"2001-05-20T00:00:00\",\"2001-05-21T00:00:00\",\"2001-05-22T00:00:00\",\"2001-05-23T00:00:00\",\"2001-05-24T00:00:00\",\"2001-05-25T00:00:00\",\"2001-05-26T00:00:00\",\"2001-05-27T00:00:00\",\"2001-05-28T00:00:00\",\"2001-05-29T00:00:00\",\"2001-05-30T00:00:00\",\"2001-05-31T00:00:00\",\"2001-06-01T00:00:00\",\"2001-06-02T00:00:00\",\"2001-06-03T00:00:00\",\"2001-06-04T00:00:00\",\"2001-06-05T00:00:00\",\"2001-06-06T00:00:00\",\"2001-06-07T00:00:00\",\"2001-06-08T00:00:00\",\"2001-06-09T00:00:00\",\"2001-06-10T00:00:00\",\"2001-06-11T00:00:00\",\"2001-06-12T00:00:00\",\"2001-06-13T00:00:00\",\"2001-06-14T00:00:00\",\"2001-06-15T00:00:00\",\"2001-06-16T00:00:00\",\"2001-06-17T00:00:00\",\"2001-06-18T00:00:00\",\"2001-06-19T00:00:00\",\"2001-06-20T00:00:00\",\"2001-06-21T00:00:00\",\"2001-06-22T00:00:00\",\"2001-06-23T00:00:00\",\"2001-06-24T00:00:00\",\"2001-06-25T00:00:00\",\"2001-06-26T00:00:00\",\"2001-06-27T00:00:00\",\"2001-06-28T00:00:00\",\"2001-06-29T00:00:00\",\"2001-06-30T00:00:00\",\"2001-07-01T00:00:00\",\"2001-07-02T00:00:00\",\"2001-07-03T00:00:00\",\"2001-07-04T00:00:00\",\"2001-07-05T00:00:00\",\"2001-07-06T00:00:00\",\"2001-07-07T00:00:00\",\"2001-07-08T00:00:00\",\"2001-07-09T00:00:00\",\"2001-07-10T00:00:00\",\"2001-07-11T00:00:00\",\"2001-07-12T00:00:00\",\"2001-07-13T00:00:00\",\"2001-07-14T00:00:00\",\"2001-07-15T00:00:00\",\"2001-07-16T00:00:00\",\"2001-07-17T00:00:00\",\"2001-07-18T00:00:00\",\"2001-07-19T00:00:00\",\"2001-07-20T00:00:00\",\"2001-07-21T00:00:00\",\"2001-07-22T00:00:00\",\"2001-07-23T00:00:00\",\"2001-07-24T00:00:00\",\"2001-07-25T00:00:00\",\"2001-07-26T00:00:00\",\"2001-07-27T00:00:00\",\"2001-07-28T00:00:00\",\"2001-07-29T00:00:00\",\"2001-07-30T00:00:00\",\"2001-07-31T00:00:00\",\"2001-08-01T00:00:00\",\"2001-08-02T00:00:00\",\"2001-08-03T00:00:00\",\"2001-08-04T00:00:00\",\"2001-08-05T00:00:00\",\"2001-08-06T00:00:00\",\"2001-08-07T00:00:00\",\"2001-08-08T00:00:00\",\"2001-08-09T00:00:00\",\"2001-08-10T00:00:00\",\"2001-08-11T00:00:00\",\"2001-08-12T00:00:00\",\"2001-08-13T00:00:00\",\"2001-08-14T00:00:00\",\"2001-08-15T00:00:00\",\"2001-08-16T00:00:00\",\"2001-08-17T00:00:00\",\"2001-08-18T00:00:00\",\"2001-08-19T00:00:00\",\"2001-08-20T00:00:00\",\"2001-08-21T00:00:00\",\"2001-08-22T00:00:00\",\"2001-08-23T00:00:00\",\"2001-08-24T00:00:00\",\"2001-08-25T00:00:00\",\"2001-08-26T00:00:00\",\"2001-08-27T00:00:00\",\"2001-08-28T00:00:00\",\"2001-08-29T00:00:00\",\"2001-08-30T00:00:00\",\"2001-08-31T00:00:00\",\"2001-09-01T00:00:00\",\"2001-09-02T00:00:00\",\"2001-09-03T00:00:00\",\"2001-09-04T00:00:00\",\"2001-09-05T00:00:00\",\"2001-09-06T00:00:00\",\"2001-09-07T00:00:00\",\"2001-09-08T00:00:00\",\"2001-09-09T00:00:00\",\"2001-09-10T00:00:00\",\"2001-09-11T00:00:00\",\"2001-09-12T00:00:00\",\"2001-09-13T00:00:00\",\"2001-09-14T00:00:00\",\"2001-09-15T00:00:00\",\"2001-09-16T00:00:00\",\"2001-09-17T00:00:00\",\"2001-09-18T00:00:00\",\"2001-09-19T00:00:00\",\"2001-09-20T00:00:00\",\"2001-09-21T00:00:00\",\"2001-09-22T00:00:00\",\"2001-09-23T00:00:00\",\"2001-09-24T00:00:00\",\"2001-09-25T00:00:00\",\"2001-09-26T00:00:00\",\"2001-09-27T00:00:00\",\"2001-09-28T00:00:00\",\"2001-09-29T00:00:00\",\"2001-09-30T00:00:00\",\"2001-10-01T00:00:00\",\"2001-10-02T00:00:00\",\"2001-10-03T00:00:00\",\"2001-10-04T00:00:00\",\"2001-10-05T00:00:00\",\"2001-10-06T00:00:00\",\"2001-10-07T00:00:00\",\"2001-10-08T00:00:00\",\"2001-10-09T00:00:00\",\"2001-10-10T00:00:00\",\"2001-10-11T00:00:00\",\"2001-10-12T00:00:00\",\"2001-10-13T00:00:00\",\"2001-10-14T00:00:00\",\"2001-10-15T00:00:00\",\"2001-10-16T00:00:00\",\"2001-10-17T00:00:00\",\"2001-10-18T00:00:00\",\"2001-10-19T00:00:00\",\"2001-10-20T00:00:00\",\"2001-10-21T00:00:00\",\"2001-10-22T00:00:00\",\"2001-10-23T00:00:00\",\"2001-10-24T00:00:00\",\"2001-10-25T00:00:00\",\"2001-10-26T00:00:00\",\"2001-10-27T00:00:00\",\"2001-10-28T00:00:00\",\"2001-10-29T00:00:00\",\"2001-10-30T00:00:00\",\"2001-10-31T00:00:00\",\"2001-11-01T00:00:00\",\"2001-11-02T00:00:00\",\"2001-11-03T00:00:00\",\"2001-11-04T00:00:00\",\"2001-11-05T00:00:00\",\"2001-11-06T00:00:00\",\"2001-11-07T00:00:00\",\"2001-11-08T00:00:00\",\"2001-11-09T00:00:00\",\"2001-11-10T00:00:00\",\"2001-11-11T00:00:00\",\"2001-11-12T00:00:00\",\"2001-11-13T00:00:00\",\"2001-11-14T00:00:00\",\"2001-11-15T00:00:00\",\"2001-11-16T00:00:00\",\"2001-11-17T00:00:00\",\"2001-11-18T00:00:00\",\"2001-11-19T00:00:00\",\"2001-11-20T00:00:00\",\"2001-11-21T00:00:00\",\"2001-11-22T00:00:00\",\"2001-11-23T00:00:00\",\"2001-11-24T00:00:00\",\"2001-11-25T00:00:00\",\"2001-11-26T00:00:00\",\"2001-11-27T00:00:00\",\"2001-11-28T00:00:00\",\"2001-11-29T00:00:00\",\"2001-11-30T00:00:00\",\"2001-12-01T00:00:00\",\"2001-12-02T00:00:00\",\"2001-12-03T00:00:00\",\"2001-12-04T00:00:00\",\"2001-12-05T00:00:00\",\"2001-12-06T00:00:00\",\"2001-12-07T00:00:00\",\"2001-12-08T00:00:00\",\"2001-12-09T00:00:00\",\"2001-12-10T00:00:00\",\"2001-12-11T00:00:00\",\"2001-12-12T00:00:00\",\"2001-12-13T00:00:00\",\"2001-12-14T00:00:00\",\"2001-12-15T00:00:00\",\"2001-12-16T00:00:00\",\"2001-12-17T00:00:00\",\"2001-12-18T00:00:00\",\"2001-12-19T00:00:00\",\"2001-12-20T00:00:00\",\"2001-12-21T00:00:00\",\"2001-12-22T00:00:00\",\"2001-12-23T00:00:00\",\"2001-12-24T00:00:00\",\"2001-12-25T00:00:00\",\"2001-12-26T00:00:00\",\"2001-12-27T00:00:00\",\"2001-12-28T00:00:00\",\"2001-12-29T00:00:00\",\"2001-12-30T00:00:00\",\"2001-12-31T00:00:00\",\"2002-01-01T00:00:00\",\"2002-01-02T00:00:00\",\"2002-01-03T00:00:00\",\"2002-01-04T00:00:00\",\"2002-01-05T00:00:00\",\"2002-01-06T00:00:00\",\"2002-01-07T00:00:00\",\"2002-01-08T00:00:00\",\"2002-01-09T00:00:00\",\"2002-01-10T00:00:00\",\"2002-01-11T00:00:00\",\"2002-01-12T00:00:00\",\"2002-01-13T00:00:00\",\"2002-01-14T00:00:00\",\"2002-01-15T00:00:00\",\"2002-01-16T00:00:00\",\"2002-01-17T00:00:00\",\"2002-01-18T00:00:00\",\"2002-01-19T00:00:00\",\"2002-01-20T00:00:00\",\"2002-01-21T00:00:00\",\"2002-01-22T00:00:00\",\"2002-01-23T00:00:00\",\"2002-01-24T00:00:00\",\"2002-01-25T00:00:00\",\"2002-01-26T00:00:00\",\"2002-01-27T00:00:00\",\"2002-01-28T00:00:00\",\"2002-01-29T00:00:00\",\"2002-01-30T00:00:00\",\"2002-01-31T00:00:00\",\"2002-02-01T00:00:00\",\"2002-02-02T00:00:00\",\"2002-02-03T00:00:00\",\"2002-02-04T00:00:00\",\"2002-02-05T00:00:00\",\"2002-02-06T00:00:00\",\"2002-02-07T00:00:00\",\"2002-02-08T00:00:00\",\"2002-02-09T00:00:00\",\"2002-02-10T00:00:00\",\"2002-02-11T00:00:00\",\"2002-02-12T00:00:00\",\"2002-02-13T00:00:00\",\"2002-02-14T00:00:00\",\"2002-02-15T00:00:00\",\"2002-02-16T00:00:00\",\"2002-02-17T00:00:00\",\"2002-02-18T00:00:00\",\"2002-02-19T00:00:00\",\"2002-02-20T00:00:00\",\"2002-02-21T00:00:00\",\"2002-02-22T00:00:00\",\"2002-02-23T00:00:00\",\"2002-02-24T00:00:00\",\"2002-02-25T00:00:00\",\"2002-02-26T00:00:00\",\"2002-02-27T00:00:00\",\"2002-02-28T00:00:00\",\"2002-03-01T00:00:00\",\"2002-03-02T00:00:00\",\"2002-03-03T00:00:00\",\"2002-03-04T00:00:00\",\"2002-03-05T00:00:00\",\"2002-03-06T00:00:00\",\"2002-03-07T00:00:00\",\"2002-03-08T00:00:00\",\"2002-03-09T00:00:00\",\"2002-03-10T00:00:00\",\"2002-03-11T00:00:00\",\"2002-03-12T00:00:00\",\"2002-03-13T00:00:00\",\"2002-03-14T00:00:00\",\"2002-03-15T00:00:00\",\"2002-03-16T00:00:00\",\"2002-03-17T00:00:00\",\"2002-03-18T00:00:00\",\"2002-03-19T00:00:00\",\"2002-03-20T00:00:00\",\"2002-03-21T00:00:00\",\"2002-03-22T00:00:00\",\"2002-03-23T00:00:00\",\"2002-03-24T00:00:00\",\"2002-03-25T00:00:00\",\"2002-03-26T00:00:00\",\"2002-03-27T00:00:00\",\"2002-03-28T00:00:00\",\"2002-03-29T00:00:00\",\"2002-03-30T00:00:00\",\"2002-03-31T00:00:00\",\"2002-04-01T00:00:00\",\"2002-04-02T00:00:00\",\"2002-04-03T00:00:00\",\"2002-04-04T00:00:00\",\"2002-04-05T00:00:00\",\"2002-04-06T00:00:00\",\"2002-04-07T00:00:00\",\"2002-04-08T00:00:00\",\"2002-04-09T00:00:00\",\"2002-04-10T00:00:00\",\"2002-04-11T00:00:00\",\"2002-04-12T00:00:00\",\"2002-04-13T00:00:00\",\"2002-04-14T00:00:00\",\"2002-04-15T00:00:00\",\"2002-04-16T00:00:00\",\"2002-04-17T00:00:00\",\"2002-04-18T00:00:00\",\"2002-04-19T00:00:00\",\"2002-04-20T00:00:00\",\"2002-04-21T00:00:00\",\"2002-04-22T00:00:00\",\"2002-04-23T00:00:00\",\"2002-04-24T00:00:00\",\"2002-04-25T00:00:00\",\"2002-04-26T00:00:00\",\"2002-04-27T00:00:00\",\"2002-04-28T00:00:00\",\"2002-04-29T00:00:00\",\"2002-04-30T00:00:00\",\"2002-05-01T00:00:00\",\"2002-05-02T00:00:00\",\"2002-05-03T00:00:00\",\"2002-05-04T00:00:00\",\"2002-05-05T00:00:00\",\"2002-05-06T00:00:00\",\"2002-05-07T00:00:00\",\"2002-05-08T00:00:00\",\"2002-05-09T00:00:00\",\"2002-05-10T00:00:00\",\"2002-05-11T00:00:00\",\"2002-05-12T00:00:00\",\"2002-05-13T00:00:00\",\"2002-05-14T00:00:00\",\"2002-05-15T00:00:00\",\"2002-05-16T00:00:00\",\"2002-05-17T00:00:00\",\"2002-05-18T00:00:00\",\"2002-05-19T00:00:00\",\"2002-05-20T00:00:00\",\"2002-05-21T00:00:00\",\"2002-05-22T00:00:00\",\"2002-05-23T00:00:00\",\"2002-05-24T00:00:00\",\"2002-05-25T00:00:00\",\"2002-05-26T00:00:00\",\"2002-05-27T00:00:00\",\"2002-05-28T00:00:00\",\"2002-05-29T00:00:00\",\"2002-05-30T00:00:00\",\"2002-05-31T00:00:00\",\"2002-06-01T00:00:00\",\"2002-06-02T00:00:00\",\"2002-06-03T00:00:00\",\"2002-06-04T00:00:00\",\"2002-06-05T00:00:00\",\"2002-06-06T00:00:00\",\"2002-06-07T00:00:00\",\"2002-06-08T00:00:00\",\"2002-06-09T00:00:00\",\"2002-06-10T00:00:00\",\"2002-06-11T00:00:00\",\"2002-06-12T00:00:00\",\"2002-06-13T00:00:00\",\"2002-06-14T00:00:00\",\"2002-06-15T00:00:00\",\"2002-06-16T00:00:00\",\"2002-06-17T00:00:00\",\"2002-06-18T00:00:00\",\"2002-06-19T00:00:00\",\"2002-06-20T00:00:00\",\"2002-06-21T00:00:00\",\"2002-06-22T00:00:00\",\"2002-06-23T00:00:00\",\"2002-06-24T00:00:00\",\"2002-06-25T00:00:00\",\"2002-06-26T00:00:00\",\"2002-06-27T00:00:00\",\"2002-06-28T00:00:00\",\"2002-06-29T00:00:00\",\"2002-06-30T00:00:00\",\"2002-07-01T00:00:00\",\"2002-07-02T00:00:00\",\"2002-07-03T00:00:00\",\"2002-07-04T00:00:00\",\"2002-07-05T00:00:00\",\"2002-07-06T00:00:00\",\"2002-07-07T00:00:00\",\"2002-07-08T00:00:00\",\"2002-07-09T00:00:00\",\"2002-07-10T00:00:00\",\"2002-07-11T00:00:00\",\"2002-07-12T00:00:00\",\"2002-07-13T00:00:00\",\"2002-07-14T00:00:00\",\"2002-07-15T00:00:00\",\"2002-07-16T00:00:00\",\"2002-07-17T00:00:00\",\"2002-07-18T00:00:00\",\"2002-07-19T00:00:00\",\"2002-07-20T00:00:00\",\"2002-07-21T00:00:00\",\"2002-07-22T00:00:00\",\"2002-07-23T00:00:00\",\"2002-07-24T00:00:00\",\"2002-07-25T00:00:00\",\"2002-07-26T00:00:00\",\"2002-07-27T00:00:00\",\"2002-07-28T00:00:00\",\"2002-07-29T00:00:00\",\"2002-07-30T00:00:00\",\"2002-07-31T00:00:00\",\"2002-08-01T00:00:00\",\"2002-08-02T00:00:00\",\"2002-08-03T00:00:00\",\"2002-08-04T00:00:00\",\"2002-08-05T00:00:00\",\"2002-08-06T00:00:00\",\"2002-08-07T00:00:00\",\"2002-08-08T00:00:00\",\"2002-08-09T00:00:00\",\"2002-08-10T00:00:00\",\"2002-08-11T00:00:00\",\"2002-08-12T00:00:00\",\"2002-08-13T00:00:00\",\"2002-08-14T00:00:00\",\"2002-08-15T00:00:00\",\"2002-08-16T00:00:00\",\"2002-08-17T00:00:00\",\"2002-08-18T00:00:00\",\"2002-08-19T00:00:00\",\"2002-08-20T00:00:00\",\"2002-08-21T00:00:00\",\"2002-08-22T00:00:00\",\"2002-08-23T00:00:00\",\"2002-08-24T00:00:00\",\"2002-08-25T00:00:00\",\"2002-08-26T00:00:00\",\"2002-08-27T00:00:00\",\"2002-08-28T00:00:00\",\"2002-08-29T00:00:00\",\"2002-08-30T00:00:00\",\"2002-08-31T00:00:00\",\"2002-09-01T00:00:00\",\"2002-09-02T00:00:00\",\"2002-09-03T00:00:00\",\"2002-09-04T00:00:00\",\"2002-09-05T00:00:00\",\"2002-09-06T00:00:00\",\"2002-09-07T00:00:00\",\"2002-09-08T00:00:00\",\"2002-09-09T00:00:00\",\"2002-09-10T00:00:00\",\"2002-09-11T00:00:00\",\"2002-09-12T00:00:00\",\"2002-09-13T00:00:00\",\"2002-09-14T00:00:00\",\"2002-09-15T00:00:00\",\"2002-09-16T00:00:00\",\"2002-09-17T00:00:00\",\"2002-09-18T00:00:00\",\"2002-09-19T00:00:00\",\"2002-09-20T00:00:00\",\"2002-09-21T00:00:00\",\"2002-09-22T00:00:00\",\"2002-09-23T00:00:00\",\"2002-09-24T00:00:00\",\"2002-09-25T00:00:00\",\"2002-09-26T00:00:00\"],\"xaxis\":\"x\",\"y\":[-0.7407433305789617,1.4198033744343743,1.4198033744343743,1.4198033744343743,1.4198033744343743,1.4198033744343743,1.4198033744343743,1.4198033744343743,1.4198033744343743,1.9514100471118676,1.9514100471118676,1.9514100471118676,1.9514100471118676,1.9514100471118676,1.9514100471118676,1.9514100471118676,1.9514100471118676,1.9514100471118676,1.9514100471118676,1.9514100471118676,1.9514100471118676,1.9514100471118676,1.9514100471118676,1.9514100471118676,1.9514100471118676,1.9514100471118676,1.9514100471118676,2.366295195768646,2.366295195768646,2.366295195768646,2.366295195768646,2.366295195768646,2.366295195768646,2.366295195768646,2.366295195768646,2.366295195768646,2.366295195768646,2.366295195768646,2.681307203096533,2.681307203096533,2.681307203096533,2.681307203096533,2.681307203096533,2.681307203096533,2.681307203096533,2.681307203096533,2.681307203096533,2.681307203096533,2.681307203096533,2.681307203096533,2.681307203096533,2.681307203096533,2.681307203096533,2.681307203096533,2.681307203096533,2.681307203096533,2.681307203096533,2.681307203096533,2.681307203096533,2.681307203096533,2.681307203096533,2.681307203096533,2.681307203096533,2.681307203096533,2.681307203096533,2.681307203096533,2.681307203096533,2.681307203096533,2.681307203096533,2.681307203096533,2.681307203096533,2.681307203096533,2.681307203096533,2.681307203096533,2.681307203096533,2.681307203096533,2.681307203096533,2.681307203096533,2.681307203096533,2.681307203096533,2.681307203096533,2.681307203096533,2.681307203096533,2.681307203096533,2.681307203096533,2.681307203096533,2.681307203096533,2.681307203096533,2.681307203096533,2.681307203096533,2.681307203096533,2.681307203096533,2.681307203096533,2.681307203096533,2.681307203096533,2.681307203096533,2.681307203096533,2.681307203096533,2.681307203096533,2.681307203096533,2.681307203096533,2.681307203096533,2.681307203096533,2.681307203096533,2.681307203096533,2.681307203096533,2.681307203096533,2.681307203096533,2.681307203096533,2.681307203096533,2.681307203096533,2.681307203096533,2.681307203096533,2.681307203096533,2.681307203096533,2.681307203096533,2.681307203096533,2.681307203096533,2.681307203096533,2.681307203096533,2.681307203096533,2.681307203096533,2.681307203096533,2.681307203096533,2.681307203096533,2.681307203096533,2.681307203096533,2.681307203096533,2.681307203096533,2.681307203096533,2.681307203096533,2.681307203096533,2.681307203096533,2.681307203096533,2.681307203096533,2.681307203096533,2.681307203096533,2.681307203096533,2.681307203096533,2.681307203096533,2.681307203096533,2.681307203096533,2.681307203096533,2.681307203096533,2.681307203096533,2.681307203096533,2.681307203096533,2.681307203096533,2.681307203096533,2.681307203096533,2.681307203096533,2.681307203096533,2.681307203096533,2.681307203096533,2.681307203096533,2.681307203096533,2.681307203096533,2.681307203096533,2.681307203096533,2.681307203096533,2.681307203096533,2.681307203096533,2.681307203096533,2.681307203096533,2.681307203096533,2.681307203096533,2.681307203096533,2.681307203096533,2.681307203096533,2.681307203096533,2.681307203096533,2.681307203096533,2.681307203096533,2.681307203096533,2.681307203096533,2.681307203096533,2.681307203096533,2.681307203096533,2.681307203096533,2.681307203096533,2.681307203096533,2.681307203096533,2.681307203096533,2.681307203096533,2.681307203096533,2.681307203096533,2.681307203096533,2.681307203096533,2.681307203096533,2.681307203096533,2.681307203096533,2.681307203096533,2.681307203096533,2.681307203096533,2.681307203096533,2.681307203096533,2.681307203096533,2.681307203096533,2.681307203096533,2.681307203096533,2.681307203096533,2.681307203096533,2.681307203096533,2.681307203096533,2.681307203096533,2.681307203096533,2.681307203096533,2.681307203096533,2.681307203096533,2.681307203096533,2.681307203096533,2.681307203096533,2.681307203096533,2.681307203096533,2.681307203096533,2.681307203096533,2.681307203096533,2.681307203096533,2.681307203096533,2.681307203096533,2.681307203096533,2.681307203096533,2.681307203096533,2.681307203096533,2.681307203096533,2.7554540878391234,2.7554540878391234,2.7554540878391234,2.7554540878391234,2.7554540878391234,2.7554540878391234,2.7554540878391234,3.017835662226979,3.017835662226979,3.017835662226979,3.017835662226979,3.017835662226979,3.017835662226979,3.017835662226979,3.017835662226979,3.017835662226979,3.017835662226979,3.017835662226979,3.017835662226979,3.017835662226979,3.017835662226979,3.017835662226979,3.017835662226979,3.017835662226979,3.017835662226979,3.017835662226979,3.017835662226979,3.017835662226979,3.017835662226979,3.017835662226979,3.017835662226979,3.017835662226979,3.017835662226979,3.017835662226979,3.017835662226979,3.017835662226979,3.017835662226979,3.017835662226979,3.017835662226979,3.017835662226979,3.017835662226979,3.017835662226979,3.017835662226979,3.017835662226979,3.017835662226979,3.017835662226979,3.017835662226979,3.017835662226979,3.017835662226979,3.017835662226979,3.017835662226979,3.017835662226979,3.017835662226979,3.017835662226979,3.017835662226979,3.017835662226979,3.017835662226979,3.017835662226979,3.017835662226979,3.017835662226979,3.017835662226979,3.017835662226979,3.017835662226979,3.017835662226979,3.017835662226979,3.017835662226979,3.017835662226979,3.017835662226979,3.017835662226979,3.017835662226979,3.017835662226979,3.017835662226979,3.017835662226979,3.017835662226979,3.017835662226979,3.017835662226979,3.017835662226979,3.017835662226979,3.017835662226979,3.017835662226979,3.017835662226979,3.017835662226979,3.017835662226979,3.017835662226979,3.017835662226979,3.017835662226979,3.017835662226979,3.017835662226979,3.017835662226979,3.017835662226979,3.017835662226979,3.017835662226979,3.017835662226979,3.017835662226979,3.017835662226979,3.017835662226979,3.017835662226979,3.017835662226979,3.017835662226979,3.017835662226979,3.017835662226979,3.017835662226979,3.017835662226979,3.017835662226979,3.017835662226979,3.017835662226979,3.017835662226979,3.017835662226979,3.017835662226979,3.017835662226979,3.017835662226979,3.017835662226979,3.017835662226979,3.017835662226979,3.017835662226979,3.017835662226979,3.017835662226979,3.017835662226979,3.017835662226979,3.017835662226979,3.017835662226979,3.017835662226979,3.017835662226979,3.017835662226979,3.017835662226979,3.017835662226979,3.017835662226979,3.017835662226979,3.017835662226979,3.017835662226979,3.017835662226979,3.017835662226979,3.017835662226979,3.017835662226979,3.017835662226979,3.017835662226979,3.017835662226979,3.017835662226979,3.017835662226979,3.017835662226979,3.017835662226979,3.017835662226979,3.017835662226979,3.017835662226979,3.017835662226979,3.017835662226979,3.017835662226979,3.017835662226979,3.017835662226979,3.017835662226979,3.017835662226979,3.017835662226979,3.017835662226979,3.017835662226979,3.017835662226979,3.017835662226979,3.017835662226979,3.017835662226979,3.017835662226979,3.017835662226979,3.017835662226979,3.017835662226979,3.017835662226979,3.017835662226979,3.017835662226979,3.017835662226979,3.017835662226979,3.017835662226979,3.017835662226979,3.017835662226979,3.017835662226979,3.017835662226979,3.017835662226979,3.017835662226979,3.017835662226979,3.017835662226979,3.017835662226979,3.017835662226979,3.017835662226979,3.017835662226979,3.017835662226979,3.017835662226979,3.017835662226979,3.017835662226979,3.017835662226979,3.017835662226979,3.017835662226979,3.017835662226979,3.017835662226979,3.017835662226979,3.017835662226979,3.017835662226979,3.017835662226979,3.017835662226979,3.017835662226979,3.017835662226979,3.017835662226979,3.017835662226979,3.017835662226979,3.017835662226979,3.017835662226979,3.017835662226979,3.017835662226979,3.017835662226979,3.017835662226979,3.017835662226979,3.017835662226979,3.017835662226979,3.017835662226979,3.017835662226979,3.017835662226979,3.017835662226979,3.017835662226979,3.017835662226979,3.017835662226979,3.017835662226979,3.017835662226979,3.017835662226979,3.017835662226979,3.017835662226979,3.017835662226979,3.017835662226979,3.017835662226979,3.017835662226979,3.017835662226979,3.017835662226979,3.017835662226979,3.017835662226979,3.017835662226979,3.017835662226979,3.017835662226979,3.017835662226979,3.017835662226979,3.017835662226979,3.017835662226979,3.017835662226979,3.017835662226979,3.017835662226979,3.017835662226979,3.017835662226979,3.017835662226979,3.017835662226979,3.017835662226979,3.017835662226979,3.017835662226979,3.017835662226979,3.017835662226979,3.017835662226979,3.017835662226979,3.017835662226979,3.017835662226979,3.017835662226979,3.017835662226979,3.017835662226979,3.017835662226979,3.017835662226979,3.017835662226979,3.017835662226979,3.017835662226979,3.017835662226979,3.017835662226979,3.017835662226979,3.017835662226979,3.017835662226979,3.017835662226979,3.017835662226979,3.017835662226979,3.017835662226979,3.017835662226979,3.017835662226979,3.017835662226979,3.017835662226979,3.017835662226979,3.017835662226979,3.017835662226979,3.017835662226979,3.017835662226979,3.017835662226979,3.017835662226979,3.017835662226979,3.017835662226979,3.017835662226979,3.017835662226979,3.017835662226979,3.017835662226979,3.017835662226979,3.017835662226979,3.017835662226979,3.017835662226979,3.017835662226979,3.017835662226979,3.017835662226979,3.017835662226979,3.017835662226979,3.017835662226979,3.017835662226979,3.017835662226979,3.017835662226979,3.017835662226979,3.017835662226979,3.017835662226979,3.017835662226979,3.017835662226979,3.017835662226979,3.017835662226979,3.017835662226979,3.017835662226979,3.017835662226979,3.017835662226979,3.017835662226979,3.017835662226979,3.017835662226979,3.017835662226979,3.017835662226979,3.017835662226979,3.017835662226979,3.017835662226979,3.017835662226979,3.017835662226979,3.017835662226979,3.017835662226979,3.017835662226979,3.017835662226979,3.017835662226979,3.017835662226979,3.017835662226979,3.3280456841112254,3.3280456841112254,3.3280456841112254,3.3280456841112254,3.3280456841112254,3.3280456841112254,3.3280456841112254,3.3280456841112254,3.3280456841112254,3.3280456841112254,3.3280456841112254,3.3280456841112254,3.3280456841112254,3.3280456841112254,3.3280456841112254,3.3280456841112254,3.3280456841112254,3.3280456841112254,3.3280456841112254,3.3280456841112254,3.3280456841112254,3.3280456841112254,3.3280456841112254,3.3280456841112254,3.3280456841112254,3.3280456841112254,3.3280456841112254,3.3280456841112254,3.3280456841112254,3.3280456841112254,3.3280456841112254,3.3280456841112254,3.3280456841112254,3.3280456841112254,3.3280456841112254,3.3280456841112254,3.3280456841112254,3.3280456841112254,3.3280456841112254,3.3280456841112254,3.3280456841112254,3.3280456841112254,3.3280456841112254,3.3280456841112254,3.3280456841112254,3.3280456841112254,3.3280456841112254,3.3280456841112254,3.3280456841112254,3.3280456841112254,3.3280456841112254,3.3280456841112254,3.3280456841112254,3.3280456841112254,3.3280456841112254,3.3280456841112254,3.3280456841112254,3.3280456841112254,3.3280456841112254,3.3280456841112254,3.3280456841112254,3.3280456841112254,3.3280456841112254,3.3280456841112254,3.3280456841112254,3.3280456841112254,3.3280456841112254,3.3280456841112254,3.3280456841112254,3.3280456841112254,3.3280456841112254,3.3280456841112254,3.3280456841112254,3.3280456841112254,3.3280456841112254,3.3280456841112254,3.3280456841112254,3.3280456841112254,3.3280456841112254,3.3280456841112254,3.3280456841112254,3.3280456841112254,3.3280456841112254,3.3280456841112254,3.3280456841112254,3.3280456841112254,3.3280456841112254,3.3280456841112254,3.3280456841112254,3.3280456841112254,3.3280456841112254,3.3280456841112254,3.3280456841112254,3.3280456841112254,3.3280456841112254,3.3280456841112254,3.3280456841112254,3.3280456841112254,3.3280456841112254,3.3280456841112254,3.3280456841112254,3.3280456841112254,3.3280456841112254,3.3280456841112254,3.3280456841112254,3.3280456841112254,3.3280456841112254,3.3280456841112254,3.3280456841112254,3.3280456841112254,3.3280456841112254,3.3280456841112254,3.3280456841112254,3.3280456841112254,3.3280456841112254,3.3280456841112254,3.3280456841112254,3.3280456841112254,3.3280456841112254,3.3280456841112254,3.3280456841112254,3.3280456841112254,3.3280456841112254,3.3280456841112254,3.3280456841112254,3.3280456841112254,3.3280456841112254,3.3280456841112254,3.3280456841112254,3.3280456841112254,3.3280456841112254,3.3280456841112254,3.3280456841112254,3.3280456841112254,3.3280456841112254,3.3280456841112254,3.3280456841112254,3.3280456841112254,3.3280456841112254,3.3280456841112254,3.3280456841112254,3.3280456841112254,3.3280456841112254,3.3280456841112254,3.3280456841112254,3.3280456841112254,3.3280456841112254,3.3280456841112254,3.3280456841112254,3.3280456841112254,3.3280456841112254,3.3280456841112254,3.3280456841112254,3.3280456841112254,3.3280456841112254,3.3280456841112254,3.3280456841112254,3.3280456841112254,3.3280456841112254,3.3280456841112254,3.3280456841112254,3.3280456841112254,3.3280456841112254,3.3280456841112254,3.3280456841112254,3.3280456841112254,3.3280456841112254,3.3280456841112254,3.3280456841112254,3.3280456841112254,3.3280456841112254,3.3280456841112254,3.3280456841112254,3.3280456841112254,3.3280456841112254,3.3280456841112254,3.3280456841112254,3.3280456841112254,3.3280456841112254,3.3280456841112254,3.3280456841112254,3.3280456841112254,3.3280456841112254,3.3280456841112254,3.3280456841112254,3.3280456841112254,3.3280456841112254,3.3280456841112254,3.3280456841112254,3.3280456841112254,3.3280456841112254,3.3280456841112254,3.3280456841112254,3.3280456841112254,3.3280456841112254,3.3280456841112254,3.3280456841112254,3.3280456841112254,3.3280456841112254,3.3280456841112254,3.3280456841112254,3.3280456841112254,3.3280456841112254,3.3280456841112254,3.3280456841112254,3.3280456841112254,3.3280456841112254,3.3280456841112254,3.3280456841112254,3.3280456841112254,3.3280456841112254,3.3280456841112254,3.3280456841112254,3.3280456841112254,3.3280456841112254,3.3280456841112254,3.3280456841112254,3.3280456841112254,3.3280456841112254,3.3280456841112254,3.3280456841112254,3.3280456841112254,3.3280456841112254,3.3280456841112254,3.3280456841112254,3.3280456841112254,3.3280456841112254,3.3280456841112254,3.3280456841112254,3.3280456841112254,3.3280456841112254,3.3280456841112254,3.3280456841112254,3.3280456841112254,3.3280456841112254,3.3280456841112254,3.3280456841112254,3.3280456841112254,3.3280456841112254,3.3280456841112254,3.3280456841112254,3.3280456841112254,3.3280456841112254,3.3280456841112254,3.3280456841112254,3.3280456841112254,3.3280456841112254,3.3280456841112254,3.3280456841112254,3.3280456841112254,3.3280456841112254,3.3280456841112254,3.3280456841112254,3.3280456841112254,3.3280456841112254,3.3280456841112254,3.3280456841112254,3.3280456841112254,3.3280456841112254,3.3280456841112254,3.3280456841112254,3.3280456841112254,3.3314096124744133,3.3314096124744133,3.3314096124744133,3.3314096124744133,3.3314096124744133,3.3314096124744133,3.3314096124744133,3.3314096124744133,3.3314096124744133,3.3314096124744133,3.3314096124744133,3.3314096124744133,3.3314096124744133,3.3314096124744133,3.3314096124744133,3.3314096124744133,3.3314096124744133,3.3314096124744133,3.3314096124744133,3.3314096124744133,3.3314096124744133,3.3314096124744133,3.3314096124744133,3.3314096124744133,3.3314096124744133,3.3314096124744133,3.3314096124744133,3.3314096124744133,3.3314096124744133,3.3314096124744133,3.3314096124744133,3.3314096124744133,3.3314096124744133,3.3314096124744133,3.3314096124744133,3.3314096124744133,3.3314096124744133,3.3314096124744133,3.3314096124744133,3.3314096124744133,3.3314096124744133,3.3314096124744133,3.3314096124744133,3.3314096124744133,3.3314096124744133,3.3314096124744133,3.3314096124744133,3.3314096124744133,3.3314096124744133,3.3314096124744133,3.3314096124744133,3.3314096124744133,3.3314096124744133,3.3314096124744133,3.3314096124744133,3.3314096124744133,3.3314096124744133,3.3314096124744133,3.3314096124744133,3.3314096124744133,3.3314096124744133,3.3314096124744133,3.3314096124744133,3.3314096124744133,3.3314096124744133,3.3314096124744133,3.3314096124744133,3.3314096124744133,3.3314096124744133,3.3314096124744133,3.3314096124744133,3.3314096124744133,3.3314096124744133,3.3314096124744133,3.3314096124744133,3.3314096124744133,3.3314096124744133,3.3314096124744133,3.3314096124744133,3.3314096124744133,3.3314096124744133,3.3314096124744133,3.3314096124744133,3.3314096124744133,3.3314096124744133,3.3314096124744133,3.3314096124744133,3.3314096124744133,3.3314096124744133,3.3314096124744133,3.3314096124744133,3.3314096124744133,3.3314096124744133,3.3314096124744133,3.3314096124744133,3.3314096124744133,3.3314096124744133,3.3314096124744133,3.3314096124744133,3.3314096124744133,3.3314096124744133,3.3314096124744133,3.3314096124744133,3.3314096124744133,3.3314096124744133,3.3314096124744133,3.3314096124744133,3.3314096124744133,3.3314096124744133,3.3314096124744133,3.3314096124744133,3.3314096124744133,3.3314096124744133,3.3314096124744133,3.3314096124744133,3.3314096124744133,3.3314096124744133,3.3314096124744133,3.3314096124744133,3.3314096124744133,3.3314096124744133,3.3314096124744133,3.3314096124744133,3.3314096124744133,3.3314096124744133,3.3314096124744133,3.3314096124744133,3.3314096124744133,3.3314096124744133,3.3314096124744133,3.3314096124744133,3.3314096124744133,3.3314096124744133,3.3314096124744133,3.3314096124744133,3.3314096124744133,3.3314096124744133,3.3314096124744133,3.3314096124744133,3.3314096124744133,3.3314096124744133,3.3314096124744133,3.3314096124744133,3.3314096124744133,3.3314096124744133,3.3314096124744133,3.3314096124744133,3.3314096124744133,3.3314096124744133,3.3314096124744133,3.3314096124744133,3.3314096124744133,3.3314096124744133,3.3314096124744133,3.3314096124744133,3.3314096124744133,3.3314096124744133,3.3314096124744133,3.3314096124744133,3.3314096124744133,3.3314096124744133,3.3314096124744133,3.3314096124744133,3.3314096124744133,3.3314096124744133,3.3314096124744133,3.3314096124744133,3.3314096124744133,3.3314096124744133,3.3314096124744133,3.3314096124744133,3.3314096124744133,3.3314096124744133,3.3314096124744133,3.3314096124744133,3.3314096124744133,3.3314096124744133,3.3314096124744133,3.3314096124744133,3.3314096124744133,3.3314096124744133,3.3314096124744133,3.3314096124744133,3.3314096124744133,3.3314096124744133,3.3314096124744133,3.3314096124744133],\"yaxis\":\"y\",\"type\":\"scattergl\"},{\"hovertemplate\":\"variable=D\\u003cbr\\u003eindex=%{x}\\u003cbr\\u003evalue=%{y}\\u003cextra\\u003e\\u003c\\u002fextra\\u003e\",\"legendgroup\":\"D\",\"line\":{\"color\":\"#ab63fa\",\"dash\":\"solid\"},\"marker\":{\"symbol\":\"circle\"},\"mode\":\"lines\",\"name\":\"D\",\"showlegend\":true,\"x\":[\"2000-01-01T00:00:00\",\"2000-01-02T00:00:00\",\"2000-01-03T00:00:00\",\"2000-01-04T00:00:00\",\"2000-01-05T00:00:00\",\"2000-01-06T00:00:00\",\"2000-01-07T00:00:00\",\"2000-01-08T00:00:00\",\"2000-01-09T00:00:00\",\"2000-01-10T00:00:00\",\"2000-01-11T00:00:00\",\"2000-01-12T00:00:00\",\"2000-01-13T00:00:00\",\"2000-01-14T00:00:00\",\"2000-01-15T00:00:00\",\"2000-01-16T00:00:00\",\"2000-01-17T00:00:00\",\"2000-01-18T00:00:00\",\"2000-01-19T00:00:00\",\"2000-01-20T00:00:00\",\"2000-01-21T00:00:00\",\"2000-01-22T00:00:00\",\"2000-01-23T00:00:00\",\"2000-01-24T00:00:00\",\"2000-01-25T00:00:00\",\"2000-01-26T00:00:00\",\"2000-01-27T00:00:00\",\"2000-01-28T00:00:00\",\"2000-01-29T00:00:00\",\"2000-01-30T00:00:00\",\"2000-01-31T00:00:00\",\"2000-02-01T00:00:00\",\"2000-02-02T00:00:00\",\"2000-02-03T00:00:00\",\"2000-02-04T00:00:00\",\"2000-02-05T00:00:00\",\"2000-02-06T00:00:00\",\"2000-02-07T00:00:00\",\"2000-02-08T00:00:00\",\"2000-02-09T00:00:00\",\"2000-02-10T00:00:00\",\"2000-02-11T00:00:00\",\"2000-02-12T00:00:00\",\"2000-02-13T00:00:00\",\"2000-02-14T00:00:00\",\"2000-02-15T00:00:00\",\"2000-02-16T00:00:00\",\"2000-02-17T00:00:00\",\"2000-02-18T00:00:00\",\"2000-02-19T00:00:00\",\"2000-02-20T00:00:00\",\"2000-02-21T00:00:00\",\"2000-02-22T00:00:00\",\"2000-02-23T00:00:00\",\"2000-02-24T00:00:00\",\"2000-02-25T00:00:00\",\"2000-02-26T00:00:00\",\"2000-02-27T00:00:00\",\"2000-02-28T00:00:00\",\"2000-02-29T00:00:00\",\"2000-03-01T00:00:00\",\"2000-03-02T00:00:00\",\"2000-03-03T00:00:00\",\"2000-03-04T00:00:00\",\"2000-03-05T00:00:00\",\"2000-03-06T00:00:00\",\"2000-03-07T00:00:00\",\"2000-03-08T00:00:00\",\"2000-03-09T00:00:00\",\"2000-03-10T00:00:00\",\"2000-03-11T00:00:00\",\"2000-03-12T00:00:00\",\"2000-03-13T00:00:00\",\"2000-03-14T00:00:00\",\"2000-03-15T00:00:00\",\"2000-03-16T00:00:00\",\"2000-03-17T00:00:00\",\"2000-03-18T00:00:00\",\"2000-03-19T00:00:00\",\"2000-03-20T00:00:00\",\"2000-03-21T00:00:00\",\"2000-03-22T00:00:00\",\"2000-03-23T00:00:00\",\"2000-03-24T00:00:00\",\"2000-03-25T00:00:00\",\"2000-03-26T00:00:00\",\"2000-03-27T00:00:00\",\"2000-03-28T00:00:00\",\"2000-03-29T00:00:00\",\"2000-03-30T00:00:00\",\"2000-03-31T00:00:00\",\"2000-04-01T00:00:00\",\"2000-04-02T00:00:00\",\"2000-04-03T00:00:00\",\"2000-04-04T00:00:00\",\"2000-04-05T00:00:00\",\"2000-04-06T00:00:00\",\"2000-04-07T00:00:00\",\"2000-04-08T00:00:00\",\"2000-04-09T00:00:00\",\"2000-04-10T00:00:00\",\"2000-04-11T00:00:00\",\"2000-04-12T00:00:00\",\"2000-04-13T00:00:00\",\"2000-04-14T00:00:00\",\"2000-04-15T00:00:00\",\"2000-04-16T00:00:00\",\"2000-04-17T00:00:00\",\"2000-04-18T00:00:00\",\"2000-04-19T00:00:00\",\"2000-04-20T00:00:00\",\"2000-04-21T00:00:00\",\"2000-04-22T00:00:00\",\"2000-04-23T00:00:00\",\"2000-04-24T00:00:00\",\"2000-04-25T00:00:00\",\"2000-04-26T00:00:00\",\"2000-04-27T00:00:00\",\"2000-04-28T00:00:00\",\"2000-04-29T00:00:00\",\"2000-04-30T00:00:00\",\"2000-05-01T00:00:00\",\"2000-05-02T00:00:00\",\"2000-05-03T00:00:00\",\"2000-05-04T00:00:00\",\"2000-05-05T00:00:00\",\"2000-05-06T00:00:00\",\"2000-05-07T00:00:00\",\"2000-05-08T00:00:00\",\"2000-05-09T00:00:00\",\"2000-05-10T00:00:00\",\"2000-05-11T00:00:00\",\"2000-05-12T00:00:00\",\"2000-05-13T00:00:00\",\"2000-05-14T00:00:00\",\"2000-05-15T00:00:00\",\"2000-05-16T00:00:00\",\"2000-05-17T00:00:00\",\"2000-05-18T00:00:00\",\"2000-05-19T00:00:00\",\"2000-05-20T00:00:00\",\"2000-05-21T00:00:00\",\"2000-05-22T00:00:00\",\"2000-05-23T00:00:00\",\"2000-05-24T00:00:00\",\"2000-05-25T00:00:00\",\"2000-05-26T00:00:00\",\"2000-05-27T00:00:00\",\"2000-05-28T00:00:00\",\"2000-05-29T00:00:00\",\"2000-05-30T00:00:00\",\"2000-05-31T00:00:00\",\"2000-06-01T00:00:00\",\"2000-06-02T00:00:00\",\"2000-06-03T00:00:00\",\"2000-06-04T00:00:00\",\"2000-06-05T00:00:00\",\"2000-06-06T00:00:00\",\"2000-06-07T00:00:00\",\"2000-06-08T00:00:00\",\"2000-06-09T00:00:00\",\"2000-06-10T00:00:00\",\"2000-06-11T00:00:00\",\"2000-06-12T00:00:00\",\"2000-06-13T00:00:00\",\"2000-06-14T00:00:00\",\"2000-06-15T00:00:00\",\"2000-06-16T00:00:00\",\"2000-06-17T00:00:00\",\"2000-06-18T00:00:00\",\"2000-06-19T00:00:00\",\"2000-06-20T00:00:00\",\"2000-06-21T00:00:00\",\"2000-06-22T00:00:00\",\"2000-06-23T00:00:00\",\"2000-06-24T00:00:00\",\"2000-06-25T00:00:00\",\"2000-06-26T00:00:00\",\"2000-06-27T00:00:00\",\"2000-06-28T00:00:00\",\"2000-06-29T00:00:00\",\"2000-06-30T00:00:00\",\"2000-07-01T00:00:00\",\"2000-07-02T00:00:00\",\"2000-07-03T00:00:00\",\"2000-07-04T00:00:00\",\"2000-07-05T00:00:00\",\"2000-07-06T00:00:00\",\"2000-07-07T00:00:00\",\"2000-07-08T00:00:00\",\"2000-07-09T00:00:00\",\"2000-07-10T00:00:00\",\"2000-07-11T00:00:00\",\"2000-07-12T00:00:00\",\"2000-07-13T00:00:00\",\"2000-07-14T00:00:00\",\"2000-07-15T00:00:00\",\"2000-07-16T00:00:00\",\"2000-07-17T00:00:00\",\"2000-07-18T00:00:00\",\"2000-07-19T00:00:00\",\"2000-07-20T00:00:00\",\"2000-07-21T00:00:00\",\"2000-07-22T00:00:00\",\"2000-07-23T00:00:00\",\"2000-07-24T00:00:00\",\"2000-07-25T00:00:00\",\"2000-07-26T00:00:00\",\"2000-07-27T00:00:00\",\"2000-07-28T00:00:00\",\"2000-07-29T00:00:00\",\"2000-07-30T00:00:00\",\"2000-07-31T00:00:00\",\"2000-08-01T00:00:00\",\"2000-08-02T00:00:00\",\"2000-08-03T00:00:00\",\"2000-08-04T00:00:00\",\"2000-08-05T00:00:00\",\"2000-08-06T00:00:00\",\"2000-08-07T00:00:00\",\"2000-08-08T00:00:00\",\"2000-08-09T00:00:00\",\"2000-08-10T00:00:00\",\"2000-08-11T00:00:00\",\"2000-08-12T00:00:00\",\"2000-08-13T00:00:00\",\"2000-08-14T00:00:00\",\"2000-08-15T00:00:00\",\"2000-08-16T00:00:00\",\"2000-08-17T00:00:00\",\"2000-08-18T00:00:00\",\"2000-08-19T00:00:00\",\"2000-08-20T00:00:00\",\"2000-08-21T00:00:00\",\"2000-08-22T00:00:00\",\"2000-08-23T00:00:00\",\"2000-08-24T00:00:00\",\"2000-08-25T00:00:00\",\"2000-08-26T00:00:00\",\"2000-08-27T00:00:00\",\"2000-08-28T00:00:00\",\"2000-08-29T00:00:00\",\"2000-08-30T00:00:00\",\"2000-08-31T00:00:00\",\"2000-09-01T00:00:00\",\"2000-09-02T00:00:00\",\"2000-09-03T00:00:00\",\"2000-09-04T00:00:00\",\"2000-09-05T00:00:00\",\"2000-09-06T00:00:00\",\"2000-09-07T00:00:00\",\"2000-09-08T00:00:00\",\"2000-09-09T00:00:00\",\"2000-09-10T00:00:00\",\"2000-09-11T00:00:00\",\"2000-09-12T00:00:00\",\"2000-09-13T00:00:00\",\"2000-09-14T00:00:00\",\"2000-09-15T00:00:00\",\"2000-09-16T00:00:00\",\"2000-09-17T00:00:00\",\"2000-09-18T00:00:00\",\"2000-09-19T00:00:00\",\"2000-09-20T00:00:00\",\"2000-09-21T00:00:00\",\"2000-09-22T00:00:00\",\"2000-09-23T00:00:00\",\"2000-09-24T00:00:00\",\"2000-09-25T00:00:00\",\"2000-09-26T00:00:00\",\"2000-09-27T00:00:00\",\"2000-09-28T00:00:00\",\"2000-09-29T00:00:00\",\"2000-09-30T00:00:00\",\"2000-10-01T00:00:00\",\"2000-10-02T00:00:00\",\"2000-10-03T00:00:00\",\"2000-10-04T00:00:00\",\"2000-10-05T00:00:00\",\"2000-10-06T00:00:00\",\"2000-10-07T00:00:00\",\"2000-10-08T00:00:00\",\"2000-10-09T00:00:00\",\"2000-10-10T00:00:00\",\"2000-10-11T00:00:00\",\"2000-10-12T00:00:00\",\"2000-10-13T00:00:00\",\"2000-10-14T00:00:00\",\"2000-10-15T00:00:00\",\"2000-10-16T00:00:00\",\"2000-10-17T00:00:00\",\"2000-10-18T00:00:00\",\"2000-10-19T00:00:00\",\"2000-10-20T00:00:00\",\"2000-10-21T00:00:00\",\"2000-10-22T00:00:00\",\"2000-10-23T00:00:00\",\"2000-10-24T00:00:00\",\"2000-10-25T00:00:00\",\"2000-10-26T00:00:00\",\"2000-10-27T00:00:00\",\"2000-10-28T00:00:00\",\"2000-10-29T00:00:00\",\"2000-10-30T00:00:00\",\"2000-10-31T00:00:00\",\"2000-11-01T00:00:00\",\"2000-11-02T00:00:00\",\"2000-11-03T00:00:00\",\"2000-11-04T00:00:00\",\"2000-11-05T00:00:00\",\"2000-11-06T00:00:00\",\"2000-11-07T00:00:00\",\"2000-11-08T00:00:00\",\"2000-11-09T00:00:00\",\"2000-11-10T00:00:00\",\"2000-11-11T00:00:00\",\"2000-11-12T00:00:00\",\"2000-11-13T00:00:00\",\"2000-11-14T00:00:00\",\"2000-11-15T00:00:00\",\"2000-11-16T00:00:00\",\"2000-11-17T00:00:00\",\"2000-11-18T00:00:00\",\"2000-11-19T00:00:00\",\"2000-11-20T00:00:00\",\"2000-11-21T00:00:00\",\"2000-11-22T00:00:00\",\"2000-11-23T00:00:00\",\"2000-11-24T00:00:00\",\"2000-11-25T00:00:00\",\"2000-11-26T00:00:00\",\"2000-11-27T00:00:00\",\"2000-11-28T00:00:00\",\"2000-11-29T00:00:00\",\"2000-11-30T00:00:00\",\"2000-12-01T00:00:00\",\"2000-12-02T00:00:00\",\"2000-12-03T00:00:00\",\"2000-12-04T00:00:00\",\"2000-12-05T00:00:00\",\"2000-12-06T00:00:00\",\"2000-12-07T00:00:00\",\"2000-12-08T00:00:00\",\"2000-12-09T00:00:00\",\"2000-12-10T00:00:00\",\"2000-12-11T00:00:00\",\"2000-12-12T00:00:00\",\"2000-12-13T00:00:00\",\"2000-12-14T00:00:00\",\"2000-12-15T00:00:00\",\"2000-12-16T00:00:00\",\"2000-12-17T00:00:00\",\"2000-12-18T00:00:00\",\"2000-12-19T00:00:00\",\"2000-12-20T00:00:00\",\"2000-12-21T00:00:00\",\"2000-12-22T00:00:00\",\"2000-12-23T00:00:00\",\"2000-12-24T00:00:00\",\"2000-12-25T00:00:00\",\"2000-12-26T00:00:00\",\"2000-12-27T00:00:00\",\"2000-12-28T00:00:00\",\"2000-12-29T00:00:00\",\"2000-12-30T00:00:00\",\"2000-12-31T00:00:00\",\"2001-01-01T00:00:00\",\"2001-01-02T00:00:00\",\"2001-01-03T00:00:00\",\"2001-01-04T00:00:00\",\"2001-01-05T00:00:00\",\"2001-01-06T00:00:00\",\"2001-01-07T00:00:00\",\"2001-01-08T00:00:00\",\"2001-01-09T00:00:00\",\"2001-01-10T00:00:00\",\"2001-01-11T00:00:00\",\"2001-01-12T00:00:00\",\"2001-01-13T00:00:00\",\"2001-01-14T00:00:00\",\"2001-01-15T00:00:00\",\"2001-01-16T00:00:00\",\"2001-01-17T00:00:00\",\"2001-01-18T00:00:00\",\"2001-01-19T00:00:00\",\"2001-01-20T00:00:00\",\"2001-01-21T00:00:00\",\"2001-01-22T00:00:00\",\"2001-01-23T00:00:00\",\"2001-01-24T00:00:00\",\"2001-01-25T00:00:00\",\"2001-01-26T00:00:00\",\"2001-01-27T00:00:00\",\"2001-01-28T00:00:00\",\"2001-01-29T00:00:00\",\"2001-01-30T00:00:00\",\"2001-01-31T00:00:00\",\"2001-02-01T00:00:00\",\"2001-02-02T00:00:00\",\"2001-02-03T00:00:00\",\"2001-02-04T00:00:00\",\"2001-02-05T00:00:00\",\"2001-02-06T00:00:00\",\"2001-02-07T00:00:00\",\"2001-02-08T00:00:00\",\"2001-02-09T00:00:00\",\"2001-02-10T00:00:00\",\"2001-02-11T00:00:00\",\"2001-02-12T00:00:00\",\"2001-02-13T00:00:00\",\"2001-02-14T00:00:00\",\"2001-02-15T00:00:00\",\"2001-02-16T00:00:00\",\"2001-02-17T00:00:00\",\"2001-02-18T00:00:00\",\"2001-02-19T00:00:00\",\"2001-02-20T00:00:00\",\"2001-02-21T00:00:00\",\"2001-02-22T00:00:00\",\"2001-02-23T00:00:00\",\"2001-02-24T00:00:00\",\"2001-02-25T00:00:00\",\"2001-02-26T00:00:00\",\"2001-02-27T00:00:00\",\"2001-02-28T00:00:00\",\"2001-03-01T00:00:00\",\"2001-03-02T00:00:00\",\"2001-03-03T00:00:00\",\"2001-03-04T00:00:00\",\"2001-03-05T00:00:00\",\"2001-03-06T00:00:00\",\"2001-03-07T00:00:00\",\"2001-03-08T00:00:00\",\"2001-03-09T00:00:00\",\"2001-03-10T00:00:00\",\"2001-03-11T00:00:00\",\"2001-03-12T00:00:00\",\"2001-03-13T00:00:00\",\"2001-03-14T00:00:00\",\"2001-03-15T00:00:00\",\"2001-03-16T00:00:00\",\"2001-03-17T00:00:00\",\"2001-03-18T00:00:00\",\"2001-03-19T00:00:00\",\"2001-03-20T00:00:00\",\"2001-03-21T00:00:00\",\"2001-03-22T00:00:00\",\"2001-03-23T00:00:00\",\"2001-03-24T00:00:00\",\"2001-03-25T00:00:00\",\"2001-03-26T00:00:00\",\"2001-03-27T00:00:00\",\"2001-03-28T00:00:00\",\"2001-03-29T00:00:00\",\"2001-03-30T00:00:00\",\"2001-03-31T00:00:00\",\"2001-04-01T00:00:00\",\"2001-04-02T00:00:00\",\"2001-04-03T00:00:00\",\"2001-04-04T00:00:00\",\"2001-04-05T00:00:00\",\"2001-04-06T00:00:00\",\"2001-04-07T00:00:00\",\"2001-04-08T00:00:00\",\"2001-04-09T00:00:00\",\"2001-04-10T00:00:00\",\"2001-04-11T00:00:00\",\"2001-04-12T00:00:00\",\"2001-04-13T00:00:00\",\"2001-04-14T00:00:00\",\"2001-04-15T00:00:00\",\"2001-04-16T00:00:00\",\"2001-04-17T00:00:00\",\"2001-04-18T00:00:00\",\"2001-04-19T00:00:00\",\"2001-04-20T00:00:00\",\"2001-04-21T00:00:00\",\"2001-04-22T00:00:00\",\"2001-04-23T00:00:00\",\"2001-04-24T00:00:00\",\"2001-04-25T00:00:00\",\"2001-04-26T00:00:00\",\"2001-04-27T00:00:00\",\"2001-04-28T00:00:00\",\"2001-04-29T00:00:00\",\"2001-04-30T00:00:00\",\"2001-05-01T00:00:00\",\"2001-05-02T00:00:00\",\"2001-05-03T00:00:00\",\"2001-05-04T00:00:00\",\"2001-05-05T00:00:00\",\"2001-05-06T00:00:00\",\"2001-05-07T00:00:00\",\"2001-05-08T00:00:00\",\"2001-05-09T00:00:00\",\"2001-05-10T00:00:00\",\"2001-05-11T00:00:00\",\"2001-05-12T00:00:00\",\"2001-05-13T00:00:00\",\"2001-05-14T00:00:00\",\"2001-05-15T00:00:00\",\"2001-05-16T00:00:00\",\"2001-05-17T00:00:00\",\"2001-05-18T00:00:00\",\"2001-05-19T00:00:00\",\"2001-05-20T00:00:00\",\"2001-05-21T00:00:00\",\"2001-05-22T00:00:00\",\"2001-05-23T00:00:00\",\"2001-05-24T00:00:00\",\"2001-05-25T00:00:00\",\"2001-05-26T00:00:00\",\"2001-05-27T00:00:00\",\"2001-05-28T00:00:00\",\"2001-05-29T00:00:00\",\"2001-05-30T00:00:00\",\"2001-05-31T00:00:00\",\"2001-06-01T00:00:00\",\"2001-06-02T00:00:00\",\"2001-06-03T00:00:00\",\"2001-06-04T00:00:00\",\"2001-06-05T00:00:00\",\"2001-06-06T00:00:00\",\"2001-06-07T00:00:00\",\"2001-06-08T00:00:00\",\"2001-06-09T00:00:00\",\"2001-06-10T00:00:00\",\"2001-06-11T00:00:00\",\"2001-06-12T00:00:00\",\"2001-06-13T00:00:00\",\"2001-06-14T00:00:00\",\"2001-06-15T00:00:00\",\"2001-06-16T00:00:00\",\"2001-06-17T00:00:00\",\"2001-06-18T00:00:00\",\"2001-06-19T00:00:00\",\"2001-06-20T00:00:00\",\"2001-06-21T00:00:00\",\"2001-06-22T00:00:00\",\"2001-06-23T00:00:00\",\"2001-06-24T00:00:00\",\"2001-06-25T00:00:00\",\"2001-06-26T00:00:00\",\"2001-06-27T00:00:00\",\"2001-06-28T00:00:00\",\"2001-06-29T00:00:00\",\"2001-06-30T00:00:00\",\"2001-07-01T00:00:00\",\"2001-07-02T00:00:00\",\"2001-07-03T00:00:00\",\"2001-07-04T00:00:00\",\"2001-07-05T00:00:00\",\"2001-07-06T00:00:00\",\"2001-07-07T00:00:00\",\"2001-07-08T00:00:00\",\"2001-07-09T00:00:00\",\"2001-07-10T00:00:00\",\"2001-07-11T00:00:00\",\"2001-07-12T00:00:00\",\"2001-07-13T00:00:00\",\"2001-07-14T00:00:00\",\"2001-07-15T00:00:00\",\"2001-07-16T00:00:00\",\"2001-07-17T00:00:00\",\"2001-07-18T00:00:00\",\"2001-07-19T00:00:00\",\"2001-07-20T00:00:00\",\"2001-07-21T00:00:00\",\"2001-07-22T00:00:00\",\"2001-07-23T00:00:00\",\"2001-07-24T00:00:00\",\"2001-07-25T00:00:00\",\"2001-07-26T00:00:00\",\"2001-07-27T00:00:00\",\"2001-07-28T00:00:00\",\"2001-07-29T00:00:00\",\"2001-07-30T00:00:00\",\"2001-07-31T00:00:00\",\"2001-08-01T00:00:00\",\"2001-08-02T00:00:00\",\"2001-08-03T00:00:00\",\"2001-08-04T00:00:00\",\"2001-08-05T00:00:00\",\"2001-08-06T00:00:00\",\"2001-08-07T00:00:00\",\"2001-08-08T00:00:00\",\"2001-08-09T00:00:00\",\"2001-08-10T00:00:00\",\"2001-08-11T00:00:00\",\"2001-08-12T00:00:00\",\"2001-08-13T00:00:00\",\"2001-08-14T00:00:00\",\"2001-08-15T00:00:00\",\"2001-08-16T00:00:00\",\"2001-08-17T00:00:00\",\"2001-08-18T00:00:00\",\"2001-08-19T00:00:00\",\"2001-08-20T00:00:00\",\"2001-08-21T00:00:00\",\"2001-08-22T00:00:00\",\"2001-08-23T00:00:00\",\"2001-08-24T00:00:00\",\"2001-08-25T00:00:00\",\"2001-08-26T00:00:00\",\"2001-08-27T00:00:00\",\"2001-08-28T00:00:00\",\"2001-08-29T00:00:00\",\"2001-08-30T00:00:00\",\"2001-08-31T00:00:00\",\"2001-09-01T00:00:00\",\"2001-09-02T00:00:00\",\"2001-09-03T00:00:00\",\"2001-09-04T00:00:00\",\"2001-09-05T00:00:00\",\"2001-09-06T00:00:00\",\"2001-09-07T00:00:00\",\"2001-09-08T00:00:00\",\"2001-09-09T00:00:00\",\"2001-09-10T00:00:00\",\"2001-09-11T00:00:00\",\"2001-09-12T00:00:00\",\"2001-09-13T00:00:00\",\"2001-09-14T00:00:00\",\"2001-09-15T00:00:00\",\"2001-09-16T00:00:00\",\"2001-09-17T00:00:00\",\"2001-09-18T00:00:00\",\"2001-09-19T00:00:00\",\"2001-09-20T00:00:00\",\"2001-09-21T00:00:00\",\"2001-09-22T00:00:00\",\"2001-09-23T00:00:00\",\"2001-09-24T00:00:00\",\"2001-09-25T00:00:00\",\"2001-09-26T00:00:00\",\"2001-09-27T00:00:00\",\"2001-09-28T00:00:00\",\"2001-09-29T00:00:00\",\"2001-09-30T00:00:00\",\"2001-10-01T00:00:00\",\"2001-10-02T00:00:00\",\"2001-10-03T00:00:00\",\"2001-10-04T00:00:00\",\"2001-10-05T00:00:00\",\"2001-10-06T00:00:00\",\"2001-10-07T00:00:00\",\"2001-10-08T00:00:00\",\"2001-10-09T00:00:00\",\"2001-10-10T00:00:00\",\"2001-10-11T00:00:00\",\"2001-10-12T00:00:00\",\"2001-10-13T00:00:00\",\"2001-10-14T00:00:00\",\"2001-10-15T00:00:00\",\"2001-10-16T00:00:00\",\"2001-10-17T00:00:00\",\"2001-10-18T00:00:00\",\"2001-10-19T00:00:00\",\"2001-10-20T00:00:00\",\"2001-10-21T00:00:00\",\"2001-10-22T00:00:00\",\"2001-10-23T00:00:00\",\"2001-10-24T00:00:00\",\"2001-10-25T00:00:00\",\"2001-10-26T00:00:00\",\"2001-10-27T00:00:00\",\"2001-10-28T00:00:00\",\"2001-10-29T00:00:00\",\"2001-10-30T00:00:00\",\"2001-10-31T00:00:00\",\"2001-11-01T00:00:00\",\"2001-11-02T00:00:00\",\"2001-11-03T00:00:00\",\"2001-11-04T00:00:00\",\"2001-11-05T00:00:00\",\"2001-11-06T00:00:00\",\"2001-11-07T00:00:00\",\"2001-11-08T00:00:00\",\"2001-11-09T00:00:00\",\"2001-11-10T00:00:00\",\"2001-11-11T00:00:00\",\"2001-11-12T00:00:00\",\"2001-11-13T00:00:00\",\"2001-11-14T00:00:00\",\"2001-11-15T00:00:00\",\"2001-11-16T00:00:00\",\"2001-11-17T00:00:00\",\"2001-11-18T00:00:00\",\"2001-11-19T00:00:00\",\"2001-11-20T00:00:00\",\"2001-11-21T00:00:00\",\"2001-11-22T00:00:00\",\"2001-11-23T00:00:00\",\"2001-11-24T00:00:00\",\"2001-11-25T00:00:00\",\"2001-11-26T00:00:00\",\"2001-11-27T00:00:00\",\"2001-11-28T00:00:00\",\"2001-11-29T00:00:00\",\"2001-11-30T00:00:00\",\"2001-12-01T00:00:00\",\"2001-12-02T00:00:00\",\"2001-12-03T00:00:00\",\"2001-12-04T00:00:00\",\"2001-12-05T00:00:00\",\"2001-12-06T00:00:00\",\"2001-12-07T00:00:00\",\"2001-12-08T00:00:00\",\"2001-12-09T00:00:00\",\"2001-12-10T00:00:00\",\"2001-12-11T00:00:00\",\"2001-12-12T00:00:00\",\"2001-12-13T00:00:00\",\"2001-12-14T00:00:00\",\"2001-12-15T00:00:00\",\"2001-12-16T00:00:00\",\"2001-12-17T00:00:00\",\"2001-12-18T00:00:00\",\"2001-12-19T00:00:00\",\"2001-12-20T00:00:00\",\"2001-12-21T00:00:00\",\"2001-12-22T00:00:00\",\"2001-12-23T00:00:00\",\"2001-12-24T00:00:00\",\"2001-12-25T00:00:00\",\"2001-12-26T00:00:00\",\"2001-12-27T00:00:00\",\"2001-12-28T00:00:00\",\"2001-12-29T00:00:00\",\"2001-12-30T00:00:00\",\"2001-12-31T00:00:00\",\"2002-01-01T00:00:00\",\"2002-01-02T00:00:00\",\"2002-01-03T00:00:00\",\"2002-01-04T00:00:00\",\"2002-01-05T00:00:00\",\"2002-01-06T00:00:00\",\"2002-01-07T00:00:00\",\"2002-01-08T00:00:00\",\"2002-01-09T00:00:00\",\"2002-01-10T00:00:00\",\"2002-01-11T00:00:00\",\"2002-01-12T00:00:00\",\"2002-01-13T00:00:00\",\"2002-01-14T00:00:00\",\"2002-01-15T00:00:00\",\"2002-01-16T00:00:00\",\"2002-01-17T00:00:00\",\"2002-01-18T00:00:00\",\"2002-01-19T00:00:00\",\"2002-01-20T00:00:00\",\"2002-01-21T00:00:00\",\"2002-01-22T00:00:00\",\"2002-01-23T00:00:00\",\"2002-01-24T00:00:00\",\"2002-01-25T00:00:00\",\"2002-01-26T00:00:00\",\"2002-01-27T00:00:00\",\"2002-01-28T00:00:00\",\"2002-01-29T00:00:00\",\"2002-01-30T00:00:00\",\"2002-01-31T00:00:00\",\"2002-02-01T00:00:00\",\"2002-02-02T00:00:00\",\"2002-02-03T00:00:00\",\"2002-02-04T00:00:00\",\"2002-02-05T00:00:00\",\"2002-02-06T00:00:00\",\"2002-02-07T00:00:00\",\"2002-02-08T00:00:00\",\"2002-02-09T00:00:00\",\"2002-02-10T00:00:00\",\"2002-02-11T00:00:00\",\"2002-02-12T00:00:00\",\"2002-02-13T00:00:00\",\"2002-02-14T00:00:00\",\"2002-02-15T00:00:00\",\"2002-02-16T00:00:00\",\"2002-02-17T00:00:00\",\"2002-02-18T00:00:00\",\"2002-02-19T00:00:00\",\"2002-02-20T00:00:00\",\"2002-02-21T00:00:00\",\"2002-02-22T00:00:00\",\"2002-02-23T00:00:00\",\"2002-02-24T00:00:00\",\"2002-02-25T00:00:00\",\"2002-02-26T00:00:00\",\"2002-02-27T00:00:00\",\"2002-02-28T00:00:00\",\"2002-03-01T00:00:00\",\"2002-03-02T00:00:00\",\"2002-03-03T00:00:00\",\"2002-03-04T00:00:00\",\"2002-03-05T00:00:00\",\"2002-03-06T00:00:00\",\"2002-03-07T00:00:00\",\"2002-03-08T00:00:00\",\"2002-03-09T00:00:00\",\"2002-03-10T00:00:00\",\"2002-03-11T00:00:00\",\"2002-03-12T00:00:00\",\"2002-03-13T00:00:00\",\"2002-03-14T00:00:00\",\"2002-03-15T00:00:00\",\"2002-03-16T00:00:00\",\"2002-03-17T00:00:00\",\"2002-03-18T00:00:00\",\"2002-03-19T00:00:00\",\"2002-03-20T00:00:00\",\"2002-03-21T00:00:00\",\"2002-03-22T00:00:00\",\"2002-03-23T00:00:00\",\"2002-03-24T00:00:00\",\"2002-03-25T00:00:00\",\"2002-03-26T00:00:00\",\"2002-03-27T00:00:00\",\"2002-03-28T00:00:00\",\"2002-03-29T00:00:00\",\"2002-03-30T00:00:00\",\"2002-03-31T00:00:00\",\"2002-04-01T00:00:00\",\"2002-04-02T00:00:00\",\"2002-04-03T00:00:00\",\"2002-04-04T00:00:00\",\"2002-04-05T00:00:00\",\"2002-04-06T00:00:00\",\"2002-04-07T00:00:00\",\"2002-04-08T00:00:00\",\"2002-04-09T00:00:00\",\"2002-04-10T00:00:00\",\"2002-04-11T00:00:00\",\"2002-04-12T00:00:00\",\"2002-04-13T00:00:00\",\"2002-04-14T00:00:00\",\"2002-04-15T00:00:00\",\"2002-04-16T00:00:00\",\"2002-04-17T00:00:00\",\"2002-04-18T00:00:00\",\"2002-04-19T00:00:00\",\"2002-04-20T00:00:00\",\"2002-04-21T00:00:00\",\"2002-04-22T00:00:00\",\"2002-04-23T00:00:00\",\"2002-04-24T00:00:00\",\"2002-04-25T00:00:00\",\"2002-04-26T00:00:00\",\"2002-04-27T00:00:00\",\"2002-04-28T00:00:00\",\"2002-04-29T00:00:00\",\"2002-04-30T00:00:00\",\"2002-05-01T00:00:00\",\"2002-05-02T00:00:00\",\"2002-05-03T00:00:00\",\"2002-05-04T00:00:00\",\"2002-05-05T00:00:00\",\"2002-05-06T00:00:00\",\"2002-05-07T00:00:00\",\"2002-05-08T00:00:00\",\"2002-05-09T00:00:00\",\"2002-05-10T00:00:00\",\"2002-05-11T00:00:00\",\"2002-05-12T00:00:00\",\"2002-05-13T00:00:00\",\"2002-05-14T00:00:00\",\"2002-05-15T00:00:00\",\"2002-05-16T00:00:00\",\"2002-05-17T00:00:00\",\"2002-05-18T00:00:00\",\"2002-05-19T00:00:00\",\"2002-05-20T00:00:00\",\"2002-05-21T00:00:00\",\"2002-05-22T00:00:00\",\"2002-05-23T00:00:00\",\"2002-05-24T00:00:00\",\"2002-05-25T00:00:00\",\"2002-05-26T00:00:00\",\"2002-05-27T00:00:00\",\"2002-05-28T00:00:00\",\"2002-05-29T00:00:00\",\"2002-05-30T00:00:00\",\"2002-05-31T00:00:00\",\"2002-06-01T00:00:00\",\"2002-06-02T00:00:00\",\"2002-06-03T00:00:00\",\"2002-06-04T00:00:00\",\"2002-06-05T00:00:00\",\"2002-06-06T00:00:00\",\"2002-06-07T00:00:00\",\"2002-06-08T00:00:00\",\"2002-06-09T00:00:00\",\"2002-06-10T00:00:00\",\"2002-06-11T00:00:00\",\"2002-06-12T00:00:00\",\"2002-06-13T00:00:00\",\"2002-06-14T00:00:00\",\"2002-06-15T00:00:00\",\"2002-06-16T00:00:00\",\"2002-06-17T00:00:00\",\"2002-06-18T00:00:00\",\"2002-06-19T00:00:00\",\"2002-06-20T00:00:00\",\"2002-06-21T00:00:00\",\"2002-06-22T00:00:00\",\"2002-06-23T00:00:00\",\"2002-06-24T00:00:00\",\"2002-06-25T00:00:00\",\"2002-06-26T00:00:00\",\"2002-06-27T00:00:00\",\"2002-06-28T00:00:00\",\"2002-06-29T00:00:00\",\"2002-06-30T00:00:00\",\"2002-07-01T00:00:00\",\"2002-07-02T00:00:00\",\"2002-07-03T00:00:00\",\"2002-07-04T00:00:00\",\"2002-07-05T00:00:00\",\"2002-07-06T00:00:00\",\"2002-07-07T00:00:00\",\"2002-07-08T00:00:00\",\"2002-07-09T00:00:00\",\"2002-07-10T00:00:00\",\"2002-07-11T00:00:00\",\"2002-07-12T00:00:00\",\"2002-07-13T00:00:00\",\"2002-07-14T00:00:00\",\"2002-07-15T00:00:00\",\"2002-07-16T00:00:00\",\"2002-07-17T00:00:00\",\"2002-07-18T00:00:00\",\"2002-07-19T00:00:00\",\"2002-07-20T00:00:00\",\"2002-07-21T00:00:00\",\"2002-07-22T00:00:00\",\"2002-07-23T00:00:00\",\"2002-07-24T00:00:00\",\"2002-07-25T00:00:00\",\"2002-07-26T00:00:00\",\"2002-07-27T00:00:00\",\"2002-07-28T00:00:00\",\"2002-07-29T00:00:00\",\"2002-07-30T00:00:00\",\"2002-07-31T00:00:00\",\"2002-08-01T00:00:00\",\"2002-08-02T00:00:00\",\"2002-08-03T00:00:00\",\"2002-08-04T00:00:00\",\"2002-08-05T00:00:00\",\"2002-08-06T00:00:00\",\"2002-08-07T00:00:00\",\"2002-08-08T00:00:00\",\"2002-08-09T00:00:00\",\"2002-08-10T00:00:00\",\"2002-08-11T00:00:00\",\"2002-08-12T00:00:00\",\"2002-08-13T00:00:00\",\"2002-08-14T00:00:00\",\"2002-08-15T00:00:00\",\"2002-08-16T00:00:00\",\"2002-08-17T00:00:00\",\"2002-08-18T00:00:00\",\"2002-08-19T00:00:00\",\"2002-08-20T00:00:00\",\"2002-08-21T00:00:00\",\"2002-08-22T00:00:00\",\"2002-08-23T00:00:00\",\"2002-08-24T00:00:00\",\"2002-08-25T00:00:00\",\"2002-08-26T00:00:00\",\"2002-08-27T00:00:00\",\"2002-08-28T00:00:00\",\"2002-08-29T00:00:00\",\"2002-08-30T00:00:00\",\"2002-08-31T00:00:00\",\"2002-09-01T00:00:00\",\"2002-09-02T00:00:00\",\"2002-09-03T00:00:00\",\"2002-09-04T00:00:00\",\"2002-09-05T00:00:00\",\"2002-09-06T00:00:00\",\"2002-09-07T00:00:00\",\"2002-09-08T00:00:00\",\"2002-09-09T00:00:00\",\"2002-09-10T00:00:00\",\"2002-09-11T00:00:00\",\"2002-09-12T00:00:00\",\"2002-09-13T00:00:00\",\"2002-09-14T00:00:00\",\"2002-09-15T00:00:00\",\"2002-09-16T00:00:00\",\"2002-09-17T00:00:00\",\"2002-09-18T00:00:00\",\"2002-09-19T00:00:00\",\"2002-09-20T00:00:00\",\"2002-09-21T00:00:00\",\"2002-09-22T00:00:00\",\"2002-09-23T00:00:00\",\"2002-09-24T00:00:00\",\"2002-09-25T00:00:00\",\"2002-09-26T00:00:00\"],\"xaxis\":\"x\",\"y\":[-1.3134200112448646,-0.2118823154534514,0.2521325972985691,0.2521325972985691,0.2521325972985691,0.580974603503175,0.580974603503175,0.580974603503175,0.580974603503175,0.580974603503175,0.580974603503175,1.439517998552998,1.439517998552998,1.439517998552998,1.439517998552998,1.439517998552998,1.439517998552998,1.439517998552998,1.8783213400597705,1.8783213400597705,1.8783213400597705,1.8783213400597705,1.8783213400597705,1.8783213400597705,1.8783213400597705,1.8783213400597705,1.8783213400597705,1.8783213400597705,1.8783213400597705,1.8783213400597705,1.8783213400597705,1.8783213400597705,1.8783213400597705,1.8783213400597705,1.8783213400597705,1.8783213400597705,1.8783213400597705,1.8783213400597705,1.8783213400597705,1.8783213400597705,1.8783213400597705,1.8783213400597705,1.8783213400597705,1.8783213400597705,1.8783213400597705,1.8783213400597705,1.8783213400597705,1.8783213400597705,1.8783213400597705,2.067185774268932,2.067185774268932,2.067185774268932,2.067185774268932,2.067185774268932,2.067185774268932,2.067185774268932,2.067185774268932,2.067185774268932,2.067185774268932,2.067185774268932,2.067185774268932,2.067185774268932,2.067185774268932,2.067185774268932,2.067185774268932,2.067185774268932,2.067185774268932,2.067185774268932,2.067185774268932,2.067185774268932,2.067185774268932,2.067185774268932,2.067185774268932,2.067185774268932,2.067185774268932,2.067185774268932,2.067185774268932,2.067185774268932,2.067185774268932,2.067185774268932,2.067185774268932,2.067185774268932,2.067185774268932,2.067185774268932,2.067185774268932,2.067185774268932,2.067185774268932,2.067185774268932,2.067185774268932,2.067185774268932,2.067185774268932,2.067185774268932,2.067185774268932,2.067185774268932,2.067185774268932,2.067185774268932,2.067185774268932,2.067185774268932,2.067185774268932,2.067185774268932,2.067185774268932,2.067185774268932,2.067185774268932,2.067185774268932,2.067185774268932,2.067185774268932,2.067185774268932,2.067185774268932,2.067185774268932,2.067185774268932,2.067185774268932,2.067185774268932,2.067185774268932,2.067185774268932,2.067185774268932,2.067185774268932,2.067185774268932,2.067185774268932,2.067185774268932,2.067185774268932,2.067185774268932,2.067185774268932,2.067185774268932,2.067185774268932,2.067185774268932,2.067185774268932,2.067185774268932,2.067185774268932,2.067185774268932,2.067185774268932,2.067185774268932,2.067185774268932,2.067185774268932,2.067185774268932,2.067185774268932,2.067185774268932,2.067185774268932,2.067185774268932,2.067185774268932,2.067185774268932,2.067185774268932,2.067185774268932,2.067185774268932,2.067185774268932,2.067185774268932,2.067185774268932,2.067185774268932,2.067185774268932,2.067185774268932,2.067185774268932,2.067185774268932,2.067185774268932,2.067185774268932,2.067185774268932,2.067185774268932,2.067185774268932,2.067185774268932,2.067185774268932,2.067185774268932,2.067185774268932,2.067185774268932,2.067185774268932,2.067185774268932,2.067185774268932,2.067185774268932,2.067185774268932,2.067185774268932,2.067185774268932,2.067185774268932,2.067185774268932,2.067185774268932,2.067185774268932,2.067185774268932,2.067185774268932,2.067185774268932,2.067185774268932,2.067185774268932,2.067185774268932,2.067185774268932,2.067185774268932,2.067185774268932,2.067185774268932,2.067185774268932,2.067185774268932,2.067185774268932,2.067185774268932,2.067185774268932,2.067185774268932,2.067185774268932,2.067185774268932,2.067185774268932,2.067185774268932,2.067185774268932,2.067185774268932,2.067185774268932,2.067185774268932,2.067185774268932,2.067185774268932,2.067185774268932,2.067185774268932,2.067185774268932,2.067185774268932,2.067185774268932,2.067185774268932,2.067185774268932,2.067185774268932,2.067185774268932,2.067185774268932,2.067185774268932,2.067185774268932,2.067185774268932,2.067185774268932,2.067185774268932,2.067185774268932,2.067185774268932,2.067185774268932,2.067185774268932,2.067185774268932,2.067185774268932,2.067185774268932,2.067185774268932,2.067185774268932,2.067185774268932,2.067185774268932,2.067185774268932,2.067185774268932,2.067185774268932,2.067185774268932,2.067185774268932,2.067185774268932,2.067185774268932,2.067185774268932,2.067185774268932,2.067185774268932,2.067185774268932,2.067185774268932,2.067185774268932,2.067185774268932,2.067185774268932,2.067185774268932,2.067185774268932,2.067185774268932,2.067185774268932,2.067185774268932,2.067185774268932,2.067185774268932,2.067185774268932,2.067185774268932,2.067185774268932,2.067185774268932,2.067185774268932,2.067185774268932,2.067185774268932,2.067185774268932,2.2379422499826855,2.2379422499826855,2.2379422499826855,2.2379422499826855,2.2379422499826855,2.2379422499826855,2.2379422499826855,2.2379422499826855,2.2379422499826855,2.2379422499826855,2.2379422499826855,2.2379422499826855,2.2379422499826855,2.2379422499826855,2.2379422499826855,2.2379422499826855,2.2379422499826855,2.2379422499826855,2.2379422499826855,2.2379422499826855,2.2379422499826855,2.2379422499826855,2.2379422499826855,2.2379422499826855,2.2379422499826855,2.2379422499826855,2.2379422499826855,2.2379422499826855,2.2379422499826855,2.2379422499826855,2.2379422499826855,2.2379422499826855,2.2379422499826855,2.2379422499826855,2.2379422499826855,2.2379422499826855,2.2379422499826855,2.2379422499826855,2.2379422499826855,2.2379422499826855,2.2379422499826855,2.2379422499826855,2.2379422499826855,2.2379422499826855,2.2379422499826855,2.2379422499826855,2.2379422499826855,2.2379422499826855,2.2379422499826855,2.2379422499826855,2.2379422499826855,2.2379422499826855,2.2379422499826855,2.2379422499826855,2.2379422499826855,2.2379422499826855,2.2379422499826855,2.2379422499826855,2.2379422499826855,2.2379422499826855,2.2379422499826855,2.2379422499826855,2.2379422499826855,2.2379422499826855,2.2379422499826855,2.2379422499826855,2.2379422499826855,2.2379422499826855,2.2379422499826855,2.2379422499826855,2.2379422499826855,2.2379422499826855,2.2379422499826855,2.2379422499826855,2.2379422499826855,2.2379422499826855,2.2379422499826855,2.2379422499826855,2.2379422499826855,2.2379422499826855,2.2379422499826855,2.2379422499826855,2.2379422499826855,2.2379422499826855,2.2379422499826855,2.2379422499826855,2.2379422499826855,2.2379422499826855,2.2379422499826855,2.2379422499826855,2.2379422499826855,2.2379422499826855,2.2379422499826855,2.2379422499826855,2.2379422499826855,2.2379422499826855,2.2379422499826855,2.2379422499826855,2.2379422499826855,2.2379422499826855,2.2379422499826855,2.2379422499826855,2.2379422499826855,2.2379422499826855,2.2379422499826855,2.2379422499826855,2.2379422499826855,2.2379422499826855,2.2379422499826855,2.2379422499826855,2.2379422499826855,2.2379422499826855,2.2379422499826855,2.2379422499826855,2.2379422499826855,2.2379422499826855,2.2379422499826855,2.2379422499826855,2.2379422499826855,2.2379422499826855,2.2379422499826855,2.2379422499826855,2.2379422499826855,2.2379422499826855,2.2379422499826855,2.2379422499826855,2.2379422499826855,2.2379422499826855,2.2379422499826855,2.2379422499826855,2.2379422499826855,2.2379422499826855,2.2379422499826855,2.2379422499826855,2.2379422499826855,2.2379422499826855,2.2379422499826855,2.2379422499826855,2.2379422499826855,2.2379422499826855,2.2379422499826855,2.2379422499826855,2.2379422499826855,2.2379422499826855,2.2379422499826855,2.2379422499826855,2.2379422499826855,2.2379422499826855,2.2379422499826855,2.2379422499826855,2.2379422499826855,2.2379422499826855,2.2379422499826855,2.2379422499826855,2.2379422499826855,2.2379422499826855,2.2379422499826855,2.2379422499826855,2.2379422499826855,2.2379422499826855,2.2379422499826855,2.2379422499826855,2.2379422499826855,2.2379422499826855,2.2379422499826855,2.2379422499826855,2.2379422499826855,2.2379422499826855,2.2379422499826855,2.2379422499826855,2.2379422499826855,2.2379422499826855,2.2379422499826855,2.2379422499826855,2.2379422499826855,2.2379422499826855,2.2379422499826855,2.2379422499826855,2.2379422499826855,2.2379422499826855,2.2379422499826855,2.2379422499826855,2.2379422499826855,2.2379422499826855,2.2379422499826855,2.2379422499826855,2.2379422499826855,2.2379422499826855,2.2379422499826855,2.2379422499826855,2.2379422499826855,2.2379422499826855,2.2379422499826855,2.2379422499826855,2.2379422499826855,2.2379422499826855,2.2379422499826855,2.2379422499826855,2.2379422499826855,2.2379422499826855,2.2379422499826855,2.2379422499826855,2.2379422499826855,2.2379422499826855,2.2379422499826855,2.2379422499826855,2.2379422499826855,2.2379422499826855,2.2379422499826855,2.2379422499826855,2.2379422499826855,2.2379422499826855,2.2379422499826855,2.2379422499826855,2.2379422499826855,2.2379422499826855,2.2379422499826855,2.2379422499826855,2.2379422499826855,2.2379422499826855,2.2379422499826855,2.2379422499826855,2.7639704252102457,2.7639704252102457,2.7639704252102457,2.7639704252102457,2.7639704252102457,2.7639704252102457,2.7639704252102457,2.7639704252102457,2.7639704252102457,2.7639704252102457,2.7639704252102457,2.7639704252102457,2.7639704252102457,2.7639704252102457,2.7639704252102457,2.7639704252102457,2.7639704252102457,2.7639704252102457,2.7639704252102457,2.7639704252102457,2.7639704252102457,2.7639704252102457,2.7639704252102457,2.7639704252102457,2.7639704252102457,2.7639704252102457,2.7639704252102457,2.7639704252102457,2.7639704252102457,2.7639704252102457,2.7639704252102457,2.7639704252102457,2.7639704252102457,2.7639704252102457,2.7639704252102457,2.7639704252102457,2.7639704252102457,2.7639704252102457,2.7639704252102457,2.7639704252102457,2.7639704252102457,2.7639704252102457,2.7639704252102457,2.7639704252102457,2.7639704252102457,2.7639704252102457,2.7639704252102457,2.7639704252102457,2.7639704252102457,2.7639704252102457,2.7639704252102457,2.7639704252102457,2.7639704252102457,2.7639704252102457,2.7639704252102457,2.7639704252102457,2.7639704252102457,2.7639704252102457,2.7639704252102457,2.7639704252102457,2.7639704252102457,2.7639704252102457,2.7639704252102457,2.7639704252102457,2.7639704252102457,2.7639704252102457,2.7639704252102457,2.7639704252102457,2.7639704252102457,2.7639704252102457,2.7639704252102457,2.7639704252102457,2.7639704252102457,2.7639704252102457,2.7639704252102457,2.7639704252102457,2.7639704252102457,2.7639704252102457,2.7639704252102457,2.7639704252102457,2.7639704252102457,2.7639704252102457,2.7639704252102457,2.7639704252102457,2.7639704252102457,2.7639704252102457,2.7639704252102457,2.7639704252102457,2.7639704252102457,2.7639704252102457,2.7639704252102457,2.7639704252102457,2.7639704252102457,2.7639704252102457,2.7639704252102457,2.7639704252102457,2.7639704252102457,2.7639704252102457,2.7639704252102457,2.7639704252102457,2.7639704252102457,2.7639704252102457,2.7639704252102457,2.7639704252102457,2.7639704252102457,2.7639704252102457,2.7639704252102457,2.7639704252102457,2.7639704252102457,2.7639704252102457,2.7639704252102457,2.7639704252102457,2.7639704252102457,2.7639704252102457,2.7639704252102457,2.7639704252102457,2.7639704252102457,2.7639704252102457,2.7639704252102457,2.7639704252102457,2.7639704252102457,2.7639704252102457,2.7639704252102457,2.7639704252102457,2.7639704252102457,2.7639704252102457,2.7639704252102457,2.7639704252102457,2.7639704252102457,2.7639704252102457,2.7639704252102457,2.7639704252102457,2.840593161216385,2.840593161216385,2.840593161216385,2.840593161216385,2.840593161216385,2.840593161216385,2.840593161216385,2.840593161216385,2.840593161216385,2.840593161216385,2.840593161216385,2.840593161216385,2.840593161216385,2.840593161216385,2.840593161216385,2.840593161216385,2.840593161216385,2.840593161216385,2.840593161216385,2.840593161216385,2.840593161216385,2.840593161216385,2.840593161216385,2.840593161216385,2.840593161216385,2.840593161216385,2.840593161216385,2.840593161216385,2.840593161216385,2.840593161216385,2.840593161216385,2.840593161216385,2.840593161216385,2.840593161216385,2.840593161216385,2.840593161216385,2.840593161216385,2.840593161216385,2.840593161216385,2.840593161216385,2.840593161216385,2.840593161216385,2.840593161216385,2.840593161216385,2.840593161216385,2.840593161216385,2.840593161216385,2.840593161216385,2.840593161216385,2.840593161216385,2.840593161216385,2.840593161216385,2.840593161216385,2.840593161216385,2.840593161216385,2.840593161216385,2.840593161216385,2.840593161216385,2.840593161216385,2.840593161216385,2.840593161216385,2.840593161216385,2.840593161216385,2.840593161216385,2.840593161216385,2.840593161216385,2.840593161216385,2.840593161216385,2.840593161216385,2.840593161216385,2.840593161216385,2.840593161216385,2.840593161216385,2.840593161216385,2.840593161216385,2.840593161216385,2.840593161216385,2.840593161216385,2.840593161216385,2.840593161216385,2.840593161216385,2.840593161216385,2.840593161216385,2.840593161216385,2.840593161216385,2.840593161216385,2.840593161216385,2.840593161216385,2.840593161216385,2.840593161216385,2.840593161216385,2.840593161216385,2.840593161216385,2.840593161216385,2.840593161216385,2.840593161216385,2.840593161216385,2.840593161216385,2.840593161216385,2.840593161216385,2.840593161216385,2.840593161216385,2.840593161216385,2.840593161216385,2.840593161216385,2.840593161216385,2.840593161216385,2.840593161216385,2.840593161216385,2.840593161216385,2.840593161216385,2.840593161216385,2.840593161216385,2.840593161216385,2.840593161216385,2.840593161216385,2.840593161216385,2.840593161216385,2.840593161216385,2.840593161216385,2.840593161216385,2.840593161216385,2.840593161216385,2.840593161216385,2.840593161216385,2.840593161216385,2.840593161216385,2.840593161216385,2.840593161216385,2.840593161216385,2.840593161216385,2.840593161216385,2.840593161216385,2.840593161216385,2.840593161216385,2.840593161216385,2.840593161216385,2.840593161216385,2.840593161216385,2.840593161216385,2.840593161216385,2.840593161216385,2.840593161216385,2.840593161216385,2.840593161216385,2.840593161216385,2.840593161216385,2.840593161216385,2.840593161216385,2.840593161216385,2.840593161216385,2.840593161216385,2.840593161216385,2.840593161216385,2.840593161216385,2.840593161216385,2.840593161216385,2.840593161216385,2.840593161216385,2.840593161216385,2.840593161216385,2.840593161216385,2.840593161216385,2.840593161216385,2.840593161216385,2.840593161216385,2.840593161216385,2.840593161216385,2.840593161216385,2.840593161216385,2.840593161216385,2.840593161216385,2.840593161216385,2.840593161216385,2.840593161216385,2.840593161216385,2.840593161216385,2.840593161216385,2.840593161216385,2.840593161216385,2.840593161216385,2.840593161216385,2.840593161216385,2.840593161216385,2.840593161216385,2.840593161216385,2.840593161216385,2.840593161216385,2.840593161216385,2.840593161216385,2.840593161216385,2.840593161216385,2.840593161216385,2.840593161216385,2.840593161216385,2.840593161216385,2.840593161216385,2.840593161216385,2.840593161216385,2.840593161216385,2.840593161216385,2.840593161216385,2.840593161216385,2.840593161216385,2.840593161216385,2.840593161216385,2.840593161216385,2.840593161216385,2.840593161216385,2.840593161216385,2.840593161216385,2.840593161216385,2.840593161216385,2.840593161216385,2.840593161216385,2.840593161216385,2.840593161216385,2.840593161216385,2.840593161216385,2.840593161216385,2.840593161216385,2.840593161216385,2.840593161216385,2.840593161216385,2.840593161216385,2.840593161216385,2.840593161216385,2.840593161216385,2.840593161216385,2.840593161216385,2.840593161216385,2.840593161216385,2.840593161216385,2.840593161216385,2.840593161216385,2.840593161216385,2.840593161216385,2.840593161216385,2.840593161216385,2.840593161216385,2.840593161216385,2.840593161216385,2.840593161216385,2.840593161216385,2.840593161216385,2.840593161216385,2.840593161216385,2.840593161216385,2.840593161216385,2.840593161216385,2.840593161216385,2.840593161216385,2.840593161216385,2.840593161216385,2.840593161216385,2.840593161216385,2.840593161216385,2.840593161216385,2.840593161216385,2.840593161216385,2.840593161216385,2.840593161216385,2.840593161216385,2.840593161216385,2.840593161216385,2.840593161216385,2.840593161216385,2.840593161216385,2.840593161216385,2.840593161216385,2.840593161216385,2.840593161216385,2.840593161216385,2.840593161216385,2.840593161216385,2.840593161216385,2.840593161216385,2.840593161216385,2.840593161216385,2.840593161216385,2.840593161216385,2.840593161216385,2.840593161216385,2.840593161216385,2.840593161216385,2.840593161216385,2.840593161216385,2.840593161216385,2.840593161216385,2.840593161216385,2.840593161216385,2.840593161216385,2.840593161216385,2.840593161216385,2.840593161216385,2.840593161216385,2.840593161216385,2.840593161216385,2.840593161216385,2.840593161216385,2.840593161216385,2.840593161216385,2.840593161216385,2.840593161216385,2.840593161216385,2.840593161216385,2.840593161216385,2.840593161216385,2.840593161216385,2.840593161216385,2.840593161216385,2.840593161216385,2.840593161216385,2.840593161216385,2.840593161216385,2.840593161216385,2.840593161216385,2.840593161216385,2.840593161216385,2.840593161216385,2.840593161216385,2.840593161216385,2.840593161216385,2.840593161216385,2.840593161216385,2.840593161216385,2.840593161216385,2.840593161216385,2.840593161216385,2.840593161216385,2.840593161216385,2.840593161216385,2.840593161216385,2.840593161216385,2.840593161216385,2.840593161216385,2.840593161216385,2.840593161216385,2.840593161216385,2.840593161216385,2.840593161216385,2.840593161216385,2.840593161216385,2.840593161216385,2.840593161216385,2.840593161216385,2.840593161216385,2.840593161216385,2.840593161216385,2.840593161216385,2.840593161216385,2.840593161216385,2.840593161216385,2.840593161216385,2.840593161216385,2.840593161216385,2.840593161216385,2.840593161216385,2.840593161216385,2.840593161216385,2.840593161216385,2.840593161216385,2.840593161216385,2.840593161216385,2.840593161216385,2.840593161216385,2.840593161216385,2.840593161216385,2.840593161216385,2.840593161216385,2.840593161216385,2.840593161216385,2.840593161216385,2.840593161216385,2.840593161216385,2.840593161216385,2.840593161216385,2.840593161216385,2.840593161216385,2.840593161216385,2.840593161216385,2.840593161216385,2.840593161216385,2.840593161216385,2.840593161216385,2.840593161216385,2.840593161216385,2.840593161216385,2.840593161216385,2.840593161216385,2.840593161216385,2.840593161216385],\"yaxis\":\"y\",\"type\":\"scattergl\"}],                        {\"template\":{\"data\":{\"histogram2dcontour\":[{\"type\":\"histogram2dcontour\",\"colorbar\":{\"outlinewidth\":0,\"ticks\":\"\"},\"colorscale\":[[0.0,\"#0d0887\"],[0.1111111111111111,\"#46039f\"],[0.2222222222222222,\"#7201a8\"],[0.3333333333333333,\"#9c179e\"],[0.4444444444444444,\"#bd3786\"],[0.5555555555555556,\"#d8576b\"],[0.6666666666666666,\"#ed7953\"],[0.7777777777777778,\"#fb9f3a\"],[0.8888888888888888,\"#fdca26\"],[1.0,\"#f0f921\"]]}],\"choropleth\":[{\"type\":\"choropleth\",\"colorbar\":{\"outlinewidth\":0,\"ticks\":\"\"}}],\"histogram2d\":[{\"type\":\"histogram2d\",\"colorbar\":{\"outlinewidth\":0,\"ticks\":\"\"},\"colorscale\":[[0.0,\"#0d0887\"],[0.1111111111111111,\"#46039f\"],[0.2222222222222222,\"#7201a8\"],[0.3333333333333333,\"#9c179e\"],[0.4444444444444444,\"#bd3786\"],[0.5555555555555556,\"#d8576b\"],[0.6666666666666666,\"#ed7953\"],[0.7777777777777778,\"#fb9f3a\"],[0.8888888888888888,\"#fdca26\"],[1.0,\"#f0f921\"]]}],\"heatmap\":[{\"type\":\"heatmap\",\"colorbar\":{\"outlinewidth\":0,\"ticks\":\"\"},\"colorscale\":[[0.0,\"#0d0887\"],[0.1111111111111111,\"#46039f\"],[0.2222222222222222,\"#7201a8\"],[0.3333333333333333,\"#9c179e\"],[0.4444444444444444,\"#bd3786\"],[0.5555555555555556,\"#d8576b\"],[0.6666666666666666,\"#ed7953\"],[0.7777777777777778,\"#fb9f3a\"],[0.8888888888888888,\"#fdca26\"],[1.0,\"#f0f921\"]]}],\"heatmapgl\":[{\"type\":\"heatmapgl\",\"colorbar\":{\"outlinewidth\":0,\"ticks\":\"\"},\"colorscale\":[[0.0,\"#0d0887\"],[0.1111111111111111,\"#46039f\"],[0.2222222222222222,\"#7201a8\"],[0.3333333333333333,\"#9c179e\"],[0.4444444444444444,\"#bd3786\"],[0.5555555555555556,\"#d8576b\"],[0.6666666666666666,\"#ed7953\"],[0.7777777777777778,\"#fb9f3a\"],[0.8888888888888888,\"#fdca26\"],[1.0,\"#f0f921\"]]}],\"contourcarpet\":[{\"type\":\"contourcarpet\",\"colorbar\":{\"outlinewidth\":0,\"ticks\":\"\"}}],\"contour\":[{\"type\":\"contour\",\"colorbar\":{\"outlinewidth\":0,\"ticks\":\"\"},\"colorscale\":[[0.0,\"#0d0887\"],[0.1111111111111111,\"#46039f\"],[0.2222222222222222,\"#7201a8\"],[0.3333333333333333,\"#9c179e\"],[0.4444444444444444,\"#bd3786\"],[0.5555555555555556,\"#d8576b\"],[0.6666666666666666,\"#ed7953\"],[0.7777777777777778,\"#fb9f3a\"],[0.8888888888888888,\"#fdca26\"],[1.0,\"#f0f921\"]]}],\"surface\":[{\"type\":\"surface\",\"colorbar\":{\"outlinewidth\":0,\"ticks\":\"\"},\"colorscale\":[[0.0,\"#0d0887\"],[0.1111111111111111,\"#46039f\"],[0.2222222222222222,\"#7201a8\"],[0.3333333333333333,\"#9c179e\"],[0.4444444444444444,\"#bd3786\"],[0.5555555555555556,\"#d8576b\"],[0.6666666666666666,\"#ed7953\"],[0.7777777777777778,\"#fb9f3a\"],[0.8888888888888888,\"#fdca26\"],[1.0,\"#f0f921\"]]}],\"mesh3d\":[{\"type\":\"mesh3d\",\"colorbar\":{\"outlinewidth\":0,\"ticks\":\"\"}}],\"scatter\":[{\"fillpattern\":{\"fillmode\":\"overlay\",\"size\":10,\"solidity\":0.2},\"type\":\"scatter\"}],\"parcoords\":[{\"type\":\"parcoords\",\"line\":{\"colorbar\":{\"outlinewidth\":0,\"ticks\":\"\"}}}],\"scatterpolargl\":[{\"type\":\"scatterpolargl\",\"marker\":{\"colorbar\":{\"outlinewidth\":0,\"ticks\":\"\"}}}],\"bar\":[{\"error_x\":{\"color\":\"#2a3f5f\"},\"error_y\":{\"color\":\"#2a3f5f\"},\"marker\":{\"line\":{\"color\":\"#E5ECF6\",\"width\":0.5},\"pattern\":{\"fillmode\":\"overlay\",\"size\":10,\"solidity\":0.2}},\"type\":\"bar\"}],\"scattergeo\":[{\"type\":\"scattergeo\",\"marker\":{\"colorbar\":{\"outlinewidth\":0,\"ticks\":\"\"}}}],\"scatterpolar\":[{\"type\":\"scatterpolar\",\"marker\":{\"colorbar\":{\"outlinewidth\":0,\"ticks\":\"\"}}}],\"histogram\":[{\"marker\":{\"pattern\":{\"fillmode\":\"overlay\",\"size\":10,\"solidity\":0.2}},\"type\":\"histogram\"}],\"scattergl\":[{\"type\":\"scattergl\",\"marker\":{\"colorbar\":{\"outlinewidth\":0,\"ticks\":\"\"}}}],\"scatter3d\":[{\"type\":\"scatter3d\",\"line\":{\"colorbar\":{\"outlinewidth\":0,\"ticks\":\"\"}},\"marker\":{\"colorbar\":{\"outlinewidth\":0,\"ticks\":\"\"}}}],\"scattermapbox\":[{\"type\":\"scattermapbox\",\"marker\":{\"colorbar\":{\"outlinewidth\":0,\"ticks\":\"\"}}}],\"scatterternary\":[{\"type\":\"scatterternary\",\"marker\":{\"colorbar\":{\"outlinewidth\":0,\"ticks\":\"\"}}}],\"scattercarpet\":[{\"type\":\"scattercarpet\",\"marker\":{\"colorbar\":{\"outlinewidth\":0,\"ticks\":\"\"}}}],\"carpet\":[{\"aaxis\":{\"endlinecolor\":\"#2a3f5f\",\"gridcolor\":\"white\",\"linecolor\":\"white\",\"minorgridcolor\":\"white\",\"startlinecolor\":\"#2a3f5f\"},\"baxis\":{\"endlinecolor\":\"#2a3f5f\",\"gridcolor\":\"white\",\"linecolor\":\"white\",\"minorgridcolor\":\"white\",\"startlinecolor\":\"#2a3f5f\"},\"type\":\"carpet\"}],\"table\":[{\"cells\":{\"fill\":{\"color\":\"#EBF0F8\"},\"line\":{\"color\":\"white\"}},\"header\":{\"fill\":{\"color\":\"#C8D4E3\"},\"line\":{\"color\":\"white\"}},\"type\":\"table\"}],\"barpolar\":[{\"marker\":{\"line\":{\"color\":\"#E5ECF6\",\"width\":0.5},\"pattern\":{\"fillmode\":\"overlay\",\"size\":10,\"solidity\":0.2}},\"type\":\"barpolar\"}],\"pie\":[{\"automargin\":true,\"type\":\"pie\"}]},\"layout\":{\"autotypenumbers\":\"strict\",\"colorway\":[\"#636efa\",\"#EF553B\",\"#00cc96\",\"#ab63fa\",\"#FFA15A\",\"#19d3f3\",\"#FF6692\",\"#B6E880\",\"#FF97FF\",\"#FECB52\"],\"font\":{\"color\":\"#2a3f5f\"},\"hovermode\":\"closest\",\"hoverlabel\":{\"align\":\"left\"},\"paper_bgcolor\":\"white\",\"plot_bgcolor\":\"#E5ECF6\",\"polar\":{\"bgcolor\":\"#E5ECF6\",\"angularaxis\":{\"gridcolor\":\"white\",\"linecolor\":\"white\",\"ticks\":\"\"},\"radialaxis\":{\"gridcolor\":\"white\",\"linecolor\":\"white\",\"ticks\":\"\"}},\"ternary\":{\"bgcolor\":\"#E5ECF6\",\"aaxis\":{\"gridcolor\":\"white\",\"linecolor\":\"white\",\"ticks\":\"\"},\"baxis\":{\"gridcolor\":\"white\",\"linecolor\":\"white\",\"ticks\":\"\"},\"caxis\":{\"gridcolor\":\"white\",\"linecolor\":\"white\",\"ticks\":\"\"}},\"coloraxis\":{\"colorbar\":{\"outlinewidth\":0,\"ticks\":\"\"}},\"colorscale\":{\"sequential\":[[0.0,\"#0d0887\"],[0.1111111111111111,\"#46039f\"],[0.2222222222222222,\"#7201a8\"],[0.3333333333333333,\"#9c179e\"],[0.4444444444444444,\"#bd3786\"],[0.5555555555555556,\"#d8576b\"],[0.6666666666666666,\"#ed7953\"],[0.7777777777777778,\"#fb9f3a\"],[0.8888888888888888,\"#fdca26\"],[1.0,\"#f0f921\"]],\"sequentialminus\":[[0.0,\"#0d0887\"],[0.1111111111111111,\"#46039f\"],[0.2222222222222222,\"#7201a8\"],[0.3333333333333333,\"#9c179e\"],[0.4444444444444444,\"#bd3786\"],[0.5555555555555556,\"#d8576b\"],[0.6666666666666666,\"#ed7953\"],[0.7777777777777778,\"#fb9f3a\"],[0.8888888888888888,\"#fdca26\"],[1.0,\"#f0f921\"]],\"diverging\":[[0,\"#8e0152\"],[0.1,\"#c51b7d\"],[0.2,\"#de77ae\"],[0.3,\"#f1b6da\"],[0.4,\"#fde0ef\"],[0.5,\"#f7f7f7\"],[0.6,\"#e6f5d0\"],[0.7,\"#b8e186\"],[0.8,\"#7fbc41\"],[0.9,\"#4d9221\"],[1,\"#276419\"]]},\"xaxis\":{\"gridcolor\":\"white\",\"linecolor\":\"white\",\"ticks\":\"\",\"title\":{\"standoff\":15},\"zerolinecolor\":\"white\",\"automargin\":true,\"zerolinewidth\":2},\"yaxis\":{\"gridcolor\":\"white\",\"linecolor\":\"white\",\"ticks\":\"\",\"title\":{\"standoff\":15},\"zerolinecolor\":\"white\",\"automargin\":true,\"zerolinewidth\":2},\"scene\":{\"xaxis\":{\"backgroundcolor\":\"#E5ECF6\",\"gridcolor\":\"white\",\"linecolor\":\"white\",\"showbackground\":true,\"ticks\":\"\",\"zerolinecolor\":\"white\",\"gridwidth\":2},\"yaxis\":{\"backgroundcolor\":\"#E5ECF6\",\"gridcolor\":\"white\",\"linecolor\":\"white\",\"showbackground\":true,\"ticks\":\"\",\"zerolinecolor\":\"white\",\"gridwidth\":2},\"zaxis\":{\"backgroundcolor\":\"#E5ECF6\",\"gridcolor\":\"white\",\"linecolor\":\"white\",\"showbackground\":true,\"ticks\":\"\",\"zerolinecolor\":\"white\",\"gridwidth\":2}},\"shapedefaults\":{\"line\":{\"color\":\"#2a3f5f\"}},\"annotationdefaults\":{\"arrowcolor\":\"#2a3f5f\",\"arrowhead\":0,\"arrowwidth\":1},\"geo\":{\"bgcolor\":\"white\",\"landcolor\":\"#E5ECF6\",\"subunitcolor\":\"white\",\"showland\":true,\"showlakes\":true,\"lakecolor\":\"white\"},\"title\":{\"x\":0.05},\"mapbox\":{\"style\":\"light\"}}},\"xaxis\":{\"anchor\":\"y\",\"domain\":[0.0,1.0],\"title\":{\"text\":\"index\"}},\"yaxis\":{\"anchor\":\"x\",\"domain\":[0.0,1.0],\"title\":{\"text\":\"value\"}},\"legend\":{\"title\":{\"text\":\"variable\"},\"tracegroupgap\":0},\"margin\":{\"t\":60}},                        {\"responsive\": true}                    ).then(function(){\n",
              "                            \n",
              "var gd = document.getElementById('84020add-a636-4a79-b7a5-0c040560606f');\n",
              "var x = new MutationObserver(function (mutations, observer) {{\n",
              "        var display = window.getComputedStyle(gd).display;\n",
              "        if (!display || display === 'none') {{\n",
              "            console.log([gd, 'removed!']);\n",
              "            Plotly.purge(gd);\n",
              "            observer.disconnect();\n",
              "        }}\n",
              "}});\n",
              "\n",
              "// Listen for the removal of the full notebook cells\n",
              "var notebookContainer = gd.closest('#notebook-container');\n",
              "if (notebookContainer) {{\n",
              "    x.observe(notebookContainer, {childList: true});\n",
              "}}\n",
              "\n",
              "// Listen for the clearing of the current output cell\n",
              "var outputEl = gd.closest('.output');\n",
              "if (outputEl) {{\n",
              "    x.observe(outputEl, {childList: true});\n",
              "}}\n",
              "\n",
              "                        })                };                            </script>        </div>\n",
              "</body>\n",
              "</html>"
            ]
          },
          "metadata": {}
        }
      ]
    },
    {
      "cell_type": "code",
      "source": [
        "psdf.to_csv('foo.csv')\n",
        "ps.read_csv('foo.csv').head(10)"
      ],
      "metadata": {
        "colab": {
          "base_uri": "https://localhost:8080/",
          "height": 363
        },
        "id": "7vNUXJM5w1KU",
        "outputId": "0326ff15-3ec1-4b4a-d512-4cd047c1ef45"
      },
      "execution_count": null,
      "outputs": [
        {
          "output_type": "execute_result",
          "data": {
            "text/plain": [
              "          A         B         C         D\n",
              "0  0.600871 -0.224526 -0.740743 -1.313420\n",
              "1  0.600871  0.521770  1.419803 -0.211882\n",
              "2  0.600871  0.521770  1.419803  0.252133\n",
              "3  0.600871  1.402552  1.419803  0.252133\n",
              "4  0.600871  1.402552  1.419803  0.252133\n",
              "5  0.821611  1.402552  1.419803  0.580975\n",
              "6  0.821611  1.402552  1.419803  0.580975\n",
              "7  0.821611  1.402552  1.419803  0.580975\n",
              "8  0.821611  1.402552  1.419803  0.580975\n",
              "9  0.888568  1.402552  1.951410  0.580975"
            ],
            "text/html": [
              "<div>\n",
              "<style scoped>\n",
              "    .dataframe tbody tr th:only-of-type {\n",
              "        vertical-align: middle;\n",
              "    }\n",
              "\n",
              "    .dataframe tbody tr th {\n",
              "        vertical-align: top;\n",
              "    }\n",
              "\n",
              "    .dataframe thead th {\n",
              "        text-align: right;\n",
              "    }\n",
              "</style>\n",
              "<table border=\"1\" class=\"dataframe\">\n",
              "  <thead>\n",
              "    <tr style=\"text-align: right;\">\n",
              "      <th></th>\n",
              "      <th>A</th>\n",
              "      <th>B</th>\n",
              "      <th>C</th>\n",
              "      <th>D</th>\n",
              "    </tr>\n",
              "  </thead>\n",
              "  <tbody>\n",
              "    <tr>\n",
              "      <th>0</th>\n",
              "      <td>0.600871</td>\n",
              "      <td>-0.224526</td>\n",
              "      <td>-0.740743</td>\n",
              "      <td>-1.313420</td>\n",
              "    </tr>\n",
              "    <tr>\n",
              "      <th>1</th>\n",
              "      <td>0.600871</td>\n",
              "      <td>0.521770</td>\n",
              "      <td>1.419803</td>\n",
              "      <td>-0.211882</td>\n",
              "    </tr>\n",
              "    <tr>\n",
              "      <th>2</th>\n",
              "      <td>0.600871</td>\n",
              "      <td>0.521770</td>\n",
              "      <td>1.419803</td>\n",
              "      <td>0.252133</td>\n",
              "    </tr>\n",
              "    <tr>\n",
              "      <th>3</th>\n",
              "      <td>0.600871</td>\n",
              "      <td>1.402552</td>\n",
              "      <td>1.419803</td>\n",
              "      <td>0.252133</td>\n",
              "    </tr>\n",
              "    <tr>\n",
              "      <th>4</th>\n",
              "      <td>0.600871</td>\n",
              "      <td>1.402552</td>\n",
              "      <td>1.419803</td>\n",
              "      <td>0.252133</td>\n",
              "    </tr>\n",
              "    <tr>\n",
              "      <th>5</th>\n",
              "      <td>0.821611</td>\n",
              "      <td>1.402552</td>\n",
              "      <td>1.419803</td>\n",
              "      <td>0.580975</td>\n",
              "    </tr>\n",
              "    <tr>\n",
              "      <th>6</th>\n",
              "      <td>0.821611</td>\n",
              "      <td>1.402552</td>\n",
              "      <td>1.419803</td>\n",
              "      <td>0.580975</td>\n",
              "    </tr>\n",
              "    <tr>\n",
              "      <th>7</th>\n",
              "      <td>0.821611</td>\n",
              "      <td>1.402552</td>\n",
              "      <td>1.419803</td>\n",
              "      <td>0.580975</td>\n",
              "    </tr>\n",
              "    <tr>\n",
              "      <th>8</th>\n",
              "      <td>0.821611</td>\n",
              "      <td>1.402552</td>\n",
              "      <td>1.419803</td>\n",
              "      <td>0.580975</td>\n",
              "    </tr>\n",
              "    <tr>\n",
              "      <th>9</th>\n",
              "      <td>0.888568</td>\n",
              "      <td>1.402552</td>\n",
              "      <td>1.951410</td>\n",
              "      <td>0.580975</td>\n",
              "    </tr>\n",
              "  </tbody>\n",
              "</table>\n",
              "</div>"
            ]
          },
          "metadata": {},
          "execution_count": 94
        }
      ]
    },
    {
      "cell_type": "code",
      "source": [
        "psdf.to_parquet('bar.parquet')\n",
        "ps.read_parquet('bar.parquet').head(10)"
      ],
      "metadata": {
        "colab": {
          "base_uri": "https://localhost:8080/",
          "height": 363
        },
        "id": "7ApJZajsxCAo",
        "outputId": "dd111cf4-f029-47e9-d68d-f7c85bc67e7a"
      },
      "execution_count": null,
      "outputs": [
        {
          "output_type": "execute_result",
          "data": {
            "text/plain": [
              "          A         B         C         D\n",
              "0  0.600871 -0.224526 -0.740743 -1.313420\n",
              "1  0.600871  0.521770  1.419803 -0.211882\n",
              "2  0.600871  0.521770  1.419803  0.252133\n",
              "3  0.600871  1.402552  1.419803  0.252133\n",
              "4  0.600871  1.402552  1.419803  0.252133\n",
              "5  0.821611  1.402552  1.419803  0.580975\n",
              "6  0.821611  1.402552  1.419803  0.580975\n",
              "7  0.821611  1.402552  1.419803  0.580975\n",
              "8  0.821611  1.402552  1.419803  0.580975\n",
              "9  0.888568  1.402552  1.951410  0.580975"
            ],
            "text/html": [
              "<div>\n",
              "<style scoped>\n",
              "    .dataframe tbody tr th:only-of-type {\n",
              "        vertical-align: middle;\n",
              "    }\n",
              "\n",
              "    .dataframe tbody tr th {\n",
              "        vertical-align: top;\n",
              "    }\n",
              "\n",
              "    .dataframe thead th {\n",
              "        text-align: right;\n",
              "    }\n",
              "</style>\n",
              "<table border=\"1\" class=\"dataframe\">\n",
              "  <thead>\n",
              "    <tr style=\"text-align: right;\">\n",
              "      <th></th>\n",
              "      <th>A</th>\n",
              "      <th>B</th>\n",
              "      <th>C</th>\n",
              "      <th>D</th>\n",
              "    </tr>\n",
              "  </thead>\n",
              "  <tbody>\n",
              "    <tr>\n",
              "      <th>0</th>\n",
              "      <td>0.600871</td>\n",
              "      <td>-0.224526</td>\n",
              "      <td>-0.740743</td>\n",
              "      <td>-1.313420</td>\n",
              "    </tr>\n",
              "    <tr>\n",
              "      <th>1</th>\n",
              "      <td>0.600871</td>\n",
              "      <td>0.521770</td>\n",
              "      <td>1.419803</td>\n",
              "      <td>-0.211882</td>\n",
              "    </tr>\n",
              "    <tr>\n",
              "      <th>2</th>\n",
              "      <td>0.600871</td>\n",
              "      <td>0.521770</td>\n",
              "      <td>1.419803</td>\n",
              "      <td>0.252133</td>\n",
              "    </tr>\n",
              "    <tr>\n",
              "      <th>3</th>\n",
              "      <td>0.600871</td>\n",
              "      <td>1.402552</td>\n",
              "      <td>1.419803</td>\n",
              "      <td>0.252133</td>\n",
              "    </tr>\n",
              "    <tr>\n",
              "      <th>4</th>\n",
              "      <td>0.600871</td>\n",
              "      <td>1.402552</td>\n",
              "      <td>1.419803</td>\n",
              "      <td>0.252133</td>\n",
              "    </tr>\n",
              "    <tr>\n",
              "      <th>5</th>\n",
              "      <td>0.821611</td>\n",
              "      <td>1.402552</td>\n",
              "      <td>1.419803</td>\n",
              "      <td>0.580975</td>\n",
              "    </tr>\n",
              "    <tr>\n",
              "      <th>6</th>\n",
              "      <td>0.821611</td>\n",
              "      <td>1.402552</td>\n",
              "      <td>1.419803</td>\n",
              "      <td>0.580975</td>\n",
              "    </tr>\n",
              "    <tr>\n",
              "      <th>7</th>\n",
              "      <td>0.821611</td>\n",
              "      <td>1.402552</td>\n",
              "      <td>1.419803</td>\n",
              "      <td>0.580975</td>\n",
              "    </tr>\n",
              "    <tr>\n",
              "      <th>8</th>\n",
              "      <td>0.821611</td>\n",
              "      <td>1.402552</td>\n",
              "      <td>1.419803</td>\n",
              "      <td>0.580975</td>\n",
              "    </tr>\n",
              "    <tr>\n",
              "      <th>9</th>\n",
              "      <td>0.888568</td>\n",
              "      <td>1.402552</td>\n",
              "      <td>1.951410</td>\n",
              "      <td>0.580975</td>\n",
              "    </tr>\n",
              "  </tbody>\n",
              "</table>\n",
              "</div>"
            ]
          },
          "metadata": {},
          "execution_count": 95
        }
      ]
    },
    {
      "cell_type": "code",
      "source": [
        "psdf.to_spark_io('zoo.orc', format=\"orc\")\n",
        "ps.read_spark_io('zoo.orc', format=\"orc\").head(10)"
      ],
      "metadata": {
        "colab": {
          "base_uri": "https://localhost:8080/",
          "height": 363
        },
        "id": "ySxPXUGIxFB1",
        "outputId": "eb4171a8-4ed2-41b5-9590-64b4cdc48c60"
      },
      "execution_count": null,
      "outputs": [
        {
          "output_type": "execute_result",
          "data": {
            "text/plain": [
              "          A         B         C         D\n",
              "0  0.600871 -0.224526 -0.740743 -1.313420\n",
              "1  0.600871  0.521770  1.419803 -0.211882\n",
              "2  0.600871  0.521770  1.419803  0.252133\n",
              "3  0.600871  1.402552  1.419803  0.252133\n",
              "4  0.600871  1.402552  1.419803  0.252133\n",
              "5  0.821611  1.402552  1.419803  0.580975\n",
              "6  0.821611  1.402552  1.419803  0.580975\n",
              "7  0.821611  1.402552  1.419803  0.580975\n",
              "8  0.821611  1.402552  1.419803  0.580975\n",
              "9  0.888568  1.402552  1.951410  0.580975"
            ],
            "text/html": [
              "<div>\n",
              "<style scoped>\n",
              "    .dataframe tbody tr th:only-of-type {\n",
              "        vertical-align: middle;\n",
              "    }\n",
              "\n",
              "    .dataframe tbody tr th {\n",
              "        vertical-align: top;\n",
              "    }\n",
              "\n",
              "    .dataframe thead th {\n",
              "        text-align: right;\n",
              "    }\n",
              "</style>\n",
              "<table border=\"1\" class=\"dataframe\">\n",
              "  <thead>\n",
              "    <tr style=\"text-align: right;\">\n",
              "      <th></th>\n",
              "      <th>A</th>\n",
              "      <th>B</th>\n",
              "      <th>C</th>\n",
              "      <th>D</th>\n",
              "    </tr>\n",
              "  </thead>\n",
              "  <tbody>\n",
              "    <tr>\n",
              "      <th>0</th>\n",
              "      <td>0.600871</td>\n",
              "      <td>-0.224526</td>\n",
              "      <td>-0.740743</td>\n",
              "      <td>-1.313420</td>\n",
              "    </tr>\n",
              "    <tr>\n",
              "      <th>1</th>\n",
              "      <td>0.600871</td>\n",
              "      <td>0.521770</td>\n",
              "      <td>1.419803</td>\n",
              "      <td>-0.211882</td>\n",
              "    </tr>\n",
              "    <tr>\n",
              "      <th>2</th>\n",
              "      <td>0.600871</td>\n",
              "      <td>0.521770</td>\n",
              "      <td>1.419803</td>\n",
              "      <td>0.252133</td>\n",
              "    </tr>\n",
              "    <tr>\n",
              "      <th>3</th>\n",
              "      <td>0.600871</td>\n",
              "      <td>1.402552</td>\n",
              "      <td>1.419803</td>\n",
              "      <td>0.252133</td>\n",
              "    </tr>\n",
              "    <tr>\n",
              "      <th>4</th>\n",
              "      <td>0.600871</td>\n",
              "      <td>1.402552</td>\n",
              "      <td>1.419803</td>\n",
              "      <td>0.252133</td>\n",
              "    </tr>\n",
              "    <tr>\n",
              "      <th>5</th>\n",
              "      <td>0.821611</td>\n",
              "      <td>1.402552</td>\n",
              "      <td>1.419803</td>\n",
              "      <td>0.580975</td>\n",
              "    </tr>\n",
              "    <tr>\n",
              "      <th>6</th>\n",
              "      <td>0.821611</td>\n",
              "      <td>1.402552</td>\n",
              "      <td>1.419803</td>\n",
              "      <td>0.580975</td>\n",
              "    </tr>\n",
              "    <tr>\n",
              "      <th>7</th>\n",
              "      <td>0.821611</td>\n",
              "      <td>1.402552</td>\n",
              "      <td>1.419803</td>\n",
              "      <td>0.580975</td>\n",
              "    </tr>\n",
              "    <tr>\n",
              "      <th>8</th>\n",
              "      <td>0.821611</td>\n",
              "      <td>1.402552</td>\n",
              "      <td>1.419803</td>\n",
              "      <td>0.580975</td>\n",
              "    </tr>\n",
              "    <tr>\n",
              "      <th>9</th>\n",
              "      <td>0.888568</td>\n",
              "      <td>1.402552</td>\n",
              "      <td>1.951410</td>\n",
              "      <td>0.580975</td>\n",
              "    </tr>\n",
              "  </tbody>\n",
              "</table>\n",
              "</div>"
            ]
          },
          "metadata": {},
          "execution_count": 96
        }
      ]
    },
    {
      "cell_type": "code",
      "source": [],
      "metadata": {
        "id": "HjFWsCUvxLIy"
      },
      "execution_count": null,
      "outputs": []
    }
  ]
}