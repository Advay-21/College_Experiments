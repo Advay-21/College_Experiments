{
  "nbformat": 4,
  "nbformat_minor": 0,
  "metadata": {
    "colab": {
      "provenance": [],
      "authorship_tag": "ABX9TyObaEWfPLCMo2yqv153Y8Gr",
      "include_colab_link": true
    },
    "kernelspec": {
      "name": "python3",
      "display_name": "Python 3"
    },
    "language_info": {
      "name": "python"
    }
  },
  "cells": [
    {
      "cell_type": "markdown",
      "metadata": {
        "id": "view-in-github",
        "colab_type": "text"
      },
      "source": [
        "<a href=\"https://colab.research.google.com/github/Advay-21/College_Experiments/blob/main/System_Fundamentals_and_C_Programming.ipynb\" target=\"_parent\"><img src=\"https://colab.research.google.com/assets/colab-badge.svg\" alt=\"Open In Colab\"/></a>"
      ]
    },
    {
      "cell_type": "markdown",
      "source": [
        "# First Fit"
      ],
      "metadata": {
        "id": "f_9WmXvneXYz"
      }
    },
    {
      "cell_type": "code",
      "execution_count": null,
      "metadata": {
        "colab": {
          "base_uri": "https://localhost:8080/"
        },
        "id": "vSy9vvWmd7Nn",
        "outputId": "9b220339-f621-4cf2-8fbf-c3ab49d09c71"
      },
      "outputs": [
        {
          "output_type": "stream",
          "name": "stdout",
          "text": [
            "Writing firstfit.c\n"
          ]
        }
      ],
      "source": [
        "%%writefile firstfit.c\n",
        "#include<stdio.h>\n",
        "void firstFit(int blockSize[], int m, int processSize[], int n)\n",
        "{\n",
        "int i, j;\n",
        "int allocation[n];\n",
        "for(i = 0; i < n; i++)\n",
        "{\n",
        "allocation[i] = -1;\n",
        "}\n",
        "for (i = 0; i < n; i++)\n",
        "{\n",
        "for (j = 0; j < m; j++)\n",
        "{\n",
        "if (blockSize[j] >= processSize[i])\n",
        "{\n",
        "allocation[i] = j;\n",
        " blockSize[j] -= processSize[i];\n",
        " break;\n",
        "}\n",
        "}\n",
        "}\n",
        "printf(\"\\nProcess No.\\tProcess Size\\tBlock no.\\n\");\n",
        "for (int i = 0; i < n; i++)\n",
        "{\n",
        "printf(\" %i\\t\\t\\t\", i+1);\n",
        "printf(\"%i\\t\\t\\t\\t\", processSize[i]);\n",
        "if (allocation[i] != -1)\n",
        "printf(\"%i\", allocation[i] + 1);\n",
        "else\n",
        "printf(\"Not Allocated\");\n",
        "printf(\"\\n\");\n",
        "}\n",
        "}\n",
        "// Driver code\n",
        "int main()\n",
        "{\n",
        "int m;\n",
        "int n;\n",
        "int blockSize[] = {100, 500, 200, 300, 600};\n",
        "int processSize[] = {212, 417, 112, 426};\n",
        "m = sizeof(blockSize) / sizeof(blockSize[0]);\n",
        "n = sizeof(processSize) / sizeof(processSize[0]);\n",
        "firstFit(blockSize, m, processSize, n);\n",
        "return 0 ;\n",
        "}"
      ]
    },
    {
      "cell_type": "code",
      "source": [
        "!gcc firstfit.c -o firstfit"
      ],
      "metadata": {
        "id": "C2g49Uzue1Q0"
      },
      "execution_count": null,
      "outputs": []
    },
    {
      "cell_type": "code",
      "source": [
        "!./firstfit"
      ],
      "metadata": {
        "colab": {
          "base_uri": "https://localhost:8080/"
        },
        "id": "vS0Y3uOQe8d5",
        "outputId": "2f3832c0-8c23-4e8f-9e3f-95e1e09c8b9d"
      },
      "execution_count": null,
      "outputs": [
        {
          "output_type": "stream",
          "name": "stdout",
          "text": [
            "\n",
            "Process No.\tProcess Size\tBlock no.\n",
            " 1\t\t\t212\t\t\t\t2\n",
            " 2\t\t\t417\t\t\t\t5\n",
            " 3\t\t\t112\t\t\t\t2\n",
            " 4\t\t\t426\t\t\t\tNot Allocated\n"
          ]
        }
      ]
    },
    {
      "cell_type": "markdown",
      "source": [
        "# Best Fit"
      ],
      "metadata": {
        "id": "qEBvw4TigIbj"
      }
    },
    {
      "cell_type": "code",
      "source": [
        "%%writefile bestfit.c\n",
        "#include <stdio.h>\n",
        "void implimentBestFit(int blockSize[], int blocks, int processSize[], int processes)\n",
        "{\n",
        " int allocation[processes];\n",
        " for(int i = 0; i < processes; i++){\n",
        " allocation[i] = -1;\n",
        " }\n",
        " for (int i=0; i<processes; i++)\n",
        " {\n",
        " int indexPlaced = -1;\n",
        " for (int j=0; j<blocks; j++)\n",
        " {\n",
        " if (blockSize[j] >= processSize[i])\n",
        " {\n",
        " if (indexPlaced == -1)\n",
        " indexPlaced = j;\n",
        " else if (blockSize[j] < blockSize[indexPlaced])\n",
        " indexPlaced = j;\n",
        " }\n",
        " }\n",
        "if (indexPlaced != -1)\n",
        " {\n",
        " allocation[i] = indexPlaced;\n",
        " blockSize[indexPlaced] -= processSize[i];\n",
        " }\n",
        " }\n",
        " printf(\"\\nProcess No.\\tProcess Size\\tBlock no.\\n\");\n",
        " for (int i = 0; i < processes; i++)\n",
        " {\n",
        " printf(\"%d \\t\\t\\t %d \\t\\t\\t\", i+1, processSize[i]);\n",
        " if (allocation[i] != -1)\n",
        " printf(\"%d\\n\",allocation[i] + 1);\n",
        " else\n",
        " printf(\"Not Allocated\\n\");\n",
        " }\n",
        "}\n",
        "// Driver code\n",
        "int main()\n",
        "{\n",
        " int blockSize[] = {100,500,200,300,600};\n",
        " int processSize[] = {212,417,112,426};\n",
        " int blocks = sizeof(blockSize)/sizeof(blockSize[0]);\n",
        " int processes = sizeof(processSize)/sizeof(processSize[0]);\n",
        " implimentBestFit(blockSize, blocks, processSize, processes);\n",
        "return 0 ;\n",
        "}"
      ],
      "metadata": {
        "colab": {
          "base_uri": "https://localhost:8080/"
        },
        "id": "2R5bJczbfACx",
        "outputId": "4b02047f-9177-4496-9db8-d4f54e89c659"
      },
      "execution_count": null,
      "outputs": [
        {
          "output_type": "stream",
          "name": "stdout",
          "text": [
            "Writing bestfit.c\n"
          ]
        }
      ]
    },
    {
      "cell_type": "code",
      "source": [
        "!gcc bestfit.c -o bestfit"
      ],
      "metadata": {
        "id": "-4QUejV5fcZg"
      },
      "execution_count": null,
      "outputs": []
    },
    {
      "cell_type": "code",
      "source": [
        "!./bestfit"
      ],
      "metadata": {
        "colab": {
          "base_uri": "https://localhost:8080/"
        },
        "id": "WuMOp-k7fe1v",
        "outputId": "6ce6f413-f9c2-4edb-96b4-bd6c7e83dc2d"
      },
      "execution_count": null,
      "outputs": [
        {
          "output_type": "stream",
          "name": "stdout",
          "text": [
            "\n",
            "Process No.\tProcess Size\tBlock no.\n",
            "1 \t\t\t 212 \t\t\t4\n",
            "2 \t\t\t 417 \t\t\t2\n",
            "3 \t\t\t 112 \t\t\t3\n",
            "4 \t\t\t 426 \t\t\t5\n"
          ]
        }
      ]
    },
    {
      "cell_type": "markdown",
      "source": [
        "# Worst Fit"
      ],
      "metadata": {
        "id": "GgjVZ1tDgNF1"
      }
    },
    {
      "cell_type": "code",
      "source": [
        "%%writefile worstfit.c\n",
        "#include <stdio.h>\n",
        "void implimentWorstFit(int blockSize[], int blocks, int processSize[], int processes)\n",
        "{\n",
        " int allocation[processes];\n",
        " int occupied[blocks];\n",
        " for(int i = 0; i < processes; i++){\n",
        " allocation[i] = -1;\n",
        " }\n",
        " for(int i = 0; i < blocks; i++){\n",
        " occupied[i] = 0;\n",
        " }\n",
        " for (int i=0; i < processes; i++)\n",
        " {\n",
        "int indexPlaced = -1;\n",
        "for(int j = 0; j < blocks; j++)\n",
        "{\n",
        " if(blockSize[j] >= processSize[i] && !occupied[j])\n",
        " {\n",
        " if (indexPlaced == -1)\n",
        " indexPlaced = j;\n",
        " else if (blockSize[indexPlaced] < blockSize[j])\n",
        " indexPlaced = j;\n",
        " }\n",
        " }\n",
        "   if (indexPlaced != -1)\n",
        " {\n",
        " allocation[i] = indexPlaced;\n",
        " occupied[indexPlaced] = 1;\n",
        " blockSize[indexPlaced] -= processSize[i];\n",
        " }\n",
        " }\n",
        "printf(\"\\nProcess No.\\tProcess Size\\tBlock no.\\n\");\n",
        " for (int i = 0; i < processes; i++)\n",
        " {\n",
        " printf(\"%d \\t\\t\\t %d \\t\\t\\t\", i+1, processSize[i]);\n",
        " if (allocation[i] != -1)\n",
        " printf(\"%d\\n\",allocation[i] + 1);\n",
        " else\n",
        " printf(\"Not Allocated\\n\");\n",
        " }\n",
        "}\n",
        "// Driver code\n",
        "int main()\n",
        "{\n",
        " int blockSize[] = {100,500,200,300,600};\n",
        " int processSize[] = {212,417,112,426};\n",
        " int blocks = sizeof(blockSize)/sizeof(blockSize[0]);\n",
        " int processes = sizeof(processSize)/sizeof(processSize[0]);\n",
        " implimentWorstFit(blockSize, blocks, processSize, processes);\n",
        " return 0;\n",
        "}"
      ],
      "metadata": {
        "colab": {
          "base_uri": "https://localhost:8080/"
        },
        "id": "x-hXcQS_fhIT",
        "outputId": "111d9a2a-8dbe-4d85-afa4-5a10e5a5a5c1"
      },
      "execution_count": null,
      "outputs": [
        {
          "output_type": "stream",
          "name": "stdout",
          "text": [
            "Writing worstfit.c\n"
          ]
        }
      ]
    },
    {
      "cell_type": "code",
      "source": [
        "!gcc worstfit.c -o worstfit"
      ],
      "metadata": {
        "id": "IA_nPQ28f9Pj"
      },
      "execution_count": null,
      "outputs": []
    },
    {
      "cell_type": "code",
      "source": [
        "!./worstfit"
      ],
      "metadata": {
        "colab": {
          "base_uri": "https://localhost:8080/"
        },
        "id": "378IY-8Nf_dE",
        "outputId": "f1717daa-9b93-415f-b7f9-fde6e92d197b"
      },
      "execution_count": null,
      "outputs": [
        {
          "output_type": "stream",
          "name": "stdout",
          "text": [
            "\n",
            "Process No.\tProcess Size\tBlock no.\n",
            "1 \t\t\t 212 \t\t\t5\n",
            "2 \t\t\t 417 \t\t\t2\n",
            "3 \t\t\t 112 \t\t\t4\n",
            "4 \t\t\t 426 \t\t\tNot Allocated\n"
          ]
        }
      ]
    },
    {
      "cell_type": "markdown",
      "source": [
        "# FIFO"
      ],
      "metadata": {
        "id": "WJyN4Iiyhw9-"
      }
    },
    {
      "cell_type": "code",
      "source": [
        "%%writefile FIFO.c\n",
        "#include<stdio.h>\n",
        "void main()\n",
        "{\n",
        "int data[] = {1,3,0,3,5,6,0};\n",
        "int frame[3];\n",
        "int i;\n",
        "int hit=0,fault=3;\n",
        "float ratio;\n",
        "for(i=0;i<3;i++)\n",
        "{\n",
        "frame[i]=data[i];\n",
        "}\n",
        "  for(i=3;data[i]!=0;i++)\n",
        "{\n",
        "if(data[i]==frame[0]||data[i]==frame[1]||data[i]==frame[2])\n",
        "{\n",
        "hit++;\n",
        "}\n",
        "else\n",
        "{\n",
        "fault++;\n",
        "frame[(fault-1)%3]=data[i];\n",
        "}\n",
        "}\n",
        "printf(\"Number of hits: %d\\n\",hit);\n",
        "printf(\"Number of faults: %d\\n\",fault);\n",
        "ratio=(float)hit/(float)(hit+fault);\n",
        "printf(\"Hit ratio: %f\\n\",ratio);\n",
        "}"
      ],
      "metadata": {
        "colab": {
          "base_uri": "https://localhost:8080/"
        },
        "id": "Wvimuos-gBai",
        "outputId": "e9479f3f-6de4-45d3-bd08-f8aa46825292"
      },
      "execution_count": null,
      "outputs": [
        {
          "output_type": "stream",
          "name": "stdout",
          "text": [
            "Writing FIFO.c\n"
          ]
        }
      ]
    },
    {
      "cell_type": "code",
      "source": [
        "!gcc FIFO.c -o FIFO"
      ],
      "metadata": {
        "id": "Es3eo-JWhe31"
      },
      "execution_count": null,
      "outputs": []
    },
    {
      "cell_type": "code",
      "source": [
        "!./FIFO"
      ],
      "metadata": {
        "colab": {
          "base_uri": "https://localhost:8080/"
        },
        "id": "Kd8QYOAChrEl",
        "outputId": "46404d1e-e7af-428a-c6ad-3dde075e1cf9"
      },
      "execution_count": null,
      "outputs": [
        {
          "output_type": "stream",
          "name": "stdout",
          "text": [
            "Number of hits: 1\n",
            "Number of faults: 5\n",
            "Hit ratio: 0.166667\n"
          ]
        }
      ]
    },
    {
      "cell_type": "markdown",
      "source": [
        "# Optimal"
      ],
      "metadata": {
        "id": "ddSvhZDDjPag"
      }
    },
    {
      "cell_type": "code",
      "source": [
        "%%writefile optimal.c\n",
        "#include <stdio.h>\n",
        "// This function checks if current strea item(key) exists in any of the frames or not\n",
        "int search(int key, int frame_items[], int frame_occupied)\n",
        "{\n",
        " for (int i = 0; i < frame_occupied; i++)\n",
        " if (frame_items[i] == key)\n",
        " return 1;\n",
        " return 0;\n",
        "}\n",
        "void printOuterStructure(int max_frames){\n",
        " printf(\"Stream\\t \");\n",
        " for(int i = 0; i < max_frames; i++)\n",
        " printf(\"\\tFrame%d\\t \", i+1);\n",
        "}\n",
        "void printCurrFrames(int item, int frame_items[], int frame_occupied, int\n",
        "max_frames){\n",
        " // print current reference stream item\n",
        " printf(\"\\n%d \\t\\t\", item);\n",
        " // print frame occupants one by one\n",
        " for(int i = 0; i < max_frames; i++){\n",
        " if(i < frame_occupied)\n",
        " printf(\"%d \\t\\t\", frame_items[i]);\n",
        " else\n",
        " printf(\"- \\t\\t\");\n",
        " }\n",
        "}\n",
        "// This Function helps in finding frame that will not be used\n",
        "// for the longest period of time in future in ref_str[0 ... refStrLen - 1]\n",
        "int predict(int ref_str[], int frame_items[], int refStrLen, int index, int\n",
        "frame_occupied)\n",
        "{\n",
        " // For each current occupant in frame item\n",
        " // we try to find the frame item that will not be referenced in\n",
        " // for the longest in future in the upcoming reference string\n",
        " int result = -1, farthest = index;\n",
        " for (int i = 0; i < frame_occupied; i++) {\n",
        " int j;\n",
        " for (j = index; j < refStrLen; j++)\n",
        " {\n",
        " if (frame_items[i] == ref_str[j])\n",
        " {\n",
        " if (j > farthest) {\n",
        " farthest = j;\n",
        " result = i;\n",
        " }\n",
        " break;\n",
        " }\n",
        " }\n",
        " // If we find a page that is never referenced in future,\n",
        " // return it immediately as its the best\n",
        " if (j == refStrLen)\n",
        " return i;\n",
        " }\n",
        " // If none of the frame items appear in reference string\n",
        " // in the future then we return 0th index. Otherwise we return result\n",
        " return (result == -1) ? 0 : result;\n",
        "}\n",
        "void optimalPage(int ref_str[], int refStrLen, int frame_items[], int max_frames)\n",
        "{\n",
        " // initially none of the frames are occupied\n",
        " int frame_occupied = 0;\n",
        " printOuterStructure(max_frames);\n",
        " // Here we traverse through reference string\n",
        " // and check for miss and hit.\n",
        " int hits = 0;\n",
        " for (int i = 0; i < refStrLen; i++) {\n",
        " // If found already in the frame items : HIT\n",
        " if (search(ref_str[i], frame_items, frame_occupied)) {\n",
        " hits++;\n",
        " printCurrFrames(ref_str[i], frame_items, frame_occupied, max_frames);\n",
        " continue;\n",
        " }\n",
        " // If not found in frame items : MISS\n",
        " // If frames are empty then current reference string item in frame\n",
        " if (frame_occupied < max_frames){\n",
        " frame_items[frame_occupied] = ref_str[i];\n",
        " frame_occupied++;\n",
        " printCurrFrames(ref_str[i], frame_items, frame_occupied, max_frames);\n",
        " }\n",
        " // else we need to use optmial algorithm to find\n",
        " // frame index where we need to do replacement for this\n",
        " // incoming reference string item\n",
        " else {\n",
        " int pos = predict(ref_str, frame_items, refStrLen, i + 1,\n",
        "frame_occupied);\n",
        " frame_items[pos] = ref_str[i];\n",
        " printCurrFrames(ref_str[i], frame_items, frame_occupied, max_frames);\n",
        " }\n",
        " }\n",
        " printf(\"\\nNumber of page faults: %d\", refStrLen - hits);\n",
        "}\n",
        "// Driver Function\n",
        "int main()\n",
        "{\n",
        " // int ref_str[] = {9, 0, 5, 1, 0, 3, 0, 4, 1, 3, 0, 3, 1, 3};\n",
        " int ref_str[] = {7, 0, 1, 2, 0, 3, 0, 4, 2, 3, 0, 3, 2};\n",
        " int refStrLen = sizeof(ref_str) / sizeof(ref_str[0]);\n",
        " int max_frames = 4;\n",
        " int frame_items[max_frames];\n",
        " optimalPage(ref_str, refStrLen, frame_items, max_frames);\n",
        " return 0;\n",
        "}"
      ],
      "metadata": {
        "colab": {
          "base_uri": "https://localhost:8080/"
        },
        "id": "FujjOxfQhtWV",
        "outputId": "698fc494-59a6-4fca-b7eb-78933b901f46"
      },
      "execution_count": null,
      "outputs": [
        {
          "output_type": "stream",
          "name": "stdout",
          "text": [
            "Writing optimal.c\n"
          ]
        }
      ]
    },
    {
      "cell_type": "code",
      "source": [
        "!gcc optimal.c -o optimal"
      ],
      "metadata": {
        "id": "b_AMbzxEiL5V"
      },
      "execution_count": null,
      "outputs": []
    },
    {
      "cell_type": "code",
      "source": [
        "!./optimal"
      ],
      "metadata": {
        "colab": {
          "base_uri": "https://localhost:8080/"
        },
        "id": "vyLN7mMEiQ9u",
        "outputId": "1aa7431a-3542-4696-c6a5-51e36cfdb80b"
      },
      "execution_count": null,
      "outputs": [
        {
          "output_type": "stream",
          "name": "stdout",
          "text": [
            "Stream\t \tFrame1\t \tFrame2\t \tFrame3\t \tFrame4\t \n",
            "7 \t\t7 \t\t- \t\t- \t\t- \t\t\n",
            "0 \t\t7 \t\t0 \t\t- \t\t- \t\t\n",
            "1 \t\t7 \t\t0 \t\t1 \t\t- \t\t\n",
            "2 \t\t7 \t\t0 \t\t1 \t\t2 \t\t\n",
            "0 \t\t7 \t\t0 \t\t1 \t\t2 \t\t\n",
            "3 \t\t3 \t\t0 \t\t1 \t\t2 \t\t\n",
            "0 \t\t3 \t\t0 \t\t1 \t\t2 \t\t\n",
            "4 \t\t3 \t\t0 \t\t4 \t\t2 \t\t\n",
            "2 \t\t3 \t\t0 \t\t4 \t\t2 \t\t\n",
            "3 \t\t3 \t\t0 \t\t4 \t\t2 \t\t\n",
            "0 \t\t3 \t\t0 \t\t4 \t\t2 \t\t\n",
            "3 \t\t3 \t\t0 \t\t4 \t\t2 \t\t\n",
            "2 \t\t3 \t\t0 \t\t4 \t\t2 \t\t\n",
            "Number of page faults: 6"
          ]
        }
      ]
    },
    {
      "cell_type": "markdown",
      "source": [
        "# Banker's Algorithm"
      ],
      "metadata": {
        "id": "Okhvu8f5j17_"
      }
    },
    {
      "cell_type": "code",
      "source": [
        "%%writefile banker.c\n",
        "// Banker's Algorithm\n",
        " #include <stdio.h>\n",
        " int main()\n",
        " {\n",
        "  int n, m, i, j, k;\n",
        " n = 3;\n",
        " m = 3;\n",
        " int alloc[5][3] = {{3, 2, 1},\n",
        " {1, 1, 2},\n",
        " {4, 1, 2}};\n",
        "\n",
        " int max[5][3] = {{4, 4, 4},\n",
        " {3, 4, 5},\n",
        " {5, 2, 4}};\n",
        "\n",
        " int avail[3] = {10, 7, 7};\n",
        "\n",
        " int f[n], ans[n], ind = 0;\n",
        " for (k = 0; k < n; k++)\n",
        " {\n",
        " f[k] = 0;\n",
        " }\n",
        " int need[n][m];\n",
        " for (i = 0; i < n; i++)\n",
        " {\n",
        " for (j = 0; j < m; j++)\n",
        " need[i][j] = max[i][j] - alloc[i][j];\n",
        " }\n",
        " int y = 0;\n",
        " for (k = 0; k < 5; k++)\n",
        " {\n",
        " for (i = 0; i < n; i++)\n",
        " {\n",
        " if (f[i] == 0)\n",
        " {\n",
        " int flag = 0;\n",
        " for (j = 0; j < m; j++)\n",
        " {\n",
        " if (need[i][j] > avail[j])\n",
        " {\n",
        " flag = 1;\n",
        " break;\n",
        " }\n",
        " }\n",
        " if (flag == 0)\n",
        " {\n",
        " ans[ind++] = i;\n",
        " for (y = 0; y < m; y++)\n",
        " avail[y] += alloc[i][y];\n",
        " f[i] = 1;\n",
        " }\n",
        " }\n",
        " }\n",
        " }\n",
        " int flag = 1;\n",
        " for (int i = 0; i < n; i++)\n",
        " {\n",
        " if (f[i] == 0)\n",
        " {\n",
        " flag = 0;\n",
        " printf(\"The following system is not safe\");\n",
        " break;\n",
        " }\n",
        " }\n",
        " if (flag == 1)\n",
        " {\n",
        " printf(\"Following is the SAFE Sequence\\n\");\n",
        " for (i = 0; i < n - 1; i++)\n",
        " printf(\" P%d ->\", ans[i]);\n",
        " printf(\" P%d\", ans[n - 1]);\n",
        " }\n",
        " return (0);\n",
        " }"
      ],
      "metadata": {
        "colab": {
          "base_uri": "https://localhost:8080/"
        },
        "id": "kdFOqYFJjIFs",
        "outputId": "dcfccf78-c474-441e-a070-359be51d88ee"
      },
      "execution_count": null,
      "outputs": [
        {
          "output_type": "stream",
          "name": "stdout",
          "text": [
            "Writing banker.c\n"
          ]
        }
      ]
    },
    {
      "cell_type": "code",
      "source": [
        "!gcc banker.c -o banker"
      ],
      "metadata": {
        "id": "9GZ2umSlj_Ho"
      },
      "execution_count": null,
      "outputs": []
    },
    {
      "cell_type": "code",
      "source": [
        "!./banker"
      ],
      "metadata": {
        "colab": {
          "base_uri": "https://localhost:8080/"
        },
        "id": "c0sLCcWBkCYw",
        "outputId": "b0ceb93b-d66e-4e43-d8fd-4305c9c2c651"
      },
      "execution_count": null,
      "outputs": [
        {
          "output_type": "stream",
          "name": "stdout",
          "text": [
            "Following is the SAFE Sequence\n",
            " P0 -> P1 -> P2"
          ]
        }
      ]
    },
    {
      "cell_type": "markdown",
      "source": [
        "# Swap Numbers"
      ],
      "metadata": {
        "id": "SicvA621mhVY"
      }
    },
    {
      "cell_type": "code",
      "source": [
        "%%writefile swap.c\n",
        "#include<stdio.h>\n",
        "void main()\n",
        "{\n",
        "int a,b;\n",
        "printf(\"Enter the two numbers to be swapped: \");\n",
        "scanf(\"%d%d\",&a,&b);\n",
        "a=a+b;\n",
        "b=a-b;\n",
        "a=a-b;\n",
        "printf(\"On swapping the numbers are: %d and %d\",a,b);\n",
        "}"
      ],
      "metadata": {
        "colab": {
          "base_uri": "https://localhost:8080/"
        },
        "id": "_AvcAn0jm_UJ",
        "outputId": "0db05b99-03c0-42f9-c533-b7d5c1ae5f32"
      },
      "execution_count": null,
      "outputs": [
        {
          "output_type": "stream",
          "name": "stdout",
          "text": [
            "Overwriting swap.c\n"
          ]
        }
      ]
    },
    {
      "cell_type": "code",
      "source": [
        "!gcc swap.c -o swap"
      ],
      "metadata": {
        "id": "cDGpVHG1nGOs"
      },
      "execution_count": null,
      "outputs": []
    },
    {
      "cell_type": "code",
      "source": [
        "!./swap"
      ],
      "metadata": {
        "colab": {
          "base_uri": "https://localhost:8080/"
        },
        "id": "1rG6mzPnnH50",
        "outputId": "6397cbe3-422c-4b7e-9ffb-a440b6d1d9d3"
      },
      "execution_count": null,
      "outputs": [
        {
          "output_type": "stream",
          "name": "stdout",
          "text": [
            "Enter the two numbers to be swapped: 6 9\n",
            "On swapping the numbers are: 9 and 6"
          ]
        }
      ]
    },
    {
      "cell_type": "markdown",
      "source": [
        "# Odd or Even Number Checking"
      ],
      "metadata": {
        "id": "B9tiXO6JnjX0"
      }
    },
    {
      "cell_type": "code",
      "source": [
        "%%writefile oddeven.c\n",
        "#include<stdio.h>\n",
        "void main()\n",
        "{\n",
        "int a;\n",
        "printf(\"Enter a number: \");\n",
        "scanf(\"%d\",&a);\n",
        "(a%2==0)?(printf(\"The number is even\")):(printf(\"The number is odd\"));\n",
        "}"
      ],
      "metadata": {
        "colab": {
          "base_uri": "https://localhost:8080/"
        },
        "id": "qWXHpG0YnQm1",
        "outputId": "da491846-e810-41b5-888f-8e89e3dcd126"
      },
      "execution_count": null,
      "outputs": [
        {
          "output_type": "stream",
          "name": "stdout",
          "text": [
            "Writing oddeven.c\n"
          ]
        }
      ]
    },
    {
      "cell_type": "code",
      "source": [
        "!gcc oddeven.c -o oddeven"
      ],
      "metadata": {
        "id": "ooN84HvNnvWE"
      },
      "execution_count": null,
      "outputs": []
    },
    {
      "cell_type": "code",
      "source": [
        "!./oddeven"
      ],
      "metadata": {
        "colab": {
          "base_uri": "https://localhost:8080/"
        },
        "id": "OUkUXP4fnwxU",
        "outputId": "338f7866-66dd-4048-fc53-2c8659b7e417"
      },
      "execution_count": null,
      "outputs": [
        {
          "output_type": "stream",
          "name": "stdout",
          "text": [
            "Enter a number: 153\n",
            "The number is odd"
          ]
        }
      ]
    },
    {
      "cell_type": "markdown",
      "source": [
        "# Check for Leap Year"
      ],
      "metadata": {
        "id": "aJUY6APGn-P3"
      }
    },
    {
      "cell_type": "code",
      "source": [
        "%%writefile leap.c\n",
        "#include<stdio.h>\n",
        "void main()\n",
        "{\n",
        "int a;\n",
        "printf(\"Enter an year: \");\n",
        "scanf(\"%d\",&a);\n",
        "if(a%400==0)\n",
        "{\n",
        "printf(\"The given year is a leap year\");\n",
        "}\n",
        "else if(a%100==0)\n",
        "{\n",
        "printf(\"The given year is not a leap year\");\n",
        "}\n",
        "else if(a%4==0)\n",
        "{\n",
        "printf(\"The given year is a leap year\");\n",
        "}\n",
        "else\n",
        "{\n",
        "printf(\"The given year is not a leap year\");\n",
        "}\n",
        "}"
      ],
      "metadata": {
        "colab": {
          "base_uri": "https://localhost:8080/"
        },
        "id": "VKC8DgqTn1Mg",
        "outputId": "a6e6abd2-0749-4330-a060-ef6b30876679"
      },
      "execution_count": null,
      "outputs": [
        {
          "output_type": "stream",
          "name": "stdout",
          "text": [
            "Writing leap.c\n"
          ]
        }
      ]
    },
    {
      "cell_type": "code",
      "source": [
        "!gcc leap.c -o leap"
      ],
      "metadata": {
        "id": "sxaU-iXkoc9E"
      },
      "execution_count": null,
      "outputs": []
    },
    {
      "cell_type": "code",
      "source": [
        "!./leap"
      ],
      "metadata": {
        "colab": {
          "base_uri": "https://localhost:8080/"
        },
        "id": "YKsqAwQXoe_V",
        "outputId": "b7a65a06-ef1e-4ce3-e4d4-1e67168ea14a"
      },
      "execution_count": null,
      "outputs": [
        {
          "output_type": "stream",
          "name": "stdout",
          "text": [
            "Enter an year: 2025\n",
            "The given year is not a leap year"
          ]
        }
      ]
    },
    {
      "cell_type": "markdown",
      "source": [
        "# Sum of Individual Digits"
      ],
      "metadata": {
        "id": "kbl1yo2ropZV"
      }
    },
    {
      "cell_type": "code",
      "source": [
        "%%writefile sum.c\n",
        "#include<stdio.h>\n",
        "void main()\n",
        "{\n",
        "int a,b,c,d,e,f;\n",
        "printf(\"Enter a three digit number: \");\n",
        "scanf(\"%d\",&a);\n",
        "b=a%10;\n",
        "c=a/10;\n",
        "d=c%10;\n",
        "e=c/10;\n",
        "f=b+d+e;\n",
        "printf(\"The sum of digits of the number= %d\",f);\n",
        "}"
      ],
      "metadata": {
        "colab": {
          "base_uri": "https://localhost:8080/"
        },
        "id": "ZlDsrvF9ohV9",
        "outputId": "76f9c2aa-09ab-437c-a323-f8f0c4f1346b"
      },
      "execution_count": null,
      "outputs": [
        {
          "output_type": "stream",
          "name": "stdout",
          "text": [
            "Writing sum.c\n"
          ]
        }
      ]
    },
    {
      "cell_type": "code",
      "source": [
        "!gcc sum.c -o sum"
      ],
      "metadata": {
        "id": "eDw_gZMspA4H"
      },
      "execution_count": null,
      "outputs": []
    },
    {
      "cell_type": "code",
      "source": [
        "!./sum"
      ],
      "metadata": {
        "colab": {
          "base_uri": "https://localhost:8080/"
        },
        "id": "t6yQGUhnpCrI",
        "outputId": "6f652fde-f402-4071-d23b-477ca16c51c6"
      },
      "execution_count": null,
      "outputs": [
        {
          "output_type": "stream",
          "name": "stdout",
          "text": [
            "Enter a three digit number: 207\n",
            "The sum of digits of the number= 9"
          ]
        }
      ]
    },
    {
      "cell_type": "markdown",
      "source": [
        "# Count Number of Digits"
      ],
      "metadata": {
        "id": "aCHMqaTkp8oK"
      }
    },
    {
      "cell_type": "code",
      "source": [
        "%%writefile num.c\n",
        "#include<stdio.h>\n",
        "void main()\n",
        "{\n",
        "int a,b;\n",
        "printf(\"Enter a number: \");\n",
        "scanf(\"%d\",&a);\n",
        "b=0;\n",
        "while(a>0)\n",
        "{\n",
        "a=a/10;\n",
        "b=b+1;\n",
        "}\n",
        "printf(\"The number of digits= %d\",b);\n",
        "}"
      ],
      "metadata": {
        "colab": {
          "base_uri": "https://localhost:8080/"
        },
        "id": "9lpkqbYvpply",
        "outputId": "f3502216-b328-4a2d-82a6-dcd01d8cf31b"
      },
      "execution_count": null,
      "outputs": [
        {
          "output_type": "stream",
          "name": "stdout",
          "text": [
            "Writing num.c\n"
          ]
        }
      ]
    },
    {
      "cell_type": "code",
      "source": [
        "!gcc num.c -o num"
      ],
      "metadata": {
        "id": "vgqr_sJkqNeL"
      },
      "execution_count": null,
      "outputs": []
    },
    {
      "cell_type": "code",
      "source": [
        "!./num"
      ],
      "metadata": {
        "colab": {
          "base_uri": "https://localhost:8080/"
        },
        "id": "VlWksmqAqO8z",
        "outputId": "86c0729a-4930-44e9-d278-5e98c4ef95da"
      },
      "execution_count": null,
      "outputs": [
        {
          "output_type": "stream",
          "name": "stdout",
          "text": [
            "Enter a number: 391\n",
            "The number of digits= 3"
          ]
        }
      ]
    },
    {
      "cell_type": "markdown",
      "source": [
        "# Calculator"
      ],
      "metadata": {
        "id": "KDMJUZ29qd3z"
      }
    },
    {
      "cell_type": "code",
      "source": [
        "%%writefile calculator.c\n",
        "#include<stdio.h>\n",
        "#include<stdlib.h>\n",
        "void main()\n",
        "{\n",
        "int a,b,r;\n",
        "char c;\n",
        "printf(\"Enter mathematical operation on the two numbers: \");\n",
        "scanf(\"%c\",&c);\n",
        "printf(\"Enter the two nmbers: \");\n",
        "scanf(\"%d%d\",&a,&b);\n",
        "switch(c)\n",
        "{\n",
        "case '+':r=a+b;\n",
        " printf(\"Result= %d\",r);\n",
        " break;\n",
        "case '-':r=a-b;\n",
        " printf(\"Result= %d\",r);\n",
        " break;\n",
        "case '*':r=a*b;\n",
        " printf(\"Result= %d\",r);\n",
        " break;\n",
        "case '/':r=a/b;\n",
        "printf(\"Result= %d\",r);\n",
        "break;\n",
        "case '%':r=a%b;\n",
        "printf(\"Result= %d\",r);\n",
        "break;\n",
        "case ']':exit(0);\n",
        " default:printf(\"Invalid Input\");\n",
        "}\n",
        "}"
      ],
      "metadata": {
        "colab": {
          "base_uri": "https://localhost:8080/"
        },
        "id": "o8C8iHajqQuj",
        "outputId": "79f1a30d-ea4f-45df-d53b-46108c135ab1"
      },
      "execution_count": null,
      "outputs": [
        {
          "output_type": "stream",
          "name": "stdout",
          "text": [
            "Overwriting calculator.c\n"
          ]
        }
      ]
    },
    {
      "cell_type": "code",
      "source": [
        "!gcc calculator.c -o calculator"
      ],
      "metadata": {
        "id": "-z9Fz9KJqvgk"
      },
      "execution_count": null,
      "outputs": []
    },
    {
      "cell_type": "code",
      "source": [
        "!./calculator"
      ],
      "metadata": {
        "colab": {
          "base_uri": "https://localhost:8080/"
        },
        "id": "dbqKj-Nnqwx0",
        "outputId": "dbe4a9ec-fd66-4eb0-9f7a-90a8e361bbe4"
      },
      "execution_count": null,
      "outputs": [
        {
          "output_type": "stream",
          "name": "stdout",
          "text": [
            "Enter mathematical operation on the two numbers: *\n",
            "Enter the two nmbers: 12 9\n",
            "Result= 108"
          ]
        }
      ]
    },
    {
      "cell_type": "markdown",
      "source": [
        "# Number Reversing and Sum of Digits"
      ],
      "metadata": {
        "id": "cxSPLyHUrVRO"
      }
    },
    {
      "cell_type": "code",
      "source": [
        "%%writefile reverse.c\n",
        "#include<stdio.h>\n",
        "void main()\n",
        "{\n",
        "int a,b,c;\n",
        "printf(\"Enter a number: \");\n",
        "scanf(\"%d\",&a);\n",
        "printf(\"On reversing digits we get: \");\n",
        "c=0;\n",
        "while(a>0)\n",
        "{\n",
        "b=a%10;\n",
        "printf(\"%d\",b);\n",
        "a=a/10;\n",
        "c=c+b;\n",
        "}\n",
        "printf(\"\\nThe sum of digits of the number is: %d\",c);\n",
        "}"
      ],
      "metadata": {
        "colab": {
          "base_uri": "https://localhost:8080/"
        },
        "id": "OHTG1t4Xq5Yj",
        "outputId": "cdf31b2b-5897-4593-aaf8-34d1d8551ebf"
      },
      "execution_count": null,
      "outputs": [
        {
          "output_type": "stream",
          "name": "stdout",
          "text": [
            "Writing reverse.c\n"
          ]
        }
      ]
    },
    {
      "cell_type": "code",
      "source": [
        "!gcc reverse.c -o reverse"
      ],
      "metadata": {
        "id": "dkG2_D7Srkro"
      },
      "execution_count": null,
      "outputs": []
    },
    {
      "cell_type": "code",
      "source": [
        "!./reverse"
      ],
      "metadata": {
        "colab": {
          "base_uri": "https://localhost:8080/"
        },
        "id": "QH9hOaT5rmAn",
        "outputId": "9317a0a3-0180-4ad1-e084-29591f3a9b54"
      },
      "execution_count": null,
      "outputs": [
        {
          "output_type": "stream",
          "name": "stdout",
          "text": [
            "Enter a number: 83690\n",
            "On reversing digits we get: 09638\n",
            "The sum of digits of the number is: 26"
          ]
        }
      ]
    },
    {
      "cell_type": "markdown",
      "source": [
        "# Number Pattern"
      ],
      "metadata": {
        "id": "rdJitGeor9wy"
      }
    },
    {
      "cell_type": "code",
      "source": [
        "%%writefile numpattern.c\n",
        "#include<stdio.h>\n",
        "void main()\n",
        "{\n",
        "int n,i,j;\n",
        "printf(\"Enter the number of rows: \");\n",
        "scanf(\"%d\",&n);\n",
        "for(i=n;i>=1;i--)\n",
        "{\n",
        "for(j=n;j>=i;j--)\n",
        "{\n",
        "printf(\"%d \",j-i+1);\n",
        "}\n",
        "printf(\"\\n\");\n",
        "}\n",
        "}"
      ],
      "metadata": {
        "colab": {
          "base_uri": "https://localhost:8080/"
        },
        "id": "o5n1iQF2rnyA",
        "outputId": "b98ecb6c-1264-4f38-eba4-4239081a2536"
      },
      "execution_count": null,
      "outputs": [
        {
          "output_type": "stream",
          "name": "stdout",
          "text": [
            "Writing numpattern.c\n"
          ]
        }
      ]
    },
    {
      "cell_type": "code",
      "source": [
        "!gcc numpattern.c -o numpattern"
      ],
      "metadata": {
        "id": "hZgt_TxKsYuJ"
      },
      "execution_count": null,
      "outputs": []
    },
    {
      "cell_type": "code",
      "source": [
        "!./numpattern"
      ],
      "metadata": {
        "colab": {
          "base_uri": "https://localhost:8080/"
        },
        "id": "NOo8BJWTsaS6",
        "outputId": "f8453bc8-9888-4627-f826-3e9fe9f7644a"
      },
      "execution_count": null,
      "outputs": [
        {
          "output_type": "stream",
          "name": "stdout",
          "text": [
            "Enter the number of rows: 4\n",
            "1 \n",
            "2 1 \n",
            "3 2 1 \n",
            "4 3 2 1 \n"
          ]
        }
      ]
    },
    {
      "cell_type": "markdown",
      "source": [
        "# Alphabet Pattern"
      ],
      "metadata": {
        "id": "TX1A8Zxssu_r"
      }
    },
    {
      "cell_type": "code",
      "source": [
        "%%writefile alphapattern.c\n",
        "#include<stdio.h>\n",
        "void main()\n",
        "{\n",
        "int n,i,j;\n",
        "printf(\"Enter the number of rows: \");\n",
        "scanf(\"%d\",&n);\n",
        "for(i=1;i<=n;i++)\n",
        "{\n",
        "for(j=1;j<=(n-i);j++)\n",
        "{\n",
        "printf(\" \");\n",
        "}\n",
        "for(j=1;j<=i;j++)\n",
        "{\n",
        "printf(\"%c \",(char)j+64);\n",
        "}\n",
        "for(j=i-1;j>=1;j--)\n",
        "{\n",
        "printf(\"%c \",(char)j+64);\n",
        "}\n",
        "printf(\"\\n\");\n",
        "}\n",
        "}"
      ],
      "metadata": {
        "colab": {
          "base_uri": "https://localhost:8080/"
        },
        "id": "-hoq12BEscoS",
        "outputId": "3694c43f-f3ca-461a-8d3b-08db74336205"
      },
      "execution_count": null,
      "outputs": [
        {
          "output_type": "stream",
          "name": "stdout",
          "text": [
            "Writing alphapattern.c\n"
          ]
        }
      ]
    },
    {
      "cell_type": "code",
      "source": [
        "!gcc alphapattern.c -o alphapattern"
      ],
      "metadata": {
        "id": "LT1BtEn3tJ3D"
      },
      "execution_count": null,
      "outputs": []
    },
    {
      "cell_type": "code",
      "source": [
        "!./alphapattern"
      ],
      "metadata": {
        "colab": {
          "base_uri": "https://localhost:8080/"
        },
        "id": "W5LT-7wvtLYz",
        "outputId": "27e87960-6cad-4191-c348-f1c37e4db772"
      },
      "execution_count": null,
      "outputs": [
        {
          "output_type": "stream",
          "name": "stdout",
          "text": [
            "Enter the number of rows: 5\n",
            "    A \n",
            "   A B A \n",
            "  A B C B A \n",
            " A B C D C B A \n",
            "A B C D E D C B A \n"
          ]
        }
      ]
    },
    {
      "cell_type": "code",
      "source": [
        "%%writefile maxmin.c\n",
        "#include<stdio.h>\n",
        "void max(int a,int b);\n",
        "void main()\n",
        "{\n",
        "int a,b;\n",
        "printf(\"Enter the two numbers: \");\n",
        "scanf(\"%d%d\",&a,&b);\n",
        "max(a,b);\n",
        "}\n",
        "void max(int a,int b)\n",
        "{\n",
        "if(a>b)\n",
        "{\n",
        "printf(\"The maximum value: %d\\n\",a);\n",
        "printf(\"The minimum value: %d\\n\",b);\n",
        "}\n",
        "else\n",
        "{\n",
        "printf(\"The maximum value: %d\\n\",b);\n",
        "printf(\"The minimum value: %d\\n\",a);\n",
        "}\n",
        "}"
      ],
      "metadata": {
        "colab": {
          "base_uri": "https://localhost:8080/"
        },
        "id": "W-KPkAXbtP3j",
        "outputId": "add80f81-5e22-4759-d2c2-1335f6cda567"
      },
      "execution_count": null,
      "outputs": [
        {
          "output_type": "stream",
          "name": "stdout",
          "text": [
            "Writing maxmin.c\n"
          ]
        }
      ]
    },
    {
      "cell_type": "code",
      "source": [
        "!gcc maxmin.c -o maxmin"
      ],
      "metadata": {
        "id": "riu-VZCJtuVk"
      },
      "execution_count": null,
      "outputs": []
    },
    {
      "cell_type": "code",
      "source": [
        "!./maxmin"
      ],
      "metadata": {
        "colab": {
          "base_uri": "https://localhost:8080/"
        },
        "id": "JBkkSn0utv3s",
        "outputId": "ddbf3cd5-a8e2-46cf-f827-84aaeceaebf5"
      },
      "execution_count": null,
      "outputs": [
        {
          "output_type": "stream",
          "name": "stdout",
          "text": [
            "Enter the two numbers: 8 10\n",
            "The maximum value: 10\n",
            "The minimum value: 8\n"
          ]
        }
      ]
    },
    {
      "cell_type": "markdown",
      "source": [
        "# HCF of Two Numbers"
      ],
      "metadata": {
        "id": "9UnDrcAHuEV8"
      }
    },
    {
      "cell_type": "code",
      "source": [
        "%%writefile hcf.c\n",
        "#include<stdio.h>\n",
        "void gcd(int a, int b);\n",
        "void main(){\n",
        "int c,d;\n",
        "printf(\"Enter two numbers (num1>num2): \");\n",
        "scanf(\"%d%d\",&c,&d);\n",
        "gcd(c,d);\n",
        "}\n",
        "void gcd(int a, int b){\n",
        "if(b == 0){\n",
        "printf(\"GCD is %d\", a);\n",
        "}\n",
        "else{\n",
        "gcd(b,a%b);\n",
        "}\n",
        "}"
      ],
      "metadata": {
        "colab": {
          "base_uri": "https://localhost:8080/"
        },
        "id": "XL4ptZLJtyA6",
        "outputId": "76de4d30-94d4-4444-d437-ced188e0fe1f"
      },
      "execution_count": null,
      "outputs": [
        {
          "output_type": "stream",
          "name": "stdout",
          "text": [
            "Overwriting hcf.c\n"
          ]
        }
      ]
    },
    {
      "cell_type": "code",
      "source": [
        "!gcc hcf.c -o hcf"
      ],
      "metadata": {
        "id": "_a1pCS-8uPsM"
      },
      "execution_count": null,
      "outputs": []
    },
    {
      "cell_type": "code",
      "source": [
        "!./hcf"
      ],
      "metadata": {
        "colab": {
          "base_uri": "https://localhost:8080/"
        },
        "id": "Rr5xoishuUOD",
        "outputId": "9d086d5c-851e-4d6b-c43f-edb04e340efd"
      },
      "execution_count": null,
      "outputs": [
        {
          "output_type": "stream",
          "name": "stdout",
          "text": [
            "Enter two numbers (num1>num2): 24 21\n",
            "GCD is 3"
          ]
        }
      ]
    },
    {
      "cell_type": "markdown",
      "source": [
        "# Largest and Smallest of Array"
      ],
      "metadata": {
        "id": "wRLZjs0qu1s2"
      }
    },
    {
      "cell_type": "code",
      "source": [
        "%%writefile arrcomp.c\n",
        "#include <stdio.h>\n",
        "void main()\n",
        "{\n",
        " int a[1000],i,n,min,max;\n",
        " printf(\"Enter size of the array : \");\n",
        " scanf(\"%d\",&n);\n",
        " printf(\"Enter elements in array : \");\n",
        " for(i=0; i<n; i++)\n",
        " {\n",
        "scanf(\"%d\",&a[i]);\n",
        " }\n",
        " min=max=a[0];\n",
        " for(i=1; i<n; i++)\n",
        " {\n",
        "if(min>a[i])\n",
        " min=a[i];\n",
        " if(max<a[i])\n",
        " max=a[i];\n",
        " }\n",
        " printf(\"Minimum value of array is : %d\",min);\n",
        " printf(\"\\nMaximum value of array is : %d\",max);\n",
        "}"
      ],
      "metadata": {
        "colab": {
          "base_uri": "https://localhost:8080/"
        },
        "id": "QqC5-BRFuZcr",
        "outputId": "1b90667b-6759-4aaf-a0c9-5442efce28bd"
      },
      "execution_count": null,
      "outputs": [
        {
          "output_type": "stream",
          "name": "stdout",
          "text": [
            "Writing arrcomp.c\n"
          ]
        }
      ]
    },
    {
      "cell_type": "code",
      "source": [
        "!gcc arrcomp.c -o arrcomp"
      ],
      "metadata": {
        "id": "3tYNZsBGvBbR"
      },
      "execution_count": null,
      "outputs": []
    },
    {
      "cell_type": "code",
      "source": [
        "!./arrcomp"
      ],
      "metadata": {
        "colab": {
          "base_uri": "https://localhost:8080/"
        },
        "id": "zE-axvm2vC8h",
        "outputId": "d013bf24-810b-4efb-c85f-a1a59f38557a"
      },
      "execution_count": null,
      "outputs": [
        {
          "output_type": "stream",
          "name": "stdout",
          "text": [
            "Enter size of the array : 5\n",
            "Enter elements in array : 4 6 2 9 3\n",
            "Minimum value of array is : 2\n",
            "Maximum value of array is : 9"
          ]
        }
      ]
    },
    {
      "cell_type": "markdown",
      "source": [
        "# Matrix Multiplication"
      ],
      "metadata": {
        "id": "aJf-v2dovR5T"
      }
    },
    {
      "cell_type": "code",
      "source": [
        "%%writefile matrixprod.c\n",
        "#include<stdio.h>\n",
        "#include<stdlib.h>\n",
        "void main(){\n",
        "int a[10][10],b[10][10],mul[10][10],r,c,i,j,k;\n",
        "printf(\"enter the number of row=\");\n",
        "scanf(\"%d\",&r);\n",
        "printf(\"enter the number of column=\");\n",
        "scanf(\"%d\",&c);\n",
        "printf(\"enter the first matrix element=\\n\");\n",
        "for(i=0;i<r;i++)\n",
        "{\n",
        "for(j=0;j<c;j++)\n",
        "{\n",
        "scanf(\"%d\",&a[i][j]);\n",
        "}\n",
        "}\n",
        "printf(\"enter the second matrix element=\\n\");\n",
        "for(i=0;i<r;i++)\n",
        "{\n",
        "for(j=0;j<c;j++)\n",
        "{\n",
        "scanf(\"%d\",&b[i][j]);\n",
        "}\n",
        "}\n",
        "printf(\"multiply of the matrix=\\n\");\n",
        "for(i=0;i<r;i++)\n",
        "{\n",
        "for(j=0;j<c;j++)\n",
        "{\n",
        "mul[i][j]=0;\n",
        "for(k=0;k<c;k++)\n",
        "{\n",
        "mul[i][j]+=a[i][k]*b[k][j];\n",
        "}\n",
        "}\n",
        "}\n",
        "for(i=0;i<r;i++)\n",
        "{\n",
        "for(j=0;j<c;j++)\n",
        "{\n",
        "printf(\"%d\\t\",mul[i][j]);\n",
        "}\n",
        "printf(\"\\n\");\n",
        "}\n",
        "}"
      ],
      "metadata": {
        "colab": {
          "base_uri": "https://localhost:8080/"
        },
        "id": "_mNXr3JivE2A",
        "outputId": "11c8a329-dfb1-4390-d4c4-a4a7975c8951"
      },
      "execution_count": null,
      "outputs": [
        {
          "output_type": "stream",
          "name": "stdout",
          "text": [
            "Writing matrixprod.c\n"
          ]
        }
      ]
    },
    {
      "cell_type": "code",
      "source": [
        "!gcc matrixprod.c -o matrixprod"
      ],
      "metadata": {
        "id": "kvggPTA1vnSi"
      },
      "execution_count": null,
      "outputs": []
    },
    {
      "cell_type": "code",
      "source": [
        "!./matrixprod"
      ],
      "metadata": {
        "colab": {
          "base_uri": "https://localhost:8080/"
        },
        "id": "nRpObTFIvpgZ",
        "outputId": "f7f333c9-0a20-4ff3-ce9a-0c23749e76fc"
      },
      "execution_count": null,
      "outputs": [
        {
          "output_type": "stream",
          "name": "stdout",
          "text": [
            "enter the number of row=3\n",
            "enter the number of column=3\n",
            "enter the first matrix element=\n",
            "3 7 1 9 2 5 0 9 1\n",
            "enter the second matrix element=\n",
            "1 3 7 2 9 2 4 0 5\n",
            "multiply of the matrix=\n",
            "21\t72\t40\t\n",
            "33\t45\t92\t\n",
            "22\t81\t23\t\n"
          ]
        }
      ]
    },
    {
      "cell_type": "markdown",
      "source": [
        "# Delete Element from a location in Array"
      ],
      "metadata": {
        "id": "cgaYbuHmdM6A"
      }
    },
    {
      "cell_type": "code",
      "source": [
        "%%writefile delete.c\n",
        "#include <stdio.h>\n",
        "void main()\n",
        "{\n",
        "    int array[100], position, c, n;\n",
        "    printf(\"Enter number of elements in array\\n\");\n",
        "    scanf(\"%d\", &n);\n",
        "    printf(\"Enter %d elements\\n\", n);\n",
        "    for ( c = 0 ; c < n ; c++ )\n",
        "    scanf(\"%d\", &array[c]);\n",
        "    printf(\"Enter the location where you wish to delete element\\n\");\n",
        "    scanf(\"%d\", &position);\n",
        "    if ( position >= n+1 )\n",
        "    printf(\"Deletion not possible.\\n\");\n",
        "    else\n",
        "    {\n",
        " for ( c = position - 1 ; c < n - 1 ; c++ )\n",
        " array[c] = array[c+1];\n",
        "    }\n",
        "    for(c=0;c<n-1;c++)\n",
        "    {\n",
        "    printf(\"%d \",array[c]);\n",
        "    }\n",
        "    }"
      ],
      "metadata": {
        "id": "UJUsiu3Dvs0S",
        "colab": {
          "base_uri": "https://localhost:8080/"
        },
        "outputId": "e7001d81-9564-4251-cc2e-6fef11ea7b8f"
      },
      "execution_count": null,
      "outputs": [
        {
          "output_type": "stream",
          "name": "stdout",
          "text": [
            "Writing delete.c\n"
          ]
        }
      ]
    },
    {
      "cell_type": "code",
      "source": [
        "!gcc delete.c -o delete"
      ],
      "metadata": {
        "id": "gVPmh3PSdcz9"
      },
      "execution_count": null,
      "outputs": []
    },
    {
      "cell_type": "code",
      "source": [
        "!./delete"
      ],
      "metadata": {
        "colab": {
          "base_uri": "https://localhost:8080/"
        },
        "id": "j53XgXxxdkSW",
        "outputId": "034f4a02-4883-4c9f-9926-5c9988358c06"
      },
      "execution_count": null,
      "outputs": [
        {
          "output_type": "stream",
          "name": "stdout",
          "text": [
            "Enter number of elements in array\n",
            "4\n",
            "Enter 4 elements\n",
            "3 1 2 7\n",
            "Enter the location where you wish to delete element\n",
            "3\n",
            "3 1 7 "
          ]
        }
      ]
    },
    {
      "cell_type": "markdown",
      "source": [
        "# Check for Palindrome String"
      ],
      "metadata": {
        "id": "4tbhmTDnd6a6"
      }
    },
    {
      "cell_type": "code",
      "source": [
        "%%writefile palindrome.c\n",
        "#include<stdio.h>\n",
        "#include<stdlib.h>\n",
        "void check_palindrome(char [], int);\n",
        "void main(){\n",
        "int len=0,i;\n",
        "char str[20];\n",
        "printf(\"Enter string : \");\n",
        "gets(str);\n",
        "for(i=0;str[i] != '\\0';i++){\n",
        "len++;\n",
        "}\n",
        "check_palindrome(str,len);\n",
        "}\n",
        "void check_palindrome(char str[],int len){\n",
        "int i;\n",
        "for(i=0;i<len;i++){\n",
        "if(str[i] != str[len-i-1]){\n",
        " printf(\"Not a palindrome\");\n",
        " break;\n",
        "}\n",
        "else if(i==len-1){\n",
        " printf(\"It is palindrome\");\n",
        "}\n",
        "}\n",
        "}"
      ],
      "metadata": {
        "colab": {
          "base_uri": "https://localhost:8080/"
        },
        "id": "h-rSD1iadnFd",
        "outputId": "ccdf0b71-4945-4417-de85-f99322e6ce3a"
      },
      "execution_count": null,
      "outputs": [
        {
          "output_type": "stream",
          "name": "stdout",
          "text": [
            "Writing palindrome.c\n"
          ]
        }
      ]
    },
    {
      "cell_type": "code",
      "source": [
        "!gcc palindrome.c -o palindrome"
      ],
      "metadata": {
        "colab": {
          "base_uri": "https://localhost:8080/"
        },
        "id": "4XFvUh7KeN15",
        "outputId": "7cb9f7c1-4954-4053-e490-c3039d793ef4"
      },
      "execution_count": null,
      "outputs": [
        {
          "output_type": "stream",
          "name": "stdout",
          "text": [
            "\u001b[01m\u001b[Kpalindrome.c:\u001b[m\u001b[K In function ‘\u001b[01m\u001b[Kmain\u001b[m\u001b[K’:\n",
            "\u001b[01m\u001b[Kpalindrome.c:8:1:\u001b[m\u001b[K \u001b[01;35m\u001b[Kwarning: \u001b[m\u001b[Kimplicit declaration of function ‘\u001b[01m\u001b[Kgets\u001b[m\u001b[K’; did you mean ‘\u001b[01m\u001b[Kfgets\u001b[m\u001b[K’? [\u001b[01;35m\u001b[K\u001b]8;;https://gcc.gnu.org/onlinedocs/gcc/Warning-Options.html#index-Wimplicit-function-declaration\u0007-Wimplicit-function-declaration\u001b]8;;\u0007\u001b[m\u001b[K]\n",
            "    8 | \u001b[01;35m\u001b[Kgets\u001b[m\u001b[K(str);\n",
            "      | \u001b[01;35m\u001b[K^~~~\u001b[m\u001b[K\n",
            "      | \u001b[32m\u001b[Kfgets\u001b[m\u001b[K\n",
            "/usr/bin/ld: /tmp/ccx1p9R4.o: in function `main':\n",
            "palindrome.c:(.text+0x43): warning: the `gets' function is dangerous and should not be used.\n"
          ]
        }
      ]
    },
    {
      "cell_type": "code",
      "source": [
        "!./palindrome"
      ],
      "metadata": {
        "colab": {
          "base_uri": "https://localhost:8080/"
        },
        "id": "JRS7E3_aePig",
        "outputId": "e4fe9c2c-9ea5-40dd-f6ee-6774c3a5deef"
      },
      "execution_count": null,
      "outputs": [
        {
          "output_type": "stream",
          "name": "stdout",
          "text": [
            "Enter string : MaM\n",
            "It is palindrome"
          ]
        }
      ]
    },
    {
      "cell_type": "markdown",
      "source": [
        "# Count Characters, Words and Lines in String"
      ],
      "metadata": {
        "id": "bgAoTyv-hHpu"
      }
    },
    {
      "cell_type": "code",
      "source": [
        "%%writefile count.c\n",
        "#include<stdio.h>\n",
        "void main()\n",
        "{\n",
        "   int i;\n",
        "   char str[200];\n",
        "   int line, word, ch;\n",
        "   word = 1;\n",
        "   line = 1;\n",
        "   ch=0;\n",
        "   printf(\"Enter string terminated with ~ :\\n\");\n",
        "   scanf(\"%[^~]\", str);\n",
        "   for(i=0; str[i]!='\\0'; i++)\n",
        "   {\n",
        "      if(str[i]=='\\n')\n",
        "      {\n",
        "  line++;\n",
        "  word++;\n",
        "      }\n",
        "      else\n",
        "      {\n",
        "  if(str[i]==' '||str[i]=='\\t')\n",
        "  {\n",
        "     word++;\n",
        "\n",
        "  }\n",
        "  else {\n",
        "     ch++;\n",
        "  }\n",
        "      }\n",
        "   }\n",
        "   printf(\"\\nCharacter counts = %d\\n\", ch);\n",
        "   printf(\"Word counts = %d\\n\", word);\n",
        "   printf(\"Line counts = %d\\n\", line);\n",
        "}"
      ],
      "metadata": {
        "colab": {
          "base_uri": "https://localhost:8080/"
        },
        "id": "1udfIBBZeWJq",
        "outputId": "23ad0f86-2173-4e27-86a1-530c5f1c31f8"
      },
      "execution_count": null,
      "outputs": [
        {
          "output_type": "stream",
          "name": "stdout",
          "text": [
            "Writing count.c\n"
          ]
        }
      ]
    },
    {
      "cell_type": "code",
      "source": [
        "!gcc count.c -o count"
      ],
      "metadata": {
        "id": "wBu29DnKfkjn"
      },
      "execution_count": null,
      "outputs": []
    },
    {
      "cell_type": "code",
      "source": [
        "!./count"
      ],
      "metadata": {
        "colab": {
          "base_uri": "https://localhost:8080/"
        },
        "id": "DeXnQHPofnin",
        "outputId": "0c5ac24c-318e-43cf-ceb6-d92f7e093000"
      },
      "execution_count": null,
      "outputs": [
        {
          "output_type": "stream",
          "name": "stdout",
          "text": [
            "Enter string terminated with ~ :\n",
            "Ek Ajnabee Haseena se\n",
            "Yu Mulakaat Hogayi\n",
            "Phir Kya Hua\n",
            "Ye Na Pucho\n",
            "Kuch Aisi baat Hogayi\n",
            "~\n",
            "\n",
            "Character counts = 71\n",
            "Word counts = 18\n",
            "Line counts = 6\n"
          ]
        }
      ]
    }
  ]
}