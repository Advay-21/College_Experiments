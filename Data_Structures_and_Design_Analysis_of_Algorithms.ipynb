{
  "nbformat": 4,
  "nbformat_minor": 0,
  "metadata": {
    "colab": {
      "provenance": [],
      "authorship_tag": "ABX9TyN5kX/7wBY9paobI2HgMkX1",
      "include_colab_link": true
    },
    "kernelspec": {
      "name": "python3",
      "display_name": "Python 3"
    },
    "language_info": {
      "name": "python"
    }
  },
  "cells": [
    {
      "cell_type": "markdown",
      "metadata": {
        "id": "view-in-github",
        "colab_type": "text"
      },
      "source": [
        "<a href=\"https://colab.research.google.com/github/Advay-21/College_Experiments/blob/main/Data_Structures_and_Design_Analysis_of_Algorithms.ipynb\" target=\"_parent\"><img src=\"https://colab.research.google.com/assets/colab-badge.svg\" alt=\"Open In Colab\"/></a>"
      ]
    },
    {
      "cell_type": "markdown",
      "source": [
        "# Linear Probing"
      ],
      "metadata": {
        "id": "u9umOz5ImAW_"
      }
    },
    {
      "cell_type": "code",
      "execution_count": null,
      "metadata": {
        "colab": {
          "base_uri": "https://localhost:8080/"
        },
        "id": "5pgXU4U1lKGi",
        "outputId": "7217515f-07a5-44d0-8069-e956d49d966b"
      },
      "outputs": [
        {
          "output_type": "stream",
          "name": "stdout",
          "text": [
            "Writing lprobing.c\n"
          ]
        }
      ],
      "source": [
        "%%writefile lprobing.c\n",
        "#include <stdio.h>\n",
        "#include<stdlib.h>\n",
        "#define TABLE_SIZE 10\n",
        " int h[TABLE_SIZE]={0};\n",
        " void insert()\n",
        " {\n",
        "  int key,index,i,flag=0,hkey;\n",
        "  printf(\"\\nenter a value to insert into hash table\\n\");\n",
        "  scanf(\"%d\",&key);\n",
        "  hkey=key%TABLE_SIZE;\n",
        "  for(i=0;i<TABLE_SIZE;i++)\n",
        "   {\n",
        "    index=(hkey+i)%TABLE_SIZE;\n",
        "    if(h[index] == 0)\n",
        "    {\n",
        "     h[index]=key;\n",
        "      break;\n",
        "    }\n",
        "   }\n",
        "   if(i == TABLE_SIZE)\n",
        "    printf(\"\\nelement cannot be inserted\\n\");\n",
        " }\n",
        " void search()\n",
        " {\n",
        "  int key,index,i,flag=0,hkey;\n",
        "  printf(\"\\nenter search element\\n\");\n",
        "  scanf(\"%d\",&key);\n",
        "  hkey=key%TABLE_SIZE;\n",
        "  for(i=0;i<TABLE_SIZE; i++)\n",
        "  {\n",
        "   index=(hkey+i)%TABLE_SIZE;\n",
        "   if(h[index]==key)\n",
        "   {\n",
        "    printf(\"value is found at index %d\",index);\n",
        "    break;\n",
        "   }\n",
        "  }\n",
        "  if(i == TABLE_SIZE)\n",
        "   printf(\"\\n value is not found\\n\");\n",
        " }\n",
        " void display()\n",
        "  {\n",
        "  int i;\n",
        "  printf(\"\\nelements in the hash table are \\n\");\n",
        "  for(i=0;i< TABLE_SIZE; i++)\n",
        "  printf(\"\\nat index %d \\t value = %d\",i,h[i]);\n",
        " }\n",
        "  int main()\n",
        " {\n",
        "   int opt,i;\n",
        "   while(1)\n",
        "   {\n",
        "     printf(\"\\nPress 1. Insert\\t 2. Display \\t3. Search \\t4.Exit \\n\");\n",
        "     scanf(\"%d\",&opt);\n",
        "     switch(opt)\n",
        "     {\n",
        "       case 1:\n",
        "         insert();\n",
        "         break;\n",
        "       case 2:\n",
        "         display();\n",
        "         break;\n",
        "       case 3:\n",
        "         search();\n",
        "         break;\n",
        "       case 4:exit(0);\n",
        "     }\n",
        "   }\n",
        "   return 0;\n",
        " }"
      ]
    },
    {
      "cell_type": "code",
      "source": [
        "!gcc lprobing.c -o lprobing"
      ],
      "metadata": {
        "id": "HBuEo3Dblf1x"
      },
      "execution_count": null,
      "outputs": []
    },
    {
      "cell_type": "code",
      "source": [
        "!./lprobing"
      ],
      "metadata": {
        "colab": {
          "base_uri": "https://localhost:8080/"
        },
        "id": "L487c6zKlmFH",
        "outputId": "2fcec3c8-4b48-4959-d432-21d60f567562"
      },
      "execution_count": null,
      "outputs": [
        {
          "output_type": "stream",
          "name": "stdout",
          "text": [
            "\n",
            "Press 1. Insert\t 2. Display \t3. Search \t4.Exit \n",
            "1\n",
            "\n",
            "enter a value to insert into hash table\n",
            "3\n",
            "\n",
            "Press 1. Insert\t 2. Display \t3. Search \t4.Exit \n",
            "1\n",
            "\n",
            "enter a value to insert into hash table\n",
            "2\n",
            "\n",
            "Press 1. Insert\t 2. Display \t3. Search \t4.Exit \n",
            "1\n",
            "\n",
            "enter a value to insert into hash table\n",
            "5\n",
            "\n",
            "Press 1. Insert\t 2. Display \t3. Search \t4.Exit \n",
            "2\n",
            "\n",
            "elements in the hash table are \n",
            "\n",
            "at index 0 \t value = 0\n",
            "at index 1 \t value = 0\n",
            "at index 2 \t value = 2\n",
            "at index 3 \t value = 3\n",
            "at index 4 \t value = 0\n",
            "at index 5 \t value = 5\n",
            "at index 6 \t value = 0\n",
            "at index 7 \t value = 0\n",
            "at index 8 \t value = 0\n",
            "at index 9 \t value = 0\n",
            "Press 1. Insert\t 2. Display \t3. Search \t4.Exit \n",
            "3\n",
            "\n",
            "enter search element\n",
            "3\n",
            "value is found at index 3\n",
            "Press 1. Insert\t 2. Display \t3. Search \t4.Exit \n",
            "4\n"
          ]
        }
      ]
    },
    {
      "cell_type": "markdown",
      "source": [
        "# Binary Search Tree"
      ],
      "metadata": {
        "id": "T35XnVx-DZI7"
      }
    },
    {
      "cell_type": "code",
      "source": [
        "%%writefile bst.c\n",
        "#include <stdio.h>\n",
        "#include <stdlib.h>\n",
        "// Node structure for BST\n",
        "struct Node {\n",
        "int data;\n",
        "struct Node* left;\n",
        "struct Node* right;\n",
        "};\n",
        "// Function to create a new node\n",
        "struct Node* createNode(int value) {\n",
        "struct Node* newNode = (struct Node*)malloc(sizeof(struct Node));\n",
        "newNode->data = value;\n",
        "newNode->left = newNode->right = NULL;\n",
        "return newNode;\n",
        "}\n",
        "// Function to insert a value into the BST\n",
        "struct Node* insert(struct Node* root, int value) {\n",
        "if (root == NULL) {\n",
        "return createNode(value);\n",
        "}\n",
        "if (value < root->data) {\n",
        "root->left = insert(root->left, value);\n",
        "} else if (value > root->data) {\n",
        "root->right = insert(root->right, value);\n",
        "}\n",
        "return root;\n",
        "}\n",
        "// Function for in-order traversal\n",
        "void inorderTraversal(struct Node* root) {\n",
        "if (root != NULL) {\n",
        "inorderTraversal(root->left);\n",
        "printf(\"%d \", root->data);\n",
        "inorderTraversal(root->right);\n",
        "}\n",
        "}\n",
        "// Function for pre-order traversal\n",
        "void preorderTraversal(struct Node* root) {\n",
        "if (root != NULL) {\n",
        "printf(\"%d \", root->data);\n",
        "preorderTraversal(root->left);\n",
        "preorderTraversal(root->right);\n",
        "}\n",
        "}\n",
        "// Function for post-order traversal\n",
        "void postorderTraversal(struct Node* root) {\n",
        "if (root != NULL) {\n",
        "postorderTraversal(root->left);\n",
        "postorderTraversal(root->right);\n",
        "printf(\"%d \", root->data);\n",
        "}\n",
        "}\n",
        "// Function to compute the height of the BST\n",
        "int height(struct Node* root) {\n",
        "if (root == NULL) {\n",
        "return 0;\n",
        "} else {\n",
        "int leftHeight = height(root->left);\n",
        "int rightHeight = height(root->right);\n",
        "// Return the maximum of left and right subtree heights, plus 1 for the current level\n",
        "return (leftHeight > rightHeight ? leftHeight : rightHeight) + 1;\n",
        "}\n",
        "}\n",
        "int main() {\n",
        "struct Node* root = NULL;\n",
        "int choice, value;\n",
        "do {\n",
        "printf(\"\\nBinary Search Tree Operations:\\n\");\n",
        "printf(\"1. Insert\\n\");\n",
        "printf(\"2. In-order Traversal\\n\");\n",
        "printf(\"3. Pre-order Traversal\\n\");\n",
        "printf(\"4. Post-order Traversal\\n\");\n",
        "printf(\"5. Display Height\\n\");\n",
        "printf(\"6. Exit\\n\");\n",
        "printf(\"Enter your choice: \");\n",
        "scanf(\"%d\", &choice);\n",
        "switch (choice) {\n",
        "case 1:\n",
        "printf(\"Enter value to insert: \");\n",
        "scanf(\"%d\", &value);\n",
        "root = insert(root, value);\n",
        "break;\n",
        "case 2:\n",
        "printf(\"In-order Traversal: \");\n",
        "inorderTraversal(root);\n",
        "printf(\"\\n\");\n",
        "break;\n",
        "case 3:\n",
        "printf(\"Pre-order Traversal: \");\n",
        "preorderTraversal(root);\n",
        "printf(\"\\n\");\n",
        "break;\n",
        "case 4:\n",
        "printf(\"Post-order Traversal: \");\n",
        "postorderTraversal(root);\n",
        "printf(\"\\n\");\n",
        "break;\n",
        "case 5:\n",
        "printf(\"Height of the BST: %d\\n\", height(root));\n",
        "break;\n",
        "case 6:\n",
        "printf(\"Exiting program.\\n\");\n",
        "break;\n",
        "default:\n",
        "printf(\"Invalid choice. Please enter a valid option.\\n\");\n",
        "}\n",
        "} while (choice != 6);\n",
        "return 0;\n",
        "}"
      ],
      "metadata": {
        "colab": {
          "base_uri": "https://localhost:8080/"
        },
        "id": "YF6qaC4flqU2",
        "outputId": "b50e3790-156e-4e8a-97fa-a8e746745ae9"
      },
      "execution_count": null,
      "outputs": [
        {
          "output_type": "stream",
          "name": "stdout",
          "text": [
            "Writing bst.c\n"
          ]
        }
      ]
    },
    {
      "cell_type": "code",
      "source": [
        "!gcc bst.c -o bst"
      ],
      "metadata": {
        "id": "BeWKU81B1ox8"
      },
      "execution_count": null,
      "outputs": []
    },
    {
      "cell_type": "code",
      "source": [
        "!./bst"
      ],
      "metadata": {
        "colab": {
          "base_uri": "https://localhost:8080/"
        },
        "id": "HgfrlfpW11Y6",
        "outputId": "3bc5768f-0283-472b-cd8c-4a739952cd12"
      },
      "execution_count": null,
      "outputs": [
        {
          "output_type": "stream",
          "name": "stdout",
          "text": [
            "\n",
            "Binary Search Tree Operations:\n",
            "1. Insert\n",
            "2. In-order Traversal\n",
            "3. Pre-order Traversal\n",
            "4. Post-order Traversal\n",
            "5. Display Height\n",
            "6. Exit\n",
            "Enter your choice: 1\n",
            "Enter value to insert: 4\n",
            "\n",
            "Binary Search Tree Operations:\n",
            "1. Insert\n",
            "2. In-order Traversal\n",
            "3. Pre-order Traversal\n",
            "4. Post-order Traversal\n",
            "5. Display Height\n",
            "6. Exit\n",
            "Enter your choice: 1\n",
            "Enter value to insert: 2\n",
            "\n",
            "Binary Search Tree Operations:\n",
            "1. Insert\n",
            "2. In-order Traversal\n",
            "3. Pre-order Traversal\n",
            "4. Post-order Traversal\n",
            "5. Display Height\n",
            "6. Exit\n",
            "Enter your choice: 3\n",
            "Pre-order Traversal: 4 2 \n",
            "\n",
            "Binary Search Tree Operations:\n",
            "1. Insert\n",
            "2. In-order Traversal\n",
            "3. Pre-order Traversal\n",
            "4. Post-order Traversal\n",
            "5. Display Height\n",
            "6. Exit\n",
            "Enter your choice: 4\n",
            "Post-order Traversal: 2 4 \n",
            "\n",
            "Binary Search Tree Operations:\n",
            "1. Insert\n",
            "2. In-order Traversal\n",
            "3. Pre-order Traversal\n",
            "4. Post-order Traversal\n",
            "5. Display Height\n",
            "6. Exit\n",
            "Enter your choice: 5\n",
            "Height of the BST: 2\n",
            "\n",
            "Binary Search Tree Operations:\n",
            "1. Insert\n",
            "2. In-order Traversal\n",
            "3. Pre-order Traversal\n",
            "4. Post-order Traversal\n",
            "5. Display Height\n",
            "6. Exit\n",
            "Enter your choice: 6\n",
            "Exiting program.\n"
          ]
        }
      ]
    },
    {
      "cell_type": "markdown",
      "source": [
        "# Breadth First Search"
      ],
      "metadata": {
        "id": "Ad_xSfzHDeA1"
      }
    },
    {
      "cell_type": "code",
      "source": [
        "%%writefile bfs.c\n",
        "#include <stdio.h>\n",
        "#include <stdlib.h>\n",
        "#define MAX_VERTICES 100\n",
        "typedef struct {\n",
        "    int data[MAX_VERTICES];\n",
        "    int front, rear;\n",
        "} Queue;\n",
        "void initQueue(Queue* q) {\n",
        "    q->front = q->rear = -1;\n",
        "}\n",
        "int isEmpty(Queue* q) {\n",
        "    return q->front == -1;\n",
        "}\n",
        "void enqueue(Queue* q, int value) {\n",
        "    if (isEmpty(q)) {\n",
        "        q->front = q->rear = 0;\n",
        "    } else {\n",
        "        q->rear++;\n",
        "    }\n",
        "    q->data[q->rear] = value;\n",
        "}\n",
        "int dequeue(Queue* q) {\n",
        "    int value = q->data[q->front];\n",
        "    if (q->front == q->rear) {\n",
        "        q->front = q->rear = -1;\n",
        "    } else {\n",
        "        q->front++;\n",
        "    }\n",
        "    return value;\n",
        "}\n",
        "int isValidVertex(int v, int vertices) {\n",
        "\n",
        "\n",
        "    return (v >= 0 && v < vertices);\n",
        "}\n",
        "void printPath(int* parent, int source, int destination) {\n",
        "    if (destination == source) {\n",
        "        printf(\"%d\", source + 1);\n",
        "        return;\n",
        "    }\n",
        "    printPath(parent, source, parent[destination]);\n",
        "    printf(\"->%d\", destination + 1);\n",
        "}\n",
        "void BFS(int** graph, int vertices, int source, int destination) {\n",
        "    int* visited = (int*)malloc(vertices * sizeof(int));\n",
        "    int* distance = (int*)malloc(vertices * sizeof(int));\n",
        "    int* parent = (int*)malloc(vertices * sizeof(int));\n",
        "    for (int i = 0; i < vertices; i++) {\n",
        "        visited[i] = 0;\n",
        "        distance[i] = -1;\n",
        "        parent[i] = -1;\n",
        "    }\n",
        "    Queue queue;\n",
        "    initQueue(&queue);\n",
        "    visited[source] = 1;\n",
        "    distance[source] = 0;\n",
        "    enqueue(&queue, source);\n",
        "    while (!isEmpty(&queue)) {\n",
        "        int currentVertex = dequeue(&queue);\n",
        "        for (int adjacentVertex = 0; adjacentVertex < vertices; adjacentVertex++) {\n",
        "            if (graph[currentVertex][adjacentVertex] == 1 && !visited[adjacentVertex]) {\n",
        "                visited[adjacentVertex] = 1;\n",
        "                distance[adjacentVertex] = distance[currentVertex] + 1;\n",
        "                parent[adjacentVertex] = currentVertex;\n",
        "                enqueue(&queue, adjacentVertex);\n",
        "                if (adjacentVertex == destination) {\n",
        "                    printf(\"Shortest Path from %d to %d: \", source + 1, destination + 1);\n",
        "                    printPath(parent, source, destination);\n",
        "                    printf(\"\\nShortest Distance: %d\\n\", distance[destination]);\n",
        "                    free(visited);\n",
        "                    free(distance);\n",
        "                    free(parent);\n",
        "                    return;\n",
        "                }\n",
        "            }\n",
        "        }\n",
        "    }\n",
        "    printf(\"No path found from %d to %d\\n\", source + 1, destination + 1);\n",
        "    free(visited);\n",
        "    free(distance);\n",
        "    free(parent);\n",
        "}\n",
        "int main() {\n",
        "    int vertices;\n",
        "    // Input the number of vertices\n",
        "    printf(\"Enter the number of vertices: \");\n",
        "    scanf(\"%d\", &vertices);\n",
        "    if (vertices <= 0 || vertices > MAX_VERTICES) {\n",
        "        printf(\"Invalid number of vertices\\n\");\n",
        "        return 1;\n",
        "    }\n",
        "    // Allocate memory for the adjacency matrix\n",
        "    int** graph = (int**)malloc(vertices * sizeof(int*));\n",
        "    for (int i = 0; i < vertices; i++) {\n",
        "        graph[i] = (int*)malloc(vertices * sizeof(int));\n",
        "        for (int j = 0; j < vertices; j++) {\n",
        "            graph[i][j] = 0; // Initialize the matrix with zeros\n",
        "        }\n",
        "    }\n",
        "    // Input the edges\n",
        "    for (int i = 0; i < vertices; i++) {\n",
        "        for (int j = 0; j < vertices; j++) {\n",
        "            printf(\"Is there an edge from %d to %d? (1 for yes, 0 for no): \", i + 1, j + 1);\n",
        "            scanf(\"%d\", &graph[i][j]);\n",
        "        }\n",
        "    }\n",
        "    // Display the adjacency matrix\n",
        "    printf(\"The adjacency matrix is:\\n\");\n",
        "    for (int i = 0; i < vertices; i++) {\n",
        "        for (int j = 0; j < vertices; j++) {\n",
        "            printf(\"%d \", graph[i][j]);\n",
        "        }\n",
        "        printf(\"\\n\");\n",
        "    }\n",
        "    char choice;\n",
        "    do {\n",
        "        // Display menu\n",
        "        printf(\"\\nMenu\\n\");\n",
        "        printf(\"1. Find Shortest Path using BFS\\n\");\n",
        "        // Input user choice\n",
        "        printf(\"Enter your choice: \");\n",
        "        int userChoice;\n",
        "        scanf(\"%d\", &userChoice);\n",
        "        int source, destination;\n",
        "        // Input the source and destination vertices\n",
        "        printf(\"Enter the source vertex: \");\n",
        "        scanf(\"%d\", &source);\n",
        "        printf(\"Enter the destination vertex: \");\n",
        "        scanf(\"%d\", &destination);\n",
        "        if (!isValidVertex(source - 1, vertices) || !isValidVertex(destination - 1, vertices)) {\n",
        "            printf(\"Invalid source or destination vertex\\n\");\n",
        "            return 1;\n",
        "        }\n",
        "        switch (userChoice) {\n",
        "            case 1:\n",
        "                BFS(graph, vertices, source - 1, destination - 1);\n",
        "                break;\n",
        "            default:\n",
        "                printf(\"Invalid choice\\n\");\n",
        "        }\n",
        "        // Ask if the user wants to continue\n",
        "        printf(\"\\nDo you want to continue (y/n)? \");\n",
        "        scanf(\" %c\", &choice);\n",
        "    } while (choice == 'y' || choice == 'Y');\n",
        "    // Free allocated memory\n",
        "    for (int i = 0; i < vertices; i++) {\n",
        "        free(graph[i]);\n",
        "    }\n",
        "    free(graph);\n",
        "    return 0;\n",
        "}"
      ],
      "metadata": {
        "colab": {
          "base_uri": "https://localhost:8080/"
        },
        "id": "iY6G4reG137Z",
        "outputId": "23ebf29f-5654-4788-e87a-5a39ec468249"
      },
      "execution_count": null,
      "outputs": [
        {
          "output_type": "stream",
          "name": "stdout",
          "text": [
            "Overwriting bfs.c\n"
          ]
        }
      ]
    },
    {
      "cell_type": "code",
      "source": [
        "!gcc bfs.c -o bfs"
      ],
      "metadata": {
        "id": "B4Qrs2jg3S3v"
      },
      "execution_count": null,
      "outputs": []
    },
    {
      "cell_type": "code",
      "source": [
        "!./bfs"
      ],
      "metadata": {
        "colab": {
          "base_uri": "https://localhost:8080/"
        },
        "id": "PAEQRxrM3ZZp",
        "outputId": "ed87d891-9184-4970-eee6-376aa79ddb21"
      },
      "execution_count": null,
      "outputs": [
        {
          "output_type": "stream",
          "name": "stdout",
          "text": [
            "Enter the number of vertices: 6\n",
            "Is there an edge from 1 to 1? (1 for yes, 0 for no): 0\n",
            "Is there an edge from 1 to 2? (1 for yes, 0 for no): 1\n",
            "Is there an edge from 1 to 3? (1 for yes, 0 for no): 0\n",
            "Is there an edge from 1 to 4? (1 for yes, 0 for no): 1\n",
            "Is there an edge from 1 to 5? (1 for yes, 0 for no): 0\n",
            "Is there an edge from 1 to 6? (1 for yes, 0 for no): 1\n",
            "Is there an edge from 2 to 1? (1 for yes, 0 for no): 1\n",
            "Is there an edge from 2 to 2? (1 for yes, 0 for no): 0\n",
            "Is there an edge from 2 to 3? (1 for yes, 0 for no): 0\n",
            "Is there an edge from 2 to 4? (1 for yes, 0 for no): 1\n",
            "Is there an edge from 2 to 5? (1 for yes, 0 for no): 1\n",
            "Is there an edge from 2 to 6? (1 for yes, 0 for no): 1\n",
            "Is there an edge from 3 to 1? (1 for yes, 0 for no): 0\n",
            "Is there an edge from 3 to 2? (1 for yes, 0 for no): 0\n",
            "Is there an edge from 3 to 3? (1 for yes, 0 for no): 0\n",
            "Is there an edge from 3 to 4? (1 for yes, 0 for no): 1\n",
            "Is there an edge from 3 to 5? (1 for yes, 0 for no): 1\n",
            "Is there an edge from 3 to 6? (1 for yes, 0 for no): 1\n",
            "Is there an edge from 4 to 1? (1 for yes, 0 for no): 1\n",
            "Is there an edge from 4 to 2? (1 for yes, 0 for no): 1\n",
            "Is there an edge from 4 to 3? (1 for yes, 0 for no): 1\n",
            "Is there an edge from 4 to 4? (1 for yes, 0 for no): 0\n",
            "Is there an edge from 4 to 5? (1 for yes, 0 for no): 1\n",
            "Is there an edge from 4 to 6? (1 for yes, 0 for no): 1\n",
            "Is there an edge from 5 to 1? (1 for yes, 0 for no): 0\n",
            "Is there an edge from 5 to 2? (1 for yes, 0 for no): 1\n",
            "Is there an edge from 5 to 3? (1 for yes, 0 for no): 1\n",
            "Is there an edge from 5 to 4? (1 for yes, 0 for no): 1\n",
            "Is there an edge from 5 to 5? (1 for yes, 0 for no): 0\n",
            "Is there an edge from 5 to 6? (1 for yes, 0 for no): 0\n",
            "Is there an edge from 6 to 1? (1 for yes, 0 for no): 1\n",
            "Is there an edge from 6 to 2? (1 for yes, 0 for no): 1\n",
            "Is there an edge from 6 to 3? (1 for yes, 0 for no): 1\n",
            "Is there an edge from 6 to 4? (1 for yes, 0 for no): 1\n",
            "Is there an edge from 6 to 5? (1 for yes, 0 for no): 0\n",
            "Is there an edge from 6 to 6? (1 for yes, 0 for no): 0\n",
            "The adjacency matrix is:\n",
            "0 1 0 1 0 1 \n",
            "1 0 0 1 1 1 \n",
            "0 0 0 1 1 1 \n",
            "1 1 1 0 1 1 \n",
            "0 1 1 1 0 0 \n",
            "1 1 1 1 0 0 \n",
            "\n",
            "Menu\n",
            "1. Find Shortest Path using BFS\n",
            "Enter your choice: 1\n",
            "Enter the source vertex: 1\n",
            "Enter the destination vertex: 3\n",
            "Shortest Path from 1 to 3: 1->4->3\n",
            "Shortest Distance: 2\n",
            "\n",
            "Do you want to continue (y/n)? n\n"
          ]
        }
      ]
    },
    {
      "cell_type": "markdown",
      "source": [
        "# Linear Search"
      ],
      "metadata": {
        "id": "ZiE2By1cDkNH"
      }
    },
    {
      "cell_type": "code",
      "source": [
        "%%writefile linearsearch.c\n",
        "#include <stdio.h>\n",
        "#define MAX_SIZE 100\n",
        "int linearSearch(int a[], int n, int val, int *numPasses) {\n",
        "    *numPasses = 0;\n",
        "    for (int i = 0; i < n; i++) {\n",
        "        (*numPasses)++;\n",
        "\n",
        "        if (a[i] == val) {\n",
        "            return i;\n",
        "        }\n",
        "    }\n",
        "    return -1;\n",
        "}\n",
        "int main() {\n",
        "    int len, array[MAX_SIZE], search, i;\n",
        "    int Passes;\n",
        "    printf(\"Enter the length of the array (up to %d): \", MAX_SIZE);\n",
        "    scanf(\"%d\", &len);\n",
        "    if (len <= 0 || len > MAX_SIZE) {\n",
        "        printf(\"Invalid array length. Please enter a positive value up to %d.\\n\",\n",
        "MAX_SIZE);\n",
        "        return 1;\n",
        "    }\n",
        "    printf(\"Enter the elements in the array:\\n\");\n",
        "    for (i = 0; i < len; i++) {\n",
        "        scanf(\"%d\", &array[i]);\n",
        "    }\n",
        "printf(\"Enter the element to search in the array: \");\n",
        "scanf(\"%d\", &search);\n",
        "int index = linearSearch(array, len, search, &Passes);\n",
        "if (index == -1) {\n",
        "printf(\"Element not found.\\n\");\n",
        "} else {\n",
        "printf(\"Element found at index %d.\\n\", index);\n",
        "printf(\"Number of passes made: %d\\n\", Passes);\n",
        "}\n",
        "return 0;\n",
        "}"
      ],
      "metadata": {
        "colab": {
          "base_uri": "https://localhost:8080/"
        },
        "id": "zCBYf7GB3h7U",
        "outputId": "d9308704-4225-4326-f5c4-7a3dce057f97"
      },
      "execution_count": null,
      "outputs": [
        {
          "output_type": "stream",
          "name": "stdout",
          "text": [
            "Writing linearsearch.c\n"
          ]
        }
      ]
    },
    {
      "cell_type": "code",
      "source": [
        "!gcc linearsearch.c -o linearsearch"
      ],
      "metadata": {
        "id": "YFvoHQfP-u7A"
      },
      "execution_count": null,
      "outputs": []
    },
    {
      "cell_type": "code",
      "source": [
        "!./linearsearch"
      ],
      "metadata": {
        "colab": {
          "base_uri": "https://localhost:8080/"
        },
        "id": "lKRMn7cw-xfz",
        "outputId": "9fefea76-28da-43b5-afa7-25356fcd0aee"
      },
      "execution_count": null,
      "outputs": [
        {
          "output_type": "stream",
          "name": "stdout",
          "text": [
            "Enter the length of the array (up to 100): 5\n",
            "Enter the elements in the array:\n",
            "4 8 1 9 2\n",
            "Enter the element to search in the array: 2\n",
            "Element found at index 4.\n",
            "Number of passes made: 5\n"
          ]
        }
      ]
    },
    {
      "cell_type": "markdown",
      "source": [
        "# Quick Sort"
      ],
      "metadata": {
        "id": "im3jWp3-4yOg"
      }
    },
    {
      "cell_type": "code",
      "source": [
        "%%writefile quicksort.c\n",
        "//Quick Sort\n",
        "#include <stdio.h>\n",
        "#define MAX_SIZE 100\n",
        "void swap(int *a, int *b) {\n",
        "int temp = *a;\n",
        "*a = *b;\n",
        "*b = temp;\n",
        "}\n",
        "int partition(int arr[], int low, int high) {\n",
        "    int pivot = arr[high];\n",
        "    int i = (low - 1);\n",
        "    for (int j = low; j < high; j++) {\n",
        "        if (arr[j] <= pivot) {\n",
        "            i++;\n",
        "            swap(&arr[i], &arr[j]);\n",
        "        }\n",
        "    }\n",
        "    swap(&arr[i + 1], &arr[high]);\n",
        "    return (i + 1);\n",
        "}\n",
        "void quickSort(int arr[], int low, int high) {\n",
        "    if (low < high) {\n",
        "        int pi = partition(arr, low, high);\n",
        "        quickSort(arr, low, pi - 1);\n",
        "        quickSort(arr, pi + 1, high);\n",
        "    }\n",
        "}\n",
        "int main() {\n",
        "    int n, i;\n",
        "    printf(\"Enter the number of elements (up to %d): \", MAX_SIZE);\n",
        "    scanf(\"%d\", &n);\n",
        "    if (n <= 0 || n > MAX_SIZE) {\n",
        "        printf(\"Invalid array size. Please enter a positive value up to %d.\\n\",\n",
        "MAX_SIZE);\n",
        "        return 1;\n",
        "    }\n",
        "    int arr[n];\n",
        "    printf(\"Enter %d elements:\\n\", n);\n",
        "    for (i = 0; i < n; i++) {\n",
        "        scanf(\"%d\", &arr[i]);\n",
        "    }\n",
        "    quickSort(arr, 0, n - 1);\n",
        "    printf(\"Sorted array:\\n\");\n",
        "    for (i = 0; i < n; i++) {\n",
        "        printf(\"%d \", arr[i]);\n",
        "    }\n",
        "    printf(\"\\n\");\n",
        "    return 0;\n",
        "}"
      ],
      "metadata": {
        "id": "rO73AHWA-1xB",
        "colab": {
          "base_uri": "https://localhost:8080/"
        },
        "outputId": "b1d34b77-b96d-4983-c497-195505b5d36b"
      },
      "execution_count": null,
      "outputs": [
        {
          "output_type": "stream",
          "name": "stdout",
          "text": [
            "Writing quicksort.c\n"
          ]
        }
      ]
    },
    {
      "cell_type": "code",
      "source": [
        "!gcc quicksort.c -o quicksort"
      ],
      "metadata": {
        "id": "A_yjVMCF4ODb"
      },
      "execution_count": null,
      "outputs": []
    },
    {
      "cell_type": "code",
      "source": [
        "!./quicksort"
      ],
      "metadata": {
        "colab": {
          "base_uri": "https://localhost:8080/"
        },
        "id": "hCSA9gr_4Vc9",
        "outputId": "df1cc694-f869-420e-bfe6-3b7ae8462844"
      },
      "execution_count": null,
      "outputs": [
        {
          "output_type": "stream",
          "name": "stdout",
          "text": [
            "Enter the number of elements (up to 100): 5\n",
            "Enter 5 elements:\n",
            "6 -3 0 12 -45\n",
            "Sorted array:\n",
            "-45 -3 0 6 12 \n"
          ]
        }
      ]
    },
    {
      "cell_type": "markdown",
      "source": [
        "# Min-Max Algorithm"
      ],
      "metadata": {
        "id": "z49SMZKa40_H"
      }
    },
    {
      "cell_type": "code",
      "source": [
        "%%writefile divide_conquer.c\n",
        "#include <stdio.h>\n",
        "void findMinMax(int arr[], int start, int end, int *min, int *max) {\n",
        "if (start == end) {\n",
        "*min = *max = arr[start];\n",
        "return;\n",
        "}\n",
        "int mid = (start + end) / 2;\n",
        "int leftMin, leftMax, rightMin, rightMax;\n",
        "findMinMax(arr, start, mid, &leftMin, &leftMax);\n",
        "findMinMax(arr, mid + 1, end, &rightMin, &rightMax);\n",
        "*min = (leftMin < rightMin) ? leftMin : rightMin;\n",
        "*max = (leftMax > rightMax) ? leftMax : rightMax;\n",
        "}\n",
        "int main() {\n",
        "int n;\n",
        "printf(\"Enter the size of the array: \");\n",
        "scanf(\"%d\", &n);\n",
        "int arr[n];\n",
        "printf(\"Enter the elements of the array:\\n\");\n",
        "for (int i = 0; i < n; i++) {\n",
        "scanf(\"%d\", &arr[i]);\n",
        "}\n",
        "int min, max;\n",
        "findMinMax(arr, 0, n - 1, &min, &max);\n",
        "printf(\"Minimum element: %d\\n\", min);\n",
        "printf(\"Maximum element: %d\\n\", max);\n",
        "return 0;\n",
        "}"
      ],
      "metadata": {
        "colab": {
          "base_uri": "https://localhost:8080/"
        },
        "id": "zfSjhi1L4Xi9",
        "outputId": "6b3def46-6a4d-46af-c0ea-997b65ba5fde"
      },
      "execution_count": null,
      "outputs": [
        {
          "output_type": "stream",
          "name": "stdout",
          "text": [
            "Writing divide_conquer.c\n"
          ]
        }
      ]
    },
    {
      "cell_type": "code",
      "source": [
        "!gcc divide_conquer.c -o divide_conquer"
      ],
      "metadata": {
        "id": "vYnPdctk5AKQ"
      },
      "execution_count": null,
      "outputs": []
    },
    {
      "cell_type": "code",
      "source": [
        "!./divide_conquer"
      ],
      "metadata": {
        "colab": {
          "base_uri": "https://localhost:8080/"
        },
        "id": "qednfAHq5Bmr",
        "outputId": "32bf9d90-6402-49f3-e472-7c77ec61a699"
      },
      "execution_count": null,
      "outputs": [
        {
          "output_type": "stream",
          "name": "stdout",
          "text": [
            "Enter the size of the array: 5\n",
            "Enter the elements of the array:\n",
            "3 11 -2 0 2\n",
            "Minimum element: -2\n",
            "Maximum element: 11\n"
          ]
        }
      ]
    },
    {
      "cell_type": "markdown",
      "source": [
        "# Strassen's Matrix Multiplication"
      ],
      "metadata": {
        "id": "nXxFNkLG6CTo"
      }
    },
    {
      "cell_type": "code",
      "source": [
        "%%writefile strassen.c\n",
        "#include <stdio.h>\n",
        "#include <stdlib.h>\n",
        "void add(int n, int A[][n], int B[][n], int C[][n]) {\n",
        "for(int i = 0; i < n; i++)\n",
        "for(int j = 0; j < n; j++)\n",
        "C[i][j] = A[i][j] + B[i][j];\n",
        "}\n",
        "void subtract(int n, int A[][n], int B[][n], int C[][n]) {\n",
        "for(int i = 0; i < n; i++)\n",
        "for(int j = 0; j < n; j++)\n",
        "C[i][j] = A[i][j] - B[i][j];\n",
        "}\n",
        "void strassen(int n, int A[][n], int B[][n], int C[][n]) {\n",
        "if(n == 1) {\n",
        "C[0][0] = A[0][0] * B[0][0];\n",
        "return;\n",
        "}\n",
        "int newSize = n / 2;\n",
        " int A11[newSize][newSize], A12[newSize][newSize], A21[newSize][newSize],\n",
        "A22[newSize][newSize];\n",
        "    int B11[newSize][newSize], B12[newSize][newSize], B21[newSize][newSize],\n",
        "B22[newSize][newSize];\n",
        "    int C11[newSize][newSize], C12[newSize][newSize], C21[newSize][newSize],\n",
        "C22[newSize][newSize];\n",
        "    int M1[newSize][newSize], M2[newSize][newSize], M3[newSize][newSize],\n",
        "M4[newSize][newSize];\n",
        "    int M5[newSize][newSize], M6[newSize][newSize], M7[newSize][newSize];\n",
        "    int temp1[newSize][newSize], temp2[newSize][newSize];\n",
        "\n",
        "    for(int i = 0; i < newSize; i++) {\n",
        "        for(int j = 0; j < newSize; j++) {\n",
        "            A11[i][j] = A[i][j];\n",
        "            A12[i][j] = A[i][j + newSize];\n",
        "            A21[i][j] = A[i + newSize][j];\n",
        "            A22[i][j] = A[i + newSize][j + newSize];\n",
        "\n",
        "            B11[i][j] = B[i][j];\n",
        "            B12[i][j] = B[i][j + newSize];\n",
        "            B21[i][j] = B[i + newSize][j];\n",
        "            B22[i][j] = B[i + newSize][j + newSize];\n",
        "        }\n",
        "    }\n",
        "    add(newSize, A11, A22, temp1);\n",
        "    add(newSize, B11, B22, temp2);\n",
        "    strassen(newSize, temp1, temp2, M1);\n",
        "    add(newSize, A21, A22, temp1);\n",
        "    strassen(newSize, temp1, B11, M2);\n",
        "    subtract(newSize, B12, B22, temp1);\n",
        "    strassen(newSize, A11, temp1, M3);\n",
        "    subtract(newSize, B21, B11, temp1);\n",
        "    strassen(newSize, A22, temp1, M4);\n",
        "    add(newSize, A11, A12, temp1);\n",
        "    strassen(newSize, temp1, B22, M5);\n",
        "    subtract(newSize, A21, A11, temp1);\n",
        "    add(newSize, B11, B12, temp2);\n",
        "    strassen(newSize, temp1, temp2, M6);\n",
        "    subtract(newSize, A12, A22, temp1);\n",
        "    add(newSize, B21, B22, temp2);\n",
        "    strassen(newSize, temp1, temp2, M7);\n",
        "    add(newSize, M1, M4, temp1);\n",
        "    subtract(newSize, temp1, M5, temp2);\n",
        "    add(newSize, temp2, M7, C11);\n",
        "add(newSize, M3, M5, C12);\n",
        "    add(newSize, M2, M4, C21);\n",
        "    add(newSize, M1, M3, temp1);\n",
        "    subtract(newSize, temp1, M2, temp2);\n",
        "    add(newSize, temp2, M6, C22);\n",
        "    for(int i = 0; i < newSize; i++) {\n",
        "        for(int j = 0; j < newSize; j++) {\n",
        "            C[i][j] = C11[i][j];\n",
        "            C[i][j + newSize] = C12[i][j];\n",
        "            C[i + newSize][j] = C21[i][j];\n",
        "            C[i + newSize][j + newSize] = C22[i][j];\n",
        "        }\n",
        "    }\n",
        "}\n",
        "void printMatrix(int n, int matrix[][n]) {\n",
        "    for(int i = 0; i < n; i++) {\n",
        "        for(int j = 0; j < n; j++) {\n",
        "            printf(\"%d \", matrix[i][j]);\n",
        "        }\n",
        "        printf(\"\\n\");\n",
        "    }\n",
        "}\n",
        "int main() {\n",
        "    int n = 4; // Example matrix size\n",
        "    int A[n][n];\n",
        "    int B[n][n];\n",
        "    int C[n][n];\n",
        "    // Initialize matrices A and B\n",
        "    A[0][0] = 0; A[0][1] = 0; A[0][2] = 3; A[0][3] = 4;\n",
        "    A[1][0] = 5; A[1][1] = 6; A[1][2] = 0; A[1][3] = 0;\n",
        "    A[2][0] = 0; A[2][1] = 0; A[2][2] = 6; A[2][3] = 5;\n",
        "    A[3][0] = 4; A[3][1] = 3; A[3][2] = 0; A[3][3] = 0;\n",
        "\n",
        "    B[0][0] = 0; B[0][1] = 0; B[0][2] = 6; B[0][3] = 5;\n",
        "    B[1][0] = 4; B[1][1] = 3; B[1][2] = 0; B[1][3] = 0;\n",
        "    B[2][0] = 0; B[2][1] = 0; B[2][2] = 3; B[2][3] = 4;\n",
        "    B[3][0] = 5; B[3][1] = 6; B[3][2] = 0; B[3][3] = 0;\n",
        "    strassen(n, A, B, C);\n",
        "    printf(\"Matrix A:\\n\");\n",
        "    printMatrix(n, A);\n",
        "    printf(\"Matrix B:\\n\");\n",
        "    printMatrix(n, B);\n",
        "    printf(\"Matrix C (Result of Strassen's multiplication):\\n\");\n",
        "    printMatrix(n, C);\n",
        "    return 0;\n",
        "}"
      ],
      "metadata": {
        "colab": {
          "base_uri": "https://localhost:8080/"
        },
        "id": "ZMPpUm7l5DEh",
        "outputId": "f6365598-2793-46d3-c663-d8a7f4b20757"
      },
      "execution_count": null,
      "outputs": [
        {
          "output_type": "stream",
          "name": "stdout",
          "text": [
            "Writing strassen.c\n"
          ]
        }
      ]
    },
    {
      "cell_type": "code",
      "source": [
        "!gcc strassen.c -o strassen"
      ],
      "metadata": {
        "id": "K1eY3u3p6Iqm"
      },
      "execution_count": null,
      "outputs": []
    },
    {
      "cell_type": "code",
      "source": [
        "!./strassen"
      ],
      "metadata": {
        "colab": {
          "base_uri": "https://localhost:8080/"
        },
        "id": "snaioWlS6KEy",
        "outputId": "8258d45f-4820-4452-9497-428c51453a9d"
      },
      "execution_count": null,
      "outputs": [
        {
          "output_type": "stream",
          "name": "stdout",
          "text": [
            "Matrix A:\n",
            "0 0 3 4 \n",
            "5 6 0 0 \n",
            "0 0 6 5 \n",
            "4 3 0 0 \n",
            "Matrix B:\n",
            "0 0 6 5 \n",
            "4 3 0 0 \n",
            "0 0 3 4 \n",
            "5 6 0 0 \n",
            "Matrix C (Result of Strassen's multiplication):\n",
            "20 24 9 12 \n",
            "24 18 30 25 \n",
            "25 30 18 24 \n",
            "12 9 24 20 \n"
          ]
        }
      ]
    },
    {
      "cell_type": "markdown",
      "source": [
        "# Greedy Method: Fractional Knapsack"
      ],
      "metadata": {
        "id": "1Wwcd-xX6Ykm"
      }
    },
    {
      "cell_type": "code",
      "source": [
        "%%writefile knapsack.c\n",
        "#include<stdio.h>\n",
        "void main()\n",
        "{\n",
        "    float p[16],w[16],rem_wt,ppw[16],r[16][16];\n",
        "    int i,n,j;\n",
        "    printf(\"Enter the number of items: \");\n",
        "    scanf(\"%d\",&n);\n",
        "    printf(\"Enter the profits of these items: \");\n",
        "    for(i=0;i<n;i++)\n",
        "    {\n",
        "        scanf(\"%f\",&p[i]);\n",
        "    }\n",
        "    printf(\"Enter the weights of these items: \");\n",
        "    for(i=0;i<n;i++)\n",
        "    {\n",
        "        scanf(\"%f\",&w[i]);\n",
        "    }\n",
        "    for(i=0;i<n;i++)\n",
        "    {\n",
        "        ppw[i] = (float)p[i]/(float)w[i];\n",
        "    }\n",
        "    for(i=0;i<n;i++)\n",
        "    {\n",
        "        for(j=0;j<3;j++)\n",
        "        {\n",
        "            if(j==0)\n",
        "            {\n",
        "                r[i][j] = ppw[i];\n",
        "            }\n",
        "            else if(j==1)\n",
        "            {\n",
        "                r[i][j] = p[i];\n",
        "            }\n",
        "            else\n",
        "            {\n",
        "                r[i][j] = w[i];\n",
        "            }\n",
        "        }\n",
        "    }\n",
        "    int max = r[i][0];\n",
        "    for(i=0;i<n;i++)\n",
        "    {\n",
        "        for(j=i+1;j<n;j++)\n",
        "        {\n",
        "            if(r[i][0]<r[j][0])\n",
        "            {\n",
        "                for(int k=0;k<3;k++)\n",
        "                {\n",
        "                int temp;\n",
        "                temp = r[i][k];\n",
        "                r[i][k] = r[j][k];\n",
        "                r[j][k] = temp;\n",
        "                }\n",
        "            }\n",
        "        }\n",
        "        max = r[i][0];\n",
        "    }\n",
        "    float tot_wt,sum=0;\n",
        "    printf(\"Enter the max quantity: \");\n",
        "    scanf(\"%f\",&tot_wt);\n",
        "    while(tot_wt>=0)\n",
        "    {\n",
        "        for(i=0;i<n;i++)\n",
        "        {\n",
        "            if(tot_wt>r[i][2])\n",
        "            {\n",
        "            tot_wt=tot_wt - r[i][2];\n",
        "            sum=sum+r[i][1];\n",
        "            }\n",
        "            else\n",
        "            {\n",
        "                break;\n",
        "            }\n",
        "        }\n",
        "        sum=sum+(tot_wt/r[i][2])*r[i][1];\n",
        "        tot_wt=-1;\n",
        "    }\n",
        "    printf(\"Maximum Profit: %f\",sum);\n",
        "}"
      ],
      "metadata": {
        "colab": {
          "base_uri": "https://localhost:8080/"
        },
        "id": "D6m2PZ3-6MyE",
        "outputId": "18f2112b-5130-46ac-9c5c-bf98bb123d30"
      },
      "execution_count": null,
      "outputs": [
        {
          "output_type": "stream",
          "name": "stdout",
          "text": [
            "Writing knapsack.c\n"
          ]
        }
      ]
    },
    {
      "cell_type": "code",
      "source": [
        "!gcc knapsack.c -o knapsack"
      ],
      "metadata": {
        "id": "3e6eGLIC6lh2"
      },
      "execution_count": null,
      "outputs": []
    },
    {
      "cell_type": "code",
      "source": [
        "!./knapsack"
      ],
      "metadata": {
        "colab": {
          "base_uri": "https://localhost:8080/"
        },
        "id": "zi8A2H606nK2",
        "outputId": "ef23af1b-f3b8-4b19-cf75-7eaa376d10a1"
      },
      "execution_count": null,
      "outputs": [
        {
          "output_type": "stream",
          "name": "stdout",
          "text": [
            "Enter the number of items: 4\n",
            "Enter the profits of these items: 280 100 120 120\n",
            "Enter the weights of these items: 40 10 20 24\n",
            "Enter the max quantity: 60\n",
            "Maximum Profit: 440.000000"
          ]
        }
      ]
    },
    {
      "cell_type": "markdown",
      "source": [
        "# Activity Selection Method"
      ],
      "metadata": {
        "id": "mA5wOnNt8W5w"
      }
    },
    {
      "cell_type": "code",
      "source": [
        "%%writefile activity_selection.c\n",
        "#include<stdio.h>\n",
        "#define MAX_SIZE 100 // Define maximum size for arrays\n",
        "int m_act = 0; // Variable to store the number of activities\n",
        "int solution[MAX_SIZE]; // Array to store the selected activities\n",
        "// Function to perform activity selection\n",
        "void activity(int s[], int e[], int a[], int n) {\n",
        "    int p_end; // Variable to store the end time of the previous activity\n",
        "    // Sorting activities based on their end times\n",
        "    for (int i = 0; i < n; i++) {\n",
        "        int min = e[i], min_index = i;\n",
        "        for (int j = i + 1; j < n; j++) {\n",
        "            if (e[j] < min) {\n",
        "                min = e[j];\n",
        "                min_index = j;\n",
        "            }\n",
        "        }\n",
        "        // Swapping start, end, and activity arrays based on the sorted order\n",
        "        int temp = s[i]; s[i] = s[min_index]; s[min_index] = temp;\n",
        "        temp = e[i]; e[i] = e[min_index]; e[min_index] = temp;\n",
        "        temp = a[i]; a[i] = a[min_index]; a[min_index] = temp;\n",
        "    }\n",
        "    // Selecting activities\n",
        "    solution[0] = a[0];\n",
        "    p_end = e[0];\n",
        "    m_act = 1;\n",
        "    for (int i = 0; i < n; i++) {\n",
        "        // If the start time of the current activity is greater than or equal to the end time of the previous activity\n",
        "        if (s[i] >= p_end) {\n",
        "            p_end = e[i]; // Update the end time of the previous activity\n",
        "            solution[m_act++] = a[i]; // Add the current activity to the solution\n",
        "        }\n",
        "    }\n",
        "}\n",
        "int main() {\n",
        "    int start[MAX_SIZE], end[MAX_SIZE], act[MAX_SIZE], n = 0; // Arrays to store start time, end time, and activity number\n",
        "    printf(\"Enter the number of activities (max 100): \");\n",
        "    scanf(\"%d\", &n); // Input the number of activities\n",
        "    // Input start and end time for each activity\n",
        "    for (int i = 0; i < n; i++) {\n",
        "        printf(\"Enter start and end time for activity %d: \", i + 1);\n",
        "        scanf(\"%d %d\", &start[i], &end[i]);\n",
        "        act[i] = i + 1; // Assigning activity numbers\n",
        "    }\n",
        "    activity(start, end, act, n); // Call the activity selection function\n",
        "    printf(\"The selected activities are: \");\n",
        "    // Output the selected activities\n",
        "    for (int i = 0; i < m_act; i++) {\n",
        "        printf(\"%d \", solution[i]);\n",
        "    }\n",
        "    printf(\"\\n\");\n",
        "    return 0;\n",
        "}"
      ],
      "metadata": {
        "colab": {
          "base_uri": "https://localhost:8080/"
        },
        "id": "qCG4FSFO6qNl",
        "outputId": "d9717fd1-ae62-4358-9df8-c6c40691c856"
      },
      "execution_count": null,
      "outputs": [
        {
          "output_type": "stream",
          "name": "stdout",
          "text": [
            "Overwriting activity_selection.c\n"
          ]
        }
      ]
    },
    {
      "cell_type": "code",
      "source": [
        "!gcc activity_selection.c -o activity_selection"
      ],
      "metadata": {
        "id": "BjVVq_sw7gph"
      },
      "execution_count": null,
      "outputs": []
    },
    {
      "cell_type": "code",
      "source": [
        "!./activity_selection"
      ],
      "metadata": {
        "colab": {
          "base_uri": "https://localhost:8080/"
        },
        "id": "L9i8M30U7izX",
        "outputId": "de96ebde-9557-4d4a-f6ce-f2beaa0cdca0"
      },
      "execution_count": null,
      "outputs": [
        {
          "output_type": "stream",
          "name": "stdout",
          "text": [
            "Enter the number of activities (max 100): 8\n",
            "Enter start and end time for activity 1: 1 4\n",
            "Enter start and end time for activity 2: 2 3\n",
            "Enter start and end time for activity 3: 3 7\n",
            "Enter start and end time for activity 4: 4 5\n",
            "Enter start and end time for activity 5: 5 6\n",
            "Enter start and end time for activity 6: 6 8\n",
            "Enter start and end time for activity 7: 7 10\n",
            "Enter start and end time for activity 8: 8 9\n",
            "The selected activities are: 2 4 5 6 8 \n"
          ]
        }
      ]
    },
    {
      "cell_type": "markdown",
      "source": [
        "# Prim's Algorithm"
      ],
      "metadata": {
        "id": "i7uzXLgP9BOs"
      }
    },
    {
      "cell_type": "code",
      "source": [
        "%%writefile prims.c\n",
        "#include <stdio.h>\n",
        "#include <stdbool.h>\n",
        "#include <limits.h>\n",
        "#define MAX_VERTICES 100\n",
        "#define INF INT_MAX\n",
        "// Function to implement Prim's algorithm to construct MST and calculate minimum cost\n",
        "void primMST(int graph[MAX_VERTICES][MAX_VERTICES], int V) {\n",
        "    int parent[V];  // Array to store constructed MST\n",
        "    int key[V];     // Key values used to pick minimum weight edge in cut\n",
        "    // Initialize all keys as INFINITE\n",
        "    for (int i = 0; i < V; i++)\n",
        "        key[i] = INF;\n",
        "    // Always include first vertex in MST\n",
        "    key[0] = 0;\n",
        "    int minCost = 0;\n",
        "    for (int count = 0; count < V - 1; count++) {\n",
        "        int u = -1;\n",
        "        for (int v = 0; v < V; v++)\n",
        "            if (key[v] != -1 && (u == -1 || key[v] < key[u]))\n",
        "                u = v;\n",
        "        if (key[u] == INF)\n",
        "            break;\n",
        "        key[u] = -1;\n",
        "        // Update key value and parent index of the adjacent vertices of the picked vertex.\n",
        "        for (int v = 0; v < V; v++)\n",
        "            if (graph[u][v] && key[v] != -1 && graph[u][v] < key[v]) {\n",
        "                parent[v] = u;\n",
        "                key[v] = graph[u][v];\n",
        "            }\n",
        "    }\n",
        "    // Print the constructed MST\n",
        "    printf(\"Edge   Weight\\n\");\n",
        "    for (int i = 1; i < V; i++) {\n",
        "        printf(\"%d - %d    %d \\n\", parent[i]+1, i+1, graph[i][parent[i]]);\n",
        "        minCost += graph[i][parent[i]];\n",
        "    }\n",
        "    printf(\"Minimum Cost: %d\\n\", minCost);\n",
        "}\n",
        "int main() {\n",
        "    int V;\n",
        "    printf(\"Enter the number of vertices: \");\n",
        "    scanf(\"%d\", &V);\n",
        "   int graph[MAX_VERTICES][MAX_VERTICES];\n",
        "    printf(\"Enter the adjacency matrix of the graph:\\n\");\n",
        "    for (int i = 0; i < V; i++) {\n",
        "        for (int j = 0; j < V; j++) {\n",
        "            scanf(\"%d\", &graph[i][j]);\n",
        "        }\n",
        "    }\n",
        "    printf(\"Prim's MST:\\n\");\n",
        "    primMST(graph, V);\n",
        "    return 0;\n",
        "}"
      ],
      "metadata": {
        "colab": {
          "base_uri": "https://localhost:8080/"
        },
        "id": "ELQt_xtU71Jc",
        "outputId": "18680368-c18a-4a72-a344-7cfc1f15965e"
      },
      "execution_count": null,
      "outputs": [
        {
          "output_type": "stream",
          "name": "stdout",
          "text": [
            "Overwriting prims.c\n"
          ]
        }
      ]
    },
    {
      "cell_type": "code",
      "source": [
        "!gcc prims.c -o prims"
      ],
      "metadata": {
        "id": "gDYS_VS08jCj"
      },
      "execution_count": null,
      "outputs": []
    },
    {
      "cell_type": "code",
      "source": [
        "!./prims"
      ],
      "metadata": {
        "colab": {
          "base_uri": "https://localhost:8080/"
        },
        "id": "q2ytCdue8l3M",
        "outputId": "2d727ec2-05a4-49ef-9d6b-3877ef63ce48"
      },
      "execution_count": null,
      "outputs": [
        {
          "output_type": "stream",
          "name": "stdout",
          "text": [
            "Enter the number of vertices: 5\n",
            "Enter the adjacency matrix of the graph:\n",
            "0 1 2 0 0\n",
            "1 0 0 3 0\n",
            "2 0 0 6 5\n",
            "0 3 6 0 4\n",
            "0 0 5 4 0\n",
            "Prim's MST:\n",
            "Edge   Weight\n",
            "1 - 2    1 \n",
            "1 - 3    2 \n",
            "2 - 4    3 \n",
            "4 - 5    4 \n",
            "Minimum Cost: 10\n"
          ]
        }
      ]
    },
    {
      "cell_type": "markdown",
      "source": [
        "# Kruskal's Algorithm"
      ],
      "metadata": {
        "id": "areFao269FIc"
      }
    },
    {
      "cell_type": "code",
      "source": [
        "%%writefile kruskal.c\n",
        "#include <stdio.h>\n",
        "#include <stdlib.h>\n",
        "#define MAX_VERTICES 100\n",
        "typedef struct { int src, dest, weight; } Edge;\n",
        "typedef struct { int parent, rank; } Subset;\n",
        "int cmp(const void *a, const void *b) { return ((Edge *)a)->weight - ((Edge\n",
        "*)b)->weight; }\n",
        "int find(Subset s[], int i) { return s[i].parent != i ? s[i].parent = find(s,\n",
        "s[i].parent) : i; }\n",
        "void unionSets(Subset s[], int x, int y) { int xr = find(s, x), yr = find(s,\n",
        "y); s[xr].parent = yr; if (s[xr].rank == s[yr].rank) s[yr].rank++; }\n",
        "void kruskalMST(int g[MAX_VERTICES][MAX_VERTICES], int V) {\n",
        "    Edge e[V * V]; int E = 0, c = 0;\n",
        "    for (int i = 0; i < V; ++i) for (int j = i + 1; j < V; ++j) if (g[i][j] !=\n",
        "0) e[E++] = (Edge){i, j, g[i][j]};\n",
        "    Subset s[V]; for (int v = 0; v < V; ++v) s[v] = (Subset){v, 0}; qsort(e, E,\n",
        "sizeof(Edge), cmp);\n",
        "    for (int i = 0; i < E; ++i) { Edge n = e[i]; int x = find(s, n.src), y =\n",
        "find(s, n.dest); if (x != y) { c += n.weight; unionSets(s, x, y); } }\n",
        "    printf(\"Minimum Cost: %d\\n\", c);\n",
        "}\n",
        "int main() {\n",
        "    int V; printf(\"Enter the number of vertices: \"); scanf(\"%d\", &V);\n",
        "    int g[MAX_VERTICES][MAX_VERTICES];\n",
        "    printf(\"Enter the adjacency matrix of the graph:\\n\");\n",
        "    for (int i = 0; i < V; ++i) for (int j = 0; j < V; ++j) scanf(\"%d\",\n",
        "&g[i][j]);\n",
        "    kruskalMST(g, V);\n",
        "    return 0;\n",
        "}"
      ],
      "metadata": {
        "colab": {
          "base_uri": "https://localhost:8080/"
        },
        "id": "nU2REJqc8vLz",
        "outputId": "f40aa514-9fbc-42f7-f0bc-145f15196c27"
      },
      "execution_count": null,
      "outputs": [
        {
          "output_type": "stream",
          "name": "stdout",
          "text": [
            "Writing kruskal.c\n"
          ]
        }
      ]
    },
    {
      "cell_type": "code",
      "source": [
        "!gcc kruskal.c -o kruskal"
      ],
      "metadata": {
        "id": "661gslGI9X7f"
      },
      "execution_count": null,
      "outputs": []
    },
    {
      "cell_type": "code",
      "source": [
        "!./kruskal"
      ],
      "metadata": {
        "colab": {
          "base_uri": "https://localhost:8080/"
        },
        "id": "H6gaSN2Q9ZGL",
        "outputId": "223cb238-a35a-481f-9b52-be598af25311"
      },
      "execution_count": null,
      "outputs": [
        {
          "output_type": "stream",
          "name": "stdout",
          "text": [
            "Enter the number of vertices: 5\n",
            "Enter the adjacency matrix of the graph:\n",
            "0 1 2 0 0\n",
            "1 0 0 3 0\n",
            "2 0 0 6 5\n",
            "0 3 6 0 4\n",
            "0 0 5 4 0\n",
            "Minimum Cost: 10\n"
          ]
        }
      ]
    },
    {
      "cell_type": "markdown",
      "source": [
        "# Dynammic Programming: Floyd Warshall"
      ],
      "metadata": {
        "id": "Jd30ccI8-LpN"
      }
    },
    {
      "cell_type": "code",
      "source": [
        "%%writefile floyd_warshall.c\n",
        "#include <stdio.h>\n",
        "#include <limits.h>\n",
        "#define INF 99999\n",
        "void floydWarshall(int V, int graph[][V]);\n",
        "int main() {\n",
        "int V;\n",
        "    printf(\"Enter the number of nodes: \");\n",
        "    scanf(\"%d\", &V);\n",
        "    int graph[V][V];\n",
        "    printf(\"Enter the adjacency matrix of the graph (INF for infinity):\\n\");\n",
        "    for (int i = 0; i < V; i++) {\n",
        "        for (int j = 0; j < V; j++) {\n",
        "            scanf(\"%d\", &graph[i][j]);\n",
        "            if (graph[i][j] == -1)  // Assuming -1 as representation of INF\n",
        "                graph[i][j] = INF;\n",
        "        }\n",
        "    }\n",
        "    floydWarshall(V, graph);\n",
        "    return 0;\n",
        "}\n",
        "void floydWarshall(int V, int graph[][V]) {\n",
        "    int dist[V][V];\n",
        "    // Initialize the distance matrix as a copy of the graph matrix\n",
        "    for (int i = 0; i < V; i++) {\n",
        "        for (int j = 0; j < V; j++) {\n",
        "            dist[i][j] = graph[i][j];\n",
        "        }\n",
        "    }\n",
        "    // Loop through all vertices as intermediate vertices\n",
        "    for (int k = 0; k < V; k++) {\n",
        "        // Loop through all vertices as source vertices\n",
        "        for (int i = 0; i < V; i++) {\n",
        "            // Loop through all vertices as destination vertices\n",
        "            for (int j = 0; j < V; j++) {\n",
        "                // Update the distance matrix\n",
        "                if (dist[i][k] + dist[k][j] < dist[i][j]) {\n",
        "                    dist[i][j] = dist[i][k] + dist[k][j];\n",
        "                }\n",
        "            }\n",
        "        }\n",
        "    }\n",
        "    // Print the result\n",
        "    printf(\"The following matrix shows the shortest distances between every pair of vertices:\\n\");\n",
        "    for (int i = 0; i < V; i++) {\n",
        "        for (int j = 0; j < V; j++) {\n",
        "            if (dist[i][j] == INF) {\n",
        "                printf(\"%7s\", \"INF\");\n",
        "            } else {\n",
        "                printf(\"%7d\", dist[i][j]);\n",
        "            }\n",
        "        }\n",
        "        printf(\"\\n\");\n",
        "    }\n",
        "}"
      ],
      "metadata": {
        "colab": {
          "base_uri": "https://localhost:8080/"
        },
        "id": "Co-DmeDP9a97",
        "outputId": "47b18de1-e844-434f-ba2f-5679afa4bcda"
      },
      "execution_count": null,
      "outputs": [
        {
          "output_type": "stream",
          "name": "stdout",
          "text": [
            "Writing floyd_warshall.c\n"
          ]
        }
      ]
    },
    {
      "cell_type": "code",
      "source": [
        "!gcc floyd_warshall.c -o floyd_warshall"
      ],
      "metadata": {
        "id": "hK0HLbov-V6i"
      },
      "execution_count": null,
      "outputs": []
    },
    {
      "cell_type": "code",
      "source": [
        "!./floyd_warshall"
      ],
      "metadata": {
        "colab": {
          "base_uri": "https://localhost:8080/"
        },
        "id": "36sc2hUw-XKH",
        "outputId": "d1875f26-7f52-4919-b974-f0aa3728cbc1"
      },
      "execution_count": null,
      "outputs": [
        {
          "output_type": "stream",
          "name": "stdout",
          "text": [
            "Enter the number of nodes: 4\n",
            "Enter the adjacency matrix of the graph (INF for infinity):\n",
            "0 8 -1 1\n",
            "-1 0 1 -1\n",
            "4 -1 0 -1\n",
            "-1 2 9 0\n",
            "The following matrix shows the shortest distances between every pair of vertices:\n",
            "      0      3      4      1\n",
            "      5      0      1      6\n",
            "      4      7      0      5\n",
            "      7      2      3      0\n"
          ]
        }
      ]
    },
    {
      "cell_type": "markdown",
      "source": [
        "# Backtracking: N Queens Problem"
      ],
      "metadata": {
        "id": "XDtWDDg3HXcj"
      }
    },
    {
      "cell_type": "code",
      "source": [
        "%%writefile nqueens.c\n",
        "#include<stdio.h>\n",
        "#include<math.h>\n",
        "#include<stdlib.h>\n",
        "int a[30], count = 0;\n",
        "int place(int pos) {\n",
        "int i;\n",
        "for (i = 1; i < pos; i++) {\n",
        "if ((a[i] == a[pos]) || ((abs(a[i] - a[pos]) == abs(i - pos))))\n",
        "return 0;\n",
        "}\n",
        "return 1;\n",
        "}\n",
        "void print_sol(int n) {\n",
        "    int i, j;\n",
        "    count++;\n",
        "    printf(\"\\n\\nSolution #%d:\\n\", count);\n",
        "    for (i = 1; i <= n; i++) {\n",
        "        for (j = 1; j <= n; j++) {\n",
        "            if (a[i] == j)\n",
        "                printf(\"Q\\t\");\n",
        "            else\n",
        "                printf(\"*\\t\");\n",
        "        }\n",
        "        printf(\"\\n\");\n",
        "    }\n",
        "}\n",
        "void queen(int n) {\n",
        "    int k = 1;\n",
        "    a[k] = 0;\n",
        "    while (k != 0) {\n",
        "        a[k] = a[k] + 1;\n",
        "        while ((a[k] <= n) && !place(k))\n",
        "            a[k]++;\n",
        "        if (a[k] <= n) {\n",
        "            if (k == n)\n",
        "                print_sol(n);\n",
        "            else {\n",
        "                k++;\n",
        "                a[k] = 0;\n",
        "            }\n",
        "        }\n",
        "        else\n",
        "            k--;\n",
        "    }\n",
        "}\n",
        "void main() {\n",
        "    int i, n;\n",
        "    printf(\"Enter the number of Queens\\n\");\n",
        "    scanf(\"%d\", &n);\n",
        "    queen(n);\n",
        "    printf(\"\\nTotal solutions=%d\", count);\n",
        "}"
      ],
      "metadata": {
        "colab": {
          "base_uri": "https://localhost:8080/"
        },
        "id": "sA9IH1GG_vXc",
        "outputId": "58b7615e-6d9c-47ec-d3be-8dd1b4a92b22"
      },
      "execution_count": null,
      "outputs": [
        {
          "output_type": "stream",
          "name": "stdout",
          "text": [
            "Writing nqueens.c\n"
          ]
        }
      ]
    },
    {
      "cell_type": "code",
      "source": [
        "!gcc nqueens.c -o nqueens"
      ],
      "metadata": {
        "id": "QjcMV8MbHjSa"
      },
      "execution_count": null,
      "outputs": []
    },
    {
      "cell_type": "code",
      "source": [
        "!./nqueens"
      ],
      "metadata": {
        "colab": {
          "base_uri": "https://localhost:8080/"
        },
        "id": "ybQ_bwygHuSd",
        "outputId": "3eba7d07-d9eb-4621-8f3c-5835f4fb77a8"
      },
      "execution_count": null,
      "outputs": [
        {
          "output_type": "stream",
          "name": "stdout",
          "text": [
            "Enter the number of Queens\n",
            "4\n",
            "\n",
            "\n",
            "Solution #1:\n",
            "*\tQ\t*\t*\t\n",
            "*\t*\t*\tQ\t\n",
            "Q\t*\t*\t*\t\n",
            "*\t*\tQ\t*\t\n",
            "\n",
            "\n",
            "Solution #2:\n",
            "*\t*\tQ\t*\t\n",
            "Q\t*\t*\t*\t\n",
            "*\t*\t*\tQ\t\n",
            "*\tQ\t*\t*\t\n",
            "\n",
            "Total solutions=2"
          ]
        }
      ]
    },
    {
      "cell_type": "markdown",
      "source": [
        "# Branch and Bound: Travelling Salesman Problem"
      ],
      "metadata": {
        "id": "8UrYFL9NIN7F"
      }
    },
    {
      "cell_type": "code",
      "source": [
        "%%writefile bnb.c\n",
        "#include <stdio.h>\n",
        "// Array to store the cost matrix\n",
        "int a[10][10], visited[10], n, cost = 0;\n",
        "// Function to get the cost matrix from user\n",
        "void get() {\n",
        "    int i, j;\n",
        "    printf(\"Enter No. of Cities: \");\n",
        "    scanf(\"%d\", &n);\n",
        "    printf(\"\\nEnter Cost Matrix: \\n\");\n",
        "    for (i = 0; i < n; i++) {\n",
        "        printf(\"\\n Enter Elements of Row# : %d\\n\", i + 1);\n",
        "        for (j = 0; j < n; j++)\n",
        "            scanf(\"%d\", &a[i][j]);\n",
        "        visited[i] = 0;\n",
        "    }\n",
        "    printf(\"\\n\\nThe cost list is:\\n\\n\");\n",
        "    for (i = 0; i < n; i++) {\n",
        "        printf(\"\\n\\n\");\n",
        "        for (j = 0; j < n; j++)\n",
        "            printf(\"\\t % d\", a[i][j]);\n",
        "    }\n",
        "}\n",
        "// Function to find the smallest cost city to visit next\n",
        "int least(int c) {\n",
        "    int i, nc = 999;\n",
        "    int min = 999, kmin;\n",
        "    for (i = 0; i < n; i++) {\n",
        "        if ((a[c][i] != 0) && (visited[i] == 0))\n",
        "            if (a[c][i] < min) {\n",
        "                min = a[i][0] + a[c][i];\n",
        "                kmin = a[c][i];\n",
        "                nc = i;\n",
        "            }\n",
        "    }\n",
        "    if (min != 999)\n",
        "        cost += kmin;\n",
        "    return nc;\n",
        "}\n",
        "// Function to find the minimum cost path\n",
        "void mincost(int city) {\n",
        "    int i, ncity;\n",
        "    visited[city] = 1;\n",
        "    printf(\"%d\", city + 1);\n",
        "ncity = least(city);\n",
        "if (ncity == 999) {\n",
        "ncity = 0;\n",
        "printf(\"%d\", ncity + 1);\n",
        "cost += a[city][ncity];\n",
        "return;\n",
        "}\n",
        "mincost(ncity);\n",
        "}\n",
        "// Function to print the minimum cost\n",
        "void put() {\n",
        "printf(\"\\n\\nMinimum cost:\");\n",
        "printf(\"%d\", cost);\n",
        "}\n",
        "// Main function\n",
        "int main() {\n",
        "get();\n",
        "printf(\"\\n\\nThe Path is:\\n\\n\");\n",
        "mincost(0);\n",
        "put();\n",
        "return 0;\n",
        "}"
      ],
      "metadata": {
        "colab": {
          "base_uri": "https://localhost:8080/"
        },
        "id": "Z0bUKN3VHx0U",
        "outputId": "e4d61bbe-4808-4159-ed74-bed44905372b"
      },
      "execution_count": null,
      "outputs": [
        {
          "output_type": "stream",
          "name": "stdout",
          "text": [
            "Overwriting bnb.c\n"
          ]
        }
      ]
    },
    {
      "cell_type": "code",
      "source": [
        "!gcc bnb.c -o bnb"
      ],
      "metadata": {
        "id": "WBX220qBIcGC"
      },
      "execution_count": null,
      "outputs": []
    },
    {
      "cell_type": "code",
      "source": [
        "!./bnb"
      ],
      "metadata": {
        "colab": {
          "base_uri": "https://localhost:8080/"
        },
        "id": "y9CLND1dIiCI",
        "outputId": "6b7592d8-67dd-4a90-b93d-f7feda2180cc"
      },
      "execution_count": null,
      "outputs": [
        {
          "output_type": "stream",
          "name": "stdout",
          "text": [
            "Enter No. of Cities: 4\n",
            "\n",
            "Enter Cost Matrix: \n",
            "\n",
            " Enter Elements of Row# : 1\n",
            "999 10 15 20\n",
            "\n",
            " Enter Elements of Row# : 2\n",
            "5 999 9 10\n",
            "\n",
            " Enter Elements of Row# : 3\n",
            "6 13 999 12\n",
            "\n",
            " Enter Elements of Row# : 4\n",
            "8 8 9 999\n",
            "\n",
            "\n",
            "The cost list is:\n",
            "\n",
            "\n",
            "\n",
            "\t  999\t  10\t  15\t  20\n",
            "\n",
            "\t  5\t  999\t  9\t  10\n",
            "\n",
            "\t  6\t  13\t  999\t  12\n",
            "\n",
            "\t  8\t  8\t  9\t  999\n",
            "\n",
            "The Path is:\n",
            "\n",
            "12431\n",
            "\n",
            "Minimum cost:35"
          ]
        }
      ]
    },
    {
      "cell_type": "code",
      "source": [
        "%%writefile kmp.c\n",
        "#include <stdio.h>\n",
        "#include <string.h>\n",
        "#include <stdlib.h>\n",
        "// Function to implement the KMP algorithm\n",
        "void KMP(const char* text, const char* pattern, int m, int n)\n",
        "{\n",
        "    // base case 1: pattern is NULL or empty\n",
        "    if (*pattern == '\\0' || n == 0) {\n",
        "        printf(\"The pattern occurs with shift 0\");\n",
        "    }\n",
        "    // base case 2: text is NULL, or text's length is less than that of pattern's\n",
        "    if (*text == '\\0' || n > m) {\n",
        "        printf(\"Pattern not found\");\n",
        "    }\n",
        "    // next[i] stores the index of the next best partial match\n",
        "    int next[n + 1];\n",
        "    for (int i = 0; i < n + 1; i++) {\n",
        "        next[i] = 0;\n",
        "    }\n",
        "    for (int i = 1; i < n; i++)\n",
        "    {\n",
        "        int j = next[i];\n",
        "        while (j > 0 && pattern[j] != pattern[i]) {\n",
        "            j = next[j];\n",
        "        }\n",
        "\n",
        "        if (j > 0 || pattern[j] == pattern[i]) {\n",
        "            next[i + 1] = j + 1;\n",
        "        }\n",
        "    }\n",
        "    // Initialize the counter for pattern occurrences\n",
        "    int occurrences = 0;\n",
        "    for (int i = 0, j = 0; i < m; i++)\n",
        "    {\n",
        "        if (*(text + i) == *(pattern + j))\n",
        "        {\n",
        "            if (++j == n) {\n",
        "                printf(\"The pattern occurs with shift %d\\n\", i - j + 1);\n",
        "                occurrences++; // Increment the occurrence counter\n",
        "                j = next[j]; // Reset j to continue searching for the next occurrence\n",
        "            }\n",
        "        }\n",
        "        else if (j > 0)\n",
        "        {\n",
        "j = next[j];\n",
        "i--;\n",
        "// since `i` will be incremented in the next iteration\n",
        "}\n",
        "}\n",
        "// Print the total number of occurrences\n",
        "printf(\"Pattern occurs %d times in the text.\\n\", occurrences);\n",
        "}\n",
        "// Program to implement the KMP algorithm in C\n",
        "int main(void)\n",
        "{\n",
        "char* text = \"AABAACAADAABAABA\";\n",
        "char* pattern = \"AABA\";\n",
        "int n = strlen(text);\n",
        "int m = strlen(pattern);\n",
        "KMP(text, pattern, n, m);\n",
        "return 0;\n",
        "}"
      ],
      "metadata": {
        "colab": {
          "base_uri": "https://localhost:8080/"
        },
        "id": "sM5fV8DnIsEt",
        "outputId": "ecd8b5da-6d14-404d-bbfb-3c629a629032"
      },
      "execution_count": null,
      "outputs": [
        {
          "output_type": "stream",
          "name": "stdout",
          "text": [
            "Writing kmp.c\n"
          ]
        }
      ]
    },
    {
      "cell_type": "code",
      "source": [
        "!gcc kmp.c -o kmp"
      ],
      "metadata": {
        "id": "bU9bLZnZJjtQ"
      },
      "execution_count": null,
      "outputs": []
    },
    {
      "cell_type": "code",
      "source": [
        "!./kmp"
      ],
      "metadata": {
        "colab": {
          "base_uri": "https://localhost:8080/"
        },
        "id": "f1oJXrx2Jo0Z",
        "outputId": "b00a1f2b-06e3-419d-8a78-981e6ae48430"
      },
      "execution_count": null,
      "outputs": [
        {
          "output_type": "stream",
          "name": "stdout",
          "text": [
            "The pattern occurs with shift 0\n",
            "The pattern occurs with shift 9\n",
            "The pattern occurs with shift 12\n",
            "Pattern occurs 3 times in the text.\n"
          ]
        }
      ]
    },
    {
      "cell_type": "code",
      "source": [],
      "metadata": {
        "id": "YhNJenNHJsNJ"
      },
      "execution_count": null,
      "outputs": []
    }
  ]
}