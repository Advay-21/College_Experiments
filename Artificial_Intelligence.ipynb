{
  "nbformat": 4,
  "nbformat_minor": 0,
  "metadata": {
    "colab": {
      "provenance": [],
      "authorship_tag": "ABX9TyPKX/C1XKffxo5v/aI5Ps+t",
      "include_colab_link": true
    },
    "kernelspec": {
      "name": "python3",
      "display_name": "Python 3"
    },
    "language_info": {
      "name": "python"
    }
  },
  "cells": [
    {
      "cell_type": "markdown",
      "metadata": {
        "id": "view-in-github",
        "colab_type": "text"
      },
      "source": [
        "<a href=\"https://colab.research.google.com/github/AdvaySharma147/College_Experiments/blob/main/Artificial_Intelligence.ipynb\" target=\"_parent\"><img src=\"https://colab.research.google.com/assets/colab-badge.svg\" alt=\"Open In Colab\"/></a>"
      ]
    },
    {
      "cell_type": "markdown",
      "source": [
        "# Experiment 1.1"
      ],
      "metadata": {
        "id": "drloWrPQnsE6"
      }
    },
    {
      "cell_type": "code",
      "execution_count": null,
      "metadata": {
        "id": "OorsWZSBkvgo"
      },
      "outputs": [],
      "source": [
        "from collections import deque\n",
        "# Define the goal state\n",
        "def is_goal_state(state):\n",
        "    return state == (4, 4, 0)"
      ]
    },
    {
      "cell_type": "code",
      "source": [
        "# Generate all possible moves from a given state\n",
        "def get_possible_moves(state):\n",
        "    # Extract the amount of water in each jug\n",
        "    a, b, c = state\n",
        "    possible_moves = []\n",
        "    # Define the capacities of the jugs\n",
        "    cap_a, cap_b, cap_c = 8, 5, 3\n",
        "    # Generate all possible moves (pouring from one jug to another)\n",
        "    if a > 0:  # Pour from A to B or C\n",
        "        pour_to_b = min(a, cap_b - b)\n",
        "        pour_to_c = min(a, cap_c - c)\n",
        "        possible_moves.append((a - pour_to_b, b + pour_to_b, c))  # A -> B\n",
        "        possible_moves.append((a - pour_to_c, b, c + pour_to_c))  # A -> C\n",
        "    if b > 0:  # Pour from B to A or C\n",
        "        pour_to_a = min(b, cap_a - a)\n",
        "        pour_to_c = min(b, cap_c - c)\n",
        "        possible_moves.append((a + pour_to_a, b - pour_to_a, c))  # B -> A\n",
        "        possible_moves.append((a, b - pour_to_c, c + pour_to_c))  # B -> C\n",
        "    if c > 0:  # Pour from C to A or B\n",
        "        pour_to_a = min(c, cap_a - a)\n",
        "        pour_to_b = min(c, cap_b - b)\n",
        "        possible_moves.append((a + pour_to_a, b, c - pour_to_a))  # C -> A\n",
        "        possible_moves.append((a, b + pour_to_b, c - pour_to_b))  # C -> B\n",
        "    return possible_moves"
      ],
      "metadata": {
        "id": "0KFTrPqFmm0O"
      },
      "execution_count": null,
      "outputs": []
    },
    {
      "cell_type": "code",
      "source": [
        "def bfs_solve(initial_state):\n",
        "    # Initialize the queue and visited set\n",
        "    queue = deque([(initial_state, [])])\n",
        "    visited = set()\n",
        "    while queue:\n",
        "        current_state, path = queue.popleft()\n",
        "        # If we've reached the goal state, return the path to this state\n",
        "        if is_goal_state(current_state):\n",
        "            return path + [current_state]\n",
        "        # Mark the current state as visited\n",
        "        visited.add(current_state)\n",
        "        # Generate all possible moves from the current state\n",
        "        for next_state in get_possible_moves(current_state):\n",
        "            if next_state not in visited:\n",
        "                queue.append((next_state, path + [current_state]))\n",
        "    return None  # No solution found"
      ],
      "metadata": {
        "id": "EoYTqSAcm-ko"
      },
      "execution_count": null,
      "outputs": []
    },
    {
      "cell_type": "code",
      "source": [
        "# Initial state where A = 8, B = 0, C = 0\n",
        "initial_state = (8, 0, 0)\n",
        "# Solve the problem using BFS\n",
        "solution_path = bfs_solve(initial_state)\n",
        "# Print the solution path\n",
        "if solution_path:\n",
        "    for state in solution_path:\n",
        "        print(state)\n",
        "else:\n",
        "    print(\"No solution found.\")"
      ],
      "metadata": {
        "colab": {
          "base_uri": "https://localhost:8080/"
        },
        "id": "TyqayOConGd6",
        "outputId": "e5025129-bfe1-43eb-c9a3-d3a035ec221b"
      },
      "execution_count": null,
      "outputs": [
        {
          "output_type": "stream",
          "name": "stdout",
          "text": [
            "(8, 0, 0)\n",
            "(3, 5, 0)\n",
            "(3, 2, 3)\n",
            "(6, 2, 0)\n",
            "(6, 0, 2)\n",
            "(1, 5, 2)\n",
            "(1, 4, 3)\n",
            "(4, 4, 0)\n"
          ]
        }
      ]
    },
    {
      "cell_type": "markdown",
      "source": [
        "# Experiment 1.2"
      ],
      "metadata": {
        "id": "f1KrdlhB3bU-"
      }
    },
    {
      "cell_type": "code",
      "source": [
        "import itertools\n",
        "def calculate_total_distance(route, distance_matrix):\n",
        "    total_distance = 0\n",
        "    for i in range(len(route)):\n",
        "        total_distance += distance_matrix[route[i-1]][route[i]]\n",
        "    return total_distance"
      ],
      "metadata": {
        "id": "0OICy3tS3qKz"
      },
      "execution_count": null,
      "outputs": []
    },
    {
      "cell_type": "code",
      "source": [
        "def nearest_neighbor_tsp(distance_matrix, city_names):\n",
        "    n = len(distance_matrix)\n",
        "    start = 0  # Starting from the first city (can be any)\n",
        "    visited = [False] * n\n",
        "    route = [start]\n",
        "    visited[start] = True\n",
        "    for _ in range(n - 1):\n",
        "        last = route[-1]\n",
        "        next_city = min(\n",
        "            [(dist, city) for city, dist in enumerate(distance_matrix[last]) if not visited[city]]\n",
        "        )[1]\n",
        "        route.append(next_city)\n",
        "        visited[next_city] = True\n",
        "    # Return to the starting city\n",
        "    route.append(start)\n",
        "    # Convert route indices to city names\n",
        "    named_route = [city_names[i] for i in route]\n",
        "    return named_route, calculate_total_distance(route, distance_matrix)"
      ],
      "metadata": {
        "id": "kOUL4x0h3sHh"
      },
      "execution_count": null,
      "outputs": []
    },
    {
      "cell_type": "code",
      "source": [
        "# Example distance matrix (A, B, C, D)\n",
        "distance_matrix = [\n",
        "    [0, 10, 15, 20],  # Distances from A to A, B, C, D\n",
        "    [10, 0, 35, 25],  # Distances from B to A, B, C, D\n",
        "    [15, 35, 0, 30],  # Distances from C to A, B, C, D\n",
        "    [20, 25, 30, 0]   # Distances from D to A, B, C, D\n",
        "]"
      ],
      "metadata": {
        "id": "ja8Lhvab44tP"
      },
      "execution_count": null,
      "outputs": []
    },
    {
      "cell_type": "code",
      "source": [
        "city_names = ['A', 'B', 'C', 'D']"
      ],
      "metadata": {
        "id": "8BFJMxQt46uv"
      },
      "execution_count": null,
      "outputs": []
    },
    {
      "cell_type": "code",
      "source": [
        "route, total_distance = nearest_neighbor_tsp(distance_matrix, city_names)"
      ],
      "metadata": {
        "id": "A_1OaYqh4_CP"
      },
      "execution_count": null,
      "outputs": []
    },
    {
      "cell_type": "code",
      "source": [
        "print(f\"Route: {route}\")\n",
        "print(f\"Total Distance: {total_distance}\")"
      ],
      "metadata": {
        "colab": {
          "base_uri": "https://localhost:8080/"
        },
        "id": "1vbYz1JC5Bjz",
        "outputId": "c3fe1d64-f40b-4987-efcc-e67dcb1efa6f"
      },
      "execution_count": null,
      "outputs": [
        {
          "output_type": "stream",
          "name": "stdout",
          "text": [
            "Route: ['A', 'B', 'D', 'C', 'A']\n",
            "Total Distance: 80\n"
          ]
        }
      ]
    },
    {
      "cell_type": "markdown",
      "source": [
        "# Experiment 1.3"
      ],
      "metadata": {
        "id": "kr8kxGgNoygn"
      }
    },
    {
      "cell_type": "code",
      "source": [
        "import heapq\n",
        "def manhattan_distance(state, goal):\n",
        "    \"\"\"Calculate the Manhattan distance of a state from the goal.\"\"\"\n",
        "    distance = 0\n",
        "    for i in range(1, 9):  # Skip the blank space (0)\n",
        "        current_pos = state.index(i)\n",
        "        goal_pos = goal.index(i)\n",
        "        current_x, current_y = divmod(current_pos, 3)\n",
        "        goal_x, goal_y = divmod(goal_pos, 3)\n",
        "        distance += abs(current_x - goal_x) + abs(current_y - goal_y)\n",
        "    return distance"
      ],
      "metadata": {
        "id": "TQLq8iZW1T1G"
      },
      "execution_count": null,
      "outputs": []
    },
    {
      "cell_type": "code",
      "source": [
        "def get_neighbors(state):\n",
        "    \"\"\"Generate all possible states by moving the blank space.\"\"\"\n",
        "    neighbors = []\n",
        "    index = state.index(0)  # Find the blank space\n",
        "    x, y = divmod(index, 3)\n",
        "    # Possible moves (left, right, up, down)\n",
        "    moves = [(-1, 0), (1, 0), (0, -1), (0, 1)]\n",
        "    for dx, dy in moves:\n",
        "        new_x, new_y = x + dx, y + dy\n",
        "        if 0 <= new_x < 3 and 0 <= new_y < 3:  # Check boundaries\n",
        "            new_index = new_x * 3 + new_y\n",
        "            new_state = list(state)\n",
        "            new_state[index], new_state[new_index] = new_state[new_index], new_state[index]\n",
        "            neighbors.append(tuple(new_state))\n",
        "    return neighbors"
      ],
      "metadata": {
        "id": "0cUuo_wO2Iyh"
      },
      "execution_count": null,
      "outputs": []
    },
    {
      "cell_type": "code",
      "source": [
        "def a_star_search(initial, goal):\n",
        "    \"\"\"A* search to solve the 8-puzzle problem.\"\"\"\n",
        "    open_set = []\n",
        "    heapq.heappush(open_set, (0, initial, []))  # (priority, state, path)\n",
        "    closed_set = set()\n",
        "    while open_set:\n",
        "        _, current, path = heapq.heappop(open_set)\n",
        "        if current == goal:\n",
        "            return path + [current]\n",
        "        closed_set.add(current)\n",
        "        for neighbor in get_neighbors(current):\n",
        "            if neighbor not in closed_set:\n",
        "                priority = len(path) + 1 + manhattan_distance(neighbor, goal)\n",
        "                heapq.heappush(open_set, (priority, neighbor, path + [current]))\n",
        "    return None"
      ],
      "metadata": {
        "id": "FPgBTJtQ2vV_"
      },
      "execution_count": null,
      "outputs": []
    },
    {
      "cell_type": "code",
      "source": [
        "# Example usage\n",
        "initial_state = (1, 7, 3, 5, 6, 0, 2, 8, 4)  # Represents the puzzle as a tuple\n",
        "goal_state = (1, 2, 3, 8, 0, 4, 7, 6, 5)    # Goal state"
      ],
      "metadata": {
        "id": "w_oFJ6iw22_k"
      },
      "execution_count": null,
      "outputs": []
    },
    {
      "cell_type": "code",
      "source": [
        "solution_path = a_star_search(initial_state, goal_state)"
      ],
      "metadata": {
        "id": "a7IgqsD827jT"
      },
      "execution_count": null,
      "outputs": []
    },
    {
      "cell_type": "code",
      "source": [
        "# Print the solution path\n",
        "if solution_path:\n",
        "    print(f\"Solution found in {len(solution_path) - 1} moves.\")\n",
        "    for state in solution_path:\n",
        "        for i in range(0, 9, 3):\n",
        "            print(state[i:i+3])\n",
        "        print()\n",
        "else:\n",
        "    print(\"No solution found.\")"
      ],
      "metadata": {
        "colab": {
          "base_uri": "https://localhost:8080/"
        },
        "id": "jtvY08jz2978",
        "outputId": "49cbbdb4-2468-44a1-c67a-c77efa0e2b1e"
      },
      "execution_count": null,
      "outputs": [
        {
          "output_type": "stream",
          "name": "stdout",
          "text": [
            "Solution found in 19 moves.\n",
            "(1, 7, 3)\n",
            "(5, 6, 0)\n",
            "(2, 8, 4)\n",
            "\n",
            "(1, 7, 3)\n",
            "(5, 0, 6)\n",
            "(2, 8, 4)\n",
            "\n",
            "(1, 0, 3)\n",
            "(5, 7, 6)\n",
            "(2, 8, 4)\n",
            "\n",
            "(0, 1, 3)\n",
            "(5, 7, 6)\n",
            "(2, 8, 4)\n",
            "\n",
            "(5, 1, 3)\n",
            "(0, 7, 6)\n",
            "(2, 8, 4)\n",
            "\n",
            "(5, 1, 3)\n",
            "(2, 7, 6)\n",
            "(0, 8, 4)\n",
            "\n",
            "(5, 1, 3)\n",
            "(2, 7, 6)\n",
            "(8, 0, 4)\n",
            "\n",
            "(5, 1, 3)\n",
            "(2, 0, 6)\n",
            "(8, 7, 4)\n",
            "\n",
            "(5, 1, 3)\n",
            "(0, 2, 6)\n",
            "(8, 7, 4)\n",
            "\n",
            "(0, 1, 3)\n",
            "(5, 2, 6)\n",
            "(8, 7, 4)\n",
            "\n",
            "(1, 0, 3)\n",
            "(5, 2, 6)\n",
            "(8, 7, 4)\n",
            "\n",
            "(1, 2, 3)\n",
            "(5, 0, 6)\n",
            "(8, 7, 4)\n",
            "\n",
            "(1, 2, 3)\n",
            "(0, 5, 6)\n",
            "(8, 7, 4)\n",
            "\n",
            "(1, 2, 3)\n",
            "(8, 5, 6)\n",
            "(0, 7, 4)\n",
            "\n",
            "(1, 2, 3)\n",
            "(8, 5, 6)\n",
            "(7, 0, 4)\n",
            "\n",
            "(1, 2, 3)\n",
            "(8, 0, 6)\n",
            "(7, 5, 4)\n",
            "\n",
            "(1, 2, 3)\n",
            "(8, 6, 0)\n",
            "(7, 5, 4)\n",
            "\n",
            "(1, 2, 3)\n",
            "(8, 6, 4)\n",
            "(7, 5, 0)\n",
            "\n",
            "(1, 2, 3)\n",
            "(8, 6, 4)\n",
            "(7, 0, 5)\n",
            "\n",
            "(1, 2, 3)\n",
            "(8, 0, 4)\n",
            "(7, 6, 5)\n",
            "\n"
          ]
        }
      ]
    },
    {
      "cell_type": "markdown",
      "source": [
        "# Experiment 2"
      ],
      "metadata": {
        "id": "84ns8Guqw3EK"
      }
    },
    {
      "cell_type": "code",
      "source": [
        "class Puzzle:\n",
        "    def __init__(self, initial_state, goal_state):\n",
        "        self.initial_state = initial_state\n",
        "        self.goal_state = goal_state\n",
        "\n",
        "    def is_goal(self, state):\n",
        "        return state == self.goal_state\n",
        "\n",
        "    def move_gen(self, state):\n",
        "        neighbors = []\n",
        "        blank_index = state.index(0)\n",
        "        row, col = divmod(blank_index, 3)\n",
        "\n",
        "        def swap_and_create(new_blank_index):\n",
        "            new_state = list(state)\n",
        "            new_state[blank_index], new_state[new_blank_index] = new_state[new_blank_index], new_state[blank_index]\n",
        "            return tuple(new_state)\n",
        "\n",
        "        if row > 0:  # Move blank tile up\n",
        "            new_blank_index = blank_index - 3\n",
        "            neighbors.append(swap_and_create(new_blank_index))\n",
        "        if row < 2:  # Move blank tile down\n",
        "            new_blank_index = blank_index + 3\n",
        "            neighbors.append(swap_and_create(new_blank_index))\n",
        "        if col > 0:  # Move blank tile left\n",
        "            new_blank_index = blank_index - 1\n",
        "            neighbors.append(swap_and_create(new_blank_index))\n",
        "        if col < 2:  # Move blank tile right\n",
        "            new_blank_index = blank_index + 1\n",
        "            neighbors.append(swap_and_create(new_blank_index))\n",
        "\n",
        "        return neighbors\n",
        "\n",
        "    def occurs_in(self, node, path):\n",
        "        return node in path\n",
        "\n",
        "    def remove_seen(self, nodes, seen):\n",
        "        return [node for node in nodes if node not in seen]\n",
        "\n",
        "    def make_pair(self, node1, node2):\n",
        "        return (node1, node2)\n",
        "\n",
        "    def reconstruct_path(self, came_from, start, goal):\n",
        "        path = []\n",
        "        current = goal\n",
        "        while current != start:\n",
        "            path.append(current)\n",
        "            current = came_from[current]\n",
        "        path.append(start)\n",
        "        path.reverse()\n",
        "        return path\n",
        "\n",
        "    def depth_limited_search(self, start, depth):\n",
        "        def recursive_dls(node, depth, path, came_from):\n",
        "            if depth == 0:\n",
        "                return None\n",
        "            if self.is_goal(node):\n",
        "                return path + [node]\n",
        "            for neighbor in self.move_gen(node):\n",
        "                if not self.occurs_in(neighbor, path):\n",
        "                    new_path = path + [node]\n",
        "                    came_from[neighbor] = node\n",
        "                    result = recursive_dls(neighbor, depth - 1, new_path, came_from)\n",
        "                    if result:\n",
        "                        return result\n",
        "            return None\n",
        "\n",
        "        visited = set()\n",
        "        came_from = {}\n",
        "        return recursive_dls(start, depth, [], came_from)\n",
        "\n",
        "    def dfid(self, start):\n",
        "        depth = 0\n",
        "        while True:\n",
        "            path = self.depth_limited_search(start, depth)\n",
        "            if path:\n",
        "                return path\n",
        "            depth += 1\n",
        "\n",
        "def input_state(prompt):\n",
        "    while True:\n",
        "        try:\n",
        "            state = tuple(map(int, input(prompt).strip().split()))\n",
        "            if len(state) == 9 and set(state) == set(range(9)):\n",
        "                return state\n",
        "            else:\n",
        "                print(\"Invalid state. Please enter 9 unique numbers from 0 to 8.\")\n",
        "        except ValueError:\n",
        "            print(\"Invalid input. Please enter numbers only.\")"
      ],
      "metadata": {
        "id": "i-_mlefSsrJm"
      },
      "execution_count": null,
      "outputs": []
    },
    {
      "cell_type": "code",
      "source": [
        "# Get initial and goal states from user\n",
        "print(\"Enter the initial state (9 numbers separated by spaces):\")\n",
        "initial_state = input_state(\"Initial state: \")\n",
        "print(\"Enter the goal state (9 numbers separated by spaces):\")\n",
        "goal_state = input_state(\"Goal state: \")\n",
        "puzzle = Puzzle(initial_state, goal_state)\n",
        "solution_path = puzzle.dfid(initial_state)\n",
        "if solution_path:\n",
        "    print(\"Path to goal:\")\n",
        "    for state in solution_path:\n",
        "        print(state)\n",
        "else:\n",
        "    print(\"No solution found\")"
      ],
      "metadata": {
        "colab": {
          "base_uri": "https://localhost:8080/"
        },
        "id": "CWor0l1iueif",
        "outputId": "07f93759-2612-4326-f525-4a544700d41b"
      },
      "execution_count": null,
      "outputs": [
        {
          "output_type": "stream",
          "name": "stdout",
          "text": [
            "Enter the initial state (9 numbers separated by spaces):\n",
            "Initial state: 2 8 3 1 6 4 7 0 5\n",
            "Enter the goal state (9 numbers separated by spaces):\n",
            "Goal state: 1 2 3 8 0 4 7 6 5\n",
            "Path to goal:\n",
            "(2, 8, 3, 1, 6, 4, 7, 0, 5)\n",
            "(2, 8, 3, 1, 0, 4, 7, 6, 5)\n",
            "(2, 0, 3, 1, 8, 4, 7, 6, 5)\n",
            "(0, 2, 3, 1, 8, 4, 7, 6, 5)\n",
            "(1, 2, 3, 0, 8, 4, 7, 6, 5)\n",
            "(1, 2, 3, 8, 0, 4, 7, 6, 5)\n"
          ]
        }
      ]
    },
    {
      "cell_type": "markdown",
      "source": [
        "# Experiment 3"
      ],
      "metadata": {
        "id": "X4EgX9Qfx9UH"
      }
    },
    {
      "cell_type": "markdown",
      "source": [
        "**HILL CLIMBING**"
      ],
      "metadata": {
        "id": "Wia99BJLAnZ3"
      }
    },
    {
      "cell_type": "code",
      "source": [
        "from queue import PriorityQueue"
      ],
      "metadata": {
        "id": "Q62qT_U3AtJp"
      },
      "execution_count": null,
      "outputs": []
    },
    {
      "cell_type": "code",
      "source": [
        "# Move Generation Function\n",
        "def movegen(state):\n",
        "    moves = []\n",
        "    for i in range(len(state)):\n",
        "        if state[i]:  # If stack i is not empty\n",
        "            block = state[i][-1]  # Top block of stack i\n",
        "            for j in range(len(state)):\n",
        "                if i != j:\n",
        "                    new_state = list(map(list, state))\n",
        "                    new_state[j].append(new_state[i].pop())\n",
        "                    moves.append(tuple(map(tuple, new_state)))\n",
        "    return moves"
      ],
      "metadata": {
        "id": "Y5QkuJ8YCH8o"
      },
      "execution_count": null,
      "outputs": []
    },
    {
      "cell_type": "code",
      "source": [
        "# Heuristic 1: Number of Blocks Out of Place\n",
        "def heuristic1(state, goal):\n",
        "    out_of_place = 0\n",
        "    for i, stack in enumerate(state):\n",
        "        for j, block in enumerate(stack):\n",
        "            if j < len(goal[i]):\n",
        "                if block != goal[i][j]:\n",
        "                    out_of_place += 1\n",
        "            else:\n",
        "                out_of_place += 1\n",
        "    return out_of_place"
      ],
      "metadata": {
        "id": "lKkANIrcAIE5"
      },
      "execution_count": null,
      "outputs": []
    },
    {
      "cell_type": "code",
      "source": [
        "# Heuristic 2: Manhattan Distance\n",
        "def heuristic2(state, goal):\n",
        "    distance_sum = 0\n",
        "    block_positions = {block: (i, j) for i, stack in enumerate(goal) for j, block in enumerate(stack)}\n",
        "    for i, stack in enumerate(state):\n",
        "        for j, block in enumerate(stack):\n",
        "            if block in block_positions:\n",
        "                target_stack, target_index = block_positions[block]\n",
        "                distance_sum += abs(i - target_stack) + abs(j - target_index)\n",
        "            else:\n",
        "                # If the block is not in the goal, add a large penalty\n",
        "                distance_sum += float('inf')\n",
        "    return distance_sum"
      ],
      "metadata": {
        "id": "ra23YfCgAN34"
      },
      "execution_count": null,
      "outputs": []
    },
    {
      "cell_type": "code",
      "source": [
        "# Hill Climbing with Debugging\n",
        "def hill_climbing_debug(initial_state, goal_state, heuristic):\n",
        "    current_state = initial_state\n",
        "    print(f\"Initial State: {current_state}\")\n",
        "    while True:\n",
        "        current_heuristic = heuristic(current_state, goal_state)\n",
        "        print(f\"Current State: {current_state}, Heuristic Value: {current_heuristic}\")\n",
        "        neighbors = movegen(current_state)\n",
        "        if not neighbors:\n",
        "            return current_state, current_heuristic\n",
        "        next_state = min(neighbors, key=lambda state: heuristic(state, goal_state))\n",
        "        next_heuristic = heuristic(next_state, goal_state)\n",
        "        if next_heuristic >= current_heuristic:\n",
        "            return current_state, current_heuristic\n",
        "        current_state = next_state"
      ],
      "metadata": {
        "id": "03DL1KfXATgg"
      },
      "execution_count": null,
      "outputs": []
    },
    {
      "cell_type": "code",
      "source": [
        "# Define Initial and Goal States\n",
        "initial_state = (('D', 'C', 'B', 'A'), ('F', 'E'))\n",
        "goal_state = (('D', 'C', 'B', 'E', 'A'), ('F',))"
      ],
      "metadata": {
        "id": "Z-r-wMV_AXIY"
      },
      "execution_count": null,
      "outputs": []
    },
    {
      "cell_type": "code",
      "source": [
        "# Run Hill Climbing with Heuristic 1\n",
        "print(\"Hill Climbing with Heuristic 1:\")\n",
        "result1 = hill_climbing_debug(initial_state, goal_state, heuristic1)\n",
        "print(\"Final State:\", result1[0])\n",
        "print(\"Heuristic Value:\", result1[1])"
      ],
      "metadata": {
        "colab": {
          "base_uri": "https://localhost:8080/"
        },
        "id": "V5zJeE8sAcsH",
        "outputId": "4a3655ab-c6c1-4562-f3e6-deaa30348e02"
      },
      "execution_count": null,
      "outputs": [
        {
          "output_type": "stream",
          "name": "stdout",
          "text": [
            "Hill Climbing with Heuristic 1:\n",
            "Initial State: (('D', 'C', 'B', 'A'), ('F', 'E'))\n",
            "Current State: (('D', 'C', 'B', 'A'), ('F', 'E')), Heuristic Value: 2\n",
            "Final State: (('D', 'C', 'B', 'A'), ('F', 'E'))\n",
            "Heuristic Value: 2\n"
          ]
        }
      ]
    },
    {
      "cell_type": "code",
      "source": [
        "# Run Hill Climbing with Heuristic 2\n",
        "print(\"Hill Climbing with Heuristic 2:\")\n",
        "result2 = hill_climbing_debug(initial_state, goal_state, heuristic2)\n",
        "print(\"Final State:\", result2[0])\n",
        "print(\"Heuristic Value:\", result2[1])"
      ],
      "metadata": {
        "colab": {
          "base_uri": "https://localhost:8080/"
        },
        "id": "ZZhzOeU7AfWf",
        "outputId": "79486503-7eeb-439d-e4c9-bc3242d8536d"
      },
      "execution_count": null,
      "outputs": [
        {
          "output_type": "stream",
          "name": "stdout",
          "text": [
            "Hill Climbing with Heuristic 2:\n",
            "Initial State: (('D', 'C', 'B', 'A'), ('F', 'E'))\n",
            "Current State: (('D', 'C', 'B', 'A'), ('F', 'E')), Heuristic Value: 4\n",
            "Current State: (('D', 'C', 'B', 'A', 'E'), ('F',)), Heuristic Value: 2\n",
            "Final State: (('D', 'C', 'B', 'A', 'E'), ('F',))\n",
            "Heuristic Value: 2\n"
          ]
        }
      ]
    },
    {
      "cell_type": "markdown",
      "source": [
        "**BEST FIRST SEARCH**"
      ],
      "metadata": {
        "id": "H1xT8YjTAr5u"
      }
    },
    {
      "cell_type": "code",
      "source": [
        "from queue import PriorityQueue"
      ],
      "metadata": {
        "id": "_o4ww5aezzvG"
      },
      "execution_count": null,
      "outputs": []
    },
    {
      "cell_type": "code",
      "source": [
        "# Move generation function\n",
        "def movegen(state):\n",
        "    moves = []\n",
        "    for i in range(len(state)):\n",
        "        if state[i]:  # If stack i is not empty\n",
        "            block = state[i][-1]  # Top block of stack i\n",
        "            for j in range(len(state)):\n",
        "                if i != j:\n",
        "                    new_state = list(map(list, state))\n",
        "                    new_state[j].append(new_state[i].pop())\n",
        "                    moves.append(tuple(map(tuple, new_state)))\n",
        "    return moves"
      ],
      "metadata": {
        "id": "X-u7vlql0tEZ"
      },
      "execution_count": null,
      "outputs": []
    },
    {
      "cell_type": "code",
      "source": [
        "# Heuristic 1: Number of Blocks Out of Place\n",
        "def heuristic1(state, goal):\n",
        "    out_of_place = 0\n",
        "    for i, stack in enumerate(state):\n",
        "        for j, block in enumerate(stack):\n",
        "            if j < len(goal[i]):\n",
        "                if block != goal[i][j]:\n",
        "                    out_of_place += 1\n",
        "            else:\n",
        "                out_of_place += 1\n",
        "    return out_of_place"
      ],
      "metadata": {
        "id": "kmp3iZsu1O_D"
      },
      "execution_count": null,
      "outputs": []
    },
    {
      "cell_type": "code",
      "source": [
        "def heuristic2(state, goal):\n",
        "    distance_sum = 0\n",
        "    # Create a dictionary to map blocks to their target positions\n",
        "    block_positions = {}\n",
        "    for stack_index, stack in enumerate(goal):\n",
        "        for position, block in enumerate(stack):\n",
        "            block_positions[block] = (stack_index, position)\n",
        "    # Calculate Manhattan distance for each block in the current state\n",
        "    for stack_index, stack in enumerate(state):\n",
        "        for position, block in enumerate(stack):\n",
        "            if block in block_positions:\n",
        "                target_stack_index, target_position = block_positions[block]\n",
        "                distance_sum += abs(stack_index - target_stack_index) + abs(position - target_position)\n",
        "    return distance_sum"
      ],
      "metadata": {
        "id": "2xL0l_FX1T6R"
      },
      "execution_count": null,
      "outputs": []
    },
    {
      "cell_type": "code",
      "source": [
        "# Combined Heuristic: Average of Heuristic 1 and Heuristic 2\n",
        "def combined_heuristic(state, goal):\n",
        "    return (heuristic1(state, goal) + heuristic2(state, goal)) / 2"
      ],
      "metadata": {
        "id": "CUEKbaAo1Z4h"
      },
      "execution_count": null,
      "outputs": []
    },
    {
      "cell_type": "code",
      "source": [
        "# Best First Search with Step Logging\n",
        "def best_first_search_with_logging(initial_state, goal_state, heuristic):\n",
        "    pq = PriorityQueue()\n",
        "    pq.put((heuristic(initial_state, goal_state), initial_state))\n",
        "    visited = set()\n",
        "    min_heuristic_state = initial_state\n",
        "    min_heuristic_value = heuristic(initial_state, goal_state)\n",
        "    print(\"Starting Best First Search with heuristic function...\")\n",
        "    while not pq.empty():\n",
        "        current_heuristic, current_state = pq.get()\n",
        "        # Update the minimum heuristic state and value\n",
        "        if current_heuristic < min_heuristic_value:\n",
        "            min_heuristic_value = current_heuristic\n",
        "            min_heuristic_state = current_state\n",
        "        # Print the current state and heuristic value\n",
        "        print(f\"Current State: {current_state}, Heuristic Value: {current_heuristic}\")\n",
        "        if current_state == goal_state:\n",
        "            print(\"Goal State Reached!\")\n",
        "            return current_state, current_heuristic\n",
        "        visited.add(current_state)\n",
        "        for neighbor in movegen(current_state):\n",
        "            if neighbor not in visited:\n",
        "                pq.put((heuristic(neighbor, goal_state), neighbor))\n",
        "    # Return the state with the minimum heuristic value if goal not reached\n",
        "    print(\"No solution found, returning state with minimum heuristic value.\")\n",
        "    return min_heuristic_state, min_heuristic_value"
      ],
      "metadata": {
        "id": "HTPrlbLO1daw"
      },
      "execution_count": null,
      "outputs": []
    },
    {
      "cell_type": "code",
      "source": [
        "# Define the initial and goal states\n",
        "initial_state = (('D', 'C', 'B', 'A'), ('F', 'E'))\n",
        "goal_state = (('D', 'C', 'B', 'E', 'A'), ('F',))"
      ],
      "metadata": {
        "id": "ubXDDzNC1mlL"
      },
      "execution_count": null,
      "outputs": []
    },
    {
      "cell_type": "code",
      "source": [
        "# Run Best First Search with Heuristic 1\n",
        "print(\"Best First Search with Heuristic 1:\")\n",
        "result_bfs1 = best_first_search_with_logging(initial_state, goal_state, heuristic1)\n",
        "print(\"Final State:\", result_bfs1[0])\n",
        "print(\"Heuristic Value:\", result_bfs1[1])"
      ],
      "metadata": {
        "colab": {
          "base_uri": "https://localhost:8080/"
        },
        "id": "Q-8eDHqa1pRb",
        "outputId": "e0f73258-39fb-4584-a16e-d07b07c55aef"
      },
      "execution_count": null,
      "outputs": [
        {
          "output_type": "stream",
          "name": "stdout",
          "text": [
            "Best First Search with Heuristic 1:\n",
            "Starting Best First Search with heuristic function...\n",
            "Current State: (('D', 'C', 'B', 'A'), ('F', 'E')), Heuristic Value: 2\n",
            "Current State: (('D', 'C', 'B'), ('F', 'E', 'A')), Heuristic Value: 2\n",
            "Current State: (('D', 'C', 'B', 'A', 'E'), ('F',)), Heuristic Value: 2\n",
            "Current State: (('D', 'C'), ('F', 'E', 'A', 'B')), Heuristic Value: 3\n",
            "Current State: (('D', 'C', 'B', 'A', 'E', 'F'), ()), Heuristic Value: 3\n",
            "Current State: (('D',), ('F', 'E', 'A', 'B', 'C')), Heuristic Value: 4\n",
            "Current State: ((), ('F', 'E', 'A', 'B', 'C', 'D')), Heuristic Value: 5\n",
            "No solution found, returning state with minimum heuristic value.\n",
            "Final State: (('D', 'C', 'B', 'A'), ('F', 'E'))\n",
            "Heuristic Value: 2\n"
          ]
        }
      ]
    },
    {
      "cell_type": "code",
      "source": [
        "# Run Best First Search with Heuristic 2\n",
        "print(\"Best First Search with Heuristic 2:\")\n",
        "result_bfs2 = best_first_search_with_logging(initial_state, goal_state, heuristic2)\n",
        "print(\"Final State:\", result_bfs2[0])\n",
        "print(\"Heuristic Value:\", result_bfs2[1])"
      ],
      "metadata": {
        "colab": {
          "base_uri": "https://localhost:8080/"
        },
        "id": "IfKF979U1rad",
        "outputId": "184d4773-a998-4e1f-c2a3-4f8f3d5ffd7e"
      },
      "execution_count": null,
      "outputs": [
        {
          "output_type": "stream",
          "name": "stdout",
          "text": [
            "Best First Search with Heuristic 2:\n",
            "Starting Best First Search with heuristic function...\n",
            "Current State: (('D', 'C', 'B', 'A'), ('F', 'E')), Heuristic Value: 4\n",
            "Current State: (('D', 'C', 'B', 'A', 'E'), ('F',)), Heuristic Value: 2\n",
            "Current State: (('D', 'C', 'B'), ('F', 'E', 'A')), Heuristic Value: 6\n",
            "Current State: (('D', 'C'), ('F', 'E', 'A', 'B')), Heuristic Value: 8\n",
            "Current State: (('D', 'C', 'B', 'A', 'E', 'F'), ()), Heuristic Value: 8\n",
            "Current State: (('D',), ('F', 'E', 'A', 'B', 'C')), Heuristic Value: 12\n",
            "Current State: ((), ('F', 'E', 'A', 'B', 'C', 'D')), Heuristic Value: 18\n",
            "No solution found, returning state with minimum heuristic value.\n",
            "Final State: (('D', 'C', 'B', 'A', 'E'), ('F',))\n",
            "Heuristic Value: 2\n"
          ]
        }
      ]
    },
    {
      "cell_type": "code",
      "source": [
        "# Run Best First Search with Combined Heuristic\n",
        "print(\"Best First Search with Combined Heuristic:\")\n",
        "result_combined_bfs = best_first_search_with_logging(initial_state, goal_state, combined_heuristic)\n",
        "print(\"Final State:\", result_combined_bfs[0])\n",
        "print(\"Heuristic Value:\", result_combined_bfs[1])"
      ],
      "metadata": {
        "colab": {
          "base_uri": "https://localhost:8080/"
        },
        "id": "K3YPHYLs1xjS",
        "outputId": "c7e12d06-366a-4880-9511-96a7bbff0695"
      },
      "execution_count": null,
      "outputs": [
        {
          "output_type": "stream",
          "name": "stdout",
          "text": [
            "Best First Search with Combined Heuristic:\n",
            "Starting Best First Search with heuristic function...\n",
            "Current State: (('D', 'C', 'B', 'A'), ('F', 'E')), Heuristic Value: 3.0\n",
            "Current State: (('D', 'C', 'B', 'A', 'E'), ('F',)), Heuristic Value: 2.0\n",
            "Current State: (('D', 'C', 'B'), ('F', 'E', 'A')), Heuristic Value: 4.0\n",
            "Current State: (('D', 'C'), ('F', 'E', 'A', 'B')), Heuristic Value: 5.5\n",
            "Current State: (('D', 'C', 'B', 'A', 'E', 'F'), ()), Heuristic Value: 5.5\n",
            "Current State: (('D',), ('F', 'E', 'A', 'B', 'C')), Heuristic Value: 8.0\n",
            "Current State: ((), ('F', 'E', 'A', 'B', 'C', 'D')), Heuristic Value: 11.5\n",
            "No solution found, returning state with minimum heuristic value.\n",
            "Final State: (('D', 'C', 'B', 'A', 'E'), ('F',))\n",
            "Heuristic Value: 2.0\n"
          ]
        }
      ]
    },
    {
      "cell_type": "markdown",
      "source": [
        "# Experiment 4"
      ],
      "metadata": {
        "id": "GlTj68rg_P9A"
      }
    },
    {
      "cell_type": "code",
      "source": [
        "import itertools\n",
        "# Define the SAT problems as functions\n",
        "def sat_problem_1(variables):\n",
        "    A, B, C, D, E = variables\n",
        "    clauses = [\n",
        "        (A or not B),\n",
        "        (B or not C),\n",
        "        (not B),\n",
        "        (not C or E),\n",
        "        (A or C),\n",
        "        (not C or not D)\n",
        "    ]\n",
        "    return clauses"
      ],
      "metadata": {
        "id": "Bd-oR_zyHh9z"
      },
      "execution_count": null,
      "outputs": []
    },
    {
      "cell_type": "code",
      "source": [
        "def sat_problem_2(variables):\n",
        "    A, B, C, D, E = variables\n",
        "    clauses = [\n",
        "        (A or B),\n",
        "        (A and not C),\n",
        "        (B and D),\n",
        "        (A or not E)\n",
        "    ]\n",
        "    return clauses"
      ],
      "metadata": {
        "id": "YI5OA3QAt6AL"
      },
      "execution_count": null,
      "outputs": []
    },
    {
      "cell_type": "code",
      "source": [
        "# Generate neighbors by flipping combinations of variables\n",
        "def generate_neighborhoods(solution, k):\n",
        "    \"\"\"Generate all neighbors by flipping k variables.\"\"\"\n",
        "    indices = range(len(solution))\n",
        "    neighborhoods = []\n",
        "    for combination in itertools.combinations(indices, k):\n",
        "        neighbor = solution.copy()\n",
        "        for index in combination:\n",
        "            neighbor[index] = not neighbor[index]  # Flip the variables in the combination\n",
        "        neighborhoods.append(neighbor)\n",
        "    return neighborhoods"
      ],
      "metadata": {
        "id": "4_2kaONeuiSL"
      },
      "execution_count": null,
      "outputs": []
    },
    {
      "cell_type": "code",
      "source": [
        "# Heuristic function: Calculate the number of satisfied clauses\n",
        "def heuristic(clauses):\n",
        "    return sum(clauses)"
      ],
      "metadata": {
        "id": "HGWVd_mLuot7"
      },
      "execution_count": null,
      "outputs": []
    },
    {
      "cell_type": "code",
      "source": [
        "# Hill Climbing function within VND\n",
        "def hill_climbing_in_neighborhood(sat_problem, initial_solution, k):\n",
        "    \"\"\"\n",
        "    Perform hill climbing within a neighborhood defined by flipping k variables.\n",
        "    \"\"\"\n",
        "    current_solution = initial_solution.copy()\n",
        "    best_solution = current_solution.copy()\n",
        "    best_score = heuristic(sat_problem(current_solution))\n",
        "    neighborhoods = generate_neighborhoods(current_solution, k)\n",
        "    print(f\"\\nExploring neighborhoods with {k} flips.\")\n",
        "    print(f\"Current Solution: {current_solution}, Heuristic Value: {best_score}\")\n",
        "    print(f\"Possible Moves and Heuristic Values:\")\n",
        "    for idx, neighbor in enumerate(neighborhoods):\n",
        "        neighbor_clauses = sat_problem(neighbor)\n",
        "        neighbor_score = heuristic(neighbor_clauses)\n",
        "        print(f\"  Move {idx + 1}: {neighbor} -> Heuristic Value: {neighbor_score}\")\n",
        "        if neighbor_score > best_score:  # If this neighbor has a better score\n",
        "            current_solution = neighbor.copy()\n",
        "            best_solution = current_solution.copy()\n",
        "            best_score = neighbor_score\n",
        "            print(f\"  ** Chose Move {idx + 1} ** New Best Solution: {best_solution} with Heuristic Value: {best_score}\")\n",
        "            break  # Exit after finding the first better move (standard hill climbing approach)\n",
        "    return best_solution, best_score"
      ],
      "metadata": {
        "id": "_-eN0nREutbk"
      },
      "execution_count": null,
      "outputs": []
    },
    {
      "cell_type": "code",
      "source": [
        "# Variable Neighborhood Descent (VND) function using Hill Climbing\n",
        "def variable_neighborhood_descent(sat_problem, initial_solution, max_iterations=100):\n",
        "    current_solution = initial_solution.copy()\n",
        "    best_solution = current_solution.copy()\n",
        "    best_score = heuristic(sat_problem(current_solution))\n",
        "    print(f\"Initial solution: {current_solution}, Heuristic Value (Satisfied Clauses): {best_score}\")\n",
        "    iteration = 0\n",
        "    while iteration < max_iterations:\n",
        "        iteration += 1\n",
        "        improved = False\n",
        "        # VND: Explore different neighborhoods with increasing number of flips\n",
        "        for k in range(1, len(current_solution) + 1):\n",
        "            # Use hill climbing within each neighborhood\n",
        "            new_solution, new_score = hill_climbing_in_neighborhood(sat_problem, current_solution, k)\n",
        "            if new_score > best_score:\n",
        "                current_solution = new_solution.copy()\n",
        "                best_solution = current_solution.copy()\n",
        "                best_score = new_score\n",
        "                improved = True\n",
        "                print(f\"\\nFound better solution in neighborhood with {k} flips: {best_solution}, Heuristic Value: {best_score}\")\n",
        "                break  # Stop and restart from this new best solution\n",
        "        if not improved:\n",
        "            print(\"  No better move found in any neighborhood, stopping search.\")\n",
        "            break  # No improvement found in any neighborhood, stop the search\n",
        "    return best_solution, best_score"
      ],
      "metadata": {
        "id": "IZ62pFFSu2uz"
      },
      "execution_count": null,
      "outputs": []
    },
    {
      "cell_type": "code",
      "source": [
        "# Start of the script\n",
        "# Get user input for number of literals\n",
        "num_literals = int(input(\"Enter the number of literals (variables): \"))\n",
        "literals = [chr(65 + i) for i in range(num_literals)]  # Generate literal names (A, B, C, ...)\n",
        "# Get user input for initial solution\n",
        "initial_solution = []\n",
        "print(f\"Enter the initial truth values for the variables {', '.join(literals)} (True or False):\")\n",
        "for var in literals:\n",
        "    val = input(f\"Enter truth value for {var} (True/False): \").strip().capitalize()\n",
        "    if val not in ['True', 'False']:\n",
        "        print(f\"Invalid input for {var}. Please enter either 'True' or 'False'.\")\n",
        "        exit()  # Exit the script if invalid input is given\n",
        "    initial_solution.append(val == 'True')\n",
        "# Display initial input\n",
        "print(f\"Initial solution provided by the user: {initial_solution}\")\n",
        "# Solve SAT Problem 1 using VND\n",
        "solution_1, is_satisfied_1 = variable_neighborhood_descent(sat_problem_1, initial_solution)\n",
        "print(f\"\\nSAT Problem 1 Solution: {solution_1}, Heuristic Value (Satisfied Clauses): {is_satisfied_1}\")\n",
        "# Solve SAT Problem 2 using VND\n",
        "solution_2, is_satisfied_2 = variable_neighborhood_descent(sat_problem_2, initial_solution)\n",
        "print(f\"\\nSAT Problem 2 Solution: {solution_2}, Heuristic Value (Satisfied Clauses): {is_satisfied_2}\")"
      ],
      "metadata": {
        "colab": {
          "base_uri": "https://localhost:8080/"
        },
        "id": "bt8C8rsPu_5v",
        "outputId": "754e58be-e11b-4b21-d6c3-07d112a7d83d"
      },
      "execution_count": null,
      "outputs": [
        {
          "output_type": "stream",
          "name": "stdout",
          "text": [
            "Enter the number of literals (variables): 5\n",
            "Enter the initial truth values for the variables A, B, C, D, E (True or False):\n",
            "Enter truth value for A (True/False): True\n",
            "Enter truth value for B (True/False): True\n",
            "Enter truth value for C (True/False): False\n",
            "Enter truth value for D (True/False): False\n",
            "Enter truth value for E (True/False): True\n",
            "Initial solution provided by the user: [True, True, False, False, True]\n",
            "Initial solution: [True, True, False, False, True], Heuristic Value (Satisfied Clauses): 5\n",
            "\n",
            "Exploring neighborhoods with 1 flips.\n",
            "Current Solution: [True, True, False, False, True], Heuristic Value: 5\n",
            "Possible Moves and Heuristic Values:\n",
            "  Move 1: [False, True, False, False, True] -> Heuristic Value: 3\n",
            "  Move 2: [True, False, False, False, True] -> Heuristic Value: 6\n",
            "  ** Chose Move 2 ** New Best Solution: [True, False, False, False, True] with Heuristic Value: 6\n",
            "\n",
            "Found better solution in neighborhood with 1 flips: [True, False, False, False, True], Heuristic Value: 6\n",
            "\n",
            "Exploring neighborhoods with 1 flips.\n",
            "Current Solution: [True, False, False, False, True], Heuristic Value: 6\n",
            "Possible Moves and Heuristic Values:\n",
            "  Move 1: [False, False, False, False, True] -> Heuristic Value: 5\n",
            "  Move 2: [True, True, False, False, True] -> Heuristic Value: 5\n",
            "  Move 3: [True, False, True, False, True] -> Heuristic Value: 5\n",
            "  Move 4: [True, False, False, True, True] -> Heuristic Value: 6\n",
            "  Move 5: [True, False, False, False, False] -> Heuristic Value: 6\n",
            "\n",
            "Exploring neighborhoods with 2 flips.\n",
            "Current Solution: [True, False, False, False, True], Heuristic Value: 6\n",
            "Possible Moves and Heuristic Values:\n",
            "  Move 1: [False, True, False, False, True] -> Heuristic Value: 3\n",
            "  Move 2: [False, False, True, False, True] -> Heuristic Value: 5\n",
            "  Move 3: [False, False, False, True, True] -> Heuristic Value: 5\n",
            "  Move 4: [False, False, False, False, False] -> Heuristic Value: 5\n",
            "  Move 5: [True, True, True, False, True] -> Heuristic Value: 5\n",
            "  Move 6: [True, True, False, True, True] -> Heuristic Value: 5\n",
            "  Move 7: [True, True, False, False, False] -> Heuristic Value: 5\n",
            "  Move 8: [True, False, True, True, True] -> Heuristic Value: 4\n",
            "  Move 9: [True, False, True, False, False] -> Heuristic Value: 4\n",
            "  Move 10: [True, False, False, True, False] -> Heuristic Value: 6\n",
            "\n",
            "Exploring neighborhoods with 3 flips.\n",
            "Current Solution: [True, False, False, False, True], Heuristic Value: 6\n",
            "Possible Moves and Heuristic Values:\n",
            "  Move 1: [False, True, True, False, True] -> Heuristic Value: 4\n",
            "  Move 2: [False, True, False, True, True] -> Heuristic Value: 3\n",
            "  Move 3: [False, True, False, False, False] -> Heuristic Value: 3\n",
            "  Move 4: [False, False, True, True, True] -> Heuristic Value: 4\n",
            "  Move 5: [False, False, True, False, False] -> Heuristic Value: 4\n",
            "  Move 6: [False, False, False, True, False] -> Heuristic Value: 5\n",
            "  Move 7: [True, True, True, True, True] -> Heuristic Value: 4\n",
            "  Move 8: [True, True, True, False, False] -> Heuristic Value: 4\n",
            "  Move 9: [True, True, False, True, False] -> Heuristic Value: 5\n",
            "  Move 10: [True, False, True, True, False] -> Heuristic Value: 3\n",
            "\n",
            "Exploring neighborhoods with 4 flips.\n",
            "Current Solution: [True, False, False, False, True], Heuristic Value: 6\n",
            "Possible Moves and Heuristic Values:\n",
            "  Move 1: [False, True, True, True, True] -> Heuristic Value: 3\n",
            "  Move 2: [False, True, True, False, False] -> Heuristic Value: 3\n",
            "  Move 3: [False, True, False, True, False] -> Heuristic Value: 3\n",
            "  Move 4: [False, False, True, True, False] -> Heuristic Value: 3\n",
            "  Move 5: [True, True, True, True, False] -> Heuristic Value: 3\n",
            "\n",
            "Exploring neighborhoods with 5 flips.\n",
            "Current Solution: [True, False, False, False, True], Heuristic Value: 6\n",
            "Possible Moves and Heuristic Values:\n",
            "  Move 1: [False, True, True, True, False] -> Heuristic Value: 2\n",
            "  No better move found in any neighborhood, stopping search.\n",
            "\n",
            "SAT Problem 1 Solution: [True, False, False, False, True], Heuristic Value (Satisfied Clauses): 6\n",
            "Initial solution: [True, True, False, False, True], Heuristic Value (Satisfied Clauses): 3\n",
            "\n",
            "Exploring neighborhoods with 1 flips.\n",
            "Current Solution: [True, True, False, False, True], Heuristic Value: 3\n",
            "Possible Moves and Heuristic Values:\n",
            "  Move 1: [False, True, False, False, True] -> Heuristic Value: 1\n",
            "  Move 2: [True, False, False, False, True] -> Heuristic Value: 3\n",
            "  Move 3: [True, True, True, False, True] -> Heuristic Value: 2\n",
            "  Move 4: [True, True, False, True, True] -> Heuristic Value: 4\n",
            "  ** Chose Move 4 ** New Best Solution: [True, True, False, True, True] with Heuristic Value: 4\n",
            "\n",
            "Found better solution in neighborhood with 1 flips: [True, True, False, True, True], Heuristic Value: 4\n",
            "\n",
            "Exploring neighborhoods with 1 flips.\n",
            "Current Solution: [True, True, False, True, True], Heuristic Value: 4\n",
            "Possible Moves and Heuristic Values:\n",
            "  Move 1: [False, True, False, True, True] -> Heuristic Value: 2\n",
            "  Move 2: [True, False, False, True, True] -> Heuristic Value: 3\n",
            "  Move 3: [True, True, True, True, True] -> Heuristic Value: 3\n",
            "  Move 4: [True, True, False, False, True] -> Heuristic Value: 3\n",
            "  Move 5: [True, True, False, True, False] -> Heuristic Value: 4\n",
            "\n",
            "Exploring neighborhoods with 2 flips.\n",
            "Current Solution: [True, True, False, True, True], Heuristic Value: 4\n",
            "Possible Moves and Heuristic Values:\n",
            "  Move 1: [False, False, False, True, True] -> Heuristic Value: 0\n",
            "  Move 2: [False, True, True, True, True] -> Heuristic Value: 2\n",
            "  Move 3: [False, True, False, False, True] -> Heuristic Value: 1\n",
            "  Move 4: [False, True, False, True, False] -> Heuristic Value: 3\n",
            "  Move 5: [True, False, True, True, True] -> Heuristic Value: 2\n",
            "  Move 6: [True, False, False, False, True] -> Heuristic Value: 3\n",
            "  Move 7: [True, False, False, True, False] -> Heuristic Value: 3\n",
            "  Move 8: [True, True, True, False, True] -> Heuristic Value: 2\n",
            "  Move 9: [True, True, True, True, False] -> Heuristic Value: 3\n",
            "  Move 10: [True, True, False, False, False] -> Heuristic Value: 3\n",
            "\n",
            "Exploring neighborhoods with 3 flips.\n",
            "Current Solution: [True, True, False, True, True], Heuristic Value: 4\n",
            "Possible Moves and Heuristic Values:\n",
            "  Move 1: [False, False, True, True, True] -> Heuristic Value: 0\n",
            "  Move 2: [False, False, False, False, True] -> Heuristic Value: 0\n",
            "  Move 3: [False, False, False, True, False] -> Heuristic Value: 1\n",
            "  Move 4: [False, True, True, False, True] -> Heuristic Value: 1\n",
            "  Move 5: [False, True, True, True, False] -> Heuristic Value: 3\n",
            "  Move 6: [False, True, False, False, False] -> Heuristic Value: 2\n",
            "  Move 7: [True, False, True, False, True] -> Heuristic Value: 2\n",
            "  Move 8: [True, False, True, True, False] -> Heuristic Value: 2\n",
            "  Move 9: [True, False, False, False, False] -> Heuristic Value: 3\n",
            "  Move 10: [True, True, True, False, False] -> Heuristic Value: 2\n",
            "\n",
            "Exploring neighborhoods with 4 flips.\n",
            "Current Solution: [True, True, False, True, True], Heuristic Value: 4\n",
            "Possible Moves and Heuristic Values:\n",
            "  Move 1: [False, False, True, False, True] -> Heuristic Value: 0\n",
            "  Move 2: [False, False, True, True, False] -> Heuristic Value: 1\n",
            "  Move 3: [False, False, False, False, False] -> Heuristic Value: 1\n",
            "  Move 4: [False, True, True, False, False] -> Heuristic Value: 2\n",
            "  Move 5: [True, False, True, False, False] -> Heuristic Value: 2\n",
            "\n",
            "Exploring neighborhoods with 5 flips.\n",
            "Current Solution: [True, True, False, True, True], Heuristic Value: 4\n",
            "Possible Moves and Heuristic Values:\n",
            "  Move 1: [False, False, True, False, False] -> Heuristic Value: 1\n",
            "  No better move found in any neighborhood, stopping search.\n",
            "\n",
            "SAT Problem 2 Solution: [True, True, False, True, True], Heuristic Value (Satisfied Clauses): 4\n"
          ]
        }
      ]
    },
    {
      "cell_type": "markdown",
      "source": [
        "# Experiment 5"
      ],
      "metadata": {
        "id": "mVx9ivhy7ntr"
      }
    },
    {
      "cell_type": "code",
      "source": [
        "import numpy as np\n",
        "import random"
      ],
      "metadata": {
        "id": "igQ7ONr9CYIG"
      },
      "execution_count": null,
      "outputs": []
    },
    {
      "cell_type": "code",
      "source": [
        "# Distance matrix for 20 cities (hardcoded)\n",
        "distance_matrix = np.random.randint(1, 100, size=(20, 20))\n",
        "np.fill_diagonal(distance_matrix, 0)"
      ],
      "metadata": {
        "id": "wpb5-gYtFKfE"
      },
      "execution_count": null,
      "outputs": []
    },
    {
      "cell_type": "code",
      "source": [
        "# Making the matrix symmetric\n",
        "for i in range(distance_matrix.shape[0]):\n",
        "    for j in range(i+1, distance_matrix.shape[1]):\n",
        "        distance_matrix[i][j] = distance_matrix[j][i]\n",
        "print(\"Distance Matrix:\")\n",
        "print(distance_matrix)"
      ],
      "metadata": {
        "colab": {
          "base_uri": "https://localhost:8080/"
        },
        "id": "R9J1VhpXGn2_",
        "outputId": "0ce5f3b2-5069-47f3-d6f3-25001aeb833b"
      },
      "execution_count": null,
      "outputs": [
        {
          "output_type": "stream",
          "name": "stdout",
          "text": [
            "Distance Matrix:\n",
            "[[ 0 83  2 80 42 56 70 26 44 72 25 66 58 87 21 24 42  5 81 87]\n",
            " [83  0 17 83 20 76 18 26 13 33 24 49 77 43 80 26 19 54 17 85]\n",
            " [ 2 17  0 36 14 92 65 89 17 82 46 11 76 72 83 43 16  5 16 21]\n",
            " [80 83 36  0 56 43 86 77 48 77 59 31 75 74 82 85 36  5  5 74]\n",
            " [42 20 14 56  0 90 30 36 84 50 19  3 19 75 10 96 84 46 64 83]\n",
            " [56 76 92 43 90  0 59  3  1 63 46 33 42 24 28 99 33 83 19  3]\n",
            " [70 18 65 86 30 59  0 81  8  3 71  7 61 42 91 39 22 49 39 28]\n",
            " [26 26 89 77 36  3 81  0  3 62 59 98 51 48 72 61  3 24 95 68]\n",
            " [44 13 17 48 84  1  8  3  0 32 31 51  1 12 97 29 28  6 58 48]\n",
            " [72 33 82 77 50 63  3 62 32  0 41 86  6 98  4 96 46 78  6 92]\n",
            " [25 24 46 59 19 46 71 59 31 41  0 59 16 16 85  4 48 30 38 18]\n",
            " [66 49 11 31  3 33  7 98 51 86 59  0 26 62 60 80 18 63 66 45]\n",
            " [58 77 76 75 19 42 61 51  1  6 16 26  0 74 93 30 82 39 37 68]\n",
            " [87 43 72 74 75 24 42 48 12 98 16 62 74  0 16 37 81  8 14 83]\n",
            " [21 80 83 82 10 28 91 72 97  4 85 60 93 16  0 95 49 66 70 34]\n",
            " [24 26 43 85 96 99 39 61 29 96  4 80 30 37 95  0 63 76 29  8]\n",
            " [42 19 16 36 84 33 22  3 28 46 48 18 82 81 49 63  0 94 27 18]\n",
            " [ 5 54  5  5 46 83 49 24  6 78 30 63 39  8 66 76 94  0 67 72]\n",
            " [81 17 16  5 64 19 39 95 58  6 38 66 37 14 70 29 27 67  0 31]\n",
            " [87 85 21 74 83  3 28 68 48 92 18 45 68 83 34  8 18 72 31  0]]\n"
          ]
        }
      ]
    },
    {
      "cell_type": "code",
      "source": [
        "# Initialize the population with random tours\n",
        "def generate_initial_population(population_size, num_cities):\n",
        "    population = []\n",
        "    for _ in range(population_size):\n",
        "        tour = np.random.permutation(num_cities)\n",
        "        population.append(tour)\n",
        "    return population"
      ],
      "metadata": {
        "id": "JB6UnRpqGrGW"
      },
      "execution_count": null,
      "outputs": []
    },
    {
      "cell_type": "code",
      "source": [
        "population = generate_initial_population(population_size=4, num_cities=20)\n",
        "print(population)"
      ],
      "metadata": {
        "colab": {
          "base_uri": "https://localhost:8080/"
        },
        "id": "sfs-JbJTL0BM",
        "outputId": "ca3b3951-9b42-453c-f714-3c98b7c5ad21"
      },
      "execution_count": null,
      "outputs": [
        {
          "output_type": "stream",
          "name": "stdout",
          "text": [
            "[array([ 1,  8,  3, 12, 16, 11,  0, 10, 19, 15, 18, 17,  4,  9,  6,  5,  2,\n",
            "       13, 14,  7]), array([12,  0, 10, 15,  3,  9,  5,  1,  2, 13, 11, 19,  6, 17,  4, 14, 16,\n",
            "        8,  7, 18]), array([19, 16,  1,  8, 18, 17, 12,  7,  2,  4, 11,  9, 15, 10,  0,  6,  3,\n",
            "        5, 13, 14]), array([15, 10,  7,  1, 14, 12, 17, 16, 11, 13,  5,  8, 18, 19,  4,  0,  6,\n",
            "        9,  3,  2])]\n"
          ]
        }
      ]
    },
    {
      "cell_type": "code",
      "source": [
        "# Fitness function (inverse of tour cost)\n",
        "def calculate_fitness(tour):\n",
        "    total_distance = 0\n",
        "    for i in range(len(tour)):\n",
        "        total_distance += distance_matrix[tour[i], tour[(i + 1) % len(tour)]]\n",
        "    return total_distance"
      ],
      "metadata": {
        "id": "PoWu8ahAGuLm"
      },
      "execution_count": null,
      "outputs": []
    },
    {
      "cell_type": "code",
      "source": [
        "# Roulette wheel selection\n",
        "def selection(population, fitness_scores):\n",
        "    total_fitness = sum(fitness_scores)\n",
        "    probabilities = [f / total_fitness for f in fitness_scores]\n",
        "    selected_idx = np.random.choice(len(population), p=probabilities)\n",
        "    return population[selected_idx]"
      ],
      "metadata": {
        "id": "4P_HLznuGxFH"
      },
      "execution_count": null,
      "outputs": []
    },
    {
      "cell_type": "code",
      "source": [
        "# Cyclic crossover\n",
        "def cyclic_crossover(parent1, parent2):\n",
        "    child1, child2 = parent1.copy(), parent2.copy()\n",
        "    start_idx = random.randint(0, len(parent1) - 1)\n",
        "    original_idx = start_idx\n",
        "    visited = set()\n",
        "    while True:\n",
        "        gene1, gene2 = child1[start_idx], child2[start_idx]\n",
        "        child1[start_idx], child2[start_idx] = gene2, gene1\n",
        "        visited.add(start_idx)\n",
        "        start_idx = np.where(parent1 == gene2)[0][0]\n",
        "        # If we have visited this index before, or we're back to the starting index, break\n",
        "        if start_idx in visited or start_idx == original_idx:\n",
        "            break\n",
        "    return child1, child2"
      ],
      "metadata": {
        "id": "NLDCEFGVG1M1"
      },
      "execution_count": null,
      "outputs": []
    },
    {
      "cell_type": "code",
      "source": [
        "def mutate(tour):\n",
        "    idx1, idx2 = random.sample(range(len(tour)), 2)\n",
        "    tour[idx1], tour[idx2] = tour[idx2], tour[idx1]"
      ],
      "metadata": {
        "id": "xI4ypgfEG67G"
      },
      "execution_count": null,
      "outputs": []
    },
    {
      "cell_type": "code",
      "source": [
        "# Main genetic algorithm loop\n",
        "def genetic_algorithm(num_cities, population_size, num_generations):\n",
        "    population = generate_initial_population(population_size, num_cities)\n",
        "    best_fitness_over_time = []\n",
        "    for generation in range(num_generations):\n",
        "        fitness_scores = [calculate_fitness(tour) for tour in population]\n",
        "        new_population = []\n",
        "        for _ in range(population_size // 2):\n",
        "            parent1 = selection(population, fitness_scores)\n",
        "            parent2 = selection(population, fitness_scores)\n",
        "            child1, child2 = cyclic_crossover(parent1, parent2)\n",
        "            mutate(child1)\n",
        "            mutate(child2)\n",
        "            new_population.extend([child1, child2])\n",
        "        population = new_population\n",
        "        best_fitness = max(fitness_scores)\n",
        "        best_fitness_over_time.append(best_fitness)\n",
        "        if generation > 0 and best_fitness == best_fitness_over_time[-2]:\n",
        "            print(f\"Convergence reached at generation {generation}\")\n",
        "            break\n",
        "    return best_fitness_over_time"
      ],
      "metadata": {
        "id": "Ml0InuGdHAWW"
      },
      "execution_count": null,
      "outputs": []
    },
    {
      "cell_type": "code",
      "source": [
        "# Compare performance with different numbers of cities\n",
        "def compare_performance():\n",
        "    city_counts = [5, 10, 20]\n",
        "    for num_cities in city_counts:\n",
        "        print(f\"\\nRunning Genetic Algorithm for {num_cities} cities:\")\n",
        "        best_fitness = genetic_algorithm(num_cities, population_size=4, num_generations=100)\n",
        "        print(f\"Best fitness over time for {num_cities} cities: {best_fitness}\")"
      ],
      "metadata": {
        "id": "uK9WMC19HDQm"
      },
      "execution_count": null,
      "outputs": []
    },
    {
      "cell_type": "code",
      "source": [
        "# Run the performance comparison\n",
        "compare_performance()"
      ],
      "metadata": {
        "colab": {
          "base_uri": "https://localhost:8080/"
        },
        "id": "GCZlLbtCHFc8",
        "outputId": "a688d0e1-b848-4b1b-be9e-2088f586648c"
      },
      "execution_count": null,
      "outputs": [
        {
          "output_type": "stream",
          "name": "stdout",
          "text": [
            "\n",
            "Running Genetic Algorithm for 5 cities:\n",
            "Convergence reached at generation 25\n",
            "Best fitness over time for 5 cities: [258, 238, 258, 238, 258, 250, 238, 250, 238, 258, 238, 258, 200, 238, 250, 238, 200, 238, 234, 200, 238, 258, 250, 258, 250, 250]\n",
            "\n",
            "Running Genetic Algorithm for 10 cities:\n",
            "Best fitness over time for 10 cities: [533, 498, 491, 560, 461, 601, 470, 592, 528, 498, 480, 500, 433, 488, 424, 451, 472, 504, 540, 534, 607, 553, 700, 703, 556, 545, 541, 604, 638, 646, 566, 648, 649, 672, 554, 610, 587, 610, 515, 595, 519, 570, 648, 565, 497, 561, 516, 548, 629, 703, 597, 623, 508, 651, 551, 581, 574, 614, 609, 600, 651, 522, 564, 506, 469, 585, 650, 596, 576, 551, 586, 568, 533, 584, 614, 515, 542, 569, 544, 566, 522, 601, 630, 642, 645, 709, 539, 553, 601, 538, 553, 564, 533, 586, 551, 516, 503, 477, 461, 516]\n",
            "\n",
            "Running Genetic Algorithm for 20 cities:\n",
            "Convergence reached at generation 77\n",
            "Best fitness over time for 20 cities: [1179, 1028, 1194, 1175, 1083, 1051, 1135, 1155, 1122, 1149, 1111, 1092, 1180, 948, 988, 969, 1020, 1008, 1014, 1033, 1006, 1039, 1178, 1216, 1256, 1178, 1123, 1132, 1147, 1018, 988, 1059, 1105, 1051, 1041, 953, 1026, 1053, 1033, 1075, 1083, 1134, 1172, 1127, 896, 985, 932, 1005, 1023, 1095, 1094, 1042, 1116, 1087, 1098, 1012, 1129, 1011, 1074, 1091, 1028, 1035, 1070, 948, 962, 1074, 1057, 988, 1106, 951, 968, 949, 1045, 939, 1003, 1090, 1066, 1066]\n"
          ]
        }
      ]
    },
    {
      "cell_type": "code",
      "source": [
        "# Assuming the cities are labeled from A to T\n",
        "cities = [chr(i) for i in range(ord('A'), ord('T') + 1)]\n",
        "print(\"Cities:\\n\",cities)"
      ],
      "metadata": {
        "colab": {
          "base_uri": "https://localhost:8080/"
        },
        "id": "46fgzUOZIQzb",
        "outputId": "182fe4de-8968-42a6-87f4-15bb79433b00"
      },
      "execution_count": null,
      "outputs": [
        {
          "output_type": "stream",
          "name": "stdout",
          "text": [
            "Cities:\n",
            " ['A', 'B', 'C', 'D', 'E', 'F', 'G', 'H', 'I', 'J', 'K', 'L', 'M', 'N', 'O', 'P', 'Q', 'R', 'S', 'T']\n"
          ]
        }
      ]
    },
    {
      "cell_type": "code",
      "source": [
        "# Function to generate a random path\n",
        "def generate_random_path(cities):\n",
        "    path = cities[:]\n",
        "    random.shuffle(path)\n",
        "    return path"
      ],
      "metadata": {
        "id": "D24GbQ24Jw6c"
      },
      "execution_count": null,
      "outputs": []
    },
    {
      "cell_type": "code",
      "source": [
        "# Fitness values (as given)\n",
        "fitness_values = [0.0022988505747126436, 0.0030959752321981426, 0.0030303030303030303,\n",
        "                  0.0028653295128939827, 0.002824858757062147, 0.0025188916876574307,\n",
        "                  0.0028169014084507044, 0.002564102564102564, 0.0035087719298245615,\n",
        "                  0.002564102564102564, 0.002457002457002457, 0.002380952380952381,\n",
        "                  0.0030120481927710845, 0.003067484662576687, 0.002967359050445104,\n",
        "                  0.0029585798816568047, 0.0028653295128939827, 0.002577319587628866,\n",
        "                  0.003663003663003663, 0.003105590062111801, 0.002849002849002849,\n",
        "                  0.004291845493562232, 0.0029069767441860465, 0.003389830508474576,\n",
        "                  0.0027397260273972603, 0.003215434083601286, 0.002652519893899204,\n",
        "                  0.0030303030303030303, 0.0030864197530864196, 0.0028011204481792717,\n",
        "                  0.0031645569620253164, 0.003134796238244514, 0.002688172043010753,\n",
        "                  0.0028169014084507044, 0.002793296089385475, 0.003424657534246575,\n",
        "                  0.0026109660574412533, 0.002849002849002849, 0.002881844380403458,\n",
        "                  0.003115264797507788, 0.002967359050445104, 0.0026455026455026454,\n",
        "                  0.0030211480362537764, 0.0030211480362537764]"
      ],
      "metadata": {
        "id": "xANEy1BwKGyq"
      },
      "execution_count": null,
      "outputs": []
    },
    {
      "cell_type": "code",
      "source": [
        "# Generating random paths for each fitness value\n",
        "paths = [generate_random_path(cities) for _ in fitness_values]"
      ],
      "metadata": {
        "id": "nmvgxAbOKqCQ"
      },
      "execution_count": null,
      "outputs": []
    },
    {
      "cell_type": "code",
      "source": [
        "# Displaying the paths alongside their fitness values\n",
        "for fitness, path in zip(fitness_values, paths):\n",
        "    print(f\"Fitness: {fitness:.16f} - Path: {' -> '.join(path)}\")"
      ],
      "metadata": {
        "colab": {
          "base_uri": "https://localhost:8080/"
        },
        "id": "YkiEaM5TKuGo",
        "outputId": "212d565e-c1f0-4729-e835-607bf5f2321d"
      },
      "execution_count": null,
      "outputs": [
        {
          "output_type": "stream",
          "name": "stdout",
          "text": [
            "Fitness: 0.0022988505747126 - Path: B -> J -> K -> S -> N -> C -> Q -> G -> A -> H -> O -> M -> P -> E -> T -> F -> R -> I -> D -> L\n",
            "Fitness: 0.0030959752321981 - Path: F -> C -> J -> T -> Q -> E -> H -> I -> A -> D -> R -> L -> G -> K -> M -> S -> B -> O -> P -> N\n",
            "Fitness: 0.0030303030303030 - Path: M -> G -> E -> Q -> S -> R -> D -> O -> B -> I -> J -> F -> N -> P -> A -> C -> T -> K -> L -> H\n",
            "Fitness: 0.0028653295128940 - Path: N -> G -> F -> R -> J -> O -> K -> I -> D -> H -> E -> C -> A -> Q -> S -> T -> B -> P -> M -> L\n",
            "Fitness: 0.0028248587570621 - Path: I -> L -> D -> J -> K -> G -> M -> T -> E -> B -> H -> Q -> C -> R -> P -> A -> O -> N -> F -> S\n",
            "Fitness: 0.0025188916876574 - Path: N -> S -> R -> D -> J -> O -> A -> E -> I -> H -> K -> F -> B -> M -> G -> P -> T -> L -> C -> Q\n",
            "Fitness: 0.0028169014084507 - Path: E -> B -> A -> R -> D -> F -> K -> M -> I -> G -> C -> P -> L -> H -> Q -> N -> J -> O -> S -> T\n",
            "Fitness: 0.0025641025641026 - Path: K -> B -> T -> P -> O -> G -> N -> J -> E -> D -> R -> H -> M -> C -> A -> L -> F -> S -> I -> Q\n",
            "Fitness: 0.0035087719298246 - Path: L -> T -> S -> J -> B -> R -> N -> O -> K -> E -> Q -> A -> I -> M -> F -> D -> P -> C -> G -> H\n",
            "Fitness: 0.0025641025641026 - Path: T -> J -> A -> K -> D -> O -> C -> H -> F -> I -> G -> P -> B -> S -> E -> R -> N -> L -> M -> Q\n",
            "Fitness: 0.0024570024570025 - Path: R -> B -> T -> Q -> A -> M -> N -> O -> L -> J -> E -> H -> I -> S -> D -> F -> C -> G -> K -> P\n",
            "Fitness: 0.0023809523809524 - Path: R -> P -> O -> I -> A -> Q -> F -> T -> H -> M -> S -> K -> G -> J -> D -> L -> B -> C -> E -> N\n",
            "Fitness: 0.0030120481927711 - Path: E -> F -> R -> I -> H -> S -> L -> T -> G -> C -> D -> Q -> P -> O -> J -> A -> B -> M -> K -> N\n",
            "Fitness: 0.0030674846625767 - Path: D -> K -> I -> G -> C -> O -> M -> P -> Q -> E -> S -> F -> H -> T -> N -> J -> R -> A -> L -> B\n",
            "Fitness: 0.0029673590504451 - Path: D -> R -> P -> E -> A -> J -> K -> G -> H -> I -> N -> L -> C -> T -> M -> F -> S -> Q -> O -> B\n",
            "Fitness: 0.0029585798816568 - Path: R -> N -> Q -> E -> L -> S -> G -> H -> I -> K -> D -> P -> M -> A -> T -> C -> F -> B -> O -> J\n",
            "Fitness: 0.0028653295128940 - Path: I -> F -> T -> C -> R -> S -> G -> B -> P -> J -> N -> H -> Q -> A -> O -> D -> K -> M -> E -> L\n",
            "Fitness: 0.0025773195876289 - Path: I -> B -> Q -> R -> J -> G -> T -> E -> L -> A -> S -> H -> P -> N -> M -> F -> C -> D -> O -> K\n",
            "Fitness: 0.0036630036630037 - Path: E -> P -> B -> T -> S -> D -> N -> Q -> M -> R -> K -> H -> I -> A -> C -> O -> F -> J -> G -> L\n",
            "Fitness: 0.0031055900621118 - Path: F -> L -> N -> J -> H -> A -> M -> O -> G -> I -> T -> D -> P -> R -> C -> B -> E -> S -> K -> Q\n",
            "Fitness: 0.0028490028490028 - Path: P -> F -> N -> M -> C -> A -> S -> O -> R -> K -> I -> T -> D -> E -> B -> L -> H -> Q -> J -> G\n",
            "Fitness: 0.0042918454935622 - Path: G -> Q -> I -> C -> M -> K -> A -> T -> F -> H -> L -> E -> O -> N -> R -> D -> B -> S -> P -> J\n",
            "Fitness: 0.0029069767441860 - Path: H -> A -> N -> T -> F -> O -> G -> D -> J -> P -> M -> I -> B -> K -> C -> R -> Q -> S -> L -> E\n",
            "Fitness: 0.0033898305084746 - Path: J -> H -> E -> B -> P -> C -> T -> A -> O -> S -> F -> L -> Q -> G -> D -> N -> R -> K -> M -> I\n",
            "Fitness: 0.0027397260273973 - Path: N -> P -> K -> E -> A -> J -> B -> L -> Q -> R -> H -> O -> D -> I -> M -> G -> F -> C -> T -> S\n",
            "Fitness: 0.0032154340836013 - Path: S -> Q -> I -> L -> T -> F -> E -> D -> J -> C -> P -> K -> R -> B -> N -> A -> O -> H -> G -> M\n",
            "Fitness: 0.0026525198938992 - Path: A -> H -> Q -> J -> E -> I -> G -> S -> R -> C -> B -> N -> M -> K -> F -> L -> P -> O -> D -> T\n",
            "Fitness: 0.0030303030303030 - Path: J -> N -> D -> F -> I -> L -> C -> S -> K -> O -> E -> Q -> T -> B -> M -> H -> G -> A -> P -> R\n",
            "Fitness: 0.0030864197530864 - Path: O -> S -> K -> J -> N -> F -> G -> I -> R -> P -> A -> D -> M -> T -> H -> B -> C -> L -> Q -> E\n",
            "Fitness: 0.0028011204481793 - Path: H -> B -> M -> Q -> K -> G -> C -> N -> J -> S -> T -> R -> I -> F -> D -> O -> L -> E -> P -> A\n",
            "Fitness: 0.0031645569620253 - Path: D -> E -> J -> L -> B -> N -> K -> O -> I -> R -> H -> P -> G -> C -> M -> F -> Q -> A -> S -> T\n",
            "Fitness: 0.0031347962382445 - Path: D -> L -> J -> R -> G -> C -> A -> K -> F -> I -> E -> H -> Q -> S -> B -> O -> T -> M -> P -> N\n",
            "Fitness: 0.0026881720430108 - Path: O -> F -> R -> L -> P -> T -> I -> K -> J -> S -> E -> M -> D -> N -> B -> G -> C -> H -> A -> Q\n",
            "Fitness: 0.0028169014084507 - Path: N -> C -> S -> G -> J -> F -> K -> D -> P -> I -> H -> A -> O -> T -> L -> R -> Q -> M -> B -> E\n",
            "Fitness: 0.0027932960893855 - Path: R -> T -> I -> J -> P -> O -> B -> H -> M -> N -> C -> G -> F -> A -> Q -> S -> D -> L -> K -> E\n",
            "Fitness: 0.0034246575342466 - Path: T -> N -> P -> I -> E -> M -> L -> B -> J -> C -> O -> D -> R -> S -> F -> A -> G -> K -> Q -> H\n",
            "Fitness: 0.0026109660574413 - Path: Q -> C -> L -> T -> E -> H -> M -> D -> O -> G -> J -> S -> B -> F -> I -> P -> N -> K -> A -> R\n",
            "Fitness: 0.0028490028490028 - Path: T -> S -> H -> D -> N -> Q -> K -> G -> L -> M -> B -> O -> E -> R -> P -> I -> C -> A -> J -> F\n",
            "Fitness: 0.0028818443804035 - Path: P -> R -> A -> C -> I -> T -> J -> H -> G -> O -> B -> F -> Q -> L -> E -> D -> N -> M -> K -> S\n",
            "Fitness: 0.0031152647975078 - Path: Q -> S -> O -> M -> T -> I -> R -> D -> B -> N -> F -> A -> C -> P -> L -> G -> E -> K -> H -> J\n",
            "Fitness: 0.0029673590504451 - Path: A -> H -> E -> S -> C -> B -> I -> G -> P -> D -> L -> M -> Q -> T -> J -> F -> K -> O -> R -> N\n",
            "Fitness: 0.0026455026455026 - Path: I -> T -> L -> O -> A -> N -> K -> R -> E -> D -> F -> J -> P -> Q -> M -> C -> H -> B -> S -> G\n",
            "Fitness: 0.0030211480362538 - Path: K -> P -> T -> D -> E -> A -> L -> G -> Q -> C -> I -> N -> H -> S -> R -> F -> J -> M -> B -> O\n",
            "Fitness: 0.0030211480362538 - Path: G -> C -> E -> P -> L -> J -> T -> K -> D -> R -> M -> I -> N -> A -> Q -> S -> O -> F -> H -> B\n"
          ]
        }
      ]
    },
    {
      "cell_type": "markdown",
      "source": [
        "# Experiment 6"
      ],
      "metadata": {
        "id": "vptr_SuSgYYF"
      }
    },
    {
      "cell_type": "code",
      "source": [
        "import numpy as np\n",
        "import heapq\n",
        "import pandas as pd\n",
        "import matplotlib.pyplot as plt"
      ],
      "metadata": {
        "id": "GZB0Ol4bJOgW"
      },
      "execution_count": null,
      "outputs": []
    },
    {
      "cell_type": "code",
      "source": [
        "# Load the dataset into a DataFrame\n",
        "data = {\n",
        "    \"Location\": [\"Mumbai\", \"Pune\", \"Vapi\", \"Nagpur\", \"Nashik\", \"Aurangabad\", \"Ahmedabad\", \"Surat\", \"Jaipur\", \"Jodhpur\", \"Kota\", \"Jhansi\", \"Bhopal\", \"Indore\", \"Faridabad\",\n",
        "                 \"Ghaziabad\", \"New Delhi\", \"Noida\", \"Gurugram\", \"Manali\", \"Dharamshala\", \"Tehsil\", \"Shimla\", \"Spiti Valley\", \"Chandigarh\", \"Jammu\", \"Amritsar\",\n",
        "                 \"Dalhousie\", \"Mussoorie\", \"Dehradun\", \"Katra\", \"Srinagar\", \"Kargil\", \"Leh\"],\n",
        "    \"Latitude\": [19.076, 18.5204, 20.3719, 21.1458, 19.9975, 19.8762, 23.0225, 21.1702, 26.9124, 26.2389, 25.2138, 25.4484, 23.2599, 22.7196, 28.4089,\n",
        "                 28.6692, 28.6139, 28.5355, 28.4595, 32.2396, 32.219, 20.9333, 31.1048, 32.246, 30.7333, 32.7266, 31.634, 32.5373, 30.4599, 30.3165, 32.9856,\n",
        "                 34.0837, 34.5553, 34.1526],\n",
        "    \"Longitude\": [72.8777, 73.8567, 72.9049, 79.0882, 73.7898, 75.3433, 72.5714, 72.8311, 75.7873, 73.0243, 75.8648, 78.5685, 77.4126, 75.8577, 77.3178,\n",
        "                  77.4538, 77.209, 77.391, 77.0266, 77.1887, 76.3234, 77.8, 77.1734, 78.0081, 76.7794, 74.857, 74.8723, 75.9713, 78.066, 78.0322, 74.9389,\n",
        "                  74.7973, 76.135, 77.577]\n",
        "}"
      ],
      "metadata": {
        "id": "oEu9-0UKgiyZ"
      },
      "execution_count": null,
      "outputs": []
    },
    {
      "cell_type": "code",
      "source": [
        "df = pd.DataFrame(data)"
      ],
      "metadata": {
        "id": "u67mh5UvhCIr"
      },
      "execution_count": null,
      "outputs": []
    },
    {
      "cell_type": "code",
      "source": [
        "# Euclidean distance function between two cities\n",
        "def euclidean_distance(lat1, lon1, lat2, lon2):\n",
        "    return np.sqrt((lat2 - lat1) ** 2 + (lon2 - lon1) ** 2)"
      ],
      "metadata": {
        "id": "swbPFH7jhK3j"
      },
      "execution_count": null,
      "outputs": []
    },
    {
      "cell_type": "code",
      "source": [
        "# Test Case 1: Euclidean Distance Trying on Dummy Example\n",
        "a = euclidean_distance(5, 6, 2, 10)\n",
        "print(a)"
      ],
      "metadata": {
        "colab": {
          "base_uri": "https://localhost:8080/"
        },
        "id": "RiWFecxthSzK",
        "outputId": "d6f00734-6e2e-4efa-f5bb-d5dc208977c1"
      },
      "execution_count": null,
      "outputs": [
        {
          "output_type": "stream",
          "name": "stdout",
          "text": [
            "5.0\n"
          ]
        }
      ]
    },
    {
      "cell_type": "code",
      "source": [
        "# Function to calculate heuristic values (h(n)) using Euclidean distance\n",
        "def calculate_heuristic(goal_city_index):\n",
        "    goal_lat = df.loc[goal_city_index, \"Latitude\"]\n",
        "    goal_lon = df.loc[goal_city_index, \"Longitude\"]\n",
        "    heuristic = {}\n",
        "    for i in range(len(df)):\n",
        "        h_value = euclidean_distance(df.loc[i, \"Latitude\"], df.loc[i, \"Longitude\"], goal_lat, goal_lon)\n",
        "        heuristic[df.loc[i, \"Location\"]] = h_value\n",
        "    return heuristic"
      ],
      "metadata": {
        "id": "qUyRdaGPhtdF"
      },
      "execution_count": null,
      "outputs": []
    },
    {
      "cell_type": "code",
      "source": [
        "b = calculate_heuristic(0)\n",
        "for city, value in b.items():\n",
        "    print(f\"{city}: {value}\")"
      ],
      "metadata": {
        "colab": {
          "base_uri": "https://localhost:8080/"
        },
        "id": "ng6MpLqch-lN",
        "outputId": "c65eac17-7bc1-4054-dab8-a388efabd719"
      },
      "execution_count": null,
      "outputs": [
        {
          "output_type": "stream",
          "name": "stdout",
          "text": [
            "Mumbai: 0.0\n",
            "Pune: 1.1256697384224206\n",
            "Vapi: 1.296185422692293\n",
            "Nagpur: 6.546325861886189\n",
            "Nashik: 1.296568031381303\n",
            "Aurangabad: 2.592200493789008\n",
            "Ahmedabad: 3.9583685957727592\n",
            "Surat: 2.094718405896125\n",
            "Jaipur: 8.359122987490972\n",
            "Jodhpur: 7.164400042571605\n",
            "Kota: 6.826079053893236\n",
            "Jhansi: 8.543575738530087\n",
            "Bhopal: 6.170116467296214\n",
            "Indore: 4.707039511200213\n",
            "Faridabad: 10.335255701723106\n",
            "Ghaziabad: 10.628742985414595\n",
            "New Delhi: 10.475289785967737\n",
            "Noida: 10.481031301355797\n",
            "Gurugram: 10.25979743757156\n",
            "Manali: 13.851537313959055\n",
            "Dharamshala: 13.587174006760938\n",
            "Tehsil: 5.261045578589861\n",
            "Shimla: 12.772825369901524\n",
            "Spiti Valley: 14.133998166124119\n",
            "Chandigarh: 12.292920978351724\n",
            "Jammu: 13.793350167743872\n",
            "Amritsar: 12.715415571659463\n",
            "Dalhousie: 13.812203251110953\n",
            "Mussoorie: 12.510461066643387\n",
            "Dehradun: 12.36599007358489\n",
            "Katra: 14.061490589549882\n",
            "Srinagar: 15.129967727989376\n",
            "Kargil: 15.818303694770817\n",
            "Leh: 15.792000761461479\n"
          ]
        }
      ]
    },
    {
      "cell_type": "code",
      "source": [
        "# A* algorithm\n",
        "def astar(graph, start, goal, heuristic):\n",
        "    open_list = []\n",
        "    heapq.heappush(open_list, (0 + heuristic[start], 0, start))  # (f(n), g(n), city)\n",
        "    came_from = {}\n",
        "    g_score = {city: float('inf') for city in graph}\n",
        "    g_score[start] = 0\n",
        "    while open_list:\n",
        "        _, g_current, current = heapq.heappop(open_list)\n",
        "        if current == goal:\n",
        "            path = []\n",
        "            while current in came_from:\n",
        "                path.append(current)\n",
        "                current = came_from[current]\n",
        "            path.append(start)\n",
        "            return path[::-1], g_current\n",
        "        for neighbor, travel_cost in graph[current].items():\n",
        "            tentative_g_score = g_current + travel_cost\n",
        "            if tentative_g_score < g_score[neighbor]:\n",
        "                came_from[neighbor] = current\n",
        "                g_score[neighbor] = tentative_g_score\n",
        "                f_score = tentative_g_score + heuristic[neighbor]\n",
        "                heapq.heappush(open_list, (f_score, tentative_g_score, neighbor))\n",
        "    return None, None"
      ],
      "metadata": {
        "id": "IpFnknOZiUD1"
      },
      "execution_count": null,
      "outputs": []
    },
    {
      "cell_type": "code",
      "source": [
        "# Generate the graph with Euclidean distances between all cities\n",
        "def create_graph():\n",
        "    graph = {}\n",
        "    for i in range(len(df)):\n",
        "        city_graph = {}\n",
        "        for j in range(len(df)):\n",
        "            if i != j:\n",
        "                city_graph[df.loc[j, \"Location\"]] = euclidean_distance(df.loc[i, \"Latitude\"], df.loc[i, \"Longitude\"],\n",
        "                                                                       df.loc[j, \"Latitude\"], df.loc[j, \"Longitude\"])\n",
        "        graph[df.loc[i, \"Location\"]] = city_graph\n",
        "    return graph"
      ],
      "metadata": {
        "id": "ZEPyTEOlkhaH"
      },
      "execution_count": null,
      "outputs": []
    },
    {
      "cell_type": "code",
      "source": [
        "graph = create_graph()\n",
        "# Convert the graph dictionary into a DataFrame\n",
        "data = []\n",
        "for city, connections in graph.items():\n",
        "    for neighbor, distance in connections.items():\n",
        "        data.append((city, neighbor, distance))\n",
        "df_graph = pd.DataFrame(data, columns=[\"City\", \"Neighbor\", \"Distance\"])"
      ],
      "metadata": {
        "id": "nNPTJWd9kpQn"
      },
      "execution_count": null,
      "outputs": []
    },
    {
      "cell_type": "code",
      "source": [
        "print(df_graph)"
      ],
      "metadata": {
        "colab": {
          "base_uri": "https://localhost:8080/"
        },
        "id": "z3q9GXrI45DN",
        "outputId": "fd2de62a-9ae3-4038-f5ad-4aaa3ba62b43"
      },
      "execution_count": null,
      "outputs": [
        {
          "output_type": "stream",
          "name": "stdout",
          "text": [
            "       City    Neighbor  Distance\n",
            "0    Mumbai        Pune  1.125670\n",
            "1    Mumbai      Nagpur  6.546326\n",
            "2    Mumbai      Nashik  1.296568\n",
            "3    Mumbai  Aurangabad  2.592200\n",
            "4    Mumbai   Ahmedabad  3.958369\n",
            "..      ...         ...       ...\n",
            "301     Leh      Manali  1.952011\n",
            "302     Leh      Shimla  3.074407\n",
            "303     Leh  Chandigarh  3.511094\n",
            "304     Leh       Jammu  3.071136\n",
            "305     Leh    Srinagar  2.780554\n",
            "\n",
            "[306 rows x 3 columns]\n"
          ]
        }
      ]
    },
    {
      "cell_type": "code",
      "source": [
        "# Display map of cities\n",
        "def display_cities():\n",
        "    plt.figure(figsize=(20, 10))\n",
        "    plt.scatter(df['Longitude'], df['Latitude'])\n",
        "    for i, row in df.iterrows():\n",
        "        plt.annotate(row['Location'], (row['Longitude'], row['Latitude']), fontsize=8)\n",
        "    plt.xlabel(\"Longitude\")\n",
        "    plt.ylabel(\"Latitude\")\n",
        "    plt.title(\"Cities Map\")\n",
        "    plt.grid(True)\n",
        "    plt.show()"
      ],
      "metadata": {
        "id": "9XiekFWUksXs"
      },
      "execution_count": null,
      "outputs": []
    },
    {
      "cell_type": "code",
      "source": [
        "display_cities()"
      ],
      "metadata": {
        "colab": {
          "base_uri": "https://localhost:8080/",
          "height": 760
        },
        "id": "ILrH9oH0lNGb",
        "outputId": "743728db-a659-4880-a194-421490880b2e"
      },
      "execution_count": null,
      "outputs": [
        {
          "output_type": "display_data",
          "data": {
            "text/plain": [
              "<Figure size 2000x1000 with 1 Axes>"
            ],
            "image/png": "[encoded data removed]"
          },
          "metadata": {}
        }
      ]
    },
    {
      "cell_type": "code",
      "source": [
        "# Get start and goal locations\n",
        "start_city = input(\"Enter the starting city: \")\n",
        "goal_city = input(\"Enter the goal city: \")\n",
        "# Generate the graph and heuristic values\n",
        "graph = create_graph()\n",
        "goal_index = df[df[\"Location\"] == goal_city].index[0]\n",
        "heuristic = calculate_heuristic(goal_index)\n",
        "# Run the A* algorithm\n",
        "path, cost = astar(graph, start_city, goal_city, heuristic)\n",
        "if path:\n",
        "  print(f\"Shortest Path from {start_city} to {goal_city}: {' -> '.join(path)}\")\n",
        "  print(f\"Total Cost: {cost}\")\n",
        "else:\n",
        "  print(\"No path found.\")"
      ],
      "metadata": {
        "colab": {
          "base_uri": "https://localhost:8080/"
        },
        "id": "wyW7sjDXlQNI",
        "outputId": "866f5c47-a881-4d5e-d8cd-1002977c7b66"
      },
      "execution_count": null,
      "outputs": [
        {
          "output_type": "stream",
          "name": "stdout",
          "text": [
            "Enter the starting city: Mumbai\n",
            "Enter the goal city: Leh\n",
            "Shortest Path from Mumbai to Leh: Mumbai -> Leh\n",
            "Total Cost: 15.792000761461479\n"
          ]
        }
      ]
    },
    {
      "cell_type": "markdown",
      "source": [
        "# Experiment 7"
      ],
      "metadata": {
        "id": "OHuqUjubL1Hm"
      }
    },
    {
      "cell_type": "code",
      "source": [
        "import math\n",
        "# Constants\n",
        "PLAYER_X = 'X'  # Human (Minimizer)\n",
        "PLAYER_O = 'O'  # Computer (Maximizer)\n",
        "EMPTY = ' '     # Empty cells"
      ],
      "metadata": {
        "id": "Ua8IEq6eOk5J"
      },
      "execution_count": null,
      "outputs": []
    },
    {
      "cell_type": "code",
      "source": [
        "# Display the Tic-Tac-Toe board\n",
        "def print_board(board):\n",
        "    for row in board:\n",
        "        print(\"|\".join(row))\n",
        "        print(\"-\" * 5)"
      ],
      "metadata": {
        "id": "CAc3pnGaOsJa"
      },
      "execution_count": null,
      "outputs": []
    },
    {
      "cell_type": "code",
      "source": [
        "# Check if a player has won\n",
        "def check_winner(board, player):\n",
        "    win_cond = [\n",
        "        [board[0][0], board[0][1], board[0][2]],\n",
        "        [board[1][0], board[1][1], board[1][2]],\n",
        "        [board[2][0], board[2][1], board[2][2]],\n",
        "        [board[0][0], board[1][0], board[2][0]],\n",
        "        [board[0][1], board[1][1], board[2][1]],\n",
        "        [board[0][2], board[1][2], board[2][2]],\n",
        "        [board[0][0], board[1][1], board[2][2]],\n",
        "        [board[2][0], board[1][1], board[0][2]]\n",
        "    ]\n",
        "    return [player, player, player] in win_cond"
      ],
      "metadata": {
        "id": "h0ph0XFeO37L"
      },
      "execution_count": null,
      "outputs": []
    },
    {
      "cell_type": "code",
      "source": [
        "# Check if board is full\n",
        "def is_board_full(board):\n",
        "    return all(cell != EMPTY for row in board for cell in row)"
      ],
      "metadata": {
        "id": "3uUKCoB4PAQb"
      },
      "execution_count": null,
      "outputs": []
    },
    {
      "cell_type": "code",
      "source": [
        "# Evaluate board state\n",
        "def evaluate(board):\n",
        "    if check_winner(board, PLAYER_O):\n",
        "        return 1  # (Computer) wins\n",
        "    elif check_winner(board, PLAYER_X):\n",
        "        return -1  # (Human) wins\n",
        "    else:\n",
        "        return 0  # Draw"
      ],
      "metadata": {
        "id": "_BtxtfO_PFyb"
      },
      "execution_count": null,
      "outputs": []
    },
    {
      "cell_type": "code",
      "source": [
        "# Minimax Algorithm\n",
        "def minimax(board, depth, is_maximizing):\n",
        "    score = evaluate(board)\n",
        "    # If one player has won or it's a draw, return the score\n",
        "    if score == 1 or score == -1 or is_board_full(board):\n",
        "        return score\n",
        "    if is_maximizing:  # Maximizer (Computer's turn)\n",
        "        best = -math.inf\n",
        "        for i in range(3):\n",
        "            for j in range(3):\n",
        "                if board[i][j] == EMPTY:\n",
        "                    board[i][j] = PLAYER_O\n",
        "                    best = max(best, minimax(board, depth + 1, False))\n",
        "                    board[i][j] = EMPTY\n",
        "        return best\n",
        "    else:  # Minimizer (Human's turn)\n",
        "        best = math.inf\n",
        "        for i in range(3):\n",
        "            for j in range(3):\n",
        "                if board[i][j] == EMPTY:\n",
        "                    board[i][j] = PLAYER_X\n",
        "                    best = min(best, minimax(board, depth + 1, True))\n",
        "                    board[i][j] = EMPTY\n",
        "        return best"
      ],
      "metadata": {
        "id": "xzV0lKr7PLG0"
      },
      "execution_count": null,
      "outputs": []
    },
    {
      "cell_type": "code",
      "source": [
        "# Find the best move for the computer\n",
        "def find_best_move(board):\n",
        "    best_val = -math.inf\n",
        "    best_move = (-1, -1)\n",
        "    for i in range(3):\n",
        "        for j in range(3):\n",
        "            if board[i][j] == EMPTY:\n",
        "                board[i][j] = PLAYER_O\n",
        "                move_val = minimax(board, 0, False)\n",
        "                board[i][j] = EMPTY\n",
        "                if move_val > best_val:\n",
        "                    best_move = (i, j)\n",
        "                    best_val = move_val\n",
        "    return best_move"
      ],
      "metadata": {
        "id": "cUUBpDOuPRR8"
      },
      "execution_count": null,
      "outputs": []
    },
    {
      "cell_type": "code",
      "source": [
        "# Function to check if the move is valid\n",
        "def is_valid_move(board, row, col):\n",
        "    return board[row][col] == EMPTY"
      ],
      "metadata": {
        "id": "Gu6i4iEYPYwK"
      },
      "execution_count": null,
      "outputs": []
    },
    {
      "cell_type": "code",
      "source": [
        "# Main function to run the game\n",
        "def play_game():\n",
        "    board = [\n",
        "        [EMPTY, EMPTY, EMPTY],\n",
        "        [EMPTY, EMPTY, EMPTY],\n",
        "        [EMPTY, EMPTY, EMPTY]\n",
        "    ]\n",
        "    print(\"Welcome to Tic-Tac-Toe!\")\n",
        "    print_board(board)\n",
        "    # Ask the user if they want to start first\n",
        "    while True:\n",
        "        first_player = input(\"Do you want to start first? (yes/no): \").lower()\n",
        "        if first_player in [\"yes\", \"no\"]:\n",
        "            break\n",
        "        else:\n",
        "            print(\"Invalid input, please enter 'yes' or 'no'.\")\n",
        "    while True:\n",
        "        if first_player == \"yes\":\n",
        "            # Human's turn (Minimizer - X)\n",
        "            print(\"\\nYour Turn! Enter row and column numbers (0, 1, or 2).\")\n",
        "            user_move = input(\"Enter your move (row col): \").split()\n",
        "            row, col = int(user_move[0]), int(user_move[1])\n",
        "            if is_valid_move(board, row, col):\n",
        "                board[row][col] = PLAYER_X\n",
        "            else:\n",
        "                print(\"Invalid move, try again.\")\n",
        "                continue\n",
        "            print(\"\\nBoard after your move:\")\n",
        "            print_board(board)\n",
        "            # Check for win or draw after human's move\n",
        "            if check_winner(board, PLAYER_X):\n",
        "                print(\"\\nCongratulations! You win!\")\n",
        "                break\n",
        "            elif is_board_full(board):\n",
        "                print(\"\\nIt's a draw!\")\n",
        "                break\n",
        "            first_player = \"no\"  # Switch to computer's turn\n",
        "        else:\n",
        "            # Computer's turn (Maximizer - O)\n",
        "            print(\"\\nComputer's Turn...\")\n",
        "            best_move = find_best_move(board)\n",
        "            if best_move != (-1, -1):\n",
        "                board[best_move[0]][best_move[1]] = PLAYER_O\n",
        "            print(\"\\nBoard after Computer's move:\")\n",
        "            print_board(board)\n",
        "            # Check for win or draw after computer's move\n",
        "            if check_winner(board, PLAYER_O):\n",
        "                print(\"\\nComputer wins!\")\n",
        "                break\n",
        "            elif is_board_full(board):\n",
        "                print(\"\\nIt's a draw!\")\n",
        "                break\n",
        "            first_player = \"yes\"  # Switch to human's turn"
      ],
      "metadata": {
        "id": "8X1kVZoZPc3r"
      },
      "execution_count": null,
      "outputs": []
    },
    {
      "cell_type": "code",
      "source": [
        "# Play the game\n",
        "play_game()"
      ],
      "metadata": {
        "colab": {
          "base_uri": "https://localhost:8080/"
        },
        "id": "w_cA23CyPnI7",
        "outputId": "2bd85c2f-737d-4824-f34a-2c8d174f475a"
      },
      "execution_count": null,
      "outputs": [
        {
          "output_type": "stream",
          "name": "stdout",
          "text": [
            "Welcome to Tic-Tac-Toe!\n",
            " | | \n",
            "-----\n",
            " | | \n",
            "-----\n",
            " | | \n",
            "-----\n",
            "Do you want to start first? (yes/no): yes\n",
            "\n",
            "Your Turn! Enter row and column numbers (0, 1, or 2).\n",
            "Enter your move (row col): 0 1\n",
            "\n",
            "Board after your move:\n",
            " |X| \n",
            "-----\n",
            " | | \n",
            "-----\n",
            " | | \n",
            "-----\n",
            "\n",
            "Computer's Turn...\n",
            "\n",
            "Board after Computer's move:\n",
            "O|X| \n",
            "-----\n",
            " | | \n",
            "-----\n",
            " | | \n",
            "-----\n",
            "\n",
            "Your Turn! Enter row and column numbers (0, 1, or 2).\n",
            "Enter your move (row col): 1 1\n",
            "\n",
            "Board after your move:\n",
            "O|X| \n",
            "-----\n",
            " |X| \n",
            "-----\n",
            " | | \n",
            "-----\n",
            "\n",
            "Computer's Turn...\n",
            "\n",
            "Board after Computer's move:\n",
            "O|X| \n",
            "-----\n",
            " |X| \n",
            "-----\n",
            " |O| \n",
            "-----\n",
            "\n",
            "Your Turn! Enter row and column numbers (0, 1, or 2).\n",
            "Enter your move (row col): 2 0\n",
            "\n",
            "Board after your move:\n",
            "O|X| \n",
            "-----\n",
            " |X| \n",
            "-----\n",
            "X|O| \n",
            "-----\n",
            "\n",
            "Computer's Turn...\n",
            "\n",
            "Board after Computer's move:\n",
            "O|X|O\n",
            "-----\n",
            " |X| \n",
            "-----\n",
            "X|O| \n",
            "-----\n",
            "\n",
            "Your Turn! Enter row and column numbers (0, 1, or 2).\n",
            "Enter your move (row col): 2 2\n",
            "\n",
            "Board after your move:\n",
            "O|X|O\n",
            "-----\n",
            " |X| \n",
            "-----\n",
            "X|O|X\n",
            "-----\n",
            "\n",
            "Computer's Turn...\n",
            "\n",
            "Board after Computer's move:\n",
            "O|X|O\n",
            "-----\n",
            "O|X| \n",
            "-----\n",
            "X|O|X\n",
            "-----\n",
            "\n",
            "Your Turn! Enter row and column numbers (0, 1, or 2).\n",
            "Enter your move (row col): 1 1\n",
            "Invalid move, try again.\n",
            "\n",
            "Your Turn! Enter row and column numbers (0, 1, or 2).\n",
            "Enter your move (row col): 1 2\n",
            "\n",
            "Board after your move:\n",
            "O|X|O\n",
            "-----\n",
            "O|X|X\n",
            "-----\n",
            "X|O|X\n",
            "-----\n",
            "\n",
            "It's a draw!\n"
          ]
        }
      ]
    },
    {
      "cell_type": "code",
      "source": [
        "from collections import deque\n",
        "import itertools\n",
        "import heapq\n",
        "from queue import PriorityQueue\n",
        "import numpy as np\n",
        "import random\n",
        "import pandas as pd\n",
        "import matplotlib.pyplot as plt\n",
        "import math"
      ],
      "metadata": {
        "id": "TPM4GJiUayZs"
      },
      "execution_count": null,
      "outputs": []
    },
    {
      "cell_type": "code",
      "source": [
        "# Alpha-Beta Pruning Minimax Algorithm\n",
        "def alpha_beta_pruning(board, depth, alpha, beta, is_maximizing):\n",
        "    score = evaluate(board)\n",
        "    if score == 1 or score == -1 or is_board_full(board):\n",
        "        return score\n",
        "    if is_maximizing:  # Maximizer (Computer's turn)\n",
        "        best = -math.inf\n",
        "        for i in range(3):\n",
        "            for j in range(3):\n",
        "                if board[i][j] == EMPTY:\n",
        "                    board[i][j] = PLAYER_O\n",
        "                    best = max(best, alpha_beta_pruning(board, depth + 1, alpha, beta, False))\n",
        "                    board[i][j] = EMPTY\n",
        "                    alpha = max(alpha, best)\n",
        "                    if beta <= alpha:\n",
        "                        break  # Beta cut-off\n",
        "            if beta <= alpha:\n",
        "                break  # Beta cut-off\n",
        "        return best\n",
        "    else:  # Minimizer (Human's turn)\n",
        "        best = math.inf\n",
        "        for i in range(3):\n",
        "            for j in range(3):\n",
        "                if board[i][j] == EMPTY:\n",
        "                    board[i][j] = PLAYER_X\n",
        "                    best = min(best, alpha_beta_pruning(board, depth + 1, alpha, beta, True))\n",
        "                    board[i][j] = EMPTY\n",
        "                    beta = min(beta, best)\n",
        "                    if beta <= alpha:\n",
        "                        break  # Alpha cut-off\n",
        "            if beta <= alpha:\n",
        "                break  # Alpha cut-off\n",
        "        return best"
      ],
      "metadata": {
        "id": "BHLe14vXcAm-"
      },
      "execution_count": null,
      "outputs": []
    },
    {
      "cell_type": "code",
      "source": [
        "# Find the best move for the computer using alpha-beta pruning\n",
        "def find_best_move_alpha_beta(board):\n",
        "    best_val = -math.inf\n",
        "    best_move = (-1, -1)\n",
        "    for i in range(3):\n",
        "        for j in range(3):\n",
        "            if board[i][j] == EMPTY:\n",
        "                board[i][j] = PLAYER_O\n",
        "                move_val = alpha_beta_pruning(board, 0, -math.inf, math.inf, False)\n",
        "                board[i][j] = EMPTY\n",
        "                if move_val > best_val:\n",
        "                    best_move = (i, j)\n",
        "                    best_val = move_val\n",
        "    return best_move"
      ],
      "metadata": {
        "id": "yyGooQoVcDRX"
      },
      "execution_count": null,
      "outputs": []
    },
    {
      "cell_type": "code",
      "source": [
        "# Main function to run the game using alpha-beta pruning\n",
        "def play_game_alpha_beta():\n",
        "    board = [\n",
        "        [EMPTY, EMPTY, EMPTY],\n",
        "        [EMPTY, EMPTY, EMPTY],\n",
        "        [EMPTY, EMPTY, EMPTY]\n",
        "    ]\n",
        "    print(\"Welcome to Tic-Tac-Toe (with Alpha-Beta Pruning)!\")\n",
        "    print_board(board)\n",
        "    # Ask the user if they want to start first\n",
        "    while True:\n",
        "        first_player = input(\"Do you want to start first? (yes/no): \").lower()\n",
        "        if first_player in [\"yes\", \"no\"]:\n",
        "            break\n",
        "        else:\n",
        "            print(\"Invalid input, please enter 'yes' or 'no'.\")\n",
        "    while True:\n",
        "        if first_player == \"yes\":\n",
        "            # Human's turn (Minimizer - X)\n",
        "            print(\"\\nYour Turn! Enter row and column numbers (0, 1, or 2).\")\n",
        "            user_move = input(\"Enter your move (row col): \").split()\n",
        "            row, col = int(user_move[0]), int(user_move[1])\n",
        "            if is_valid_move(board, row, col):\n",
        "                board[row][col] = PLAYER_X\n",
        "            else:\n",
        "                print(\"Invalid move, try again.\")\n",
        "                continue\n",
        "            print(\"\\nBoard after your move:\")\n",
        "            print_board(board)\n",
        "            # Check for win or draw after human's move\n",
        "            if check_winner(board, PLAYER_X):\n",
        "                print(\"\\nCongratulations! You win!\")\n",
        "                break\n",
        "            elif is_board_full(board):\n",
        "                print(\"\\nIt's a draw!\")\n",
        "                break\n",
        "            first_player = \"no\"  # Switch to computer's turn\n",
        "        else:\n",
        "            # Computer's turn (Maximizer - O)\n",
        "            print(\"\\nComputer's Turn...\")\n",
        "            best_move = find_best_move_alpha_beta(board)\n",
        "            if best_move != (-1, -1):\n",
        "                board[best_move[0]][best_move[1]] = PLAYER_O\n",
        "            print(\"\\nBoard after Computer's move:\")\n",
        "            print_board(board)\n",
        "            # Check for win or draw after computer's move\n",
        "            if check_winner(board, PLAYER_O):\n",
        "                print(\"\\nComputer wins!\")\n",
        "                break\n",
        "            elif is_board_full(board):\n",
        "                print(\"\\nIt's a draw!\")\n",
        "                break\n",
        "            first_player = \"yes\"  # Switch to human's turn"
      ],
      "metadata": {
        "id": "BqC6_JpPcX2Y"
      },
      "execution_count": null,
      "outputs": []
    },
    {
      "cell_type": "code",
      "source": [
        "# Play the game using alpha-beta pruning\n",
        "play_game_alpha_beta()"
      ],
      "metadata": {
        "colab": {
          "base_uri": "https://localhost:8080/"
        },
        "id": "XaiJY9mffMiv",
        "outputId": "7f63bd2b-d497-4a2a-8f0d-5d507c4ffb9c"
      },
      "execution_count": null,
      "outputs": [
        {
          "output_type": "stream",
          "name": "stdout",
          "text": [
            "Welcome to Tic-Tac-Toe (with Alpha-Beta Pruning)!\n",
            " | | \n",
            "-----\n",
            " | | \n",
            "-----\n",
            " | | \n",
            "-----\n",
            "Do you want to start first? (yes/no): no\n",
            "\n",
            "Computer's Turn...\n",
            "\n",
            "Board after Computer's move:\n",
            "O| | \n",
            "-----\n",
            " | | \n",
            "-----\n",
            " | | \n",
            "-----\n",
            "\n",
            "Your Turn! Enter row and column numbers (0, 1, or 2).\n",
            "Enter your move (row col): 1 1\n",
            "\n",
            "Board after your move:\n",
            "O| | \n",
            "-----\n",
            " |X| \n",
            "-----\n",
            " | | \n",
            "-----\n",
            "\n",
            "Computer's Turn...\n",
            "\n",
            "Board after Computer's move:\n",
            "O|O| \n",
            "-----\n",
            " |X| \n",
            "-----\n",
            " | | \n",
            "-----\n",
            "\n",
            "Your Turn! Enter row and column numbers (0, 1, or 2).\n",
            "Enter your move (row col): 0 2\n",
            "\n",
            "Board after your move:\n",
            "O|O|X\n",
            "-----\n",
            " |X| \n",
            "-----\n",
            " | | \n",
            "-----\n",
            "\n",
            "Computer's Turn...\n",
            "\n",
            "Board after Computer's move:\n",
            "O|O|X\n",
            "-----\n",
            " |X| \n",
            "-----\n",
            "O| | \n",
            "-----\n",
            "\n",
            "Your Turn! Enter row and column numbers (0, 1, or 2).\n",
            "Enter your move (row col): 1 0\n",
            "\n",
            "Board after your move:\n",
            "O|O|X\n",
            "-----\n",
            "X|X| \n",
            "-----\n",
            "O| | \n",
            "-----\n",
            "\n",
            "Computer's Turn...\n",
            "\n",
            "Board after Computer's move:\n",
            "O|O|X\n",
            "-----\n",
            "X|X|O\n",
            "-----\n",
            "O| | \n",
            "-----\n",
            "\n",
            "Your Turn! Enter row and column numbers (0, 1, or 2).\n",
            "Enter your move (row col): 2 1\n",
            "\n",
            "Board after your move:\n",
            "O|O|X\n",
            "-----\n",
            "X|X|O\n",
            "-----\n",
            "O|X| \n",
            "-----\n",
            "\n",
            "Computer's Turn...\n",
            "\n",
            "Board after Computer's move:\n",
            "O|O|X\n",
            "-----\n",
            "X|X|O\n",
            "-----\n",
            "O|X|O\n",
            "-----\n",
            "\n",
            "It's a draw!\n"
          ]
        }
      ]
    },
    {
      "cell_type": "markdown",
      "source": [
        "# Experiment 8"
      ],
      "metadata": {
        "id": "wLhCua1lJF8k"
      }
    },
    {
      "cell_type": "code",
      "source": [
        "!pip install scikit-fuzzy matplotlib"
      ],
      "metadata": {
        "id": "xW0bHkt6JLGu",
        "colab": {
          "base_uri": "https://localhost:8080/"
        },
        "outputId": "80176637-c502-4b90-9e0d-bb0a3358dffc"
      },
      "execution_count": null,
      "outputs": [
        {
          "output_type": "stream",
          "name": "stdout",
          "text": [
            "Collecting scikit-fuzzy\n",
            "  Downloading scikit_fuzzy-0.5.0-py2.py3-none-any.whl.metadata (2.6 kB)\n",
            "Requirement already satisfied: matplotlib in /usr/local/lib/python3.10/dist-packages (3.7.1)\n",
            "Requirement already satisfied: contourpy>=1.0.1 in /usr/local/lib/python3.10/dist-packages (from matplotlib) (1.3.0)\n",
            "Requirement already satisfied: cycler>=0.10 in /usr/local/lib/python3.10/dist-packages (from matplotlib) (0.12.1)\n",
            "Requirement already satisfied: fonttools>=4.22.0 in /usr/local/lib/python3.10/dist-packages (from matplotlib) (4.54.1)\n",
            "Requirement already satisfied: kiwisolver>=1.0.1 in /usr/local/lib/python3.10/dist-packages (from matplotlib) (1.4.7)\n",
            "Requirement already satisfied: numpy>=1.20 in /usr/local/lib/python3.10/dist-packages (from matplotlib) (1.26.4)\n",
            "Requirement already satisfied: packaging>=20.0 in /usr/local/lib/python3.10/dist-packages (from matplotlib) (24.1)\n",
            "Requirement already satisfied: pillow>=6.2.0 in /usr/local/lib/python3.10/dist-packages (from matplotlib) (10.4.0)\n",
            "Requirement already satisfied: pyparsing>=2.3.1 in /usr/local/lib/python3.10/dist-packages (from matplotlib) (3.2.0)\n",
            "Requirement already satisfied: python-dateutil>=2.7 in /usr/local/lib/python3.10/dist-packages (from matplotlib) (2.8.2)\n",
            "Requirement already satisfied: six>=1.5 in /usr/local/lib/python3.10/dist-packages (from python-dateutil>=2.7->matplotlib) (1.16.0)\n",
            "Downloading scikit_fuzzy-0.5.0-py2.py3-none-any.whl (920 kB)\n",
            "\u001b[2K   \u001b[90m━━━━━━━━━━━━━━━━━━━━━━━━━━━━━━━━━━━━━━━━\u001b[0m \u001b[32m920.8/920.8 kB\u001b[0m \u001b[31m8.4 MB/s\u001b[0m eta \u001b[36m0:00:00\u001b[0m\n",
            "\u001b[?25hInstalling collected packages: scikit-fuzzy\n",
            "Successfully installed scikit-fuzzy-0.5.0\n"
          ]
        }
      ]
    },
    {
      "cell_type": "code",
      "source": [
        "import numpy as np\n",
        "import skfuzzy as fuzz\n",
        "from skfuzzy import control as ctrl\n",
        "import matplotlib.pyplot as plt"
      ],
      "metadata": {
        "id": "5HCBRK_KkK97"
      },
      "execution_count": null,
      "outputs": []
    },
    {
      "cell_type": "code",
      "source": [
        "# Temperature Antecedent\n",
        "temperature = ctrl.Antecedent(np.arange(16, 30, 1), 'temperature')\n",
        "temperature['cold'] = fuzz.trapmf(temperature.universe, [16, 17, 20, 21])  # 16-21\n",
        "temperature['comfortable'] = fuzz.trapmf(temperature.universe, [18, 21, 23, 26])  # 21-26\n",
        "temperature['hot'] = fuzz.trapmf(temperature.universe, [23, 26, 28, 30])  # 26-30"
      ],
      "metadata": {
        "id": "Aqqdgm6bkYIp"
      },
      "execution_count": null,
      "outputs": []
    },
    {
      "cell_type": "code",
      "source": [
        "# Speed Antecedent\n",
        "speed = ctrl.Antecedent(np.arange(0, 100, 1), 'speed')\n",
        "speed['Low'] = fuzz.trimf(speed.universe, [0, 15, 30])\n",
        "speed['Medium'] = fuzz.trimf(speed.universe, [25, 55, 70])\n",
        "speed['High'] = fuzz.trimf(speed.universe, [65, 85, 100])"
      ],
      "metadata": {
        "id": "EdpwwbCVkd1m"
      },
      "execution_count": null,
      "outputs": []
    },
    {
      "cell_type": "code",
      "source": [
        "# Honesty Antecedent\n",
        "honesty = ctrl.Antecedent(np.arange(1, 5, 1), 'honesty')\n",
        "honesty['Dishonest'] = fuzz.gaussmf(honesty.universe, mean=2, sigma=1)\n",
        "honesty['Neutral'] = fuzz.gaussmf(honesty.universe, mean=3, sigma=1)\n",
        "honesty['Honest'] = fuzz.gaussmf(honesty.universe, mean=4, sigma=1)"
      ],
      "metadata": {
        "id": "h_oZLunukiPc"
      },
      "execution_count": null,
      "outputs": []
    },
    {
      "cell_type": "code",
      "source": [
        "# Loyalty Antecedent\n",
        "loyalty = ctrl.Antecedent(np.arange(0, 100, 10), 'loyalty')\n",
        "loyalty['Not loyal'] = fuzz.trimf(loyalty.universe, [0, 20, 40])\n",
        "loyalty['May or Maynot be Loyal'] = fuzz.trimf(loyalty.universe, [30, 50, 70])\n",
        "loyalty['Loyal'] = fuzz.trimf(loyalty.universe, [60, 80, 100])"
      ],
      "metadata": {
        "id": "H_rI_T4ykriL"
      },
      "execution_count": null,
      "outputs": []
    },
    {
      "cell_type": "code",
      "source": [
        "# Dirt Level Antecedent\n",
        "dirt_level = ctrl.Antecedent(np.arange(0, 100, 1), 'dirt_level')\n",
        "dirt_level['Dirty'] = fuzz.trapmf(dirt_level.universe, [0, 15, 20, 30])\n",
        "dirt_level['Partially Dirty'] = fuzz.trapmf(dirt_level.universe, [25, 45, 55, 65])\n",
        "dirt_level['Clean'] = fuzz.trapmf(dirt_level.universe, [60, 70, 85, 100])"
      ],
      "metadata": {
        "id": "YBX5kNg6kvOF"
      },
      "execution_count": null,
      "outputs": []
    },
    {
      "cell_type": "code",
      "source": [
        "# Grease Antecedent\n",
        "grease = ctrl.Antecedent(np.arange(0, 101, 1), 'grease')\n",
        "grease['low'] = fuzz.trimf(grease.universe, [0, 0, 30])\n",
        "grease['medium'] = fuzz.trimf(grease.universe, [20, 50, 70])\n",
        "grease['high'] = fuzz.trimf(grease.universe, [60, 90, 100])"
      ],
      "metadata": {
        "id": "MfmWlfXLkyoS"
      },
      "execution_count": null,
      "outputs": []
    },
    {
      "cell_type": "code",
      "source": [
        "# Washing Time Consequent\n",
        "washing_time = ctrl.Consequent(np.arange(0, 101, 1), 'washing_time')\n",
        "washing_time['short duration'] = fuzz.trimf(washing_time.universe, [0, 0, 30])\n",
        "washing_time['medium duration'] = fuzz.trimf(washing_time.universe, [20, 40, 60])\n",
        "washing_time['long duration'] = fuzz.trimf(washing_time.universe, [50, 70, 100])"
      ],
      "metadata": {
        "id": "e6l5eGRnk6mz"
      },
      "execution_count": null,
      "outputs": []
    },
    {
      "cell_type": "code",
      "source": [
        "# Define Rules for Washing Machine Control\n",
        "rules = [\n",
        "    ctrl.Rule(dirt_level['Dirty'] & grease['low'], washing_time['short duration']),\n",
        "    ctrl.Rule(dirt_level['Dirty'] & grease['medium'], washing_time['medium duration']),\n",
        "    ctrl.Rule(dirt_level['Dirty'] & grease['high'], washing_time['long duration']),\n",
        "    ctrl.Rule(dirt_level['Partially Dirty'] & grease['low'], washing_time['medium duration']),\n",
        "    ctrl.Rule(dirt_level['Partially Dirty'] & grease['medium'], washing_time['medium duration']),\n",
        "    ctrl.Rule(dirt_level['Partially Dirty'] & grease['high'], washing_time['long duration']),\n",
        "    ctrl.Rule(dirt_level['Clean'] & grease['low'], washing_time['short duration']),\n",
        "    ctrl.Rule(dirt_level['Clean'] & grease['medium'], washing_time['short duration']),\n",
        "    ctrl.Rule(dirt_level['Clean'] & grease['high'], washing_time['medium duration']),\n",
        "]"
      ],
      "metadata": {
        "id": "Rur0EXtfk_Px"
      },
      "execution_count": null,
      "outputs": []
    },
    {
      "cell_type": "code",
      "source": [
        "# Control System Creation and Simulation\n",
        "washing_machine_ctrl = ctrl.ControlSystem(rules)\n",
        "washing_machine = ctrl.ControlSystemSimulation(washing_machine_ctrl)"
      ],
      "metadata": {
        "id": "jWkCxfgolEgX"
      },
      "execution_count": null,
      "outputs": []
    },
    {
      "cell_type": "code",
      "source": [
        "# Visualize the membership functions\n",
        "temperature.view()\n",
        "speed.view()\n",
        "honesty.view()\n",
        "loyalty.view()\n",
        "dirt_level.view()\n",
        "grease.view()\n",
        "washing_time.view()\n",
        "plt.show()"
      ],
      "metadata": {
        "colab": {
          "base_uri": "https://localhost:8080/",
          "height": 1000
        },
        "id": "G5MPcN5QlNKm",
        "outputId": "28dba0fc-1859-41d6-b6cc-711295554a1b"
      },
      "execution_count": null,
      "outputs": [
        {
          "output_type": "display_data",
          "data": {
            "text/plain": [
              "<Figure size 640x480 with 1 Axes>"
            ],
            "image/png": "[encoded data removed]"
          },
          "metadata": {}
        },
        {
          "output_type": "display_data",
          "data": {
            "text/plain": [
              "<Figure size 640x480 with 1 Axes>"
            ],
            "image/png": "[encoded data removed]"
          },
          "metadata": {}
        },
        {
          "output_type": "display_data",
          "data": {
            "text/plain": [
              "<Figure size 640x480 with 1 Axes>"
            ],
            "image/png": "[encoded data removed]"
          },
          "metadata": {}
        },
        {
          "output_type": "display_data",
          "data": {
            "text/plain": [
              "<Figure size 640x480 with 1 Axes>"
            ],
            "image/png": "[encoded data removed]"
          },
          "metadata": {}
        },
        {
          "output_type": "display_data",
          "data": {
            "text/plain": [
              "<Figure size 640x480 with 1 Axes>"
            ],
            "image/png": "[encoded data removed]"
          },
          "metadata": {}
        },
        {
          "output_type": "display_data",
          "data": {
            "text/plain": [
              "<Figure size 640x480 with 1 Axes>"
            ],
            "image/png": "[encoded data removed]"
          },
          "metadata": {}
        },
        {
          "output_type": "display_data",
          "data": {
            "text/plain": [
              "<Figure size 640x480 with 1 Axes>"
            ],
            "image/png": "[encoded data removed]"
          },
          "metadata": {}
        }
      ]
    },
    {
      "cell_type": "code",
      "source": [
        "# Inputs\n",
        "dirt_input = int(input(\"Enter dirt level in range (0-100): \"))\n",
        "grease_input = int(input(\"Enter grease level in range (0-100): \"))\n",
        "washing_machine.input['dirt_level'] = dirt_input\n",
        "washing_machine.input['grease'] = grease_input\n",
        "# Compute the result\n",
        "washing_machine.compute()\n",
        "washing_time_result = washing_machine.output['washing_time']\n",
        "print(f\"Washing time is: {washing_time_result:.2f} minutes\")"
      ],
      "metadata": {
        "colab": {
          "base_uri": "https://localhost:8080/"
        },
        "id": "C3yLTmWZlJkT",
        "outputId": "a715649b-73d9-4167-cc2a-22194eae4b81"
      },
      "execution_count": null,
      "outputs": [
        {
          "output_type": "stream",
          "name": "stdout",
          "text": [
            "Enter dirt level in range (0-100): 50\n",
            "Enter grease level in range (0-100): 50\n",
            "Washing time is: 40.00 minutes\n"
          ]
        }
      ]
    },
    {
      "cell_type": "markdown",
      "source": [
        "# Experiment 9"
      ],
      "metadata": {
        "id": "gv13sC500hmb"
      }
    },
    {
      "cell_type": "code",
      "source": [
        "from typing import Dict, List, Tuple, Optional\n",
        "from dataclasses import dataclass\n",
        "from rich.console import Console\n",
        "from rich.table import Table"
      ],
      "metadata": {
        "id": "HYbenohNmPlV"
      },
      "execution_count": null,
      "outputs": []
    },
    {
      "cell_type": "code",
      "source": [
        "@dataclass\n",
        "class TransportOption:\n",
        "    name: str\n",
        "    cost: int\n",
        "    description: str"
      ],
      "metadata": {
        "id": "Br3YNyGeoAUj"
      },
      "execution_count": null,
      "outputs": []
    },
    {
      "cell_type": "code",
      "source": [
        "@dataclass\n",
        "class HotelPackage:\n",
        "    name: str\n",
        "    stay_cost: int\n",
        "    food_cost: int\n",
        "    description: str"
      ],
      "metadata": {
        "id": "XCfYC1nDoLB7"
      },
      "execution_count": null,
      "outputs": []
    },
    {
      "cell_type": "code",
      "source": [
        "@dataclass\n",
        "class VanityFoodOption:\n",
        "    name: str\n",
        "    cost: int\n",
        "    description: str"
      ],
      "metadata": {
        "id": "zxEGRPYIoPzp"
      },
      "execution_count": null,
      "outputs": []
    },
    {
      "cell_type": "code",
      "source": [
        "class TravelPlanner:\n",
        "    def __init__(self):\n",
        "        # Initialize transportation options\n",
        "        self.transport_options: Dict[str, TransportOption] = {\n",
        "            'train': TransportOption('Train', 1500, 'Base ticket cost'),\n",
        "            'bus': TransportOption('Bus', 800, 'Base ticket cost'),\n",
        "            'flight': TransportOption('Flight', 5000, 'Base ticket cost'),\n",
        "            'vanity': TransportOption('Vanity Van', 12000, 'Includes transport & accommodation for 2 days')\n",
        "        }\n",
        "        # Initialize hotel packages\n",
        "        self.hotel_packages: Dict[str, HotelPackage] = {\n",
        "            'westin': HotelPackage('Westin', 8000, 2000, 'Luxury hotel near venue'),\n",
        "            'kenilworth': HotelPackage('Kenilworth', 6000, 1500, 'Mid-range hotel'),\n",
        "            'maria_rica': HotelPackage('Maria Rica', 4000, 1000, 'Budget-friendly option')\n",
        "        }\n",
        "        # Initialize vanity van food options\n",
        "        self.vanity_food_options: Dict[str, VanityFoodOption] = {\n",
        "            'cook': VanityFoodOption('Cook Self', 1000, 'Includes groceries and supplies'),\n",
        "            'restaurant': VanityFoodOption('Eat Outside', 2000, 'Restaurant meals')\n",
        "        }\n",
        "    def calculate_total_cost(self, transport: str, hotel: Optional[str] = None,\n",
        "                           vanity_food: Optional[str] = None, days: int = 2) -> Tuple[int, List[str]]:\n",
        "        total_cost = 0\n",
        "        path = []\n",
        "        # Add transportation cost\n",
        "        transport_option = self.transport_options[transport]\n",
        "        total_cost += transport_option.cost\n",
        "        path.append(f\"Transport: {transport_option.name} (₹{transport_option.cost:,})\")\n",
        "        # Add accommodation and food cost\n",
        "        if transport != 'vanity':\n",
        "            if hotel:\n",
        "                hotel_package = self.hotel_packages[hotel]\n",
        "                hotel_cost = (hotel_package.stay_cost + hotel_package.food_cost) * days\n",
        "                total_cost += hotel_cost\n",
        "                path.append(f\"Hotel: {hotel_package.name} - {days} days\")\n",
        "                path.append(f\"  - Stay: ₹{hotel_package.stay_cost:,} × {days} = ₹{hotel_package.stay_cost * days:,}\")\n",
        "                path.append(f\"  - Food: ₹{hotel_package.food_cost:,} × {days} = ₹{hotel_package.food_cost * days:,}\")\n",
        "        else:\n",
        "            if vanity_food:\n",
        "                food_option = self.vanity_food_options[vanity_food]\n",
        "                total_cost += food_option.cost\n",
        "                path.append(f\"Vanity Food: {food_option.name} (₹{food_option.cost:,})\")\n",
        "        path.append(f\"Total Cost: ₹{total_cost:,}\")\n",
        "        return total_cost, path\n",
        "    def find_cheapest_option(self, days: int = 2) -> Tuple[int, List[str]]:\n",
        "        min_cost = float('inf')\n",
        "        best_path = []\n",
        "        # Check all regular transport + hotel combinations\n",
        "        for transport in ['train', 'bus', 'flight']:\n",
        "            for hotel in self.hotel_packages.keys():\n",
        "                cost, path = self.calculate_total_cost(transport, hotel, days=days)\n",
        "                if cost < min_cost:\n",
        "                    min_cost = cost\n",
        "                    best_path = path\n",
        "        # Check vanity van options\n",
        "        for food_option in self.vanity_food_options.keys():\n",
        "            cost, path = self.calculate_total_cost('vanity', vanity_food=food_option, days=days)\n",
        "            if cost < min_cost:\n",
        "                min_cost = cost\n",
        "                best_path = path\n",
        "        return min_cost, best_path\n",
        "    def display_cost_tables(self):\n",
        "        console = Console()\n",
        "        # Transport Table\n",
        "        transport_table = Table(title=\"Transportation Options\")\n",
        "        transport_table.add_column(\"Mode\", style=\"cyan\")\n",
        "        transport_table.add_column(\"Cost (₹)\", style=\"green\")\n",
        "        transport_table.add_column(\"Notes\", style=\"yellow\")\n",
        "        for option in self.transport_options.values():\n",
        "            transport_table.add_row(\n",
        "                option.name,\n",
        "                f\"{option.cost:,}\",\n",
        "                option.description\n",
        "            )\n",
        "        # Hotel Table\n",
        "        hotel_table = Table(title=\"Hotel Packages (Per Day)\")\n",
        "        hotel_table.add_column(\"Hotel\", style=\"cyan\")\n",
        "        hotel_table.add_column(\"Stay Cost (₹)\", style=\"green\")\n",
        "        hotel_table.add_column(\"Food Cost (₹)\", style=\"green\")\n",
        "        hotel_table.add_column(\"Total/Day (₹)\", style=\"bold green\")\n",
        "        for package in self.hotel_packages.values():\n",
        "            hotel_table.add_row(\n",
        "                package.name,\n",
        "                f\"{package.stay_cost:,}\",\n",
        "                f\"{package.food_cost:,}\",\n",
        "                f\"{package.stay_cost + package.food_cost:,}\"\n",
        "            )\n",
        "        # Vanity Food Table\n",
        "        vanity_table = Table(title=\"Vanity Van Food Options (2 Days)\")\n",
        "        vanity_table.add_column(\"Option\", style=\"cyan\")\n",
        "        vanity_table.add_column(\"Cost (₹)\", style=\"green\")\n",
        "        vanity_table.add_column(\"Notes\", style=\"yellow\")\n",
        "        for option in self.vanity_food_options.values():\n",
        "            vanity_table.add_row(\n",
        "                option.name,\n",
        "                f\"{option.cost:,}\",\n",
        "                option.description\n",
        "            )\n",
        "        # Display all tables\n",
        "        console.print(transport_table)\n",
        "        console.print(\"\")\n",
        "        console.print(hotel_table)\n",
        "        console.print(\"\")\n",
        "        console.print(vanity_table)"
      ],
      "metadata": {
        "id": "Sk_oqsO6oVOz"
      },
      "execution_count": null,
      "outputs": []
    },
    {
      "cell_type": "code",
      "source": [
        "# Initialize and execute TravelPlanner\n",
        "planner = TravelPlanner()"
      ],
      "metadata": {
        "id": "bVcodT7oomaJ"
      },
      "execution_count": null,
      "outputs": []
    },
    {
      "cell_type": "code",
      "source": [
        "# Display cost tables\n",
        "print(\"=== Travel Cost Reference Tables ===\")\n",
        "planner.display_cost_tables()\n",
        "print(\"\\n=== Sample Itineraries ===\")"
      ],
      "metadata": {
        "colab": {
          "base_uri": "https://localhost:8080/",
          "height": 455
        },
        "id": "d7p9JSlroqr9",
        "outputId": "c2580160-ad27-486e-9431-4ccf42befb05"
      },
      "execution_count": null,
      "outputs": [
        {
          "output_type": "stream",
          "name": "stdout",
          "text": [
            "=== Travel Cost Reference Tables ===\n"
          ]
        },
        {
          "output_type": "display_data",
          "data": {
            "text/plain": [
              "\u001b[3m                         Transportation Options                          \u001b[0m\n",
              "┏━━━━━━━━━━━━┳━━━━━━━━━━┳━━━━━━━━━━━━━━━━━━━━━━━━━━━━━━━━━━━━━━━━━━━━━━━┓\n",
              "┃\u001b[1m \u001b[0m\u001b[1mMode      \u001b[0m\u001b[1m \u001b[0m┃\u001b[1m \u001b[0m\u001b[1mCost (₹)\u001b[0m\u001b[1m \u001b[0m┃\u001b[1m \u001b[0m\u001b[1mNotes                                        \u001b[0m\u001b[1m \u001b[0m┃\n",
              "┡━━━━━━━━━━━━╇━━━━━━━━━━╇━━━━━━━━━━━━━━━━━━━━━━━━━━━━━━━━━━━━━━━━━━━━━━━┩\n",
              "│\u001b[36m \u001b[0m\u001b[36mTrain     \u001b[0m\u001b[36m \u001b[0m│\u001b[32m \u001b[0m\u001b[32m1,500   \u001b[0m\u001b[32m \u001b[0m│\u001b[33m \u001b[0m\u001b[33mBase ticket cost                             \u001b[0m\u001b[33m \u001b[0m│\n",
              "│\u001b[36m \u001b[0m\u001b[36mBus       \u001b[0m\u001b[36m \u001b[0m│\u001b[32m \u001b[0m\u001b[32m800     \u001b[0m\u001b[32m \u001b[0m│\u001b[33m \u001b[0m\u001b[33mBase ticket cost                             \u001b[0m\u001b[33m \u001b[0m│\n",
              "│\u001b[36m \u001b[0m\u001b[36mFlight    \u001b[0m\u001b[36m \u001b[0m│\u001b[32m \u001b[0m\u001b[32m5,000   \u001b[0m\u001b[32m \u001b[0m│\u001b[33m \u001b[0m\u001b[33mBase ticket cost                             \u001b[0m\u001b[33m \u001b[0m│\n",
              "│\u001b[36m \u001b[0m\u001b[36mVanity Van\u001b[0m\u001b[36m \u001b[0m│\u001b[32m \u001b[0m\u001b[32m12,000  \u001b[0m\u001b[32m \u001b[0m│\u001b[33m \u001b[0m\u001b[33mIncludes transport & accommodation for 2 days\u001b[0m\u001b[33m \u001b[0m│\n",
              "└────────────┴──────────┴───────────────────────────────────────────────┘\n"
            ],
            "text/html": [
              "<pre style=\"white-space:pre;overflow-x:auto;line-height:normal;font-family:Menlo,'DejaVu Sans Mono',consolas,'Courier New',monospace\"><span style=\"font-style: italic\">                         Transportation Options                          </span>\n",
              "┏━━━━━━━━━━━━┳━━━━━━━━━━┳━━━━━━━━━━━━━━━━━━━━━━━━━━━━━━━━━━━━━━━━━━━━━━━┓\n",
              "┃<span style=\"font-weight: bold\"> Mode       </span>┃<span style=\"font-weight: bold\"> Cost (₹) </span>┃<span style=\"font-weight: bold\"> Notes                                         </span>┃\n",
              "┡━━━━━━━━━━━━╇━━━━━━━━━━╇━━━━━━━━━━━━━━━━━━━━━━━━━━━━━━━━━━━━━━━━━━━━━━━┩\n",
              "│<span style=\"color: #008080; text-decoration-color: #008080\"> Train      </span>│<span style=\"color: #008000; text-decoration-color: #008000\"> 1,500    </span>│<span style=\"color: #808000; text-decoration-color: #808000\"> Base ticket cost                              </span>│\n",
              "│<span style=\"color: #008080; text-decoration-color: #008080\"> Bus        </span>│<span style=\"color: #008000; text-decoration-color: #008000\"> 800      </span>│<span style=\"color: #808000; text-decoration-color: #808000\"> Base ticket cost                              </span>│\n",
              "│<span style=\"color: #008080; text-decoration-color: #008080\"> Flight     </span>│<span style=\"color: #008000; text-decoration-color: #008000\"> 5,000    </span>│<span style=\"color: #808000; text-decoration-color: #808000\"> Base ticket cost                              </span>│\n",
              "│<span style=\"color: #008080; text-decoration-color: #008080\"> Vanity Van </span>│<span style=\"color: #008000; text-decoration-color: #008000\"> 12,000   </span>│<span style=\"color: #808000; text-decoration-color: #808000\"> Includes transport &amp; accommodation for 2 days </span>│\n",
              "└────────────┴──────────┴───────────────────────────────────────────────┘\n",
              "</pre>\n"
            ]
          },
          "metadata": {}
        },
        {
          "output_type": "display_data",
          "data": {
            "text/plain": [
              "\n"
            ],
            "text/html": [
              "<pre style=\"white-space:pre;overflow-x:auto;line-height:normal;font-family:Menlo,'DejaVu Sans Mono',consolas,'Courier New',monospace\">\n",
              "</pre>\n"
            ]
          },
          "metadata": {}
        },
        {
          "output_type": "display_data",
          "data": {
            "text/plain": [
              "\u001b[3m                   Hotel Packages (Per Day)                   \u001b[0m\n",
              "┏━━━━━━━━━━━━┳━━━━━━━━━━━━━━━┳━━━━━━━━━━━━━━━┳━━━━━━━━━━━━━━━┓\n",
              "┃\u001b[1m \u001b[0m\u001b[1mHotel     \u001b[0m\u001b[1m \u001b[0m┃\u001b[1m \u001b[0m\u001b[1mStay Cost (₹)\u001b[0m\u001b[1m \u001b[0m┃\u001b[1m \u001b[0m\u001b[1mFood Cost (₹)\u001b[0m\u001b[1m \u001b[0m┃\u001b[1m \u001b[0m\u001b[1mTotal/Day (₹)\u001b[0m\u001b[1m \u001b[0m┃\n",
              "┡━━━━━━━━━━━━╇━━━━━━━━━━━━━━━╇━━━━━━━━━━━━━━━╇━━━━━━━━━━━━━━━┩\n",
              "│\u001b[36m \u001b[0m\u001b[36mWestin    \u001b[0m\u001b[36m \u001b[0m│\u001b[32m \u001b[0m\u001b[32m8,000        \u001b[0m\u001b[32m \u001b[0m│\u001b[32m \u001b[0m\u001b[32m2,000        \u001b[0m\u001b[32m \u001b[0m│\u001b[1;32m \u001b[0m\u001b[1;32m10,000       \u001b[0m\u001b[1;32m \u001b[0m│\n",
              "│\u001b[36m \u001b[0m\u001b[36mKenilworth\u001b[0m\u001b[36m \u001b[0m│\u001b[32m \u001b[0m\u001b[32m6,000        \u001b[0m\u001b[32m \u001b[0m│\u001b[32m \u001b[0m\u001b[32m1,500        \u001b[0m\u001b[32m \u001b[0m│\u001b[1;32m \u001b[0m\u001b[1;32m7,500        \u001b[0m\u001b[1;32m \u001b[0m│\n",
              "│\u001b[36m \u001b[0m\u001b[36mMaria Rica\u001b[0m\u001b[36m \u001b[0m│\u001b[32m \u001b[0m\u001b[32m4,000        \u001b[0m\u001b[32m \u001b[0m│\u001b[32m \u001b[0m\u001b[32m1,000        \u001b[0m\u001b[32m \u001b[0m│\u001b[1;32m \u001b[0m\u001b[1;32m5,000        \u001b[0m\u001b[1;32m \u001b[0m│\n",
              "└────────────┴───────────────┴───────────────┴───────────────┘\n"
            ],
            "text/html": [
              "<pre style=\"white-space:pre;overflow-x:auto;line-height:normal;font-family:Menlo,'DejaVu Sans Mono',consolas,'Courier New',monospace\"><span style=\"font-style: italic\">                   Hotel Packages (Per Day)                   </span>\n",
              "┏━━━━━━━━━━━━┳━━━━━━━━━━━━━━━┳━━━━━━━━━━━━━━━┳━━━━━━━━━━━━━━━┓\n",
              "┃<span style=\"font-weight: bold\"> Hotel      </span>┃<span style=\"font-weight: bold\"> Stay Cost (₹) </span>┃<span style=\"font-weight: bold\"> Food Cost (₹) </span>┃<span style=\"font-weight: bold\"> Total/Day (₹) </span>┃\n",
              "┡━━━━━━━━━━━━╇━━━━━━━━━━━━━━━╇━━━━━━━━━━━━━━━╇━━━━━━━━━━━━━━━┩\n",
              "│<span style=\"color: #008080; text-decoration-color: #008080\"> Westin     </span>│<span style=\"color: #008000; text-decoration-color: #008000\"> 8,000         </span>│<span style=\"color: #008000; text-decoration-color: #008000\"> 2,000         </span>│<span style=\"color: #008000; text-decoration-color: #008000; font-weight: bold\"> 10,000        </span>│\n",
              "│<span style=\"color: #008080; text-decoration-color: #008080\"> Kenilworth </span>│<span style=\"color: #008000; text-decoration-color: #008000\"> 6,000         </span>│<span style=\"color: #008000; text-decoration-color: #008000\"> 1,500         </span>│<span style=\"color: #008000; text-decoration-color: #008000; font-weight: bold\"> 7,500         </span>│\n",
              "│<span style=\"color: #008080; text-decoration-color: #008080\"> Maria Rica </span>│<span style=\"color: #008000; text-decoration-color: #008000\"> 4,000         </span>│<span style=\"color: #008000; text-decoration-color: #008000\"> 1,000         </span>│<span style=\"color: #008000; text-decoration-color: #008000; font-weight: bold\"> 5,000         </span>│\n",
              "└────────────┴───────────────┴───────────────┴───────────────┘\n",
              "</pre>\n"
            ]
          },
          "metadata": {}
        },
        {
          "output_type": "display_data",
          "data": {
            "text/plain": [
              "\n"
            ],
            "text/html": [
              "<pre style=\"white-space:pre;overflow-x:auto;line-height:normal;font-family:Menlo,'DejaVu Sans Mono',consolas,'Courier New',monospace\">\n",
              "</pre>\n"
            ]
          },
          "metadata": {}
        },
        {
          "output_type": "display_data",
          "data": {
            "text/plain": [
              "\u001b[3m              Vanity Van Food Options (2 Days)              \u001b[0m\n",
              "┏━━━━━━━━━━━━━┳━━━━━━━━━━┳━━━━━━━━━━━━━━━━━━━━━━━━━━━━━━━━━┓\n",
              "┃\u001b[1m \u001b[0m\u001b[1mOption     \u001b[0m\u001b[1m \u001b[0m┃\u001b[1m \u001b[0m\u001b[1mCost (₹)\u001b[0m\u001b[1m \u001b[0m┃\u001b[1m \u001b[0m\u001b[1mNotes                          \u001b[0m\u001b[1m \u001b[0m┃\n",
              "┡━━━━━━━━━━━━━╇━━━━━━━━━━╇━━━━━━━━━━━━━━━━━━━━━━━━━━━━━━━━━┩\n",
              "│\u001b[36m \u001b[0m\u001b[36mCook Self  \u001b[0m\u001b[36m \u001b[0m│\u001b[32m \u001b[0m\u001b[32m1,000   \u001b[0m\u001b[32m \u001b[0m│\u001b[33m \u001b[0m\u001b[33mIncludes groceries and supplies\u001b[0m\u001b[33m \u001b[0m│\n",
              "│\u001b[36m \u001b[0m\u001b[36mEat Outside\u001b[0m\u001b[36m \u001b[0m│\u001b[32m \u001b[0m\u001b[32m2,000   \u001b[0m\u001b[32m \u001b[0m│\u001b[33m \u001b[0m\u001b[33mRestaurant meals               \u001b[0m\u001b[33m \u001b[0m│\n",
              "└─────────────┴──────────┴─────────────────────────────────┘\n"
            ],
            "text/html": [
              "<pre style=\"white-space:pre;overflow-x:auto;line-height:normal;font-family:Menlo,'DejaVu Sans Mono',consolas,'Courier New',monospace\"><span style=\"font-style: italic\">              Vanity Van Food Options (2 Days)              </span>\n",
              "┏━━━━━━━━━━━━━┳━━━━━━━━━━┳━━━━━━━━━━━━━━━━━━━━━━━━━━━━━━━━━┓\n",
              "┃<span style=\"font-weight: bold\"> Option      </span>┃<span style=\"font-weight: bold\"> Cost (₹) </span>┃<span style=\"font-weight: bold\"> Notes                           </span>┃\n",
              "┡━━━━━━━━━━━━━╇━━━━━━━━━━╇━━━━━━━━━━━━━━━━━━━━━━━━━━━━━━━━━┩\n",
              "│<span style=\"color: #008080; text-decoration-color: #008080\"> Cook Self   </span>│<span style=\"color: #008000; text-decoration-color: #008000\"> 1,000    </span>│<span style=\"color: #808000; text-decoration-color: #808000\"> Includes groceries and supplies </span>│\n",
              "│<span style=\"color: #008080; text-decoration-color: #008080\"> Eat Outside </span>│<span style=\"color: #008000; text-decoration-color: #008000\"> 2,000    </span>│<span style=\"color: #808000; text-decoration-color: #808000\"> Restaurant meals                </span>│\n",
              "└─────────────┴──────────┴─────────────────────────────────┘\n",
              "</pre>\n"
            ]
          },
          "metadata": {}
        },
        {
          "output_type": "stream",
          "name": "stdout",
          "text": [
            "\n",
            "=== Sample Itineraries ===\n"
          ]
        }
      ]
    },
    {
      "cell_type": "code",
      "source": [
        "# Example calculations\n",
        "print(\"\\n1. Luxury Option:\")\n",
        "cost, path = planner.calculate_total_cost('flight', 'westin')\n",
        "for step in path:\n",
        "    print(step)"
      ],
      "metadata": {
        "colab": {
          "base_uri": "https://localhost:8080/"
        },
        "id": "SR2DtO3Mou5Y",
        "outputId": "f819dc8f-3ee0-4813-9431-2995db2321ed"
      },
      "execution_count": null,
      "outputs": [
        {
          "output_type": "stream",
          "name": "stdout",
          "text": [
            "\n",
            "1. Luxury Option:\n",
            "Transport: Flight (₹5,000)\n",
            "Hotel: Westin - 2 days\n",
            "  - Stay: ₹8,000 × 2 = ₹16,000\n",
            "  - Food: ₹2,000 × 2 = ₹4,000\n",
            "Total Cost: ₹25,000\n"
          ]
        }
      ]
    },
    {
      "cell_type": "code",
      "source": [
        "print(\"\\n2. Mid-Range Option:\")\n",
        "cost, path = planner.calculate_total_cost('train', 'kenilworth')\n",
        "for step in path:\n",
        "    print(step)"
      ],
      "metadata": {
        "colab": {
          "base_uri": "https://localhost:8080/"
        },
        "id": "0BEAPXr1o0LV",
        "outputId": "7295961b-3ba2-4ad7-8e26-a862ae1de6bb"
      },
      "execution_count": null,
      "outputs": [
        {
          "output_type": "stream",
          "name": "stdout",
          "text": [
            "\n",
            "2. Mid-Range Option:\n",
            "Transport: Train (₹1,500)\n",
            "Hotel: Kenilworth - 2 days\n",
            "  - Stay: ₹6,000 × 2 = ₹12,000\n",
            "  - Food: ₹1,500 × 2 = ₹3,000\n",
            "Total Cost: ₹16,500\n"
          ]
        }
      ]
    },
    {
      "cell_type": "code",
      "source": [
        "print(\"\\n3. Budget Option:\")\n",
        "cost, path = planner.calculate_total_cost('bus', 'maria_rica')\n",
        "for step in path:\n",
        "    print(step)"
      ],
      "metadata": {
        "colab": {
          "base_uri": "https://localhost:8080/"
        },
        "id": "a3_FQfxyo8OL",
        "outputId": "04b440bf-0eeb-4bbb-a96e-0a4c0b5a1fd9"
      },
      "execution_count": null,
      "outputs": [
        {
          "output_type": "stream",
          "name": "stdout",
          "text": [
            "\n",
            "3. Budget Option:\n",
            "Transport: Bus (₹800)\n",
            "Hotel: Maria Rica - 2 days\n",
            "  - Stay: ₹4,000 × 2 = ₹8,000\n",
            "  - Food: ₹1,000 × 2 = ₹2,000\n",
            "Total Cost: ₹10,800\n"
          ]
        }
      ]
    },
    {
      "cell_type": "code",
      "source": [
        "print(\"\\n4. Vanity Van Option:\")\n",
        "cost, path = planner.calculate_total_cost('vanity', vanity_food='cook')\n",
        "for step in path:\n",
        "    print(step)"
      ],
      "metadata": {
        "colab": {
          "base_uri": "https://localhost:8080/"
        },
        "id": "8HRMeBwKpCq0",
        "outputId": "8dfd7f16-60b2-4f06-fe1e-114bd8545a72"
      },
      "execution_count": null,
      "outputs": [
        {
          "output_type": "stream",
          "name": "stdout",
          "text": [
            "\n",
            "4. Vanity Van Option:\n",
            "Transport: Vanity Van (₹12,000)\n",
            "Vanity Food: Cook Self (₹1,000)\n",
            "Total Cost: ₹13,000\n"
          ]
        }
      ]
    },
    {
      "cell_type": "code",
      "source": [
        "print(\"\\nCheapest Option:\")\n",
        "min_cost, best_path = planner.find_cheapest_option()\n",
        "for step in best_path:\n",
        "    print(step)"
      ],
      "metadata": {
        "colab": {
          "base_uri": "https://localhost:8080/"
        },
        "id": "vxZvRHhkpHhQ",
        "outputId": "3763b1c3-48dc-4bc7-de38-5731c80bb225"
      },
      "execution_count": null,
      "outputs": [
        {
          "output_type": "stream",
          "name": "stdout",
          "text": [
            "\n",
            "Cheapest Option:\n",
            "Transport: Bus (₹800)\n",
            "Hotel: Maria Rica - 2 days\n",
            "  - Stay: ₹4,000 × 2 = ₹8,000\n",
            "  - Food: ₹1,000 × 2 = ₹2,000\n",
            "Total Cost: ₹10,800\n"
          ]
        }
      ]
    },
    {
      "cell_type": "code",
      "source": [],
      "metadata": {
        "id": "TCqbMvIRpKgC"
      },
      "execution_count": null,
      "outputs": []
    }
  ]
}