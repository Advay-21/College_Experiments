{
  "nbformat": 4,
  "nbformat_minor": 0,
  "metadata": {
    "colab": {
      "provenance": [],
      "gpuType": "T4",
      "authorship_tag": "ABX9TyPgMUQcExYmr4N3O7dUvrYK",
      "include_colab_link": true
    },
    "kernelspec": {
      "name": "python3",
      "display_name": "Python 3"
    },
    "language_info": {
      "name": "python"
    },
    "widgets": {
      "application/vnd.jupyter.widget-state+json": {
        "943a2c7da3ad47b88ad361abff5e02df": {
          "model_module": "@jupyter-widgets/controls",
          "model_name": "HBoxModel",
          "model_module_version": "1.5.0",
          "state": {
            "_dom_classes": [],
            "_model_module": "@jupyter-widgets/controls",
            "_model_module_version": "1.5.0",
            "_model_name": "HBoxModel",
            "_view_count": null,
            "_view_module": "@jupyter-widgets/controls",
            "_view_module_version": "1.5.0",
            "_view_name": "HBoxView",
            "box_style": "",
            "children": [
              "IPY_MODEL_f414820da2cb443f940262a9f6bb5d54",
              "IPY_MODEL_562282716299476d83422ec193aff5c8",
              "IPY_MODEL_29fe1fa0c24144b184cde061660495fb"
            ],
            "layout": "IPY_MODEL_8c098b4214064ccf888cb81635ee9848"
          }
        },
        "f414820da2cb443f940262a9f6bb5d54": {
          "model_module": "@jupyter-widgets/controls",
          "model_name": "HTMLModel",
          "model_module_version": "1.5.0",
          "state": {
            "_dom_classes": [],
            "_model_module": "@jupyter-widgets/controls",
            "_model_module_version": "1.5.0",
            "_model_name": "HTMLModel",
            "_view_count": null,
            "_view_module": "@jupyter-widgets/controls",
            "_view_module_version": "1.5.0",
            "_view_name": "HTMLView",
            "description": "",
            "description_tooltip": null,
            "layout": "IPY_MODEL_c6a5a46d8bd049daa54b9a8427541921",
            "placeholder": "​",
            "style": "IPY_MODEL_fe21747864d04b85859023d1384bd6ee",
            "value": "tokenizer_config.json: 100%"
          }
        },
        "562282716299476d83422ec193aff5c8": {
          "model_module": "@jupyter-widgets/controls",
          "model_name": "FloatProgressModel",
          "model_module_version": "1.5.0",
          "state": {
            "_dom_classes": [],
            "_model_module": "@jupyter-widgets/controls",
            "_model_module_version": "1.5.0",
            "_model_name": "FloatProgressModel",
            "_view_count": null,
            "_view_module": "@jupyter-widgets/controls",
            "_view_module_version": "1.5.0",
            "_view_name": "ProgressView",
            "bar_style": "success",
            "description": "",
            "description_tooltip": null,
            "layout": "IPY_MODEL_2741e8b5ce9545bf86e79c1844f2dd37",
            "max": 26,
            "min": 0,
            "orientation": "horizontal",
            "style": "IPY_MODEL_a07268153d944a8181fc42df2a7d4b68",
            "value": 26
          }
        },
        "29fe1fa0c24144b184cde061660495fb": {
          "model_module": "@jupyter-widgets/controls",
          "model_name": "HTMLModel",
          "model_module_version": "1.5.0",
          "state": {
            "_dom_classes": [],
            "_model_module": "@jupyter-widgets/controls",
            "_model_module_version": "1.5.0",
            "_model_name": "HTMLModel",
            "_view_count": null,
            "_view_module": "@jupyter-widgets/controls",
            "_view_module_version": "1.5.0",
            "_view_name": "HTMLView",
            "description": "",
            "description_tooltip": null,
            "layout": "IPY_MODEL_1c42c38e5a6d4f0cb199cfd9d6899f2e",
            "placeholder": "​",
            "style": "IPY_MODEL_14fce197dbe447e88fc112202d244ff2",
            "value": " 26.0/26.0 [00:00&lt;00:00, 521B/s]"
          }
        },
        "8c098b4214064ccf888cb81635ee9848": {
          "model_module": "@jupyter-widgets/base",
          "model_name": "LayoutModel",
          "model_module_version": "1.2.0",
          "state": {
            "_model_module": "@jupyter-widgets/base",
            "_model_module_version": "1.2.0",
            "_model_name": "LayoutModel",
            "_view_count": null,
            "_view_module": "@jupyter-widgets/base",
            "_view_module_version": "1.2.0",
            "_view_name": "LayoutView",
            "align_content": null,
            "align_items": null,
            "align_self": null,
            "border": null,
            "bottom": null,
            "display": null,
            "flex": null,
            "flex_flow": null,
            "grid_area": null,
            "grid_auto_columns": null,
            "grid_auto_flow": null,
            "grid_auto_rows": null,
            "grid_column": null,
            "grid_gap": null,
            "grid_row": null,
            "grid_template_areas": null,
            "grid_template_columns": null,
            "grid_template_rows": null,
            "height": null,
            "justify_content": null,
            "justify_items": null,
            "left": null,
            "margin": null,
            "max_height": null,
            "max_width": null,
            "min_height": null,
            "min_width": null,
            "object_fit": null,
            "object_position": null,
            "order": null,
            "overflow": null,
            "overflow_x": null,
            "overflow_y": null,
            "padding": null,
            "right": null,
            "top": null,
            "visibility": null,
            "width": null
          }
        },
        "c6a5a46d8bd049daa54b9a8427541921": {
          "model_module": "@jupyter-widgets/base",
          "model_name": "LayoutModel",
          "model_module_version": "1.2.0",
          "state": {
            "_model_module": "@jupyter-widgets/base",
            "_model_module_version": "1.2.0",
            "_model_name": "LayoutModel",
            "_view_count": null,
            "_view_module": "@jupyter-widgets/base",
            "_view_module_version": "1.2.0",
            "_view_name": "LayoutView",
            "align_content": null,
            "align_items": null,
            "align_self": null,
            "border": null,
            "bottom": null,
            "display": null,
            "flex": null,
            "flex_flow": null,
            "grid_area": null,
            "grid_auto_columns": null,
            "grid_auto_flow": null,
            "grid_auto_rows": null,
            "grid_column": null,
            "grid_gap": null,
            "grid_row": null,
            "grid_template_areas": null,
            "grid_template_columns": null,
            "grid_template_rows": null,
            "height": null,
            "justify_content": null,
            "justify_items": null,
            "left": null,
            "margin": null,
            "max_height": null,
            "max_width": null,
            "min_height": null,
            "min_width": null,
            "object_fit": null,
            "object_position": null,
            "order": null,
            "overflow": null,
            "overflow_x": null,
            "overflow_y": null,
            "padding": null,
            "right": null,
            "top": null,
            "visibility": null,
            "width": null
          }
        },
        "fe21747864d04b85859023d1384bd6ee": {
          "model_module": "@jupyter-widgets/controls",
          "model_name": "DescriptionStyleModel",
          "model_module_version": "1.5.0",
          "state": {
            "_model_module": "@jupyter-widgets/controls",
            "_model_module_version": "1.5.0",
            "_model_name": "DescriptionStyleModel",
            "_view_count": null,
            "_view_module": "@jupyter-widgets/base",
            "_view_module_version": "1.2.0",
            "_view_name": "StyleView",
            "description_width": ""
          }
        },
        "2741e8b5ce9545bf86e79c1844f2dd37": {
          "model_module": "@jupyter-widgets/base",
          "model_name": "LayoutModel",
          "model_module_version": "1.2.0",
          "state": {
            "_model_module": "@jupyter-widgets/base",
            "_model_module_version": "1.2.0",
            "_model_name": "LayoutModel",
            "_view_count": null,
            "_view_module": "@jupyter-widgets/base",
            "_view_module_version": "1.2.0",
            "_view_name": "LayoutView",
            "align_content": null,
            "align_items": null,
            "align_self": null,
            "border": null,
            "bottom": null,
            "display": null,
            "flex": null,
            "flex_flow": null,
            "grid_area": null,
            "grid_auto_columns": null,
            "grid_auto_flow": null,
            "grid_auto_rows": null,
            "grid_column": null,
            "grid_gap": null,
            "grid_row": null,
            "grid_template_areas": null,
            "grid_template_columns": null,
            "grid_template_rows": null,
            "height": null,
            "justify_content": null,
            "justify_items": null,
            "left": null,
            "margin": null,
            "max_height": null,
            "max_width": null,
            "min_height": null,
            "min_width": null,
            "object_fit": null,
            "object_position": null,
            "order": null,
            "overflow": null,
            "overflow_x": null,
            "overflow_y": null,
            "padding": null,
            "right": null,
            "top": null,
            "visibility": null,
            "width": null
          }
        },
        "a07268153d944a8181fc42df2a7d4b68": {
          "model_module": "@jupyter-widgets/controls",
          "model_name": "ProgressStyleModel",
          "model_module_version": "1.5.0",
          "state": {
            "_model_module": "@jupyter-widgets/controls",
            "_model_module_version": "1.5.0",
            "_model_name": "ProgressStyleModel",
            "_view_count": null,
            "_view_module": "@jupyter-widgets/base",
            "_view_module_version": "1.2.0",
            "_view_name": "StyleView",
            "bar_color": null,
            "description_width": ""
          }
        },
        "1c42c38e5a6d4f0cb199cfd9d6899f2e": {
          "model_module": "@jupyter-widgets/base",
          "model_name": "LayoutModel",
          "model_module_version": "1.2.0",
          "state": {
            "_model_module": "@jupyter-widgets/base",
            "_model_module_version": "1.2.0",
            "_model_name": "LayoutModel",
            "_view_count": null,
            "_view_module": "@jupyter-widgets/base",
            "_view_module_version": "1.2.0",
            "_view_name": "LayoutView",
            "align_content": null,
            "align_items": null,
            "align_self": null,
            "border": null,
            "bottom": null,
            "display": null,
            "flex": null,
            "flex_flow": null,
            "grid_area": null,
            "grid_auto_columns": null,
            "grid_auto_flow": null,
            "grid_auto_rows": null,
            "grid_column": null,
            "grid_gap": null,
            "grid_row": null,
            "grid_template_areas": null,
            "grid_template_columns": null,
            "grid_template_rows": null,
            "height": null,
            "justify_content": null,
            "justify_items": null,
            "left": null,
            "margin": null,
            "max_height": null,
            "max_width": null,
            "min_height": null,
            "min_width": null,
            "object_fit": null,
            "object_position": null,
            "order": null,
            "overflow": null,
            "overflow_x": null,
            "overflow_y": null,
            "padding": null,
            "right": null,
            "top": null,
            "visibility": null,
            "width": null
          }
        },
        "14fce197dbe447e88fc112202d244ff2": {
          "model_module": "@jupyter-widgets/controls",
          "model_name": "DescriptionStyleModel",
          "model_module_version": "1.5.0",
          "state": {
            "_model_module": "@jupyter-widgets/controls",
            "_model_module_version": "1.5.0",
            "_model_name": "DescriptionStyleModel",
            "_view_count": null,
            "_view_module": "@jupyter-widgets/base",
            "_view_module_version": "1.2.0",
            "_view_name": "StyleView",
            "description_width": ""
          }
        },
        "4f0ede2a66624866abefb8ba3f4a9dd9": {
          "model_module": "@jupyter-widgets/controls",
          "model_name": "HBoxModel",
          "model_module_version": "1.5.0",
          "state": {
            "_dom_classes": [],
            "_model_module": "@jupyter-widgets/controls",
            "_model_module_version": "1.5.0",
            "_model_name": "HBoxModel",
            "_view_count": null,
            "_view_module": "@jupyter-widgets/controls",
            "_view_module_version": "1.5.0",
            "_view_name": "HBoxView",
            "box_style": "",
            "children": [
              "IPY_MODEL_9822f23e367f420b8018f0c4694598a7",
              "IPY_MODEL_334f293ddb7440dba2f8069a26f2bcb5",
              "IPY_MODEL_2b1de828f64648608837e5971f000b77"
            ],
            "layout": "IPY_MODEL_85cfc79d0e9940cf9be5e6c6de6fabb9"
          }
        },
        "9822f23e367f420b8018f0c4694598a7": {
          "model_module": "@jupyter-widgets/controls",
          "model_name": "HTMLModel",
          "model_module_version": "1.5.0",
          "state": {
            "_dom_classes": [],
            "_model_module": "@jupyter-widgets/controls",
            "_model_module_version": "1.5.0",
            "_model_name": "HTMLModel",
            "_view_count": null,
            "_view_module": "@jupyter-widgets/controls",
            "_view_module_version": "1.5.0",
            "_view_name": "HTMLView",
            "description": "",
            "description_tooltip": null,
            "layout": "IPY_MODEL_15186414d55047f083b46bdf8805cd8d",
            "placeholder": "​",
            "style": "IPY_MODEL_9d4f0c3a6cb04f50bcea9fe790a82360",
            "value": "vocab.json: 100%"
          }
        },
        "334f293ddb7440dba2f8069a26f2bcb5": {
          "model_module": "@jupyter-widgets/controls",
          "model_name": "FloatProgressModel",
          "model_module_version": "1.5.0",
          "state": {
            "_dom_classes": [],
            "_model_module": "@jupyter-widgets/controls",
            "_model_module_version": "1.5.0",
            "_model_name": "FloatProgressModel",
            "_view_count": null,
            "_view_module": "@jupyter-widgets/controls",
            "_view_module_version": "1.5.0",
            "_view_name": "ProgressView",
            "bar_style": "success",
            "description": "",
            "description_tooltip": null,
            "layout": "IPY_MODEL_dc3016091dfb48fab2f5e2fd74cff459",
            "max": 1042301,
            "min": 0,
            "orientation": "horizontal",
            "style": "IPY_MODEL_0cadbbe2c81148b9b95c67160d99c40f",
            "value": 1042301
          }
        },
        "2b1de828f64648608837e5971f000b77": {
          "model_module": "@jupyter-widgets/controls",
          "model_name": "HTMLModel",
          "model_module_version": "1.5.0",
          "state": {
            "_dom_classes": [],
            "_model_module": "@jupyter-widgets/controls",
            "_model_module_version": "1.5.0",
            "_model_name": "HTMLModel",
            "_view_count": null,
            "_view_module": "@jupyter-widgets/controls",
            "_view_module_version": "1.5.0",
            "_view_name": "HTMLView",
            "description": "",
            "description_tooltip": null,
            "layout": "IPY_MODEL_0f5df17b2a1c44f7a91aacd82123eb2d",
            "placeholder": "​",
            "style": "IPY_MODEL_0e8be28ee7554c03958282d732f7d01b",
            "value": " 1.04M/1.04M [00:00&lt;00:00, 4.48MB/s]"
          }
        },
        "85cfc79d0e9940cf9be5e6c6de6fabb9": {
          "model_module": "@jupyter-widgets/base",
          "model_name": "LayoutModel",
          "model_module_version": "1.2.0",
          "state": {
            "_model_module": "@jupyter-widgets/base",
            "_model_module_version": "1.2.0",
            "_model_name": "LayoutModel",
            "_view_count": null,
            "_view_module": "@jupyter-widgets/base",
            "_view_module_version": "1.2.0",
            "_view_name": "LayoutView",
            "align_content": null,
            "align_items": null,
            "align_self": null,
            "border": null,
            "bottom": null,
            "display": null,
            "flex": null,
            "flex_flow": null,
            "grid_area": null,
            "grid_auto_columns": null,
            "grid_auto_flow": null,
            "grid_auto_rows": null,
            "grid_column": null,
            "grid_gap": null,
            "grid_row": null,
            "grid_template_areas": null,
            "grid_template_columns": null,
            "grid_template_rows": null,
            "height": null,
            "justify_content": null,
            "justify_items": null,
            "left": null,
            "margin": null,
            "max_height": null,
            "max_width": null,
            "min_height": null,
            "min_width": null,
            "object_fit": null,
            "object_position": null,
            "order": null,
            "overflow": null,
            "overflow_x": null,
            "overflow_y": null,
            "padding": null,
            "right": null,
            "top": null,
            "visibility": null,
            "width": null
          }
        },
        "15186414d55047f083b46bdf8805cd8d": {
          "model_module": "@jupyter-widgets/base",
          "model_name": "LayoutModel",
          "model_module_version": "1.2.0",
          "state": {
            "_model_module": "@jupyter-widgets/base",
            "_model_module_version": "1.2.0",
            "_model_name": "LayoutModel",
            "_view_count": null,
            "_view_module": "@jupyter-widgets/base",
            "_view_module_version": "1.2.0",
            "_view_name": "LayoutView",
            "align_content": null,
            "align_items": null,
            "align_self": null,
            "border": null,
            "bottom": null,
            "display": null,
            "flex": null,
            "flex_flow": null,
            "grid_area": null,
            "grid_auto_columns": null,
            "grid_auto_flow": null,
            "grid_auto_rows": null,
            "grid_column": null,
            "grid_gap": null,
            "grid_row": null,
            "grid_template_areas": null,
            "grid_template_columns": null,
            "grid_template_rows": null,
            "height": null,
            "justify_content": null,
            "justify_items": null,
            "left": null,
            "margin": null,
            "max_height": null,
            "max_width": null,
            "min_height": null,
            "min_width": null,
            "object_fit": null,
            "object_position": null,
            "order": null,
            "overflow": null,
            "overflow_x": null,
            "overflow_y": null,
            "padding": null,
            "right": null,
            "top": null,
            "visibility": null,
            "width": null
          }
        },
        "9d4f0c3a6cb04f50bcea9fe790a82360": {
          "model_module": "@jupyter-widgets/controls",
          "model_name": "DescriptionStyleModel",
          "model_module_version": "1.5.0",
          "state": {
            "_model_module": "@jupyter-widgets/controls",
            "_model_module_version": "1.5.0",
            "_model_name": "DescriptionStyleModel",
            "_view_count": null,
            "_view_module": "@jupyter-widgets/base",
            "_view_module_version": "1.2.0",
            "_view_name": "StyleView",
            "description_width": ""
          }
        },
        "dc3016091dfb48fab2f5e2fd74cff459": {
          "model_module": "@jupyter-widgets/base",
          "model_name": "LayoutModel",
          "model_module_version": "1.2.0",
          "state": {
            "_model_module": "@jupyter-widgets/base",
            "_model_module_version": "1.2.0",
            "_model_name": "LayoutModel",
            "_view_count": null,
            "_view_module": "@jupyter-widgets/base",
            "_view_module_version": "1.2.0",
            "_view_name": "LayoutView",
            "align_content": null,
            "align_items": null,
            "align_self": null,
            "border": null,
            "bottom": null,
            "display": null,
            "flex": null,
            "flex_flow": null,
            "grid_area": null,
            "grid_auto_columns": null,
            "grid_auto_flow": null,
            "grid_auto_rows": null,
            "grid_column": null,
            "grid_gap": null,
            "grid_row": null,
            "grid_template_areas": null,
            "grid_template_columns": null,
            "grid_template_rows": null,
            "height": null,
            "justify_content": null,
            "justify_items": null,
            "left": null,
            "margin": null,
            "max_height": null,
            "max_width": null,
            "min_height": null,
            "min_width": null,
            "object_fit": null,
            "object_position": null,
            "order": null,
            "overflow": null,
            "overflow_x": null,
            "overflow_y": null,
            "padding": null,
            "right": null,
            "top": null,
            "visibility": null,
            "width": null
          }
        },
        "0cadbbe2c81148b9b95c67160d99c40f": {
          "model_module": "@jupyter-widgets/controls",
          "model_name": "ProgressStyleModel",
          "model_module_version": "1.5.0",
          "state": {
            "_model_module": "@jupyter-widgets/controls",
            "_model_module_version": "1.5.0",
            "_model_name": "ProgressStyleModel",
            "_view_count": null,
            "_view_module": "@jupyter-widgets/base",
            "_view_module_version": "1.2.0",
            "_view_name": "StyleView",
            "bar_color": null,
            "description_width": ""
          }
        },
        "0f5df17b2a1c44f7a91aacd82123eb2d": {
          "model_module": "@jupyter-widgets/base",
          "model_name": "LayoutModel",
          "model_module_version": "1.2.0",
          "state": {
            "_model_module": "@jupyter-widgets/base",
            "_model_module_version": "1.2.0",
            "_model_name": "LayoutModel",
            "_view_count": null,
            "_view_module": "@jupyter-widgets/base",
            "_view_module_version": "1.2.0",
            "_view_name": "LayoutView",
            "align_content": null,
            "align_items": null,
            "align_self": null,
            "border": null,
            "bottom": null,
            "display": null,
            "flex": null,
            "flex_flow": null,
            "grid_area": null,
            "grid_auto_columns": null,
            "grid_auto_flow": null,
            "grid_auto_rows": null,
            "grid_column": null,
            "grid_gap": null,
            "grid_row": null,
            "grid_template_areas": null,
            "grid_template_columns": null,
            "grid_template_rows": null,
            "height": null,
            "justify_content": null,
            "justify_items": null,
            "left": null,
            "margin": null,
            "max_height": null,
            "max_width": null,
            "min_height": null,
            "min_width": null,
            "object_fit": null,
            "object_position": null,
            "order": null,
            "overflow": null,
            "overflow_x": null,
            "overflow_y": null,
            "padding": null,
            "right": null,
            "top": null,
            "visibility": null,
            "width": null
          }
        },
        "0e8be28ee7554c03958282d732f7d01b": {
          "model_module": "@jupyter-widgets/controls",
          "model_name": "DescriptionStyleModel",
          "model_module_version": "1.5.0",
          "state": {
            "_model_module": "@jupyter-widgets/controls",
            "_model_module_version": "1.5.0",
            "_model_name": "DescriptionStyleModel",
            "_view_count": null,
            "_view_module": "@jupyter-widgets/base",
            "_view_module_version": "1.2.0",
            "_view_name": "StyleView",
            "description_width": ""
          }
        },
        "1e5b28452f0745378b8b62c4ac075046": {
          "model_module": "@jupyter-widgets/controls",
          "model_name": "HBoxModel",
          "model_module_version": "1.5.0",
          "state": {
            "_dom_classes": [],
            "_model_module": "@jupyter-widgets/controls",
            "_model_module_version": "1.5.0",
            "_model_name": "HBoxModel",
            "_view_count": null,
            "_view_module": "@jupyter-widgets/controls",
            "_view_module_version": "1.5.0",
            "_view_name": "HBoxView",
            "box_style": "",
            "children": [
              "IPY_MODEL_d3eb6b28dd764dae8f6795e2646a733c",
              "IPY_MODEL_c4be76eeda0047258c518e5056a82a27",
              "IPY_MODEL_796bcfb7659547788a964633bd29c130"
            ],
            "layout": "IPY_MODEL_8c3f97791f574512b6c5119c8d879d4f"
          }
        },
        "d3eb6b28dd764dae8f6795e2646a733c": {
          "model_module": "@jupyter-widgets/controls",
          "model_name": "HTMLModel",
          "model_module_version": "1.5.0",
          "state": {
            "_dom_classes": [],
            "_model_module": "@jupyter-widgets/controls",
            "_model_module_version": "1.5.0",
            "_model_name": "HTMLModel",
            "_view_count": null,
            "_view_module": "@jupyter-widgets/controls",
            "_view_module_version": "1.5.0",
            "_view_name": "HTMLView",
            "description": "",
            "description_tooltip": null,
            "layout": "IPY_MODEL_0a2f42f5b31d41608c2073c778a9818f",
            "placeholder": "​",
            "style": "IPY_MODEL_4b0b64f0f5274498a9680d3bb355f750",
            "value": "merges.txt: 100%"
          }
        },
        "c4be76eeda0047258c518e5056a82a27": {
          "model_module": "@jupyter-widgets/controls",
          "model_name": "FloatProgressModel",
          "model_module_version": "1.5.0",
          "state": {
            "_dom_classes": [],
            "_model_module": "@jupyter-widgets/controls",
            "_model_module_version": "1.5.0",
            "_model_name": "FloatProgressModel",
            "_view_count": null,
            "_view_module": "@jupyter-widgets/controls",
            "_view_module_version": "1.5.0",
            "_view_name": "ProgressView",
            "bar_style": "success",
            "description": "",
            "description_tooltip": null,
            "layout": "IPY_MODEL_145c621b63dd407da48cbe92f5c22e40",
            "max": 456318,
            "min": 0,
            "orientation": "horizontal",
            "style": "IPY_MODEL_6daf40a3ad6c4ffeaed648110b096f4e",
            "value": 456318
          }
        },
        "796bcfb7659547788a964633bd29c130": {
          "model_module": "@jupyter-widgets/controls",
          "model_name": "HTMLModel",
          "model_module_version": "1.5.0",
          "state": {
            "_dom_classes": [],
            "_model_module": "@jupyter-widgets/controls",
            "_model_module_version": "1.5.0",
            "_model_name": "HTMLModel",
            "_view_count": null,
            "_view_module": "@jupyter-widgets/controls",
            "_view_module_version": "1.5.0",
            "_view_name": "HTMLView",
            "description": "",
            "description_tooltip": null,
            "layout": "IPY_MODEL_a935dd3945284bc8a524fe0edaa68913",
            "placeholder": "​",
            "style": "IPY_MODEL_de0e82cefa6b4cad9b46dc7e79043cdf",
            "value": " 456k/456k [00:00&lt;00:00, 6.62MB/s]"
          }
        },
        "8c3f97791f574512b6c5119c8d879d4f": {
          "model_module": "@jupyter-widgets/base",
          "model_name": "LayoutModel",
          "model_module_version": "1.2.0",
          "state": {
            "_model_module": "@jupyter-widgets/base",
            "_model_module_version": "1.2.0",
            "_model_name": "LayoutModel",
            "_view_count": null,
            "_view_module": "@jupyter-widgets/base",
            "_view_module_version": "1.2.0",
            "_view_name": "LayoutView",
            "align_content": null,
            "align_items": null,
            "align_self": null,
            "border": null,
            "bottom": null,
            "display": null,
            "flex": null,
            "flex_flow": null,
            "grid_area": null,
            "grid_auto_columns": null,
            "grid_auto_flow": null,
            "grid_auto_rows": null,
            "grid_column": null,
            "grid_gap": null,
            "grid_row": null,
            "grid_template_areas": null,
            "grid_template_columns": null,
            "grid_template_rows": null,
            "height": null,
            "justify_content": null,
            "justify_items": null,
            "left": null,
            "margin": null,
            "max_height": null,
            "max_width": null,
            "min_height": null,
            "min_width": null,
            "object_fit": null,
            "object_position": null,
            "order": null,
            "overflow": null,
            "overflow_x": null,
            "overflow_y": null,
            "padding": null,
            "right": null,
            "top": null,
            "visibility": null,
            "width": null
          }
        },
        "0a2f42f5b31d41608c2073c778a9818f": {
          "model_module": "@jupyter-widgets/base",
          "model_name": "LayoutModel",
          "model_module_version": "1.2.0",
          "state": {
            "_model_module": "@jupyter-widgets/base",
            "_model_module_version": "1.2.0",
            "_model_name": "LayoutModel",
            "_view_count": null,
            "_view_module": "@jupyter-widgets/base",
            "_view_module_version": "1.2.0",
            "_view_name": "LayoutView",
            "align_content": null,
            "align_items": null,
            "align_self": null,
            "border": null,
            "bottom": null,
            "display": null,
            "flex": null,
            "flex_flow": null,
            "grid_area": null,
            "grid_auto_columns": null,
            "grid_auto_flow": null,
            "grid_auto_rows": null,
            "grid_column": null,
            "grid_gap": null,
            "grid_row": null,
            "grid_template_areas": null,
            "grid_template_columns": null,
            "grid_template_rows": null,
            "height": null,
            "justify_content": null,
            "justify_items": null,
            "left": null,
            "margin": null,
            "max_height": null,
            "max_width": null,
            "min_height": null,
            "min_width": null,
            "object_fit": null,
            "object_position": null,
            "order": null,
            "overflow": null,
            "overflow_x": null,
            "overflow_y": null,
            "padding": null,
            "right": null,
            "top": null,
            "visibility": null,
            "width": null
          }
        },
        "4b0b64f0f5274498a9680d3bb355f750": {
          "model_module": "@jupyter-widgets/controls",
          "model_name": "DescriptionStyleModel",
          "model_module_version": "1.5.0",
          "state": {
            "_model_module": "@jupyter-widgets/controls",
            "_model_module_version": "1.5.0",
            "_model_name": "DescriptionStyleModel",
            "_view_count": null,
            "_view_module": "@jupyter-widgets/base",
            "_view_module_version": "1.2.0",
            "_view_name": "StyleView",
            "description_width": ""
          }
        },
        "145c621b63dd407da48cbe92f5c22e40": {
          "model_module": "@jupyter-widgets/base",
          "model_name": "LayoutModel",
          "model_module_version": "1.2.0",
          "state": {
            "_model_module": "@jupyter-widgets/base",
            "_model_module_version": "1.2.0",
            "_model_name": "LayoutModel",
            "_view_count": null,
            "_view_module": "@jupyter-widgets/base",
            "_view_module_version": "1.2.0",
            "_view_name": "LayoutView",
            "align_content": null,
            "align_items": null,
            "align_self": null,
            "border": null,
            "bottom": null,
            "display": null,
            "flex": null,
            "flex_flow": null,
            "grid_area": null,
            "grid_auto_columns": null,
            "grid_auto_flow": null,
            "grid_auto_rows": null,
            "grid_column": null,
            "grid_gap": null,
            "grid_row": null,
            "grid_template_areas": null,
            "grid_template_columns": null,
            "grid_template_rows": null,
            "height": null,
            "justify_content": null,
            "justify_items": null,
            "left": null,
            "margin": null,
            "max_height": null,
            "max_width": null,
            "min_height": null,
            "min_width": null,
            "object_fit": null,
            "object_position": null,
            "order": null,
            "overflow": null,
            "overflow_x": null,
            "overflow_y": null,
            "padding": null,
            "right": null,
            "top": null,
            "visibility": null,
            "width": null
          }
        },
        "6daf40a3ad6c4ffeaed648110b096f4e": {
          "model_module": "@jupyter-widgets/controls",
          "model_name": "ProgressStyleModel",
          "model_module_version": "1.5.0",
          "state": {
            "_model_module": "@jupyter-widgets/controls",
            "_model_module_version": "1.5.0",
            "_model_name": "ProgressStyleModel",
            "_view_count": null,
            "_view_module": "@jupyter-widgets/base",
            "_view_module_version": "1.2.0",
            "_view_name": "StyleView",
            "bar_color": null,
            "description_width": ""
          }
        },
        "a935dd3945284bc8a524fe0edaa68913": {
          "model_module": "@jupyter-widgets/base",
          "model_name": "LayoutModel",
          "model_module_version": "1.2.0",
          "state": {
            "_model_module": "@jupyter-widgets/base",
            "_model_module_version": "1.2.0",
            "_model_name": "LayoutModel",
            "_view_count": null,
            "_view_module": "@jupyter-widgets/base",
            "_view_module_version": "1.2.0",
            "_view_name": "LayoutView",
            "align_content": null,
            "align_items": null,
            "align_self": null,
            "border": null,
            "bottom": null,
            "display": null,
            "flex": null,
            "flex_flow": null,
            "grid_area": null,
            "grid_auto_columns": null,
            "grid_auto_flow": null,
            "grid_auto_rows": null,
            "grid_column": null,
            "grid_gap": null,
            "grid_row": null,
            "grid_template_areas": null,
            "grid_template_columns": null,
            "grid_template_rows": null,
            "height": null,
            "justify_content": null,
            "justify_items": null,
            "left": null,
            "margin": null,
            "max_height": null,
            "max_width": null,
            "min_height": null,
            "min_width": null,
            "object_fit": null,
            "object_position": null,
            "order": null,
            "overflow": null,
            "overflow_x": null,
            "overflow_y": null,
            "padding": null,
            "right": null,
            "top": null,
            "visibility": null,
            "width": null
          }
        },
        "de0e82cefa6b4cad9b46dc7e79043cdf": {
          "model_module": "@jupyter-widgets/controls",
          "model_name": "DescriptionStyleModel",
          "model_module_version": "1.5.0",
          "state": {
            "_model_module": "@jupyter-widgets/controls",
            "_model_module_version": "1.5.0",
            "_model_name": "DescriptionStyleModel",
            "_view_count": null,
            "_view_module": "@jupyter-widgets/base",
            "_view_module_version": "1.2.0",
            "_view_name": "StyleView",
            "description_width": ""
          }
        },
        "148c96a0fb434f9a80fd2a6c37b5febd": {
          "model_module": "@jupyter-widgets/controls",
          "model_name": "HBoxModel",
          "model_module_version": "1.5.0",
          "state": {
            "_dom_classes": [],
            "_model_module": "@jupyter-widgets/controls",
            "_model_module_version": "1.5.0",
            "_model_name": "HBoxModel",
            "_view_count": null,
            "_view_module": "@jupyter-widgets/controls",
            "_view_module_version": "1.5.0",
            "_view_name": "HBoxView",
            "box_style": "",
            "children": [
              "IPY_MODEL_6bc9f1b395da4426af542851fff83b79",
              "IPY_MODEL_76e17b05e53d469894980ed0f038c356",
              "IPY_MODEL_ed77d7f2e0204c20ad332f47e1ef27d9"
            ],
            "layout": "IPY_MODEL_a12a5942493f475c869148611670edb6"
          }
        },
        "6bc9f1b395da4426af542851fff83b79": {
          "model_module": "@jupyter-widgets/controls",
          "model_name": "HTMLModel",
          "model_module_version": "1.5.0",
          "state": {
            "_dom_classes": [],
            "_model_module": "@jupyter-widgets/controls",
            "_model_module_version": "1.5.0",
            "_model_name": "HTMLModel",
            "_view_count": null,
            "_view_module": "@jupyter-widgets/controls",
            "_view_module_version": "1.5.0",
            "_view_name": "HTMLView",
            "description": "",
            "description_tooltip": null,
            "layout": "IPY_MODEL_09d8e4cb13b1475eb5d4331afd54c17d",
            "placeholder": "​",
            "style": "IPY_MODEL_8fc4e5227d2c4a2aa31afd32923b1d1f",
            "value": "tokenizer.json: 100%"
          }
        },
        "76e17b05e53d469894980ed0f038c356": {
          "model_module": "@jupyter-widgets/controls",
          "model_name": "FloatProgressModel",
          "model_module_version": "1.5.0",
          "state": {
            "_dom_classes": [],
            "_model_module": "@jupyter-widgets/controls",
            "_model_module_version": "1.5.0",
            "_model_name": "FloatProgressModel",
            "_view_count": null,
            "_view_module": "@jupyter-widgets/controls",
            "_view_module_version": "1.5.0",
            "_view_name": "ProgressView",
            "bar_style": "success",
            "description": "",
            "description_tooltip": null,
            "layout": "IPY_MODEL_16da9636a7524e7ab39bbccbccf7a85a",
            "max": 1355256,
            "min": 0,
            "orientation": "horizontal",
            "style": "IPY_MODEL_ab283f7c42044734b959c7fd9e38005a",
            "value": 1355256
          }
        },
        "ed77d7f2e0204c20ad332f47e1ef27d9": {
          "model_module": "@jupyter-widgets/controls",
          "model_name": "HTMLModel",
          "model_module_version": "1.5.0",
          "state": {
            "_dom_classes": [],
            "_model_module": "@jupyter-widgets/controls",
            "_model_module_version": "1.5.0",
            "_model_name": "HTMLModel",
            "_view_count": null,
            "_view_module": "@jupyter-widgets/controls",
            "_view_module_version": "1.5.0",
            "_view_name": "HTMLView",
            "description": "",
            "description_tooltip": null,
            "layout": "IPY_MODEL_596acfeee1544d37b9fca9c1d6d469ba",
            "placeholder": "​",
            "style": "IPY_MODEL_586b4c492eb249b6bd58e0e61586c17d",
            "value": " 1.36M/1.36M [00:00&lt;00:00, 6.31MB/s]"
          }
        },
        "a12a5942493f475c869148611670edb6": {
          "model_module": "@jupyter-widgets/base",
          "model_name": "LayoutModel",
          "model_module_version": "1.2.0",
          "state": {
            "_model_module": "@jupyter-widgets/base",
            "_model_module_version": "1.2.0",
            "_model_name": "LayoutModel",
            "_view_count": null,
            "_view_module": "@jupyter-widgets/base",
            "_view_module_version": "1.2.0",
            "_view_name": "LayoutView",
            "align_content": null,
            "align_items": null,
            "align_self": null,
            "border": null,
            "bottom": null,
            "display": null,
            "flex": null,
            "flex_flow": null,
            "grid_area": null,
            "grid_auto_columns": null,
            "grid_auto_flow": null,
            "grid_auto_rows": null,
            "grid_column": null,
            "grid_gap": null,
            "grid_row": null,
            "grid_template_areas": null,
            "grid_template_columns": null,
            "grid_template_rows": null,
            "height": null,
            "justify_content": null,
            "justify_items": null,
            "left": null,
            "margin": null,
            "max_height": null,
            "max_width": null,
            "min_height": null,
            "min_width": null,
            "object_fit": null,
            "object_position": null,
            "order": null,
            "overflow": null,
            "overflow_x": null,
            "overflow_y": null,
            "padding": null,
            "right": null,
            "top": null,
            "visibility": null,
            "width": null
          }
        },
        "09d8e4cb13b1475eb5d4331afd54c17d": {
          "model_module": "@jupyter-widgets/base",
          "model_name": "LayoutModel",
          "model_module_version": "1.2.0",
          "state": {
            "_model_module": "@jupyter-widgets/base",
            "_model_module_version": "1.2.0",
            "_model_name": "LayoutModel",
            "_view_count": null,
            "_view_module": "@jupyter-widgets/base",
            "_view_module_version": "1.2.0",
            "_view_name": "LayoutView",
            "align_content": null,
            "align_items": null,
            "align_self": null,
            "border": null,
            "bottom": null,
            "display": null,
            "flex": null,
            "flex_flow": null,
            "grid_area": null,
            "grid_auto_columns": null,
            "grid_auto_flow": null,
            "grid_auto_rows": null,
            "grid_column": null,
            "grid_gap": null,
            "grid_row": null,
            "grid_template_areas": null,
            "grid_template_columns": null,
            "grid_template_rows": null,
            "height": null,
            "justify_content": null,
            "justify_items": null,
            "left": null,
            "margin": null,
            "max_height": null,
            "max_width": null,
            "min_height": null,
            "min_width": null,
            "object_fit": null,
            "object_position": null,
            "order": null,
            "overflow": null,
            "overflow_x": null,
            "overflow_y": null,
            "padding": null,
            "right": null,
            "top": null,
            "visibility": null,
            "width": null
          }
        },
        "8fc4e5227d2c4a2aa31afd32923b1d1f": {
          "model_module": "@jupyter-widgets/controls",
          "model_name": "DescriptionStyleModel",
          "model_module_version": "1.5.0",
          "state": {
            "_model_module": "@jupyter-widgets/controls",
            "_model_module_version": "1.5.0",
            "_model_name": "DescriptionStyleModel",
            "_view_count": null,
            "_view_module": "@jupyter-widgets/base",
            "_view_module_version": "1.2.0",
            "_view_name": "StyleView",
            "description_width": ""
          }
        },
        "16da9636a7524e7ab39bbccbccf7a85a": {
          "model_module": "@jupyter-widgets/base",
          "model_name": "LayoutModel",
          "model_module_version": "1.2.0",
          "state": {
            "_model_module": "@jupyter-widgets/base",
            "_model_module_version": "1.2.0",
            "_model_name": "LayoutModel",
            "_view_count": null,
            "_view_module": "@jupyter-widgets/base",
            "_view_module_version": "1.2.0",
            "_view_name": "LayoutView",
            "align_content": null,
            "align_items": null,
            "align_self": null,
            "border": null,
            "bottom": null,
            "display": null,
            "flex": null,
            "flex_flow": null,
            "grid_area": null,
            "grid_auto_columns": null,
            "grid_auto_flow": null,
            "grid_auto_rows": null,
            "grid_column": null,
            "grid_gap": null,
            "grid_row": null,
            "grid_template_areas": null,
            "grid_template_columns": null,
            "grid_template_rows": null,
            "height": null,
            "justify_content": null,
            "justify_items": null,
            "left": null,
            "margin": null,
            "max_height": null,
            "max_width": null,
            "min_height": null,
            "min_width": null,
            "object_fit": null,
            "object_position": null,
            "order": null,
            "overflow": null,
            "overflow_x": null,
            "overflow_y": null,
            "padding": null,
            "right": null,
            "top": null,
            "visibility": null,
            "width": null
          }
        },
        "ab283f7c42044734b959c7fd9e38005a": {
          "model_module": "@jupyter-widgets/controls",
          "model_name": "ProgressStyleModel",
          "model_module_version": "1.5.0",
          "state": {
            "_model_module": "@jupyter-widgets/controls",
            "_model_module_version": "1.5.0",
            "_model_name": "ProgressStyleModel",
            "_view_count": null,
            "_view_module": "@jupyter-widgets/base",
            "_view_module_version": "1.2.0",
            "_view_name": "StyleView",
            "bar_color": null,
            "description_width": ""
          }
        },
        "596acfeee1544d37b9fca9c1d6d469ba": {
          "model_module": "@jupyter-widgets/base",
          "model_name": "LayoutModel",
          "model_module_version": "1.2.0",
          "state": {
            "_model_module": "@jupyter-widgets/base",
            "_model_module_version": "1.2.0",
            "_model_name": "LayoutModel",
            "_view_count": null,
            "_view_module": "@jupyter-widgets/base",
            "_view_module_version": "1.2.0",
            "_view_name": "LayoutView",
            "align_content": null,
            "align_items": null,
            "align_self": null,
            "border": null,
            "bottom": null,
            "display": null,
            "flex": null,
            "flex_flow": null,
            "grid_area": null,
            "grid_auto_columns": null,
            "grid_auto_flow": null,
            "grid_auto_rows": null,
            "grid_column": null,
            "grid_gap": null,
            "grid_row": null,
            "grid_template_areas": null,
            "grid_template_columns": null,
            "grid_template_rows": null,
            "height": null,
            "justify_content": null,
            "justify_items": null,
            "left": null,
            "margin": null,
            "max_height": null,
            "max_width": null,
            "min_height": null,
            "min_width": null,
            "object_fit": null,
            "object_position": null,
            "order": null,
            "overflow": null,
            "overflow_x": null,
            "overflow_y": null,
            "padding": null,
            "right": null,
            "top": null,
            "visibility": null,
            "width": null
          }
        },
        "586b4c492eb249b6bd58e0e61586c17d": {
          "model_module": "@jupyter-widgets/controls",
          "model_name": "DescriptionStyleModel",
          "model_module_version": "1.5.0",
          "state": {
            "_model_module": "@jupyter-widgets/controls",
            "_model_module_version": "1.5.0",
            "_model_name": "DescriptionStyleModel",
            "_view_count": null,
            "_view_module": "@jupyter-widgets/base",
            "_view_module_version": "1.2.0",
            "_view_name": "StyleView",
            "description_width": ""
          }
        },
        "d05e26d7919243ffa3bf7362783b9b19": {
          "model_module": "@jupyter-widgets/controls",
          "model_name": "HBoxModel",
          "model_module_version": "1.5.0",
          "state": {
            "_dom_classes": [],
            "_model_module": "@jupyter-widgets/controls",
            "_model_module_version": "1.5.0",
            "_model_name": "HBoxModel",
            "_view_count": null,
            "_view_module": "@jupyter-widgets/controls",
            "_view_module_version": "1.5.0",
            "_view_name": "HBoxView",
            "box_style": "",
            "children": [
              "IPY_MODEL_7d3c7869a1154564b6f62afbf52c5c15",
              "IPY_MODEL_c535d6b443c746cb8d0a8779eb03c2a7",
              "IPY_MODEL_3cda26f6cc5948808352c956c6f809d6"
            ],
            "layout": "IPY_MODEL_d916fd70e8884794a7c0805dbc237c20"
          }
        },
        "7d3c7869a1154564b6f62afbf52c5c15": {
          "model_module": "@jupyter-widgets/controls",
          "model_name": "HTMLModel",
          "model_module_version": "1.5.0",
          "state": {
            "_dom_classes": [],
            "_model_module": "@jupyter-widgets/controls",
            "_model_module_version": "1.5.0",
            "_model_name": "HTMLModel",
            "_view_count": null,
            "_view_module": "@jupyter-widgets/controls",
            "_view_module_version": "1.5.0",
            "_view_name": "HTMLView",
            "description": "",
            "description_tooltip": null,
            "layout": "IPY_MODEL_64dd870a3dc04bbe9d82a306971898ce",
            "placeholder": "​",
            "style": "IPY_MODEL_199da83df471423d9ed14e916212507d",
            "value": "config.json: 100%"
          }
        },
        "c535d6b443c746cb8d0a8779eb03c2a7": {
          "model_module": "@jupyter-widgets/controls",
          "model_name": "FloatProgressModel",
          "model_module_version": "1.5.0",
          "state": {
            "_dom_classes": [],
            "_model_module": "@jupyter-widgets/controls",
            "_model_module_version": "1.5.0",
            "_model_name": "FloatProgressModel",
            "_view_count": null,
            "_view_module": "@jupyter-widgets/controls",
            "_view_module_version": "1.5.0",
            "_view_name": "ProgressView",
            "bar_style": "success",
            "description": "",
            "description_tooltip": null,
            "layout": "IPY_MODEL_dce527dd77394bc28da438740d09ef4f",
            "max": 665,
            "min": 0,
            "orientation": "horizontal",
            "style": "IPY_MODEL_e71df46ddf1740ba8b1133f3cdf41937",
            "value": 665
          }
        },
        "3cda26f6cc5948808352c956c6f809d6": {
          "model_module": "@jupyter-widgets/controls",
          "model_name": "HTMLModel",
          "model_module_version": "1.5.0",
          "state": {
            "_dom_classes": [],
            "_model_module": "@jupyter-widgets/controls",
            "_model_module_version": "1.5.0",
            "_model_name": "HTMLModel",
            "_view_count": null,
            "_view_module": "@jupyter-widgets/controls",
            "_view_module_version": "1.5.0",
            "_view_name": "HTMLView",
            "description": "",
            "description_tooltip": null,
            "layout": "IPY_MODEL_bf41da97b7aa46a0b2ed411b044f8913",
            "placeholder": "​",
            "style": "IPY_MODEL_2d8ac89fad5742d68d2781b1e79f2ec6",
            "value": " 665/665 [00:00&lt;00:00, 9.96kB/s]"
          }
        },
        "d916fd70e8884794a7c0805dbc237c20": {
          "model_module": "@jupyter-widgets/base",
          "model_name": "LayoutModel",
          "model_module_version": "1.2.0",
          "state": {
            "_model_module": "@jupyter-widgets/base",
            "_model_module_version": "1.2.0",
            "_model_name": "LayoutModel",
            "_view_count": null,
            "_view_module": "@jupyter-widgets/base",
            "_view_module_version": "1.2.0",
            "_view_name": "LayoutView",
            "align_content": null,
            "align_items": null,
            "align_self": null,
            "border": null,
            "bottom": null,
            "display": null,
            "flex": null,
            "flex_flow": null,
            "grid_area": null,
            "grid_auto_columns": null,
            "grid_auto_flow": null,
            "grid_auto_rows": null,
            "grid_column": null,
            "grid_gap": null,
            "grid_row": null,
            "grid_template_areas": null,
            "grid_template_columns": null,
            "grid_template_rows": null,
            "height": null,
            "justify_content": null,
            "justify_items": null,
            "left": null,
            "margin": null,
            "max_height": null,
            "max_width": null,
            "min_height": null,
            "min_width": null,
            "object_fit": null,
            "object_position": null,
            "order": null,
            "overflow": null,
            "overflow_x": null,
            "overflow_y": null,
            "padding": null,
            "right": null,
            "top": null,
            "visibility": null,
            "width": null
          }
        },
        "64dd870a3dc04bbe9d82a306971898ce": {
          "model_module": "@jupyter-widgets/base",
          "model_name": "LayoutModel",
          "model_module_version": "1.2.0",
          "state": {
            "_model_module": "@jupyter-widgets/base",
            "_model_module_version": "1.2.0",
            "_model_name": "LayoutModel",
            "_view_count": null,
            "_view_module": "@jupyter-widgets/base",
            "_view_module_version": "1.2.0",
            "_view_name": "LayoutView",
            "align_content": null,
            "align_items": null,
            "align_self": null,
            "border": null,
            "bottom": null,
            "display": null,
            "flex": null,
            "flex_flow": null,
            "grid_area": null,
            "grid_auto_columns": null,
            "grid_auto_flow": null,
            "grid_auto_rows": null,
            "grid_column": null,
            "grid_gap": null,
            "grid_row": null,
            "grid_template_areas": null,
            "grid_template_columns": null,
            "grid_template_rows": null,
            "height": null,
            "justify_content": null,
            "justify_items": null,
            "left": null,
            "margin": null,
            "max_height": null,
            "max_width": null,
            "min_height": null,
            "min_width": null,
            "object_fit": null,
            "object_position": null,
            "order": null,
            "overflow": null,
            "overflow_x": null,
            "overflow_y": null,
            "padding": null,
            "right": null,
            "top": null,
            "visibility": null,
            "width": null
          }
        },
        "199da83df471423d9ed14e916212507d": {
          "model_module": "@jupyter-widgets/controls",
          "model_name": "DescriptionStyleModel",
          "model_module_version": "1.5.0",
          "state": {
            "_model_module": "@jupyter-widgets/controls",
            "_model_module_version": "1.5.0",
            "_model_name": "DescriptionStyleModel",
            "_view_count": null,
            "_view_module": "@jupyter-widgets/base",
            "_view_module_version": "1.2.0",
            "_view_name": "StyleView",
            "description_width": ""
          }
        },
        "dce527dd77394bc28da438740d09ef4f": {
          "model_module": "@jupyter-widgets/base",
          "model_name": "LayoutModel",
          "model_module_version": "1.2.0",
          "state": {
            "_model_module": "@jupyter-widgets/base",
            "_model_module_version": "1.2.0",
            "_model_name": "LayoutModel",
            "_view_count": null,
            "_view_module": "@jupyter-widgets/base",
            "_view_module_version": "1.2.0",
            "_view_name": "LayoutView",
            "align_content": null,
            "align_items": null,
            "align_self": null,
            "border": null,
            "bottom": null,
            "display": null,
            "flex": null,
            "flex_flow": null,
            "grid_area": null,
            "grid_auto_columns": null,
            "grid_auto_flow": null,
            "grid_auto_rows": null,
            "grid_column": null,
            "grid_gap": null,
            "grid_row": null,
            "grid_template_areas": null,
            "grid_template_columns": null,
            "grid_template_rows": null,
            "height": null,
            "justify_content": null,
            "justify_items": null,
            "left": null,
            "margin": null,
            "max_height": null,
            "max_width": null,
            "min_height": null,
            "min_width": null,
            "object_fit": null,
            "object_position": null,
            "order": null,
            "overflow": null,
            "overflow_x": null,
            "overflow_y": null,
            "padding": null,
            "right": null,
            "top": null,
            "visibility": null,
            "width": null
          }
        },
        "e71df46ddf1740ba8b1133f3cdf41937": {
          "model_module": "@jupyter-widgets/controls",
          "model_name": "ProgressStyleModel",
          "model_module_version": "1.5.0",
          "state": {
            "_model_module": "@jupyter-widgets/controls",
            "_model_module_version": "1.5.0",
            "_model_name": "ProgressStyleModel",
            "_view_count": null,
            "_view_module": "@jupyter-widgets/base",
            "_view_module_version": "1.2.0",
            "_view_name": "StyleView",
            "bar_color": null,
            "description_width": ""
          }
        },
        "bf41da97b7aa46a0b2ed411b044f8913": {
          "model_module": "@jupyter-widgets/base",
          "model_name": "LayoutModel",
          "model_module_version": "1.2.0",
          "state": {
            "_model_module": "@jupyter-widgets/base",
            "_model_module_version": "1.2.0",
            "_model_name": "LayoutModel",
            "_view_count": null,
            "_view_module": "@jupyter-widgets/base",
            "_view_module_version": "1.2.0",
            "_view_name": "LayoutView",
            "align_content": null,
            "align_items": null,
            "align_self": null,
            "border": null,
            "bottom": null,
            "display": null,
            "flex": null,
            "flex_flow": null,
            "grid_area": null,
            "grid_auto_columns": null,
            "grid_auto_flow": null,
            "grid_auto_rows": null,
            "grid_column": null,
            "grid_gap": null,
            "grid_row": null,
            "grid_template_areas": null,
            "grid_template_columns": null,
            "grid_template_rows": null,
            "height": null,
            "justify_content": null,
            "justify_items": null,
            "left": null,
            "margin": null,
            "max_height": null,
            "max_width": null,
            "min_height": null,
            "min_width": null,
            "object_fit": null,
            "object_position": null,
            "order": null,
            "overflow": null,
            "overflow_x": null,
            "overflow_y": null,
            "padding": null,
            "right": null,
            "top": null,
            "visibility": null,
            "width": null
          }
        },
        "2d8ac89fad5742d68d2781b1e79f2ec6": {
          "model_module": "@jupyter-widgets/controls",
          "model_name": "DescriptionStyleModel",
          "model_module_version": "1.5.0",
          "state": {
            "_model_module": "@jupyter-widgets/controls",
            "_model_module_version": "1.5.0",
            "_model_name": "DescriptionStyleModel",
            "_view_count": null,
            "_view_module": "@jupyter-widgets/base",
            "_view_module_version": "1.2.0",
            "_view_name": "StyleView",
            "description_width": ""
          }
        },
        "7245a6b618ba4bb1b18968499dc441da": {
          "model_module": "@jupyter-widgets/controls",
          "model_name": "HBoxModel",
          "model_module_version": "1.5.0",
          "state": {
            "_dom_classes": [],
            "_model_module": "@jupyter-widgets/controls",
            "_model_module_version": "1.5.0",
            "_model_name": "HBoxModel",
            "_view_count": null,
            "_view_module": "@jupyter-widgets/controls",
            "_view_module_version": "1.5.0",
            "_view_name": "HBoxView",
            "box_style": "",
            "children": [
              "IPY_MODEL_e6cb3ba6e1b4448cba4061e9226a94e3",
              "IPY_MODEL_02a81599cd554b089e67d7ca71a2c8d0",
              "IPY_MODEL_75fcc9fc7dce43f6b2ff2486171efe37"
            ],
            "layout": "IPY_MODEL_5eb7989f9002453ba3db1476b2eb7a96"
          }
        },
        "e6cb3ba6e1b4448cba4061e9226a94e3": {
          "model_module": "@jupyter-widgets/controls",
          "model_name": "HTMLModel",
          "model_module_version": "1.5.0",
          "state": {
            "_dom_classes": [],
            "_model_module": "@jupyter-widgets/controls",
            "_model_module_version": "1.5.0",
            "_model_name": "HTMLModel",
            "_view_count": null,
            "_view_module": "@jupyter-widgets/controls",
            "_view_module_version": "1.5.0",
            "_view_name": "HTMLView",
            "description": "",
            "description_tooltip": null,
            "layout": "IPY_MODEL_a768c003f3f3467b8a709ccb10c23230",
            "placeholder": "​",
            "style": "IPY_MODEL_7065f4a826724dc6b9bddd24c49429f6",
            "value": "model.safetensors: 100%"
          }
        },
        "02a81599cd554b089e67d7ca71a2c8d0": {
          "model_module": "@jupyter-widgets/controls",
          "model_name": "FloatProgressModel",
          "model_module_version": "1.5.0",
          "state": {
            "_dom_classes": [],
            "_model_module": "@jupyter-widgets/controls",
            "_model_module_version": "1.5.0",
            "_model_name": "FloatProgressModel",
            "_view_count": null,
            "_view_module": "@jupyter-widgets/controls",
            "_view_module_version": "1.5.0",
            "_view_name": "ProgressView",
            "bar_style": "success",
            "description": "",
            "description_tooltip": null,
            "layout": "IPY_MODEL_93cbe25e1f1d4d9897459599fc8cc1c1",
            "max": 548105171,
            "min": 0,
            "orientation": "horizontal",
            "style": "IPY_MODEL_5b9c0a6f38e8474ba8008e03fdf36078",
            "value": 548105171
          }
        },
        "75fcc9fc7dce43f6b2ff2486171efe37": {
          "model_module": "@jupyter-widgets/controls",
          "model_name": "HTMLModel",
          "model_module_version": "1.5.0",
          "state": {
            "_dom_classes": [],
            "_model_module": "@jupyter-widgets/controls",
            "_model_module_version": "1.5.0",
            "_model_name": "HTMLModel",
            "_view_count": null,
            "_view_module": "@jupyter-widgets/controls",
            "_view_module_version": "1.5.0",
            "_view_name": "HTMLView",
            "description": "",
            "description_tooltip": null,
            "layout": "IPY_MODEL_eda4e43ec89448afb8205c3a1e422a72",
            "placeholder": "​",
            "style": "IPY_MODEL_443d9e861de5444eb52bc857b63e4855",
            "value": " 548M/548M [00:05&lt;00:00, 105MB/s]"
          }
        },
        "5eb7989f9002453ba3db1476b2eb7a96": {
          "model_module": "@jupyter-widgets/base",
          "model_name": "LayoutModel",
          "model_module_version": "1.2.0",
          "state": {
            "_model_module": "@jupyter-widgets/base",
            "_model_module_version": "1.2.0",
            "_model_name": "LayoutModel",
            "_view_count": null,
            "_view_module": "@jupyter-widgets/base",
            "_view_module_version": "1.2.0",
            "_view_name": "LayoutView",
            "align_content": null,
            "align_items": null,
            "align_self": null,
            "border": null,
            "bottom": null,
            "display": null,
            "flex": null,
            "flex_flow": null,
            "grid_area": null,
            "grid_auto_columns": null,
            "grid_auto_flow": null,
            "grid_auto_rows": null,
            "grid_column": null,
            "grid_gap": null,
            "grid_row": null,
            "grid_template_areas": null,
            "grid_template_columns": null,
            "grid_template_rows": null,
            "height": null,
            "justify_content": null,
            "justify_items": null,
            "left": null,
            "margin": null,
            "max_height": null,
            "max_width": null,
            "min_height": null,
            "min_width": null,
            "object_fit": null,
            "object_position": null,
            "order": null,
            "overflow": null,
            "overflow_x": null,
            "overflow_y": null,
            "padding": null,
            "right": null,
            "top": null,
            "visibility": null,
            "width": null
          }
        },
        "a768c003f3f3467b8a709ccb10c23230": {
          "model_module": "@jupyter-widgets/base",
          "model_name": "LayoutModel",
          "model_module_version": "1.2.0",
          "state": {
            "_model_module": "@jupyter-widgets/base",
            "_model_module_version": "1.2.0",
            "_model_name": "LayoutModel",
            "_view_count": null,
            "_view_module": "@jupyter-widgets/base",
            "_view_module_version": "1.2.0",
            "_view_name": "LayoutView",
            "align_content": null,
            "align_items": null,
            "align_self": null,
            "border": null,
            "bottom": null,
            "display": null,
            "flex": null,
            "flex_flow": null,
            "grid_area": null,
            "grid_auto_columns": null,
            "grid_auto_flow": null,
            "grid_auto_rows": null,
            "grid_column": null,
            "grid_gap": null,
            "grid_row": null,
            "grid_template_areas": null,
            "grid_template_columns": null,
            "grid_template_rows": null,
            "height": null,
            "justify_content": null,
            "justify_items": null,
            "left": null,
            "margin": null,
            "max_height": null,
            "max_width": null,
            "min_height": null,
            "min_width": null,
            "object_fit": null,
            "object_position": null,
            "order": null,
            "overflow": null,
            "overflow_x": null,
            "overflow_y": null,
            "padding": null,
            "right": null,
            "top": null,
            "visibility": null,
            "width": null
          }
        },
        "7065f4a826724dc6b9bddd24c49429f6": {
          "model_module": "@jupyter-widgets/controls",
          "model_name": "DescriptionStyleModel",
          "model_module_version": "1.5.0",
          "state": {
            "_model_module": "@jupyter-widgets/controls",
            "_model_module_version": "1.5.0",
            "_model_name": "DescriptionStyleModel",
            "_view_count": null,
            "_view_module": "@jupyter-widgets/base",
            "_view_module_version": "1.2.0",
            "_view_name": "StyleView",
            "description_width": ""
          }
        },
        "93cbe25e1f1d4d9897459599fc8cc1c1": {
          "model_module": "@jupyter-widgets/base",
          "model_name": "LayoutModel",
          "model_module_version": "1.2.0",
          "state": {
            "_model_module": "@jupyter-widgets/base",
            "_model_module_version": "1.2.0",
            "_model_name": "LayoutModel",
            "_view_count": null,
            "_view_module": "@jupyter-widgets/base",
            "_view_module_version": "1.2.0",
            "_view_name": "LayoutView",
            "align_content": null,
            "align_items": null,
            "align_self": null,
            "border": null,
            "bottom": null,
            "display": null,
            "flex": null,
            "flex_flow": null,
            "grid_area": null,
            "grid_auto_columns": null,
            "grid_auto_flow": null,
            "grid_auto_rows": null,
            "grid_column": null,
            "grid_gap": null,
            "grid_row": null,
            "grid_template_areas": null,
            "grid_template_columns": null,
            "grid_template_rows": null,
            "height": null,
            "justify_content": null,
            "justify_items": null,
            "left": null,
            "margin": null,
            "max_height": null,
            "max_width": null,
            "min_height": null,
            "min_width": null,
            "object_fit": null,
            "object_position": null,
            "order": null,
            "overflow": null,
            "overflow_x": null,
            "overflow_y": null,
            "padding": null,
            "right": null,
            "top": null,
            "visibility": null,
            "width": null
          }
        },
        "5b9c0a6f38e8474ba8008e03fdf36078": {
          "model_module": "@jupyter-widgets/controls",
          "model_name": "ProgressStyleModel",
          "model_module_version": "1.5.0",
          "state": {
            "_model_module": "@jupyter-widgets/controls",
            "_model_module_version": "1.5.0",
            "_model_name": "ProgressStyleModel",
            "_view_count": null,
            "_view_module": "@jupyter-widgets/base",
            "_view_module_version": "1.2.0",
            "_view_name": "StyleView",
            "bar_color": null,
            "description_width": ""
          }
        },
        "eda4e43ec89448afb8205c3a1e422a72": {
          "model_module": "@jupyter-widgets/base",
          "model_name": "LayoutModel",
          "model_module_version": "1.2.0",
          "state": {
            "_model_module": "@jupyter-widgets/base",
            "_model_module_version": "1.2.0",
            "_model_name": "LayoutModel",
            "_view_count": null,
            "_view_module": "@jupyter-widgets/base",
            "_view_module_version": "1.2.0",
            "_view_name": "LayoutView",
            "align_content": null,
            "align_items": null,
            "align_self": null,
            "border": null,
            "bottom": null,
            "display": null,
            "flex": null,
            "flex_flow": null,
            "grid_area": null,
            "grid_auto_columns": null,
            "grid_auto_flow": null,
            "grid_auto_rows": null,
            "grid_column": null,
            "grid_gap": null,
            "grid_row": null,
            "grid_template_areas": null,
            "grid_template_columns": null,
            "grid_template_rows": null,
            "height": null,
            "justify_content": null,
            "justify_items": null,
            "left": null,
            "margin": null,
            "max_height": null,
            "max_width": null,
            "min_height": null,
            "min_width": null,
            "object_fit": null,
            "object_position": null,
            "order": null,
            "overflow": null,
            "overflow_x": null,
            "overflow_y": null,
            "padding": null,
            "right": null,
            "top": null,
            "visibility": null,
            "width": null
          }
        },
        "443d9e861de5444eb52bc857b63e4855": {
          "model_module": "@jupyter-widgets/controls",
          "model_name": "DescriptionStyleModel",
          "model_module_version": "1.5.0",
          "state": {
            "_model_module": "@jupyter-widgets/controls",
            "_model_module_version": "1.5.0",
            "_model_name": "DescriptionStyleModel",
            "_view_count": null,
            "_view_module": "@jupyter-widgets/base",
            "_view_module_version": "1.2.0",
            "_view_name": "StyleView",
            "description_width": ""
          }
        },
        "ba2a1cc7c64f478aa4a4bc7e4e6e5ab5": {
          "model_module": "@jupyter-widgets/controls",
          "model_name": "HBoxModel",
          "model_module_version": "1.5.0",
          "state": {
            "_dom_classes": [],
            "_model_module": "@jupyter-widgets/controls",
            "_model_module_version": "1.5.0",
            "_model_name": "HBoxModel",
            "_view_count": null,
            "_view_module": "@jupyter-widgets/controls",
            "_view_module_version": "1.5.0",
            "_view_name": "HBoxView",
            "box_style": "",
            "children": [
              "IPY_MODEL_5dcbb892234b4744890daebea7c97cf3",
              "IPY_MODEL_d8dd33274168423d9dad0c1036efe5df",
              "IPY_MODEL_666924a78e4e45c4a3f66156f7e3311e"
            ],
            "layout": "IPY_MODEL_f937669322074c3093fe5ae50b3a992e"
          }
        },
        "5dcbb892234b4744890daebea7c97cf3": {
          "model_module": "@jupyter-widgets/controls",
          "model_name": "HTMLModel",
          "model_module_version": "1.5.0",
          "state": {
            "_dom_classes": [],
            "_model_module": "@jupyter-widgets/controls",
            "_model_module_version": "1.5.0",
            "_model_name": "HTMLModel",
            "_view_count": null,
            "_view_module": "@jupyter-widgets/controls",
            "_view_module_version": "1.5.0",
            "_view_name": "HTMLView",
            "description": "",
            "description_tooltip": null,
            "layout": "IPY_MODEL_a1761344e5644966ba89f7cda1325191",
            "placeholder": "​",
            "style": "IPY_MODEL_feab792d046848b5bbcfda317b54e0b5",
            "value": "generation_config.json: 100%"
          }
        },
        "d8dd33274168423d9dad0c1036efe5df": {
          "model_module": "@jupyter-widgets/controls",
          "model_name": "FloatProgressModel",
          "model_module_version": "1.5.0",
          "state": {
            "_dom_classes": [],
            "_model_module": "@jupyter-widgets/controls",
            "_model_module_version": "1.5.0",
            "_model_name": "FloatProgressModel",
            "_view_count": null,
            "_view_module": "@jupyter-widgets/controls",
            "_view_module_version": "1.5.0",
            "_view_name": "ProgressView",
            "bar_style": "success",
            "description": "",
            "description_tooltip": null,
            "layout": "IPY_MODEL_17edcd2539734ec38e26769245b477d8",
            "max": 124,
            "min": 0,
            "orientation": "horizontal",
            "style": "IPY_MODEL_3405655d4e474008b568ad5e6986e0b9",
            "value": 124
          }
        },
        "666924a78e4e45c4a3f66156f7e3311e": {
          "model_module": "@jupyter-widgets/controls",
          "model_name": "HTMLModel",
          "model_module_version": "1.5.0",
          "state": {
            "_dom_classes": [],
            "_model_module": "@jupyter-widgets/controls",
            "_model_module_version": "1.5.0",
            "_model_name": "HTMLModel",
            "_view_count": null,
            "_view_module": "@jupyter-widgets/controls",
            "_view_module_version": "1.5.0",
            "_view_name": "HTMLView",
            "description": "",
            "description_tooltip": null,
            "layout": "IPY_MODEL_f53346ecaaa74ff2a2152da09278efab",
            "placeholder": "​",
            "style": "IPY_MODEL_c50d33b7e4ec4dc09c48495cf8e0cb49",
            "value": " 124/124 [00:00&lt;00:00, 5.35kB/s]"
          }
        },
        "f937669322074c3093fe5ae50b3a992e": {
          "model_module": "@jupyter-widgets/base",
          "model_name": "LayoutModel",
          "model_module_version": "1.2.0",
          "state": {
            "_model_module": "@jupyter-widgets/base",
            "_model_module_version": "1.2.0",
            "_model_name": "LayoutModel",
            "_view_count": null,
            "_view_module": "@jupyter-widgets/base",
            "_view_module_version": "1.2.0",
            "_view_name": "LayoutView",
            "align_content": null,
            "align_items": null,
            "align_self": null,
            "border": null,
            "bottom": null,
            "display": null,
            "flex": null,
            "flex_flow": null,
            "grid_area": null,
            "grid_auto_columns": null,
            "grid_auto_flow": null,
            "grid_auto_rows": null,
            "grid_column": null,
            "grid_gap": null,
            "grid_row": null,
            "grid_template_areas": null,
            "grid_template_columns": null,
            "grid_template_rows": null,
            "height": null,
            "justify_content": null,
            "justify_items": null,
            "left": null,
            "margin": null,
            "max_height": null,
            "max_width": null,
            "min_height": null,
            "min_width": null,
            "object_fit": null,
            "object_position": null,
            "order": null,
            "overflow": null,
            "overflow_x": null,
            "overflow_y": null,
            "padding": null,
            "right": null,
            "top": null,
            "visibility": null,
            "width": null
          }
        },
        "a1761344e5644966ba89f7cda1325191": {
          "model_module": "@jupyter-widgets/base",
          "model_name": "LayoutModel",
          "model_module_version": "1.2.0",
          "state": {
            "_model_module": "@jupyter-widgets/base",
            "_model_module_version": "1.2.0",
            "_model_name": "LayoutModel",
            "_view_count": null,
            "_view_module": "@jupyter-widgets/base",
            "_view_module_version": "1.2.0",
            "_view_name": "LayoutView",
            "align_content": null,
            "align_items": null,
            "align_self": null,
            "border": null,
            "bottom": null,
            "display": null,
            "flex": null,
            "flex_flow": null,
            "grid_area": null,
            "grid_auto_columns": null,
            "grid_auto_flow": null,
            "grid_auto_rows": null,
            "grid_column": null,
            "grid_gap": null,
            "grid_row": null,
            "grid_template_areas": null,
            "grid_template_columns": null,
            "grid_template_rows": null,
            "height": null,
            "justify_content": null,
            "justify_items": null,
            "left": null,
            "margin": null,
            "max_height": null,
            "max_width": null,
            "min_height": null,
            "min_width": null,
            "object_fit": null,
            "object_position": null,
            "order": null,
            "overflow": null,
            "overflow_x": null,
            "overflow_y": null,
            "padding": null,
            "right": null,
            "top": null,
            "visibility": null,
            "width": null
          }
        },
        "feab792d046848b5bbcfda317b54e0b5": {
          "model_module": "@jupyter-widgets/controls",
          "model_name": "DescriptionStyleModel",
          "model_module_version": "1.5.0",
          "state": {
            "_model_module": "@jupyter-widgets/controls",
            "_model_module_version": "1.5.0",
            "_model_name": "DescriptionStyleModel",
            "_view_count": null,
            "_view_module": "@jupyter-widgets/base",
            "_view_module_version": "1.2.0",
            "_view_name": "StyleView",
            "description_width": ""
          }
        },
        "17edcd2539734ec38e26769245b477d8": {
          "model_module": "@jupyter-widgets/base",
          "model_name": "LayoutModel",
          "model_module_version": "1.2.0",
          "state": {
            "_model_module": "@jupyter-widgets/base",
            "_model_module_version": "1.2.0",
            "_model_name": "LayoutModel",
            "_view_count": null,
            "_view_module": "@jupyter-widgets/base",
            "_view_module_version": "1.2.0",
            "_view_name": "LayoutView",
            "align_content": null,
            "align_items": null,
            "align_self": null,
            "border": null,
            "bottom": null,
            "display": null,
            "flex": null,
            "flex_flow": null,
            "grid_area": null,
            "grid_auto_columns": null,
            "grid_auto_flow": null,
            "grid_auto_rows": null,
            "grid_column": null,
            "grid_gap": null,
            "grid_row": null,
            "grid_template_areas": null,
            "grid_template_columns": null,
            "grid_template_rows": null,
            "height": null,
            "justify_content": null,
            "justify_items": null,
            "left": null,
            "margin": null,
            "max_height": null,
            "max_width": null,
            "min_height": null,
            "min_width": null,
            "object_fit": null,
            "object_position": null,
            "order": null,
            "overflow": null,
            "overflow_x": null,
            "overflow_y": null,
            "padding": null,
            "right": null,
            "top": null,
            "visibility": null,
            "width": null
          }
        },
        "3405655d4e474008b568ad5e6986e0b9": {
          "model_module": "@jupyter-widgets/controls",
          "model_name": "ProgressStyleModel",
          "model_module_version": "1.5.0",
          "state": {
            "_model_module": "@jupyter-widgets/controls",
            "_model_module_version": "1.5.0",
            "_model_name": "ProgressStyleModel",
            "_view_count": null,
            "_view_module": "@jupyter-widgets/base",
            "_view_module_version": "1.2.0",
            "_view_name": "StyleView",
            "bar_color": null,
            "description_width": ""
          }
        },
        "f53346ecaaa74ff2a2152da09278efab": {
          "model_module": "@jupyter-widgets/base",
          "model_name": "LayoutModel",
          "model_module_version": "1.2.0",
          "state": {
            "_model_module": "@jupyter-widgets/base",
            "_model_module_version": "1.2.0",
            "_model_name": "LayoutModel",
            "_view_count": null,
            "_view_module": "@jupyter-widgets/base",
            "_view_module_version": "1.2.0",
            "_view_name": "LayoutView",
            "align_content": null,
            "align_items": null,
            "align_self": null,
            "border": null,
            "bottom": null,
            "display": null,
            "flex": null,
            "flex_flow": null,
            "grid_area": null,
            "grid_auto_columns": null,
            "grid_auto_flow": null,
            "grid_auto_rows": null,
            "grid_column": null,
            "grid_gap": null,
            "grid_row": null,
            "grid_template_areas": null,
            "grid_template_columns": null,
            "grid_template_rows": null,
            "height": null,
            "justify_content": null,
            "justify_items": null,
            "left": null,
            "margin": null,
            "max_height": null,
            "max_width": null,
            "min_height": null,
            "min_width": null,
            "object_fit": null,
            "object_position": null,
            "order": null,
            "overflow": null,
            "overflow_x": null,
            "overflow_y": null,
            "padding": null,
            "right": null,
            "top": null,
            "visibility": null,
            "width": null
          }
        },
        "c50d33b7e4ec4dc09c48495cf8e0cb49": {
          "model_module": "@jupyter-widgets/controls",
          "model_name": "DescriptionStyleModel",
          "model_module_version": "1.5.0",
          "state": {
            "_model_module": "@jupyter-widgets/controls",
            "_model_module_version": "1.5.0",
            "_model_name": "DescriptionStyleModel",
            "_view_count": null,
            "_view_module": "@jupyter-widgets/base",
            "_view_module_version": "1.2.0",
            "_view_name": "StyleView",
            "description_width": ""
          }
        }
      }
    },
    "accelerator": "GPU"
  },
  "cells": [
    {
      "cell_type": "markdown",
      "metadata": {
        "id": "view-in-github",
        "colab_type": "text"
      },
      "source": [
        "<a href=\"https://colab.research.google.com/github/AdvaySharma147/College_Experiments/blob/main/Python.ipynb\" target=\"_parent\"><img src=\"https://colab.research.google.com/assets/colab-badge.svg\" alt=\"Open In Colab\"/></a>"
      ]
    },
    {
      "cell_type": "code",
      "execution_count": null,
      "metadata": {
        "colab": {
          "base_uri": "https://localhost:8080/"
        },
        "id": "J2_DUUS5GOl6",
        "outputId": "4c3f12b7-b095-4a23-c631-f4f03aa02473"
      },
      "outputs": [
        {
          "output_type": "stream",
          "name": "stdout",
          "text": [
            "Enter the base of the triangle: 3\n",
            "Enter the height of the triangle: 4\n",
            "The area of the triangle is: 6.0\n",
            "Enter the side of the square: 5\n",
            "The area of the square is: 25.0\n",
            "Enter the length of the rectangle: 6\n",
            "Enter the breadth of the rectangle: 7\n",
            "The area of the rectangle is: 42.0\n"
          ]
        }
      ],
      "source": [
        "a=float(input(\"Enter the base of the triangle: \"))\n",
        "b=float(input(\"Enter the height of the triangle: \"))\n",
        "c=(a*b)/2\n",
        "d=str(c)\n",
        "print(\"The area of the triangle is: \"+d)\n",
        "\n",
        "a=float(input(\"Enter the side of the square: \"))\n",
        "b=a*a\n",
        "c=str(b)\n",
        "print(\"The area of the square is: \"+c)\n",
        "\n",
        "a=float(input(\"Enter the length of the rectangle: \"))\n",
        "b=float(input(\"Enter the breadth of the rectangle: \"))\n",
        "c=a*b\n",
        "d=str(c)\n",
        "print(\"The area of the rectangle is: \"+d)"
      ]
    },
    {
      "cell_type": "code",
      "source": [
        "import math\n",
        "\n",
        "a=int(input(\"Enter the coefficient of x\\u00b2:\"))\n",
        "b=int(input(\"Enter the coefficient of x: \"))\n",
        "c=int(input(\"Enter the constant term: \"))\n",
        "d=(b*b)-(4*a*c)\n",
        "if d<0:\n",
        "  print(\"The roots are non-real\")\n",
        "else:\n",
        "  x1=(-b+math.sqrt((b*b)-(4*a*c)))/(2*a)\n",
        "  x2=(-b-math.sqrt((b*b)-(4*a*c)))/(2*a)\n",
        "  print(\"The roots are\",x1,\"and\",x2)"
      ],
      "metadata": {
        "id": "cYGL93QHKw-D",
        "colab": {
          "base_uri": "https://localhost:8080/"
        },
        "outputId": "9140c3b8-b0df-4bdc-b620-05f5cf4eb999"
      },
      "execution_count": null,
      "outputs": [
        {
          "output_type": "stream",
          "name": "stdout",
          "text": [
            "Enter the coefficient of x²:9\n",
            "Enter the coefficient of x: 2\n",
            "Enter the constant term: 8\n",
            "The roots are non-real\n"
          ]
        }
      ]
    },
    {
      "cell_type": "code",
      "source": [
        "x=int(input(\"Enter x: \"))\n",
        "y=int(input(\"Enter y: \"))\n",
        "print(\"The numbers before swapping:\",x,y)\n",
        "x,y=y,x\n",
        "print(\"The numbers after swapping:\",x,y)"
      ],
      "metadata": {
        "colab": {
          "base_uri": "https://localhost:8080/"
        },
        "id": "AkdRd6tETKVo",
        "outputId": "b5472cd3-adb6-4097-8b03-d094b7da8ebd"
      },
      "execution_count": null,
      "outputs": [
        {
          "output_type": "stream",
          "name": "stdout",
          "text": [
            "Enter x: 4\n",
            "Enter y: 8\n",
            "The numbers before swapping: 4 8\n",
            "The numbers after swapping: 8 4\n"
          ]
        }
      ]
    },
    {
      "cell_type": "code",
      "source": [
        "n=input(\"Enter the number of terms of Fibonacci:\")\n",
        "m=int(n)\n",
        "b=1\n",
        "c=1\n",
        "print(b)\n",
        "print(c)\n",
        "for i in range(2,m):\n",
        "  d=b+c\n",
        "  print(d)\n",
        "  b=c\n",
        "  c=d\n"
      ],
      "metadata": {
        "colab": {
          "base_uri": "https://localhost:8080/"
        },
        "id": "jfH2OTfNVeki",
        "outputId": "4db49d59-3393-4e5d-95d4-565bef30d39d"
      },
      "execution_count": null,
      "outputs": [
        {
          "output_type": "stream",
          "name": "stdout",
          "text": [
            "Enter the number of terms of Fibonacci:4\n",
            "1\n",
            "1\n",
            "2\n",
            "3\n"
          ]
        }
      ]
    },
    {
      "cell_type": "code",
      "source": [
        "list1 = ['apple','orange','banana','kiwi']\n",
        "print(list1)\n",
        "list2= ['apple',[8,4,6],'orange','banana']\n",
        "print(list2)\n",
        "print(list1[2])\n",
        "print(list2[1][2])\n",
        "print(list1[-1])\n",
        "print(list1[1:3])\n",
        "print(list1[3:])\n",
        "list1.append('guava')\n",
        "print(list1)\n",
        "list1.extend(['watermelon','muskmelon'])\n",
        "print(list1)\n",
        "del list1[5]\n",
        "print(list1)\n",
        "list1.remove('kiwi')\n",
        "print(list1)\n",
        "list2.clear()\n",
        "print(list2)\n",
        "list1.reverse()\n",
        "print(list1)\n",
        "print(list1.index('guava'))\n",
        "print(list1.count('muskmelon'))"
      ],
      "metadata": {
        "colab": {
          "base_uri": "https://localhost:8080/"
        },
        "id": "e9kXHNsZIju1",
        "outputId": "1bd6d658-aad9-41e1-d0b3-be48d382fa68"
      },
      "execution_count": null,
      "outputs": [
        {
          "output_type": "stream",
          "name": "stdout",
          "text": [
            "['apple', 'orange', 'banana', 'kiwi']\n",
            "['apple', [8, 4, 6], 'orange', 'banana']\n",
            "banana\n",
            "6\n",
            "kiwi\n",
            "['orange', 'banana']\n",
            "['kiwi']\n",
            "['apple', 'orange', 'banana', 'kiwi', 'guava']\n",
            "['apple', 'orange', 'banana', 'kiwi', 'guava', 'watermelon', 'muskmelon']\n",
            "['apple', 'orange', 'banana', 'kiwi', 'guava', 'muskmelon']\n",
            "['apple', 'orange', 'banana', 'guava', 'muskmelon']\n",
            "[]\n",
            "['muskmelon', 'guava', 'banana', 'orange', 'apple']\n",
            "1\n",
            "1\n"
          ]
        }
      ]
    },
    {
      "cell_type": "code",
      "source": [
        "tup1=('apple','orange','banana','kiwi')\n",
        "print(tup1)\n",
        "tup2=('apple',)\n",
        "print(type(tup2))\n",
        "print(tup1[0])\n",
        "print(tup1[-1])\n",
        "print(tup1[1:3])\n",
        "print(tup1.count('guava'))\n",
        "print(tup1.index('banana'))"
      ],
      "metadata": {
        "colab": {
          "base_uri": "https://localhost:8080/"
        },
        "id": "jz62rjHtKnO9",
        "outputId": "495ce2e3-154b-4f9d-b02e-b58991727bd3"
      },
      "execution_count": null,
      "outputs": [
        {
          "output_type": "stream",
          "name": "stdout",
          "text": [
            "('apple', 'orange', 'banana', 'kiwi')\n",
            "<class 'tuple'>\n",
            "apple\n",
            "kiwi\n",
            "('orange', 'banana')\n",
            "0\n",
            "2\n"
          ]
        }
      ]
    },
    {
      "cell_type": "code",
      "source": [
        "set1=set()\n",
        "set2=set()\n",
        "for i in range(5):\n",
        "  set1.add(i)\n",
        "for i in range(3,9):\n",
        "  set2.add(i)\n",
        "set3=set1.intersection(set2)\n",
        "set4=set1.union(set2)\n",
        "set5=set1-set2\n",
        "print(set3)\n",
        "print(set4)\n",
        "print(set5)"
      ],
      "metadata": {
        "colab": {
          "base_uri": "https://localhost:8080/"
        },
        "id": "QIxFbU3qMmW3",
        "outputId": "9484dbe3-c4a1-4d00-93ea-a78ee2eaa84c"
      },
      "execution_count": null,
      "outputs": [
        {
          "output_type": "stream",
          "name": "stdout",
          "text": [
            "{3, 4}\n",
            "{0, 1, 2, 3, 4, 5, 6, 7, 8}\n",
            "{0, 1, 2}\n"
          ]
        }
      ]
    },
    {
      "cell_type": "code",
      "source": [
        "dict1={1: 'India: Rupees(₹)',2: 'US: Dollars($)',3: 'France: Euro(€)',4: 'England: Pound(£)',5: 'Japan: Yen(¥)'}\n",
        "for i in range(1,6):\n",
        "  print(dict1[i])"
      ],
      "metadata": {
        "colab": {
          "base_uri": "https://localhost:8080/"
        },
        "id": "flAozguENd-V",
        "outputId": "12efa4ba-382a-4a41-e581-233b3b29b0ab"
      },
      "execution_count": null,
      "outputs": [
        {
          "output_type": "stream",
          "name": "stdout",
          "text": [
            "India: Rupees(₹)\n",
            "US: Dollars($)\n",
            "France: Euro(€)\n",
            "England: Pound(£)\n",
            "Japan: Yen(¥)\n"
          ]
        }
      ]
    },
    {
      "cell_type": "code",
      "source": [
        "import random\n",
        "p=random.sample(range(100,200),10)\n",
        "print(p)\n",
        "print(min(p))"
      ],
      "metadata": {
        "colab": {
          "base_uri": "https://localhost:8080/"
        },
        "id": "JXU1_lCBRNo4",
        "outputId": "b97377a3-676b-4d04-93d0-a775d5e630cd"
      },
      "execution_count": null,
      "outputs": [
        {
          "output_type": "stream",
          "name": "stdout",
          "text": [
            "[156, 130, 197, 112, 109, 138, 155, 118, 144, 185]\n",
            "109\n"
          ]
        }
      ]
    },
    {
      "cell_type": "code",
      "source": [
        "a=float(input(\"Enter the distance in km: \"))\n",
        "b=a/1.609\n",
        "c=round(b,2)\n",
        "print(\"The equivalent distance in miles=\",c)\n",
        "a=float(input(\"Enter the temperature in Celcius: \"))\n",
        "b=(1.8*a)+32\n",
        "c=round(b,2)\n",
        "print(\"The temperature in Fahrenheit Scale:\",c)"
      ],
      "metadata": {
        "colab": {
          "base_uri": "https://localhost:8080/"
        },
        "id": "p0haCMQtS-_o",
        "outputId": "17a25725-af99-482b-9ebd-cffe7b8b6f02"
      },
      "execution_count": null,
      "outputs": [
        {
          "output_type": "stream",
          "name": "stdout",
          "text": [
            "Enter the distance in km: 6\n",
            "The equivalent distance in miles= 3.73\n",
            "Enter the temperature in Celcius: 8.436786\n",
            "The temperature in Fahrenheit Scale: 47.19\n"
          ]
        }
      ]
    },
    {
      "cell_type": "code",
      "source": [
        "str= input(\"Enter a sentence: \")\n",
        "str2=(\"\")\n",
        "for i in range(0, len(str), 1):\n",
        "  if (str[i] == ' '):\n",
        "    str2=str2+(\"-\")\n",
        "  else:\n",
        "     str2=str2+(\" \")\n",
        "print(str2)\n"
      ],
      "metadata": {
        "colab": {
          "base_uri": "https://localhost:8080/"
        },
        "id": "qmQlACaFZB3P",
        "outputId": "69053596-8122-4a9d-f738-917398877b97"
      },
      "execution_count": null,
      "outputs": [
        {
          "output_type": "stream",
          "name": "stdout",
          "text": [
            "Enter a sentence: Advay Sharma kaise ho bhai\n",
            "     -      -     -  -    \n"
          ]
        }
      ]
    },
    {
      "cell_type": "code",
      "source": [
        "list1 = ['Modric','Ronaldo','Mbappe','Messi','Bellingham','Neymar','Lewandowski','Haaland','Kane','Benzema']\n",
        "print(list1)\n",
        "list1.sort()\n",
        "print(list1)\n",
        "list1.remove(list1[0])\n",
        "print(list1)"
      ],
      "metadata": {
        "id": "Bktu3GdFRxf-",
        "colab": {
          "base_uri": "https://localhost:8080/"
        },
        "outputId": "b2e910ba-bdcc-4d63-d12f-ff4796e1b1fa"
      },
      "execution_count": null,
      "outputs": [
        {
          "output_type": "stream",
          "name": "stdout",
          "text": [
            "['Modric', 'Ronaldo', 'Mbappe', 'Messi', 'Bellingham', 'Neymar', 'Lewandowski', 'Haaland', 'Kane', 'Benzema']\n",
            "['Bellingham', 'Benzema', 'Haaland', 'Kane', 'Lewandowski', 'Mbappe', 'Messi', 'Modric', 'Neymar', 'Ronaldo']\n",
            "['Benzema', 'Haaland', 'Kane', 'Lewandowski', 'Mbappe', 'Messi', 'Modric', 'Neymar', 'Ronaldo']\n"
          ]
        }
      ]
    },
    {
      "cell_type": "code",
      "source": [
        "def my_function():\n",
        "  print(\"hello\")\n",
        "my_function()"
      ],
      "metadata": {
        "colab": {
          "base_uri": "https://localhost:8080/"
        },
        "id": "E5TnGErxRxym",
        "outputId": "26cd6ed0-ee0a-4d6f-88db-fb1fe4beb14e"
      },
      "execution_count": null,
      "outputs": [
        {
          "output_type": "stream",
          "name": "stdout",
          "text": [
            "hello\n"
          ]
        }
      ]
    },
    {
      "cell_type": "code",
      "source": [
        "def pqr(fname):\n",
        "  print(fname)\n",
        "pqr(\"email\")\n",
        "pqr(\"hello\")"
      ],
      "metadata": {
        "colab": {
          "base_uri": "https://localhost:8080/"
        },
        "id": "iqoxuxKkSWtX",
        "outputId": "b32fc3f6-7fd7-4448-fc92-efcb6f097649"
      },
      "execution_count": null,
      "outputs": [
        {
          "output_type": "stream",
          "name": "stdout",
          "text": [
            "email\n",
            "hello\n"
          ]
        }
      ]
    },
    {
      "cell_type": "code",
      "source": [
        "def xyz(num1,num2):\n",
        "  result=num1+num2\n",
        "  return result\n",
        "p=xyz(3,5)\n",
        "print(p)"
      ],
      "metadata": {
        "colab": {
          "base_uri": "https://localhost:8080/"
        },
        "id": "7gqWDpC6TNoo",
        "outputId": "e7beb030-da8e-4faa-a803-5428c4281110"
      },
      "execution_count": null,
      "outputs": [
        {
          "output_type": "stream",
          "name": "stdout",
          "text": [
            "8\n"
          ]
        }
      ]
    },
    {
      "cell_type": "code",
      "source": [
        "def xyz(food):\n",
        "  for i in food:\n",
        "    print(i)\n",
        "mango=[\"Pizza\",\"Burger\"]\n",
        "xyz(mango)"
      ],
      "metadata": {
        "colab": {
          "base_uri": "https://localhost:8080/"
        },
        "id": "hb7ekhNaUKvN",
        "outputId": "4d140e4a-3cf2-4673-8adc-d32e8053f304"
      },
      "execution_count": null,
      "outputs": [
        {
          "output_type": "stream",
          "name": "stdout",
          "text": [
            "Pizza\n",
            "Burger\n"
          ]
        }
      ]
    },
    {
      "cell_type": "code",
      "source": [
        "def avg(n):\n",
        "  p=0\n",
        "  for i in range(n):\n",
        "    sum = 0\n",
        "    x = float(input(\"Enter the number:\"))\n",
        "    sum = sum + x\n",
        "    p=sum+p\n",
        "  avg = p / n\n",
        "  print(\"Average=\", avg)\n",
        "p=0\n",
        "n = int(input(\"Enter the total number you want to enter:\"))\n",
        "avg(n)"
      ],
      "metadata": {
        "id": "fgaJigwrVK_I",
        "colab": {
          "base_uri": "https://localhost:8080/"
        },
        "outputId": "e21ec137-d1d4-4a0e-e8da-b5163fe22503"
      },
      "execution_count": null,
      "outputs": [
        {
          "output_type": "stream",
          "name": "stdout",
          "text": [
            "Enter the total number you want to enter:4\n",
            "Enter the number:25\n",
            "Enter the number:75\n",
            "Enter the number:42\n",
            "Enter the number:11\n",
            "Average= 38.25\n"
          ]
        }
      ]
    },
    {
      "cell_type": "code",
      "source": [
        "get_max = lambda a, b : max(a,b)\n",
        "a=int(input(\"Enter the first number: \"))\n",
        "b=int(input(\"Enter the second number: \"))\n",
        "print(\"The greatest number is\",get_max(a,b))"
      ],
      "metadata": {
        "colab": {
          "base_uri": "https://localhost:8080/"
        },
        "id": "BKy0sWZb5xWv",
        "outputId": "cd8fcc87-ee29-4dd0-9645-c08d42b67a3e"
      },
      "execution_count": null,
      "outputs": [
        {
          "output_type": "stream",
          "name": "stdout",
          "text": [
            "Enter the first number: 7\n",
            "Enter the second number: 3\n",
            "The greatest number is 7\n"
          ]
        }
      ]
    },
    {
      "cell_type": "code",
      "source": [
        "def fact(n):\n",
        "  if(n==0):\n",
        "    return 1\n",
        "  else:\n",
        "     return n*fact(n-1)\n",
        "a=int(input(\"Enter a number: \"))\n",
        "b=fact(a)\n",
        "print(\"Factorial=\",b)"
      ],
      "metadata": {
        "colab": {
          "base_uri": "https://localhost:8080/"
        },
        "id": "A1BvATNS9heQ",
        "outputId": "4eac1e3f-ef86-4523-8ad1-6f3966b3af92"
      },
      "execution_count": null,
      "outputs": [
        {
          "output_type": "stream",
          "name": "stdout",
          "text": [
            "Enter a number: 4\n",
            "Factorial= 24\n"
          ]
        }
      ]
    },
    {
      "cell_type": "code",
      "source": [
        "import statistics\n",
        "data1 = [1,3,4,5,7,9,2]\n",
        "x=statistics.mean(data1)\n",
        "print(\"Mean is:\",x)"
      ],
      "metadata": {
        "colab": {
          "base_uri": "https://localhost:8080/"
        },
        "id": "pCkx7wfQSrtA",
        "outputId": "97a0beb5-1c1f-4409-ce57-aefd93655a18"
      },
      "execution_count": null,
      "outputs": [
        {
          "output_type": "stream",
          "name": "stdout",
          "text": [
            "Mean is: 4.428571428571429\n"
          ]
        }
      ]
    },
    {
      "cell_type": "code",
      "source": [
        "def hcf(a,b):\n",
        "  if a%b==0:\n",
        "    return b\n",
        "  else:\n",
        "    return hcf(b,a%b)\n",
        "def mean(a,b):\n",
        "   c=hcf(a,b)\n",
        "   print(c)\n",
        "   return (a+b)/2\n",
        "k=mean(24,20)\n",
        "print(k)"
      ],
      "metadata": {
        "colab": {
          "base_uri": "https://localhost:8080/"
        },
        "id": "cbhSmKT3VlEg",
        "outputId": "68d6dfaa-9136-44a1-a248-6577490b0b50"
      },
      "execution_count": null,
      "outputs": [
        {
          "output_type": "stream",
          "name": "stdout",
          "text": [
            "4\n",
            "22.0\n"
          ]
        }
      ]
    },
    {
      "cell_type": "code",
      "source": [
        "q=lambda x,y: x if x>y else y\n",
        "a=int(input(\"Enter first number:\"))\n",
        "b=int(input(\"Enter second number:\"))\n",
        "print(\"The greater number is\",q(a,b))"
      ],
      "metadata": {
        "colab": {
          "base_uri": "https://localhost:8080/"
        },
        "id": "kdhfXJWHamNJ",
        "outputId": "f04a41c1-386b-42bb-91bd-d09f66655f1a"
      },
      "execution_count": null,
      "outputs": [
        {
          "output_type": "stream",
          "name": "stdout",
          "text": [
            "Enter first number:-7\n",
            "Enter second number:-2\n",
            "The greater number is -2\n"
          ]
        }
      ]
    },
    {
      "cell_type": "code",
      "source": [
        "def TowerOfHanoi(n, source, destination, auxillary):\n",
        "  if n==1:\n",
        "    print(\"Move disk 1 from source\",source,\"to destination\",destination)\n",
        "    return\n",
        "  TowerOfHanoi(n-1, source, auxillary, destination)\n",
        "  print(\"Move disk\",n,\"from source\",source,\"to destination\",destination)\n",
        "  TowerOfHanoi(n-1, auxillary, destination, source)\n",
        "n=3\n",
        "TowerOfHanoi(n,'A','C','B')"
      ],
      "metadata": {
        "colab": {
          "base_uri": "https://localhost:8080/"
        },
        "id": "Rxu2UdO8dHQl",
        "outputId": "19c1f598-542c-41c5-e04a-2daf072bdc38"
      },
      "execution_count": null,
      "outputs": [
        {
          "output_type": "stream",
          "name": "stdout",
          "text": [
            "Move disk 1 from source A to destination C\n",
            "Move disk 2 from source A to destination B\n",
            "Move disk 1 from source C to destination B\n",
            "Move disk 3 from source A to destination C\n",
            "Move disk 1 from source B to destination A\n",
            "Move disk 2 from source B to destination C\n",
            "Move disk 1 from source A to destination C\n"
          ]
        }
      ]
    },
    {
      "cell_type": "code",
      "source": [
        "def fact(n):\n",
        "  if n==1:\n",
        "    return 1\n",
        "  else:\n",
        "    return n*fact(n-1)\n",
        "a=int(input(\"Enter a number:\"))\n",
        "b=fact(a)\n",
        "print(\"Factorial of number:\",b)"
      ],
      "metadata": {
        "colab": {
          "base_uri": "https://localhost:8080/"
        },
        "id": "DaOm9dvqey4U",
        "outputId": "9a1be80d-f6fd-4e53-c1bc-b22e3803ba52"
      },
      "execution_count": null,
      "outputs": [
        {
          "output_type": "stream",
          "name": "stdout",
          "text": [
            "Enter a number:5\n",
            "Factorial of number: 120\n"
          ]
        }
      ]
    },
    {
      "cell_type": "code",
      "source": [
        "# Python program to create a bank account class\n",
        "class BankAccount:\n",
        "  def __init__(self, name, account_number, initial_balance, interest_rate, contact_number, address):\n",
        "    self.name = name\n",
        "    self.balance = initial_balance\n",
        "    self.interest_rate = interest_rate\n",
        "    self.contact_number = contact_number\n",
        "    self.address = address\n",
        "    self.account_number = account_number\n",
        "  def createAccount(self):\n",
        "    print(\"Account created successfully!\")\n",
        "  def deposit(self, amount):\n",
        "    if amount>0:\n",
        "      self.balance += amount\n",
        "      print(f\"Deposit successful. New balance: {self.balance}\")\n",
        "    else:\n",
        "      print(\"Invalid deposit amount.\")\n",
        "  def withdraw(self,amount):\n",
        "    if 0 < amount <= self.balance:\n",
        "      self.balance -= amount\n",
        "      print(f\"Withdaral successful. New balance: {self.balance}\")\n",
        "    else:\n",
        "      print(\"Invalid withdraw account or insufficient funds. \")\n",
        "  def computeInterest(self):\n",
        "     interest = (self.balance * self.interest_rate)/100\n",
        "     print(f\"Interest computed: {interest}\")\n",
        "     return interest\n",
        "  def displayBalance(self):\n",
        "     print(f\"Account Holder: {self.name}\")\n",
        "     print(f\"Account Number: {self.account_number}\")\n",
        "     print(f\"Current Balance: {self.balance}\")\n",
        "     print(f\"Contact Number: {self.contact_number}\")\n",
        "     print(f\"Address: {self.address}\")\n",
        "customer = BankAccount(\"Advay Sharma\",\"123456789\",1000.0,5.0,\"9876543210\",\"123 Sen Nagar, Mumbai\")\n",
        "customer.createAccount()\n",
        "customer.deposit(500.0)\n",
        "customer.withdraw(200.0)\n",
        "customer.computeInterest()\n",
        "customer.displayBalance()"
      ],
      "metadata": {
        "colab": {
          "base_uri": "https://localhost:8080/"
        },
        "id": "FbpDjdtag7lY",
        "outputId": "99eff87f-be73-4659-8583-0f151af36c81"
      },
      "execution_count": null,
      "outputs": [
        {
          "output_type": "stream",
          "name": "stdout",
          "text": [
            "Account created successfully!\n",
            "Deposit successful. New balance: 1500.0\n",
            "Withdaral successful. New balance: 1300.0\n",
            "Interest computed: 65.0\n",
            "Account Holder: Advay Sharma\n",
            "Account Number: 123456789\n",
            "Current Balance: 1300.0\n",
            "Contact Number: 9876543210\n",
            "Address: 123 Sen Nagar, Mumbai\n"
          ]
        }
      ]
    },
    {
      "cell_type": "code",
      "source": [
        "import numpy as np\n",
        "p=np.ones(5)\n",
        "print(p)"
      ],
      "metadata": {
        "colab": {
          "base_uri": "https://localhost:8080/"
        },
        "id": "T3hADdW2K_7i",
        "outputId": "d8454024-c54b-4af6-d207-e5575b3cd60b"
      },
      "execution_count": null,
      "outputs": [
        {
          "output_type": "stream",
          "name": "stdout",
          "text": [
            "[1. 1. 1. 1. 1.]\n"
          ]
        }
      ]
    },
    {
      "cell_type": "code",
      "source": [
        "import numpy as np\n",
        "p=np.array([[1,2,3],[4,5,6],[7,8,9]])\n",
        "x=np.array([4,5,6])\n",
        "op=np.any(np.isin(p,x).all(axis=1))\n",
        "print(op)"
      ],
      "metadata": {
        "colab": {
          "base_uri": "https://localhost:8080/"
        },
        "id": "2KakbC0iLPvd",
        "outputId": "40925fd0-32d9-4d22-a23f-17191210c6ad"
      },
      "execution_count": null,
      "outputs": [
        {
          "output_type": "stream",
          "name": "stdout",
          "text": [
            "True\n"
          ]
        }
      ]
    },
    {
      "cell_type": "code",
      "source": [
        "import numpy as np\n",
        "mata=np.array([[1,2,3],[4,5,6],[7,8,9]])\n",
        "matb=np.array([[2,3,4],[5,6,7],[8,9,10]])\n",
        "r=np.dot(mata,matb)\n",
        "s=np.add(mata,matb)\n",
        "print(r)\n",
        "print(s)"
      ],
      "metadata": {
        "colab": {
          "base_uri": "https://localhost:8080/"
        },
        "id": "5zIPGeWcMWPM",
        "outputId": "a9bbf064-2d8a-4772-c327-422d06e51d5c"
      },
      "execution_count": null,
      "outputs": [
        {
          "output_type": "stream",
          "name": "stdout",
          "text": [
            "[[ 36  42  48]\n",
            " [ 81  96 111]\n",
            " [126 150 174]]\n",
            "[[ 3  5  7]\n",
            " [ 9 11 13]\n",
            " [15 17 19]]\n"
          ]
        }
      ]
    },
    {
      "cell_type": "code",
      "source": [
        "import numpy as np\n",
        "p=np.array([1,2,3,3,4,4,4])\n",
        "print(np.bincount(p).argmax())"
      ],
      "metadata": {
        "colab": {
          "base_uri": "https://localhost:8080/"
        },
        "id": "FbI-26RuOfUd",
        "outputId": "42fb2d4e-90b9-495e-b413-2da1547093a2"
      },
      "execution_count": null,
      "outputs": [
        {
          "output_type": "stream",
          "name": "stdout",
          "text": [
            "4\n"
          ]
        }
      ]
    },
    {
      "cell_type": "code",
      "source": [
        "import numpy as np\n",
        "twod=np.array([[1,2,3],[4,5,6],[7,8,9]])\n",
        "ans=twod.flatten()\n",
        "print(ans)"
      ],
      "metadata": {
        "colab": {
          "base_uri": "https://localhost:8080/"
        },
        "id": "o0YNTOGJPzll",
        "outputId": "a1d78420-80bc-4405-aa9c-49e2aae2eae8"
      },
      "execution_count": null,
      "outputs": [
        {
          "output_type": "stream",
          "name": "stdout",
          "text": [
            "[1 2 3 4 5 6 7 8 9]\n"
          ]
        }
      ]
    },
    {
      "cell_type": "code",
      "source": [
        "import numpy as np\n",
        "twod=np.array([[1,2,3],[4,5,6],[7,8,9]])\n",
        "sum=np.sum(twod,axis=0)\n",
        "print(sum)"
      ],
      "metadata": {
        "colab": {
          "base_uri": "https://localhost:8080/"
        },
        "id": "A5BnZoKmQT_e",
        "outputId": "402e4eb7-2317-4aef-e539-8525a19612c2"
      },
      "execution_count": null,
      "outputs": [
        {
          "output_type": "stream",
          "name": "stdout",
          "text": [
            "[12 15 18]\n"
          ]
        }
      ]
    },
    {
      "cell_type": "code",
      "source": [
        "import numpy as np\n",
        "p=np.array(['abc','def'])\n",
        "z=np.char.join(' ',p)\n",
        "print(z)"
      ],
      "metadata": {
        "colab": {
          "base_uri": "https://localhost:8080/"
        },
        "id": "IwfSnG0mQ3pc",
        "outputId": "dd4db787-b207-4cac-9546-b30969ec3d28"
      },
      "execution_count": null,
      "outputs": [
        {
          "output_type": "stream",
          "name": "stdout",
          "text": [
            "['a b c' 'd e f']\n"
          ]
        }
      ]
    },
    {
      "cell_type": "code",
      "source": [
        "import numpy as np\n",
        "p=np.array([6,2,9,0,1,8,3,5,7,4])\n",
        "z=np.sort(p)\n",
        "print(z)"
      ],
      "metadata": {
        "colab": {
          "base_uri": "https://localhost:8080/"
        },
        "id": "6eM6UHQER8M9",
        "outputId": "08cf0d7f-efad-4f7e-fa75-b092798ff56f"
      },
      "execution_count": null,
      "outputs": [
        {
          "output_type": "stream",
          "name": "stdout",
          "text": [
            "[0 1 2 3 4 5 6 7 8 9]\n"
          ]
        }
      ]
    },
    {
      "cell_type": "code",
      "source": [
        "import numpy as np\n",
        "data = np.array([10, 20, 30, 40, 50])\n",
        "average = np.mean(data)\n",
        "variance = np.var(data)\n",
        "std_deviation = np.std(data)\n",
        "print(average)\n",
        "print(variance)\n",
        "print(std_deviation)"
      ],
      "metadata": {
        "colab": {
          "base_uri": "https://localhost:8080/"
        },
        "id": "Cs3MoVBrS2BD",
        "outputId": "c7ccb800-8ccb-4ea6-830c-356bcaa9652b"
      },
      "execution_count": null,
      "outputs": [
        {
          "output_type": "stream",
          "name": "stdout",
          "text": [
            "30.0\n",
            "200.0\n",
            "14.142135623730951\n"
          ]
        }
      ]
    },
    {
      "cell_type": "code",
      "source": [
        "class Dog:\n",
        "  attr1 = \"mammal\"\n",
        "  attr2 = \"dog\"\n",
        "  def fun(self):\n",
        "    print(\"I am a\",self.attr1)\n",
        "    print(\"I am a\",self.attr2)\n",
        "Butch = Dog()\n",
        "Butch.fun()"
      ],
      "metadata": {
        "colab": {
          "base_uri": "https://localhost:8080/"
        },
        "id": "JdUJ1toSemws",
        "outputId": "7381dd4d-2897-4b39-f509-2c8c144c94aa"
      },
      "execution_count": null,
      "outputs": [
        {
          "output_type": "stream",
          "name": "stdout",
          "text": [
            "I am a mammal\n",
            "I am a dog\n"
          ]
        }
      ]
    },
    {
      "cell_type": "code",
      "source": [
        "class Person:\n",
        "  def __init__(self,name):\n",
        "    self.name = name\n",
        "  def say_hi(self):\n",
        "    print(\"Hello my name is\",self.name)\n",
        "p = Person(\"Advay\")\n",
        "p.say_hi()"
      ],
      "metadata": {
        "colab": {
          "base_uri": "https://localhost:8080/"
        },
        "id": "cXdyn6oNhK32",
        "outputId": "5f7fb86c-9e63-4be4-9dcf-caaaf155b507"
      },
      "execution_count": null,
      "outputs": [
        {
          "output_type": "stream",
          "name": "stdout",
          "text": [
            "Hello my name is Advay\n"
          ]
        }
      ]
    },
    {
      "cell_type": "code",
      "source": [
        "numbers = [6,2,9,1,0,5,8,4,3,7]\n",
        "numbers.sort()\n",
        "print(numbers)"
      ],
      "metadata": {
        "colab": {
          "base_uri": "https://localhost:8080/"
        },
        "id": "1hte62S7kX3e",
        "outputId": "04bd66f8-fad9-452d-8e31-0f47c563e11c"
      },
      "execution_count": null,
      "outputs": [
        {
          "output_type": "stream",
          "name": "stdout",
          "text": [
            "[0, 1, 2, 3, 4, 5, 6, 7, 8, 9]\n"
          ]
        }
      ]
    },
    {
      "cell_type": "code",
      "source": [
        "class Dog:\n",
        "  animal = 'dog'\n",
        "  def __init__(self, breed, color):\n",
        "    self.breed=breed\n",
        "    self.color=color\n",
        "Butch = Dog(\"Pug\",\"Blue\")\n",
        "Spike = Dog(\"Bulldog\",\"Grey\")\n",
        "print('Butch details:')\n",
        "print('Butch is a',Butch.animal)\n",
        "print('Breed:',Butch.breed)\n",
        "print('Colour:',Spike.color)"
      ],
      "metadata": {
        "colab": {
          "base_uri": "https://localhost:8080/"
        },
        "id": "pXU4nxZuM8wx",
        "outputId": "3da08cfe-ad78-418f-8f35-a5367772f985"
      },
      "execution_count": null,
      "outputs": [
        {
          "output_type": "stream",
          "name": "stdout",
          "text": [
            "Butch details:\n",
            "Butch is a dog\n",
            "Breed: Pug\n",
            "Colour: Grey\n"
          ]
        }
      ]
    },
    {
      "cell_type": "code",
      "source": [
        "class Grandfather:\n",
        "  def __init__(self,grandfathername):\n",
        "    self.grandfathername=grandfathername\n",
        "class Father(Grandfather):\n",
        "  def __init__(self,fathername,grandfathername):\n",
        "    self.fathername=fathername\n",
        "    Grandfather.__init__(self,grandfathername)\n",
        "class Son(Father):\n",
        "  def __init__(self, sonname, fathername, grandfathername):\n",
        "    self.sonname=sonname\n",
        "    Father.__init__(self, fathername, grandfathername)\n",
        "  def print_name(self):\n",
        "    print('Grandfather name:',self.grandfathername)\n",
        "    print('Father name:',self.fathername)\n",
        "    print('Son name:',self.sonname)\n",
        "s1=Son(\"Advay Sharma\",\"Kapil Sharma\",\"Santosh Ghosh\")\n",
        "s1.print_name()"
      ],
      "metadata": {
        "colab": {
          "base_uri": "https://localhost:8080/"
        },
        "id": "dOSwLp9BTa-0",
        "outputId": "fc13e0aa-edc0-4bf1-d761-15e866383b45"
      },
      "execution_count": null,
      "outputs": [
        {
          "output_type": "stream",
          "name": "stdout",
          "text": [
            "Grandfather name: Santosh Ghosh\n",
            "Father name: Kapil Sharma\n",
            "Son name: Advay Sharma\n"
          ]
        }
      ]
    },
    {
      "cell_type": "code",
      "source": [
        "class Name:\n",
        "  class Lastname:\n",
        "    def __init__(self,last_name):\n",
        "      self.last_name=last_name\n",
        "  class Middlename(Lastname):\n",
        "    def __init__(self, middle_name, last_name):\n",
        "      self.middle_name=middle_name\n",
        "      Name.Lastname.__init__(self,last_name)\n",
        "  class Firstname(Middlename):\n",
        "    def __init__(self, first_name, middle_name, last_name):\n",
        "      self.first_name=first_name\n",
        "      Name.Middlename.__init__(self, middle_name, last_name)\n",
        "    def print_name(self):\n",
        "      print('Full Name:',self.first_name,self.middle_name,self.last_name)\n",
        "a = Name()\n",
        "c=a.Firstname(\"Advay\",\"Kapil\",\"Sharma\")\n",
        "c.print_name()"
      ],
      "metadata": {
        "colab": {
          "base_uri": "https://localhost:8080/"
        },
        "id": "mUMAzpVDbfJn",
        "outputId": "3f77cb24-1e54-45e2-a981-fcfaab93ec05"
      },
      "execution_count": null,
      "outputs": [
        {
          "output_type": "stream",
          "name": "stdout",
          "text": [
            "Full Name: Advay Kapil Sharma\n"
          ]
        }
      ]
    },
    {
      "cell_type": "code",
      "source": [
        "class Rectangle:\n",
        "  length=0.0\n",
        "  width=0.0\n",
        "  def get(self):\n",
        "    length=float(input(\"Enter the length: \"))\n",
        "    width=float(input(\"Enter the width: \"))\n",
        "    Rectangle.set(self,length,width)\n",
        "  def set(self,length,width):\n",
        "    self.length=length\n",
        "    self.width=width\n",
        "    if length>0 and length<20 and width>0 and width<20:\n",
        "      print(\"Verified Successfully!\")\n",
        "    else:\n",
        "      print(\"Not Verified successfully!\")\n",
        "      Rectangle.get(self)\n",
        "  def perimeter(self):\n",
        "    a=2*(self.length+self.width)\n",
        "    print(\"Perimeter=\",a)\n",
        "  def area(self):\n",
        "    b=self.length*self.width\n",
        "    print(\"Area=\",b)\n",
        "Rect1 = Rectangle()\n",
        "Rect1.get()\n",
        "Rect1.perimeter()\n",
        "Rect1.area()"
      ],
      "metadata": {
        "colab": {
          "base_uri": "https://localhost:8080/"
        },
        "id": "e7hQakK7vszI",
        "outputId": "ccd64dce-ee55-443a-dd1d-3d1c313bf05b"
      },
      "execution_count": null,
      "outputs": [
        {
          "output_type": "stream",
          "name": "stdout",
          "text": [
            "Enter the length: 21\n",
            "Enter the width: 59\n",
            "Not Verified successfully!\n",
            "Enter the length: 4\n",
            "Enter the width: 7\n",
            "Verified Successfully!\n",
            "Perimeter= 22.0\n",
            "Area= 28.0\n"
          ]
        }
      ]
    },
    {
      "cell_type": "code",
      "source": [
        "def calculate_total_marks(student):\n",
        "    return student['math'] + student['physics'] + student['chemistry']\n",
        "num_students = int(input(\"Enter the number of students: \"))\n",
        "students = []\n",
        "for i in range(num_students):\n",
        "    student = {}\n",
        "    student['name'] = input(f\"Enter the name of student {i + 1}: \")\n",
        "    student['id'] = input(f\"Enter the ID number of student {i + 1}: \")\n",
        "    student['math'] = float(input(f\"Enter the math marks for student {i + 1}: \"))\n",
        "    student['physics'] = float(input(f\"Enter the physics marks for student {i + 1}: \"))\n",
        "    student['chemistry'] = float(input(f\"Enter the chemistry marks for student {i + 1}: \"))\n",
        "    students.append(student)\n",
        "students.sort(key=calculate_total_marks, reverse=True)\n",
        "print(\"\\nStudents in descending order of total marks:\")\n",
        "for student in students:\n",
        "    print(f\"Name: {student['name']}, ID: {student['id']}, Total Marks: {calculate_total_marks(student)}\")\n"
      ],
      "metadata": {
        "colab": {
          "base_uri": "https://localhost:8080/"
        },
        "id": "O2ij6W8DfoDJ",
        "outputId": "e3ed8b7e-1241-4efc-bef4-45418862d44a"
      },
      "execution_count": null,
      "outputs": [
        {
          "output_type": "stream",
          "name": "stdout",
          "text": [
            "Enter the number of students: 5\n",
            "Enter the name of student 1: Advay\n",
            "Enter the ID number of student 1: 1\n",
            "Enter the math marks for student 1: 11\n",
            "Enter the physics marks for student 1: 16\n",
            "Enter the chemistry marks for student 1: 20\n",
            "Enter the name of student 2: Ronil\n",
            "Enter the ID number of student 2: 2\n",
            "Enter the math marks for student 2: 13\n",
            "Enter the physics marks for student 2: 14\n",
            "Enter the chemistry marks for student 2: 16\n",
            "Enter the name of student 3: Akshay\n",
            "Enter the ID number of student 3: 3\n",
            "Enter the math marks for student 3: 16\n",
            "Enter the physics marks for student 3: 17\n",
            "Enter the chemistry marks for student 3: 16\n",
            "Enter the name of student 4: Devansh\n",
            "Enter the ID number of student 4: 4\n",
            "Enter the math marks for student 4: 14\n",
            "Enter the physics marks for student 4: 16\n",
            "Enter the chemistry marks for student 4: 19\n",
            "Enter the name of student 5: Kaivalya\n",
            "Enter the ID number of student 5: 5\n",
            "Enter the math marks for student 5: 15\n",
            "Enter the physics marks for student 5: 18\n",
            "Enter the chemistry marks for student 5: 16\n",
            "\n",
            "Students in descending order of total marks:\n",
            "Name: Akshay, ID: 3, Total Marks: 49.0\n",
            "Name: Devansh, ID: 4, Total Marks: 49.0\n",
            "Name: Kaivalya, ID: 5, Total Marks: 49.0\n",
            "Name: Advay, ID: 1, Total Marks: 47.0\n",
            "Name: Ronil, ID: 2, Total Marks: 43.0\n"
          ]
        }
      ]
    },
    {
      "cell_type": "code",
      "source": [
        "class Square_Area:\n",
        "  def __init__(self,length):\n",
        "    self.length=length\n",
        "    print(\"Area of the square is:\",(length*length))\n",
        "class Rectangle_Area:\n",
        "  def __init__(self,length,width):\n",
        "    self.length=length\n",
        "    self.width=width\n",
        "    print(\"Area of the rectangle is\",(length*width))\n",
        "Square_Area(4)\n",
        "Rectangle_Area(3,6)"
      ],
      "metadata": {
        "colab": {
          "base_uri": "https://localhost:8080/"
        },
        "id": "nRpnoX-lMXga",
        "outputId": "2f668590-e2bd-4c53-f142-ce8516400b36"
      },
      "execution_count": null,
      "outputs": [
        {
          "output_type": "stream",
          "name": "stdout",
          "text": [
            "Area of the square is: 16\n",
            "Area of the rectangle is 18\n"
          ]
        },
        {
          "output_type": "execute_result",
          "data": {
            "text/plain": [
              "<__main__.Rectangle_Area at 0x7ffb2956cac0>"
            ]
          },
          "metadata": {},
          "execution_count": 4
        }
      ]
    },
    {
      "cell_type": "code",
      "source": [
        "def divide(a,b):\n",
        "  return a/b\n",
        "try:\n",
        "  res=divide(12,0)\n",
        "  print(res)\n",
        "except ZeroDivisionError:\n",
        "  print(\"You cannot divide by 0!\")"
      ],
      "metadata": {
        "colab": {
          "base_uri": "https://localhost:8080/"
        },
        "id": "4rl_wDa8iv2v",
        "outputId": "74c79cc7-fb57-4575-a2b3-1942915e3151"
      },
      "execution_count": null,
      "outputs": [
        {
          "output_type": "stream",
          "name": "stdout",
          "text": [
            "You cannot divide by 0!\n"
          ]
        }
      ]
    },
    {
      "cell_type": "code",
      "source": [
        "class InvalidMarks(Exception):\n",
        "    def __init__(self, marks):\n",
        "        super().__init__(f\"Marks obtained ({marks}) cannot exceed 100.\")\n",
        "\n",
        "def calculate_grade(marks):\n",
        "    if marks > 100:\n",
        "        raise InvalidMarks(marks)\n",
        "\n",
        "\n",
        "try:\n",
        "    student_marks = 11\n",
        "    calculate_grade(student_marks)\n",
        "except InvalidMarks as e:\n",
        "    print(f\"Error: {e}\")\n",
        "else:\n",
        "    print(f\"Student obtained {student_marks} marks.\")"
      ],
      "metadata": {
        "colab": {
          "base_uri": "https://localhost:8080/"
        },
        "id": "tuw7hHU-m8bQ",
        "outputId": "48570fa9-720c-4e6f-a5d8-3837b8f42448"
      },
      "execution_count": null,
      "outputs": [
        {
          "output_type": "stream",
          "name": "stdout",
          "text": [
            "Student obtained 11 marks.\n"
          ]
        }
      ]
    },
    {
      "cell_type": "code",
      "source": [
        "def myfunction():\n",
        "  a=float(input(\"Enter a: \"))\n",
        "  b=float(input(\"Enter b: \"))\n",
        "  c=float(input(\"Enter c: \"))\n",
        "  d=float(input(\"Enter d: \"))\n",
        "  if(b==0 or d==0):\n",
        "    print(\"B and D cannot have 0 value\")\n",
        "    myfunction()\n",
        "  else:\n",
        "    result=((a+d)+(b*c))/(b*d)\n",
        "    print(\"((a+d)+(b*c))/(b*d) = \",result)\n",
        "myfunction()"
      ],
      "metadata": {
        "colab": {
          "base_uri": "https://localhost:8080/"
        },
        "id": "b12N1LF6pWA8",
        "outputId": "8b90329e-dd64-4158-dcb9-2b6a2c5c8da8"
      },
      "execution_count": null,
      "outputs": [
        {
          "output_type": "stream",
          "name": "stdout",
          "text": [
            "Enter a: 2\n",
            "Enter b: 0\n",
            "Enter c: 5\n",
            "Enter d: 1\n",
            "B and D cannot have 0 value\n",
            "Enter a: 4\n",
            "Enter b: 8\n",
            "Enter c: 2\n",
            "Enter d: 9\n",
            "((a+d)+(b*c))/(b*d) =  0.4027777777777778\n"
          ]
        }
      ]
    },
    {
      "cell_type": "code",
      "source": [
        "class ZeroAdvay(Exception):\n",
        "  def __init__(self,a,b):\n",
        "    print(\"Please enter positive values only!\")\n",
        "def calculate(a,b):\n",
        "  if(a==0 or b==0):\n",
        "    raise ZeroAdvay(a,b)\n",
        "  else:\n",
        "    print(\"Product =\",(a*b))\n",
        "a=int(input(\"Enter b: \"))\n",
        "b=int(input(\"Enter d: \"))\n",
        "try:\n",
        "  calculate(a,b)\n",
        "except ZeroAdvay as e:\n",
        "  print(f\"Error: {e}\")"
      ],
      "metadata": {
        "colab": {
          "base_uri": "https://localhost:8080/"
        },
        "id": "PtYolya6vFEM",
        "outputId": "49f870b6-60f1-4e6e-a293-91186c60cd14"
      },
      "execution_count": null,
      "outputs": [
        {
          "output_type": "stream",
          "name": "stdout",
          "text": [
            "Enter b: 2\n",
            "Enter d: 0\n",
            "Please enter positive values only!\n",
            "Error: (2, 0)\n"
          ]
        }
      ]
    },
    {
      "cell_type": "code",
      "source": [
        "def divide(a, b):\n",
        "    assert b != 0, \"Division by zero is not allowed\"\n",
        "    return a / b\n",
        "\n",
        "try:\n",
        "    result = divide(10, 0)\n",
        "    print(\"Result:\", result)\n",
        "except AssertionError as error:\n",
        "    print(\"Assertion Error:\", error)"
      ],
      "metadata": {
        "id": "vlgBebBQyqR5",
        "outputId": "834e9d13-24ba-4bb3-8d8d-1636dd10525a",
        "colab": {
          "base_uri": "https://localhost:8080/"
        }
      },
      "execution_count": null,
      "outputs": [
        {
          "output_type": "stream",
          "name": "stdout",
          "text": [
            "Assertion Error: Division by zero is not allowed\n"
          ]
        }
      ]
    },
    {
      "cell_type": "code",
      "source": [
        "import random\n",
        "def get_choices():\n",
        "  player_choice = input(\"Enter a choice: rock, paper or scissor- \")\n",
        "  options = [\"rock\",\"paper\",\"scissor\"]\n",
        "  computer_choice = random.choice(options)\n",
        "  choices = {\"player\":player_choice, \"computer\":computer_choice}\n",
        "  print(choices)\n",
        "  check_win(player_choice, computer_choice)\n",
        "def check_win(player, computer):\n",
        "  if player == computer:\n",
        "    print(\"Its a tie!\")\n",
        "  elif (player==\"rock\" and computer==\"paper\"):\n",
        "    print(\"Computer Wins\")\n",
        "  elif (player==\"rock\" and computer==\"scissor\"):\n",
        "    print(\"Player Wins\")\n",
        "  elif (player==\"paper\" and computer==\"rock\"):\n",
        "    print(\"Player Wins\")\n",
        "  elif (player==\"paper\" and computer==\"scissor\"):\n",
        "    print(\"Computer Wins\")\n",
        "  elif (player==\"scissor\" and computer==\"rock\"):\n",
        "    print(\"Computer Wins\")\n",
        "  elif (player==\"scissor\" and computer == \"paper\"):\n",
        "    print(\"Player Wins\")\n",
        "  else:\n",
        "    print(\"Invalid Input!\")\n",
        "    get_choices()\n",
        "get_choices()"
      ],
      "metadata": {
        "colab": {
          "base_uri": "https://localhost:8080/"
        },
        "id": "3icgTZQZqv9Q",
        "outputId": "65c722ea-e08b-4d79-caad-f8f9f4fd1d48"
      },
      "execution_count": null,
      "outputs": [
        {
          "output_type": "stream",
          "name": "stdout",
          "text": [
            "Enter a choice: rock, paper or scissor- 3\n",
            "{'player': '3', 'computer': 'rock'}\n",
            "Invalid Input!\n",
            "Enter a choice: rock, paper or scissor- paper\n",
            "{'player': 'paper', 'computer': 'scissor'}\n",
            "Computer Wins\n"
          ]
        }
      ]
    },
    {
      "cell_type": "code",
      "source": [
        "#This is a commented line\n",
        "If = 1\n",
        "Else = 2\n",
        "print('If else') #This is an inline comment\n",
        "print(If,Else)\n",
        "print(type(Else))\n",
        "print(11/2)\n",
        "print(11//2)"
      ],
      "metadata": {
        "colab": {
          "base_uri": "https://localhost:8080/"
        },
        "id": "P8ACveTUV109",
        "outputId": "7b6ab605-df0a-4443-9a0a-57be3bc686f4"
      },
      "execution_count": null,
      "outputs": [
        {
          "output_type": "stream",
          "name": "stdout",
          "text": [
            "If else\n",
            "1 2\n",
            "<class 'int'>\n",
            "5.5\n",
            "5\n"
          ]
        }
      ]
    },
    {
      "cell_type": "code",
      "source": [
        "name = 'Advay said \"I am genious!\"'\n",
        "print(name.title())\n",
        "print(name[::-1])"
      ],
      "metadata": {
        "colab": {
          "base_uri": "https://localhost:8080/"
        },
        "id": "bKm-tlI9KBNl",
        "outputId": "ca3682e4-4e94-4f4b-dd15-58ab45f105ee"
      },
      "execution_count": null,
      "outputs": [
        {
          "output_type": "stream",
          "name": "stdout",
          "text": [
            "Advay Said \"I Am Genious!\"\n",
            "\"!suoineg ma I\" dias yavdA\n"
          ]
        }
      ]
    },
    {
      "cell_type": "code",
      "source": [
        "a=True\n",
        "b=False\n",
        "c=all([a,b])\n",
        "print(c)"
      ],
      "metadata": {
        "colab": {
          "base_uri": "https://localhost:8080/"
        },
        "id": "see8YaI4NxNq",
        "outputId": "2a3e5f01-7575-42b3-8ffc-b4f726c80a8d"
      },
      "execution_count": null,
      "outputs": [
        {
          "output_type": "stream",
          "name": "stdout",
          "text": [
            "False\n"
          ]
        }
      ]
    },
    {
      "cell_type": "code",
      "source": [
        "a=complex(8,5)\n",
        "b=complex(-3,-4)\n",
        "print(a+b)\n",
        "print(round(4.5,2))"
      ],
      "metadata": {
        "colab": {
          "base_uri": "https://localhost:8080/"
        },
        "id": "N6rkTfkSOVS6",
        "outputId": "af1b6716-3168-4395-8980-66393c0d333f"
      },
      "execution_count": null,
      "outputs": [
        {
          "output_type": "stream",
          "name": "stdout",
          "text": [
            "(5+1j)\n",
            "4.5\n"
          ]
        }
      ]
    },
    {
      "cell_type": "code",
      "source": [
        "import random\n",
        "color = [\"Blue\", \"Green\", \"Red\", \"Orange\", \"Violet\"]\n",
        "color.append(\"Indigo\")\n",
        "print(color)\n",
        "color.remove(\"Blue\")\n",
        "print(color)\n",
        "color.insert(2,\"Yellow\")\n",
        "print(color)\n",
        "color.sort()\n",
        "print(color)\n",
        "print(len(color))"
      ],
      "metadata": {
        "colab": {
          "base_uri": "https://localhost:8080/"
        },
        "id": "q40Fmn-iQ8_1",
        "outputId": "d0117e7a-603c-4ee1-df85-890ccc85811a"
      },
      "execution_count": null,
      "outputs": [
        {
          "output_type": "stream",
          "name": "stdout",
          "text": [
            "['Blue', 'Green', 'Red', 'Orange', 'Violet', 'Indigo']\n",
            "['Green', 'Red', 'Orange', 'Violet', 'Indigo']\n",
            "['Green', 'Red', 'Yellow', 'Orange', 'Violet', 'Indigo']\n",
            "['Green', 'Indigo', 'Orange', 'Red', 'Violet', 'Yellow']\n",
            "6\n"
          ]
        }
      ]
    },
    {
      "cell_type": "code",
      "source": [
        "name=(\"Advay\",\"Ronil\",\"Devansh\",\"Akshay\",\"Aditya\",\"Kaivalya\",\"Advay\")\n",
        "print(len(name))\n",
        "count=0\n",
        "for i in range (0,len(name)):\n",
        "  if name[i]==\"Devansh\":\n",
        "    print(i)"
      ],
      "metadata": {
        "colab": {
          "base_uri": "https://localhost:8080/"
        },
        "id": "15J-VciDV1QL",
        "outputId": "a21e9f97-c163-40d5-a02d-e48339bd8709"
      },
      "execution_count": null,
      "outputs": [
        {
          "output_type": "stream",
          "name": "stdout",
          "text": [
            "7\n",
            "2\n"
          ]
        }
      ]
    },
    {
      "cell_type": "code",
      "source": [
        "#Studying List\n",
        "stories = [\"Ramayana\",\"Mahabharat\",\"Vishnu Purana\",\"Advay\"]\n",
        "print(stories[-2])\n",
        "print(len(stories))\n",
        "stories.sort()\n",
        "print(stories)\n",
        "stories.append(\"Krishna\")\n",
        "print(stories)\n",
        "stories.reverse()\n",
        "print(stories)\n",
        "stories.index(\"Ramayana\")\n",
        "stories.insert(2,\"Advay\")\n",
        "print(stories)\n",
        "stories.count(\"Advay\")\n",
        "bro = stories.copy()\n",
        "print(bro)\n",
        "bro.clear()\n",
        "print(bro)"
      ],
      "metadata": {
        "colab": {
          "base_uri": "https://localhost:8080/"
        },
        "id": "3PhTP3Jvu7Wf",
        "outputId": "5a90d5d2-b511-42e3-eb48-255df0d8e1eb"
      },
      "execution_count": null,
      "outputs": [
        {
          "output_type": "stream",
          "name": "stdout",
          "text": [
            "Vishnu Purana\n",
            "4\n",
            "['Advay', 'Mahabharat', 'Ramayana', 'Vishnu Purana']\n",
            "['Advay', 'Mahabharat', 'Ramayana', 'Vishnu Purana', 'Krishna']\n",
            "['Krishna', 'Vishnu Purana', 'Ramayana', 'Mahabharat', 'Advay']\n",
            "['Krishna', 'Vishnu Purana', 'Advay', 'Ramayana', 'Mahabharat', 'Advay']\n",
            "['Krishna', 'Vishnu Purana', 'Advay', 'Ramayana', 'Mahabharat', 'Advay']\n",
            "[]\n"
          ]
        }
      ]
    },
    {
      "cell_type": "code",
      "source": [
        "tuple = (\"apple\",\"banana\",\"cherry\",\"banana\",\"banana\")\n",
        "print(tuple[2])\n",
        "print(tuple.index(\"cherry\"))\n",
        "print(tuple.count(\"banana\"))\n",
        "print(len(tuple))"
      ],
      "metadata": {
        "colab": {
          "base_uri": "https://localhost:8080/"
        },
        "id": "VnzVpxY_xWYD",
        "outputId": "73787422-4a91-4193-8704-43bff8420c23"
      },
      "execution_count": null,
      "outputs": [
        {
          "output_type": "stream",
          "name": "stdout",
          "text": [
            "cherry\n",
            "2\n",
            "3\n",
            "5\n"
          ]
        }
      ]
    },
    {
      "cell_type": "code",
      "source": [
        "person = {\"Name\":\"Advay\",\"Age\":19,\"DOB\":\"21-05-2004\",\"Father\":\"Kapil Sharma\",\"Mother\":\"Smita Sharma\",\"City\":\"Mumbai\",\"State\":\"Maharashtra\",\"Country\":\"India\"}\n",
        "print(person[\"Name\"])\n",
        "print(type(person))\n",
        "person.update({\"Name\":\"Aditi\"})\n",
        "print(person)\n",
        "person.pop(\"State\")\n",
        "print(person)\n",
        "list(person.keys())"
      ],
      "metadata": {
        "colab": {
          "base_uri": "https://localhost:8080/"
        },
        "id": "NdFb29Qg3j1H",
        "outputId": "2e1f9e10-69ab-424d-d06d-5878e4a433c9"
      },
      "execution_count": null,
      "outputs": [
        {
          "output_type": "stream",
          "name": "stdout",
          "text": [
            "Advay\n",
            "<class 'dict'>\n",
            "{'Name': 'Aditi', 'Age': 19, 'DOB': '21-05-2004', 'Father': 'Kapil Sharma', 'Mother': 'Smita Sharma', 'City': 'Mumbai', 'State': 'Maharashtra', 'Country': 'India'}\n",
            "{'Name': 'Aditi', 'Age': 19, 'DOB': '21-05-2004', 'Father': 'Kapil Sharma', 'Mother': 'Smita Sharma', 'City': 'Mumbai', 'Country': 'India'}\n"
          ]
        },
        {
          "output_type": "execute_result",
          "data": {
            "text/plain": [
              "['Name', 'Age', 'DOB', 'Father', 'Mother', 'City', 'Country']"
            ]
          },
          "metadata": {},
          "execution_count": 1
        }
      ]
    },
    {
      "cell_type": "code",
      "source": [
        "import tensorflow as tf\n",
        "from tensorflow.keras.layers import Embedding, LSTM, Dense\n",
        "from tensorflow.keras.models import Sequential\n",
        "from tensorflow.keras.preprocessing.text import Tokenizer\n",
        "from tensorflow.keras.preprocessing.sequence import pad_sequences\n",
        "\n",
        "# Sample text data\n",
        "data = [\"Hello, how are you?\", \"I'm doing fine, thank you.\", \"Goodbye!\"]\n",
        "\n",
        "# Tokenize the text data\n",
        "tokenizer = Tokenizer()\n",
        "tokenizer.fit_on_texts(data)\n",
        "total_words = len(tokenizer.word_index) + 1\n",
        "\n",
        "# Create input sequences\n",
        "input_sequences = []\n",
        "for line in data:\n",
        "    token_list = tokenizer.texts_to_sequences([line])[0]\n",
        "    for i in range(1, len(token_list)):\n",
        "        n_gram_sequence = token_list[:i+1]\n",
        "        input_sequences.append(n_gram_sequence)\n",
        "\n",
        "# Pad sequences for equal length\n",
        "max_sequence_len = max([len(x) for x in input_sequences])\n",
        "input_sequences = pad_sequences(input_sequences, maxlen=max_sequence_len, padding='pre')\n",
        "\n",
        "# Create predictors and labels\n",
        "predictors, label = input_sequences[:,:-1], input_sequences[:,-1]\n",
        "\n",
        "# Build the model\n",
        "model = Sequential()\n",
        "model.add(Embedding(total_words, 64, input_length=max_sequence_len-1))\n",
        "model.add(LSTM(100))\n",
        "model.add(Dense(total_words, activation='softmax'))\n",
        "\n",
        "model.compile(loss='sparse_categorical_crossentropy', optimizer='adam', metrics=['accuracy'])\n",
        "model.summary()\n",
        "\n",
        "# Train the model\n",
        "model.fit(predictors, label, epochs=100, verbose=1)\n"
      ],
      "metadata": {
        "id": "ih3IHasq8yXf",
        "outputId": "d292febd-51ad-4f49-f5c4-d8dd8f81b978",
        "colab": {
          "base_uri": "https://localhost:8080/"
        }
      },
      "execution_count": null,
      "outputs": [
        {
          "output_type": "stream",
          "name": "stdout",
          "text": [
            "Model: \"sequential\"\n",
            "_________________________________________________________________\n",
            " Layer (type)                Output Shape              Param #   \n",
            "=================================================================\n",
            " embedding (Embedding)       (None, 4, 64)             640       \n",
            "                                                                 \n",
            " lstm (LSTM)                 (None, 100)               66000     \n",
            "                                                                 \n",
            " dense (Dense)               (None, 10)                1010      \n",
            "                                                                 \n",
            "=================================================================\n",
            "Total params: 67650 (264.26 KB)\n",
            "Trainable params: 67650 (264.26 KB)\n",
            "Non-trainable params: 0 (0.00 Byte)\n",
            "_________________________________________________________________\n",
            "Epoch 1/100\n",
            "1/1 [==============================] - 2s 2s/step - loss: 2.3053 - accuracy: 0.0000e+00\n",
            "Epoch 2/100\n",
            "1/1 [==============================] - 0s 13ms/step - loss: 2.2972 - accuracy: 0.1429\n",
            "Epoch 3/100\n",
            "1/1 [==============================] - 0s 13ms/step - loss: 2.2891 - accuracy: 0.1429\n",
            "Epoch 4/100\n",
            "1/1 [==============================] - 0s 13ms/step - loss: 2.2808 - accuracy: 0.2857\n",
            "Epoch 5/100\n",
            "1/1 [==============================] - 0s 13ms/step - loss: 2.2723 - accuracy: 0.2857\n",
            "Epoch 6/100\n",
            "1/1 [==============================] - 0s 13ms/step - loss: 2.2636 - accuracy: 0.5714\n",
            "Epoch 7/100\n",
            "1/1 [==============================] - 0s 14ms/step - loss: 2.2544 - accuracy: 0.5714\n",
            "Epoch 8/100\n",
            "1/1 [==============================] - 0s 13ms/step - loss: 2.2448 - accuracy: 0.5714\n",
            "Epoch 9/100\n",
            "1/1 [==============================] - 0s 16ms/step - loss: 2.2347 - accuracy: 0.5714\n",
            "Epoch 10/100\n",
            "1/1 [==============================] - 0s 15ms/step - loss: 2.2239 - accuracy: 0.5714\n",
            "Epoch 11/100\n",
            "1/1 [==============================] - 0s 15ms/step - loss: 2.2124 - accuracy: 0.5714\n",
            "Epoch 12/100\n",
            "1/1 [==============================] - 0s 15ms/step - loss: 2.2001 - accuracy: 0.5714\n",
            "Epoch 13/100\n",
            "1/1 [==============================] - 0s 15ms/step - loss: 2.1868 - accuracy: 0.5714\n",
            "Epoch 14/100\n",
            "1/1 [==============================] - 0s 13ms/step - loss: 2.1725 - accuracy: 0.5714\n",
            "Epoch 15/100\n",
            "1/1 [==============================] - 0s 12ms/step - loss: 2.1570 - accuracy: 0.5714\n",
            "Epoch 16/100\n",
            "1/1 [==============================] - 0s 14ms/step - loss: 2.1402 - accuracy: 0.5714\n",
            "Epoch 17/100\n",
            "1/1 [==============================] - 0s 17ms/step - loss: 2.1220 - accuracy: 0.5714\n",
            "Epoch 18/100\n",
            "1/1 [==============================] - 0s 25ms/step - loss: 2.1022 - accuracy: 0.5714\n",
            "Epoch 19/100\n",
            "1/1 [==============================] - 0s 18ms/step - loss: 2.0806 - accuracy: 0.5714\n",
            "Epoch 20/100\n",
            "1/1 [==============================] - 0s 14ms/step - loss: 2.0573 - accuracy: 0.5714\n",
            "Epoch 21/100\n",
            "1/1 [==============================] - 0s 16ms/step - loss: 2.0320 - accuracy: 0.5714\n",
            "Epoch 22/100\n",
            "1/1 [==============================] - 0s 17ms/step - loss: 2.0046 - accuracy: 0.5714\n",
            "Epoch 23/100\n",
            "1/1 [==============================] - 0s 18ms/step - loss: 1.9750 - accuracy: 0.5714\n",
            "Epoch 24/100\n",
            "1/1 [==============================] - 0s 18ms/step - loss: 1.9431 - accuracy: 0.5714\n",
            "Epoch 25/100\n",
            "1/1 [==============================] - 0s 17ms/step - loss: 1.9091 - accuracy: 0.5714\n",
            "Epoch 26/100\n",
            "1/1 [==============================] - 0s 15ms/step - loss: 1.8729 - accuracy: 0.5714\n",
            "Epoch 27/100\n",
            "1/1 [==============================] - 0s 15ms/step - loss: 1.8347 - accuracy: 0.5714\n",
            "Epoch 28/100\n",
            "1/1 [==============================] - 0s 16ms/step - loss: 1.7948 - accuracy: 0.5714\n",
            "Epoch 29/100\n",
            "1/1 [==============================] - 0s 23ms/step - loss: 1.7537 - accuracy: 0.5714\n",
            "Epoch 30/100\n",
            "1/1 [==============================] - 0s 15ms/step - loss: 1.7118 - accuracy: 0.5714\n",
            "Epoch 31/100\n",
            "1/1 [==============================] - 0s 14ms/step - loss: 1.6697 - accuracy: 0.5714\n",
            "Epoch 32/100\n",
            "1/1 [==============================] - 0s 15ms/step - loss: 1.6280 - accuracy: 0.5714\n",
            "Epoch 33/100\n",
            "1/1 [==============================] - 0s 19ms/step - loss: 1.5869 - accuracy: 0.5714\n",
            "Epoch 34/100\n",
            "1/1 [==============================] - 0s 19ms/step - loss: 1.5466 - accuracy: 0.5714\n",
            "Epoch 35/100\n",
            "1/1 [==============================] - 0s 18ms/step - loss: 1.5069 - accuracy: 0.5714\n",
            "Epoch 36/100\n",
            "1/1 [==============================] - 0s 15ms/step - loss: 1.4674 - accuracy: 0.5714\n",
            "Epoch 37/100\n",
            "1/1 [==============================] - 0s 14ms/step - loss: 1.4277 - accuracy: 0.5714\n",
            "Epoch 38/100\n",
            "1/1 [==============================] - 0s 15ms/step - loss: 1.3875 - accuracy: 0.5714\n",
            "Epoch 39/100\n",
            "1/1 [==============================] - 0s 19ms/step - loss: 1.3468 - accuracy: 0.7143\n",
            "Epoch 40/100\n",
            "1/1 [==============================] - 0s 17ms/step - loss: 1.3058 - accuracy: 0.7143\n",
            "Epoch 41/100\n",
            "1/1 [==============================] - 0s 21ms/step - loss: 1.2649 - accuracy: 0.7143\n",
            "Epoch 42/100\n",
            "1/1 [==============================] - 0s 20ms/step - loss: 1.2246 - accuracy: 0.8571\n",
            "Epoch 43/100\n",
            "1/1 [==============================] - 0s 15ms/step - loss: 1.1854 - accuracy: 0.8571\n",
            "Epoch 44/100\n",
            "1/1 [==============================] - 0s 18ms/step - loss: 1.1476 - accuracy: 0.8571\n",
            "Epoch 45/100\n",
            "1/1 [==============================] - 0s 17ms/step - loss: 1.1110 - accuracy: 0.8571\n",
            "Epoch 46/100\n",
            "1/1 [==============================] - 0s 16ms/step - loss: 1.0754 - accuracy: 0.8571\n",
            "Epoch 47/100\n",
            "1/1 [==============================] - 0s 16ms/step - loss: 1.0401 - accuracy: 0.8571\n",
            "Epoch 48/100\n",
            "1/1 [==============================] - 0s 14ms/step - loss: 1.0049 - accuracy: 0.8571\n",
            "Epoch 49/100\n",
            "1/1 [==============================] - 0s 16ms/step - loss: 0.9694 - accuracy: 0.8571\n",
            "Epoch 50/100\n",
            "1/1 [==============================] - 0s 13ms/step - loss: 0.9339 - accuracy: 0.8571\n",
            "Epoch 51/100\n",
            "1/1 [==============================] - 0s 16ms/step - loss: 0.8984 - accuracy: 0.8571\n",
            "Epoch 52/100\n",
            "1/1 [==============================] - 0s 16ms/step - loss: 0.8632 - accuracy: 0.8571\n",
            "Epoch 53/100\n",
            "1/1 [==============================] - 0s 18ms/step - loss: 0.8284 - accuracy: 0.8571\n",
            "Epoch 54/100\n",
            "1/1 [==============================] - 0s 14ms/step - loss: 0.7941 - accuracy: 0.8571\n",
            "Epoch 55/100\n",
            "1/1 [==============================] - 0s 14ms/step - loss: 0.7602 - accuracy: 1.0000\n",
            "Epoch 56/100\n",
            "1/1 [==============================] - 0s 15ms/step - loss: 0.7267 - accuracy: 1.0000\n",
            "Epoch 57/100\n",
            "1/1 [==============================] - 0s 19ms/step - loss: 0.6933 - accuracy: 1.0000\n",
            "Epoch 58/100\n",
            "1/1 [==============================] - 0s 13ms/step - loss: 0.6603 - accuracy: 1.0000\n",
            "Epoch 59/100\n",
            "1/1 [==============================] - 0s 20ms/step - loss: 0.6277 - accuracy: 1.0000\n",
            "Epoch 60/100\n",
            "1/1 [==============================] - 0s 19ms/step - loss: 0.5958 - accuracy: 1.0000\n",
            "Epoch 61/100\n",
            "1/1 [==============================] - 0s 14ms/step - loss: 0.5646 - accuracy: 1.0000\n",
            "Epoch 62/100\n",
            "1/1 [==============================] - 0s 21ms/step - loss: 0.5340 - accuracy: 1.0000\n",
            "Epoch 63/100\n",
            "1/1 [==============================] - 0s 18ms/step - loss: 0.5039 - accuracy: 1.0000\n",
            "Epoch 64/100\n",
            "1/1 [==============================] - 0s 13ms/step - loss: 0.4742 - accuracy: 1.0000\n",
            "Epoch 65/100\n",
            "1/1 [==============================] - 0s 17ms/step - loss: 0.4449 - accuracy: 1.0000\n",
            "Epoch 66/100\n",
            "1/1 [==============================] - 0s 16ms/step - loss: 0.4162 - accuracy: 1.0000\n",
            "Epoch 67/100\n",
            "1/1 [==============================] - 0s 13ms/step - loss: 0.3883 - accuracy: 1.0000\n",
            "Epoch 68/100\n",
            "1/1 [==============================] - 0s 15ms/step - loss: 0.3612 - accuracy: 1.0000\n",
            "Epoch 69/100\n",
            "1/1 [==============================] - 0s 18ms/step - loss: 0.3353 - accuracy: 1.0000\n",
            "Epoch 70/100\n",
            "1/1 [==============================] - 0s 21ms/step - loss: 0.3106 - accuracy: 1.0000\n",
            "Epoch 71/100\n",
            "1/1 [==============================] - 0s 20ms/step - loss: 0.2872 - accuracy: 1.0000\n",
            "Epoch 72/100\n",
            "1/1 [==============================] - 0s 16ms/step - loss: 0.2651 - accuracy: 1.0000\n",
            "Epoch 73/100\n",
            "1/1 [==============================] - 0s 15ms/step - loss: 0.2445 - accuracy: 1.0000\n",
            "Epoch 74/100\n",
            "1/1 [==============================] - 0s 16ms/step - loss: 0.2252 - accuracy: 1.0000\n",
            "Epoch 75/100\n",
            "1/1 [==============================] - 0s 15ms/step - loss: 0.2072 - accuracy: 1.0000\n",
            "Epoch 76/100\n",
            "1/1 [==============================] - 0s 14ms/step - loss: 0.1905 - accuracy: 1.0000\n",
            "Epoch 77/100\n",
            "1/1 [==============================] - 0s 14ms/step - loss: 0.1751 - accuracy: 1.0000\n",
            "Epoch 78/100\n",
            "1/1 [==============================] - 0s 14ms/step - loss: 0.1610 - accuracy: 1.0000\n",
            "Epoch 79/100\n",
            "1/1 [==============================] - 0s 14ms/step - loss: 0.1481 - accuracy: 1.0000\n",
            "Epoch 80/100\n",
            "1/1 [==============================] - 0s 13ms/step - loss: 0.1363 - accuracy: 1.0000\n",
            "Epoch 81/100\n",
            "1/1 [==============================] - 0s 15ms/step - loss: 0.1255 - accuracy: 1.0000\n",
            "Epoch 82/100\n",
            "1/1 [==============================] - 0s 14ms/step - loss: 0.1155 - accuracy: 1.0000\n",
            "Epoch 83/100\n",
            "1/1 [==============================] - 0s 14ms/step - loss: 0.1065 - accuracy: 1.0000\n",
            "Epoch 84/100\n",
            "1/1 [==============================] - 0s 13ms/step - loss: 0.0982 - accuracy: 1.0000\n",
            "Epoch 85/100\n",
            "1/1 [==============================] - 0s 14ms/step - loss: 0.0906 - accuracy: 1.0000\n",
            "Epoch 86/100\n",
            "1/1 [==============================] - 0s 13ms/step - loss: 0.0837 - accuracy: 1.0000\n",
            "Epoch 87/100\n",
            "1/1 [==============================] - 0s 14ms/step - loss: 0.0774 - accuracy: 1.0000\n",
            "Epoch 88/100\n",
            "1/1 [==============================] - 0s 16ms/step - loss: 0.0716 - accuracy: 1.0000\n",
            "Epoch 89/100\n",
            "1/1 [==============================] - 0s 14ms/step - loss: 0.0664 - accuracy: 1.0000\n",
            "Epoch 90/100\n",
            "1/1 [==============================] - 0s 14ms/step - loss: 0.0616 - accuracy: 1.0000\n",
            "Epoch 91/100\n",
            "1/1 [==============================] - 0s 14ms/step - loss: 0.0573 - accuracy: 1.0000\n",
            "Epoch 92/100\n",
            "1/1 [==============================] - 0s 14ms/step - loss: 0.0533 - accuracy: 1.0000\n",
            "Epoch 93/100\n",
            "1/1 [==============================] - 0s 14ms/step - loss: 0.0497 - accuracy: 1.0000\n",
            "Epoch 94/100\n",
            "1/1 [==============================] - 0s 15ms/step - loss: 0.0464 - accuracy: 1.0000\n",
            "Epoch 95/100\n",
            "1/1 [==============================] - 0s 16ms/step - loss: 0.0434 - accuracy: 1.0000\n",
            "Epoch 96/100\n",
            "1/1 [==============================] - 0s 14ms/step - loss: 0.0407 - accuracy: 1.0000\n",
            "Epoch 97/100\n",
            "1/1 [==============================] - 0s 37ms/step - loss: 0.0382 - accuracy: 1.0000\n",
            "Epoch 98/100\n",
            "1/1 [==============================] - 0s 14ms/step - loss: 0.0358 - accuracy: 1.0000\n",
            "Epoch 99/100\n",
            "1/1 [==============================] - 0s 13ms/step - loss: 0.0337 - accuracy: 1.0000\n",
            "Epoch 100/100\n",
            "1/1 [==============================] - 0s 13ms/step - loss: 0.0318 - accuracy: 1.0000\n"
          ]
        },
        {
          "output_type": "execute_result",
          "data": {
            "text/plain": [
              "<keras.src.callbacks.History at 0x7d31cc2a5450>"
            ]
          },
          "metadata": {},
          "execution_count": 1
        }
      ]
    },
    {
      "cell_type": "code",
      "source": [
        "import pandas as pd\n",
        "import matplotlib.pyplot as plt\n",
        "# Load the dataset\n",
        "df = pd.read_excel('/content/sample_data/Electronic-store-sales-details.xls')\n",
        "# Display the first few rows of the dataframe\n",
        "print(df.head())\n",
        "# Check the data types and missing values\n",
        "print(df.info())\n",
        "# Create bins on sales measure\n",
        "bins = [0, 500, 1000, 1500, 2000, 2500, 3000, 3500, 4000, 4500, 5000]\n",
        "labels = ['0-500', '501-1000', '1001-1500', '1501-2000', '2001-2500', '2501-3000', '3001-3500', '3501-4000', '4001-4500', '4501-5000']\n",
        "df['Sales_Bins'] = pd.cut(df['Sales'], bins=bins, labels=labels)\n",
        "# Visualize sales distribution\n",
        "plt.figure(figsize=(10, 6))\n",
        "plt.hist(df['Sales'], bins=bins, color='skyblue', edgecolor='black')\n",
        "plt.title('Sales Distribution')\n",
        "plt.xlabel('Sales')\n",
        "plt.ylabel('Frequency')\n",
        "plt.grid(True)\n",
        "plt.show()\n",
        "# Filter the data using regions\n",
        "regions = df['Region'].unique()\n",
        "for region in regions:\n",
        "    region_data = df[df['Region'] == region]\n",
        "    plt.figure(figsize=(8, 5))\n",
        "    plt.hist(region_data['Sales'], bins=bins, color='skyblue', edgecolor='black')\n",
        "    plt.title(f'Sales Distribution in {region}')\n",
        "    plt.xlabel('Sales')\n",
        "    plt.ylabel('Frequency')\n",
        "    plt.grid(True)\n",
        "    plt.show()"
      ],
      "metadata": {
        "id": "HRwRemB1Q8Yw",
        "colab": {
          "base_uri": "https://localhost:8080/",
          "height": 1000
        },
        "outputId": "095e97c7-6f91-49a2-b034-c92330acbb99"
      },
      "execution_count": null,
      "outputs": [
        {
          "output_type": "stream",
          "name": "stdout",
          "text": [
            "   Row ID        Order ID Order Date  Ship Date       Ship Mode Customer ID  \\\n",
            "0       1  CA-2016-152156 2016-11-08 2016-11-11    Second Class    CG-12520   \n",
            "1       2  CA-2016-152156 2016-11-08 2016-11-11    Second Class    CG-12520   \n",
            "2       3  CA-2016-138688 2016-06-12 2016-06-16    Second Class    DV-13045   \n",
            "3       4  US-2019-108966 2019-10-11 2019-10-18  Standard Class    SO-20335   \n",
            "4       5  US-2019-108966 2019-10-11 2019-10-18  Standard Class    SO-20335   \n",
            "\n",
            "     Customer Name    Segment        Country             City  ...  \\\n",
            "0      Claire Gute   Consumer  United States        Henderson  ...   \n",
            "1      Claire Gute   Consumer  United States        Henderson  ...   \n",
            "2  Darrin Van Huff  Corporate  United States      Los Angeles  ...   \n",
            "3   Sean O'Donnell   Consumer  United States  Fort Lauderdale  ...   \n",
            "4   Sean O'Donnell   Consumer  United States  Fort Lauderdale  ...   \n",
            "\n",
            "  Postal Code  Region       Product ID       Category Sub-Category  \\\n",
            "0       42420   South  FUR-BO-10001798        Laptops         Dell   \n",
            "1       42420   South  FUR-CH-10000454        Laptops           HP   \n",
            "2       90036    West  OFF-LA-10000240  Mobile Phones          HTC   \n",
            "3       33311   South  FUR-TA-10000577        Laptops       Lenovo   \n",
            "4       33311   South  OFF-ST-10000760  Mobile Phones      OnePlus   \n",
            "\n",
            "                                        Product Name     Sales  Quantity  \\\n",
            "0                  Bush Somerset Collection Bookcase  261.9600         2   \n",
            "1  Hon Deluxe Fabric Upholstered Stacking HP, Rou...  731.9400         3   \n",
            "2  Self-Adhesive Address HTC for Typewriters by U...   14.6200         2   \n",
            "3      Bretford CR4500 Series Slim Rectangular Table  957.5775         5   \n",
            "4                      Eldon Fold 'N Roll CLG System   22.3680         2   \n",
            "\n",
            "   Discount    Profit  \n",
            "0      0.00   41.9136  \n",
            "1      0.00  219.5820  \n",
            "2      0.00    6.8714  \n",
            "3      0.45 -383.0310  \n",
            "4      0.20    2.5164  \n",
            "\n",
            "[5 rows x 21 columns]\n",
            "<class 'pandas.core.frame.DataFrame'>\n",
            "RangeIndex: 9994 entries, 0 to 9993\n",
            "Data columns (total 21 columns):\n",
            " #   Column         Non-Null Count  Dtype         \n",
            "---  ------         --------------  -----         \n",
            " 0   Row ID         9994 non-null   int64         \n",
            " 1   Order ID       9994 non-null   object        \n",
            " 2   Order Date     9994 non-null   datetime64[ns]\n",
            " 3   Ship Date      9994 non-null   datetime64[ns]\n",
            " 4   Ship Mode      9994 non-null   object        \n",
            " 5   Customer ID    9994 non-null   object        \n",
            " 6   Customer Name  9994 non-null   object        \n",
            " 7   Segment        9994 non-null   object        \n",
            " 8   Country        9994 non-null   object        \n",
            " 9   City           9994 non-null   object        \n",
            " 10  State          9994 non-null   object        \n",
            " 11  Postal Code    9994 non-null   int64         \n",
            " 12  Region         9994 non-null   object        \n",
            " 13  Product ID     9994 non-null   object        \n",
            " 14  Category       9994 non-null   object        \n",
            " 15  Sub-Category   9994 non-null   object        \n",
            " 16  Product Name   9994 non-null   object        \n",
            " 17  Sales          9994 non-null   float64       \n",
            " 18  Quantity       9994 non-null   int64         \n",
            " 19  Discount       9994 non-null   float64       \n",
            " 20  Profit         9994 non-null   float64       \n",
            "dtypes: datetime64[ns](2), float64(3), int64(3), object(13)\n",
            "memory usage: 1.6+ MB\n",
            "None\n"
          ]
        },
        {
          "output_type": "display_data",
          "data": {
            "text/plain": [
              "<Figure size 1000x600 with 1 Axes>"
            ],
            "image/png": "[encoded data removed]"
          },
          "metadata": {}
        },
        {
          "output_type": "display_data",
          "data": {
            "text/plain": [
              "<Figure size 800x500 with 1 Axes>"
            ],
            "image/png": "[encoded data removed]"
          },
          "metadata": {}
        },
        {
          "output_type": "display_data",
          "data": {
            "text/plain": [
              "<Figure size 800x500 with 1 Axes>"
            ],
            "image/png": "[encoded data removed]"
          },
          "metadata": {}
        },
        {
          "output_type": "display_data",
          "data": {
            "text/plain": [
              "<Figure size 800x500 with 1 Axes>"
            ],
            "image/png": "[encoded data removed]"
          },
          "metadata": {}
        },
        {
          "output_type": "display_data",
          "data": {
            "text/plain": [
              "<Figure size 800x500 with 1 Axes>"
            ],
            "image/png": "[encoded data removed]"
          },
          "metadata": {}
        }
      ]
    },
    {
      "cell_type": "code",
      "source": [
        "import pandas as pd\n",
        "import matplotlib.pyplot as plt\n",
        "\n",
        "# Convert 'Order Date' and 'Ship Date' to datetime objects\n",
        "df['Order Date'] = pd.to_datetime(df['Order Date'])\n",
        "df['Ship Date'] = pd.to_datetime(df['Ship Date'])\n",
        "\n",
        "# Create bins on sales measure\n",
        "bins = [0, 500, 1000, 1500, 2000, 2500, 3000, 3500, 4000, 4500, 5000]\n",
        "labels = ['0-500', '501-1000', '1001-1500', '1501-2000', '2001-2500', '2501-3000', '3001-3500', '3501-4000', '4001-4500', '4501-5000']\n",
        "df['Sales_Bins'] = pd.cut(df['Sales'], bins=bins, labels=labels)\n",
        "\n",
        "# Visualize sales distribution\n",
        "plt.figure(figsize=(10, 6))\n",
        "plt.hist(df['Sales'], bins=bins, color='skyblue', edgecolor='black')\n",
        "plt.title('Sales Distribution')\n",
        "plt.xlabel('Sales')\n",
        "plt.ylabel('Frequency')\n",
        "plt.grid(True)\n",
        "plt.show()\n",
        "\n",
        "# Filter the data using regions\n",
        "regions = df['Region'].unique()\n",
        "for region in regions:\n",
        "    region_data = df[df['Region'] == region]\n",
        "    plt.figure(figsize=(8, 5))\n",
        "    plt.hist(region_data['Sales'], bins=bins, color='skyblue', edgecolor='black')\n",
        "    plt.title(f'Sales Distribution in {region}')\n",
        "    plt.xlabel('Sales')\n",
        "    plt.ylabel('Frequency')\n",
        "    plt.grid(True)\n",
        "    plt.show()"
      ],
      "metadata": {
        "colab": {
          "base_uri": "https://localhost:8080/",
          "height": 1000
        },
        "id": "MUb9tx0qvrbw",
        "outputId": "218d1304-aa6a-4a2a-d737-7ababb1b9d3d"
      },
      "execution_count": null,
      "outputs": [
        {
          "output_type": "display_data",
          "data": {
            "text/plain": [
              "<Figure size 1000x600 with 1 Axes>"
            ],
            "image/png": "[encoded data removed]"
          },
          "metadata": {}
        },
        {
          "output_type": "display_data",
          "data": {
            "text/plain": [
              "<Figure size 800x500 with 1 Axes>"
            ],
            "image/png": "[encoded data removed]"
          },
          "metadata": {}
        },
        {
          "output_type": "display_data",
          "data": {
            "text/plain": [
              "<Figure size 800x500 with 1 Axes>"
            ],
            "image/png": "[encoded data removed]"
          },
          "metadata": {}
        },
        {
          "output_type": "display_data",
          "data": {
            "text/plain": [
              "<Figure size 800x500 with 1 Axes>"
            ],
            "image/png": "[encoded data removed]"
          },
          "metadata": {}
        },
        {
          "output_type": "display_data",
          "data": {
            "text/plain": [
              "<Figure size 800x500 with 1 Axes>"
            ],
            "image/png": "[encoded data removed]"
          },
          "metadata": {}
        }
      ]
    },
    {
      "cell_type": "code",
      "source": [
        "%%file swap.c\n",
        "#include<stdio.h>\n",
        "int main (void)\n",
        "{\n",
        "    printf(\"Hello World!\");\n",
        "    return(0);\n",
        "}"
      ],
      "metadata": {
        "id": "JwCCRsaGxshj",
        "colab": {
          "base_uri": "https://localhost:8080/"
        },
        "outputId": "cd3308bb-0ea2-4c15-e965-d2d501918a0f"
      },
      "execution_count": null,
      "outputs": [
        {
          "output_type": "stream",
          "name": "stdout",
          "text": [
            "Writing c_program.c\n"
          ]
        }
      ]
    },
    {
      "cell_type": "code",
      "source": [
        "%%bash\n",
        "gcc c_program.c -g -o c_program"
      ],
      "metadata": {
        "id": "ghMJIj_ZnOEa"
      },
      "execution_count": null,
      "outputs": []
    },
    {
      "cell_type": "code",
      "source": [
        "%%bash\n",
        "./c_program"
      ],
      "metadata": {
        "colab": {
          "base_uri": "https://localhost:8080/"
        },
        "id": "-p2r-BnHnhTF",
        "outputId": "4a35f275-210d-41bc-9f46-09fab633acb0"
      },
      "execution_count": null,
      "outputs": [
        {
          "output_type": "stream",
          "name": "stdout",
          "text": [
            "Hello World!"
          ]
        }
      ]
    },
    {
      "cell_type": "code",
      "source": [
        "!pip install db"
      ],
      "metadata": {
        "colab": {
          "base_uri": "https://localhost:8080/"
        },
        "id": "cL00GiCFbVcl",
        "outputId": "0affe6fa-54d7-49d7-b30f-9e993d698775"
      },
      "execution_count": null,
      "outputs": [
        {
          "output_type": "stream",
          "name": "stdout",
          "text": [
            "Collecting db\n",
            "  Downloading db-0.1.1.tar.gz (3.4 kB)\n",
            "  Preparing metadata (setup.py) ... \u001b[?25l\u001b[?25hdone\n",
            "Collecting antiorm (from db)\n",
            "  Downloading antiorm-1.2.1.tar.gz (171 kB)\n",
            "\u001b[2K     \u001b[90m━━━━━━━━━━━━━━━━━━━━━━━━━━━━━━━━━━━━━━━━\u001b[0m \u001b[32m172.0/172.0 kB\u001b[0m \u001b[31m3.8 MB/s\u001b[0m eta \u001b[36m0:00:00\u001b[0m\n",
            "\u001b[?25h  Preparing metadata (setup.py) ... \u001b[?25l\u001b[?25hdone\n",
            "Building wheels for collected packages: db, antiorm\n",
            "  Building wheel for db (setup.py) ... \u001b[?25l\u001b[?25hdone\n",
            "  Created wheel for db: filename=db-0.1.1-py3-none-any.whl size=3875 sha256=27bb744c2a0d76d0697a3e182868d59c3db124f07cb22996b8dc99fadaaa013a\n",
            "  Stored in directory: /root/.cache/pip/wheels/7d/e4/df/bc55b93af204ab098d9effec76f6889ad12d7ad74e833c4910\n",
            "  Building wheel for antiorm (setup.py) ... \u001b[?25l\u001b[?25hdone\n",
            "  Created wheel for antiorm: filename=antiorm-1.2.1-py3-none-any.whl size=31665 sha256=501d230eaeda9901c43925319deb333aafd30e68471900279e69c0de30877d49\n",
            "  Stored in directory: /root/.cache/pip/wheels/30/9f/7e/b7c95b391cfa77a9e722d359e9c669cf6c8d798d748aec5091\n",
            "Successfully built db antiorm\n",
            "Installing collected packages: antiorm, db\n",
            "Successfully installed antiorm-1.2.1 db-0.1.1\n"
          ]
        }
      ]
    },
    {
      "cell_type": "code",
      "source": [
        "import sqlite3\n",
        "\n",
        "# Connect to the SQLite database (or create one if it doesn't exist)\n",
        "conn = sqlite3.connect('example.db')\n",
        "\n",
        "# Create a cursor object to execute SQL commands\n",
        "cursor = conn.cursor()\n",
        "\n",
        "# Create a table\n",
        "cursor.execute('''CREATE TABLE IF NOT EXISTS users\n",
        "                  (id INTEGER PRIMARY KEY, name TEXT, age INTEGER)''')\n",
        "\n",
        "# Insert data into the table\n",
        "cursor.execute(\"INSERT INTO users (name, age) VALUES (?, ?)\", ('Alice', 30))\n",
        "cursor.execute(\"INSERT INTO users (name, age) VALUES (?, ?)\", ('Bob', 25))\n",
        "cursor.execute(\"INSERT INTO users (name, age) VALUES (?, ?)\", ('Charlie', 35))\n",
        "\n",
        "# Commit the transaction\n",
        "conn.commit()\n",
        "\n",
        "# Execute a SELECT query\n",
        "cursor.execute(\"SELECT * FROM users\")\n",
        "rows = cursor.fetchall()\n",
        "\n",
        "# Print the results\n",
        "for row in rows:\n",
        "    print(row)\n",
        "\n",
        "# Close the cursor and connection\n",
        "cursor.close()\n",
        "conn.close()\n"
      ],
      "metadata": {
        "id": "SOvTCQN3cBA2",
        "outputId": "cb81bc0d-2b2a-4d7a-96fe-8aae7e85fa46",
        "colab": {
          "base_uri": "https://localhost:8080/"
        }
      },
      "execution_count": null,
      "outputs": [
        {
          "output_type": "stream",
          "name": "stdout",
          "text": [
            "(1, 'Alice', 30)\n",
            "(2, 'Bob', 25)\n",
            "(3, 'Charlie', 35)\n"
          ]
        }
      ]
    },
    {
      "cell_type": "code",
      "source": [
        "!pip install opencv-python dlib numpy"
      ],
      "metadata": {
        "id": "C8TWUkJVh_G4",
        "colab": {
          "base_uri": "https://localhost:8080/"
        },
        "outputId": "022f60da-ca79-4fa7-b6a4-048770f07665"
      },
      "execution_count": null,
      "outputs": [
        {
          "output_type": "stream",
          "name": "stdout",
          "text": [
            "Requirement already satisfied: opencv-python in /usr/local/lib/python3.10/dist-packages (4.8.0.76)\n",
            "Requirement already satisfied: dlib in /usr/local/lib/python3.10/dist-packages (19.24.4)\n",
            "Requirement already satisfied: numpy in /usr/local/lib/python3.10/dist-packages (1.25.2)\n"
          ]
        }
      ]
    },
    {
      "cell_type": "code",
      "source": [
        "import cv2\n",
        "\n",
        "# Load the pre-trained Haar Cascade classifier for face detection\n",
        "face_cascade = cv2.CascadeClassifier(cv2.data.haarcascades + 'haarcascade_frontalface_default.xml')\n",
        "\n",
        "# Open video capture\n",
        "cap = cv2.VideoCapture(0)\n",
        "\n",
        "while True:\n",
        "    ret, frame = cap.read()\n",
        "    if not ret:\n",
        "        break\n",
        "\n",
        "    # Convert frame to grayscale as face detection works better on grayscale images\n",
        "    gray = cv2.cvtColor(frame, cv2.COLOR_BGR2GRAY)\n",
        "\n",
        "    # Detect faces\n",
        "    faces = face_cascade.detectMultiScale(gray, scaleFactor=1.1, minNeighbors=5, minSize=(30, 30))\n",
        "\n",
        "    # Draw green bounding boxes around detected faces\n",
        "    for (x, y, w, h) in faces:\n",
        "        cv2.rectangle(frame, (x, y), (x+w, y+h), (0, 255, 0), 2)\n",
        "\n",
        "    # Display the frame with bounding boxes\n",
        "    cv2.imshow(\"Face Detection\", frame)\n",
        "\n",
        "    # Break the loop on 'q' key press\n",
        "    if cv2.waitKey(1) & 0xFF == ord('q'):\n",
        "        break\n",
        "\n",
        "# Release video capture and close windows\n",
        "cap.release()\n",
        "cv2.destroyAllWindows()\n"
      ],
      "metadata": {
        "id": "LbLuM-jCE5AU"
      },
      "execution_count": null,
      "outputs": []
    },
    {
      "cell_type": "code",
      "source": [
        "import cv2\n",
        "import matplotlib.pyplot as plt\n",
        "import numpy as np"
      ],
      "metadata": {
        "id": "Foml9NVqm6Qh"
      },
      "execution_count": null,
      "outputs": []
    },
    {
      "cell_type": "code",
      "source": [
        "!pip install ultralytics\n",
        "from ultralytics import YOLO"
      ],
      "metadata": {
        "colab": {
          "base_uri": "https://localhost:8080/"
        },
        "id": "AwhLw3FK4k4W",
        "outputId": "e79da5e4-7ef9-4b3e-f931-43fceca39aac"
      },
      "execution_count": null,
      "outputs": [
        {
          "output_type": "stream",
          "name": "stdout",
          "text": [
            "Collecting ultralytics\n",
            "  Downloading ultralytics-8.2.32-py3-none-any.whl (780 kB)\n",
            "\u001b[2K     \u001b[90m━━━━━━━━━━━━━━━━━━━━━━━━━━━━━━━━━━━━━━━━\u001b[0m \u001b[32m780.6/780.6 kB\u001b[0m \u001b[31m8.5 MB/s\u001b[0m eta \u001b[36m0:00:00\u001b[0m\n",
            "\u001b[?25hRequirement already satisfied: matplotlib>=3.3.0 in /usr/local/lib/python3.10/dist-packages (from ultralytics) (3.7.1)\n",
            "Requirement already satisfied: opencv-python>=4.6.0 in /usr/local/lib/python3.10/dist-packages (from ultralytics) (4.8.0.76)\n",
            "Requirement already satisfied: pillow>=7.1.2 in /usr/local/lib/python3.10/dist-packages (from ultralytics) (9.4.0)\n",
            "Requirement already satisfied: pyyaml>=5.3.1 in /usr/local/lib/python3.10/dist-packages (from ultralytics) (6.0.1)\n",
            "Requirement already satisfied: requests>=2.23.0 in /usr/local/lib/python3.10/dist-packages (from ultralytics) (2.31.0)\n",
            "Requirement already satisfied: scipy>=1.4.1 in /usr/local/lib/python3.10/dist-packages (from ultralytics) (1.11.4)\n",
            "Requirement already satisfied: torch>=1.8.0 in /usr/local/lib/python3.10/dist-packages (from ultralytics) (2.3.0+cu121)\n",
            "Requirement already satisfied: torchvision>=0.9.0 in /usr/local/lib/python3.10/dist-packages (from ultralytics) (0.18.0+cu121)\n",
            "Requirement already satisfied: tqdm>=4.64.0 in /usr/local/lib/python3.10/dist-packages (from ultralytics) (4.66.4)\n",
            "Requirement already satisfied: psutil in /usr/local/lib/python3.10/dist-packages (from ultralytics) (5.9.5)\n",
            "Requirement already satisfied: py-cpuinfo in /usr/local/lib/python3.10/dist-packages (from ultralytics) (9.0.0)\n",
            "Requirement already satisfied: pandas>=1.1.4 in /usr/local/lib/python3.10/dist-packages (from ultralytics) (2.0.3)\n",
            "Requirement already satisfied: seaborn>=0.11.0 in /usr/local/lib/python3.10/dist-packages (from ultralytics) (0.13.1)\n",
            "Collecting ultralytics-thop>=0.2.5 (from ultralytics)\n",
            "  Downloading ultralytics_thop-0.2.8-py3-none-any.whl (25 kB)\n",
            "Requirement already satisfied: contourpy>=1.0.1 in /usr/local/lib/python3.10/dist-packages (from matplotlib>=3.3.0->ultralytics) (1.2.1)\n",
            "Requirement already satisfied: cycler>=0.10 in /usr/local/lib/python3.10/dist-packages (from matplotlib>=3.3.0->ultralytics) (0.12.1)\n",
            "Requirement already satisfied: fonttools>=4.22.0 in /usr/local/lib/python3.10/dist-packages (from matplotlib>=3.3.0->ultralytics) (4.53.0)\n",
            "Requirement already satisfied: kiwisolver>=1.0.1 in /usr/local/lib/python3.10/dist-packages (from matplotlib>=3.3.0->ultralytics) (1.4.5)\n",
            "Requirement already satisfied: numpy>=1.20 in /usr/local/lib/python3.10/dist-packages (from matplotlib>=3.3.0->ultralytics) (1.25.2)\n",
            "Requirement already satisfied: packaging>=20.0 in /usr/local/lib/python3.10/dist-packages (from matplotlib>=3.3.0->ultralytics) (24.1)\n",
            "Requirement already satisfied: pyparsing>=2.3.1 in /usr/local/lib/python3.10/dist-packages (from matplotlib>=3.3.0->ultralytics) (3.1.2)\n",
            "Requirement already satisfied: python-dateutil>=2.7 in /usr/local/lib/python3.10/dist-packages (from matplotlib>=3.3.0->ultralytics) (2.8.2)\n",
            "Requirement already satisfied: pytz>=2020.1 in /usr/local/lib/python3.10/dist-packages (from pandas>=1.1.4->ultralytics) (2023.4)\n",
            "Requirement already satisfied: tzdata>=2022.1 in /usr/local/lib/python3.10/dist-packages (from pandas>=1.1.4->ultralytics) (2024.1)\n",
            "Requirement already satisfied: charset-normalizer<4,>=2 in /usr/local/lib/python3.10/dist-packages (from requests>=2.23.0->ultralytics) (3.3.2)\n",
            "Requirement already satisfied: idna<4,>=2.5 in /usr/local/lib/python3.10/dist-packages (from requests>=2.23.0->ultralytics) (3.7)\n",
            "Requirement already satisfied: urllib3<3,>=1.21.1 in /usr/local/lib/python3.10/dist-packages (from requests>=2.23.0->ultralytics) (2.0.7)\n",
            "Requirement already satisfied: certifi>=2017.4.17 in /usr/local/lib/python3.10/dist-packages (from requests>=2.23.0->ultralytics) (2024.6.2)\n",
            "Requirement already satisfied: filelock in /usr/local/lib/python3.10/dist-packages (from torch>=1.8.0->ultralytics) (3.14.0)\n",
            "Requirement already satisfied: typing-extensions>=4.8.0 in /usr/local/lib/python3.10/dist-packages (from torch>=1.8.0->ultralytics) (4.12.2)\n",
            "Requirement already satisfied: sympy in /usr/local/lib/python3.10/dist-packages (from torch>=1.8.0->ultralytics) (1.12.1)\n",
            "Requirement already satisfied: networkx in /usr/local/lib/python3.10/dist-packages (from torch>=1.8.0->ultralytics) (3.3)\n",
            "Requirement already satisfied: jinja2 in /usr/local/lib/python3.10/dist-packages (from torch>=1.8.0->ultralytics) (3.1.4)\n",
            "Requirement already satisfied: fsspec in /usr/local/lib/python3.10/dist-packages (from torch>=1.8.0->ultralytics) (2023.6.0)\n",
            "Collecting nvidia-cuda-nvrtc-cu12==12.1.105 (from torch>=1.8.0->ultralytics)\n",
            "  Using cached nvidia_cuda_nvrtc_cu12-12.1.105-py3-none-manylinux1_x86_64.whl (23.7 MB)\n",
            "Collecting nvidia-cuda-runtime-cu12==12.1.105 (from torch>=1.8.0->ultralytics)\n",
            "  Using cached nvidia_cuda_runtime_cu12-12.1.105-py3-none-manylinux1_x86_64.whl (823 kB)\n",
            "Collecting nvidia-cuda-cupti-cu12==12.1.105 (from torch>=1.8.0->ultralytics)\n",
            "  Using cached nvidia_cuda_cupti_cu12-12.1.105-py3-none-manylinux1_x86_64.whl (14.1 MB)\n",
            "Collecting nvidia-cudnn-cu12==8.9.2.26 (from torch>=1.8.0->ultralytics)\n",
            "  Using cached nvidia_cudnn_cu12-8.9.2.26-py3-none-manylinux1_x86_64.whl (731.7 MB)\n",
            "Collecting nvidia-cublas-cu12==12.1.3.1 (from torch>=1.8.0->ultralytics)\n",
            "  Using cached nvidia_cublas_cu12-12.1.3.1-py3-none-manylinux1_x86_64.whl (410.6 MB)\n",
            "Collecting nvidia-cufft-cu12==11.0.2.54 (from torch>=1.8.0->ultralytics)\n",
            "  Using cached nvidia_cufft_cu12-11.0.2.54-py3-none-manylinux1_x86_64.whl (121.6 MB)\n",
            "Collecting nvidia-curand-cu12==10.3.2.106 (from torch>=1.8.0->ultralytics)\n",
            "  Using cached nvidia_curand_cu12-10.3.2.106-py3-none-manylinux1_x86_64.whl (56.5 MB)\n",
            "Collecting nvidia-cusolver-cu12==11.4.5.107 (from torch>=1.8.0->ultralytics)\n",
            "  Using cached nvidia_cusolver_cu12-11.4.5.107-py3-none-manylinux1_x86_64.whl (124.2 MB)\n",
            "Collecting nvidia-cusparse-cu12==12.1.0.106 (from torch>=1.8.0->ultralytics)\n",
            "  Using cached nvidia_cusparse_cu12-12.1.0.106-py3-none-manylinux1_x86_64.whl (196.0 MB)\n",
            "Collecting nvidia-nccl-cu12==2.20.5 (from torch>=1.8.0->ultralytics)\n",
            "  Using cached nvidia_nccl_cu12-2.20.5-py3-none-manylinux2014_x86_64.whl (176.2 MB)\n",
            "Collecting nvidia-nvtx-cu12==12.1.105 (from torch>=1.8.0->ultralytics)\n",
            "  Using cached nvidia_nvtx_cu12-12.1.105-py3-none-manylinux1_x86_64.whl (99 kB)\n",
            "Requirement already satisfied: triton==2.3.0 in /usr/local/lib/python3.10/dist-packages (from torch>=1.8.0->ultralytics) (2.3.0)\n",
            "Collecting nvidia-nvjitlink-cu12 (from nvidia-cusolver-cu12==11.4.5.107->torch>=1.8.0->ultralytics)\n",
            "  Downloading nvidia_nvjitlink_cu12-12.5.40-py3-none-manylinux2014_x86_64.whl (21.3 MB)\n",
            "\u001b[2K     \u001b[90m━━━━━━━━━━━━━━━━━━━━━━━━━━━━━━━━━━━━━━━━\u001b[0m \u001b[32m21.3/21.3 MB\u001b[0m \u001b[31m59.4 MB/s\u001b[0m eta \u001b[36m0:00:00\u001b[0m\n",
            "\u001b[?25hRequirement already satisfied: six>=1.5 in /usr/local/lib/python3.10/dist-packages (from python-dateutil>=2.7->matplotlib>=3.3.0->ultralytics) (1.16.0)\n",
            "Requirement already satisfied: MarkupSafe>=2.0 in /usr/local/lib/python3.10/dist-packages (from jinja2->torch>=1.8.0->ultralytics) (2.1.5)\n",
            "Requirement already satisfied: mpmath<1.4.0,>=1.1.0 in /usr/local/lib/python3.10/dist-packages (from sympy->torch>=1.8.0->ultralytics) (1.3.0)\n",
            "Installing collected packages: nvidia-nvtx-cu12, nvidia-nvjitlink-cu12, nvidia-nccl-cu12, nvidia-curand-cu12, nvidia-cufft-cu12, nvidia-cuda-runtime-cu12, nvidia-cuda-nvrtc-cu12, nvidia-cuda-cupti-cu12, nvidia-cublas-cu12, nvidia-cusparse-cu12, nvidia-cudnn-cu12, nvidia-cusolver-cu12, ultralytics-thop, ultralytics\n",
            "Successfully installed nvidia-cublas-cu12-12.1.3.1 nvidia-cuda-cupti-cu12-12.1.105 nvidia-cuda-nvrtc-cu12-12.1.105 nvidia-cuda-runtime-cu12-12.1.105 nvidia-cudnn-cu12-8.9.2.26 nvidia-cufft-cu12-11.0.2.54 nvidia-curand-cu12-10.3.2.106 nvidia-cusolver-cu12-11.4.5.107 nvidia-cusparse-cu12-12.1.0.106 nvidia-nccl-cu12-2.20.5 nvidia-nvjitlink-cu12-12.5.40 nvidia-nvtx-cu12-12.1.105 ultralytics-8.2.32 ultralytics-thop-0.2.8\n"
          ]
        }
      ]
    },
    {
      "cell_type": "code",
      "source": [
        "import torch\n",
        "from transformers import GPT2LMHeadModel, GPT2Tokenizer\n",
        "# Initialize tokenizer and model\n",
        "tokenizer = GPT2Tokenizer.from_pretrained('gpt2')\n",
        "model = GPT2LMHeadModel.from_pretrained('gpt2')"
      ],
      "metadata": {
        "id": "v2bkrhuP7FMX",
        "colab": {
          "base_uri": "https://localhost:8080/",
          "height": 370,
          "referenced_widgets": [
            "943a2c7da3ad47b88ad361abff5e02df",
            "f414820da2cb443f940262a9f6bb5d54",
            "562282716299476d83422ec193aff5c8",
            "29fe1fa0c24144b184cde061660495fb",
            "8c098b4214064ccf888cb81635ee9848",
            "c6a5a46d8bd049daa54b9a8427541921",
            "fe21747864d04b85859023d1384bd6ee",
            "2741e8b5ce9545bf86e79c1844f2dd37",
            "a07268153d944a8181fc42df2a7d4b68",
            "1c42c38e5a6d4f0cb199cfd9d6899f2e",
            "14fce197dbe447e88fc112202d244ff2",
            "4f0ede2a66624866abefb8ba3f4a9dd9",
            "9822f23e367f420b8018f0c4694598a7",
            "334f293ddb7440dba2f8069a26f2bcb5",
            "2b1de828f64648608837e5971f000b77",
            "85cfc79d0e9940cf9be5e6c6de6fabb9",
            "15186414d55047f083b46bdf8805cd8d",
            "9d4f0c3a6cb04f50bcea9fe790a82360",
            "dc3016091dfb48fab2f5e2fd74cff459",
            "0cadbbe2c81148b9b95c67160d99c40f",
            "0f5df17b2a1c44f7a91aacd82123eb2d",
            "0e8be28ee7554c03958282d732f7d01b",
            "1e5b28452f0745378b8b62c4ac075046",
            "d3eb6b28dd764dae8f6795e2646a733c",
            "c4be76eeda0047258c518e5056a82a27",
            "796bcfb7659547788a964633bd29c130",
            "8c3f97791f574512b6c5119c8d879d4f",
            "0a2f42f5b31d41608c2073c778a9818f",
            "4b0b64f0f5274498a9680d3bb355f750",
            "145c621b63dd407da48cbe92f5c22e40",
            "6daf40a3ad6c4ffeaed648110b096f4e",
            "a935dd3945284bc8a524fe0edaa68913",
            "de0e82cefa6b4cad9b46dc7e79043cdf",
            "148c96a0fb434f9a80fd2a6c37b5febd",
            "6bc9f1b395da4426af542851fff83b79",
            "76e17b05e53d469894980ed0f038c356",
            "ed77d7f2e0204c20ad332f47e1ef27d9",
            "a12a5942493f475c869148611670edb6",
            "09d8e4cb13b1475eb5d4331afd54c17d",
            "8fc4e5227d2c4a2aa31afd32923b1d1f",
            "16da9636a7524e7ab39bbccbccf7a85a",
            "ab283f7c42044734b959c7fd9e38005a",
            "596acfeee1544d37b9fca9c1d6d469ba",
            "586b4c492eb249b6bd58e0e61586c17d",
            "d05e26d7919243ffa3bf7362783b9b19",
            "7d3c7869a1154564b6f62afbf52c5c15",
            "c535d6b443c746cb8d0a8779eb03c2a7",
            "3cda26f6cc5948808352c956c6f809d6",
            "d916fd70e8884794a7c0805dbc237c20",
            "64dd870a3dc04bbe9d82a306971898ce",
            "199da83df471423d9ed14e916212507d",
            "dce527dd77394bc28da438740d09ef4f",
            "e71df46ddf1740ba8b1133f3cdf41937",
            "bf41da97b7aa46a0b2ed411b044f8913",
            "2d8ac89fad5742d68d2781b1e79f2ec6",
            "7245a6b618ba4bb1b18968499dc441da",
            "e6cb3ba6e1b4448cba4061e9226a94e3",
            "02a81599cd554b089e67d7ca71a2c8d0",
            "75fcc9fc7dce43f6b2ff2486171efe37",
            "5eb7989f9002453ba3db1476b2eb7a96",
            "a768c003f3f3467b8a709ccb10c23230",
            "7065f4a826724dc6b9bddd24c49429f6",
            "93cbe25e1f1d4d9897459599fc8cc1c1",
            "5b9c0a6f38e8474ba8008e03fdf36078",
            "eda4e43ec89448afb8205c3a1e422a72",
            "443d9e861de5444eb52bc857b63e4855",
            "ba2a1cc7c64f478aa4a4bc7e4e6e5ab5",
            "5dcbb892234b4744890daebea7c97cf3",
            "d8dd33274168423d9dad0c1036efe5df",
            "666924a78e4e45c4a3f66156f7e3311e",
            "f937669322074c3093fe5ae50b3a992e",
            "a1761344e5644966ba89f7cda1325191",
            "feab792d046848b5bbcfda317b54e0b5",
            "17edcd2539734ec38e26769245b477d8",
            "3405655d4e474008b568ad5e6986e0b9",
            "f53346ecaaa74ff2a2152da09278efab",
            "c50d33b7e4ec4dc09c48495cf8e0cb49"
          ]
        },
        "outputId": "d76c1b3d-f39e-4a26-f46d-2f06cc15ffaf"
      },
      "execution_count": null,
      "outputs": [
        {
          "output_type": "stream",
          "name": "stderr",
          "text": [
            "/usr/local/lib/python3.10/dist-packages/huggingface_hub/utils/_token.py:89: UserWarning: \n",
            "The secret `HF_TOKEN` does not exist in your Colab secrets.\n",
            "To authenticate with the Hugging Face Hub, create a token in your settings tab (https://huggingface.co/settings/tokens), set it as secret in your Google Colab and restart your session.\n",
            "You will be able to reuse this secret in all of your notebooks.\n",
            "Please note that authentication is recommended but still optional to access public models or datasets.\n",
            "  warnings.warn(\n"
          ]
        },
        {
          "output_type": "display_data",
          "data": {
            "text/plain": [
              "tokenizer_config.json:   0%|          | 0.00/26.0 [00:00<?, ?B/s]"
            ],
            "application/vnd.jupyter.widget-view+json": {
              "version_major": 2,
              "version_minor": 0,
              "model_id": "943a2c7da3ad47b88ad361abff5e02df"
            }
          },
          "metadata": {}
        },
        {
          "output_type": "display_data",
          "data": {
            "text/plain": [
              "vocab.json:   0%|          | 0.00/1.04M [00:00<?, ?B/s]"
            ],
            "application/vnd.jupyter.widget-view+json": {
              "version_major": 2,
              "version_minor": 0,
              "model_id": "4f0ede2a66624866abefb8ba3f4a9dd9"
            }
          },
          "metadata": {}
        },
        {
          "output_type": "display_data",
          "data": {
            "text/plain": [
              "merges.txt:   0%|          | 0.00/456k [00:00<?, ?B/s]"
            ],
            "application/vnd.jupyter.widget-view+json": {
              "version_major": 2,
              "version_minor": 0,
              "model_id": "1e5b28452f0745378b8b62c4ac075046"
            }
          },
          "metadata": {}
        },
        {
          "output_type": "display_data",
          "data": {
            "text/plain": [
              "tokenizer.json:   0%|          | 0.00/1.36M [00:00<?, ?B/s]"
            ],
            "application/vnd.jupyter.widget-view+json": {
              "version_major": 2,
              "version_minor": 0,
              "model_id": "148c96a0fb434f9a80fd2a6c37b5febd"
            }
          },
          "metadata": {}
        },
        {
          "output_type": "display_data",
          "data": {
            "text/plain": [
              "config.json:   0%|          | 0.00/665 [00:00<?, ?B/s]"
            ],
            "application/vnd.jupyter.widget-view+json": {
              "version_major": 2,
              "version_minor": 0,
              "model_id": "d05e26d7919243ffa3bf7362783b9b19"
            }
          },
          "metadata": {}
        },
        {
          "output_type": "display_data",
          "data": {
            "text/plain": [
              "model.safetensors:   0%|          | 0.00/548M [00:00<?, ?B/s]"
            ],
            "application/vnd.jupyter.widget-view+json": {
              "version_major": 2,
              "version_minor": 0,
              "model_id": "7245a6b618ba4bb1b18968499dc441da"
            }
          },
          "metadata": {}
        },
        {
          "output_type": "display_data",
          "data": {
            "text/plain": [
              "generation_config.json:   0%|          | 0.00/124 [00:00<?, ?B/s]"
            ],
            "application/vnd.jupyter.widget-view+json": {
              "version_major": 2,
              "version_minor": 0,
              "model_id": "ba2a1cc7c64f478aa4a4bc7e4e6e5ab5"
            }
          },
          "metadata": {}
        }
      ]
    },
    {
      "cell_type": "code",
      "source": [
        "# Tokenize input text\n",
        "input_text = \"Once upon a time\"\n",
        "input_ids = tokenizer.encode(input_text, return_tensors='pt')"
      ],
      "metadata": {
        "id": "SYEH1HjajXzg"
      },
      "execution_count": null,
      "outputs": []
    },
    {
      "cell_type": "code",
      "source": [
        "# Generate text using the model\n",
        "output = model.generate(input_ids, max_length=50, num_return_sequences=1)\n",
        "\n",
        "# Decode the generated text\n",
        "generated_text = tokenizer.decode(output[0], skip_special_tokens=True)\n",
        "print(generated_text)\n"
      ],
      "metadata": {
        "colab": {
          "base_uri": "https://localhost:8080/"
        },
        "id": "DJUbd5KvjrBA",
        "outputId": "9924eb9d-6e63-46fc-9a36-0076f4f6bbbb"
      },
      "execution_count": null,
      "outputs": [
        {
          "output_type": "stream",
          "name": "stderr",
          "text": [
            "The attention mask and the pad token id were not set. As a consequence, you may observe unexpected behavior. Please pass your input's `attention_mask` to obtain reliable results.\n",
            "Setting `pad_token_id` to `eos_token_id`:50256 for open-end generation.\n",
            "The attention mask is not set and cannot be inferred from input because pad token is same as eos token.As a consequence, you may observe unexpected behavior. Please pass your input's `attention_mask` to obtain reliable results.\n"
          ]
        },
        {
          "output_type": "stream",
          "name": "stdout",
          "text": [
            "Once upon a time, the world was a place of great beauty and great danger. The world was a place of great danger, and the world was a place of great danger. The world was a place of great danger, and the world was a\n"
          ]
        }
      ]
    },
    {
      "cell_type": "code",
      "source": [
        "import numpy as np\n",
        "import pandas as pd\n",
        "\n",
        "# Parameters\n",
        "num_rows = 10**7  # 10 million rows\n",
        "num_cols = 5  # 5 columns\n",
        "\n",
        "# Generate random data\n",
        "data = np.random.rand(num_rows, num_cols)\n",
        "\n",
        "# Create a DataFrame\n",
        "df = pd.DataFrame(data, columns=[f'sensor{i+1}' for i in range(num_cols)])\n",
        "\n",
        "# Save to CSV\n",
        "df.to_csv('large_iot_data.csv', index=False)\n",
        "\n",
        "print(\"Generated 10 million rows of random IoT data and saved as large_iot_data.csv.\")\n"
      ],
      "metadata": {
        "id": "33ms_p_Djs0d",
        "colab": {
          "base_uri": "https://localhost:8080/"
        },
        "outputId": "638f1174-31e6-47cd-ce4f-704fcefa9762"
      },
      "execution_count": null,
      "outputs": [
        {
          "output_type": "stream",
          "name": "stdout",
          "text": [
            "Generated 10 million rows of random IoT data and saved as large_iot_data.csv.\n"
          ]
        }
      ]
    },
    {
      "cell_type": "code",
      "source": [],
      "metadata": {
        "id": "gMZzWXVYYM0Z"
      },
      "execution_count": null,
      "outputs": []
    }
  ]
}