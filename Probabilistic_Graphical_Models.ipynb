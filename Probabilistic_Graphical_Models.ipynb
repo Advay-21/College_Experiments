{
  "nbformat": 4,
  "nbformat_minor": 0,
  "metadata": {
    "colab": {
      "provenance": [],
      "authorship_tag": "ABX9TyM1QXGDOKVfaxT0urZGKC2o",
      "include_colab_link": true
    },
    "kernelspec": {
      "name": "python3",
      "display_name": "Python 3"
    },
    "language_info": {
      "name": "python"
    }
  },
  "cells": [
    {
      "cell_type": "markdown",
      "metadata": {
        "id": "view-in-github",
        "colab_type": "text"
      },
      "source": [
        "<a href=\"https://colab.research.google.com/github/AdvaySharma147/College_Experiments/blob/main/Probabilistic_Graphical_Models.ipynb\" target=\"_parent\"><img src=\"https://colab.research.google.com/assets/colab-badge.svg\" alt=\"Open In Colab\"/></a>"
      ]
    },
    {
      "cell_type": "markdown",
      "source": [
        "# Experiment 1"
      ],
      "metadata": {
        "id": "vBPlfsHbjhtG"
      }
    },
    {
      "cell_type": "code",
      "execution_count": null,
      "metadata": {
        "colab": {
          "base_uri": "https://localhost:8080/"
        },
        "id": "ua23qtDajbkG",
        "outputId": "ba398c31-b300-446a-fdb9-ef94aa40425c"
      },
      "outputs": [
        {
          "output_type": "stream",
          "name": "stdout",
          "text": [
            "Collecting pybbn\n",
            "  Downloading pybbn-3.2.3.tar.gz (36 kB)\n",
            "  Preparing metadata (setup.py) ... \u001b[?25l\u001b[?25hdone\n",
            "Requirement already satisfied: numpy in /usr/local/lib/python3.10/dist-packages (from pybbn) (1.26.4)\n",
            "Requirement already satisfied: scipy in /usr/local/lib/python3.10/dist-packages (from pybbn) (1.13.1)\n",
            "Requirement already satisfied: networkx in /usr/local/lib/python3.10/dist-packages (from pybbn) (3.3)\n",
            "Requirement already satisfied: pandas in /usr/local/lib/python3.10/dist-packages (from pybbn) (2.1.4)\n",
            "Requirement already satisfied: python-dateutil>=2.8.2 in /usr/local/lib/python3.10/dist-packages (from pandas->pybbn) (2.8.2)\n",
            "Requirement already satisfied: pytz>=2020.1 in /usr/local/lib/python3.10/dist-packages (from pandas->pybbn) (2024.1)\n",
            "Requirement already satisfied: tzdata>=2022.1 in /usr/local/lib/python3.10/dist-packages (from pandas->pybbn) (2024.1)\n",
            "Requirement already satisfied: six>=1.5 in /usr/local/lib/python3.10/dist-packages (from python-dateutil>=2.8.2->pandas->pybbn) (1.16.0)\n",
            "Building wheels for collected packages: pybbn\n",
            "  Building wheel for pybbn (setup.py) ... \u001b[?25l\u001b[?25hdone\n",
            "  Created wheel for pybbn: filename=pybbn-3.2.3-py3-none-any.whl size=40374 sha256=71d6494909dbb48f02f3470103997529d03e16c1b27560ceaff0bb0cfa7dac7d\n",
            "  Stored in directory: /root/.cache/pip/wheels/a7/6f/f1/ec7566a4882ab5c796fb43dfd84062769f75ba5381ca60d2b6\n",
            "Successfully built pybbn\n",
            "Installing collected packages: pybbn\n",
            "Successfully installed pybbn-3.2.3\n"
          ]
        }
      ],
      "source": [
        "!pip install pybbn"
      ]
    },
    {
      "cell_type": "code",
      "source": [
        "import pandas as pd # for data manipulation\n",
        "import networkx as nx # for drawing graphs\n",
        "import matplotlib.pyplot as plt # for drawing graphs\n",
        "\n",
        "# for creating Bayesian Belief Networks (BBN)\n",
        "from pybbn.graph.dag import Bbn\n",
        "from pybbn.graph.edge import Edge, EdgeType\n",
        "from pybbn.graph.node import BbnNode\n",
        "from pybbn.graph.jointree import EvidenceBuilder\n",
        "from pybbn.pptc.inferencecontroller import InferenceController\n",
        "from pybbn.graph.variable import Variable"
      ],
      "metadata": {
        "id": "2tz8CuZwj032"
      },
      "execution_count": null,
      "outputs": []
    },
    {
      "cell_type": "code",
      "source": [
        "burglary = BbnNode(Variable(0, 'burglary', ['0', '1']), [0.999, 0.001])\n",
        "earthquake = BbnNode(Variable(1, 'earthquake', ['0', '1']), [0.998, 0.002])\n",
        "alarm = BbnNode(Variable(2, 'alarm', ['1', '0']), [0.95, 0.05, 0.94, 0.06, 0.29, 0.71, 0.001, 0.999])\n",
        "\n",
        "john = BbnNode(Variable(3, 'john', ['No', 'Yes']), [0.90, 0.10, 0.05, 0.95])\n",
        "mary = BbnNode(Variable(4, 'mary', ['No', 'Yes']), [0.70, 0.30, 0.01, 0.99])"
      ],
      "metadata": {
        "id": "EBWVcDC4ke0_"
      },
      "execution_count": null,
      "outputs": []
    },
    {
      "cell_type": "code",
      "source": [
        "bbn = Bbn()\n",
        "bbn.add_node(burglary)\n",
        "bbn.add_node(earthquake)\n",
        "bbn.add_node(alarm)\n",
        "bbn.add_node(john)\n",
        "bbn.add_node(mary)\n",
        "\n",
        "bbn.add_edge(Edge(burglary, alarm, EdgeType.DIRECTED))\n",
        "bbn.add_edge(Edge(earthquake, alarm, EdgeType.DIRECTED))\n",
        "bbn.add_edge(Edge(alarm, john, EdgeType.DIRECTED))\n",
        "bbn.add_edge(Edge(alarm, mary, EdgeType.DIRECTED))\n",
        "join_tree = InferenceController.apply(bbn)"
      ],
      "metadata": {
        "id": "JDhOOxTnl9sX"
      },
      "execution_count": null,
      "outputs": []
    },
    {
      "cell_type": "code",
      "source": [
        "# Set node positions\n",
        "pos = {0: (-1, 2), 1: (1, 2), 2: (0, 0), 3: (-1, -2), 4: (1, -2)}"
      ],
      "metadata": {
        "id": "2T4ODhtumsn_"
      },
      "execution_count": null,
      "outputs": []
    },
    {
      "cell_type": "code",
      "source": [
        "# Set options for graph looks\n",
        "options = {\n",
        "    \"font_size\": 16,\n",
        "    \"node_size\": 8000,\n",
        "    \"node_color\": \"white\",\n",
        "    \"edgecolors\": \"black\",\n",
        "    \"edge_color\": \"red\",\n",
        "    \"linewidths\": 5,\n",
        "    \"width\": 5,\n",
        "}"
      ],
      "metadata": {
        "id": "VV9e2R9lnEE3"
      },
      "execution_count": null,
      "outputs": []
    },
    {
      "cell_type": "code",
      "source": [
        "# Generate graph\n",
        "n, d = bbn.to_nx_graph()\n",
        "nx.draw(n, with_labels=True, labels=d, pos=pos, **options)\n",
        "# Update margins and print the graph\n",
        "ax = plt.gca()\n",
        "ax.margins(0.10)\n",
        "plt.axis(\"off\")\n",
        "plt.show()"
      ],
      "metadata": {
        "colab": {
          "base_uri": "https://localhost:8080/",
          "height": 536
        },
        "id": "2ZTggJ_OnY1H",
        "outputId": "77a9a3f9-7bdf-4eff-9a23-8a9392368c46"
      },
      "execution_count": null,
      "outputs": [
        {
          "output_type": "display_data",
          "data": {
            "text/plain": [
              "<Figure size 640x480 with 1 Axes>"
            ],
            "image/png": "[encoded data removed]"
          },
          "metadata": {}
        }
      ]
    },
    {
      "cell_type": "markdown",
      "source": [
        "Code for finding posterior probability:"
      ],
      "metadata": {
        "id": "clBcZV99pp4F"
      }
    },
    {
      "cell_type": "code",
      "source": [
        "def print_probs():\n",
        "  for node in join_tree.get_bbn_nodes():\n",
        "    potential = join_tree.get_bbn_potential(node)\n",
        "    print(\"Node:\", node)\n",
        "    print(\"Values:\")\n",
        "    print(potential)\n",
        "    print('----------------')"
      ],
      "metadata": {
        "id": "L5loi8ONod-G"
      },
      "execution_count": null,
      "outputs": []
    },
    {
      "cell_type": "code",
      "source": [
        "def evidence(ev, nod, cat, val):\n",
        "  ev = EvidenceBuilder() \\\n",
        "    .with_node(join_tree.get_bbn_node_by_name(nod)) \\\n",
        "    .with_evidence(cat, val) \\\n",
        "    .build()\n",
        "  join_tree.set_observation(ev)"
      ],
      "metadata": {
        "id": "xTMg373RqaGm"
      },
      "execution_count": null,
      "outputs": []
    },
    {
      "cell_type": "code",
      "source": [
        "a = int(input(\"Did alarm go off(1/0): \"))\n",
        "evidence('ev1','alarm','1',a)\n",
        "b = int(input(\"Did earthquake happen(1/0): \"))\n",
        "evidence('ev','earthquake','1',b)\n",
        "c = int(input(\"Did burglary happen(1/0): \"))\n",
        "evidence('ev3','burglary','1',c)\n",
        "print_probs()"
      ],
      "metadata": {
        "colab": {
          "base_uri": "https://localhost:8080/"
        },
        "id": "iQokhKLzrAaH",
        "outputId": "cb35b427-07a9-4829-d06b-ef0571076955"
      },
      "execution_count": null,
      "outputs": [
        {
          "output_type": "stream",
          "name": "stdout",
          "text": [
            "Did alarm go off(1/0): 1\n",
            "Did earthquake happen(1/0): 0\n",
            "Did burglary happen(1/0): 1\n",
            "Node: 2|alarm|1,0\n",
            "Values:\n",
            "2=1|1.00000\n",
            "2=0|0.00000\n",
            "----------------\n",
            "Node: 3|john|No,Yes\n",
            "Values:\n",
            "3=No|0.90000\n",
            "3=Yes|0.10000\n",
            "----------------\n",
            "Node: 4|mary|No,Yes\n",
            "Values:\n",
            "4=No|0.70000\n",
            "4=Yes|0.30000\n",
            "----------------\n",
            "Node: 1|earthquake|0,1\n",
            "Values:\n",
            "1=0|0.00000\n",
            "1=1|1.00000\n",
            "----------------\n",
            "Node: 0|burglary|0,1\n",
            "Values:\n",
            "0=0|0.00000\n",
            "0=1|1.00000\n",
            "----------------\n"
          ]
        }
      ]
    },
    {
      "cell_type": "markdown",
      "source": [
        "# Experiment 2"
      ],
      "metadata": {
        "id": "r0ERjmP0SyQd"
      }
    },
    {
      "cell_type": "code",
      "source": [
        "!pip install hmmlearn"
      ],
      "metadata": {
        "colab": {
          "base_uri": "https://localhost:8080/"
        },
        "id": "iT3QJtf5THfX",
        "outputId": "a12f9035-2fb4-436d-a9ca-38762f31cb51"
      },
      "execution_count": null,
      "outputs": [
        {
          "output_type": "stream",
          "name": "stdout",
          "text": [
            "Collecting hmmlearn\n",
            "  Downloading hmmlearn-0.3.2-cp310-cp310-manylinux_2_17_x86_64.manylinux2014_x86_64.whl.metadata (2.9 kB)\n",
            "Requirement already satisfied: numpy>=1.10 in /usr/local/lib/python3.10/dist-packages (from hmmlearn) (1.26.4)\n",
            "Requirement already satisfied: scikit-learn!=0.22.0,>=0.16 in /usr/local/lib/python3.10/dist-packages (from hmmlearn) (1.3.2)\n",
            "Requirement already satisfied: scipy>=0.19 in /usr/local/lib/python3.10/dist-packages (from hmmlearn) (1.13.1)\n",
            "Requirement already satisfied: joblib>=1.1.1 in /usr/local/lib/python3.10/dist-packages (from scikit-learn!=0.22.0,>=0.16->hmmlearn) (1.4.2)\n",
            "Requirement already satisfied: threadpoolctl>=2.0.0 in /usr/local/lib/python3.10/dist-packages (from scikit-learn!=0.22.0,>=0.16->hmmlearn) (3.5.0)\n",
            "Downloading hmmlearn-0.3.2-cp310-cp310-manylinux_2_17_x86_64.manylinux2014_x86_64.whl (161 kB)\n",
            "\u001b[2K   \u001b[90m━━━━━━━━━━━━━━━━━━━━━━━━━━━━━━━━━━━━━━━━\u001b[0m \u001b[32m161.1/161.1 kB\u001b[0m \u001b[31m2.3 MB/s\u001b[0m eta \u001b[36m0:00:00\u001b[0m\n",
            "\u001b[?25hInstalling collected packages: hmmlearn\n",
            "Successfully installed hmmlearn-0.3.2\n"
          ]
        }
      ]
    },
    {
      "cell_type": "code",
      "source": [
        "import numpy as np\n",
        "from hmmlearn import hmm"
      ],
      "metadata": {
        "id": "pKhgavVvTREe"
      },
      "execution_count": null,
      "outputs": []
    },
    {
      "cell_type": "code",
      "source": [
        "n_states = 3\n",
        "n_observations = 2"
      ],
      "metadata": {
        "id": "VPItXrogTaof"
      },
      "execution_count": null,
      "outputs": []
    },
    {
      "cell_type": "code",
      "source": [
        "transition_matrix = np.array([\n",
        "    [0.5, 0.3, 0.2],\n",
        "    [0.4, 0.2, 0.4],\n",
        "    [0.0, 0.3, 0.7]\n",
        "])"
      ],
      "metadata": {
        "id": "x9u_S_JXTdIZ"
      },
      "execution_count": null,
      "outputs": []
    },
    {
      "cell_type": "code",
      "source": [
        "emission_matrix = np.array([\n",
        "    [0.9, 0.1],\n",
        "    [0.6, 0.4],\n",
        "    [0.2, 0.8]\n",
        "])"
      ],
      "metadata": {
        "id": "LT9cUz_BTgr8"
      },
      "execution_count": null,
      "outputs": []
    },
    {
      "cell_type": "code",
      "source": [
        "model = hmm.CategoricalHMM(n_components=3, n_features=2, startprob_prior=1.0, transmat_prior=1.0, emissionprob_prior=1.0)\n",
        "model.transmat_ = transition_matrix\n",
        "model.emissionprob_ = emission_matrix"
      ],
      "metadata": {
        "id": "_DR3OZ4iTiQA"
      },
      "execution_count": null,
      "outputs": []
    },
    {
      "cell_type": "markdown",
      "source": [
        "**Getting stationary distribution using hmm**"
      ],
      "metadata": {
        "id": "JrQjxlKJTvt2"
      }
    },
    {
      "cell_type": "code",
      "source": [
        "stationary_distribution = model.get_stationary_distribution()\n",
        "print(f'Stationary Distribution: {stationary_distribution}')"
      ],
      "metadata": {
        "colab": {
          "base_uri": "https://localhost:8080/"
        },
        "id": "-cHrFnsFTpEG",
        "outputId": "227e0c2a-1dfe-438f-9c29-f1fd2a9ea875"
      },
      "execution_count": null,
      "outputs": [
        {
          "output_type": "stream",
          "name": "stdout",
          "text": [
            "Stationary Distribution: [0.21818182 0.27272727 0.50909091]\n"
          ]
        }
      ]
    },
    {
      "cell_type": "code",
      "source": [
        "def stat_dist(A):\n",
        "  iter = 10000\n",
        "  A_copy = A[:]\n",
        "  for i in range(iter):\n",
        "    A_copy = np.dot(A_copy, A)\n",
        "  return A_copy"
      ],
      "metadata": {
        "id": "BIhwMbxcT8OL"
      },
      "execution_count": null,
      "outputs": []
    },
    {
      "cell_type": "code",
      "source": [
        "stat = stat_dist(transition_matrix)\n",
        "print(stat)"
      ],
      "metadata": {
        "colab": {
          "base_uri": "https://localhost:8080/"
        },
        "id": "Fz22SW2UT_cA",
        "outputId": "558a8eb2-5947-4d3c-ef79-2b6a218491da"
      },
      "execution_count": null,
      "outputs": [
        {
          "output_type": "stream",
          "name": "stdout",
          "text": [
            "[[0.21818182 0.27272727 0.50909091]\n",
            " [0.21818182 0.27272727 0.50909091]\n",
            " [0.21818182 0.27272727 0.50909091]]\n"
          ]
        }
      ]
    },
    {
      "cell_type": "code",
      "source": [
        "stat_dist_arr = stat[0]\n",
        "print(stat_dist_arr)"
      ],
      "metadata": {
        "colab": {
          "base_uri": "https://localhost:8080/"
        },
        "id": "DfUw0HcJUCJv",
        "outputId": "b44cace8-94cf-4e8f-8f66-3157bbec8cd1"
      },
      "execution_count": null,
      "outputs": [
        {
          "output_type": "stream",
          "name": "stdout",
          "text": [
            "[0.21818182 0.27272727 0.50909091]\n"
          ]
        }
      ]
    },
    {
      "cell_type": "code",
      "source": [
        "#PROB OF P(Y,X)\n",
        "prob_sunny = stationary_distribution[2]\n",
        "prob= prob_sunny*emission_matrix[2][1]*transition_matrix[1][2]*emission_matrix[1][1]*transition_matrix[2][1]*emission_matrix[2][0]\n",
        "print(prob)"
      ],
      "metadata": {
        "colab": {
          "base_uri": "https://localhost:8080/"
        },
        "id": "80KBCse2UFPf",
        "outputId": "caa38d6a-7075-42ee-f1fb-bdbfabb66579"
      },
      "execution_count": null,
      "outputs": [
        {
          "output_type": "stream",
          "name": "stdout",
          "text": [
            "0.003909818181818184\n"
          ]
        }
      ]
    },
    {
      "cell_type": "markdown",
      "source": [
        "**Most Likely Hidden State**"
      ],
      "metadata": {
        "id": "z3_Q73BvULht"
      }
    },
    {
      "cell_type": "code",
      "source": [
        "obs_seq = np.array([[1], [1], [0]]) #given mood sequence"
      ],
      "metadata": {
        "id": "mzmbJYyFUIBy"
      },
      "execution_count": null,
      "outputs": []
    },
    {
      "cell_type": "markdown",
      "source": [
        "**Viterbi Likelihood**"
      ],
      "metadata": {
        "id": "v1rTPsmMUV_T"
      }
    },
    {
      "cell_type": "code",
      "source": [
        "def viterbi(obs_seq, trans_mat, em_mat, start_prob):\n",
        "    n_states = trans_mat.shape[0]\n",
        "    n_obs = len(obs_seq)\n",
        "    viterbi = np.zeros((n_obs, n_states))\n",
        "    backpointer = np.zeros((n_obs, n_states), dtype=int)\n",
        "    for s in range(n_states):\n",
        "        viterbi[0, s] = start_prob[s] * em_mat[s, obs_seq[0]]\n",
        "        backpointer[0, s] = 0\n",
        "    for t in range(1, n_obs):\n",
        "        for s in range(n_states):\n",
        "            max_prob = -1\n",
        "            max_state = 0\n",
        "            for s_prev in range(n_states):\n",
        "                prob = viterbi[t-1, s_prev] * trans_mat[s_prev, s] * em_mat[s, obs_seq[t]]\n",
        "                if prob > max_prob:\n",
        "                    max_prob = prob\n",
        "                    max_state = s_prev\n",
        "            viterbi[t, s] = max_prob\n",
        "            backpointer[t, s] = max_state\n",
        "    best_last_state = np.argmax(viterbi[-1])\n",
        "    best_seq = [-1] * n_obs\n",
        "    best_seq[-1] = best_last_state\n",
        "    for t in range(n_obs-2, -1, -1):\n",
        "        best_seq[t] = backpointer[t+1, best_seq[t+1]]\n",
        "    best_seq_prob = viterbi[-1, best_last_state]\n",
        "    return best_seq, best_seq_prob, viterbi, backpointer"
      ],
      "metadata": {
        "id": "mPX_8DTSUQw2"
      },
      "execution_count": null,
      "outputs": []
    },
    {
      "cell_type": "code",
      "source": [
        "obs_seq = [1, 1, 0]\n",
        "state_sequence, max_prob,viterbi_matrix, backpointer_matrix= viterbi(obs_seq, transition_matrix, emission_matrix, stationary_distribution)\n",
        "print(\"Most likely hidden state sequence:\", state_sequence)\n",
        "print(\"Prob: \", max_prob)"
      ],
      "metadata": {
        "colab": {
          "base_uri": "https://localhost:8080/"
        },
        "id": "ec-iyngkUeN9",
        "outputId": "8f32494f-26d2-44d0-ae3e-87dd83a32015"
      },
      "execution_count": null,
      "outputs": [
        {
          "output_type": "stream",
          "name": "stdout",
          "text": [
            "Most likely hidden state sequence: [2, 2, 1]\n",
            "Prob:  0.041053090909090914\n"
          ]
        }
      ]
    },
    {
      "cell_type": "markdown",
      "source": [
        "**Sequence Likelihood**\n",
        "\n",
        "**Forward Likelihood**"
      ],
      "metadata": {
        "id": "G-GTcEKWUodb"
      }
    },
    {
      "cell_type": "code",
      "source": [
        "def forward_algorithm(obs_seq, trans_mat, em_mat, start_prob):\n",
        "    n_states = trans_mat.shape[0]\n",
        "    n_obs = len(obs_seq)\n",
        "    obs_indices = [0 if mood == 'sad' else 1 for mood in obs_seq]  # Example mapping\n",
        "    forward = np.zeros((n_obs, n_states))\n",
        "    for s in range(n_states):\n",
        "        forward[0, s] = start_prob[s] * em_mat[s, obs_indices[0]]\n",
        "    for t in range(1, n_obs):\n",
        "        for s in range(n_states):\n",
        "            forward[t, s] = np.sum(forward[t-1, :] * trans_mat[:, s] * em_mat[s, obs_indices[t]])\n",
        "    prob_of_seq = np.sum(forward[-1, :])\n",
        "    return prob_of_seq"
      ],
      "metadata": {
        "id": "-uyPrXdnUguI"
      },
      "execution_count": null,
      "outputs": []
    },
    {
      "cell_type": "code",
      "source": [
        "obs_seq = ['happy', 'sad', 'happy']\n",
        "likelihood = forward_algorithm(obs_seq, transition_matrix, emission_matrix, stationary_distribution)\n",
        "print(f\"The likelihood of the sequence {obs_seq} is {likelihood:.4f}\")"
      ],
      "metadata": {
        "colab": {
          "base_uri": "https://localhost:8080/"
        },
        "id": "N9rSqnh8U2gY",
        "outputId": "192facee-4ccc-4c81-ba3e-8cda6ceb9fd0"
      },
      "execution_count": null,
      "outputs": [
        {
          "output_type": "stream",
          "name": "stdout",
          "text": [
            "The likelihood of the sequence ['happy', 'sad', 'happy'] is 0.1012\n"
          ]
        }
      ]
    },
    {
      "cell_type": "code",
      "source": [
        "obs_seq = ['happy', 'happy', 'sad']\n",
        "likelihood = forward_algorithm(obs_seq, transition_matrix, emission_matrix, stationary_distribution)\n",
        "print(f\"The likelihood of the sequence {obs_seq} is {likelihood:.4f}\")"
      ],
      "metadata": {
        "colab": {
          "base_uri": "https://localhost:8080/"
        },
        "id": "3rIX85FKU7d0",
        "outputId": "0b0afe1d-d76f-40c6-9579-5da19099e1a7"
      },
      "execution_count": null,
      "outputs": [
        {
          "output_type": "stream",
          "name": "stdout",
          "text": [
            "The likelihood of the sequence ['happy', 'happy', 'sad'] is 0.1226\n"
          ]
        }
      ]
    },
    {
      "cell_type": "markdown",
      "source": [
        "# Experiment 3"
      ],
      "metadata": {
        "id": "NFNqpi_C-xJ-"
      }
    },
    {
      "cell_type": "code",
      "source": [
        "!pip install pgmpy"
      ],
      "metadata": {
        "colab": {
          "base_uri": "https://localhost:8080/"
        },
        "id": "kiouKajO_Cd_",
        "outputId": "e7ecaac6-9e79-4a57-fce0-d18e194ea40c"
      },
      "execution_count": null,
      "outputs": [
        {
          "output_type": "stream",
          "name": "stdout",
          "text": [
            "Collecting pgmpy\n",
            "  Downloading pgmpy-0.1.26-py3-none-any.whl.metadata (9.1 kB)\n",
            "Requirement already satisfied: networkx in /usr/local/lib/python3.10/dist-packages (from pgmpy) (3.3)\n",
            "Requirement already satisfied: numpy in /usr/local/lib/python3.10/dist-packages (from pgmpy) (1.26.4)\n",
            "Requirement already satisfied: scipy in /usr/local/lib/python3.10/dist-packages (from pgmpy) (1.13.1)\n",
            "Requirement already satisfied: scikit-learn in /usr/local/lib/python3.10/dist-packages (from pgmpy) (1.3.2)\n",
            "Requirement already satisfied: pandas in /usr/local/lib/python3.10/dist-packages (from pgmpy) (2.1.4)\n",
            "Requirement already satisfied: pyparsing in /usr/local/lib/python3.10/dist-packages (from pgmpy) (3.1.4)\n",
            "Requirement already satisfied: torch in /usr/local/lib/python3.10/dist-packages (from pgmpy) (2.4.0+cu121)\n",
            "Requirement already satisfied: statsmodels in /usr/local/lib/python3.10/dist-packages (from pgmpy) (0.14.2)\n",
            "Requirement already satisfied: tqdm in /usr/local/lib/python3.10/dist-packages (from pgmpy) (4.66.5)\n",
            "Requirement already satisfied: joblib in /usr/local/lib/python3.10/dist-packages (from pgmpy) (1.4.2)\n",
            "Requirement already satisfied: opt-einsum in /usr/local/lib/python3.10/dist-packages (from pgmpy) (3.3.0)\n",
            "Requirement already satisfied: xgboost in /usr/local/lib/python3.10/dist-packages (from pgmpy) (2.1.1)\n",
            "Requirement already satisfied: google-generativeai in /usr/local/lib/python3.10/dist-packages (from pgmpy) (0.7.2)\n",
            "Requirement already satisfied: google-ai-generativelanguage==0.6.6 in /usr/local/lib/python3.10/dist-packages (from google-generativeai->pgmpy) (0.6.6)\n",
            "Requirement already satisfied: google-api-core in /usr/local/lib/python3.10/dist-packages (from google-generativeai->pgmpy) (2.19.1)\n",
            "Requirement already satisfied: google-api-python-client in /usr/local/lib/python3.10/dist-packages (from google-generativeai->pgmpy) (2.137.0)\n",
            "Requirement already satisfied: google-auth>=2.15.0 in /usr/local/lib/python3.10/dist-packages (from google-generativeai->pgmpy) (2.27.0)\n",
            "Requirement already satisfied: protobuf in /usr/local/lib/python3.10/dist-packages (from google-generativeai->pgmpy) (3.20.3)\n",
            "Requirement already satisfied: pydantic in /usr/local/lib/python3.10/dist-packages (from google-generativeai->pgmpy) (2.8.2)\n",
            "Requirement already satisfied: typing-extensions in /usr/local/lib/python3.10/dist-packages (from google-generativeai->pgmpy) (4.12.2)\n",
            "Requirement already satisfied: proto-plus<2.0.0dev,>=1.22.3 in /usr/local/lib/python3.10/dist-packages (from google-ai-generativelanguage==0.6.6->google-generativeai->pgmpy) (1.24.0)\n",
            "Requirement already satisfied: python-dateutil>=2.8.2 in /usr/local/lib/python3.10/dist-packages (from pandas->pgmpy) (2.8.2)\n",
            "Requirement already satisfied: pytz>=2020.1 in /usr/local/lib/python3.10/dist-packages (from pandas->pgmpy) (2024.1)\n",
            "Requirement already satisfied: tzdata>=2022.1 in /usr/local/lib/python3.10/dist-packages (from pandas->pgmpy) (2024.1)\n",
            "Requirement already satisfied: threadpoolctl>=2.0.0 in /usr/local/lib/python3.10/dist-packages (from scikit-learn->pgmpy) (3.5.0)\n",
            "Requirement already satisfied: patsy>=0.5.6 in /usr/local/lib/python3.10/dist-packages (from statsmodels->pgmpy) (0.5.6)\n",
            "Requirement already satisfied: packaging>=21.3 in /usr/local/lib/python3.10/dist-packages (from statsmodels->pgmpy) (24.1)\n",
            "Requirement already satisfied: filelock in /usr/local/lib/python3.10/dist-packages (from torch->pgmpy) (3.15.4)\n",
            "Requirement already satisfied: sympy in /usr/local/lib/python3.10/dist-packages (from torch->pgmpy) (1.13.2)\n",
            "Requirement already satisfied: jinja2 in /usr/local/lib/python3.10/dist-packages (from torch->pgmpy) (3.1.4)\n",
            "Requirement already satisfied: fsspec in /usr/local/lib/python3.10/dist-packages (from torch->pgmpy) (2024.6.1)\n",
            "Requirement already satisfied: nvidia-nccl-cu12 in /usr/local/lib/python3.10/dist-packages (from xgboost->pgmpy) (2.22.3)\n",
            "Requirement already satisfied: googleapis-common-protos<2.0.dev0,>=1.56.2 in /usr/local/lib/python3.10/dist-packages (from google-api-core->google-generativeai->pgmpy) (1.64.0)\n",
            "Requirement already satisfied: requests<3.0.0.dev0,>=2.18.0 in /usr/local/lib/python3.10/dist-packages (from google-api-core->google-generativeai->pgmpy) (2.32.3)\n",
            "Requirement already satisfied: cachetools<6.0,>=2.0.0 in /usr/local/lib/python3.10/dist-packages (from google-auth>=2.15.0->google-generativeai->pgmpy) (5.5.0)\n",
            "Requirement already satisfied: pyasn1-modules>=0.2.1 in /usr/local/lib/python3.10/dist-packages (from google-auth>=2.15.0->google-generativeai->pgmpy) (0.4.0)\n",
            "Requirement already satisfied: rsa<5,>=3.1.4 in /usr/local/lib/python3.10/dist-packages (from google-auth>=2.15.0->google-generativeai->pgmpy) (4.9)\n",
            "Requirement already satisfied: six in /usr/local/lib/python3.10/dist-packages (from patsy>=0.5.6->statsmodels->pgmpy) (1.16.0)\n",
            "Requirement already satisfied: httplib2<1.dev0,>=0.19.0 in /usr/local/lib/python3.10/dist-packages (from google-api-python-client->google-generativeai->pgmpy) (0.22.0)\n",
            "Requirement already satisfied: google-auth-httplib2<1.0.0,>=0.2.0 in /usr/local/lib/python3.10/dist-packages (from google-api-python-client->google-generativeai->pgmpy) (0.2.0)\n",
            "Requirement already satisfied: uritemplate<5,>=3.0.1 in /usr/local/lib/python3.10/dist-packages (from google-api-python-client->google-generativeai->pgmpy) (4.1.1)\n",
            "Requirement already satisfied: MarkupSafe>=2.0 in /usr/local/lib/python3.10/dist-packages (from jinja2->torch->pgmpy) (2.1.5)\n",
            "Requirement already satisfied: annotated-types>=0.4.0 in /usr/local/lib/python3.10/dist-packages (from pydantic->google-generativeai->pgmpy) (0.7.0)\n",
            "Requirement already satisfied: pydantic-core==2.20.1 in /usr/local/lib/python3.10/dist-packages (from pydantic->google-generativeai->pgmpy) (2.20.1)\n",
            "Requirement already satisfied: mpmath<1.4,>=1.1.0 in /usr/local/lib/python3.10/dist-packages (from sympy->torch->pgmpy) (1.3.0)\n",
            "Requirement already satisfied: grpcio<2.0dev,>=1.33.2 in /usr/local/lib/python3.10/dist-packages (from google-api-core[grpc]!=2.0.*,!=2.1.*,!=2.10.*,!=2.2.*,!=2.3.*,!=2.4.*,!=2.5.*,!=2.6.*,!=2.7.*,!=2.8.*,!=2.9.*,<3.0.0dev,>=1.34.1->google-ai-generativelanguage==0.6.6->google-generativeai->pgmpy) (1.64.1)\n",
            "Requirement already satisfied: grpcio-status<2.0.dev0,>=1.33.2 in /usr/local/lib/python3.10/dist-packages (from google-api-core[grpc]!=2.0.*,!=2.1.*,!=2.10.*,!=2.2.*,!=2.3.*,!=2.4.*,!=2.5.*,!=2.6.*,!=2.7.*,!=2.8.*,!=2.9.*,<3.0.0dev,>=1.34.1->google-ai-generativelanguage==0.6.6->google-generativeai->pgmpy) (1.48.2)\n",
            "Requirement already satisfied: pyasn1<0.7.0,>=0.4.6 in /usr/local/lib/python3.10/dist-packages (from pyasn1-modules>=0.2.1->google-auth>=2.15.0->google-generativeai->pgmpy) (0.6.0)\n",
            "Requirement already satisfied: charset-normalizer<4,>=2 in /usr/local/lib/python3.10/dist-packages (from requests<3.0.0.dev0,>=2.18.0->google-api-core->google-generativeai->pgmpy) (3.3.2)\n",
            "Requirement already satisfied: idna<4,>=2.5 in /usr/local/lib/python3.10/dist-packages (from requests<3.0.0.dev0,>=2.18.0->google-api-core->google-generativeai->pgmpy) (3.8)\n",
            "Requirement already satisfied: urllib3<3,>=1.21.1 in /usr/local/lib/python3.10/dist-packages (from requests<3.0.0.dev0,>=2.18.0->google-api-core->google-generativeai->pgmpy) (2.0.7)\n",
            "Requirement already satisfied: certifi>=2017.4.17 in /usr/local/lib/python3.10/dist-packages (from requests<3.0.0.dev0,>=2.18.0->google-api-core->google-generativeai->pgmpy) (2024.7.4)\n",
            "Downloading pgmpy-0.1.26-py3-none-any.whl (2.0 MB)\n",
            "\u001b[2K   \u001b[90m━━━━━━━━━━━━━━━━━━━━━━━━━━━━━━━━━━━━━━━━\u001b[0m \u001b[32m2.0/2.0 MB\u001b[0m \u001b[31m30.4 MB/s\u001b[0m eta \u001b[36m0:00:00\u001b[0m\n",
            "\u001b[?25hInstalling collected packages: pgmpy\n",
            "Successfully installed pgmpy-0.1.26\n"
          ]
        }
      ]
    },
    {
      "cell_type": "code",
      "source": [
        "from pgmpy.models import BayesianNetwork\n",
        "from pgmpy.factors.discrete import TabularCPD"
      ],
      "metadata": {
        "id": "CVlA0F2kRru5"
      },
      "execution_count": null,
      "outputs": []
    },
    {
      "cell_type": "code",
      "source": [
        "# Defining the network structure\n",
        "model = BayesianNetwork([(\"C\", \"H\"), (\"P\", \"H\")])"
      ],
      "metadata": {
        "id": "j0wzQ6iK-7dZ"
      },
      "execution_count": null,
      "outputs": []
    },
    {
      "cell_type": "code",
      "source": [
        "# Defining the CPDs:\n",
        "cpd_c = TabularCPD(\"C\", 3, [[0.33], [0.33], [0.33]])\n",
        "cpd_p = TabularCPD(\"P\", 3, [[0.33], [0.33], [0.33]])\n",
        "cpd_h = TabularCPD(\n",
        "    \"H\",\n",
        "    3,\n",
        "    [\n",
        "        [0, 0, 0, 0, 0.5, 1, 0, 1, 0.5],\n",
        "        [0.5, 0, 1, 0, 0, 0, 1, 0, 0.5],\n",
        "        [0.5, 1, 0, 1, 0.5, 0, 0, 0, 0],\n",
        "    ],\n",
        "    evidence=[\"C\", \"P\"],\n",
        "    evidence_card=[3, 3],\n",
        ")"
      ],
      "metadata": {
        "id": "msxzIASY_f0B"
      },
      "execution_count": null,
      "outputs": []
    },
    {
      "cell_type": "code",
      "source": [
        "# Associating the CPDs with the network structure.\n",
        "model.add_cpds(cpd_c, cpd_p, cpd_h)"
      ],
      "metadata": {
        "id": "_Wpey2zHAlN4"
      },
      "execution_count": null,
      "outputs": []
    },
    {
      "cell_type": "code",
      "source": [
        "# Some other methods\n",
        "model.get_cpds()"
      ],
      "metadata": {
        "colab": {
          "base_uri": "https://localhost:8080/"
        },
        "id": "N5WAvzK1AtAP",
        "outputId": "9eed1c9f-4312-4243-d1c2-573750d0cd15"
      },
      "execution_count": null,
      "outputs": [
        {
          "output_type": "execute_result",
          "data": {
            "text/plain": [
              "[<TabularCPD representing P(C:3) at 0x7c11a5091300>,\n",
              " <TabularCPD representing P(P:3) at 0x7c11a50932b0>,\n",
              " <TabularCPD representing P(H:3 | C:3, P:3) at 0x7c11a5092140>]"
            ]
          },
          "metadata": {},
          "execution_count": 7
        }
      ]
    },
    {
      "cell_type": "code",
      "source": [
        "model.check_model()"
      ],
      "metadata": {
        "colab": {
          "base_uri": "https://localhost:8080/"
        },
        "id": "eoq8B82uAxkB",
        "outputId": "170611b7-667e-4569-fd13-df98bf181e37"
      },
      "execution_count": null,
      "outputs": [
        {
          "output_type": "execute_result",
          "data": {
            "text/plain": [
              "True"
            ]
          },
          "metadata": {},
          "execution_count": 8
        }
      ]
    },
    {
      "cell_type": "code",
      "source": [
        "from pgmpy.inference import VariableElimination"
      ],
      "metadata": {
        "id": "d91rsM3vA1T5"
      },
      "execution_count": null,
      "outputs": []
    },
    {
      "cell_type": "code",
      "source": [
        "infer = VariableElimination(model)\n",
        "posterior_p = infer.query([\"P\"], evidence={\"C\": 0, \"H\": 2})\n",
        "print(posterior_p)"
      ],
      "metadata": {
        "colab": {
          "base_uri": "https://localhost:8080/"
        },
        "id": "-oae4PEDA9wx",
        "outputId": "bae0b8ee-4af8-4288-af51-9bf8c7fed10c"
      },
      "execution_count": null,
      "outputs": [
        {
          "output_type": "stream",
          "name": "stdout",
          "text": [
            "+------+----------+\n",
            "| P    |   phi(P) |\n",
            "+======+==========+\n",
            "| P(0) |   0.3333 |\n",
            "+------+----------+\n",
            "| P(1) |   0.6667 |\n",
            "+------+----------+\n",
            "| P(2) |   0.0000 |\n",
            "+------+----------+\n"
          ]
        }
      ]
    },
    {
      "cell_type": "code",
      "source": [
        "infer = VariableElimination(model)\n",
        "posterior_p = infer.query([\"P\"], evidence={\"C\": 0, \"H\": 1})\n",
        "print(posterior_p)"
      ],
      "metadata": {
        "colab": {
          "base_uri": "https://localhost:8080/"
        },
        "id": "QTVGER9pBKUa",
        "outputId": "ebce0327-7f6b-484e-eb53-361b4858ebcb"
      },
      "execution_count": null,
      "outputs": [
        {
          "output_type": "stream",
          "name": "stdout",
          "text": [
            "+------+----------+\n",
            "| P    |   phi(P) |\n",
            "+======+==========+\n",
            "| P(0) |   0.3333 |\n",
            "+------+----------+\n",
            "| P(1) |   0.0000 |\n",
            "+------+----------+\n",
            "| P(2) |   0.6667 |\n",
            "+------+----------+\n"
          ]
        }
      ]
    },
    {
      "cell_type": "markdown",
      "source": [
        "# Experiment 4"
      ],
      "metadata": {
        "id": "TkeMi_7Oqiae"
      }
    },
    {
      "cell_type": "markdown",
      "source": [
        "**Classwork**"
      ],
      "metadata": {
        "id": "WdIqMu-Yq-UN"
      }
    },
    {
      "cell_type": "code",
      "source": [
        "!pip install pymc3 --upgrade"
      ],
      "metadata": {
        "colab": {
          "base_uri": "https://localhost:8080/"
        },
        "id": "gONjOWgfrEhM",
        "outputId": "2dc75637-bac2-4866-8e71-5fab91206345"
      },
      "execution_count": null,
      "outputs": [
        {
          "output_type": "stream",
          "name": "stdout",
          "text": [
            "Requirement already satisfied: pymc3 in /usr/local/lib/python3.10/dist-packages (3.11.6)\n",
            "Requirement already satisfied: arviz>=0.11.0 in /usr/local/lib/python3.10/dist-packages (from pymc3) (0.12.1)\n",
            "Requirement already satisfied: cachetools>=4.2.1 in /usr/local/lib/python3.10/dist-packages (from pymc3) (5.5.0)\n",
            "Requirement already satisfied: deprecat in /usr/local/lib/python3.10/dist-packages (from pymc3) (2.1.3)\n",
            "Requirement already satisfied: dill in /usr/local/lib/python3.10/dist-packages (from pymc3) (0.3.9)\n",
            "Requirement already satisfied: fastprogress>=0.2.0 in /usr/local/lib/python3.10/dist-packages (from pymc3) (1.0.3)\n",
            "Requirement already satisfied: numpy<1.22.2,>=1.15.0 in /usr/local/lib/python3.10/dist-packages (from pymc3) (1.22.1)\n",
            "Requirement already satisfied: pandas>=0.24.0 in /usr/local/lib/python3.10/dist-packages (from pymc3) (2.0.3)\n",
            "Requirement already satisfied: patsy>=0.5.1 in /usr/local/lib/python3.10/dist-packages (from pymc3) (0.5.6)\n",
            "Requirement already satisfied: scipy<1.8.0,>=1.7.3 in /usr/local/lib/python3.10/dist-packages (from pymc3) (1.7.3)\n",
            "Requirement already satisfied: semver>=2.13.0 in /usr/local/lib/python3.10/dist-packages (from pymc3) (3.0.2)\n",
            "Requirement already satisfied: theano-pymc==1.1.2 in /usr/local/lib/python3.10/dist-packages (from pymc3) (1.1.2)\n",
            "Requirement already satisfied: typing-extensions>=3.7.4 in /usr/local/lib/python3.10/dist-packages (from pymc3) (4.12.2)\n",
            "Requirement already satisfied: filelock in /usr/local/lib/python3.10/dist-packages (from theano-pymc==1.1.2->pymc3) (3.16.1)\n",
            "Requirement already satisfied: setuptools>=38.4 in /usr/local/lib/python3.10/dist-packages (from arviz>=0.11.0->pymc3) (71.0.4)\n",
            "Requirement already satisfied: matplotlib>=3.0 in /usr/local/lib/python3.10/dist-packages (from arviz>=0.11.0->pymc3) (3.7.1)\n",
            "Requirement already satisfied: packaging in /usr/local/lib/python3.10/dist-packages (from arviz>=0.11.0->pymc3) (24.1)\n",
            "Requirement already satisfied: xarray>=0.16.1 in /usr/local/lib/python3.10/dist-packages (from arviz>=0.11.0->pymc3) (2023.12.0)\n",
            "Requirement already satisfied: netcdf4 in /usr/local/lib/python3.10/dist-packages (from arviz>=0.11.0->pymc3) (1.7.1.post2)\n",
            "Requirement already satisfied: xarray-einstats>=0.2 in /usr/local/lib/python3.10/dist-packages (from arviz>=0.11.0->pymc3) (0.6.0)\n",
            "Requirement already satisfied: python-dateutil>=2.8.2 in /usr/local/lib/python3.10/dist-packages (from pandas>=0.24.0->pymc3) (2.8.2)\n",
            "Requirement already satisfied: pytz>=2020.1 in /usr/local/lib/python3.10/dist-packages (from pandas>=0.24.0->pymc3) (2024.2)\n",
            "Requirement already satisfied: tzdata>=2022.1 in /usr/local/lib/python3.10/dist-packages (from pandas>=0.24.0->pymc3) (2024.2)\n",
            "Requirement already satisfied: six in /usr/local/lib/python3.10/dist-packages (from patsy>=0.5.1->pymc3) (1.16.0)\n",
            "Requirement already satisfied: wrapt<2,>=1.10 in /usr/local/lib/python3.10/dist-packages (from deprecat->pymc3) (1.16.0)\n",
            "Requirement already satisfied: contourpy>=1.0.1 in /usr/local/lib/python3.10/dist-packages (from matplotlib>=3.0->arviz>=0.11.0->pymc3) (1.2.1)\n",
            "Requirement already satisfied: cycler>=0.10 in /usr/local/lib/python3.10/dist-packages (from matplotlib>=3.0->arviz>=0.11.0->pymc3) (0.12.1)\n",
            "Requirement already satisfied: fonttools>=4.22.0 in /usr/local/lib/python3.10/dist-packages (from matplotlib>=3.0->arviz>=0.11.0->pymc3) (4.54.1)\n",
            "Requirement already satisfied: kiwisolver>=1.0.1 in /usr/local/lib/python3.10/dist-packages (from matplotlib>=3.0->arviz>=0.11.0->pymc3) (1.4.7)\n",
            "Requirement already satisfied: pillow>=6.2.0 in /usr/local/lib/python3.10/dist-packages (from matplotlib>=3.0->arviz>=0.11.0->pymc3) (10.4.0)\n",
            "Requirement already satisfied: pyparsing>=2.3.1 in /usr/local/lib/python3.10/dist-packages (from matplotlib>=3.0->arviz>=0.11.0->pymc3) (3.1.4)\n",
            "Requirement already satisfied: cftime in /usr/local/lib/python3.10/dist-packages (from netcdf4->arviz>=0.11.0->pymc3) (1.6.4)\n",
            "Requirement already satisfied: certifi in /usr/local/lib/python3.10/dist-packages (from netcdf4->arviz>=0.11.0->pymc3) (2024.8.30)\n"
          ]
        }
      ]
    },
    {
      "cell_type": "code",
      "source": [
        "import pymc3 as pm\n",
        "import numpy as np"
      ],
      "metadata": {
        "id": "SvSfGQrqq6Bz"
      },
      "execution_count": null,
      "outputs": []
    },
    {
      "cell_type": "code",
      "source": [
        "# Define the model in a single context\n",
        "with pm.Model() as model:\n",
        "    # Define nodes within the model context\n",
        "    T = pm.Normal('Temperature', mu=20, sigma=5)\n",
        "    S = pm.Normal('Ice Cream Sales', mu=50, sigma=10)\n",
        "    # Define Linear relationship\n",
        "    S_obs = pm.Deterministic('S_obs', 2 * T + 10)"
      ],
      "metadata": {
        "id": "akhOY7cauUBn"
      },
      "execution_count": null,
      "outputs": []
    },
    {
      "cell_type": "code",
      "source": [
        "# Run inference using the defined model\n",
        "with model:\n",
        "  trace = pm.sample(1000)"
      ],
      "metadata": {
        "colab": {
          "base_uri": "https://localhost:8080/",
          "height": 113
        },
        "id": "jkIeOfEvujiI",
        "outputId": "cb1447d5-5982-476a-ab9b-ea627b1b643f"
      },
      "execution_count": null,
      "outputs": [
        {
          "output_type": "stream",
          "name": "stderr",
          "text": [
            "/usr/local/lib/python3.10/dist-packages/deprecat/classic.py:232: FutureWarning: In v4.0, pm.sample will return an `arviz.InferenceData` object instead of a `MultiTrace` by default. You can pass return_inferencedata=True or return_inferencedata=False to be safe and silence this warning.\n",
            "  return wrapped_(*args_, **kwargs_)\n"
          ]
        },
        {
          "output_type": "display_data",
          "data": {
            "text/plain": [
              "<IPython.core.display.HTML object>"
            ],
            "text/html": [
              "\n",
              "<style>\n",
              "    /* Turns off some styling */\n",
              "    progress {\n",
              "        /* gets rid of default border in Firefox and Opera. */\n",
              "        border: none;\n",
              "        /* Needs to be in here for Safari polyfill so background images work as expected. */\n",
              "        background-size: auto;\n",
              "    }\n",
              "    progress:not([value]), progress:not([value])::-webkit-progress-bar {\n",
              "        background: repeating-linear-gradient(45deg, #7e7e7e, #7e7e7e 10px, #5c5c5c 10px, #5c5c5c 20px);\n",
              "    }\n",
              "    .progress-bar-interrupted, .progress-bar-interrupted::-webkit-progress-bar {\n",
              "        background: #F44336;\n",
              "    }\n",
              "</style>\n"
            ]
          },
          "metadata": {}
        },
        {
          "output_type": "display_data",
          "data": {
            "text/plain": [
              "<IPython.core.display.HTML object>"
            ],
            "text/html": [
              "\n",
              "    <div>\n",
              "      <progress value='2000' class='' max='2000' style='width:300px; height:20px; vertical-align: middle;'></progress>\n",
              "      100.00% [2000/2000 00:02&lt;00:00 Sampling chain 0, 0 divergences]\n",
              "    </div>\n",
              "    "
            ]
          },
          "metadata": {}
        },
        {
          "output_type": "display_data",
          "data": {
            "text/plain": [
              "<IPython.core.display.HTML object>"
            ],
            "text/html": [
              "\n",
              "<style>\n",
              "    /* Turns off some styling */\n",
              "    progress {\n",
              "        /* gets rid of default border in Firefox and Opera. */\n",
              "        border: none;\n",
              "        /* Needs to be in here for Safari polyfill so background images work as expected. */\n",
              "        background-size: auto;\n",
              "    }\n",
              "    progress:not([value]), progress:not([value])::-webkit-progress-bar {\n",
              "        background: repeating-linear-gradient(45deg, #7e7e7e, #7e7e7e 10px, #5c5c5c 10px, #5c5c5c 20px);\n",
              "    }\n",
              "    .progress-bar-interrupted, .progress-bar-interrupted::-webkit-progress-bar {\n",
              "        background: #F44336;\n",
              "    }\n",
              "</style>\n"
            ]
          },
          "metadata": {}
        },
        {
          "output_type": "display_data",
          "data": {
            "text/plain": [
              "<IPython.core.display.HTML object>"
            ],
            "text/html": [
              "\n",
              "    <div>\n",
              "      <progress value='2000' class='' max='2000' style='width:300px; height:20px; vertical-align: middle;'></progress>\n",
              "      100.00% [2000/2000 00:01&lt;00:00 Sampling chain 1, 0 divergences]\n",
              "    </div>\n",
              "    "
            ]
          },
          "metadata": {}
        }
      ]
    },
    {
      "cell_type": "code",
      "source": [
        "# Question 1: Expected Ice Cream Sales on a 25 degree celcius day?\n",
        "T_value = 25\n",
        "expected_sales = 2 * T_value + 10\n",
        "print(\"Expected Ice Cream Sales:\", expected_sales)"
      ],
      "metadata": {
        "colab": {
          "base_uri": "https://localhost:8080/"
        },
        "id": "tIzGvr_SurR4",
        "outputId": "251cbbec-7724-42c2-ce1f-6eb86f197cf7"
      },
      "execution_count": null,
      "outputs": [
        {
          "output_type": "stream",
          "name": "stdout",
          "text": [
            "Expected Ice Cream Sales: 60\n"
          ]
        }
      ]
    },
    {
      "cell_type": "code",
      "source": [
        "# Question 2: Increase in Ice Cream Sales if Temperature rises by 2 degree celcius?\n",
        "T_increase = 2\n",
        "S_increase = 2 * T_increase\n",
        "print(\"Increase in Ice Cream Sales:\", S_increase)"
      ],
      "metadata": {
        "colab": {
          "base_uri": "https://localhost:8080/"
        },
        "id": "9Ft39F9Avppa",
        "outputId": "b33bf2e4-8593-4be0-a1ed-4806828f0dea"
      },
      "execution_count": null,
      "outputs": [
        {
          "output_type": "stream",
          "name": "stdout",
          "text": [
            "Increase in Ice Cream Sales: 4\n"
          ]
        }
      ]
    },
    {
      "cell_type": "markdown",
      "source": [
        "**Homework**"
      ],
      "metadata": {
        "id": "D5cVqstoxSvJ"
      }
    },
    {
      "cell_type": "code",
      "source": [
        "!pip install pgmpy"
      ],
      "metadata": {
        "colab": {
          "base_uri": "https://localhost:8080/"
        },
        "id": "KbQt3eq0D4gC",
        "outputId": "fa87fd7a-d171-4be9-b619-9d2e6609d277"
      },
      "execution_count": null,
      "outputs": [
        {
          "output_type": "stream",
          "name": "stdout",
          "text": [
            "Collecting pgmpy\n",
            "  Downloading pgmpy-0.1.26-py3-none-any.whl.metadata (9.1 kB)\n",
            "Requirement already satisfied: networkx in /usr/local/lib/python3.10/dist-packages (from pgmpy) (3.4)\n",
            "Requirement already satisfied: numpy in /usr/local/lib/python3.10/dist-packages (from pgmpy) (1.22.1)\n",
            "Requirement already satisfied: scipy in /usr/local/lib/python3.10/dist-packages (from pgmpy) (1.7.3)\n",
            "Requirement already satisfied: scikit-learn in /usr/local/lib/python3.10/dist-packages (from pgmpy) (1.5.2)\n",
            "Requirement already satisfied: pandas in /usr/local/lib/python3.10/dist-packages (from pgmpy) (2.0.3)\n",
            "Requirement already satisfied: pyparsing in /usr/local/lib/python3.10/dist-packages (from pgmpy) (3.1.4)\n",
            "Requirement already satisfied: torch in /usr/local/lib/python3.10/dist-packages (from pgmpy) (2.4.1+cu121)\n",
            "Requirement already satisfied: statsmodels in /usr/local/lib/python3.10/dist-packages (from pgmpy) (0.14.4)\n",
            "Requirement already satisfied: tqdm in /usr/local/lib/python3.10/dist-packages (from pgmpy) (4.66.5)\n",
            "Requirement already satisfied: joblib in /usr/local/lib/python3.10/dist-packages (from pgmpy) (1.4.2)\n",
            "Requirement already satisfied: opt-einsum in /usr/local/lib/python3.10/dist-packages (from pgmpy) (3.4.0)\n",
            "Requirement already satisfied: xgboost in /usr/local/lib/python3.10/dist-packages (from pgmpy) (2.1.1)\n",
            "Requirement already satisfied: google-generativeai in /usr/local/lib/python3.10/dist-packages (from pgmpy) (0.7.2)\n",
            "Requirement already satisfied: google-ai-generativelanguage==0.6.6 in /usr/local/lib/python3.10/dist-packages (from google-generativeai->pgmpy) (0.6.6)\n",
            "Requirement already satisfied: google-api-core in /usr/local/lib/python3.10/dist-packages (from google-generativeai->pgmpy) (2.19.2)\n",
            "Requirement already satisfied: google-api-python-client in /usr/local/lib/python3.10/dist-packages (from google-generativeai->pgmpy) (2.137.0)\n",
            "Requirement already satisfied: google-auth>=2.15.0 in /usr/local/lib/python3.10/dist-packages (from google-generativeai->pgmpy) (2.27.0)\n",
            "Requirement already satisfied: protobuf in /usr/local/lib/python3.10/dist-packages (from google-generativeai->pgmpy) (3.20.3)\n",
            "Requirement already satisfied: pydantic in /usr/local/lib/python3.10/dist-packages (from google-generativeai->pgmpy) (2.9.2)\n",
            "Requirement already satisfied: typing-extensions in /usr/local/lib/python3.10/dist-packages (from google-generativeai->pgmpy) (4.12.2)\n",
            "Requirement already satisfied: proto-plus<2.0.0dev,>=1.22.3 in /usr/local/lib/python3.10/dist-packages (from google-ai-generativelanguage==0.6.6->google-generativeai->pgmpy) (1.24.0)\n",
            "Requirement already satisfied: python-dateutil>=2.8.2 in /usr/local/lib/python3.10/dist-packages (from pandas->pgmpy) (2.8.2)\n",
            "Requirement already satisfied: pytz>=2020.1 in /usr/local/lib/python3.10/dist-packages (from pandas->pgmpy) (2024.2)\n",
            "Requirement already satisfied: tzdata>=2022.1 in /usr/local/lib/python3.10/dist-packages (from pandas->pgmpy) (2024.2)\n",
            "Requirement already satisfied: threadpoolctl>=3.1.0 in /usr/local/lib/python3.10/dist-packages (from scikit-learn->pgmpy) (3.5.0)\n",
            "Collecting numpy (from pgmpy)\n",
            "  Downloading numpy-1.22.4-cp310-cp310-manylinux_2_17_x86_64.manylinux2014_x86_64.whl.metadata (2.0 kB)\n",
            "Collecting scipy (from pgmpy)\n",
            "  Downloading scipy-1.14.1-cp310-cp310-manylinux_2_17_x86_64.manylinux2014_x86_64.whl.metadata (60 kB)\n",
            "\u001b[2K     \u001b[90m━━━━━━━━━━━━━━━━━━━━━━━━━━━━━━━━━━━━━━━━\u001b[0m \u001b[32m60.8/60.8 kB\u001b[0m \u001b[31m4.6 MB/s\u001b[0m eta \u001b[36m0:00:00\u001b[0m\n",
            "\u001b[?25hRequirement already satisfied: patsy>=0.5.6 in /usr/local/lib/python3.10/dist-packages (from statsmodels->pgmpy) (0.5.6)\n",
            "Requirement already satisfied: packaging>=21.3 in /usr/local/lib/python3.10/dist-packages (from statsmodels->pgmpy) (24.1)\n",
            "Collecting numpy (from pgmpy)\n",
            "  Using cached numpy-2.1.2-cp310-cp310-manylinux_2_17_x86_64.manylinux2014_x86_64.whl.metadata (60 kB)\n",
            "Requirement already satisfied: filelock in /usr/local/lib/python3.10/dist-packages (from torch->pgmpy) (3.16.1)\n",
            "Requirement already satisfied: sympy in /usr/local/lib/python3.10/dist-packages (from torch->pgmpy) (1.13.3)\n",
            "Requirement already satisfied: jinja2 in /usr/local/lib/python3.10/dist-packages (from torch->pgmpy) (3.1.4)\n",
            "Requirement already satisfied: fsspec in /usr/local/lib/python3.10/dist-packages (from torch->pgmpy) (2024.6.1)\n",
            "Requirement already satisfied: nvidia-nccl-cu12 in /usr/local/lib/python3.10/dist-packages (from xgboost->pgmpy) (2.23.4)\n",
            "Requirement already satisfied: googleapis-common-protos<2.0.dev0,>=1.56.2 in /usr/local/lib/python3.10/dist-packages (from google-api-core->google-generativeai->pgmpy) (1.65.0)\n",
            "Requirement already satisfied: requests<3.0.0.dev0,>=2.18.0 in /usr/local/lib/python3.10/dist-packages (from google-api-core->google-generativeai->pgmpy) (2.32.3)\n",
            "Requirement already satisfied: cachetools<6.0,>=2.0.0 in /usr/local/lib/python3.10/dist-packages (from google-auth>=2.15.0->google-generativeai->pgmpy) (5.5.0)\n",
            "Requirement already satisfied: pyasn1-modules>=0.2.1 in /usr/local/lib/python3.10/dist-packages (from google-auth>=2.15.0->google-generativeai->pgmpy) (0.4.1)\n",
            "Requirement already satisfied: rsa<5,>=3.1.4 in /usr/local/lib/python3.10/dist-packages (from google-auth>=2.15.0->google-generativeai->pgmpy) (4.9)\n",
            "Requirement already satisfied: six in /usr/local/lib/python3.10/dist-packages (from patsy>=0.5.6->statsmodels->pgmpy) (1.16.0)\n",
            "Requirement already satisfied: httplib2<1.dev0,>=0.19.0 in /usr/local/lib/python3.10/dist-packages (from google-api-python-client->google-generativeai->pgmpy) (0.22.0)\n",
            "Requirement already satisfied: google-auth-httplib2<1.0.0,>=0.2.0 in /usr/local/lib/python3.10/dist-packages (from google-api-python-client->google-generativeai->pgmpy) (0.2.0)\n",
            "Requirement already satisfied: uritemplate<5,>=3.0.1 in /usr/local/lib/python3.10/dist-packages (from google-api-python-client->google-generativeai->pgmpy) (4.1.1)\n",
            "Requirement already satisfied: MarkupSafe>=2.0 in /usr/local/lib/python3.10/dist-packages (from jinja2->torch->pgmpy) (3.0.1)\n",
            "Requirement already satisfied: annotated-types>=0.6.0 in /usr/local/lib/python3.10/dist-packages (from pydantic->google-generativeai->pgmpy) (0.7.0)\n",
            "Requirement already satisfied: pydantic-core==2.23.4 in /usr/local/lib/python3.10/dist-packages (from pydantic->google-generativeai->pgmpy) (2.23.4)\n",
            "Requirement already satisfied: mpmath<1.4,>=1.1.0 in /usr/local/lib/python3.10/dist-packages (from sympy->torch->pgmpy) (1.3.0)\n",
            "Requirement already satisfied: grpcio<2.0dev,>=1.33.2 in /usr/local/lib/python3.10/dist-packages (from google-api-core[grpc]!=2.0.*,!=2.1.*,!=2.10.*,!=2.2.*,!=2.3.*,!=2.4.*,!=2.5.*,!=2.6.*,!=2.7.*,!=2.8.*,!=2.9.*,<3.0.0dev,>=1.34.1->google-ai-generativelanguage==0.6.6->google-generativeai->pgmpy) (1.64.1)\n",
            "Requirement already satisfied: grpcio-status<2.0.dev0,>=1.33.2 in /usr/local/lib/python3.10/dist-packages (from google-api-core[grpc]!=2.0.*,!=2.1.*,!=2.10.*,!=2.2.*,!=2.3.*,!=2.4.*,!=2.5.*,!=2.6.*,!=2.7.*,!=2.8.*,!=2.9.*,<3.0.0dev,>=1.34.1->google-ai-generativelanguage==0.6.6->google-generativeai->pgmpy) (1.48.2)\n",
            "Requirement already satisfied: pyasn1<0.7.0,>=0.4.6 in /usr/local/lib/python3.10/dist-packages (from pyasn1-modules>=0.2.1->google-auth>=2.15.0->google-generativeai->pgmpy) (0.6.1)\n",
            "Requirement already satisfied: charset-normalizer<4,>=2 in /usr/local/lib/python3.10/dist-packages (from requests<3.0.0.dev0,>=2.18.0->google-api-core->google-generativeai->pgmpy) (3.4.0)\n",
            "Requirement already satisfied: idna<4,>=2.5 in /usr/local/lib/python3.10/dist-packages (from requests<3.0.0.dev0,>=2.18.0->google-api-core->google-generativeai->pgmpy) (3.10)\n",
            "Requirement already satisfied: urllib3<3,>=1.21.1 in /usr/local/lib/python3.10/dist-packages (from requests<3.0.0.dev0,>=2.18.0->google-api-core->google-generativeai->pgmpy) (2.2.3)\n",
            "Requirement already satisfied: certifi>=2017.4.17 in /usr/local/lib/python3.10/dist-packages (from requests<3.0.0.dev0,>=2.18.0->google-api-core->google-generativeai->pgmpy) (2024.8.30)\n",
            "Downloading pgmpy-0.1.26-py3-none-any.whl (2.0 MB)\n",
            "\u001b[2K   \u001b[90m━━━━━━━━━━━━━━━━━━━━━━━━━━━━━━━━━━━━━━━━\u001b[0m \u001b[32m2.0/2.0 MB\u001b[0m \u001b[31m50.3 MB/s\u001b[0m eta \u001b[36m0:00:00\u001b[0m\n",
            "\u001b[?25hDownloading scipy-1.14.1-cp310-cp310-manylinux_2_17_x86_64.manylinux2014_x86_64.whl (41.2 MB)\n",
            "\u001b[2K   \u001b[90m━━━━━━━━━━━━━━━━━━━━━━━━━━━━━━━━━━━━━━━━\u001b[0m \u001b[32m41.2/41.2 MB\u001b[0m \u001b[31m21.3 MB/s\u001b[0m eta \u001b[36m0:00:00\u001b[0m\n",
            "\u001b[?25hUsing cached numpy-2.1.2-cp310-cp310-manylinux_2_17_x86_64.manylinux2014_x86_64.whl (16.3 MB)\n",
            "Installing collected packages: numpy, scipy, pgmpy\n",
            "  Attempting uninstall: numpy\n",
            "    Found existing installation: numpy 1.22.1\n",
            "    Uninstalling numpy-1.22.1:\n",
            "      Successfully uninstalled numpy-1.22.1\n",
            "  Attempting uninstall: scipy\n",
            "    Found existing installation: scipy 1.7.3\n",
            "    Uninstalling scipy-1.7.3:\n",
            "      Successfully uninstalled scipy-1.7.3\n",
            "\u001b[31mERROR: pip's dependency resolver does not currently take into account all the packages that are installed. This behaviour is the source of the following dependency conflicts.\n",
            "cudf-cu12 24.6.1 requires numpy<2.0a0,>=1.23, but you have numpy 2.1.2 which is incompatible.\n",
            "cupy-cuda12x 12.2.0 requires numpy<1.27,>=1.20, but you have numpy 2.1.2 which is incompatible.\n",
            "gensim 4.3.3 requires numpy<2.0,>=1.18.5, but you have numpy 2.1.2 which is incompatible.\n",
            "gensim 4.3.3 requires scipy<1.14.0,>=1.7.0, but you have scipy 1.14.1 which is incompatible.\n",
            "mizani 0.11.4 requires pandas>=2.1.0, but you have pandas 2.0.3 which is incompatible.\n",
            "numba 0.60.0 requires numpy<2.1,>=1.22, but you have numpy 2.1.2 which is incompatible.\n",
            "plotnine 0.13.6 requires pandas<3.0.0,>=2.1.0, but you have pandas 2.0.3 which is incompatible.\n",
            "pymc 5.16.2 requires arviz>=0.13.0, but you have arviz 0.12.1 which is incompatible.\n",
            "pymc3 3.11.6 requires numpy<1.22.2,>=1.15.0, but you have numpy 2.1.2 which is incompatible.\n",
            "pymc3 3.11.6 requires scipy<1.8.0,>=1.7.3, but you have scipy 1.14.1 which is incompatible.\n",
            "pytensor 2.25.5 requires numpy<2,>=1.17.0, but you have numpy 2.1.2 which is incompatible.\n",
            "rmm-cu12 24.6.0 requires numpy<2.0a0,>=1.23, but you have numpy 2.1.2 which is incompatible.\n",
            "tensorflow 2.17.0 requires numpy<2.0.0,>=1.23.5; python_version <= \"3.11\", but you have numpy 2.1.2 which is incompatible.\n",
            "thinc 8.2.5 requires numpy<2.0.0,>=1.19.0; python_version >= \"3.9\", but you have numpy 2.1.2 which is incompatible.\u001b[0m\u001b[31m\n",
            "\u001b[0mSuccessfully installed numpy-2.1.2 pgmpy-0.1.26 scipy-1.14.1\n"
          ]
        }
      ]
    },
    {
      "cell_type": "code",
      "source": [
        "from pgmpy.models import BayesianNetwork\n",
        "from pgmpy.factors.discrete import TabularCPD"
      ],
      "metadata": {
        "id": "_LaDufdAxJGU"
      },
      "execution_count": null,
      "outputs": []
    },
    {
      "cell_type": "code",
      "source": [
        "# Defining the network structure\n",
        "model = BayesianNetwork([(\"D\", \"G\"), (\"I\", \"G\"), (\"G\", \"L\"), (\"I\", \"S\")])"
      ],
      "metadata": {
        "id": "q_YbDo_ID2nO"
      },
      "execution_count": null,
      "outputs": []
    },
    {
      "cell_type": "code",
      "source": [
        "# Defining the CPDs:\n",
        "cpd_d = TabularCPD(\"D\", 2, [[0.6], [0.4]])\n",
        "cpd_i = TabularCPD(\"I\", 2, [[0.7], [0.3]])"
      ],
      "metadata": {
        "id": "Udu4AE1QFJex"
      },
      "execution_count": null,
      "outputs": []
    },
    {
      "cell_type": "code",
      "source": [
        "cpd_g = TabularCPD(\"G\", 3, [[0.3,0.05,0.9,0.5], [0.4,0.25,0.08,0.3], [0.3,0.7,0.02,0.2],], evidence=[\"D\", \"I\"], evidence_card=[2, 2])"
      ],
      "metadata": {
        "id": "oL0zWueqGh89"
      },
      "execution_count": null,
      "outputs": []
    },
    {
      "cell_type": "code",
      "source": [
        "cpd_l = TabularCPD(\"L\", 2, [[0.1,0.4,0.99], [0.9,0.6,0.01],], evidence=[\"G\"], evidence_card=[3])"
      ],
      "metadata": {
        "id": "zgvt9hIjGi7x"
      },
      "execution_count": null,
      "outputs": []
    },
    {
      "cell_type": "code",
      "source": [
        "cpd_s = TabularCPD(\"S\", 2, [[0.95,0.2], [0.05,0.8],], evidence=[\"I\"], evidence_card=[2])"
      ],
      "metadata": {
        "id": "4DEo1-CWIsCu"
      },
      "execution_count": null,
      "outputs": []
    },
    {
      "cell_type": "code",
      "source": [
        "# Associating the CPDs with the network structure\n",
        "model.add_cpds(cpd_d, cpd_i, cpd_g, cpd_l, cpd_s)"
      ],
      "metadata": {
        "id": "yiOmkFS_I-I8"
      },
      "execution_count": null,
      "outputs": []
    },
    {
      "cell_type": "code",
      "source": [
        "# Some other methods\n",
        "model.get_cpds()"
      ],
      "metadata": {
        "colab": {
          "base_uri": "https://localhost:8080/"
        },
        "id": "6bVN1-H1JPzb",
        "outputId": "48c50627-f9f5-41e1-a353-bf09455e5562"
      },
      "execution_count": null,
      "outputs": [
        {
          "output_type": "execute_result",
          "data": {
            "text/plain": [
              "[<TabularCPD representing P(D:2) at 0x799a499ec610>,\n",
              " <TabularCPD representing P(I:2) at 0x799a499ef250>,\n",
              " <TabularCPD representing P(G:3 | D:2, I:2) at 0x799a499ef1f0>,\n",
              " <TabularCPD representing P(L:2 | G:3) at 0x799a499efee0>,\n",
              " <TabularCPD representing P(S:2 | I:2) at 0x799a499ec760>]"
            ]
          },
          "metadata": {},
          "execution_count": 41
        }
      ]
    },
    {
      "cell_type": "code",
      "source": [
        "# Initializing the VariableElimination class\n",
        "from pgmpy.inference import VariableElimination\n",
        "model1 = VariableElimination(model)"
      ],
      "metadata": {
        "id": "GmBb2xjoJiiA"
      },
      "execution_count": null,
      "outputs": []
    },
    {
      "cell_type": "code",
      "source": [
        "# Computing the probability of intelligence given letter=0.\n",
        "q = model1.query(variables=[\"I\"], evidence={\"L\": 0})\n",
        "print(q)"
      ],
      "metadata": {
        "colab": {
          "base_uri": "https://localhost:8080/"
        },
        "id": "7Pxjiu_QJ_qb",
        "outputId": "2b55d12f-a5a9-4709-ee54-aebf5979ab33"
      },
      "execution_count": null,
      "outputs": [
        {
          "output_type": "stream",
          "name": "stdout",
          "text": [
            "+------+----------+\n",
            "| I    |   phi(I) |\n",
            "+======+==========+\n",
            "| I(0) |   0.5653 |\n",
            "+------+----------+\n",
            "| I(1) |   0.4347 |\n",
            "+------+----------+\n"
          ]
        }
      ]
    },
    {
      "cell_type": "markdown",
      "source": [
        "# Experiment 5"
      ],
      "metadata": {
        "id": "ucEnZ3yQvApS"
      }
    },
    {
      "cell_type": "code",
      "source": [
        "!pip install --upgrade pgmpy"
      ],
      "metadata": {
        "colab": {
          "base_uri": "https://localhost:8080/"
        },
        "id": "eoN8UjPRwPnJ",
        "outputId": "dbecdc50-0b5b-480c-d9ac-99afca311d0f"
      },
      "execution_count": null,
      "outputs": [
        {
          "output_type": "stream",
          "name": "stdout",
          "text": [
            "Requirement already satisfied: pgmpy in /usr/local/lib/python3.10/dist-packages (0.1.26)\n",
            "Requirement already satisfied: networkx in /usr/local/lib/python3.10/dist-packages (from pgmpy) (3.4.2)\n",
            "Requirement already satisfied: numpy in /usr/local/lib/python3.10/dist-packages (from pgmpy) (1.26.4)\n",
            "Requirement already satisfied: scipy in /usr/local/lib/python3.10/dist-packages (from pgmpy) (1.13.1)\n",
            "Requirement already satisfied: scikit-learn in /usr/local/lib/python3.10/dist-packages (from pgmpy) (1.5.2)\n",
            "Requirement already satisfied: pandas in /usr/local/lib/python3.10/dist-packages (from pgmpy) (2.2.2)\n",
            "Requirement already satisfied: pyparsing in /usr/local/lib/python3.10/dist-packages (from pgmpy) (3.2.0)\n",
            "Requirement already satisfied: torch in /usr/local/lib/python3.10/dist-packages (from pgmpy) (2.5.0+cu121)\n",
            "Requirement already satisfied: statsmodels in /usr/local/lib/python3.10/dist-packages (from pgmpy) (0.14.4)\n",
            "Requirement already satisfied: tqdm in /usr/local/lib/python3.10/dist-packages (from pgmpy) (4.66.5)\n",
            "Requirement already satisfied: joblib in /usr/local/lib/python3.10/dist-packages (from pgmpy) (1.4.2)\n",
            "Requirement already satisfied: opt-einsum in /usr/local/lib/python3.10/dist-packages (from pgmpy) (3.4.0)\n",
            "Requirement already satisfied: xgboost in /usr/local/lib/python3.10/dist-packages (from pgmpy) (2.1.1)\n",
            "Requirement already satisfied: google-generativeai in /usr/local/lib/python3.10/dist-packages (from pgmpy) (0.8.3)\n",
            "Requirement already satisfied: google-ai-generativelanguage==0.6.10 in /usr/local/lib/python3.10/dist-packages (from google-generativeai->pgmpy) (0.6.10)\n",
            "Requirement already satisfied: google-api-core in /usr/local/lib/python3.10/dist-packages (from google-generativeai->pgmpy) (2.19.2)\n",
            "Requirement already satisfied: google-api-python-client in /usr/local/lib/python3.10/dist-packages (from google-generativeai->pgmpy) (2.137.0)\n",
            "Requirement already satisfied: google-auth>=2.15.0 in /usr/local/lib/python3.10/dist-packages (from google-generativeai->pgmpy) (2.27.0)\n",
            "Requirement already satisfied: protobuf in /usr/local/lib/python3.10/dist-packages (from google-generativeai->pgmpy) (3.20.3)\n",
            "Requirement already satisfied: pydantic in /usr/local/lib/python3.10/dist-packages (from google-generativeai->pgmpy) (2.9.2)\n",
            "Requirement already satisfied: typing-extensions in /usr/local/lib/python3.10/dist-packages (from google-generativeai->pgmpy) (4.12.2)\n",
            "Requirement already satisfied: proto-plus<2.0.0dev,>=1.22.3 in /usr/local/lib/python3.10/dist-packages (from google-ai-generativelanguage==0.6.10->google-generativeai->pgmpy) (1.24.0)\n",
            "Requirement already satisfied: python-dateutil>=2.8.2 in /usr/local/lib/python3.10/dist-packages (from pandas->pgmpy) (2.8.2)\n",
            "Requirement already satisfied: pytz>=2020.1 in /usr/local/lib/python3.10/dist-packages (from pandas->pgmpy) (2024.2)\n",
            "Requirement already satisfied: tzdata>=2022.7 in /usr/local/lib/python3.10/dist-packages (from pandas->pgmpy) (2024.2)\n",
            "Requirement already satisfied: threadpoolctl>=3.1.0 in /usr/local/lib/python3.10/dist-packages (from scikit-learn->pgmpy) (3.5.0)\n",
            "Requirement already satisfied: patsy>=0.5.6 in /usr/local/lib/python3.10/dist-packages (from statsmodels->pgmpy) (0.5.6)\n",
            "Requirement already satisfied: packaging>=21.3 in /usr/local/lib/python3.10/dist-packages (from statsmodels->pgmpy) (24.1)\n",
            "Requirement already satisfied: filelock in /usr/local/lib/python3.10/dist-packages (from torch->pgmpy) (3.16.1)\n",
            "Requirement already satisfied: jinja2 in /usr/local/lib/python3.10/dist-packages (from torch->pgmpy) (3.1.4)\n",
            "Requirement already satisfied: fsspec in /usr/local/lib/python3.10/dist-packages (from torch->pgmpy) (2024.6.1)\n",
            "Requirement already satisfied: sympy==1.13.1 in /usr/local/lib/python3.10/dist-packages (from torch->pgmpy) (1.13.1)\n",
            "Requirement already satisfied: mpmath<1.4,>=1.1.0 in /usr/local/lib/python3.10/dist-packages (from sympy==1.13.1->torch->pgmpy) (1.3.0)\n",
            "Requirement already satisfied: nvidia-nccl-cu12 in /usr/local/lib/python3.10/dist-packages (from xgboost->pgmpy) (2.23.4)\n",
            "Requirement already satisfied: googleapis-common-protos<2.0.dev0,>=1.56.2 in /usr/local/lib/python3.10/dist-packages (from google-api-core->google-generativeai->pgmpy) (1.65.0)\n",
            "Requirement already satisfied: requests<3.0.0.dev0,>=2.18.0 in /usr/local/lib/python3.10/dist-packages (from google-api-core->google-generativeai->pgmpy) (2.32.3)\n",
            "Requirement already satisfied: cachetools<6.0,>=2.0.0 in /usr/local/lib/python3.10/dist-packages (from google-auth>=2.15.0->google-generativeai->pgmpy) (5.5.0)\n",
            "Requirement already satisfied: pyasn1-modules>=0.2.1 in /usr/local/lib/python3.10/dist-packages (from google-auth>=2.15.0->google-generativeai->pgmpy) (0.4.1)\n",
            "Requirement already satisfied: rsa<5,>=3.1.4 in /usr/local/lib/python3.10/dist-packages (from google-auth>=2.15.0->google-generativeai->pgmpy) (4.9)\n",
            "Requirement already satisfied: six in /usr/local/lib/python3.10/dist-packages (from patsy>=0.5.6->statsmodels->pgmpy) (1.16.0)\n",
            "Requirement already satisfied: httplib2<1.dev0,>=0.19.0 in /usr/local/lib/python3.10/dist-packages (from google-api-python-client->google-generativeai->pgmpy) (0.22.0)\n",
            "Requirement already satisfied: google-auth-httplib2<1.0.0,>=0.2.0 in /usr/local/lib/python3.10/dist-packages (from google-api-python-client->google-generativeai->pgmpy) (0.2.0)\n",
            "Requirement already satisfied: uritemplate<5,>=3.0.1 in /usr/local/lib/python3.10/dist-packages (from google-api-python-client->google-generativeai->pgmpy) (4.1.1)\n",
            "Requirement already satisfied: MarkupSafe>=2.0 in /usr/local/lib/python3.10/dist-packages (from jinja2->torch->pgmpy) (3.0.2)\n",
            "Requirement already satisfied: annotated-types>=0.6.0 in /usr/local/lib/python3.10/dist-packages (from pydantic->google-generativeai->pgmpy) (0.7.0)\n",
            "Requirement already satisfied: pydantic-core==2.23.4 in /usr/local/lib/python3.10/dist-packages (from pydantic->google-generativeai->pgmpy) (2.23.4)\n",
            "Requirement already satisfied: grpcio<2.0dev,>=1.33.2 in /usr/local/lib/python3.10/dist-packages (from google-api-core[grpc]!=2.0.*,!=2.1.*,!=2.10.*,!=2.2.*,!=2.3.*,!=2.4.*,!=2.5.*,!=2.6.*,!=2.7.*,!=2.8.*,!=2.9.*,<3.0.0dev,>=1.34.1->google-ai-generativelanguage==0.6.10->google-generativeai->pgmpy) (1.64.1)\n",
            "Requirement already satisfied: grpcio-status<2.0.dev0,>=1.33.2 in /usr/local/lib/python3.10/dist-packages (from google-api-core[grpc]!=2.0.*,!=2.1.*,!=2.10.*,!=2.2.*,!=2.3.*,!=2.4.*,!=2.5.*,!=2.6.*,!=2.7.*,!=2.8.*,!=2.9.*,<3.0.0dev,>=1.34.1->google-ai-generativelanguage==0.6.10->google-generativeai->pgmpy) (1.48.2)\n",
            "Requirement already satisfied: pyasn1<0.7.0,>=0.4.6 in /usr/local/lib/python3.10/dist-packages (from pyasn1-modules>=0.2.1->google-auth>=2.15.0->google-generativeai->pgmpy) (0.6.1)\n",
            "Requirement already satisfied: charset-normalizer<4,>=2 in /usr/local/lib/python3.10/dist-packages (from requests<3.0.0.dev0,>=2.18.0->google-api-core->google-generativeai->pgmpy) (3.4.0)\n",
            "Requirement already satisfied: idna<4,>=2.5 in /usr/local/lib/python3.10/dist-packages (from requests<3.0.0.dev0,>=2.18.0->google-api-core->google-generativeai->pgmpy) (3.10)\n",
            "Requirement already satisfied: urllib3<3,>=1.21.1 in /usr/local/lib/python3.10/dist-packages (from requests<3.0.0.dev0,>=2.18.0->google-api-core->google-generativeai->pgmpy) (2.2.3)\n",
            "Requirement already satisfied: certifi>=2017.4.17 in /usr/local/lib/python3.10/dist-packages (from requests<3.0.0.dev0,>=2.18.0->google-api-core->google-generativeai->pgmpy) (2024.8.30)\n"
          ]
        }
      ]
    },
    {
      "cell_type": "code",
      "source": [
        "from pgmpy.models import BayesianNetwork\n",
        "from pgmpy.factors.discrete import TabularCPD"
      ],
      "metadata": {
        "id": "al4r2Uj1KgV-"
      },
      "execution_count": null,
      "outputs": []
    },
    {
      "cell_type": "code",
      "source": [
        "# Defining the network structure\n",
        "model = BayesianNetwork([(\"B\",\"A\"),(\"E\",\"A\"),(\"A\",\"J\"),(\"A\",\"M\")])"
      ],
      "metadata": {
        "id": "YnvEMAlpwLov"
      },
      "execution_count": null,
      "outputs": []
    },
    {
      "cell_type": "code",
      "source": [
        "# Defining the CPDs:\n",
        "cpd_b = TabularCPD(\"B\", 2, [[0.999], [0.001]])\n",
        "cpd_e = TabularCPD(\"E\", 2, [[0.998], [0.002]])\n",
        "cpd_a = TabularCPD(\"A\", 2, [[0.999,0.71,0.06,0.05], [0.001,0.29,0.94,0.95]], evidence=[\"B\",\"E\"], evidence_card=[2,2])\n",
        "cpd_j = TabularCPD(\"J\", 2, [[0.95,0.10],[0.05,0.90]], evidence=[\"A\"], evidence_card=[2])\n",
        "cpd_m = TabularCPD(\"M\", 2, [[0.99,0.30],[0.01,0.70]], evidence=[\"A\"], evidence_card=[2])"
      ],
      "metadata": {
        "id": "BTpyk7gHwdC8"
      },
      "execution_count": null,
      "outputs": []
    },
    {
      "cell_type": "code",
      "source": [
        "# Associating the CPDs with the network structure.\n",
        "model.add_cpds(cpd_b, cpd_e, cpd_a, cpd_j, cpd_m)"
      ],
      "metadata": {
        "id": "loE3UiDXxluC"
      },
      "execution_count": null,
      "outputs": []
    },
    {
      "cell_type": "code",
      "source": [
        "# Some other methods\n",
        "model.get_cpds()"
      ],
      "metadata": {
        "colab": {
          "base_uri": "https://localhost:8080/"
        },
        "id": "3gHEuwRmxy6l",
        "outputId": "323900db-188e-419c-cf4d-3c142a5d3b74"
      },
      "execution_count": null,
      "outputs": [
        {
          "output_type": "execute_result",
          "data": {
            "text/plain": [
              "[<TabularCPD representing P(B:2) at 0x797239222860>,\n",
              " <TabularCPD representing P(E:2) at 0x797239220c40>,\n",
              " <TabularCPD representing P(A:2 | B:2, E:2) at 0x7972392233d0>,\n",
              " <TabularCPD representing P(J:2 | A:2) at 0x7972392226b0>,\n",
              " <TabularCPD representing P(M:2 | A:2) at 0x7972392228c0>]"
            ]
          },
          "metadata": {},
          "execution_count": 39
        }
      ]
    },
    {
      "cell_type": "code",
      "source": [
        "import networkx as nx\n",
        "import matplotlib.pyplot as plt"
      ],
      "metadata": {
        "id": "-TwF53mqx313"
      },
      "execution_count": null,
      "outputs": []
    },
    {
      "cell_type": "code",
      "source": [
        "# Convert BayesianNetwork to a simple directed graph\n",
        "graph = nx.DiGraph(model.edges())\n",
        "# Draw the graph without custom styling options to avoid errors\n",
        "nx.draw(graph, with_labels=True, node_size=2000, node_color=\"lavender\", font_size=10)\n",
        "plt.show()"
      ],
      "metadata": {
        "colab": {
          "base_uri": "https://localhost:8080/",
          "height": 497
        },
        "id": "oAF85q7ry7FW",
        "outputId": "17f181bf-97df-41d6-dffb-b08821ad06f6"
      },
      "execution_count": null,
      "outputs": [
        {
          "output_type": "display_data",
          "data": {
            "text/plain": [
              "<Figure size 640x480 with 1 Axes>"
            ],
            "image/png": "[encoded data removed]"
          },
          "metadata": {}
        }
      ]
    },
    {
      "cell_type": "code",
      "source": [
        "print(cpd_b)\n",
        "print(cpd_e)\n",
        "print(cpd_a)\n",
        "print(cpd_j)\n",
        "print(cpd_m)"
      ],
      "metadata": {
        "colab": {
          "base_uri": "https://localhost:8080/"
        },
        "id": "nmpCVa1rymeN",
        "outputId": "69d0e21b-5722-4af2-8681-4f1af017c524"
      },
      "execution_count": null,
      "outputs": [
        {
          "output_type": "stream",
          "name": "stdout",
          "text": [
            "+------+-------+\n",
            "| B(0) | 0.999 |\n",
            "+------+-------+\n",
            "| B(1) | 0.001 |\n",
            "+------+-------+\n",
            "+------+-------+\n",
            "| E(0) | 0.998 |\n",
            "+------+-------+\n",
            "| E(1) | 0.002 |\n",
            "+------+-------+\n",
            "+------+-------+------+------+------+\n",
            "| B    | B(0)  | B(0) | B(1) | B(1) |\n",
            "+------+-------+------+------+------+\n",
            "| E    | E(0)  | E(1) | E(0) | E(1) |\n",
            "+------+-------+------+------+------+\n",
            "| A(0) | 0.999 | 0.71 | 0.06 | 0.05 |\n",
            "+------+-------+------+------+------+\n",
            "| A(1) | 0.001 | 0.29 | 0.94 | 0.95 |\n",
            "+------+-------+------+------+------+\n",
            "+------+------+------+\n",
            "| A    | A(0) | A(1) |\n",
            "+------+------+------+\n",
            "| J(0) | 0.95 | 0.1  |\n",
            "+------+------+------+\n",
            "| J(1) | 0.05 | 0.9  |\n",
            "+------+------+------+\n",
            "+------+------+------+\n",
            "| A    | A(0) | A(1) |\n",
            "+------+------+------+\n",
            "| M(0) | 0.99 | 0.3  |\n",
            "+------+------+------+\n",
            "| M(1) | 0.01 | 0.7  |\n",
            "+------+------+------+\n"
          ]
        }
      ]
    },
    {
      "cell_type": "code",
      "source": [
        "from pgmpy.inference import VariableElimination"
      ],
      "metadata": {
        "id": "NvnDF9lJ1PrV"
      },
      "execution_count": null,
      "outputs": []
    },
    {
      "cell_type": "code",
      "source": [
        "infer = VariableElimination(model)"
      ],
      "metadata": {
        "id": "IcNPo84A1aNf"
      },
      "execution_count": null,
      "outputs": []
    },
    {
      "cell_type": "code",
      "source": [
        "q = infer.query([\"M\"],{\"B\":1})\n",
        "print(q)"
      ],
      "metadata": {
        "colab": {
          "base_uri": "https://localhost:8080/"
        },
        "id": "AIgchzPv1flz",
        "outputId": "e9440a16-1903-434f-ee30-87332ac3b624"
      },
      "execution_count": null,
      "outputs": [
        {
          "output_type": "stream",
          "name": "stdout",
          "text": [
            "+------+----------+\n",
            "| M    |   phi(M) |\n",
            "+======+==========+\n",
            "| M(0) |   0.3414 |\n",
            "+------+----------+\n",
            "| M(1) |   0.6586 |\n",
            "+------+----------+\n"
          ]
        }
      ]
    },
    {
      "cell_type": "code",
      "source": [
        "q = infer.query([\"J\"],{\"M\":1})\n",
        "print(q)"
      ],
      "metadata": {
        "colab": {
          "base_uri": "https://localhost:8080/"
        },
        "id": "HhzWu1Km1sNr",
        "outputId": "196c7de8-8b80-47f1-e6ee-76b0b5fe79c0"
      },
      "execution_count": null,
      "outputs": [
        {
          "output_type": "stream",
          "name": "stdout",
          "text": [
            "+------+----------+\n",
            "| J    |   phi(J) |\n",
            "+======+==========+\n",
            "| J(0) |   0.8224 |\n",
            "+------+----------+\n",
            "| J(1) |   0.1776 |\n",
            "+------+----------+\n"
          ]
        }
      ]
    },
    {
      "cell_type": "code",
      "source": [],
      "metadata": {
        "id": "bUYZ5gUp3rT3"
      },
      "execution_count": null,
      "outputs": []
    }
  ]
}